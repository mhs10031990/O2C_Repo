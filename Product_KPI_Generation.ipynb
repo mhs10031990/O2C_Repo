{
 "cells": [
  {
   "cell_type": "markdown",
   "id": "0bcad55b-31a7-4ec6-99d1-5c1adce88d6e",
   "metadata": {},
   "source": [
    "# Use O2C_Template Customized Notebook Template"
   ]
  },
  {
   "cell_type": "code",
   "execution_count": 1,
   "id": "4545a18a-ac99-4a61-87eb-685a9fc1d216",
   "metadata": {},
   "outputs": [],
   "source": [
    "import pandas as pd\n",
    "import numpy as np"
   ]
  },
  {
   "cell_type": "code",
   "execution_count": 2,
   "id": "fe2d2323-ae3c-4027-b777-5c40e16db890",
   "metadata": {},
   "outputs": [],
   "source": [
    "from fosforml.model_manager.snowflakesession import get_session\n",
    "my_session = get_session()"
   ]
  },
  {
   "cell_type": "code",
   "execution_count": 27,
   "id": "b5958b79-ef81-46ec-8591-926b906584dd",
   "metadata": {},
   "outputs": [],
   "source": [
    "#table_name = 'ORDER_TO_CASH_ENRICHED'\n",
    "table_name = 'ORDER_TO_CASH_MASTER'\n",
    "\n",
    "sf_df = my_session.sql(\"select * from {}\".format(table_name))\n",
    "df = sf_df.to_pandas()"
   ]
  },
  {
   "cell_type": "code",
   "execution_count": 28,
   "id": "15e7624f-396b-45e9-8cc8-ac8322b6a092",
   "metadata": {},
   "outputs": [
    {
     "data": {
      "text/plain": [
       "array(['LATE_PAYMENT', 'ONTIME_PAYMENT', 'PendingApproval', 'Approved',\n",
       "       'Sent'], dtype=object)"
      ]
     },
     "execution_count": 28,
     "metadata": {},
     "output_type": "execute_result"
    }
   ],
   "source": [
    "df['INVOICESTATUS'].unique()"
   ]
  },
  {
   "cell_type": "code",
   "execution_count": 29,
   "id": "1b452a02-6961-49fb-b2cd-ad499a0d21d2",
   "metadata": {},
   "outputs": [],
   "source": [
    "df_train = df[df['INVOICESTATUS'].isin(['LATE_PAYMENT','ONTIME_PAYMENT'])]\n",
    "df_test = df[~df['INVOICESTATUS'].isin(['LATE_PAYMENT','ONTIME_PAYMENT'])]"
   ]
  },
  {
   "cell_type": "code",
   "execution_count": 30,
   "id": "48250bbd-0aab-4c5b-9f78-2bb14e4cee79",
   "metadata": {},
   "outputs": [
    {
     "data": {
      "text/plain": [
       "((170445, 40), (2992, 40))"
      ]
     },
     "execution_count": 30,
     "metadata": {},
     "output_type": "execute_result"
    }
   ],
   "source": [
    "df_train.shape, df_test.shape"
   ]
  },
  {
   "cell_type": "code",
   "execution_count": 31,
   "id": "70226af7-fcc9-46d6-abc8-27c28fb5105d",
   "metadata": {},
   "outputs": [],
   "source": [
    "df = df_train.copy()"
   ]
  },
  {
   "cell_type": "code",
   "execution_count": 32,
   "id": "cb32c411-0adf-4d39-9c8a-22613b925acc",
   "metadata": {},
   "outputs": [],
   "source": [
    "# Assuming df is your dataframe\n",
    "df['ORDERDATE'] = pd.to_datetime(df['ORDERDATE'])\n",
    "df['DELIVERYDATE'] = pd.to_datetime(df['DELIVERYDATE'])\n",
    "df['INVOICEDATE'] = pd.to_datetime(df['INVOICEDATE'])\n",
    "df['PAYMENTDATE'] = pd.to_datetime(df['PAYMENTDATE'])\n",
    "df['INVOICEDUEDATE'] = pd.to_datetime(df['INVOICEDUEDATE'])\n",
    "df['DELIVEREDON'] = pd.to_datetime(df['DELIVEREDON'])"
   ]
  },
  {
   "cell_type": "code",
   "execution_count": 33,
   "id": "983ba561-f1b5-40e7-9405-20ff02923632",
   "metadata": {},
   "outputs": [],
   "source": [
    "# Total Sales Volume\n",
    "total_sales_volume = df.groupby('PRODUCTID')['ORDERQUANTITY'].sum().reset_index(name='PR_TOTAL_SALES_VOLUME')"
   ]
  },
  {
   "cell_type": "code",
   "execution_count": 34,
   "id": "2ed48b85-e09f-4e55-9e55-c5c9b506142c",
   "metadata": {},
   "outputs": [],
   "source": [
    "# Total Sales Value\n",
    "total_sales_value = df.groupby('PRODUCTID')['ORDERVALUE'].sum().reset_index(name='PR_TOTAL_SALES_VALUE')"
   ]
  },
  {
   "cell_type": "code",
   "execution_count": 35,
   "id": "2dc22441-d7be-4b08-aa7e-ab020d325d8c",
   "metadata": {},
   "outputs": [],
   "source": [
    "# Average Order Quantity\n",
    "average_order_quantity = df.groupby('PRODUCTID')['ORDERQUANTITY'].mean().reset_index(name='PR_AVG_ORDER_QUANTITY')"
   ]
  },
  {
   "cell_type": "code",
   "execution_count": 36,
   "id": "da2c89f2-3253-4e98-9ae2-d9e819d96790",
   "metadata": {},
   "outputs": [],
   "source": [
    "# Average Unit Price\n",
    "average_unit_price = df.groupby('PRODUCTID')['UNITPRICE'].mean().reset_index(name='PR_AVG_UNIT_PRICE')"
   ]
  },
  {
   "cell_type": "code",
   "execution_count": 37,
   "id": "784f646a-7e88-4f3a-80c0-dfd5ce16b66c",
   "metadata": {},
   "outputs": [],
   "source": [
    "# Number of Orders\n",
    "number_of_orders = df.groupby('PRODUCTID')['ORDERID'].nunique().reset_index(name='PR_NUMBER_OF_ORDERS')"
   ]
  },
  {
   "cell_type": "code",
   "execution_count": 38,
   "id": "43e8bfd0-af7a-4e4f-8cd2-bf728449b091",
   "metadata": {},
   "outputs": [],
   "source": [
    "category_sales_volume = df.groupby('PRODUCTCATEGORY')['ORDERQUANTITY'].sum().reset_index(name='CAT_TOTAL_SALES_VOLUME')\n",
    "category_sales_value = df.groupby('PRODUCTCATEGORY')['ORDERVALUE'].sum().reset_index(name='CAT_TOTAL_SALES_VALUE')\n",
    "category_average_order_quantity = df.groupby('PRODUCTCATEGORY')['ORDERQUANTITY'].mean().reset_index(name='CAT_AVG_ORDER_QUANTITY')\n",
    "category_average_unit_price = df.groupby('PRODUCTCATEGORY')['UNITPRICE'].mean().reset_index(name='CAT_AVG_UNIT_PRICE')\n",
    "category_number_of_orders = df.groupby('PRODUCTCATEGORY')['ORDERID'].nunique().reset_index(name='CAT_NUMBER_OF_ORDERS')"
   ]
  },
  {
   "cell_type": "code",
   "execution_count": 41,
   "id": "50aed93d-eab5-400a-9f44-310a1fe12c08",
   "metadata": {},
   "outputs": [],
   "source": [
    "# Delivery Performance\n",
    "df['DELIVEREDON'] = pd.to_datetime(df['DELIVEREDON'])\n",
    "df['PR_DELIVERY_TIME'] = (df['DELIVEREDON'] - df['ORDERDATE']).dt.days\n",
    "delivery_performance = df.groupby('PRODUCTID')['PR_DELIVERY_TIME'].mean().reset_index(name='PR_AVG_DELIVERY_TIME')\n",
    "category_delivery_performance = df.groupby('PRODUCTCATEGORY')['PR_DELIVERY_TIME'].mean().reset_index(name='CAT_AVG_DELIVERY_TIME')"
   ]
  },
  {
   "cell_type": "code",
   "execution_count": 42,
   "id": "fb1ae1c4-229c-4bbf-997d-6c5abcee3b55",
   "metadata": {},
   "outputs": [],
   "source": [
    "# Invoice Performance\n",
    "df['PAYMENTDATE'] = pd.to_datetime(df['PAYMENTDATE'])\n",
    "df['PR_INVOICE_TIME'] = (df['PAYMENTDATE'] - df['INVOICEDATE']).dt.days\n",
    "invoice_performance = df.groupby('PRODUCTID')['PR_INVOICE_TIME'].mean().reset_index(name='PR_AVG_INVOICE_TIME')\n",
    "category_invoice_performance = df.groupby('PRODUCTCATEGORY')['PR_INVOICE_TIME'].mean().reset_index(name='CAT_AVG_INVOICE_TIME')"
   ]
  },
  {
   "cell_type": "code",
   "execution_count": 43,
   "id": "51a40baf-d791-4f13-98c8-f1efe7fa618e",
   "metadata": {},
   "outputs": [],
   "source": [
    "# Merge all KPIs into a single dataframe for PRODUCTID\n",
    "product_kpis = total_sales_volume.merge(total_sales_value, on='PRODUCTID') \\\n",
    "                                 .merge(average_order_quantity, on='PRODUCTID') \\\n",
    "                                 .merge(average_unit_price, on='PRODUCTID') \\\n",
    "                                 .merge(number_of_orders, on='PRODUCTID') \\\n",
    "                                 .merge(delivery_performance, on='PRODUCTID') \\\n",
    "                                 .merge(invoice_performance, on='PRODUCTID')"
   ]
  },
  {
   "cell_type": "code",
   "execution_count": 44,
   "id": "df3bc513-9a13-4590-b0a5-ea8b4b64a851",
   "metadata": {},
   "outputs": [],
   "source": [
    "# Merge all KPIs into a single dataframe for PRODUCTID\n",
    "category_kpis = category_sales_volume.merge(category_sales_value, on='PRODUCTCATEGORY') \\\n",
    "                                 .merge(category_average_order_quantity, on='PRODUCTCATEGORY') \\\n",
    "                                 .merge(category_average_unit_price, on='PRODUCTCATEGORY') \\\n",
    "                                 .merge(category_number_of_orders, on='PRODUCTCATEGORY') \\\n",
    "                                 .merge(category_delivery_performance, on='PRODUCTCATEGORY') \\\n",
    "                                 .merge(category_invoice_performance, on='PRODUCTCATEGORY')"
   ]
  },
  {
   "cell_type": "code",
   "execution_count": 45,
   "id": "5b5f02b0-a0c7-49df-acfc-ecd4080eec8e",
   "metadata": {},
   "outputs": [
    {
     "data": {
      "text/plain": [
       "(62, 8)"
      ]
     },
     "execution_count": 45,
     "metadata": {},
     "output_type": "execute_result"
    }
   ],
   "source": [
    "product_kpis.shape"
   ]
  },
  {
   "cell_type": "code",
   "execution_count": 46,
   "id": "fb76cd81-94c9-4d27-b71d-c52e70f70e07",
   "metadata": {},
   "outputs": [
    {
     "data": {
      "text/plain": [
       "(7, 8)"
      ]
     },
     "execution_count": 46,
     "metadata": {},
     "output_type": "execute_result"
    }
   ],
   "source": [
    "category_kpis.shape"
   ]
  },
  {
   "cell_type": "code",
   "execution_count": 47,
   "id": "725a94b8-532a-4dbb-b298-a63d499934a8",
   "metadata": {},
   "outputs": [
    {
     "data": {
      "text/html": [
       "<div>\n",
       "<style scoped>\n",
       "    .dataframe tbody tr th:only-of-type {\n",
       "        vertical-align: middle;\n",
       "    }\n",
       "\n",
       "    .dataframe tbody tr th {\n",
       "        vertical-align: top;\n",
       "    }\n",
       "\n",
       "    .dataframe thead th {\n",
       "        text-align: right;\n",
       "    }\n",
       "</style>\n",
       "<table border=\"1\" class=\"dataframe\">\n",
       "  <thead>\n",
       "    <tr style=\"text-align: right;\">\n",
       "      <th></th>\n",
       "      <th>PRODUCTCATEGORY</th>\n",
       "      <th>CAT_TOTAL_SALES_VOLUME</th>\n",
       "      <th>CAT_TOTAL_SALES_VALUE</th>\n",
       "      <th>CAT_AVG_ORDER_QUANTITY</th>\n",
       "      <th>CAT_AVG_UNIT_PRICE</th>\n",
       "      <th>CAT_NUMBER_OF_ORDERS</th>\n",
       "      <th>CAT_AVG_DELIVERY_TIME</th>\n",
       "      <th>CAT_AVG_INVOICE_TIME</th>\n",
       "    </tr>\n",
       "  </thead>\n",
       "  <tbody>\n",
       "    <tr>\n",
       "      <th>0</th>\n",
       "      <td>Automotive</td>\n",
       "      <td>12960780</td>\n",
       "      <td>442837278</td>\n",
       "      <td>821.030027</td>\n",
       "      <td>38.718421</td>\n",
       "      <td>7881</td>\n",
       "      <td>15.431648</td>\n",
       "      <td>23.397504</td>\n",
       "    </tr>\n",
       "    <tr>\n",
       "      <th>1</th>\n",
       "      <td>Construction Materials</td>\n",
       "      <td>39262752</td>\n",
       "      <td>1311431532</td>\n",
       "      <td>2162.164877</td>\n",
       "      <td>141.970428</td>\n",
       "      <td>9053</td>\n",
       "      <td>18.018558</td>\n",
       "      <td>27.287130</td>\n",
       "    </tr>\n",
       "    <tr>\n",
       "      <th>2</th>\n",
       "      <td>Consumer Goods</td>\n",
       "      <td>18861485</td>\n",
       "      <td>1227847878</td>\n",
       "      <td>521.409991</td>\n",
       "      <td>169.083568</td>\n",
       "      <td>18126</td>\n",
       "      <td>5.996766</td>\n",
       "      <td>26.511113</td>\n",
       "    </tr>\n",
       "    <tr>\n",
       "      <th>3</th>\n",
       "      <td>Food Beverages</td>\n",
       "      <td>64131918</td>\n",
       "      <td>513353051</td>\n",
       "      <td>1618.879667</td>\n",
       "      <td>6.880853</td>\n",
       "      <td>19683</td>\n",
       "      <td>5.993008</td>\n",
       "      <td>18.009592</td>\n",
       "    </tr>\n",
       "    <tr>\n",
       "      <th>4</th>\n",
       "      <td>Healthcare</td>\n",
       "      <td>30705201</td>\n",
       "      <td>414761779</td>\n",
       "      <td>1817.413495</td>\n",
       "      <td>20.433856</td>\n",
       "      <td>8478</td>\n",
       "      <td>9.009293</td>\n",
       "      <td>23.327848</td>\n",
       "    </tr>\n",
       "    <tr>\n",
       "      <th>5</th>\n",
       "      <td>Industrial Equipment</td>\n",
       "      <td>1348785</td>\n",
       "      <td>13029094260</td>\n",
       "      <td>97.272826</td>\n",
       "      <td>17754.954565</td>\n",
       "      <td>6888</td>\n",
       "      <td>18.022285</td>\n",
       "      <td>37.953411</td>\n",
       "    </tr>\n",
       "    <tr>\n",
       "      <th>6</th>\n",
       "      <td>Office Supplies</td>\n",
       "      <td>11852973</td>\n",
       "      <td>1790952920</td>\n",
       "      <td>395.758698</td>\n",
       "      <td>175.070684</td>\n",
       "      <td>14891</td>\n",
       "      <td>12.986144</td>\n",
       "      <td>29.402972</td>\n",
       "    </tr>\n",
       "  </tbody>\n",
       "</table>\n",
       "</div>"
      ],
      "text/plain": [
       "          PRODUCTCATEGORY  CAT_TOTAL_SALES_VOLUME  CAT_TOTAL_SALES_VALUE  \\\n",
       "0              Automotive                12960780              442837278   \n",
       "1  Construction Materials                39262752             1311431532   \n",
       "2          Consumer Goods                18861485             1227847878   \n",
       "3          Food Beverages                64131918              513353051   \n",
       "4              Healthcare                30705201              414761779   \n",
       "5    Industrial Equipment                 1348785            13029094260   \n",
       "6         Office Supplies                11852973             1790952920   \n",
       "\n",
       "   CAT_AVG_ORDER_QUANTITY  CAT_AVG_UNIT_PRICE  CAT_NUMBER_OF_ORDERS  \\\n",
       "0              821.030027           38.718421                  7881   \n",
       "1             2162.164877          141.970428                  9053   \n",
       "2              521.409991          169.083568                 18126   \n",
       "3             1618.879667            6.880853                 19683   \n",
       "4             1817.413495           20.433856                  8478   \n",
       "5               97.272826        17754.954565                  6888   \n",
       "6              395.758698          175.070684                 14891   \n",
       "\n",
       "   CAT_AVG_DELIVERY_TIME  CAT_AVG_INVOICE_TIME  \n",
       "0              15.431648             23.397504  \n",
       "1              18.018558             27.287130  \n",
       "2               5.996766             26.511113  \n",
       "3               5.993008             18.009592  \n",
       "4               9.009293             23.327848  \n",
       "5              18.022285             37.953411  \n",
       "6              12.986144             29.402972  "
      ]
     },
     "execution_count": 47,
     "metadata": {},
     "output_type": "execute_result"
    }
   ],
   "source": [
    "category_kpis"
   ]
  },
  {
   "cell_type": "code",
   "execution_count": 48,
   "id": "0346d7bd-16df-4f85-b0b2-629285fbd941",
   "metadata": {},
   "outputs": [],
   "source": [
    "# Merge the new features back into the original dataframe\n",
    "df = df.merge(product_kpis, on='PRODUCTID', how='left')"
   ]
  },
  {
   "cell_type": "code",
   "execution_count": 49,
   "id": "b7873302-1a92-4607-9489-58c4d9c9975d",
   "metadata": {},
   "outputs": [],
   "source": [
    "# Merge the new features back into the original dataframe\n",
    "df = df.merge(category_kpis, on='PRODUCTCATEGORY', how='left')"
   ]
  },
  {
   "cell_type": "code",
   "execution_count": 50,
   "id": "9b7efcaa-dc53-497d-9c42-768c1e1ca0c5",
   "metadata": {},
   "outputs": [
    {
     "data": {
      "text/plain": [
       "Index(['ORDERID', 'ORDERITEMID', 'PRODUCTID', 'PRODUCTNAME', 'ORDERQUANTITY',\n",
       "       'UNITPRICE', 'ORDERVALUE', 'CUSTOMERID', 'CUSTOMERNAME',\n",
       "       'PRODUCTCATEGORY', 'ORDERDATE', 'ORDERSTATUS', 'ORDERAMOUNT',\n",
       "       'ORDERCOUNT', 'SHIPMENTID', 'SHIPMENTDATE', 'DELIVERYDATE',\n",
       "       'DELIVEREDON', 'CARRIER', 'SHIPMENTSTATUS', 'INVOICEID', 'INVOICEDATE',\n",
       "       'INVOICEDUEDATE', 'PAYMENTDATE', 'INVOICESTATUS', 'PAYMENTMETHOD',\n",
       "       'PRODUCTTYPE', 'QUANTITY', 'COMPANYTYPE', 'CONTACTDETAILS',\n",
       "       'EMAILDETAILS', 'ADDRESSDETAILS', 'ADMINDETAILS', 'CREDITLIMIT',\n",
       "       'CUSTOMERSINCE', 'PAYMENTTERMS', 'CREDITLIMITTYPE', 'CUSTOMERTYPE',\n",
       "       'SUPPLIERNAME', 'SUPPLIERID', 'PR_DELIVERY_TIME', 'PR_INVOICE_TIME',\n",
       "       'PR_TOTAL_SALES_VOLUME', 'PR_TOTAL_SALES_VALUE',\n",
       "       'PR_AVG_ORDER_QUANTITY', 'PR_AVG_UNIT_PRICE', 'PR_NUMBER_OF_ORDERS',\n",
       "       'PR_AVG_DELIVERY_TIME', 'PR_AVG_INVOICE_TIME', 'CAT_TOTAL_SALES_VOLUME',\n",
       "       'CAT_TOTAL_SALES_VALUE', 'CAT_AVG_ORDER_QUANTITY', 'CAT_AVG_UNIT_PRICE',\n",
       "       'CAT_NUMBER_OF_ORDERS', 'CAT_AVG_DELIVERY_TIME',\n",
       "       'CAT_AVG_INVOICE_TIME'],\n",
       "      dtype='object')"
      ]
     },
     "execution_count": 50,
     "metadata": {},
     "output_type": "execute_result"
    }
   ],
   "source": [
    "df.columns"
   ]
  },
  {
   "cell_type": "code",
   "execution_count": 51,
   "id": "6355f1ef-2cfe-4928-85b2-e3bca24af1d7",
   "metadata": {},
   "outputs": [],
   "source": [
    "df = df[['PRODUCTID', 'PRODUCTNAME','PRODUCTCATEGORY','PRODUCTTYPE','UNITPRICE','QUANTITY',\n",
    "         'PR_TOTAL_SALES_VOLUME', 'PR_TOTAL_SALES_VALUE','PR_AVG_ORDER_QUANTITY', 'PR_AVG_UNIT_PRICE', 'PR_NUMBER_OF_ORDERS',\n",
    "         'PR_AVG_DELIVERY_TIME', 'PR_AVG_INVOICE_TIME', \n",
    "         'CAT_TOTAL_SALES_VOLUME','CAT_TOTAL_SALES_VALUE', 'CAT_AVG_ORDER_QUANTITY', 'CAT_AVG_UNIT_PRICE',\n",
    "         'CAT_NUMBER_OF_ORDERS', 'CAT_AVG_DELIVERY_TIME','CAT_AVG_INVOICE_TIME']]"
   ]
  },
  {
   "cell_type": "code",
   "execution_count": 52,
   "id": "31b01c4f-736b-4f0f-8c0c-36738a8b0e54",
   "metadata": {},
   "outputs": [
    {
     "data": {
      "text/html": [
       "<div>\n",
       "<style scoped>\n",
       "    .dataframe tbody tr th:only-of-type {\n",
       "        vertical-align: middle;\n",
       "    }\n",
       "\n",
       "    .dataframe tbody tr th {\n",
       "        vertical-align: top;\n",
       "    }\n",
       "\n",
       "    .dataframe thead th {\n",
       "        text-align: right;\n",
       "    }\n",
       "</style>\n",
       "<table border=\"1\" class=\"dataframe\">\n",
       "  <thead>\n",
       "    <tr style=\"text-align: right;\">\n",
       "      <th></th>\n",
       "      <th>PRODUCTID</th>\n",
       "      <th>PRODUCTNAME</th>\n",
       "      <th>PRODUCTCATEGORY</th>\n",
       "      <th>PRODUCTTYPE</th>\n",
       "      <th>UNITPRICE</th>\n",
       "      <th>QUANTITY</th>\n",
       "      <th>PR_TOTAL_SALES_VOLUME</th>\n",
       "      <th>PR_TOTAL_SALES_VALUE</th>\n",
       "      <th>PR_AVG_ORDER_QUANTITY</th>\n",
       "      <th>PR_AVG_UNIT_PRICE</th>\n",
       "      <th>PR_NUMBER_OF_ORDERS</th>\n",
       "      <th>PR_AVG_DELIVERY_TIME</th>\n",
       "      <th>PR_AVG_INVOICE_TIME</th>\n",
       "      <th>CAT_TOTAL_SALES_VOLUME</th>\n",
       "      <th>CAT_TOTAL_SALES_VALUE</th>\n",
       "      <th>CAT_AVG_ORDER_QUANTITY</th>\n",
       "      <th>CAT_AVG_UNIT_PRICE</th>\n",
       "      <th>CAT_NUMBER_OF_ORDERS</th>\n",
       "      <th>CAT_AVG_DELIVERY_TIME</th>\n",
       "      <th>CAT_AVG_INVOICE_TIME</th>\n",
       "    </tr>\n",
       "  </thead>\n",
       "  <tbody>\n",
       "    <tr>\n",
       "      <th>0</th>\n",
       "      <td>PID-f9cee340-35af-4ca9-a425-bf9ae02b9d9c</td>\n",
       "      <td>Energy Drink</td>\n",
       "      <td>Food Beverages</td>\n",
       "      <td>Energy Drink</td>\n",
       "      <td>7</td>\n",
       "      <td>5000</td>\n",
       "      <td>10017231</td>\n",
       "      <td>70120617</td>\n",
       "      <td>2517.524755</td>\n",
       "      <td>7.0</td>\n",
       "      <td>3979</td>\n",
       "      <td>5.992460</td>\n",
       "      <td>18.118874</td>\n",
       "      <td>64131918</td>\n",
       "      <td>513353051</td>\n",
       "      <td>1618.879667</td>\n",
       "      <td>6.880853</td>\n",
       "      <td>19683</td>\n",
       "      <td>5.993008</td>\n",
       "      <td>18.009592</td>\n",
       "    </tr>\n",
       "    <tr>\n",
       "      <th>1</th>\n",
       "      <td>PID-efe86bed-b844-4638-a39c-d0c5225d5243</td>\n",
       "      <td>Cold-Pressed Juice</td>\n",
       "      <td>Food Beverages</td>\n",
       "      <td>Cold-Pressed Juice</td>\n",
       "      <td>11</td>\n",
       "      <td>300</td>\n",
       "      <td>608786</td>\n",
       "      <td>6696646</td>\n",
       "      <td>152.846096</td>\n",
       "      <td>11.0</td>\n",
       "      <td>3983</td>\n",
       "      <td>5.989957</td>\n",
       "      <td>15.904846</td>\n",
       "      <td>64131918</td>\n",
       "      <td>513353051</td>\n",
       "      <td>1618.879667</td>\n",
       "      <td>6.880853</td>\n",
       "      <td>19683</td>\n",
       "      <td>5.993008</td>\n",
       "      <td>18.009592</td>\n",
       "    </tr>\n",
       "    <tr>\n",
       "      <th>2</th>\n",
       "      <td>PID-df71fb0e-604f-4ded-8a16-850f47932a2a</td>\n",
       "      <td>Bottled Water</td>\n",
       "      <td>Food Beverages</td>\n",
       "      <td>Bottled Water</td>\n",
       "      <td>5</td>\n",
       "      <td>10000</td>\n",
       "      <td>19956593</td>\n",
       "      <td>99782965</td>\n",
       "      <td>4976.706484</td>\n",
       "      <td>5.0</td>\n",
       "      <td>4010</td>\n",
       "      <td>6.023192</td>\n",
       "      <td>20.009476</td>\n",
       "      <td>64131918</td>\n",
       "      <td>513353051</td>\n",
       "      <td>1618.879667</td>\n",
       "      <td>6.880853</td>\n",
       "      <td>19683</td>\n",
       "      <td>5.993008</td>\n",
       "      <td>18.009592</td>\n",
       "    </tr>\n",
       "    <tr>\n",
       "      <th>3</th>\n",
       "      <td>PID-cd8a4e2e-7ba8-48a4-8f9b-1b3f287072aa</td>\n",
       "      <td>Spark Plugs</td>\n",
       "      <td>Automotive</td>\n",
       "      <td>Spark Plugs</td>\n",
       "      <td>4</td>\n",
       "      <td>2000</td>\n",
       "      <td>1666459</td>\n",
       "      <td>6665836</td>\n",
       "      <td>1022.367485</td>\n",
       "      <td>4.0</td>\n",
       "      <td>1630</td>\n",
       "      <td>15.368098</td>\n",
       "      <td>19.594479</td>\n",
       "      <td>12960780</td>\n",
       "      <td>442837278</td>\n",
       "      <td>821.030027</td>\n",
       "      <td>38.718421</td>\n",
       "      <td>7881</td>\n",
       "      <td>15.431648</td>\n",
       "      <td>23.397504</td>\n",
       "    </tr>\n",
       "    <tr>\n",
       "      <th>4</th>\n",
       "      <td>PID-6248f015-f5d2-40df-ba1d-48ed494badf9</td>\n",
       "      <td>Radiator Coolant</td>\n",
       "      <td>Automotive</td>\n",
       "      <td>Radiator Coolant</td>\n",
       "      <td>14</td>\n",
       "      <td>2000</td>\n",
       "      <td>1398538</td>\n",
       "      <td>19579532</td>\n",
       "      <td>991.167966</td>\n",
       "      <td>14.0</td>\n",
       "      <td>1411</td>\n",
       "      <td>15.593905</td>\n",
       "      <td>22.015592</td>\n",
       "      <td>12960780</td>\n",
       "      <td>442837278</td>\n",
       "      <td>821.030027</td>\n",
       "      <td>38.718421</td>\n",
       "      <td>7881</td>\n",
       "      <td>15.431648</td>\n",
       "      <td>23.397504</td>\n",
       "    </tr>\n",
       "  </tbody>\n",
       "</table>\n",
       "</div>"
      ],
      "text/plain": [
       "                                  PRODUCTID         PRODUCTNAME  \\\n",
       "0  PID-f9cee340-35af-4ca9-a425-bf9ae02b9d9c        Energy Drink   \n",
       "1  PID-efe86bed-b844-4638-a39c-d0c5225d5243  Cold-Pressed Juice   \n",
       "2  PID-df71fb0e-604f-4ded-8a16-850f47932a2a       Bottled Water   \n",
       "3  PID-cd8a4e2e-7ba8-48a4-8f9b-1b3f287072aa         Spark Plugs   \n",
       "4  PID-6248f015-f5d2-40df-ba1d-48ed494badf9    Radiator Coolant   \n",
       "\n",
       "  PRODUCTCATEGORY         PRODUCTTYPE  UNITPRICE  QUANTITY  \\\n",
       "0  Food Beverages        Energy Drink          7      5000   \n",
       "1  Food Beverages  Cold-Pressed Juice         11       300   \n",
       "2  Food Beverages       Bottled Water          5     10000   \n",
       "3      Automotive         Spark Plugs          4      2000   \n",
       "4      Automotive    Radiator Coolant         14      2000   \n",
       "\n",
       "   PR_TOTAL_SALES_VOLUME  PR_TOTAL_SALES_VALUE  PR_AVG_ORDER_QUANTITY  \\\n",
       "0               10017231              70120617            2517.524755   \n",
       "1                 608786               6696646             152.846096   \n",
       "2               19956593              99782965            4976.706484   \n",
       "3                1666459               6665836            1022.367485   \n",
       "4                1398538              19579532             991.167966   \n",
       "\n",
       "   PR_AVG_UNIT_PRICE  PR_NUMBER_OF_ORDERS  PR_AVG_DELIVERY_TIME  \\\n",
       "0                7.0                 3979              5.992460   \n",
       "1               11.0                 3983              5.989957   \n",
       "2                5.0                 4010              6.023192   \n",
       "3                4.0                 1630             15.368098   \n",
       "4               14.0                 1411             15.593905   \n",
       "\n",
       "   PR_AVG_INVOICE_TIME  CAT_TOTAL_SALES_VOLUME  CAT_TOTAL_SALES_VALUE  \\\n",
       "0            18.118874                64131918              513353051   \n",
       "1            15.904846                64131918              513353051   \n",
       "2            20.009476                64131918              513353051   \n",
       "3            19.594479                12960780              442837278   \n",
       "4            22.015592                12960780              442837278   \n",
       "\n",
       "   CAT_AVG_ORDER_QUANTITY  CAT_AVG_UNIT_PRICE  CAT_NUMBER_OF_ORDERS  \\\n",
       "0             1618.879667            6.880853                 19683   \n",
       "1             1618.879667            6.880853                 19683   \n",
       "2             1618.879667            6.880853                 19683   \n",
       "3              821.030027           38.718421                  7881   \n",
       "4              821.030027           38.718421                  7881   \n",
       "\n",
       "   CAT_AVG_DELIVERY_TIME  CAT_AVG_INVOICE_TIME  \n",
       "0               5.993008             18.009592  \n",
       "1               5.993008             18.009592  \n",
       "2               5.993008             18.009592  \n",
       "3              15.431648             23.397504  \n",
       "4              15.431648             23.397504  "
      ]
     },
     "execution_count": 52,
     "metadata": {},
     "output_type": "execute_result"
    }
   ],
   "source": [
    "df.head()"
   ]
  },
  {
   "cell_type": "code",
   "execution_count": 53,
   "id": "89e39ac1-c719-4582-a4ce-65f723d89e55",
   "metadata": {},
   "outputs": [
    {
     "data": {
      "text/plain": [
       "(170445, 20)"
      ]
     },
     "execution_count": 53,
     "metadata": {},
     "output_type": "execute_result"
    }
   ],
   "source": [
    "df.shape"
   ]
  },
  {
   "cell_type": "code",
   "execution_count": 54,
   "id": "e73ecf2e-3caf-4698-97b6-fda024bb92a3",
   "metadata": {},
   "outputs": [],
   "source": [
    "df = df.drop_duplicates()"
   ]
  },
  {
   "cell_type": "code",
   "execution_count": 55,
   "id": "3c74a4fd-7f66-4935-9433-f2c31839ef9c",
   "metadata": {},
   "outputs": [
    {
     "data": {
      "text/plain": [
       "(62, 20)"
      ]
     },
     "execution_count": 55,
     "metadata": {},
     "output_type": "execute_result"
    }
   ],
   "source": [
    "df.shape"
   ]
  },
  {
   "cell_type": "code",
   "execution_count": null,
   "id": "62acedb8-b6d6-4246-9466-c9766e2c4f03",
   "metadata": {},
   "outputs": [],
   "source": [
    "df_train_sf=my_session.createDataFrame(\n",
    "        df.values.tolist(),\n",
    "        schema=df.columns.tolist())\n",
    "df_train_sf.write.mode(\"overwrite\").save_as_table(\"FDC_HORIZONTAL.O2C_GOLD.ORDER_TO_CASH_PRODUCT_KPI\")"
   ]
  }
 ],
 "metadata": {
  "kernelspec": {
   "display_name": "Python 3 (ipykernel)",
   "language": "python",
   "name": "python3"
  },
  "language_info": {
   "codemirror_mode": {
    "name": "ipython",
    "version": 3
   },
   "file_extension": ".py",
   "mimetype": "text/x-python",
   "name": "python",
   "nbconvert_exporter": "python",
   "pygments_lexer": "ipython3",
   "version": "3.9.19"
  }
 },
 "nbformat": 4,
 "nbformat_minor": 5
}
