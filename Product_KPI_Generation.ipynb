{
 "cells": [
  {
   "cell_type": "markdown",
   "id": "0bcad55b-31a7-4ec6-99d1-5c1adce88d6e",
   "metadata": {},
   "source": [
    "# Use O2C_Template Customized Notebook Template"
   ]
  },
  {
   "cell_type": "code",
   "execution_count": 1,
   "id": "4545a18a-ac99-4a61-87eb-685a9fc1d216",
   "metadata": {},
   "outputs": [],
   "source": [
    "import pandas as pd\n",
    "import numpy as np"
   ]
  },
  {
   "cell_type": "code",
   "execution_count": 2,
   "id": "fe2d2323-ae3c-4027-b777-5c40e16db890",
   "metadata": {},
   "outputs": [],
   "source": [
    "from fosforml.model_manager.snowflakesession import get_session\n",
    "my_session = get_session()"
   ]
  },
  {
   "cell_type": "code",
   "execution_count": 3,
   "id": "b5958b79-ef81-46ec-8591-926b906584dd",
   "metadata": {},
   "outputs": [],
   "source": [
    "#table_name = 'ORDER_TO_CASH_ENRICHED'\n",
    "table_name = 'ORDER_TO_CASH_MASTER'\n",
    "\n",
    "sf_df = my_session.sql(\"select * from {}\".format(table_name))\n",
    "df = sf_df.to_pandas()"
   ]
  },
  {
   "cell_type": "code",
   "execution_count": 4,
   "id": "15e7624f-396b-45e9-8cc8-ac8322b6a092",
   "metadata": {},
   "outputs": [
    {
     "data": {
      "text/plain": [
       "INVOICESTATUS\n",
       "LATE_PAYMENT       87656\n",
       "ONTIME_PAYMENT     82789\n",
       "Approved            1167\n",
       "PendingApproval     1081\n",
       "Sent                 744\n",
       "Name: count, dtype: int64"
      ]
     },
     "execution_count": 4,
     "metadata": {},
     "output_type": "execute_result"
    }
   ],
   "source": [
    "df['INVOICESTATUS'].value_counts()"
   ]
  },
  {
   "cell_type": "code",
   "execution_count": 5,
   "id": "1b452a02-6961-49fb-b2cd-ad499a0d21d2",
   "metadata": {},
   "outputs": [
    {
     "ename": "ValueError",
     "evalue": "The truth value of a Series is ambiguous. Use a.empty, a.bool(), a.item(), a.any() or a.all().",
     "output_type": "error",
     "traceback": [
      "\u001b[0;31m---------------------------------------------------------------------------\u001b[0m",
      "\u001b[0;31mValueError\u001b[0m                                Traceback (most recent call last)",
      "\u001b[0;32m/tmp/ipykernel_29/2052044927.py\u001b[0m in \u001b[0;36m?\u001b[0;34m()\u001b[0m\n\u001b[0;32m----> 1\u001b[0;31m \u001b[0mdf\u001b[0m \u001b[0;34m=\u001b[0m \u001b[0mdf\u001b[0m\u001b[0;34m[\u001b[0m\u001b[0mdf\u001b[0m\u001b[0;34m[\u001b[0m\u001b[0;34m'INVOICESTATUS'\u001b[0m\u001b[0;34m]\u001b[0m \u001b[0;32min\u001b[0m \u001b[0;34m[\u001b[0m\u001b[0;34m'LATE_PAYMENT'\u001b[0m\u001b[0;34m,\u001b[0m\u001b[0;34m'ONTIME_PAYMENT'\u001b[0m\u001b[0;34m]\u001b[0m\u001b[0;34m]\u001b[0m\u001b[0;34m\u001b[0m\u001b[0;34m\u001b[0m\u001b[0m\n\u001b[0m\u001b[1;32m      2\u001b[0m \u001b[0mdf_new\u001b[0m \u001b[0;34m=\u001b[0m \u001b[0mdf\u001b[0m\u001b[0;34m[\u001b[0m\u001b[0mdf\u001b[0m\u001b[0;34m[\u001b[0m\u001b[0;34m'INVOICESTATUS'\u001b[0m\u001b[0;34m]\u001b[0m \u001b[0;32min\u001b[0m \u001b[0;34m[\u001b[0m\u001b[0;34m'Approved'\u001b[0m\u001b[0;34m,\u001b[0m\u001b[0;34m'PendingApproval'\u001b[0m\u001b[0;34m,\u001b[0m\u001b[0;34m'Sent'\u001b[0m\u001b[0;34m]\u001b[0m\u001b[0;34m]\u001b[0m\u001b[0;34m\u001b[0m\u001b[0;34m\u001b[0m\u001b[0m\n",
      "\u001b[0;32m/opt/conda/lib/python3.9/site-packages/pandas/core/generic.py\u001b[0m in \u001b[0;36m?\u001b[0;34m(self)\u001b[0m\n\u001b[1;32m   1574\u001b[0m     \u001b[0;34m@\u001b[0m\u001b[0mfinal\u001b[0m\u001b[0;34m\u001b[0m\u001b[0;34m\u001b[0m\u001b[0m\n\u001b[1;32m   1575\u001b[0m     \u001b[0;32mdef\u001b[0m \u001b[0m__nonzero__\u001b[0m\u001b[0;34m(\u001b[0m\u001b[0mself\u001b[0m\u001b[0;34m)\u001b[0m \u001b[0;34m->\u001b[0m \u001b[0mNoReturn\u001b[0m\u001b[0;34m:\u001b[0m\u001b[0;34m\u001b[0m\u001b[0;34m\u001b[0m\u001b[0m\n\u001b[0;32m-> 1576\u001b[0;31m         raise ValueError(\n\u001b[0m\u001b[1;32m   1577\u001b[0m             \u001b[0;34mf\"The truth value of a {type(self).__name__} is ambiguous. \"\u001b[0m\u001b[0;34m\u001b[0m\u001b[0;34m\u001b[0m\u001b[0m\n\u001b[1;32m   1578\u001b[0m             \u001b[0;34m\"Use a.empty, a.bool(), a.item(), a.any() or a.all().\"\u001b[0m\u001b[0;34m\u001b[0m\u001b[0;34m\u001b[0m\u001b[0m\n\u001b[1;32m   1579\u001b[0m         )\n",
      "\u001b[0;31mValueError\u001b[0m: The truth value of a Series is ambiguous. Use a.empty, a.bool(), a.item(), a.any() or a.all()."
     ]
    }
   ],
   "source": [
    "df = df[df['INVOICESTATUS'] in ['LATE_PAYMENT','ONTIME_PAYMENT']]\n",
    "df_new = df[df['INVOICESTATUS'] in ['Approved','PendingApproval','Sent']]"
   ]
  },
  {
   "cell_type": "code",
   "execution_count": 114,
   "id": "48250bbd-0aab-4c5b-9f78-2bb14e4cee79",
   "metadata": {},
   "outputs": [
    {
     "data": {
      "text/plain": [
       "((170290, 37), (0, 37))"
      ]
     },
     "execution_count": 114,
     "metadata": {},
     "output_type": "execute_result"
    }
   ],
   "source": [
    "df.shape, df_new.shape"
   ]
  },
  {
   "cell_type": "code",
   "execution_count": 115,
   "id": "cb32c411-0adf-4d39-9c8a-22613b925acc",
   "metadata": {},
   "outputs": [],
   "source": [
    "# Assuming df is your dataframe\n",
    "df['ORDERDATE'] = pd.to_datetime(df['ORDERDATE'])\n",
    "df['DELIVERYDATE'] = pd.to_datetime(df['DELIVERYDATE'])\n",
    "df['INVOICEDATE'] = pd.to_datetime(df['INVOICEDATE'])\n",
    "df['PAYMENTDATE'] = pd.to_datetime(df['PAYMENTDATE'])\n",
    "df['INVOICEDUEDATE'] = pd.to_datetime(df['INVOICEDUEDATE'])\n",
    "df['DELIVEREDON'] = pd.to_datetime(df['DELIVEREDON'])"
   ]
  },
  {
   "cell_type": "code",
   "execution_count": 116,
   "id": "983ba561-f1b5-40e7-9405-20ff02923632",
   "metadata": {},
   "outputs": [],
   "source": [
    "# Total Sales Volume\n",
    "total_sales_volume = df.groupby('PRODUCTID')['ORDERQUANTITY'].sum().reset_index(name='PR_TOTAL_SALES_VOLUME')"
   ]
  },
  {
   "cell_type": "code",
   "execution_count": 117,
   "id": "2ed48b85-e09f-4e55-9e55-c5c9b506142c",
   "metadata": {},
   "outputs": [],
   "source": [
    "# Total Sales Value\n",
    "total_sales_value = df.groupby('PRODUCTID')['ORDERVALUE'].sum().reset_index(name='PR_TOTAL_SALES_VALUE')"
   ]
  },
  {
   "cell_type": "code",
   "execution_count": 118,
   "id": "2dc22441-d7be-4b08-aa7e-ab020d325d8c",
   "metadata": {},
   "outputs": [],
   "source": [
    "# Average Order Quantity\n",
    "average_order_quantity = df.groupby('PRODUCTID')['ORDERQUANTITY'].mean().reset_index(name='PR_AVG_ORDER_QUANTITY')"
   ]
  },
  {
   "cell_type": "code",
   "execution_count": 119,
   "id": "da2c89f2-3253-4e98-9ae2-d9e819d96790",
   "metadata": {},
   "outputs": [],
   "source": [
    "# Average Unit Price\n",
    "average_unit_price = df.groupby('PRODUCTID')['UNITPRICE'].mean().reset_index(name='PR_AVG_UNIT_PRICE')"
   ]
  },
  {
   "cell_type": "code",
   "execution_count": 120,
   "id": "784f646a-7e88-4f3a-80c0-dfd5ce16b66c",
   "metadata": {},
   "outputs": [],
   "source": [
    "# Number of Orders\n",
    "number_of_orders = df.groupby('PRODUCTID')['ORDERID'].nunique().reset_index(name='PR_NUMBER_OF_ORDERS')"
   ]
  },
  {
   "cell_type": "code",
   "execution_count": 121,
   "id": "43e8bfd0-af7a-4e4f-8cd2-bf728449b091",
   "metadata": {},
   "outputs": [],
   "source": [
    "category_sales_volume = df.groupby('PRODUCTCATEGORY')['ORDERQUANTITY'].sum().reset_index(name='CAT_TOTAL_SALES_VOLUME')\n",
    "category_sales_value = df.groupby('PRODUCTCATEGORY')['ORDERVALUE'].sum().reset_index(name='CAT_TOTAL_SALES_VALUE')\n",
    "category_average_order_quantity = df.groupby('PRODUCTCATEGORY')['ORDERQUANTITY'].mean().reset_index(name='CAT_AVG_ORDER_QUANTITY')\n",
    "category_average_unit_price = df.groupby('PRODUCTCATEGORY')['UNITPRICE'].mean().reset_index(name='CAT_AVG_UNIT_PRICE')\n",
    "category_number_of_orders = df.groupby('PRODUCTCATEGORY')['ORDERID'].nunique().reset_index(name='CAT_NUMBER_OF_ORDERS')"
   ]
  },
  {
   "cell_type": "code",
   "execution_count": 122,
   "id": "d3dbc776-fd49-4b7b-981f-143e0f71675f",
   "metadata": {},
   "outputs": [
    {
     "data": {
      "text/html": [
       "<div>\n",
       "<style scoped>\n",
       "    .dataframe tbody tr th:only-of-type {\n",
       "        vertical-align: middle;\n",
       "    }\n",
       "\n",
       "    .dataframe tbody tr th {\n",
       "        vertical-align: top;\n",
       "    }\n",
       "\n",
       "    .dataframe thead th {\n",
       "        text-align: right;\n",
       "    }\n",
       "</style>\n",
       "<table border=\"1\" class=\"dataframe\">\n",
       "  <thead>\n",
       "    <tr style=\"text-align: right;\">\n",
       "      <th></th>\n",
       "      <th>PRODUCTID</th>\n",
       "      <th>PR_AVG_DELIVERY_TIME</th>\n",
       "    </tr>\n",
       "  </thead>\n",
       "  <tbody>\n",
       "    <tr>\n",
       "      <th>0</th>\n",
       "      <td>PID-064e463d-7de2-47bb-80f8-02b6fda2392a</td>\n",
       "      <td>8.454769</td>\n",
       "    </tr>\n",
       "    <tr>\n",
       "      <th>1</th>\n",
       "      <td>PID-08d031fd-c61f-47f3-b4d1-e9c79ba23b68</td>\n",
       "      <td>8.474123</td>\n",
       "    </tr>\n",
       "    <tr>\n",
       "      <th>2</th>\n",
       "      <td>PID-0952d502-dd95-42ff-8668-7551b8ba2d62</td>\n",
       "      <td>8.518086</td>\n",
       "    </tr>\n",
       "    <tr>\n",
       "      <th>3</th>\n",
       "      <td>PID-0dcaa3ac-5e13-4b31-b42a-70b594207dab</td>\n",
       "      <td>8.501065</td>\n",
       "    </tr>\n",
       "    <tr>\n",
       "      <th>4</th>\n",
       "      <td>PID-1194cfe3-dea0-496c-b865-3c38d22371cc</td>\n",
       "      <td>8.436611</td>\n",
       "    </tr>\n",
       "  </tbody>\n",
       "</table>\n",
       "</div>"
      ],
      "text/plain": [
       "                                  PRODUCTID  PR_AVG_DELIVERY_TIME\n",
       "0  PID-064e463d-7de2-47bb-80f8-02b6fda2392a              8.454769\n",
       "1  PID-08d031fd-c61f-47f3-b4d1-e9c79ba23b68              8.474123\n",
       "2  PID-0952d502-dd95-42ff-8668-7551b8ba2d62              8.518086\n",
       "3  PID-0dcaa3ac-5e13-4b31-b42a-70b594207dab              8.501065\n",
       "4  PID-1194cfe3-dea0-496c-b865-3c38d22371cc              8.436611"
      ]
     },
     "execution_count": 122,
     "metadata": {},
     "output_type": "execute_result"
    }
   ],
   "source": [
    "delivery_performance.head()"
   ]
  },
  {
   "cell_type": "code",
   "execution_count": 123,
   "id": "50aed93d-eab5-400a-9f44-310a1fe12c08",
   "metadata": {},
   "outputs": [],
   "source": [
    "# Delivery Performance\n",
    "df['DELIVEREDON'] = pd.to_datetime(df['DELIVEREDON'])\n",
    "df['PR_DELIVERY_TIME'] = (df['DELIVEREDON'] - df['ORDERDATE']).dt.days\n",
    "delivery_performance = df.groupby('PRODUCTID')['PR_DELIVERY_TIME'].mean().reset_index(name='PR_AVG_DELIVERY_TIME')\n",
    "category_delivery_performance = df.groupby('PRODUCTCATEGORY')['DELIVERY_TIME'].mean().reset_index(name='CAT_AVG_DELIVERY_TIME')"
   ]
  },
  {
   "cell_type": "code",
   "execution_count": 124,
   "id": "fb1ae1c4-229c-4bbf-997d-6c5abcee3b55",
   "metadata": {},
   "outputs": [],
   "source": [
    "# Invoice Performance\n",
    "df['PAYMENTDATE'] = pd.to_datetime(df['PAYMENTDATE'])\n",
    "df['PR_INVOICE_TIME'] = (df['PAYMENTDATE'] - df['INVOICEDATE']).dt.days\n",
    "invoice_performance = df.groupby('PRODUCTID')['PR_INVOICE_TIME'].mean().reset_index(name='PR_AVG_INVOICE_TIME')\n",
    "category_invoice_performance = df.groupby('PRODUCTCATEGORY')['INVOICE_TIME'].mean().reset_index(name='CAT_AVG_INVOICE_TIME')"
   ]
  },
  {
   "cell_type": "code",
   "execution_count": 125,
   "id": "51a40baf-d791-4f13-98c8-f1efe7fa618e",
   "metadata": {},
   "outputs": [],
   "source": [
    "# Merge all KPIs into a single dataframe for PRODUCTID\n",
    "product_kpis = total_sales_volume.merge(total_sales_value, on='PRODUCTID') \\\n",
    "                                 .merge(average_order_quantity, on='PRODUCTID') \\\n",
    "                                 .merge(average_unit_price, on='PRODUCTID') \\\n",
    "                                 .merge(number_of_orders, on='PRODUCTID') \\\n",
    "                                 .merge(delivery_performance, on='PRODUCTID') \\\n",
    "                                 .merge(invoice_performance, on='PRODUCTID')"
   ]
  },
  {
   "cell_type": "code",
   "execution_count": 126,
   "id": "df3bc513-9a13-4590-b0a5-ea8b4b64a851",
   "metadata": {},
   "outputs": [],
   "source": [
    "# Merge all KPIs into a single dataframe for PRODUCTID\n",
    "category_kpis = category_sales_volume.merge(category_sales_value, on='PRODUCTCATEGORY') \\\n",
    "                                 .merge(category_average_order_quantity, on='PRODUCTCATEGORY') \\\n",
    "                                 .merge(category_average_unit_price, on='PRODUCTCATEGORY') \\\n",
    "                                 .merge(category_number_of_orders, on='PRODUCTCATEGORY') \\\n",
    "                                 .merge(category_delivery_performance, on='PRODUCTCATEGORY') \\\n",
    "                                 .merge(category_invoice_performance, on='PRODUCTCATEGORY')"
   ]
  },
  {
   "cell_type": "code",
   "execution_count": 127,
   "id": "5b5f02b0-a0c7-49df-acfc-ecd4080eec8e",
   "metadata": {},
   "outputs": [
    {
     "data": {
      "text/plain": [
       "(62, 8)"
      ]
     },
     "execution_count": 127,
     "metadata": {},
     "output_type": "execute_result"
    }
   ],
   "source": [
    "product_kpis.shape"
   ]
  },
  {
   "cell_type": "code",
   "execution_count": 128,
   "id": "fb76cd81-94c9-4d27-b71d-c52e70f70e07",
   "metadata": {},
   "outputs": [
    {
     "data": {
      "text/plain": [
       "(7, 8)"
      ]
     },
     "execution_count": 128,
     "metadata": {},
     "output_type": "execute_result"
    }
   ],
   "source": [
    "category_kpis.shape"
   ]
  },
  {
   "cell_type": "code",
   "execution_count": 129,
   "id": "0346d7bd-16df-4f85-b0b2-629285fbd941",
   "metadata": {},
   "outputs": [],
   "source": [
    "# Merge the new features back into the original dataframe\n",
    "df = df.merge(product_kpis, on='PRODUCTID', how='left')"
   ]
  },
  {
   "cell_type": "code",
   "execution_count": 130,
   "id": "b7873302-1a92-4607-9489-58c4d9c9975d",
   "metadata": {},
   "outputs": [],
   "source": [
    "# Merge the new features back into the original dataframe\n",
    "df = df.merge(category_kpis, on='PRODUCTCATEGORY', how='left')"
   ]
  },
  {
   "cell_type": "code",
   "execution_count": 131,
   "id": "9b7efcaa-dc53-497d-9c42-768c1e1ca0c5",
   "metadata": {},
   "outputs": [
    {
     "data": {
      "text/plain": [
       "Index(['ORDERID', 'ORDERITEMID', 'PRODUCTID', 'PRODUCTNAME', 'ORDERQUANTITY',\n",
       "       'UNITPRICE', 'ORDERVALUE', 'CUSTOMERID', 'CUSTOMERNAME',\n",
       "       'PRODUCTCATEGORY', 'ORDERDATE', 'ORDERSTATUS', 'ORDERAMOUNT',\n",
       "       'ORDERCOUNT', 'SHIPMENTID', 'SHIPMENTDATE', 'DELIVERYDATE',\n",
       "       'DELIVEREDON', 'CARRIER', 'SHIPMENTSTATUS', 'INVOICEID', 'INVOICEDATE',\n",
       "       'INVOICEDUEDATE', 'PAYMENTDATE', 'INVOICESTATUS', 'PAYMENTMETHOD',\n",
       "       'PRODUCTTYPE', 'QUANTITY', 'NAME', 'COMPANYTYPE', 'CONTACTDETAILS',\n",
       "       'EMAILDETAILS', 'ADDRESSDETAILS', 'ADMINDETAILS', 'CREDITLIMIT',\n",
       "       'CREDITRATING', 'CUSTOMERTYPE', 'DELIVERY_TIME', 'INVOICE_TIME',\n",
       "       'PR_TOTAL_SALES_VOLUME', 'PR_TOTAL_SALES_VALUE',\n",
       "       'PR_AVG_ORDER_QUANTITY', 'PR_AVG_UNIT_PRICE', 'PR_NUMBER_OF_ORDERS',\n",
       "       'PR_AVG_DELIVERY_TIME', 'PR_AVG_INVOICE_TIME', 'CAT_TOTAL_SALES_VOLUME',\n",
       "       'CAT_TOTAL_SALES_VALUE', 'CAT_AVG_ORDER_QUANTITY', 'CAT_AVG_UNIT_PRICE',\n",
       "       'CAT_NUMBER_OF_ORDERS', 'CAT_AVG_DELIVERY_TIME',\n",
       "       'CAT_AVG_INVOICE_TIME'],\n",
       "      dtype='object')"
      ]
     },
     "execution_count": 131,
     "metadata": {},
     "output_type": "execute_result"
    }
   ],
   "source": [
    "df.columns"
   ]
  },
  {
   "cell_type": "code",
   "execution_count": 132,
   "id": "6355f1ef-2cfe-4928-85b2-e3bca24af1d7",
   "metadata": {},
   "outputs": [],
   "source": [
    "df = df[['PRODUCTID', 'PRODUCTNAME','PRODUCTCATEGORY','PRODUCTTYPE','UNITPRICE','QUANTITY',\n",
    "         'PR_TOTAL_SALES_VOLUME', 'PR_TOTAL_SALES_VALUE','PR_AVG_ORDER_QUANTITY', 'PR_AVG_UNIT_PRICE', 'PR_NUMBER_OF_ORDERS',\n",
    "         'PR_AVG_DELIVERY_TIME', 'PR_AVG_INVOICE_TIME', \n",
    "         'CAT_TOTAL_SALES_VOLUME','CAT_TOTAL_SALES_VALUE', 'CAT_AVG_ORDER_QUANTITY', 'CAT_AVG_UNIT_PRICE',\n",
    "         'CAT_NUMBER_OF_ORDERS', 'CAT_AVG_DELIVERY_TIME','CAT_AVG_INVOICE_TIME']]"
   ]
  },
  {
   "cell_type": "code",
   "execution_count": 133,
   "id": "31b01c4f-736b-4f0f-8c0c-36738a8b0e54",
   "metadata": {},
   "outputs": [
    {
     "data": {
      "text/html": [
       "<div>\n",
       "<style scoped>\n",
       "    .dataframe tbody tr th:only-of-type {\n",
       "        vertical-align: middle;\n",
       "    }\n",
       "\n",
       "    .dataframe tbody tr th {\n",
       "        vertical-align: top;\n",
       "    }\n",
       "\n",
       "    .dataframe thead th {\n",
       "        text-align: right;\n",
       "    }\n",
       "</style>\n",
       "<table border=\"1\" class=\"dataframe\">\n",
       "  <thead>\n",
       "    <tr style=\"text-align: right;\">\n",
       "      <th></th>\n",
       "      <th>PRODUCTID</th>\n",
       "      <th>PRODUCTNAME</th>\n",
       "      <th>PRODUCTCATEGORY</th>\n",
       "      <th>PRODUCTTYPE</th>\n",
       "      <th>UNITPRICE</th>\n",
       "      <th>QUANTITY</th>\n",
       "      <th>PR_TOTAL_SALES_VOLUME</th>\n",
       "      <th>PR_TOTAL_SALES_VALUE</th>\n",
       "      <th>PR_AVG_ORDER_QUANTITY</th>\n",
       "      <th>PR_AVG_UNIT_PRICE</th>\n",
       "      <th>PR_NUMBER_OF_ORDERS</th>\n",
       "      <th>PR_AVG_DELIVERY_TIME</th>\n",
       "      <th>PR_AVG_INVOICE_TIME</th>\n",
       "      <th>CAT_TOTAL_SALES_VOLUME</th>\n",
       "      <th>CAT_TOTAL_SALES_VALUE</th>\n",
       "      <th>CAT_AVG_ORDER_QUANTITY</th>\n",
       "      <th>CAT_AVG_UNIT_PRICE</th>\n",
       "      <th>CAT_NUMBER_OF_ORDERS</th>\n",
       "      <th>CAT_AVG_DELIVERY_TIME</th>\n",
       "      <th>CAT_AVG_INVOICE_TIME</th>\n",
       "    </tr>\n",
       "  </thead>\n",
       "  <tbody>\n",
       "    <tr>\n",
       "      <th>0</th>\n",
       "      <td>PID-4b87db26-edd8-4b4a-8143-adb85ba6dbe2</td>\n",
       "      <td>Insulation Material</td>\n",
       "      <td>Construction Materials</td>\n",
       "      <td>Insulation Material</td>\n",
       "      <td>2</td>\n",
       "      <td>10000</td>\n",
       "      <td>18260514</td>\n",
       "      <td>36521028</td>\n",
       "      <td>5024.907540</td>\n",
       "      <td>2.0</td>\n",
       "      <td>3634</td>\n",
       "      <td>8.531921</td>\n",
       "      <td>8.058888</td>\n",
       "      <td>39088690</td>\n",
       "      <td>1304027584</td>\n",
       "      <td>2158.761253</td>\n",
       "      <td>142.177390</td>\n",
       "      <td>9053</td>\n",
       "      <td>8.502844</td>\n",
       "      <td>8.032308</td>\n",
       "    </tr>\n",
       "    <tr>\n",
       "      <th>1</th>\n",
       "      <td>PID-89334032-db8d-4821-a9ad-5bd9a5305740</td>\n",
       "      <td>Cement</td>\n",
       "      <td>Construction Materials</td>\n",
       "      <td>Cement</td>\n",
       "      <td>100</td>\n",
       "      <td>500</td>\n",
       "      <td>912359</td>\n",
       "      <td>91235900</td>\n",
       "      <td>250.372942</td>\n",
       "      <td>100.0</td>\n",
       "      <td>3644</td>\n",
       "      <td>8.521679</td>\n",
       "      <td>8.071350</td>\n",
       "      <td>39088690</td>\n",
       "      <td>1304027584</td>\n",
       "      <td>2158.761253</td>\n",
       "      <td>142.177390</td>\n",
       "      <td>9053</td>\n",
       "      <td>8.502844</td>\n",
       "      <td>8.032308</td>\n",
       "    </tr>\n",
       "    <tr>\n",
       "      <th>2</th>\n",
       "      <td>PID-3e2ce142-a70d-4da4-8770-2079f75f43a9</td>\n",
       "      <td>Roofing Sheets</td>\n",
       "      <td>Construction Materials</td>\n",
       "      <td>Roofing Sheets</td>\n",
       "      <td>7</td>\n",
       "      <td>5000</td>\n",
       "      <td>9063971</td>\n",
       "      <td>63447797</td>\n",
       "      <td>2503.167909</td>\n",
       "      <td>7.0</td>\n",
       "      <td>3621</td>\n",
       "      <td>8.514499</td>\n",
       "      <td>8.038663</td>\n",
       "      <td>39088690</td>\n",
       "      <td>1304027584</td>\n",
       "      <td>2158.761253</td>\n",
       "      <td>142.177390</td>\n",
       "      <td>9053</td>\n",
       "      <td>8.502844</td>\n",
       "      <td>8.032308</td>\n",
       "    </tr>\n",
       "    <tr>\n",
       "      <th>3</th>\n",
       "      <td>PID-fec6ed6f-7ac1-4655-b4a7-9766cff15b7b</td>\n",
       "      <td>Engine Oil</td>\n",
       "      <td>Automotive</td>\n",
       "      <td>Engine Oil</td>\n",
       "      <td>40</td>\n",
       "      <td>1000</td>\n",
       "      <td>828858</td>\n",
       "      <td>33154320</td>\n",
       "      <td>507.878676</td>\n",
       "      <td>40.0</td>\n",
       "      <td>1632</td>\n",
       "      <td>8.404412</td>\n",
       "      <td>7.985907</td>\n",
       "      <td>13100980</td>\n",
       "      <td>443738184</td>\n",
       "      <td>829.438430</td>\n",
       "      <td>38.239696</td>\n",
       "      <td>7892</td>\n",
       "      <td>8.497752</td>\n",
       "      <td>7.915543</td>\n",
       "    </tr>\n",
       "    <tr>\n",
       "      <th>4</th>\n",
       "      <td>PID-8b2ea2ce-e1df-4139-b179-3e7f217a9f9b</td>\n",
       "      <td>Conveyor Belt</td>\n",
       "      <td>Industrial Equipment</td>\n",
       "      <td>Conveyor Belt</td>\n",
       "      <td>1000</td>\n",
       "      <td>1000</td>\n",
       "      <td>679669</td>\n",
       "      <td>679669000</td>\n",
       "      <td>504.579807</td>\n",
       "      <td>1000.0</td>\n",
       "      <td>1347</td>\n",
       "      <td>8.550854</td>\n",
       "      <td>7.939866</td>\n",
       "      <td>1316525</td>\n",
       "      <td>13397349740</td>\n",
       "      <td>94.415161</td>\n",
       "      <td>18058.703385</td>\n",
       "      <td>6945</td>\n",
       "      <td>8.492470</td>\n",
       "      <td>8.043890</td>\n",
       "    </tr>\n",
       "  </tbody>\n",
       "</table>\n",
       "</div>"
      ],
      "text/plain": [
       "                                  PRODUCTID          PRODUCTNAME  \\\n",
       "0  PID-4b87db26-edd8-4b4a-8143-adb85ba6dbe2  Insulation Material   \n",
       "1  PID-89334032-db8d-4821-a9ad-5bd9a5305740               Cement   \n",
       "2  PID-3e2ce142-a70d-4da4-8770-2079f75f43a9       Roofing Sheets   \n",
       "3  PID-fec6ed6f-7ac1-4655-b4a7-9766cff15b7b           Engine Oil   \n",
       "4  PID-8b2ea2ce-e1df-4139-b179-3e7f217a9f9b        Conveyor Belt   \n",
       "\n",
       "          PRODUCTCATEGORY          PRODUCTTYPE  UNITPRICE  QUANTITY  \\\n",
       "0  Construction Materials  Insulation Material          2     10000   \n",
       "1  Construction Materials               Cement        100       500   \n",
       "2  Construction Materials       Roofing Sheets          7      5000   \n",
       "3              Automotive           Engine Oil         40      1000   \n",
       "4    Industrial Equipment        Conveyor Belt       1000      1000   \n",
       "\n",
       "   PR_TOTAL_SALES_VOLUME  PR_TOTAL_SALES_VALUE  PR_AVG_ORDER_QUANTITY  \\\n",
       "0               18260514              36521028            5024.907540   \n",
       "1                 912359              91235900             250.372942   \n",
       "2                9063971              63447797            2503.167909   \n",
       "3                 828858              33154320             507.878676   \n",
       "4                 679669             679669000             504.579807   \n",
       "\n",
       "   PR_AVG_UNIT_PRICE  PR_NUMBER_OF_ORDERS  PR_AVG_DELIVERY_TIME  \\\n",
       "0                2.0                 3634              8.531921   \n",
       "1              100.0                 3644              8.521679   \n",
       "2                7.0                 3621              8.514499   \n",
       "3               40.0                 1632              8.404412   \n",
       "4             1000.0                 1347              8.550854   \n",
       "\n",
       "   PR_AVG_INVOICE_TIME  CAT_TOTAL_SALES_VOLUME  CAT_TOTAL_SALES_VALUE  \\\n",
       "0             8.058888                39088690             1304027584   \n",
       "1             8.071350                39088690             1304027584   \n",
       "2             8.038663                39088690             1304027584   \n",
       "3             7.985907                13100980              443738184   \n",
       "4             7.939866                 1316525            13397349740   \n",
       "\n",
       "   CAT_AVG_ORDER_QUANTITY  CAT_AVG_UNIT_PRICE  CAT_NUMBER_OF_ORDERS  \\\n",
       "0             2158.761253          142.177390                  9053   \n",
       "1             2158.761253          142.177390                  9053   \n",
       "2             2158.761253          142.177390                  9053   \n",
       "3              829.438430           38.239696                  7892   \n",
       "4               94.415161        18058.703385                  6945   \n",
       "\n",
       "   CAT_AVG_DELIVERY_TIME  CAT_AVG_INVOICE_TIME  \n",
       "0               8.502844              8.032308  \n",
       "1               8.502844              8.032308  \n",
       "2               8.502844              8.032308  \n",
       "3               8.497752              7.915543  \n",
       "4               8.492470              8.043890  "
      ]
     },
     "execution_count": 133,
     "metadata": {},
     "output_type": "execute_result"
    }
   ],
   "source": [
    "df.head()"
   ]
  },
  {
   "cell_type": "code",
   "execution_count": 134,
   "id": "89e39ac1-c719-4582-a4ce-65f723d89e55",
   "metadata": {},
   "outputs": [
    {
     "data": {
      "text/plain": [
       "(170290, 20)"
      ]
     },
     "execution_count": 134,
     "metadata": {},
     "output_type": "execute_result"
    }
   ],
   "source": [
    "df.shape"
   ]
  },
  {
   "cell_type": "code",
   "execution_count": 135,
   "id": "e73ecf2e-3caf-4698-97b6-fda024bb92a3",
   "metadata": {},
   "outputs": [],
   "source": [
    "df = df.drop_duplicates()"
   ]
  },
  {
   "cell_type": "code",
   "execution_count": 136,
   "id": "3c74a4fd-7f66-4935-9433-f2c31839ef9c",
   "metadata": {},
   "outputs": [
    {
     "data": {
      "text/plain": [
       "(62, 20)"
      ]
     },
     "execution_count": 136,
     "metadata": {},
     "output_type": "execute_result"
    }
   ],
   "source": [
    "df.shape"
   ]
  },
  {
   "cell_type": "code",
   "execution_count": 137,
   "id": "62acedb8-b6d6-4246-9466-c9766e2c4f03",
   "metadata": {},
   "outputs": [],
   "source": [
    "df_train_sf=my_session.createDataFrame(\n",
    "        df.values.tolist(),\n",
    "        schema=df.columns.tolist())\n",
    "df_train_sf.write.mode(\"overwrite\").save_as_table(\"FDC_HORIZONTAL.O2C_GOLD.ORDER_TO_CASH_PRODUCT_KPI\")"
   ]
  }
 ],
 "metadata": {
  "kernelspec": {
   "display_name": "Python 3 (ipykernel)",
   "language": "python",
   "name": "python3"
  },
  "language_info": {
   "codemirror_mode": {
    "name": "ipython",
    "version": 3
   },
   "file_extension": ".py",
   "mimetype": "text/x-python",
   "name": "python",
   "nbconvert_exporter": "python",
   "pygments_lexer": "ipython3",
   "version": "3.9.19"
  }
 },
 "nbformat": 4,
 "nbformat_minor": 5
}
