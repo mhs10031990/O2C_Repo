{
 "cells": [
  {
   "cell_type": "markdown",
   "id": "0bcad55b-31a7-4ec6-99d1-5c1adce88d6e",
   "metadata": {},
   "source": [
    "# Use O2C_Template Customized Notebook Template"
   ]
  },
  {
   "cell_type": "code",
   "execution_count": 1,
   "id": "4545a18a-ac99-4a61-87eb-685a9fc1d216",
   "metadata": {},
   "outputs": [],
   "source": [
    "import pandas as pd\n",
    "import numpy as np"
   ]
  },
  {
   "cell_type": "code",
   "execution_count": 2,
   "id": "fe2d2323-ae3c-4027-b777-5c40e16db890",
   "metadata": {},
   "outputs": [],
   "source": [
    "from fosforml.model_manager.snowflakesession import get_session\n",
    "my_session = get_session()"
   ]
  },
  {
   "cell_type": "code",
   "execution_count": 3,
   "id": "b5958b79-ef81-46ec-8591-926b906584dd",
   "metadata": {},
   "outputs": [],
   "source": [
    "table_name = 'ORDER_TO_CASH_ENRICHED'\n",
    "\n",
    "sf_df = my_session.sql(\"select * from {}\".format(table_name))\n",
    "df = sf_df.to_pandas()"
   ]
  },
  {
   "cell_type": "code",
   "execution_count": 4,
   "id": "1b452a02-6961-49fb-b2cd-ad499a0d21d2",
   "metadata": {},
   "outputs": [],
   "source": [
    "df = df[df['INVOICESTATUS'] == 'Paid']\n",
    "df_new = df[df['INVOICESTATUS'] != 'Paid']"
   ]
  },
  {
   "cell_type": "code",
   "execution_count": 5,
   "id": "48250bbd-0aab-4c5b-9f78-2bb14e4cee79",
   "metadata": {},
   "outputs": [
    {
     "data": {
      "text/plain": [
       "((170290, 37), (0, 37))"
      ]
     },
     "execution_count": 5,
     "metadata": {},
     "output_type": "execute_result"
    }
   ],
   "source": [
    "df.shape, df_new.shape"
   ]
  },
  {
   "cell_type": "code",
   "execution_count": 6,
   "id": "cb32c411-0adf-4d39-9c8a-22613b925acc",
   "metadata": {},
   "outputs": [],
   "source": [
    "# Assuming df is your dataframe\n",
    "df['ORDERDATE'] = pd.to_datetime(df['ORDERDATE'])\n",
    "df['DELIVERYDATE'] = pd.to_datetime(df['DELIVERYDATE'])\n",
    "df['INVOICEDATE'] = pd.to_datetime(df['INVOICEDATE'])\n",
    "df['PAYMENTDATE'] = pd.to_datetime(df['PAYMENTDATE'])\n",
    "df['INVOICEDUEDATE'] = pd.to_datetime(df['INVOICEDUEDATE'])\n",
    "df['DELIVEREDON'] = pd.to_datetime(df['DELIVEREDON'])"
   ]
  },
  {
   "cell_type": "code",
   "execution_count": 7,
   "id": "983ba561-f1b5-40e7-9405-20ff02923632",
   "metadata": {},
   "outputs": [],
   "source": [
    "# Total Sales Volume\n",
    "total_sales_volume = df.groupby('PRODUCTID')['ORDERQUANTITY'].sum().reset_index(name='Total Sales Volume')"
   ]
  },
  {
   "cell_type": "code",
   "execution_count": 8,
   "id": "2ed48b85-e09f-4e55-9e55-c5c9b506142c",
   "metadata": {},
   "outputs": [],
   "source": [
    "# Total Sales Value\n",
    "total_sales_value = df.groupby('PRODUCTID')['ORDERVALUE'].sum().reset_index(name='Total Sales Value')"
   ]
  },
  {
   "cell_type": "code",
   "execution_count": 9,
   "id": "2dc22441-d7be-4b08-aa7e-ab020d325d8c",
   "metadata": {},
   "outputs": [],
   "source": [
    "# Average Order Quantity\n",
    "average_order_quantity = df.groupby('PRODUCTID')['ORDERQUANTITY'].mean().reset_index(name='Average Order Quantity')"
   ]
  },
  {
   "cell_type": "code",
   "execution_count": 10,
   "id": "da2c89f2-3253-4e98-9ae2-d9e819d96790",
   "metadata": {},
   "outputs": [],
   "source": [
    "# Average Unit Price\n",
    "average_unit_price = df.groupby('PRODUCTID')['UNITPRICE'].mean().reset_index(name='Average Unit Price')"
   ]
  },
  {
   "cell_type": "code",
   "execution_count": 11,
   "id": "784f646a-7e88-4f3a-80c0-dfd5ce16b66c",
   "metadata": {},
   "outputs": [],
   "source": [
    "# Number of Orders\n",
    "number_of_orders = df.groupby('PRODUCTID')['ORDERID'].nunique().reset_index(name='Number of Orders')"
   ]
  },
  {
   "cell_type": "code",
   "execution_count": null,
   "id": "43e8bfd0-af7a-4e4f-8cd2-bf728449b091",
   "metadata": {},
   "outputs": [],
   "source": []
  },
  {
   "cell_type": "code",
   "execution_count": null,
   "id": "35abfb93-b5fb-408d-a963-43b7ba2963bb",
   "metadata": {},
   "outputs": [],
   "source": []
  },
  {
   "cell_type": "code",
   "execution_count": null,
   "id": "50aed93d-eab5-400a-9f44-310a1fe12c08",
   "metadata": {},
   "outputs": [],
   "source": []
  },
  {
   "cell_type": "code",
   "execution_count": null,
   "id": "fb1ae1c4-229c-4bbf-997d-6c5abcee3b55",
   "metadata": {},
   "outputs": [],
   "source": []
  },
  {
   "cell_type": "code",
   "execution_count": null,
   "id": "51a40baf-d791-4f13-98c8-f1efe7fa618e",
   "metadata": {},
   "outputs": [],
   "source": []
  },
  {
   "cell_type": "code",
   "execution_count": null,
   "id": "0346d7bd-16df-4f85-b0b2-629285fbd941",
   "metadata": {},
   "outputs": [],
   "source": []
  },
  {
   "cell_type": "code",
   "execution_count": null,
   "id": "89e39ac1-c719-4582-a4ce-65f723d89e55",
   "metadata": {},
   "outputs": [],
   "source": []
  },
  {
   "cell_type": "code",
   "execution_count": null,
   "id": "e73ecf2e-3caf-4698-97b6-fda024bb92a3",
   "metadata": {},
   "outputs": [],
   "source": []
  },
  {
   "cell_type": "code",
   "execution_count": 66,
   "id": "9621831e-a462-405a-938d-efcc4bffd455",
   "metadata": {},
   "outputs": [
    {
     "data": {
      "text/html": [
       "<div>\n",
       "<style scoped>\n",
       "    .dataframe tbody tr th:only-of-type {\n",
       "        vertical-align: middle;\n",
       "    }\n",
       "\n",
       "    .dataframe tbody tr th {\n",
       "        vertical-align: top;\n",
       "    }\n",
       "\n",
       "    .dataframe thead th {\n",
       "        text-align: right;\n",
       "    }\n",
       "</style>\n",
       "<table border=\"1\" class=\"dataframe\">\n",
       "  <thead>\n",
       "    <tr style=\"text-align: right;\">\n",
       "      <th></th>\n",
       "      <th>CUSTOMERID</th>\n",
       "      <th>CUSTOMERNAME</th>\n",
       "      <th>CREDITRATING</th>\n",
       "      <th>CUSTOMERTYPE</th>\n",
       "      <th>COMPANYTYPE</th>\n",
       "      <th>CONTACTDETAILS</th>\n",
       "      <th>EMAILDETAILS</th>\n",
       "      <th>ADDRESSDETAILS</th>\n",
       "      <th>ADMINDETAILS</th>\n",
       "      <th>CREDITLIMIT</th>\n",
       "      <th>...</th>\n",
       "      <th>PREFERRED_PRODUCT_TYPE</th>\n",
       "      <th>AVG_ORDER_PROCESSING_TIME</th>\n",
       "      <th>AVG_INVOICE_PROCESSING_TIME</th>\n",
       "      <th>AVG_DELIVERY_DELAY</th>\n",
       "      <th>AVG_PAYMENT_DELAY</th>\n",
       "      <th>TOTAL_DELAYS</th>\n",
       "      <th>ORDER_CONSISTENCY</th>\n",
       "      <th>INVOICE_CONSISTENCY</th>\n",
       "      <th>DELIVERY_CONSISTENCY</th>\n",
       "      <th>PAYMENT_CONSISTENCY</th>\n",
       "    </tr>\n",
       "  </thead>\n",
       "  <tbody>\n",
       "    <tr>\n",
       "      <th>0</th>\n",
       "      <td>CID-4a14e75e-cd20-44a1-9696-d5eb1746b894</td>\n",
       "      <td>Anabrige LLP</td>\n",
       "      <td>fair</td>\n",
       "      <td>Construction Materials</td>\n",
       "      <td>and Sons</td>\n",
       "      <td>3788905298</td>\n",
       "      <td>osbornecorey@merritt-patrick.com</td>\n",
       "      <td>5779 Michael Meadow\\nSouth Connorchester, VA 9...</td>\n",
       "      <td>New Jersey</td>\n",
       "      <td>59238</td>\n",
       "      <td>...</td>\n",
       "      <td>PVC Pipes</td>\n",
       "      <td>6.958333</td>\n",
       "      <td>8.415833</td>\n",
       "      <td>-1.441667</td>\n",
       "      <td>2.423333</td>\n",
       "      <td>1178</td>\n",
       "      <td>2.012454</td>\n",
       "      <td>4.301163</td>\n",
       "      <td>1.139889</td>\n",
       "      <td>4.363675</td>\n",
       "    </tr>\n",
       "    <tr>\n",
       "      <th>3</th>\n",
       "      <td>CID-f922f515-1a7a-4640-959a-3c2f093f4d47</td>\n",
       "      <td>FULCRO</td>\n",
       "      <td>very poor</td>\n",
       "      <td>Automotive</td>\n",
       "      <td>and Sons</td>\n",
       "      <td>860-913-5769x082</td>\n",
       "      <td>richard89@bryan-ayala.net</td>\n",
       "      <td>650 Peter Forks\\nSouth Tonyborough, FL 20143</td>\n",
       "      <td>New York</td>\n",
       "      <td>99235</td>\n",
       "      <td>...</td>\n",
       "      <td>Radiator Coolant</td>\n",
       "      <td>7.079389</td>\n",
       "      <td>7.890840</td>\n",
       "      <td>-1.519084</td>\n",
       "      <td>1.933588</td>\n",
       "      <td>543</td>\n",
       "      <td>2.009478</td>\n",
       "      <td>4.315604</td>\n",
       "      <td>1.094127</td>\n",
       "      <td>4.457354</td>\n",
       "    </tr>\n",
       "    <tr>\n",
       "      <th>4</th>\n",
       "      <td>CID-169eb6d1-27a1-4859-b7c8-5073ca1eb201</td>\n",
       "      <td>Taylor Ltd</td>\n",
       "      <td>good</td>\n",
       "      <td>Industrial Equipment</td>\n",
       "      <td>LLC</td>\n",
       "      <td>050.237.0903x440</td>\n",
       "      <td>kenneth06@jones.com</td>\n",
       "      <td>562 Melanie Curve Apt. 149\\nEast Kathleen, ID ...</td>\n",
       "      <td>South Carolina</td>\n",
       "      <td>53969</td>\n",
       "      <td>...</td>\n",
       "      <td>Industrial Robot</td>\n",
       "      <td>7.130435</td>\n",
       "      <td>8.052003</td>\n",
       "      <td>-1.472293</td>\n",
       "      <td>2.023870</td>\n",
       "      <td>647</td>\n",
       "      <td>2.027760</td>\n",
       "      <td>4.310261</td>\n",
       "      <td>1.165616</td>\n",
       "      <td>4.459079</td>\n",
       "    </tr>\n",
       "    <tr>\n",
       "      <th>6</th>\n",
       "      <td>CID-03ffafe5-c975-4691-9124-d7c65cdcef54</td>\n",
       "      <td>PrimeSource</td>\n",
       "      <td>good</td>\n",
       "      <td>Office Supplies</td>\n",
       "      <td>Inc</td>\n",
       "      <td>+1-029-747-3627</td>\n",
       "      <td>vazqueztracy@cole.com</td>\n",
       "      <td>35794 Miller River Apt. 153\\nEast Bruce, MO 93432</td>\n",
       "      <td>Arizona</td>\n",
       "      <td>23701</td>\n",
       "      <td>...</td>\n",
       "      <td>Office Stationery Set</td>\n",
       "      <td>7.017102</td>\n",
       "      <td>8.324032</td>\n",
       "      <td>-1.601260</td>\n",
       "      <td>2.335734</td>\n",
       "      <td>816</td>\n",
       "      <td>2.076613</td>\n",
       "      <td>4.180322</td>\n",
       "      <td>1.111106</td>\n",
       "      <td>4.246013</td>\n",
       "    </tr>\n",
       "    <tr>\n",
       "      <th>7</th>\n",
       "      <td>CID-e055738a-560d-469c-9e7e-2c27a25177b5</td>\n",
       "      <td>Visionary Solutions</td>\n",
       "      <td>very good</td>\n",
       "      <td>Food Beverages</td>\n",
       "      <td>Inc</td>\n",
       "      <td>705-417-3307x5777</td>\n",
       "      <td>paullindsey@parker-kelly.com</td>\n",
       "      <td>21856 Green Circles\\nMarymouth, NV 59842</td>\n",
       "      <td>Wyoming</td>\n",
       "      <td>91121</td>\n",
       "      <td>...</td>\n",
       "      <td>Gourmet Chocolate</td>\n",
       "      <td>6.931507</td>\n",
       "      <td>7.993151</td>\n",
       "      <td>-1.501712</td>\n",
       "      <td>1.994007</td>\n",
       "      <td>575</td>\n",
       "      <td>2.057969</td>\n",
       "      <td>4.330987</td>\n",
       "      <td>1.109280</td>\n",
       "      <td>4.394333</td>\n",
       "    </tr>\n",
       "  </tbody>\n",
       "</table>\n",
       "<p>5 rows × 26 columns</p>\n",
       "</div>"
      ],
      "text/plain": [
       "                                 CUSTOMERID         CUSTOMERNAME CREDITRATING  \\\n",
       "0  CID-4a14e75e-cd20-44a1-9696-d5eb1746b894         Anabrige LLP         fair   \n",
       "3  CID-f922f515-1a7a-4640-959a-3c2f093f4d47               FULCRO    very poor   \n",
       "4  CID-169eb6d1-27a1-4859-b7c8-5073ca1eb201           Taylor Ltd         good   \n",
       "6  CID-03ffafe5-c975-4691-9124-d7c65cdcef54          PrimeSource         good   \n",
       "7  CID-e055738a-560d-469c-9e7e-2c27a25177b5  Visionary Solutions    very good   \n",
       "\n",
       "             CUSTOMERTYPE COMPANYTYPE     CONTACTDETAILS  \\\n",
       "0  Construction Materials    and Sons         3788905298   \n",
       "3              Automotive    and Sons   860-913-5769x082   \n",
       "4    Industrial Equipment         LLC   050.237.0903x440   \n",
       "6         Office Supplies         Inc    +1-029-747-3627   \n",
       "7          Food Beverages         Inc  705-417-3307x5777   \n",
       "\n",
       "                       EMAILDETAILS  \\\n",
       "0  osbornecorey@merritt-patrick.com   \n",
       "3         richard89@bryan-ayala.net   \n",
       "4               kenneth06@jones.com   \n",
       "6             vazqueztracy@cole.com   \n",
       "7      paullindsey@parker-kelly.com   \n",
       "\n",
       "                                      ADDRESSDETAILS    ADMINDETAILS  \\\n",
       "0  5779 Michael Meadow\\nSouth Connorchester, VA 9...      New Jersey   \n",
       "3       650 Peter Forks\\nSouth Tonyborough, FL 20143        New York   \n",
       "4  562 Melanie Curve Apt. 149\\nEast Kathleen, ID ...  South Carolina   \n",
       "6  35794 Miller River Apt. 153\\nEast Bruce, MO 93432         Arizona   \n",
       "7           21856 Green Circles\\nMarymouth, NV 59842         Wyoming   \n",
       "\n",
       "   CREDITLIMIT  ...  PREFERRED_PRODUCT_TYPE  AVG_ORDER_PROCESSING_TIME  \\\n",
       "0        59238  ...               PVC Pipes                   6.958333   \n",
       "3        99235  ...        Radiator Coolant                   7.079389   \n",
       "4        53969  ...        Industrial Robot                   7.130435   \n",
       "6        23701  ...   Office Stationery Set                   7.017102   \n",
       "7        91121  ...       Gourmet Chocolate                   6.931507   \n",
       "\n",
       "   AVG_INVOICE_PROCESSING_TIME  AVG_DELIVERY_DELAY AVG_PAYMENT_DELAY  \\\n",
       "0                     8.415833           -1.441667          2.423333   \n",
       "3                     7.890840           -1.519084          1.933588   \n",
       "4                     8.052003           -1.472293          2.023870   \n",
       "6                     8.324032           -1.601260          2.335734   \n",
       "7                     7.993151           -1.501712          1.994007   \n",
       "\n",
       "  TOTAL_DELAYS ORDER_CONSISTENCY  INVOICE_CONSISTENCY  DELIVERY_CONSISTENCY  \\\n",
       "0         1178          2.012454             4.301163              1.139889   \n",
       "3          543          2.009478             4.315604              1.094127   \n",
       "4          647          2.027760             4.310261              1.165616   \n",
       "6          816          2.076613             4.180322              1.111106   \n",
       "7          575          2.057969             4.330987              1.109280   \n",
       "\n",
       "   PAYMENT_CONSISTENCY  \n",
       "0             4.363675  \n",
       "3             4.457354  \n",
       "4             4.459079  \n",
       "6             4.246013  \n",
       "7             4.394333  \n",
       "\n",
       "[5 rows x 26 columns]"
      ]
     },
     "execution_count": 66,
     "metadata": {},
     "output_type": "execute_result"
    }
   ],
   "source": [
    "df.head()"
   ]
  },
  {
   "cell_type": "code",
   "execution_count": 67,
   "id": "62acedb8-b6d6-4246-9466-c9766e2c4f03",
   "metadata": {},
   "outputs": [],
   "source": [
    "df_train_sf=my_session.createDataFrame(\n",
    "        df.values.tolist(),\n",
    "        schema=df.columns.tolist())\n",
    "df_train_sf.write.mode(\"overwrite\").save_as_table(\"FDC_HORIZONTAL.O2C_GOLD.ORDER_TO_CASH_PRODUCT_KPI\")"
   ]
  }
 ],
 "metadata": {
  "kernelspec": {
   "display_name": "Python 3 (ipykernel)",
   "language": "python",
   "name": "python3"
  },
  "language_info": {
   "codemirror_mode": {
    "name": "ipython",
    "version": 3
   },
   "file_extension": ".py",
   "mimetype": "text/x-python",
   "name": "python",
   "nbconvert_exporter": "python",
   "pygments_lexer": "ipython3",
   "version": "3.9.19"
  }
 },
 "nbformat": 4,
 "nbformat_minor": 5
}
