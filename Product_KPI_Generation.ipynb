{
 "cells": [
  {
   "cell_type": "markdown",
   "id": "0bcad55b-31a7-4ec6-99d1-5c1adce88d6e",
   "metadata": {},
   "source": [
    "# Use O2C_Template Customized Notebook Template"
   ]
  },
  {
   "cell_type": "code",
   "execution_count": 1,
   "id": "4545a18a-ac99-4a61-87eb-685a9fc1d216",
   "metadata": {},
   "outputs": [],
   "source": [
    "import pandas as pd\n",
    "import numpy as np"
   ]
  },
  {
   "cell_type": "code",
   "execution_count": 2,
   "id": "fe2d2323-ae3c-4027-b777-5c40e16db890",
   "metadata": {},
   "outputs": [],
   "source": [
    "from fosforml.model_manager.snowflakesession import get_session\n",
    "my_session = get_session()"
   ]
  },
  {
   "cell_type": "code",
   "execution_count": 3,
   "id": "b5958b79-ef81-46ec-8591-926b906584dd",
   "metadata": {},
   "outputs": [],
   "source": [
    "#table_name = 'ORDER_TO_CASH_ENRICHED'\n",
    "table_name = 'ORDER_TO_CASH_MASTER'\n",
    "\n",
    "sf_df = my_session.sql(\"select * from {}\".format(table_name))\n",
    "df = sf_df.to_pandas()"
   ]
  },
  {
   "cell_type": "code",
   "execution_count": 4,
   "id": "15e7624f-396b-45e9-8cc8-ac8322b6a092",
   "metadata": {},
   "outputs": [
    {
     "data": {
      "text/plain": [
       "array(['LATE_PAYMENT', 'ONTIME_PAYMENT', 'Approved', 'PendingApproval',\n",
       "       'Sent'], dtype=object)"
      ]
     },
     "execution_count": 4,
     "metadata": {},
     "output_type": "execute_result"
    }
   ],
   "source": [
    "df['INVOICESTATUS'].unique()"
   ]
  },
  {
   "cell_type": "code",
   "execution_count": 5,
   "id": "1b452a02-6961-49fb-b2cd-ad499a0d21d2",
   "metadata": {},
   "outputs": [],
   "source": [
    "df_train = df[df['INVOICESTATUS'].isin(['LATE_PAYMENT','ONTIME_PAYMENT'])]\n",
    "df_test = df[~df['INVOICESTATUS'].isin(['LATE_PAYMENT','ONTIME_PAYMENT'])]"
   ]
  },
  {
   "cell_type": "code",
   "execution_count": 6,
   "id": "48250bbd-0aab-4c5b-9f78-2bb14e4cee79",
   "metadata": {},
   "outputs": [
    {
     "data": {
      "text/plain": [
       "((170161, 40), (693, 40))"
      ]
     },
     "execution_count": 6,
     "metadata": {},
     "output_type": "execute_result"
    }
   ],
   "source": [
    "df_train.shape, df_test.shape"
   ]
  },
  {
   "cell_type": "code",
   "execution_count": 7,
   "id": "70226af7-fcc9-46d6-abc8-27c28fb5105d",
   "metadata": {},
   "outputs": [],
   "source": [
    "df = df_train.copy()"
   ]
  },
  {
   "cell_type": "code",
   "execution_count": 8,
   "id": "cb32c411-0adf-4d39-9c8a-22613b925acc",
   "metadata": {},
   "outputs": [],
   "source": [
    "# Assuming df is your dataframe\n",
    "df['ORDERDATE'] = pd.to_datetime(df['ORDERDATE'])\n",
    "df['DELIVERYDATE'] = pd.to_datetime(df['DELIVERYDATE'])\n",
    "df['INVOICEDATE'] = pd.to_datetime(df['INVOICEDATE'])\n",
    "df['PAYMENTDATE'] = pd.to_datetime(df['PAYMENTDATE'])\n",
    "df['INVOICEDUEDATE'] = pd.to_datetime(df['INVOICEDUEDATE'])\n",
    "df['DELIVEREDON'] = pd.to_datetime(df['DELIVEREDON'])"
   ]
  },
  {
   "cell_type": "code",
   "execution_count": 9,
   "id": "983ba561-f1b5-40e7-9405-20ff02923632",
   "metadata": {},
   "outputs": [],
   "source": [
    "# Total Sales Volume\n",
    "total_sales_volume = df.groupby('PRODUCTID')['ORDERQUANTITY'].sum().reset_index(name='PR_TOTAL_SALES_VOLUME')"
   ]
  },
  {
   "cell_type": "code",
   "execution_count": 10,
   "id": "2ed48b85-e09f-4e55-9e55-c5c9b506142c",
   "metadata": {},
   "outputs": [],
   "source": [
    "# Total Sales Value\n",
    "total_sales_value = df.groupby('PRODUCTID')['ORDERVALUE'].sum().reset_index(name='PR_TOTAL_SALES_VALUE')"
   ]
  },
  {
   "cell_type": "code",
   "execution_count": 11,
   "id": "2dc22441-d7be-4b08-aa7e-ab020d325d8c",
   "metadata": {},
   "outputs": [],
   "source": [
    "# Average Order Quantity\n",
    "average_order_quantity = df.groupby('PRODUCTID')['ORDERQUANTITY'].mean().reset_index(name='PR_AVG_ORDER_QUANTITY')"
   ]
  },
  {
   "cell_type": "code",
   "execution_count": 12,
   "id": "da2c89f2-3253-4e98-9ae2-d9e819d96790",
   "metadata": {},
   "outputs": [],
   "source": [
    "# Average Unit Price\n",
    "average_unit_price = df.groupby('PRODUCTID')['UNITPRICE'].mean().reset_index(name='PR_AVG_UNIT_PRICE')"
   ]
  },
  {
   "cell_type": "code",
   "execution_count": 13,
   "id": "784f646a-7e88-4f3a-80c0-dfd5ce16b66c",
   "metadata": {},
   "outputs": [],
   "source": [
    "# Number of Orders\n",
    "number_of_orders = df.groupby('PRODUCTID')['ORDERID'].nunique().reset_index(name='PR_NUMBER_OF_ORDERS')"
   ]
  },
  {
   "cell_type": "code",
   "execution_count": 14,
   "id": "43e8bfd0-af7a-4e4f-8cd2-bf728449b091",
   "metadata": {},
   "outputs": [],
   "source": [
    "category_sales_volume = df.groupby('PRODUCTCATEGORY')['ORDERQUANTITY'].sum().reset_index(name='CAT_TOTAL_SALES_VOLUME')\n",
    "category_sales_value = df.groupby('PRODUCTCATEGORY')['ORDERVALUE'].sum().reset_index(name='CAT_TOTAL_SALES_VALUE')\n",
    "category_average_order_quantity = df.groupby('PRODUCTCATEGORY')['ORDERQUANTITY'].mean().reset_index(name='CAT_AVG_ORDER_QUANTITY')\n",
    "category_average_unit_price = df.groupby('PRODUCTCATEGORY')['UNITPRICE'].mean().reset_index(name='CAT_AVG_UNIT_PRICE')\n",
    "category_number_of_orders = df.groupby('PRODUCTCATEGORY')['ORDERID'].nunique().reset_index(name='CAT_NUMBER_OF_ORDERS')"
   ]
  },
  {
   "cell_type": "code",
   "execution_count": 15,
   "id": "50aed93d-eab5-400a-9f44-310a1fe12c08",
   "metadata": {},
   "outputs": [],
   "source": [
    "# Delivery Performance\n",
    "df['DELIVEREDON'] = pd.to_datetime(df['DELIVEREDON'])\n",
    "df['PR_DELIVERY_TIME'] = (df['DELIVEREDON'] - df['ORDERDATE']).dt.days\n",
    "delivery_performance = df.groupby('PRODUCTID')['PR_DELIVERY_TIME'].mean().reset_index(name='PR_AVG_DELIVERY_TIME')\n",
    "category_delivery_performance = df.groupby('PRODUCTCATEGORY')['PR_DELIVERY_TIME'].mean().reset_index(name='CAT_AVG_DELIVERY_TIME')"
   ]
  },
  {
   "cell_type": "code",
   "execution_count": 16,
   "id": "fb1ae1c4-229c-4bbf-997d-6c5abcee3b55",
   "metadata": {},
   "outputs": [],
   "source": [
    "# Invoice Performance\n",
    "df['PAYMENTDATE'] = pd.to_datetime(df['PAYMENTDATE'])\n",
    "df['PR_INVOICE_TIME'] = (df['PAYMENTDATE'] - df['INVOICEDATE']).dt.days\n",
    "invoice_performance = df.groupby('PRODUCTID')['PR_INVOICE_TIME'].mean().reset_index(name='PR_AVG_INVOICE_TIME')\n",
    "category_invoice_performance = df.groupby('PRODUCTCATEGORY')['PR_INVOICE_TIME'].mean().reset_index(name='CAT_AVG_INVOICE_TIME')"
   ]
  },
  {
   "cell_type": "code",
   "execution_count": 17,
   "id": "51a40baf-d791-4f13-98c8-f1efe7fa618e",
   "metadata": {},
   "outputs": [],
   "source": [
    "# Merge all KPIs into a single dataframe for PRODUCTID\n",
    "product_kpis = total_sales_volume.merge(total_sales_value, on='PRODUCTID') \\\n",
    "                                 .merge(average_order_quantity, on='PRODUCTID') \\\n",
    "                                 .merge(average_unit_price, on='PRODUCTID') \\\n",
    "                                 .merge(number_of_orders, on='PRODUCTID') \\\n",
    "                                 .merge(delivery_performance, on='PRODUCTID') \\\n",
    "                                 .merge(invoice_performance, on='PRODUCTID')"
   ]
  },
  {
   "cell_type": "code",
   "execution_count": 18,
   "id": "df3bc513-9a13-4590-b0a5-ea8b4b64a851",
   "metadata": {},
   "outputs": [],
   "source": [
    "# Merge all KPIs into a single dataframe for PRODUCTID\n",
    "category_kpis = category_sales_volume.merge(category_sales_value, on='PRODUCTCATEGORY') \\\n",
    "                                 .merge(category_average_order_quantity, on='PRODUCTCATEGORY') \\\n",
    "                                 .merge(category_average_unit_price, on='PRODUCTCATEGORY') \\\n",
    "                                 .merge(category_number_of_orders, on='PRODUCTCATEGORY') \\\n",
    "                                 .merge(category_delivery_performance, on='PRODUCTCATEGORY') \\\n",
    "                                 .merge(category_invoice_performance, on='PRODUCTCATEGORY')"
   ]
  },
  {
   "cell_type": "code",
   "execution_count": 19,
   "id": "5b5f02b0-a0c7-49df-acfc-ecd4080eec8e",
   "metadata": {},
   "outputs": [
    {
     "data": {
      "text/plain": [
       "(62, 8)"
      ]
     },
     "execution_count": 19,
     "metadata": {},
     "output_type": "execute_result"
    }
   ],
   "source": [
    "product_kpis.shape"
   ]
  },
  {
   "cell_type": "code",
   "execution_count": 20,
   "id": "fb76cd81-94c9-4d27-b71d-c52e70f70e07",
   "metadata": {},
   "outputs": [
    {
     "data": {
      "text/plain": [
       "(7, 8)"
      ]
     },
     "execution_count": 20,
     "metadata": {},
     "output_type": "execute_result"
    }
   ],
   "source": [
    "category_kpis.shape"
   ]
  },
  {
   "cell_type": "code",
   "execution_count": 21,
   "id": "725a94b8-532a-4dbb-b298-a63d499934a8",
   "metadata": {},
   "outputs": [
    {
     "data": {
      "text/html": [
       "<div>\n",
       "<style scoped>\n",
       "    .dataframe tbody tr th:only-of-type {\n",
       "        vertical-align: middle;\n",
       "    }\n",
       "\n",
       "    .dataframe tbody tr th {\n",
       "        vertical-align: top;\n",
       "    }\n",
       "\n",
       "    .dataframe thead th {\n",
       "        text-align: right;\n",
       "    }\n",
       "</style>\n",
       "<table border=\"1\" class=\"dataframe\">\n",
       "  <thead>\n",
       "    <tr style=\"text-align: right;\">\n",
       "      <th></th>\n",
       "      <th>PRODUCTCATEGORY</th>\n",
       "      <th>CAT_TOTAL_SALES_VOLUME</th>\n",
       "      <th>CAT_TOTAL_SALES_VALUE</th>\n",
       "      <th>CAT_AVG_ORDER_QUANTITY</th>\n",
       "      <th>CAT_AVG_UNIT_PRICE</th>\n",
       "      <th>CAT_NUMBER_OF_ORDERS</th>\n",
       "      <th>CAT_AVG_DELIVERY_TIME</th>\n",
       "      <th>CAT_AVG_INVOICE_TIME</th>\n",
       "    </tr>\n",
       "  </thead>\n",
       "  <tbody>\n",
       "    <tr>\n",
       "      <th>0</th>\n",
       "      <td>Automotive</td>\n",
       "      <td>13194866</td>\n",
       "      <td>443409125</td>\n",
       "      <td>816.615051</td>\n",
       "      <td>38.336552</td>\n",
       "      <td>8046</td>\n",
       "      <td>15.471345</td>\n",
       "      <td>23.141045</td>\n",
       "    </tr>\n",
       "    <tr>\n",
       "      <th>1</th>\n",
       "      <td>Construction Materials</td>\n",
       "      <td>39572235</td>\n",
       "      <td>1352599137</td>\n",
       "      <td>2144.952843</td>\n",
       "      <td>144.119031</td>\n",
       "      <td>9194</td>\n",
       "      <td>18.004336</td>\n",
       "      <td>27.635861</td>\n",
       "    </tr>\n",
       "    <tr>\n",
       "      <th>2</th>\n",
       "      <td>Consumer Goods</td>\n",
       "      <td>18911904</td>\n",
       "      <td>1237150098</td>\n",
       "      <td>521.032151</td>\n",
       "      <td>169.860457</td>\n",
       "      <td>18151</td>\n",
       "      <td>6.012894</td>\n",
       "      <td>26.773783</td>\n",
       "    </tr>\n",
       "    <tr>\n",
       "      <th>3</th>\n",
       "      <td>Food Beverages</td>\n",
       "      <td>63455195</td>\n",
       "      <td>506713347</td>\n",
       "      <td>1615.951793</td>\n",
       "      <td>6.882372</td>\n",
       "      <td>19680</td>\n",
       "      <td>5.996766</td>\n",
       "      <td>18.014516</td>\n",
       "    </tr>\n",
       "    <tr>\n",
       "      <th>4</th>\n",
       "      <td>Healthcare</td>\n",
       "      <td>31056225</td>\n",
       "      <td>420747225</td>\n",
       "      <td>1813.925880</td>\n",
       "      <td>20.497810</td>\n",
       "      <td>8556</td>\n",
       "      <td>9.016763</td>\n",
       "      <td>23.339641</td>\n",
       "    </tr>\n",
       "    <tr>\n",
       "      <th>5</th>\n",
       "      <td>Industrial Equipment</td>\n",
       "      <td>1286433</td>\n",
       "      <td>12718312700</td>\n",
       "      <td>95.115194</td>\n",
       "      <td>17787.168946</td>\n",
       "      <td>6747</td>\n",
       "      <td>18.009982</td>\n",
       "      <td>37.853974</td>\n",
       "    </tr>\n",
       "    <tr>\n",
       "      <th>6</th>\n",
       "      <td>Office Supplies</td>\n",
       "      <td>11593445</td>\n",
       "      <td>1752937837</td>\n",
       "      <td>395.100876</td>\n",
       "      <td>174.639164</td>\n",
       "      <td>14626</td>\n",
       "      <td>12.996013</td>\n",
       "      <td>29.527996</td>\n",
       "    </tr>\n",
       "  </tbody>\n",
       "</table>\n",
       "</div>"
      ],
      "text/plain": [
       "          PRODUCTCATEGORY  CAT_TOTAL_SALES_VOLUME  CAT_TOTAL_SALES_VALUE  \\\n",
       "0              Automotive                13194866              443409125   \n",
       "1  Construction Materials                39572235             1352599137   \n",
       "2          Consumer Goods                18911904             1237150098   \n",
       "3          Food Beverages                63455195              506713347   \n",
       "4              Healthcare                31056225              420747225   \n",
       "5    Industrial Equipment                 1286433            12718312700   \n",
       "6         Office Supplies                11593445             1752937837   \n",
       "\n",
       "   CAT_AVG_ORDER_QUANTITY  CAT_AVG_UNIT_PRICE  CAT_NUMBER_OF_ORDERS  \\\n",
       "0              816.615051           38.336552                  8046   \n",
       "1             2144.952843          144.119031                  9194   \n",
       "2              521.032151          169.860457                 18151   \n",
       "3             1615.951793            6.882372                 19680   \n",
       "4             1813.925880           20.497810                  8556   \n",
       "5               95.115194        17787.168946                  6747   \n",
       "6              395.100876          174.639164                 14626   \n",
       "\n",
       "   CAT_AVG_DELIVERY_TIME  CAT_AVG_INVOICE_TIME  \n",
       "0              15.471345             23.141045  \n",
       "1              18.004336             27.635861  \n",
       "2               6.012894             26.773783  \n",
       "3               5.996766             18.014516  \n",
       "4               9.016763             23.339641  \n",
       "5              18.009982             37.853974  \n",
       "6              12.996013             29.527996  "
      ]
     },
     "execution_count": 21,
     "metadata": {},
     "output_type": "execute_result"
    }
   ],
   "source": [
    "category_kpis"
   ]
  },
  {
   "cell_type": "code",
   "execution_count": 22,
   "id": "0346d7bd-16df-4f85-b0b2-629285fbd941",
   "metadata": {},
   "outputs": [],
   "source": [
    "# Merge the new features back into the original dataframe\n",
    "df = df.merge(product_kpis, on='PRODUCTID', how='left')"
   ]
  },
  {
   "cell_type": "code",
   "execution_count": 23,
   "id": "b7873302-1a92-4607-9489-58c4d9c9975d",
   "metadata": {},
   "outputs": [],
   "source": [
    "# Merge the new features back into the original dataframe\n",
    "df = df.merge(category_kpis, on='PRODUCTCATEGORY', how='left')"
   ]
  },
  {
   "cell_type": "code",
   "execution_count": 24,
   "id": "9b7efcaa-dc53-497d-9c42-768c1e1ca0c5",
   "metadata": {},
   "outputs": [
    {
     "data": {
      "text/plain": [
       "Index(['ORDERID', 'ORDERITEMID', 'PRODUCTID', 'PRODUCTNAME', 'ORDERQUANTITY',\n",
       "       'UNITPRICE', 'ORDERVALUE', 'CUSTOMERID', 'CUSTOMERNAME',\n",
       "       'PRODUCTCATEGORY', 'ORDERDATE', 'ORDERSTATUS', 'ORDERAMOUNT',\n",
       "       'ORDERCOUNT', 'SHIPMENTID', 'SHIPMENTDATE', 'DELIVERYDATE',\n",
       "       'DELIVEREDON', 'CARRIER', 'SHIPMENTSTATUS', 'INVOICEID', 'INVOICEDATE',\n",
       "       'INVOICEDUEDATE', 'PAYMENTDATE', 'INVOICESTATUS', 'PAYMENTMETHOD',\n",
       "       'PRODUCTTYPE', 'QUANTITY', 'COMPANYTYPE', 'CONTACTDETAILS',\n",
       "       'EMAILDETAILS', 'ADDRESSDETAILS', 'ADMINDETAILS', 'CREDITLIMIT',\n",
       "       'CUSTOMERSINCE', 'PAYMENTTERMS', 'CREDITLIMITTYPE', 'CUSTOMERTYPE',\n",
       "       'SUPPLIERNAME', 'SUPPLIERID', 'PR_DELIVERY_TIME', 'PR_INVOICE_TIME',\n",
       "       'PR_TOTAL_SALES_VOLUME', 'PR_TOTAL_SALES_VALUE',\n",
       "       'PR_AVG_ORDER_QUANTITY', 'PR_AVG_UNIT_PRICE', 'PR_NUMBER_OF_ORDERS',\n",
       "       'PR_AVG_DELIVERY_TIME', 'PR_AVG_INVOICE_TIME', 'CAT_TOTAL_SALES_VOLUME',\n",
       "       'CAT_TOTAL_SALES_VALUE', 'CAT_AVG_ORDER_QUANTITY', 'CAT_AVG_UNIT_PRICE',\n",
       "       'CAT_NUMBER_OF_ORDERS', 'CAT_AVG_DELIVERY_TIME',\n",
       "       'CAT_AVG_INVOICE_TIME'],\n",
       "      dtype='object')"
      ]
     },
     "execution_count": 24,
     "metadata": {},
     "output_type": "execute_result"
    }
   ],
   "source": [
    "df.columns"
   ]
  },
  {
   "cell_type": "code",
   "execution_count": 25,
   "id": "6355f1ef-2cfe-4928-85b2-e3bca24af1d7",
   "metadata": {},
   "outputs": [],
   "source": [
    "df = df[['PRODUCTID', 'PRODUCTNAME','PRODUCTCATEGORY','PRODUCTTYPE','UNITPRICE','QUANTITY',\n",
    "         'PR_TOTAL_SALES_VOLUME', 'PR_TOTAL_SALES_VALUE','PR_AVG_ORDER_QUANTITY', 'PR_AVG_UNIT_PRICE', 'PR_NUMBER_OF_ORDERS',\n",
    "         'PR_AVG_DELIVERY_TIME', 'PR_AVG_INVOICE_TIME', \n",
    "         'CAT_TOTAL_SALES_VOLUME','CAT_TOTAL_SALES_VALUE', 'CAT_AVG_ORDER_QUANTITY', 'CAT_AVG_UNIT_PRICE',\n",
    "         'CAT_NUMBER_OF_ORDERS', 'CAT_AVG_DELIVERY_TIME','CAT_AVG_INVOICE_TIME']]"
   ]
  },
  {
   "cell_type": "code",
   "execution_count": 26,
   "id": "31b01c4f-736b-4f0f-8c0c-36738a8b0e54",
   "metadata": {},
   "outputs": [
    {
     "data": {
      "text/html": [
       "<div>\n",
       "<style scoped>\n",
       "    .dataframe tbody tr th:only-of-type {\n",
       "        vertical-align: middle;\n",
       "    }\n",
       "\n",
       "    .dataframe tbody tr th {\n",
       "        vertical-align: top;\n",
       "    }\n",
       "\n",
       "    .dataframe thead th {\n",
       "        text-align: right;\n",
       "    }\n",
       "</style>\n",
       "<table border=\"1\" class=\"dataframe\">\n",
       "  <thead>\n",
       "    <tr style=\"text-align: right;\">\n",
       "      <th></th>\n",
       "      <th>PRODUCTID</th>\n",
       "      <th>PRODUCTNAME</th>\n",
       "      <th>PRODUCTCATEGORY</th>\n",
       "      <th>PRODUCTTYPE</th>\n",
       "      <th>UNITPRICE</th>\n",
       "      <th>QUANTITY</th>\n",
       "      <th>PR_TOTAL_SALES_VOLUME</th>\n",
       "      <th>PR_TOTAL_SALES_VALUE</th>\n",
       "      <th>PR_AVG_ORDER_QUANTITY</th>\n",
       "      <th>PR_AVG_UNIT_PRICE</th>\n",
       "      <th>PR_NUMBER_OF_ORDERS</th>\n",
       "      <th>PR_AVG_DELIVERY_TIME</th>\n",
       "      <th>PR_AVG_INVOICE_TIME</th>\n",
       "      <th>CAT_TOTAL_SALES_VOLUME</th>\n",
       "      <th>CAT_TOTAL_SALES_VALUE</th>\n",
       "      <th>CAT_AVG_ORDER_QUANTITY</th>\n",
       "      <th>CAT_AVG_UNIT_PRICE</th>\n",
       "      <th>CAT_NUMBER_OF_ORDERS</th>\n",
       "      <th>CAT_AVG_DELIVERY_TIME</th>\n",
       "      <th>CAT_AVG_INVOICE_TIME</th>\n",
       "    </tr>\n",
       "  </thead>\n",
       "  <tbody>\n",
       "    <tr>\n",
       "      <th>0</th>\n",
       "      <td>PID-78d4f6e9-b17b-4218-adeb-7fd1fa823fa4</td>\n",
       "      <td>Cement</td>\n",
       "      <td>Construction Materials</td>\n",
       "      <td>Cement</td>\n",
       "      <td>100</td>\n",
       "      <td>500</td>\n",
       "      <td>913278</td>\n",
       "      <td>91327800</td>\n",
       "      <td>247.032188</td>\n",
       "      <td>100.0</td>\n",
       "      <td>3697</td>\n",
       "      <td>18.025697</td>\n",
       "      <td>25.788207</td>\n",
       "      <td>39572235</td>\n",
       "      <td>1352599137</td>\n",
       "      <td>2144.952843</td>\n",
       "      <td>144.119031</td>\n",
       "      <td>9194</td>\n",
       "      <td>18.004336</td>\n",
       "      <td>27.635861</td>\n",
       "    </tr>\n",
       "    <tr>\n",
       "      <th>1</th>\n",
       "      <td>PID-42bd316c-176f-4ba7-aa56-79b05f5f9c3d</td>\n",
       "      <td>PVC Pipes</td>\n",
       "      <td>Construction Materials</td>\n",
       "      <td>PVC Pipes</td>\n",
       "      <td>3</td>\n",
       "      <td>5000</td>\n",
       "      <td>9189233</td>\n",
       "      <td>27567699</td>\n",
       "      <td>2492.333333</td>\n",
       "      <td>3.0</td>\n",
       "      <td>3687</td>\n",
       "      <td>17.998373</td>\n",
       "      <td>24.348793</td>\n",
       "      <td>39572235</td>\n",
       "      <td>1352599137</td>\n",
       "      <td>2144.952843</td>\n",
       "      <td>144.119031</td>\n",
       "      <td>9194</td>\n",
       "      <td>18.004336</td>\n",
       "      <td>27.635861</td>\n",
       "    </tr>\n",
       "    <tr>\n",
       "      <th>2</th>\n",
       "      <td>PID-0125b151-daca-429b-8e3c-7af9f65e8f18</td>\n",
       "      <td>Insulation Material</td>\n",
       "      <td>Construction Materials</td>\n",
       "      <td>Insulation Material</td>\n",
       "      <td>2</td>\n",
       "      <td>10000</td>\n",
       "      <td>18257565</td>\n",
       "      <td>36515130</td>\n",
       "      <td>4969.397115</td>\n",
       "      <td>2.0</td>\n",
       "      <td>3674</td>\n",
       "      <td>18.059336</td>\n",
       "      <td>24.339684</td>\n",
       "      <td>39572235</td>\n",
       "      <td>1352599137</td>\n",
       "      <td>2144.952843</td>\n",
       "      <td>144.119031</td>\n",
       "      <td>9194</td>\n",
       "      <td>18.004336</td>\n",
       "      <td>27.635861</td>\n",
       "    </tr>\n",
       "    <tr>\n",
       "      <th>3</th>\n",
       "      <td>PID-0125b151-daca-429b-8e3c-7af9f65e8f18</td>\n",
       "      <td>Insulation Material</td>\n",
       "      <td>Construction Materials</td>\n",
       "      <td>Insulation Material</td>\n",
       "      <td>2</td>\n",
       "      <td>10000</td>\n",
       "      <td>18257565</td>\n",
       "      <td>36515130</td>\n",
       "      <td>4969.397115</td>\n",
       "      <td>2.0</td>\n",
       "      <td>3674</td>\n",
       "      <td>18.059336</td>\n",
       "      <td>24.339684</td>\n",
       "      <td>39572235</td>\n",
       "      <td>1352599137</td>\n",
       "      <td>2144.952843</td>\n",
       "      <td>144.119031</td>\n",
       "      <td>9194</td>\n",
       "      <td>18.004336</td>\n",
       "      <td>27.635861</td>\n",
       "    </tr>\n",
       "    <tr>\n",
       "      <th>4</th>\n",
       "      <td>PID-42bd316c-176f-4ba7-aa56-79b05f5f9c3d</td>\n",
       "      <td>PVC Pipes</td>\n",
       "      <td>Construction Materials</td>\n",
       "      <td>PVC Pipes</td>\n",
       "      <td>3</td>\n",
       "      <td>5000</td>\n",
       "      <td>9189233</td>\n",
       "      <td>27567699</td>\n",
       "      <td>2492.333333</td>\n",
       "      <td>3.0</td>\n",
       "      <td>3687</td>\n",
       "      <td>17.998373</td>\n",
       "      <td>24.348793</td>\n",
       "      <td>39572235</td>\n",
       "      <td>1352599137</td>\n",
       "      <td>2144.952843</td>\n",
       "      <td>144.119031</td>\n",
       "      <td>9194</td>\n",
       "      <td>18.004336</td>\n",
       "      <td>27.635861</td>\n",
       "    </tr>\n",
       "  </tbody>\n",
       "</table>\n",
       "</div>"
      ],
      "text/plain": [
       "                                  PRODUCTID          PRODUCTNAME  \\\n",
       "0  PID-78d4f6e9-b17b-4218-adeb-7fd1fa823fa4               Cement   \n",
       "1  PID-42bd316c-176f-4ba7-aa56-79b05f5f9c3d            PVC Pipes   \n",
       "2  PID-0125b151-daca-429b-8e3c-7af9f65e8f18  Insulation Material   \n",
       "3  PID-0125b151-daca-429b-8e3c-7af9f65e8f18  Insulation Material   \n",
       "4  PID-42bd316c-176f-4ba7-aa56-79b05f5f9c3d            PVC Pipes   \n",
       "\n",
       "          PRODUCTCATEGORY          PRODUCTTYPE  UNITPRICE  QUANTITY  \\\n",
       "0  Construction Materials               Cement        100       500   \n",
       "1  Construction Materials            PVC Pipes          3      5000   \n",
       "2  Construction Materials  Insulation Material          2     10000   \n",
       "3  Construction Materials  Insulation Material          2     10000   \n",
       "4  Construction Materials            PVC Pipes          3      5000   \n",
       "\n",
       "   PR_TOTAL_SALES_VOLUME  PR_TOTAL_SALES_VALUE  PR_AVG_ORDER_QUANTITY  \\\n",
       "0                 913278              91327800             247.032188   \n",
       "1                9189233              27567699            2492.333333   \n",
       "2               18257565              36515130            4969.397115   \n",
       "3               18257565              36515130            4969.397115   \n",
       "4                9189233              27567699            2492.333333   \n",
       "\n",
       "   PR_AVG_UNIT_PRICE  PR_NUMBER_OF_ORDERS  PR_AVG_DELIVERY_TIME  \\\n",
       "0              100.0                 3697             18.025697   \n",
       "1                3.0                 3687             17.998373   \n",
       "2                2.0                 3674             18.059336   \n",
       "3                2.0                 3674             18.059336   \n",
       "4                3.0                 3687             17.998373   \n",
       "\n",
       "   PR_AVG_INVOICE_TIME  CAT_TOTAL_SALES_VOLUME  CAT_TOTAL_SALES_VALUE  \\\n",
       "0            25.788207                39572235             1352599137   \n",
       "1            24.348793                39572235             1352599137   \n",
       "2            24.339684                39572235             1352599137   \n",
       "3            24.339684                39572235             1352599137   \n",
       "4            24.348793                39572235             1352599137   \n",
       "\n",
       "   CAT_AVG_ORDER_QUANTITY  CAT_AVG_UNIT_PRICE  CAT_NUMBER_OF_ORDERS  \\\n",
       "0             2144.952843          144.119031                  9194   \n",
       "1             2144.952843          144.119031                  9194   \n",
       "2             2144.952843          144.119031                  9194   \n",
       "3             2144.952843          144.119031                  9194   \n",
       "4             2144.952843          144.119031                  9194   \n",
       "\n",
       "   CAT_AVG_DELIVERY_TIME  CAT_AVG_INVOICE_TIME  \n",
       "0              18.004336             27.635861  \n",
       "1              18.004336             27.635861  \n",
       "2              18.004336             27.635861  \n",
       "3              18.004336             27.635861  \n",
       "4              18.004336             27.635861  "
      ]
     },
     "execution_count": 26,
     "metadata": {},
     "output_type": "execute_result"
    }
   ],
   "source": [
    "df.head()"
   ]
  },
  {
   "cell_type": "code",
   "execution_count": 27,
   "id": "89e39ac1-c719-4582-a4ce-65f723d89e55",
   "metadata": {},
   "outputs": [
    {
     "data": {
      "text/plain": [
       "(170161, 20)"
      ]
     },
     "execution_count": 27,
     "metadata": {},
     "output_type": "execute_result"
    }
   ],
   "source": [
    "df.shape"
   ]
  },
  {
   "cell_type": "code",
   "execution_count": 28,
   "id": "e73ecf2e-3caf-4698-97b6-fda024bb92a3",
   "metadata": {},
   "outputs": [],
   "source": [
    "df = df.drop_duplicates()"
   ]
  },
  {
   "cell_type": "code",
   "execution_count": 29,
   "id": "3c74a4fd-7f66-4935-9433-f2c31839ef9c",
   "metadata": {},
   "outputs": [
    {
     "data": {
      "text/plain": [
       "(62, 20)"
      ]
     },
     "execution_count": 29,
     "metadata": {},
     "output_type": "execute_result"
    }
   ],
   "source": [
    "df.shape"
   ]
  },
  {
   "cell_type": "code",
   "execution_count": 30,
   "id": "62acedb8-b6d6-4246-9466-c9766e2c4f03",
   "metadata": {},
   "outputs": [],
   "source": [
    "df_train_sf=my_session.createDataFrame(\n",
    "        df.values.tolist(),\n",
    "        schema=df.columns.tolist())\n",
    "df_train_sf.write.mode(\"overwrite\").save_as_table(\"FDC_HORIZONTAL.O2C_GOLD.ORDER_TO_CASH_PRODUCT_KPI\")"
   ]
  }
 ],
 "metadata": {
  "kernelspec": {
   "display_name": "Python 3 (ipykernel)",
   "language": "python",
   "name": "python3"
  },
  "language_info": {
   "codemirror_mode": {
    "name": "ipython",
    "version": 3
   },
   "file_extension": ".py",
   "mimetype": "text/x-python",
   "name": "python",
   "nbconvert_exporter": "python",
   "pygments_lexer": "ipython3",
   "version": "3.9.19"
  }
 },
 "nbformat": 4,
 "nbformat_minor": 5
}
