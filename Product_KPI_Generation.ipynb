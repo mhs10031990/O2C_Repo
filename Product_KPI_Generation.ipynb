{
 "cells": [
  {
   "cell_type": "markdown",
   "id": "0bcad55b-31a7-4ec6-99d1-5c1adce88d6e",
   "metadata": {},
   "source": [
    "# Use O2C_Template Customized Notebook Template"
   ]
  },
  {
   "cell_type": "code",
   "execution_count": 1,
   "id": "4545a18a-ac99-4a61-87eb-685a9fc1d216",
   "metadata": {},
   "outputs": [],
   "source": [
    "import pandas as pd\n",
    "import numpy as np"
   ]
  },
  {
   "cell_type": "code",
   "execution_count": 2,
   "id": "fe2d2323-ae3c-4027-b777-5c40e16db890",
   "metadata": {},
   "outputs": [],
   "source": [
    "from fosforml.model_manager.snowflakesession import get_session\n",
    "my_session = get_session()"
   ]
  },
  {
   "cell_type": "code",
   "execution_count": 3,
   "id": "b5958b79-ef81-46ec-8591-926b906584dd",
   "metadata": {},
   "outputs": [],
   "source": [
    "table_name = 'ORDER_TO_CASH_ENRICHED'\n",
    "\n",
    "sf_df = my_session.sql(\"select * from {}\".format(table_name))\n",
    "df = sf_df.to_pandas()"
   ]
  },
  {
   "cell_type": "code",
   "execution_count": 4,
   "id": "1b452a02-6961-49fb-b2cd-ad499a0d21d2",
   "metadata": {},
   "outputs": [],
   "source": [
    "df = df[df['INVOICESTATUS'] == 'Paid']\n",
    "df_new = df[df['INVOICESTATUS'] != 'Paid']"
   ]
  },
  {
   "cell_type": "code",
   "execution_count": 5,
   "id": "48250bbd-0aab-4c5b-9f78-2bb14e4cee79",
   "metadata": {},
   "outputs": [
    {
     "data": {
      "text/plain": [
       "((170290, 37), (0, 37))"
      ]
     },
     "execution_count": 5,
     "metadata": {},
     "output_type": "execute_result"
    }
   ],
   "source": [
    "df.shape, df_new.shape"
   ]
  },
  {
   "cell_type": "code",
   "execution_count": 6,
   "id": "cb32c411-0adf-4d39-9c8a-22613b925acc",
   "metadata": {},
   "outputs": [],
   "source": [
    "# Assuming df is your dataframe\n",
    "df['ORDERDATE'] = pd.to_datetime(df['ORDERDATE'])\n",
    "df['DELIVERYDATE'] = pd.to_datetime(df['DELIVERYDATE'])\n",
    "df['INVOICEDATE'] = pd.to_datetime(df['INVOICEDATE'])\n",
    "df['PAYMENTDATE'] = pd.to_datetime(df['PAYMENTDATE'])\n",
    "df['INVOICEDUEDATE'] = pd.to_datetime(df['INVOICEDUEDATE'])\n",
    "df['DELIVEREDON'] = pd.to_datetime(df['DELIVEREDON'])"
   ]
  },
  {
   "cell_type": "code",
   "execution_count": 7,
   "id": "983ba561-f1b5-40e7-9405-20ff02923632",
   "metadata": {},
   "outputs": [],
   "source": [
    "# Total Sales Volume\n",
    "total_sales_volume = df.groupby('PRODUCTID')['ORDERQUANTITY'].sum().reset_index(name='Total Sales Volume')"
   ]
  },
  {
   "cell_type": "code",
   "execution_count": 8,
   "id": "2ed48b85-e09f-4e55-9e55-c5c9b506142c",
   "metadata": {},
   "outputs": [],
   "source": [
    "# Total Sales Value\n",
    "total_sales_value = df.groupby('PRODUCTID')['ORDERVALUE'].sum().reset_index(name='Total Sales Value')"
   ]
  },
  {
   "cell_type": "code",
   "execution_count": 9,
   "id": "2dc22441-d7be-4b08-aa7e-ab020d325d8c",
   "metadata": {},
   "outputs": [],
   "source": [
    "# Average Order Quantity\n",
    "average_order_quantity = df.groupby('PRODUCTID')['ORDERQUANTITY'].mean().reset_index(name='Average Order Quantity')"
   ]
  },
  {
   "cell_type": "code",
   "execution_count": 10,
   "id": "da2c89f2-3253-4e98-9ae2-d9e819d96790",
   "metadata": {},
   "outputs": [],
   "source": [
    "# Average Unit Price\n",
    "average_unit_price = df.groupby('PRODUCTID')['UNITPRICE'].mean().reset_index(name='Average Unit Price')"
   ]
  },
  {
   "cell_type": "code",
   "execution_count": 11,
   "id": "784f646a-7e88-4f3a-80c0-dfd5ce16b66c",
   "metadata": {},
   "outputs": [],
   "source": [
    "# Number of Orders\n",
    "number_of_orders = df.groupby('PRODUCTID')['ORDERID'].nunique().reset_index(name='Number of Orders')"
   ]
  },
  {
   "cell_type": "code",
   "execution_count": 12,
   "id": "43e8bfd0-af7a-4e4f-8cd2-bf728449b091",
   "metadata": {},
   "outputs": [],
   "source": [
    "category_sales_volume = df.groupby('PRODUCTCATEGORY')['ORDERQUANTITY'].sum().reset_index(name='Total Sales Volume')\n",
    "category_sales_value = df.groupby('PRODUCTCATEGORY')['ORDERVALUE'].sum().reset_index(name='Total Sales Value')\n",
    "category_average_order_quantity = df.groupby('PRODUCTCATEGORY')['ORDERQUANTITY'].mean().reset_index(name='Average Order Quantity')\n",
    "category_average_unit_price = df.groupby('PRODUCTCATEGORY')['UNITPRICE'].mean().reset_index(name='Average Unit Price')\n",
    "category_number_of_orders = df.groupby('PRODUCTCATEGORY')['ORDERID'].nunique().reset_index(name='Number of Orders')"
   ]
  },
  {
   "cell_type": "code",
   "execution_count": 13,
   "id": "35abfb93-b5fb-408d-a963-43b7ba2963bb",
   "metadata": {},
   "outputs": [],
   "source": [
    "type_sales_volume = df.groupby('PRODUCTTYPE')['ORDERQUANTITY'].sum().reset_index(name='Total Sales Volume')\n",
    "type_sales_value = df.groupby('PRODUCTTYPE')['ORDERVALUE'].sum().reset_index(name='Total Sales Value')\n",
    "type_average_order_quantity = df.groupby('PRODUCTTYPE')['ORDERQUANTITY'].mean().reset_index(name='Average Order Quantity')\n",
    "type_average_unit_price = df.groupby('PRODUCTTYPE')['UNITPRICE'].mean().reset_index(name='Average Unit Price')\n",
    "type_number_of_orders = df.groupby('PRODUCTTYPE')['ORDERID'].nunique().reset_index(name='Number of Orders')"
   ]
  },
  {
   "cell_type": "code",
   "execution_count": 14,
   "id": "50aed93d-eab5-400a-9f44-310a1fe12c08",
   "metadata": {},
   "outputs": [],
   "source": [
    "# Delivery Performance\n",
    "df['DELIVEREDON'] = pd.to_datetime(df['DELIVEREDON'])\n",
    "df['Delivery Time'] = (df['DELIVEREDON'] - df['ORDERDATE']).dt.days\n",
    "delivery_performance = df.groupby('PRODUCTID')['Delivery Time'].mean().reset_index(name='Average Delivery Time')"
   ]
  },
  {
   "cell_type": "code",
   "execution_count": 15,
   "id": "fb1ae1c4-229c-4bbf-997d-6c5abcee3b55",
   "metadata": {},
   "outputs": [],
   "source": [
    "# Invoice Performance\n",
    "df['PAYMENTDATE'] = pd.to_datetime(df['PAYMENTDATE'])\n",
    "df['Invoice Time'] = (df['PAYMENTDATE'] - df['INVOICEDATE']).dt.days\n",
    "invoice_performance = df.groupby('PRODUCTID')['Invoice Time'].mean().reset_index(name='Average Invoice Time')"
   ]
  },
  {
   "cell_type": "code",
   "execution_count": 16,
   "id": "51a40baf-d791-4f13-98c8-f1efe7fa618e",
   "metadata": {},
   "outputs": [],
   "source": [
    "# Merge all KPIs into a single dataframe for PRODUCTID\n",
    "product_kpis = total_sales_volume.merge(total_sales_value, on='PRODUCTID') \\\n",
    "                                 .merge(average_order_quantity, on='PRODUCTID') \\\n",
    "                                 .merge(average_unit_price, on='PRODUCTID') \\\n",
    "                                 .merge(number_of_orders, on='PRODUCTID') \\\n",
    "                                 .merge(delivery_performance, on='PRODUCTID') \\\n",
    "                                 .merge(invoice_performance, on='PRODUCTID')"
   ]
  },
  {
   "cell_type": "code",
   "execution_count": 17,
   "id": "0346d7bd-16df-4f85-b0b2-629285fbd941",
   "metadata": {},
   "outputs": [],
   "source": [
    "# Merge the new features back into the original dataframe\n",
    "df = df.merge(product_kpis, on='PRODUCTID', how='left')"
   ]
  },
  {
   "cell_type": "code",
   "execution_count": 22,
   "id": "6355f1ef-2cfe-4928-85b2-e3bca24af1d7",
   "metadata": {},
   "outputs": [
    {
     "data": {
      "text/plain": [
       "Index(['ORDERID', 'ORDERITEMID', 'PRODUCTID', 'PRODUCTNAME', 'ORDERQUANTITY',\n",
       "       'UNITPRICE', 'ORDERVALUE', 'CUSTOMERID', 'CUSTOMERNAME',\n",
       "       'PRODUCTCATEGORY', 'ORDERDATE', 'ORDERSTATUS', 'ORDERAMOUNT',\n",
       "       'ORDERCOUNT', 'SHIPMENTID', 'SHIPMENTDATE', 'DELIVERYDATE',\n",
       "       'DELIVEREDON', 'CARRIER', 'SHIPMENTSTATUS', 'INVOICEID', 'INVOICEDATE',\n",
       "       'INVOICEDUEDATE', 'PAYMENTDATE', 'INVOICESTATUS', 'PAYMENTMETHOD',\n",
       "       'PRODUCTTYPE', 'QUANTITY', 'NAME', 'COMPANYTYPE', 'CONTACTDETAILS',\n",
       "       'EMAILDETAILS', 'ADDRESSDETAILS', 'ADMINDETAILS', 'CREDITLIMIT',\n",
       "       'CREDITRATING', 'CUSTOMERTYPE', 'Delivery Time', 'Invoice Time',\n",
       "       'Total Sales Volume', 'Total Sales Value', 'Average Order Quantity',\n",
       "       'Average Unit Price', 'Number of Orders', 'Average Delivery Time',\n",
       "       'Average Invoice Time'],\n",
       "      dtype='object')"
      ]
     },
     "execution_count": 22,
     "metadata": {},
     "output_type": "execute_result"
    }
   ],
   "source": [
    "df.columns"
   ]
  },
  {
   "cell_type": "code",
   "execution_count": 18,
   "id": "89e39ac1-c719-4582-a4ce-65f723d89e55",
   "metadata": {},
   "outputs": [
    {
     "data": {
      "text/plain": [
       "(170290, 46)"
      ]
     },
     "execution_count": 18,
     "metadata": {},
     "output_type": "execute_result"
    }
   ],
   "source": [
    "df.shape"
   ]
  },
  {
   "cell_type": "code",
   "execution_count": 19,
   "id": "e73ecf2e-3caf-4698-97b6-fda024bb92a3",
   "metadata": {},
   "outputs": [],
   "source": [
    "df = df.drop_duplicates()"
   ]
  },
  {
   "cell_type": "code",
   "execution_count": 21,
   "id": "3c74a4fd-7f66-4935-9433-f2c31839ef9c",
   "metadata": {},
   "outputs": [
    {
     "data": {
      "text/plain": [
       "(170290, 46)"
      ]
     },
     "execution_count": 21,
     "metadata": {},
     "output_type": "execute_result"
    }
   ],
   "source": [
    "df.shape"
   ]
  },
  {
   "cell_type": "code",
   "execution_count": 20,
   "id": "9621831e-a462-405a-938d-efcc4bffd455",
   "metadata": {},
   "outputs": [
    {
     "data": {
      "text/html": [
       "<div>\n",
       "<style scoped>\n",
       "    .dataframe tbody tr th:only-of-type {\n",
       "        vertical-align: middle;\n",
       "    }\n",
       "\n",
       "    .dataframe tbody tr th {\n",
       "        vertical-align: top;\n",
       "    }\n",
       "\n",
       "    .dataframe thead th {\n",
       "        text-align: right;\n",
       "    }\n",
       "</style>\n",
       "<table border=\"1\" class=\"dataframe\">\n",
       "  <thead>\n",
       "    <tr style=\"text-align: right;\">\n",
       "      <th></th>\n",
       "      <th>ORDERID</th>\n",
       "      <th>ORDERITEMID</th>\n",
       "      <th>PRODUCTID</th>\n",
       "      <th>PRODUCTNAME</th>\n",
       "      <th>ORDERQUANTITY</th>\n",
       "      <th>UNITPRICE</th>\n",
       "      <th>ORDERVALUE</th>\n",
       "      <th>CUSTOMERID</th>\n",
       "      <th>CUSTOMERNAME</th>\n",
       "      <th>PRODUCTCATEGORY</th>\n",
       "      <th>...</th>\n",
       "      <th>CUSTOMERTYPE</th>\n",
       "      <th>Delivery Time</th>\n",
       "      <th>Invoice Time</th>\n",
       "      <th>Total Sales Volume</th>\n",
       "      <th>Total Sales Value</th>\n",
       "      <th>Average Order Quantity</th>\n",
       "      <th>Average Unit Price</th>\n",
       "      <th>Number of Orders</th>\n",
       "      <th>Average Delivery Time</th>\n",
       "      <th>Average Invoice Time</th>\n",
       "    </tr>\n",
       "  </thead>\n",
       "  <tbody>\n",
       "    <tr>\n",
       "      <th>0</th>\n",
       "      <td>OR-1d383f77-5592-46ad-8e52-29d33a6502ad</td>\n",
       "      <td>OI-5759e816-1866-4073-8d3c-6ad53993c09b</td>\n",
       "      <td>PID-4b87db26-edd8-4b4a-8143-adb85ba6dbe2</td>\n",
       "      <td>Insulation Material</td>\n",
       "      <td>1630</td>\n",
       "      <td>2</td>\n",
       "      <td>3260</td>\n",
       "      <td>CID-4a14e75e-cd20-44a1-9696-d5eb1746b894</td>\n",
       "      <td>Anabrige LLP</td>\n",
       "      <td>Construction Materials</td>\n",
       "      <td>...</td>\n",
       "      <td>Construction Materials</td>\n",
       "      <td>7</td>\n",
       "      <td>2</td>\n",
       "      <td>18260514</td>\n",
       "      <td>36521028</td>\n",
       "      <td>5024.907540</td>\n",
       "      <td>2.0</td>\n",
       "      <td>3634</td>\n",
       "      <td>8.531921</td>\n",
       "      <td>8.058888</td>\n",
       "    </tr>\n",
       "    <tr>\n",
       "      <th>1</th>\n",
       "      <td>OR-1d383f77-5592-46ad-8e52-29d33a6502ad</td>\n",
       "      <td>OI-cca9228c-f83d-4128-94d9-6b5eb944f23f</td>\n",
       "      <td>PID-89334032-db8d-4821-a9ad-5bd9a5305740</td>\n",
       "      <td>Cement</td>\n",
       "      <td>123</td>\n",
       "      <td>100</td>\n",
       "      <td>12300</td>\n",
       "      <td>CID-4a14e75e-cd20-44a1-9696-d5eb1746b894</td>\n",
       "      <td>Anabrige LLP</td>\n",
       "      <td>Construction Materials</td>\n",
       "      <td>...</td>\n",
       "      <td>Construction Materials</td>\n",
       "      <td>7</td>\n",
       "      <td>2</td>\n",
       "      <td>912359</td>\n",
       "      <td>91235900</td>\n",
       "      <td>250.372942</td>\n",
       "      <td>100.0</td>\n",
       "      <td>3644</td>\n",
       "      <td>8.521679</td>\n",
       "      <td>8.071350</td>\n",
       "    </tr>\n",
       "    <tr>\n",
       "      <th>2</th>\n",
       "      <td>OR-1d383f77-5592-46ad-8e52-29d33a6502ad</td>\n",
       "      <td>OI-04e65e52-f3ab-46e6-bef4-e2c4b2c4ee3a</td>\n",
       "      <td>PID-3e2ce142-a70d-4da4-8770-2079f75f43a9</td>\n",
       "      <td>Roofing Sheets</td>\n",
       "      <td>1625</td>\n",
       "      <td>7</td>\n",
       "      <td>11375</td>\n",
       "      <td>CID-4a14e75e-cd20-44a1-9696-d5eb1746b894</td>\n",
       "      <td>Anabrige LLP</td>\n",
       "      <td>Construction Materials</td>\n",
       "      <td>...</td>\n",
       "      <td>Construction Materials</td>\n",
       "      <td>7</td>\n",
       "      <td>2</td>\n",
       "      <td>9063971</td>\n",
       "      <td>63447797</td>\n",
       "      <td>2503.167909</td>\n",
       "      <td>7.0</td>\n",
       "      <td>3621</td>\n",
       "      <td>8.514499</td>\n",
       "      <td>8.038663</td>\n",
       "    </tr>\n",
       "    <tr>\n",
       "      <th>3</th>\n",
       "      <td>OR-343ce41a-322b-4823-8afc-52242973d163</td>\n",
       "      <td>OI-6125f927-0d99-48d5-9fa2-74b8a310af46</td>\n",
       "      <td>PID-fec6ed6f-7ac1-4655-b4a7-9766cff15b7b</td>\n",
       "      <td>Engine Oil</td>\n",
       "      <td>263</td>\n",
       "      <td>40</td>\n",
       "      <td>10520</td>\n",
       "      <td>CID-f922f515-1a7a-4640-959a-3c2f093f4d47</td>\n",
       "      <td>FULCRO</td>\n",
       "      <td>Automotive</td>\n",
       "      <td>...</td>\n",
       "      <td>Automotive</td>\n",
       "      <td>4</td>\n",
       "      <td>13</td>\n",
       "      <td>828858</td>\n",
       "      <td>33154320</td>\n",
       "      <td>507.878676</td>\n",
       "      <td>40.0</td>\n",
       "      <td>1632</td>\n",
       "      <td>8.404412</td>\n",
       "      <td>7.985907</td>\n",
       "    </tr>\n",
       "    <tr>\n",
       "      <th>4</th>\n",
       "      <td>OR-1310822f-e948-4c29-8da7-beec09196076</td>\n",
       "      <td>OI-54edae96-61a7-4666-8fe8-50d10dfd9323</td>\n",
       "      <td>PID-8b2ea2ce-e1df-4139-b179-3e7f217a9f9b</td>\n",
       "      <td>Conveyor Belt</td>\n",
       "      <td>306</td>\n",
       "      <td>1000</td>\n",
       "      <td>306000</td>\n",
       "      <td>CID-169eb6d1-27a1-4859-b7c8-5073ca1eb201</td>\n",
       "      <td>Taylor Ltd</td>\n",
       "      <td>Industrial Equipment</td>\n",
       "      <td>...</td>\n",
       "      <td>Industrial Equipment</td>\n",
       "      <td>10</td>\n",
       "      <td>5</td>\n",
       "      <td>679669</td>\n",
       "      <td>679669000</td>\n",
       "      <td>504.579807</td>\n",
       "      <td>1000.0</td>\n",
       "      <td>1347</td>\n",
       "      <td>8.550854</td>\n",
       "      <td>7.939866</td>\n",
       "    </tr>\n",
       "  </tbody>\n",
       "</table>\n",
       "<p>5 rows × 46 columns</p>\n",
       "</div>"
      ],
      "text/plain": [
       "                                   ORDERID  \\\n",
       "0  OR-1d383f77-5592-46ad-8e52-29d33a6502ad   \n",
       "1  OR-1d383f77-5592-46ad-8e52-29d33a6502ad   \n",
       "2  OR-1d383f77-5592-46ad-8e52-29d33a6502ad   \n",
       "3  OR-343ce41a-322b-4823-8afc-52242973d163   \n",
       "4  OR-1310822f-e948-4c29-8da7-beec09196076   \n",
       "\n",
       "                               ORDERITEMID  \\\n",
       "0  OI-5759e816-1866-4073-8d3c-6ad53993c09b   \n",
       "1  OI-cca9228c-f83d-4128-94d9-6b5eb944f23f   \n",
       "2  OI-04e65e52-f3ab-46e6-bef4-e2c4b2c4ee3a   \n",
       "3  OI-6125f927-0d99-48d5-9fa2-74b8a310af46   \n",
       "4  OI-54edae96-61a7-4666-8fe8-50d10dfd9323   \n",
       "\n",
       "                                  PRODUCTID          PRODUCTNAME  \\\n",
       "0  PID-4b87db26-edd8-4b4a-8143-adb85ba6dbe2  Insulation Material   \n",
       "1  PID-89334032-db8d-4821-a9ad-5bd9a5305740               Cement   \n",
       "2  PID-3e2ce142-a70d-4da4-8770-2079f75f43a9       Roofing Sheets   \n",
       "3  PID-fec6ed6f-7ac1-4655-b4a7-9766cff15b7b           Engine Oil   \n",
       "4  PID-8b2ea2ce-e1df-4139-b179-3e7f217a9f9b        Conveyor Belt   \n",
       "\n",
       "   ORDERQUANTITY  UNITPRICE  ORDERVALUE  \\\n",
       "0           1630          2        3260   \n",
       "1            123        100       12300   \n",
       "2           1625          7       11375   \n",
       "3            263         40       10520   \n",
       "4            306       1000      306000   \n",
       "\n",
       "                                 CUSTOMERID  CUSTOMERNAME  \\\n",
       "0  CID-4a14e75e-cd20-44a1-9696-d5eb1746b894  Anabrige LLP   \n",
       "1  CID-4a14e75e-cd20-44a1-9696-d5eb1746b894  Anabrige LLP   \n",
       "2  CID-4a14e75e-cd20-44a1-9696-d5eb1746b894  Anabrige LLP   \n",
       "3  CID-f922f515-1a7a-4640-959a-3c2f093f4d47        FULCRO   \n",
       "4  CID-169eb6d1-27a1-4859-b7c8-5073ca1eb201    Taylor Ltd   \n",
       "\n",
       "          PRODUCTCATEGORY  ...            CUSTOMERTYPE Delivery Time  \\\n",
       "0  Construction Materials  ...  Construction Materials             7   \n",
       "1  Construction Materials  ...  Construction Materials             7   \n",
       "2  Construction Materials  ...  Construction Materials             7   \n",
       "3              Automotive  ...              Automotive             4   \n",
       "4    Industrial Equipment  ...    Industrial Equipment            10   \n",
       "\n",
       "   Invoice Time  Total Sales Volume Total Sales Value Average Order Quantity  \\\n",
       "0             2            18260514          36521028            5024.907540   \n",
       "1             2              912359          91235900             250.372942   \n",
       "2             2             9063971          63447797            2503.167909   \n",
       "3            13              828858          33154320             507.878676   \n",
       "4             5              679669         679669000             504.579807   \n",
       "\n",
       "  Average Unit Price Number of Orders Average Delivery Time  \\\n",
       "0                2.0             3634              8.531921   \n",
       "1              100.0             3644              8.521679   \n",
       "2                7.0             3621              8.514499   \n",
       "3               40.0             1632              8.404412   \n",
       "4             1000.0             1347              8.550854   \n",
       "\n",
       "  Average Invoice Time  \n",
       "0             8.058888  \n",
       "1             8.071350  \n",
       "2             8.038663  \n",
       "3             7.985907  \n",
       "4             7.939866  \n",
       "\n",
       "[5 rows x 46 columns]"
      ]
     },
     "execution_count": 20,
     "metadata": {},
     "output_type": "execute_result"
    }
   ],
   "source": [
    "df.head()"
   ]
  },
  {
   "cell_type": "code",
   "execution_count": 67,
   "id": "62acedb8-b6d6-4246-9466-c9766e2c4f03",
   "metadata": {},
   "outputs": [],
   "source": [
    "df_train_sf=my_session.createDataFrame(\n",
    "        df.values.tolist(),\n",
    "        schema=df.columns.tolist())\n",
    "df_train_sf.write.mode(\"overwrite\").save_as_table(\"FDC_HORIZONTAL.O2C_GOLD.ORDER_TO_CASH_PRODUCT_KPI\")"
   ]
  }
 ],
 "metadata": {
  "kernelspec": {
   "display_name": "Python 3 (ipykernel)",
   "language": "python",
   "name": "python3"
  },
  "language_info": {
   "codemirror_mode": {
    "name": "ipython",
    "version": 3
   },
   "file_extension": ".py",
   "mimetype": "text/x-python",
   "name": "python",
   "nbconvert_exporter": "python",
   "pygments_lexer": "ipython3",
   "version": "3.9.19"
  }
 },
 "nbformat": 4,
 "nbformat_minor": 5
}
