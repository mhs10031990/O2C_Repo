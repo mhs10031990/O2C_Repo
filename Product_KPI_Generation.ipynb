{
 "cells": [
  {
   "cell_type": "markdown",
   "id": "0bcad55b-31a7-4ec6-99d1-5c1adce88d6e",
   "metadata": {},
   "source": [
    "# Use O2C_Template Customized Notebook Template"
   ]
  },
  {
   "cell_type": "code",
   "execution_count": 1,
   "id": "4545a18a-ac99-4a61-87eb-685a9fc1d216",
   "metadata": {},
   "outputs": [],
   "source": [
    "import pandas as pd\n",
    "import numpy as np"
   ]
  },
  {
   "cell_type": "code",
   "execution_count": 2,
   "id": "fe2d2323-ae3c-4027-b777-5c40e16db890",
   "metadata": {},
   "outputs": [],
   "source": [
    "from fosforml.model_manager.snowflakesession import get_session\n",
    "my_session = get_session()"
   ]
  },
  {
   "cell_type": "code",
   "execution_count": 3,
   "id": "b5958b79-ef81-46ec-8591-926b906584dd",
   "metadata": {},
   "outputs": [],
   "source": [
    "table_name = 'ORDER_TO_CASH_ENRICHED'\n",
    "\n",
    "sf_df = my_session.sql(\"select * from {}\".format(table_name))\n",
    "df = sf_df.to_pandas()"
   ]
  },
  {
   "cell_type": "code",
   "execution_count": 4,
   "id": "1b452a02-6961-49fb-b2cd-ad499a0d21d2",
   "metadata": {},
   "outputs": [],
   "source": [
    "df = df[df['INVOICESTATUS'] == 'Paid']\n",
    "df_new = df[df['INVOICESTATUS'] != 'Paid']"
   ]
  },
  {
   "cell_type": "code",
   "execution_count": 5,
   "id": "48250bbd-0aab-4c5b-9f78-2bb14e4cee79",
   "metadata": {},
   "outputs": [
    {
     "data": {
      "text/plain": [
       "((170290, 37), (0, 37))"
      ]
     },
     "execution_count": 5,
     "metadata": {},
     "output_type": "execute_result"
    }
   ],
   "source": [
    "df.shape, df_new.shape"
   ]
  },
  {
   "cell_type": "code",
   "execution_count": 6,
   "id": "cb32c411-0adf-4d39-9c8a-22613b925acc",
   "metadata": {},
   "outputs": [],
   "source": [
    "# Assuming df is your dataframe\n",
    "df['ORDERDATE'] = pd.to_datetime(df['ORDERDATE'])\n",
    "df['DELIVERYDATE'] = pd.to_datetime(df['DELIVERYDATE'])\n",
    "df['INVOICEDATE'] = pd.to_datetime(df['INVOICEDATE'])\n",
    "df['PAYMENTDATE'] = pd.to_datetime(df['PAYMENTDATE'])\n",
    "df['INVOICEDUEDATE'] = pd.to_datetime(df['INVOICEDUEDATE'])\n",
    "df['DELIVEREDON'] = pd.to_datetime(df['DELIVEREDON'])"
   ]
  },
  {
   "cell_type": "code",
   "execution_count": 7,
   "id": "983ba561-f1b5-40e7-9405-20ff02923632",
   "metadata": {},
   "outputs": [],
   "source": [
    "# Total Sales Volume\n",
    "total_sales_volume = df.groupby('PRODUCTID')['ORDERQUANTITY'].sum().reset_index(name='Total Sales Volume')"
   ]
  },
  {
   "cell_type": "code",
   "execution_count": 8,
   "id": "2ed48b85-e09f-4e55-9e55-c5c9b506142c",
   "metadata": {},
   "outputs": [],
   "source": [
    "# Total Sales Value\n",
    "total_sales_value = df.groupby('PRODUCTID')['ORDERVALUE'].sum().reset_index(name='Total Sales Value')"
   ]
  },
  {
   "cell_type": "code",
   "execution_count": 9,
   "id": "2dc22441-d7be-4b08-aa7e-ab020d325d8c",
   "metadata": {},
   "outputs": [],
   "source": [
    "# Average Order Quantity\n",
    "average_order_quantity = df.groupby('PRODUCTID')['ORDERQUANTITY'].mean().reset_index(name='Average Order Quantity')"
   ]
  },
  {
   "cell_type": "code",
   "execution_count": 10,
   "id": "da2c89f2-3253-4e98-9ae2-d9e819d96790",
   "metadata": {},
   "outputs": [],
   "source": [
    "# Average Unit Price\n",
    "average_unit_price = df.groupby('PRODUCTID')['UNITPRICE'].mean().reset_index(name='Average Unit Price')"
   ]
  },
  {
   "cell_type": "code",
   "execution_count": 11,
   "id": "784f646a-7e88-4f3a-80c0-dfd5ce16b66c",
   "metadata": {},
   "outputs": [],
   "source": [
    "# Number of Orders\n",
    "number_of_orders = df.groupby('PRODUCTID')['ORDERID'].nunique().reset_index(name='Number of Orders')"
   ]
  },
  {
   "cell_type": "code",
   "execution_count": 12,
   "id": "43e8bfd0-af7a-4e4f-8cd2-bf728449b091",
   "metadata": {},
   "outputs": [],
   "source": [
    "category_sales_volume = df.groupby('PRODUCTCATEGORY')['ORDERQUANTITY'].sum().reset_index(name='Total Sales Volume')\n",
    "category_sales_value = df.groupby('PRODUCTCATEGORY')['ORDERVALUE'].sum().reset_index(name='Total Sales Value')\n",
    "category_average_order_quantity = df.groupby('PRODUCTCATEGORY')['ORDERQUANTITY'].mean().reset_index(name='Average Order Quantity')\n",
    "category_average_unit_price = df.groupby('PRODUCTCATEGORY')['UNITPRICE'].mean().reset_index(name='Average Unit Price')\n",
    "category_number_of_orders = df.groupby('PRODUCTCATEGORY')['ORDERID'].nunique().reset_index(name='Number of Orders')"
   ]
  },
  {
   "cell_type": "code",
   "execution_count": 45,
   "id": "d3dbc776-fd49-4b7b-981f-143e0f71675f",
   "metadata": {},
   "outputs": [
    {
     "data": {
      "text/html": [
       "<div>\n",
       "<style scoped>\n",
       "    .dataframe tbody tr th:only-of-type {\n",
       "        vertical-align: middle;\n",
       "    }\n",
       "\n",
       "    .dataframe tbody tr th {\n",
       "        vertical-align: top;\n",
       "    }\n",
       "\n",
       "    .dataframe thead th {\n",
       "        text-align: right;\n",
       "    }\n",
       "</style>\n",
       "<table border=\"1\" class=\"dataframe\">\n",
       "  <thead>\n",
       "    <tr style=\"text-align: right;\">\n",
       "      <th></th>\n",
       "      <th>PRODUCTID</th>\n",
       "      <th>Average Delivery Time</th>\n",
       "    </tr>\n",
       "  </thead>\n",
       "  <tbody>\n",
       "    <tr>\n",
       "      <th>0</th>\n",
       "      <td>PID-064e463d-7de2-47bb-80f8-02b6fda2392a</td>\n",
       "      <td>8.454769</td>\n",
       "    </tr>\n",
       "    <tr>\n",
       "      <th>1</th>\n",
       "      <td>PID-08d031fd-c61f-47f3-b4d1-e9c79ba23b68</td>\n",
       "      <td>8.474123</td>\n",
       "    </tr>\n",
       "    <tr>\n",
       "      <th>2</th>\n",
       "      <td>PID-0952d502-dd95-42ff-8668-7551b8ba2d62</td>\n",
       "      <td>8.518086</td>\n",
       "    </tr>\n",
       "    <tr>\n",
       "      <th>3</th>\n",
       "      <td>PID-0dcaa3ac-5e13-4b31-b42a-70b594207dab</td>\n",
       "      <td>8.501065</td>\n",
       "    </tr>\n",
       "    <tr>\n",
       "      <th>4</th>\n",
       "      <td>PID-1194cfe3-dea0-496c-b865-3c38d22371cc</td>\n",
       "      <td>8.436611</td>\n",
       "    </tr>\n",
       "  </tbody>\n",
       "</table>\n",
       "</div>"
      ],
      "text/plain": [
       "                                  PRODUCTID  Average Delivery Time\n",
       "0  PID-064e463d-7de2-47bb-80f8-02b6fda2392a               8.454769\n",
       "1  PID-08d031fd-c61f-47f3-b4d1-e9c79ba23b68               8.474123\n",
       "2  PID-0952d502-dd95-42ff-8668-7551b8ba2d62               8.518086\n",
       "3  PID-0dcaa3ac-5e13-4b31-b42a-70b594207dab               8.501065\n",
       "4  PID-1194cfe3-dea0-496c-b865-3c38d22371cc               8.436611"
      ]
     },
     "execution_count": 45,
     "metadata": {},
     "output_type": "execute_result"
    }
   ],
   "source": [
    "delivery_performance.head()"
   ]
  },
  {
   "cell_type": "code",
   "execution_count": 13,
   "id": "35abfb93-b5fb-408d-a963-43b7ba2963bb",
   "metadata": {},
   "outputs": [],
   "source": [
    "type_sales_volume = df.groupby('PRODUCTTYPE')['ORDERQUANTITY'].sum().reset_index(name='Total Sales Volume')\n",
    "type_sales_value = df.groupby('PRODUCTTYPE')['ORDERVALUE'].sum().reset_index(name='Total Sales Value')\n",
    "type_average_order_quantity = df.groupby('PRODUCTTYPE')['ORDERQUANTITY'].mean().reset_index(name='Average Order Quantity')\n",
    "type_average_unit_price = df.groupby('PRODUCTTYPE')['UNITPRICE'].mean().reset_index(name='Average Unit Price')\n",
    "type_number_of_orders = df.groupby('PRODUCTTYPE')['ORDERID'].nunique().reset_index(name='Number of Orders')"
   ]
  },
  {
   "cell_type": "code",
   "execution_count": 14,
   "id": "50aed93d-eab5-400a-9f44-310a1fe12c08",
   "metadata": {},
   "outputs": [],
   "source": [
    "# Delivery Performance\n",
    "df['DELIVEREDON'] = pd.to_datetime(df['DELIVEREDON'])\n",
    "df['Delivery Time'] = (df['DELIVEREDON'] - df['ORDERDATE']).dt.days\n",
    "delivery_performance = df.groupby('PRODUCTID')['Delivery Time'].mean().reset_index(name='Average Delivery Time')"
   ]
  },
  {
   "cell_type": "code",
   "execution_count": 15,
   "id": "fb1ae1c4-229c-4bbf-997d-6c5abcee3b55",
   "metadata": {},
   "outputs": [],
   "source": [
    "# Invoice Performance\n",
    "df['PAYMENTDATE'] = pd.to_datetime(df['PAYMENTDATE'])\n",
    "df['Invoice Time'] = (df['PAYMENTDATE'] - df['INVOICEDATE']).dt.days\n",
    "invoice_performance = df.groupby('PRODUCTID')['Invoice Time'].mean().reset_index(name='Average Invoice Time')"
   ]
  },
  {
   "cell_type": "code",
   "execution_count": 16,
   "id": "51a40baf-d791-4f13-98c8-f1efe7fa618e",
   "metadata": {},
   "outputs": [],
   "source": [
    "# Merge all KPIs into a single dataframe for PRODUCTID\n",
    "product_kpis = total_sales_volume.merge(total_sales_value, on='PRODUCTID') \\\n",
    "                                 .merge(average_order_quantity, on='PRODUCTID') \\\n",
    "                                 .merge(average_unit_price, on='PRODUCTID') \\\n",
    "                                 .merge(number_of_orders, on='PRODUCTID') \\\n",
    "                                 .merge(delivery_performance, on='PRODUCTID') \\\n",
    "                                 .merge(invoice_performance, on='PRODUCTID')"
   ]
  },
  {
   "cell_type": "code",
   "execution_count": 47,
   "id": "5b5f02b0-a0c7-49df-acfc-ecd4080eec8e",
   "metadata": {},
   "outputs": [
    {
     "data": {
      "text/plain": [
       "(62, 8)"
      ]
     },
     "execution_count": 47,
     "metadata": {},
     "output_type": "execute_result"
    }
   ],
   "source": [
    "product_kpis.shape"
   ]
  },
  {
   "cell_type": "code",
   "execution_count": 17,
   "id": "0346d7bd-16df-4f85-b0b2-629285fbd941",
   "metadata": {},
   "outputs": [],
   "source": [
    "# Merge the new features back into the original dataframe\n",
    "df = df.merge(product_kpis, on='PRODUCTID', how='left')"
   ]
  },
  {
   "cell_type": "code",
   "execution_count": 23,
   "id": "6355f1ef-2cfe-4928-85b2-e3bca24af1d7",
   "metadata": {},
   "outputs": [],
   "source": [
    "df = df[['PRODUCTID', 'PRODUCTNAME','PRODUCTCATEGORY','PRODUCTTYPE',\n",
    "       'Total Sales Volume', 'Total Sales Value', 'Average Order Quantity',\n",
    "       'Average Unit Price', 'Number of Orders', 'Average Delivery Time',\n",
    "       'Average Invoice Time']]"
   ]
  },
  {
   "cell_type": "code",
   "execution_count": 24,
   "id": "89e39ac1-c719-4582-a4ce-65f723d89e55",
   "metadata": {},
   "outputs": [
    {
     "data": {
      "text/plain": [
       "(170290, 13)"
      ]
     },
     "execution_count": 24,
     "metadata": {},
     "output_type": "execute_result"
    }
   ],
   "source": [
    "df.shape"
   ]
  },
  {
   "cell_type": "code",
   "execution_count": 25,
   "id": "e73ecf2e-3caf-4698-97b6-fda024bb92a3",
   "metadata": {},
   "outputs": [],
   "source": [
    "df = df.drop_duplicates()"
   ]
  },
  {
   "cell_type": "code",
   "execution_count": 26,
   "id": "3c74a4fd-7f66-4935-9433-f2c31839ef9c",
   "metadata": {},
   "outputs": [
    {
     "data": {
      "text/plain": [
       "(10770, 13)"
      ]
     },
     "execution_count": 26,
     "metadata": {},
     "output_type": "execute_result"
    }
   ],
   "source": [
    "df.shape"
   ]
  },
  {
   "cell_type": "code",
   "execution_count": 28,
   "id": "13e19255-7d3f-4aa5-b559-8ff2f5a9d27c",
   "metadata": {},
   "outputs": [
    {
     "data": {
      "text/plain": [
       "62"
      ]
     },
     "execution_count": 28,
     "metadata": {},
     "output_type": "execute_result"
    }
   ],
   "source": [
    "df['PRODUCTID'].nunique()"
   ]
  },
  {
   "cell_type": "code",
   "execution_count": 43,
   "id": "9621831e-a462-405a-938d-efcc4bffd455",
   "metadata": {},
   "outputs": [
    {
     "data": {
      "text/html": [
       "<div>\n",
       "<style scoped>\n",
       "    .dataframe tbody tr th:only-of-type {\n",
       "        vertical-align: middle;\n",
       "    }\n",
       "\n",
       "    .dataframe tbody tr th {\n",
       "        vertical-align: top;\n",
       "    }\n",
       "\n",
       "    .dataframe thead th {\n",
       "        text-align: right;\n",
       "    }\n",
       "</style>\n",
       "<table border=\"1\" class=\"dataframe\">\n",
       "  <thead>\n",
       "    <tr style=\"text-align: right;\">\n",
       "      <th></th>\n",
       "      <th>PRODUCTID</th>\n",
       "      <th>PRODUCTNAME</th>\n",
       "      <th>PRODUCTCATEGORY</th>\n",
       "      <th>PRODUCTTYPE</th>\n",
       "      <th>Delivery Time</th>\n",
       "      <th>Invoice Time</th>\n",
       "      <th>Total Sales Volume</th>\n",
       "      <th>Total Sales Value</th>\n",
       "      <th>Average Order Quantity</th>\n",
       "      <th>Average Unit Price</th>\n",
       "      <th>Number of Orders</th>\n",
       "      <th>Average Delivery Time</th>\n",
       "      <th>Average Invoice Time</th>\n",
       "    </tr>\n",
       "  </thead>\n",
       "  <tbody>\n",
       "    <tr>\n",
       "      <th>0</th>\n",
       "      <td>PID-4b87db26-edd8-4b4a-8143-adb85ba6dbe2</td>\n",
       "      <td>Insulation Material</td>\n",
       "      <td>Construction Materials</td>\n",
       "      <td>Insulation Material</td>\n",
       "      <td>7</td>\n",
       "      <td>2</td>\n",
       "      <td>18260514</td>\n",
       "      <td>36521028</td>\n",
       "      <td>5024.90754</td>\n",
       "      <td>2.0</td>\n",
       "      <td>3634</td>\n",
       "      <td>8.531921</td>\n",
       "      <td>8.058888</td>\n",
       "    </tr>\n",
       "    <tr>\n",
       "      <th>26</th>\n",
       "      <td>PID-4b87db26-edd8-4b4a-8143-adb85ba6dbe2</td>\n",
       "      <td>Insulation Material</td>\n",
       "      <td>Construction Materials</td>\n",
       "      <td>Insulation Material</td>\n",
       "      <td>6</td>\n",
       "      <td>15</td>\n",
       "      <td>18260514</td>\n",
       "      <td>36521028</td>\n",
       "      <td>5024.90754</td>\n",
       "      <td>2.0</td>\n",
       "      <td>3634</td>\n",
       "      <td>8.531921</td>\n",
       "      <td>8.058888</td>\n",
       "    </tr>\n",
       "    <tr>\n",
       "      <th>179</th>\n",
       "      <td>PID-4b87db26-edd8-4b4a-8143-adb85ba6dbe2</td>\n",
       "      <td>Insulation Material</td>\n",
       "      <td>Construction Materials</td>\n",
       "      <td>Insulation Material</td>\n",
       "      <td>9</td>\n",
       "      <td>2</td>\n",
       "      <td>18260514</td>\n",
       "      <td>36521028</td>\n",
       "      <td>5024.90754</td>\n",
       "      <td>2.0</td>\n",
       "      <td>3634</td>\n",
       "      <td>8.531921</td>\n",
       "      <td>8.058888</td>\n",
       "    </tr>\n",
       "    <tr>\n",
       "      <th>294</th>\n",
       "      <td>PID-4b87db26-edd8-4b4a-8143-adb85ba6dbe2</td>\n",
       "      <td>Insulation Material</td>\n",
       "      <td>Construction Materials</td>\n",
       "      <td>Insulation Material</td>\n",
       "      <td>6</td>\n",
       "      <td>6</td>\n",
       "      <td>18260514</td>\n",
       "      <td>36521028</td>\n",
       "      <td>5024.90754</td>\n",
       "      <td>2.0</td>\n",
       "      <td>3634</td>\n",
       "      <td>8.531921</td>\n",
       "      <td>8.058888</td>\n",
       "    </tr>\n",
       "    <tr>\n",
       "      <th>331</th>\n",
       "      <td>PID-4b87db26-edd8-4b4a-8143-adb85ba6dbe2</td>\n",
       "      <td>Insulation Material</td>\n",
       "      <td>Construction Materials</td>\n",
       "      <td>Insulation Material</td>\n",
       "      <td>6</td>\n",
       "      <td>4</td>\n",
       "      <td>18260514</td>\n",
       "      <td>36521028</td>\n",
       "      <td>5024.90754</td>\n",
       "      <td>2.0</td>\n",
       "      <td>3634</td>\n",
       "      <td>8.531921</td>\n",
       "      <td>8.058888</td>\n",
       "    </tr>\n",
       "    <tr>\n",
       "      <th>...</th>\n",
       "      <td>...</td>\n",
       "      <td>...</td>\n",
       "      <td>...</td>\n",
       "      <td>...</td>\n",
       "      <td>...</td>\n",
       "      <td>...</td>\n",
       "      <td>...</td>\n",
       "      <td>...</td>\n",
       "      <td>...</td>\n",
       "      <td>...</td>\n",
       "      <td>...</td>\n",
       "      <td>...</td>\n",
       "      <td>...</td>\n",
       "    </tr>\n",
       "    <tr>\n",
       "      <th>6524</th>\n",
       "      <td>PID-4b87db26-edd8-4b4a-8143-adb85ba6dbe2</td>\n",
       "      <td>Insulation Material</td>\n",
       "      <td>Construction Materials</td>\n",
       "      <td>Insulation Material</td>\n",
       "      <td>6</td>\n",
       "      <td>11</td>\n",
       "      <td>18260514</td>\n",
       "      <td>36521028</td>\n",
       "      <td>5024.90754</td>\n",
       "      <td>2.0</td>\n",
       "      <td>3634</td>\n",
       "      <td>8.531921</td>\n",
       "      <td>8.058888</td>\n",
       "    </tr>\n",
       "    <tr>\n",
       "      <th>6613</th>\n",
       "      <td>PID-4b87db26-edd8-4b4a-8143-adb85ba6dbe2</td>\n",
       "      <td>Insulation Material</td>\n",
       "      <td>Construction Materials</td>\n",
       "      <td>Insulation Material</td>\n",
       "      <td>5</td>\n",
       "      <td>13</td>\n",
       "      <td>18260514</td>\n",
       "      <td>36521028</td>\n",
       "      <td>5024.90754</td>\n",
       "      <td>2.0</td>\n",
       "      <td>3634</td>\n",
       "      <td>8.531921</td>\n",
       "      <td>8.058888</td>\n",
       "    </tr>\n",
       "    <tr>\n",
       "      <th>6629</th>\n",
       "      <td>PID-4b87db26-edd8-4b4a-8143-adb85ba6dbe2</td>\n",
       "      <td>Insulation Material</td>\n",
       "      <td>Construction Materials</td>\n",
       "      <td>Insulation Material</td>\n",
       "      <td>9</td>\n",
       "      <td>9</td>\n",
       "      <td>18260514</td>\n",
       "      <td>36521028</td>\n",
       "      <td>5024.90754</td>\n",
       "      <td>2.0</td>\n",
       "      <td>3634</td>\n",
       "      <td>8.531921</td>\n",
       "      <td>8.058888</td>\n",
       "    </tr>\n",
       "    <tr>\n",
       "      <th>6815</th>\n",
       "      <td>PID-4b87db26-edd8-4b4a-8143-adb85ba6dbe2</td>\n",
       "      <td>Insulation Material</td>\n",
       "      <td>Construction Materials</td>\n",
       "      <td>Insulation Material</td>\n",
       "      <td>5</td>\n",
       "      <td>8</td>\n",
       "      <td>18260514</td>\n",
       "      <td>36521028</td>\n",
       "      <td>5024.90754</td>\n",
       "      <td>2.0</td>\n",
       "      <td>3634</td>\n",
       "      <td>8.531921</td>\n",
       "      <td>8.058888</td>\n",
       "    </tr>\n",
       "    <tr>\n",
       "      <th>6821</th>\n",
       "      <td>PID-4b87db26-edd8-4b4a-8143-adb85ba6dbe2</td>\n",
       "      <td>Insulation Material</td>\n",
       "      <td>Construction Materials</td>\n",
       "      <td>Insulation Material</td>\n",
       "      <td>6</td>\n",
       "      <td>2</td>\n",
       "      <td>18260514</td>\n",
       "      <td>36521028</td>\n",
       "      <td>5024.90754</td>\n",
       "      <td>2.0</td>\n",
       "      <td>3634</td>\n",
       "      <td>8.531921</td>\n",
       "      <td>8.058888</td>\n",
       "    </tr>\n",
       "  </tbody>\n",
       "</table>\n",
       "<p>100 rows × 13 columns</p>\n",
       "</div>"
      ],
      "text/plain": [
       "                                     PRODUCTID          PRODUCTNAME  \\\n",
       "0     PID-4b87db26-edd8-4b4a-8143-adb85ba6dbe2  Insulation Material   \n",
       "26    PID-4b87db26-edd8-4b4a-8143-adb85ba6dbe2  Insulation Material   \n",
       "179   PID-4b87db26-edd8-4b4a-8143-adb85ba6dbe2  Insulation Material   \n",
       "294   PID-4b87db26-edd8-4b4a-8143-adb85ba6dbe2  Insulation Material   \n",
       "331   PID-4b87db26-edd8-4b4a-8143-adb85ba6dbe2  Insulation Material   \n",
       "...                                        ...                  ...   \n",
       "6524  PID-4b87db26-edd8-4b4a-8143-adb85ba6dbe2  Insulation Material   \n",
       "6613  PID-4b87db26-edd8-4b4a-8143-adb85ba6dbe2  Insulation Material   \n",
       "6629  PID-4b87db26-edd8-4b4a-8143-adb85ba6dbe2  Insulation Material   \n",
       "6815  PID-4b87db26-edd8-4b4a-8143-adb85ba6dbe2  Insulation Material   \n",
       "6821  PID-4b87db26-edd8-4b4a-8143-adb85ba6dbe2  Insulation Material   \n",
       "\n",
       "             PRODUCTCATEGORY          PRODUCTTYPE  Delivery Time  \\\n",
       "0     Construction Materials  Insulation Material              7   \n",
       "26    Construction Materials  Insulation Material              6   \n",
       "179   Construction Materials  Insulation Material              9   \n",
       "294   Construction Materials  Insulation Material              6   \n",
       "331   Construction Materials  Insulation Material              6   \n",
       "...                      ...                  ...            ...   \n",
       "6524  Construction Materials  Insulation Material              6   \n",
       "6613  Construction Materials  Insulation Material              5   \n",
       "6629  Construction Materials  Insulation Material              9   \n",
       "6815  Construction Materials  Insulation Material              5   \n",
       "6821  Construction Materials  Insulation Material              6   \n",
       "\n",
       "      Invoice Time  Total Sales Volume  Total Sales Value  \\\n",
       "0                2            18260514           36521028   \n",
       "26              15            18260514           36521028   \n",
       "179              2            18260514           36521028   \n",
       "294              6            18260514           36521028   \n",
       "331              4            18260514           36521028   \n",
       "...            ...                 ...                ...   \n",
       "6524            11            18260514           36521028   \n",
       "6613            13            18260514           36521028   \n",
       "6629             9            18260514           36521028   \n",
       "6815             8            18260514           36521028   \n",
       "6821             2            18260514           36521028   \n",
       "\n",
       "      Average Order Quantity  Average Unit Price  Number of Orders  \\\n",
       "0                 5024.90754                 2.0              3634   \n",
       "26                5024.90754                 2.0              3634   \n",
       "179               5024.90754                 2.0              3634   \n",
       "294               5024.90754                 2.0              3634   \n",
       "331               5024.90754                 2.0              3634   \n",
       "...                      ...                 ...               ...   \n",
       "6524              5024.90754                 2.0              3634   \n",
       "6613              5024.90754                 2.0              3634   \n",
       "6629              5024.90754                 2.0              3634   \n",
       "6815              5024.90754                 2.0              3634   \n",
       "6821              5024.90754                 2.0              3634   \n",
       "\n",
       "      Average Delivery Time  Average Invoice Time  \n",
       "0                  8.531921              8.058888  \n",
       "26                 8.531921              8.058888  \n",
       "179                8.531921              8.058888  \n",
       "294                8.531921              8.058888  \n",
       "331                8.531921              8.058888  \n",
       "...                     ...                   ...  \n",
       "6524               8.531921              8.058888  \n",
       "6613               8.531921              8.058888  \n",
       "6629               8.531921              8.058888  \n",
       "6815               8.531921              8.058888  \n",
       "6821               8.531921              8.058888  \n",
       "\n",
       "[100 rows x 13 columns]"
      ]
     },
     "execution_count": 43,
     "metadata": {},
     "output_type": "execute_result"
    }
   ],
   "source": [
    "df[df['PRODUCTID']== 'PID-4b87db26-edd8-4b4a-8143-adb85ba6dbe2'].head(100)"
   ]
  },
  {
   "cell_type": "code",
   "execution_count": 67,
   "id": "62acedb8-b6d6-4246-9466-c9766e2c4f03",
   "metadata": {},
   "outputs": [],
   "source": [
    "df_train_sf=my_session.createDataFrame(\n",
    "        df.values.tolist(),\n",
    "        schema=df.columns.tolist())\n",
    "df_train_sf.write.mode(\"overwrite\").save_as_table(\"FDC_HORIZONTAL.O2C_GOLD.ORDER_TO_CASH_PRODUCT_KPI\")"
   ]
  }
 ],
 "metadata": {
  "kernelspec": {
   "display_name": "Python 3 (ipykernel)",
   "language": "python",
   "name": "python3"
  },
  "language_info": {
   "codemirror_mode": {
    "name": "ipython",
    "version": 3
   },
   "file_extension": ".py",
   "mimetype": "text/x-python",
   "name": "python",
   "nbconvert_exporter": "python",
   "pygments_lexer": "ipython3",
   "version": "3.9.19"
  }
 },
 "nbformat": 4,
 "nbformat_minor": 5
}
