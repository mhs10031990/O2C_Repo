{
 "cells": [
  {
   "cell_type": "markdown",
   "id": "0bcad55b-31a7-4ec6-99d1-5c1adce88d6e",
   "metadata": {},
   "source": [
    "# Use O2C_Template Customized Notebook Template"
   ]
  },
  {
   "cell_type": "code",
   "execution_count": 29,
   "id": "4545a18a-ac99-4a61-87eb-685a9fc1d216",
   "metadata": {},
   "outputs": [],
   "source": [
    "import pandas as pd\n",
    "import numpy as np"
   ]
  },
  {
   "cell_type": "code",
   "execution_count": 30,
   "id": "fe2d2323-ae3c-4027-b777-5c40e16db890",
   "metadata": {},
   "outputs": [],
   "source": [
    "from fosforml.model_manager.snowflakesession import get_session\n",
    "my_session = get_session()"
   ]
  },
  {
   "cell_type": "code",
   "execution_count": 31,
   "id": "b5958b79-ef81-46ec-8591-926b906584dd",
   "metadata": {},
   "outputs": [],
   "source": [
    "table_name = 'ORDER_TO_CASH_ENRICHED'\n",
    "\n",
    "sf_df = my_session.sql(\"select * from {}\".format(table_name))\n",
    "df = sf_df.to_pandas()"
   ]
  },
  {
   "cell_type": "code",
   "execution_count": 32,
   "id": "1b452a02-6961-49fb-b2cd-ad499a0d21d2",
   "metadata": {},
   "outputs": [],
   "source": [
    "df_train = df[df['INVOICESTATUS'] == 'Paid']\n",
    "df_new = df[df['INVOICESTATUS'] != 'Paid']"
   ]
  },
  {
   "cell_type": "code",
   "execution_count": 33,
   "id": "48250bbd-0aab-4c5b-9f78-2bb14e4cee79",
   "metadata": {},
   "outputs": [
    {
     "data": {
      "text/plain": [
       "((170290, 37), (3001, 37))"
      ]
     },
     "execution_count": 33,
     "metadata": {},
     "output_type": "execute_result"
    }
   ],
   "source": [
    "df_train.shape, df_new.shape"
   ]
  },
  {
   "cell_type": "code",
   "execution_count": 34,
   "id": "cb32c411-0adf-4d39-9c8a-22613b925acc",
   "metadata": {},
   "outputs": [],
   "source": [
    "# Assuming df is your dataframe\n",
    "df_train['ORDERDATE'] = pd.to_datetime(df_train['ORDERDATE'])\n",
    "df_train['DELIVERYDATE'] = pd.to_datetime(df_train['DELIVERYDATE'])\n",
    "df_train['INVOICEDATE'] = pd.to_datetime(df_train['INVOICEDATE'])\n",
    "df_train['PAYMENTDATE'] = pd.to_datetime(df_train['PAYMENTDATE'])\n",
    "df_train['INVOICEDUEDATE'] = pd.to_datetime(df_train['INVOICEDUEDATE'])"
   ]
  },
  {
   "cell_type": "code",
   "execution_count": 35,
   "id": "983ba561-f1b5-40e7-9405-20ff02923632",
   "metadata": {},
   "outputs": [],
   "source": [
    "df_train['DELIVEREDON'] = pd.to_datetime(df_train['DELIVEREDON'])"
   ]
  },
  {
   "cell_type": "code",
   "execution_count": 36,
   "id": "4f24101f-c430-4861-a5ac-71a752d9baad",
   "metadata": {},
   "outputs": [],
   "source": [
    "# Order Processing Time\n",
    "df_train['ORDER_PROCESSING_TIME'] = (df_train['DELIVERYDATE'] - df_train['ORDERDATE']).dt.days\n",
    "\n",
    "# Invoice Processing Time\n",
    "df_train['INVOICE_PROCESSING_TIME'] = (df_train['PAYMENTDATE'] - df_train['INVOICEDATE']).dt.days\n",
    "\n",
    "# Order Value per Unit\n",
    "df_train['ORDER_VALUE_PER_UNIT'] = df_train['ORDERVALUE'] / df_train['ORDERQUANTITY']"
   ]
  },
  {
   "cell_type": "code",
   "execution_count": 37,
   "id": "4cdade4a-403a-400c-865f-5beb93762b42",
   "metadata": {},
   "outputs": [
    {
     "name": "stdout",
     "output_type": "stream",
     "text": [
      "<class 'pandas.core.frame.DataFrame'>\n",
      "Index: 170290 entries, 0 to 170289\n",
      "Data columns (total 40 columns):\n",
      " #   Column                   Non-Null Count   Dtype         \n",
      "---  ------                   --------------   -----         \n",
      " 0   ORDERID                  170290 non-null  object        \n",
      " 1   ORDERITEMID              170290 non-null  object        \n",
      " 2   PRODUCTID                170290 non-null  object        \n",
      " 3   PRODUCTNAME              170290 non-null  object        \n",
      " 4   ORDERQUANTITY            170290 non-null  int16         \n",
      " 5   UNITPRICE                170290 non-null  int32         \n",
      " 6   ORDERVALUE               170290 non-null  int32         \n",
      " 7   CUSTOMERID               170290 non-null  object        \n",
      " 8   CUSTOMERNAME             170290 non-null  object        \n",
      " 9   PRODUCTCATEGORY          170290 non-null  object        \n",
      " 10  ORDERDATE                170290 non-null  datetime64[ns]\n",
      " 11  ORDERSTATUS              170290 non-null  object        \n",
      " 12  ORDERAMOUNT              170290 non-null  int32         \n",
      " 13  ORDERCOUNT               170290 non-null  int8          \n",
      " 14  SHIPMENTID               170290 non-null  object        \n",
      " 15  SHIPMENTDATE             170290 non-null  object        \n",
      " 16  DELIVERYDATE             170290 non-null  datetime64[ns]\n",
      " 17  DELIVEREDON              170290 non-null  datetime64[ns]\n",
      " 18  CARRIER                  170290 non-null  object        \n",
      " 19  SHIPMENTSTATUS           170290 non-null  object        \n",
      " 20  INVOICEID                170290 non-null  object        \n",
      " 21  INVOICEDATE              170290 non-null  datetime64[ns]\n",
      " 22  INVOICEDUEDATE           170290 non-null  datetime64[ns]\n",
      " 23  PAYMENTDATE              170290 non-null  datetime64[ns]\n",
      " 24  INVOICESTATUS            170290 non-null  object        \n",
      " 25  PAYMENTMETHOD            170290 non-null  object        \n",
      " 26  PRODUCTTYPE              170290 non-null  object        \n",
      " 27  QUANTITY                 170290 non-null  int16         \n",
      " 28  NAME                     170290 non-null  object        \n",
      " 29  COMPANYTYPE              170290 non-null  object        \n",
      " 30  CONTACTDETAILS           170290 non-null  object        \n",
      " 31  EMAILDETAILS             170290 non-null  object        \n",
      " 32  ADDRESSDETAILS           170290 non-null  object        \n",
      " 33  ADMINDETAILS             170290 non-null  object        \n",
      " 34  CREDITLIMIT              170290 non-null  int32         \n",
      " 35  CREDITRATING             170290 non-null  object        \n",
      " 36  CUSTOMERTYPE             170290 non-null  object        \n",
      " 37  ORDER_PROCESSING_TIME    170290 non-null  int64         \n",
      " 38  INVOICE_PROCESSING_TIME  170290 non-null  int64         \n",
      " 39  ORDER_VALUE_PER_UNIT     170290 non-null  float64       \n",
      "dtypes: datetime64[ns](6), float64(1), int16(2), int32(4), int64(2), int8(1), object(24)\n",
      "memory usage: 47.6+ MB\n"
     ]
    }
   ],
   "source": [
    "df_train.info()"
   ]
  },
  {
   "cell_type": "code",
   "execution_count": 38,
   "id": "f30d55d4-b699-4340-a5da-655c87de0bf5",
   "metadata": {},
   "outputs": [],
   "source": [
    "# Delivery Delay\n",
    "df_train['DELIVERY_DELAY'] = (df_train['DELIVERYDATE'] - df_train['DELIVEREDON']).dt.days"
   ]
  },
  {
   "cell_type": "code",
   "execution_count": 39,
   "id": "027adde3-e175-49c1-8a52-c526f57b11cb",
   "metadata": {},
   "outputs": [],
   "source": [
    "# Payment Delay\n",
    "df_train['PAYMENT_DELAY'] = (df_train['PAYMENTDATE'] - df_train['INVOICEDUEDATE']).dt.days"
   ]
  },
  {
   "cell_type": "code",
   "execution_count": 40,
   "id": "163e876c-ec4c-4a71-b316-b9a6db1f5ba7",
   "metadata": {},
   "outputs": [],
   "source": [
    "# Customer Lifetime Value (CLV)\n",
    "clv = df_train.groupby('CUSTOMERID')['ORDERVALUE'].sum().reset_index()\n",
    "clv.columns = ['CUSTOMERID', 'CUSTOMER_LIFETIME_VALUE']\n",
    "df_train = df_train.merge(clv, on='CUSTOMERID', how='left')"
   ]
  },
  {
   "cell_type": "code",
   "execution_count": 41,
   "id": "6d0685f0-9346-461f-8a16-34be731448bb",
   "metadata": {},
   "outputs": [],
   "source": [
    "# Order Frequency\n",
    "order_freq = df_train.groupby('CUSTOMERID')['ORDERID'].nunique().reset_index()\n",
    "order_freq.columns = ['CUSTOMERID', 'ORDER_FREQUENCY']\n",
    "df_train = df_train.merge(order_freq, on='CUSTOMERID', how='left')"
   ]
  },
  {
   "cell_type": "code",
   "execution_count": 42,
   "id": "223f3d85-715b-4555-a803-3797dded95b2",
   "metadata": {},
   "outputs": [],
   "source": [
    "# Average Order Value\n",
    "avg_order_value = df_train.groupby('CUSTOMERID')['ORDERVALUE'].mean().reset_index()\n",
    "avg_order_value.columns = ['CUSTOMERID', 'AVERAGE_ORDER_VALUE']\n",
    "df_train = df_train.merge(avg_order_value, on='CUSTOMERID', how='left')"
   ]
  },
  {
   "cell_type": "code",
   "execution_count": 43,
   "id": "4099bd9f-a0ec-420c-80d4-d990d70446d8",
   "metadata": {},
   "outputs": [],
   "source": [
    "# Recency\n",
    "latest_order_date = df_train.groupby('CUSTOMERID')['ORDERDATE'].max().reset_index()\n",
    "latest_order_date.columns = ['CUSTOMERID', 'LAST_ORDER_DATE']\n",
    "latest_order_date['RECENCY'] = (pd.to_datetime('today') - latest_order_date['LAST_ORDER_DATE']).dt.days\n",
    "df_train = df_train.merge(latest_order_date[['CUSTOMERID', 'RECENCY']], on='CUSTOMERID', how='left')"
   ]
  },
  {
   "cell_type": "code",
   "execution_count": 45,
   "id": "1196d370-693c-4cb0-a403-f4bec6ccd399",
   "metadata": {},
   "outputs": [],
   "source": [
    "# Preferred Payment Method\n",
    "preferred_payment_method = df_train.groupby('CUSTOMERID')['PAYMENTMETHOD'].agg(lambda x: x.value_counts().index[0]).reset_index()\n",
    "preferred_payment_method.columns = ['CUSTOMERID', 'PREFERRED_PAYMENT_METHOD']\n",
    "df_train = df_train.merge(preferred_payment_method, on='CUSTOMERID', how='left')"
   ]
  },
  {
   "cell_type": "code",
   "execution_count": 46,
   "id": "74939fe8-91d1-4474-8c9b-d541ed677c9b",
   "metadata": {},
   "outputs": [],
   "source": [
    "# Preferred Product Category\n",
    "preferred_product_category = df_train.groupby('CUSTOMERID')['PRODUCTCATEGORY'].agg(lambda x: x.value_counts().index[0]).reset_index()\n",
    "preferred_product_category.columns = ['CUSTOMERID', 'PREFERRED_PRODUCT_CATEGORY']\n",
    "df_train = df_train.merge(preferred_product_category, on='CUSTOMERID', how='left')"
   ]
  },
  {
   "cell_type": "code",
   "execution_count": 48,
   "id": "df5cd292-37a3-42f7-8015-931f065a5f32",
   "metadata": {},
   "outputs": [],
   "source": [
    "# Preferred Product Category\n",
    "preferred_product_type = df_train.groupby('CUSTOMERID')['PRODUCTTYPE'].agg(lambda x: x.value_counts().index[0]).reset_index()\n",
    "preferred_product_type.columns = ['CUSTOMERID', 'PREFERRED_PRODUCT_TYPE']\n",
    "df_train = df_train.merge(preferred_product_type, on='CUSTOMERID', how='left')"
   ]
  },
  {
   "cell_type": "code",
   "execution_count": 53,
   "id": "a48fd59c-16e8-4ced-ba7a-2967e2e10ca3",
   "metadata": {},
   "outputs": [
    {
     "data": {
      "text/plain": [
       "Index(['ORDERID', 'ORDERITEMID', 'PRODUCTID', 'PRODUCTNAME', 'ORDERQUANTITY',\n",
       "       'UNITPRICE', 'ORDERVALUE', 'CUSTOMERID', 'CUSTOMERNAME',\n",
       "       'PRODUCTCATEGORY', 'ORDERDATE', 'ORDERSTATUS', 'ORDERAMOUNT',\n",
       "       'ORDERCOUNT', 'SHIPMENTID', 'SHIPMENTDATE', 'DELIVERYDATE',\n",
       "       'DELIVEREDON', 'CARRIER', 'SHIPMENTSTATUS', 'INVOICEID', 'INVOICEDATE',\n",
       "       'INVOICEDUEDATE', 'PAYMENTDATE', 'INVOICESTATUS', 'PAYMENTMETHOD',\n",
       "       'PRODUCTTYPE', 'QUANTITY', 'NAME', 'COMPANYTYPE', 'CONTACTDETAILS',\n",
       "       'EMAILDETAILS', 'ADDRESSDETAILS', 'ADMINDETAILS', 'CREDITLIMIT',\n",
       "       'CREDITRATING', 'CUSTOMERTYPE', 'ORDER_PROCESSING_TIME',\n",
       "       'INVOICE_PROCESSING_TIME', 'ORDER_VALUE_PER_UNIT', 'DELIVERY_DELAY',\n",
       "       'PAYMENT_DELAY', 'CUSTOMER_LIFETIME_VALUE', 'ORDER_FREQUENCY',\n",
       "       'AVERAGE_ORDER_VALUE', 'RECENCY', 'PREFERRED_PAYMENT_METHOD',\n",
       "       'PREFERRED_PRODUCT_CATEGORY', 'PREFERRED_PRODUCT_TYPE'],\n",
       "      dtype='object')"
      ]
     },
     "execution_count": 53,
     "metadata": {},
     "output_type": "execute_result"
    }
   ],
   "source": [
    "df_train.columns"
   ]
  },
  {
   "cell_type": "code",
   "execution_count": 50,
   "id": "3f027c2b-0943-4ed8-a7b7-c716703b4423",
   "metadata": {},
   "outputs": [
    {
     "data": {
      "text/html": [
       "<div>\n",
       "<style scoped>\n",
       "    .dataframe tbody tr th:only-of-type {\n",
       "        vertical-align: middle;\n",
       "    }\n",
       "\n",
       "    .dataframe tbody tr th {\n",
       "        vertical-align: top;\n",
       "    }\n",
       "\n",
       "    .dataframe thead th {\n",
       "        text-align: right;\n",
       "    }\n",
       "</style>\n",
       "<table border=\"1\" class=\"dataframe\">\n",
       "  <thead>\n",
       "    <tr style=\"text-align: right;\">\n",
       "      <th></th>\n",
       "      <th>ORDERID</th>\n",
       "      <th>ORDERITEMID</th>\n",
       "      <th>PRODUCTID</th>\n",
       "      <th>PRODUCTNAME</th>\n",
       "      <th>ORDERQUANTITY</th>\n",
       "      <th>UNITPRICE</th>\n",
       "      <th>ORDERVALUE</th>\n",
       "      <th>CUSTOMERID</th>\n",
       "      <th>CUSTOMERNAME</th>\n",
       "      <th>PRODUCTCATEGORY</th>\n",
       "      <th>...</th>\n",
       "      <th>ORDER_VALUE_PER_UNIT</th>\n",
       "      <th>DELIVERY_DELAY</th>\n",
       "      <th>PAYMENT_DELAY</th>\n",
       "      <th>CUSTOMER_LIFETIME_VALUE</th>\n",
       "      <th>ORDER_FREQUENCY</th>\n",
       "      <th>AVERAGE_ORDER_VALUE</th>\n",
       "      <th>RECENCY</th>\n",
       "      <th>PREFERRED_PAYMENT_METHOD</th>\n",
       "      <th>PREFERRED_PRODUCT_CATEGORY</th>\n",
       "      <th>PREFERRED_PRODUCT_TYPE</th>\n",
       "    </tr>\n",
       "  </thead>\n",
       "  <tbody>\n",
       "    <tr>\n",
       "      <th>170285</th>\n",
       "      <td>OR-2dabf315-433e-4270-b350-9b2cb5985154</td>\n",
       "      <td>OI-5eaa0c0d-d570-4664-b0e7-7e5df39c5253</td>\n",
       "      <td>PID-0dcaa3ac-5e13-4b31-b42a-70b594207dab</td>\n",
       "      <td>Forklift</td>\n",
       "      <td>63</td>\n",
       "      <td>21000</td>\n",
       "      <td>1323000</td>\n",
       "      <td>CID-daa6ccaf-6fc6-44ce-b20e-968a7c03815a</td>\n",
       "      <td>Tucker Ltd</td>\n",
       "      <td>Industrial Equipment</td>\n",
       "      <td>...</td>\n",
       "      <td>21000.0</td>\n",
       "      <td>-1</td>\n",
       "      <td>-1</td>\n",
       "      <td>1131716360</td>\n",
       "      <td>578</td>\n",
       "      <td>978147.242869</td>\n",
       "      <td>23</td>\n",
       "      <td>Cash</td>\n",
       "      <td>Industrial Equipment</td>\n",
       "      <td>CNC Machine</td>\n",
       "    </tr>\n",
       "    <tr>\n",
       "      <th>170286</th>\n",
       "      <td>OR-97494b41-325a-450b-a94e-080b789aaed2</td>\n",
       "      <td>OI-c081b576-f40e-4e1b-993d-33947388f5cc</td>\n",
       "      <td>PID-5b65abab-9d75-49db-aee2-764e76cdfa82</td>\n",
       "      <td>Air Purifier</td>\n",
       "      <td>296</td>\n",
       "      <td>99</td>\n",
       "      <td>29304</td>\n",
       "      <td>CID-c5edd6ef-7400-4734-9e4b-34eb79d01973</td>\n",
       "      <td>Haynes-Jackson</td>\n",
       "      <td>Consumer Goods</td>\n",
       "      <td>...</td>\n",
       "      <td>99.0</td>\n",
       "      <td>-3</td>\n",
       "      <td>5</td>\n",
       "      <td>41737562</td>\n",
       "      <td>586</td>\n",
       "      <td>35612.254266</td>\n",
       "      <td>24</td>\n",
       "      <td>Cards</td>\n",
       "      <td>Consumer Goods</td>\n",
       "      <td>Electric Kettle</td>\n",
       "    </tr>\n",
       "    <tr>\n",
       "      <th>170287</th>\n",
       "      <td>OR-97494b41-325a-450b-a94e-080b789aaed2</td>\n",
       "      <td>OI-282f0e69-41b1-4462-b239-038c20aea5d1</td>\n",
       "      <td>PID-f1c7c082-65d7-4b5a-b913-f135702db67f</td>\n",
       "      <td>LED Light Bulbs</td>\n",
       "      <td>3077</td>\n",
       "      <td>5</td>\n",
       "      <td>15385</td>\n",
       "      <td>CID-c5edd6ef-7400-4734-9e4b-34eb79d01973</td>\n",
       "      <td>Haynes-Jackson</td>\n",
       "      <td>Consumer Goods</td>\n",
       "      <td>...</td>\n",
       "      <td>5.0</td>\n",
       "      <td>-3</td>\n",
       "      <td>5</td>\n",
       "      <td>41737562</td>\n",
       "      <td>586</td>\n",
       "      <td>35612.254266</td>\n",
       "      <td>24</td>\n",
       "      <td>Cards</td>\n",
       "      <td>Consumer Goods</td>\n",
       "      <td>Electric Kettle</td>\n",
       "    </tr>\n",
       "    <tr>\n",
       "      <th>170288</th>\n",
       "      <td>OR-97494b41-325a-450b-a94e-080b789aaed2</td>\n",
       "      <td>OI-80d197e5-5a0b-46b7-bc41-dbb7a58b29f7</td>\n",
       "      <td>PID-064e463d-7de2-47bb-80f8-02b6fda2392a</td>\n",
       "      <td>Vacuum Cleaner</td>\n",
       "      <td>94</td>\n",
       "      <td>364</td>\n",
       "      <td>34216</td>\n",
       "      <td>CID-c5edd6ef-7400-4734-9e4b-34eb79d01973</td>\n",
       "      <td>Haynes-Jackson</td>\n",
       "      <td>Consumer Goods</td>\n",
       "      <td>...</td>\n",
       "      <td>364.0</td>\n",
       "      <td>-3</td>\n",
       "      <td>5</td>\n",
       "      <td>41737562</td>\n",
       "      <td>586</td>\n",
       "      <td>35612.254266</td>\n",
       "      <td>24</td>\n",
       "      <td>Cards</td>\n",
       "      <td>Consumer Goods</td>\n",
       "      <td>Electric Kettle</td>\n",
       "    </tr>\n",
       "    <tr>\n",
       "      <th>170289</th>\n",
       "      <td>OR-45577031-31dc-4a5c-a606-14d3b4bacf89</td>\n",
       "      <td>OI-62dfd989-12b7-4645-bf32-6cd223944082</td>\n",
       "      <td>PID-08d031fd-c61f-47f3-b4d1-e9c79ba23b68</td>\n",
       "      <td>Herbal Tea</td>\n",
       "      <td>480</td>\n",
       "      <td>2</td>\n",
       "      <td>960</td>\n",
       "      <td>CID-c959e86d-be75-473b-8ae9-56e6fc113cbf</td>\n",
       "      <td>TetherLink</td>\n",
       "      <td>Food Beverages</td>\n",
       "      <td>...</td>\n",
       "      <td>2.0</td>\n",
       "      <td>0</td>\n",
       "      <td>6</td>\n",
       "      <td>13789264</td>\n",
       "      <td>570</td>\n",
       "      <td>12095.845614</td>\n",
       "      <td>23</td>\n",
       "      <td>Wire Transfers</td>\n",
       "      <td>Food Beverages</td>\n",
       "      <td>Energy Drink</td>\n",
       "    </tr>\n",
       "  </tbody>\n",
       "</table>\n",
       "<p>5 rows × 49 columns</p>\n",
       "</div>"
      ],
      "text/plain": [
       "                                        ORDERID  \\\n",
       "170285  OR-2dabf315-433e-4270-b350-9b2cb5985154   \n",
       "170286  OR-97494b41-325a-450b-a94e-080b789aaed2   \n",
       "170287  OR-97494b41-325a-450b-a94e-080b789aaed2   \n",
       "170288  OR-97494b41-325a-450b-a94e-080b789aaed2   \n",
       "170289  OR-45577031-31dc-4a5c-a606-14d3b4bacf89   \n",
       "\n",
       "                                    ORDERITEMID  \\\n",
       "170285  OI-5eaa0c0d-d570-4664-b0e7-7e5df39c5253   \n",
       "170286  OI-c081b576-f40e-4e1b-993d-33947388f5cc   \n",
       "170287  OI-282f0e69-41b1-4462-b239-038c20aea5d1   \n",
       "170288  OI-80d197e5-5a0b-46b7-bc41-dbb7a58b29f7   \n",
       "170289  OI-62dfd989-12b7-4645-bf32-6cd223944082   \n",
       "\n",
       "                                       PRODUCTID      PRODUCTNAME  \\\n",
       "170285  PID-0dcaa3ac-5e13-4b31-b42a-70b594207dab         Forklift   \n",
       "170286  PID-5b65abab-9d75-49db-aee2-764e76cdfa82     Air Purifier   \n",
       "170287  PID-f1c7c082-65d7-4b5a-b913-f135702db67f  LED Light Bulbs   \n",
       "170288  PID-064e463d-7de2-47bb-80f8-02b6fda2392a   Vacuum Cleaner   \n",
       "170289  PID-08d031fd-c61f-47f3-b4d1-e9c79ba23b68       Herbal Tea   \n",
       "\n",
       "        ORDERQUANTITY  UNITPRICE  ORDERVALUE  \\\n",
       "170285             63      21000     1323000   \n",
       "170286            296         99       29304   \n",
       "170287           3077          5       15385   \n",
       "170288             94        364       34216   \n",
       "170289            480          2         960   \n",
       "\n",
       "                                      CUSTOMERID    CUSTOMERNAME  \\\n",
       "170285  CID-daa6ccaf-6fc6-44ce-b20e-968a7c03815a      Tucker Ltd   \n",
       "170286  CID-c5edd6ef-7400-4734-9e4b-34eb79d01973  Haynes-Jackson   \n",
       "170287  CID-c5edd6ef-7400-4734-9e4b-34eb79d01973  Haynes-Jackson   \n",
       "170288  CID-c5edd6ef-7400-4734-9e4b-34eb79d01973  Haynes-Jackson   \n",
       "170289  CID-c959e86d-be75-473b-8ae9-56e6fc113cbf      TetherLink   \n",
       "\n",
       "             PRODUCTCATEGORY  ... ORDER_VALUE_PER_UNIT DELIVERY_DELAY  \\\n",
       "170285  Industrial Equipment  ...              21000.0             -1   \n",
       "170286        Consumer Goods  ...                 99.0             -3   \n",
       "170287        Consumer Goods  ...                  5.0             -3   \n",
       "170288        Consumer Goods  ...                364.0             -3   \n",
       "170289        Food Beverages  ...                  2.0              0   \n",
       "\n",
       "        PAYMENT_DELAY  CUSTOMER_LIFETIME_VALUE ORDER_FREQUENCY  \\\n",
       "170285             -1               1131716360             578   \n",
       "170286              5                 41737562             586   \n",
       "170287              5                 41737562             586   \n",
       "170288              5                 41737562             586   \n",
       "170289              6                 13789264             570   \n",
       "\n",
       "       AVERAGE_ORDER_VALUE RECENCY PREFERRED_PAYMENT_METHOD  \\\n",
       "170285       978147.242869      23                     Cash   \n",
       "170286        35612.254266      24                    Cards   \n",
       "170287        35612.254266      24                    Cards   \n",
       "170288        35612.254266      24                    Cards   \n",
       "170289        12095.845614      23           Wire Transfers   \n",
       "\n",
       "       PREFERRED_PRODUCT_CATEGORY PREFERRED_PRODUCT_TYPE  \n",
       "170285       Industrial Equipment            CNC Machine  \n",
       "170286             Consumer Goods        Electric Kettle  \n",
       "170287             Consumer Goods        Electric Kettle  \n",
       "170288             Consumer Goods        Electric Kettle  \n",
       "170289             Food Beverages           Energy Drink  \n",
       "\n",
       "[5 rows x 49 columns]"
      ]
     },
     "execution_count": 50,
     "metadata": {},
     "output_type": "execute_result"
    }
   ],
   "source": [
    "df_train.tail()"
   ]
  },
  {
   "cell_type": "code",
   "execution_count": 54,
   "id": "e48e1c08-1667-4d3e-af80-cd1749552945",
   "metadata": {},
   "outputs": [],
   "source": [
    "# Average Order Processing Time\n",
    "avg_order_processing_time = df_train.groupby('CUSTOMERID')['ORDER_PROCESSING_TIME'].mean().reset_index()\n",
    "avg_order_processing_time.columns = ['CUSTOMERID', 'AVG_ORDER_PROCESSING_TIME']"
   ]
  },
  {
   "cell_type": "code",
   "execution_count": 55,
   "id": "1d8e512f-fb4d-490c-a4d6-1fa59c9a7164",
   "metadata": {},
   "outputs": [],
   "source": [
    "# Average Invoice Processing Time\n",
    "avg_invoice_processing_time = df_train.groupby('CUSTOMERID')['INVOICE_PROCESSING_TIME'].mean().reset_index()\n",
    "avg_invoice_processing_time.columns = ['CUSTOMERID', 'AVG_INVOICE_PROCESSING_TIME']"
   ]
  },
  {
   "cell_type": "code",
   "execution_count": 56,
   "id": "40b06a82-58ba-4ec0-b4b3-4c090baff7bd",
   "metadata": {},
   "outputs": [],
   "source": [
    "# Average Delivery Delay\n",
    "avg_delivery_delay = df_train.groupby('CUSTOMERID')['DELIVERY_DELAY'].mean().reset_index()\n",
    "avg_delivery_delay.columns = ['CUSTOMERID', 'AVG_DELIVERY_DELAY']"
   ]
  },
  {
   "cell_type": "code",
   "execution_count": 57,
   "id": "59efd32f-7e69-4fd9-b888-5220c9a2cf5d",
   "metadata": {},
   "outputs": [],
   "source": [
    "# Average Payment Delay\n",
    "avg_payment_delay = df_train.groupby('CUSTOMERID')['PAYMENT_DELAY'].mean().reset_index()\n",
    "avg_payment_delay.columns = ['CUSTOMERID', 'AVG_PAYMENT_DELAY']"
   ]
  },
  {
   "cell_type": "code",
   "execution_count": 58,
   "id": "6c3b80bb-3f9f-4d8e-8bd3-971f63a9d751",
   "metadata": {},
   "outputs": [],
   "source": [
    "# Total Delays\n",
    "total_delays = df_train.groupby('CUSTOMERID')[['DELIVERY_DELAY', 'PAYMENT_DELAY']].sum().reset_index()\n",
    "total_delays['TOTAL_DELAYS'] = total_delays['DELIVERY_DELAY'] + total_delays['PAYMENT_DELAY']\n",
    "total_delays = total_delays[['CUSTOMERID', 'TOTAL_DELAYS']]"
   ]
  },
  {
   "cell_type": "code",
   "execution_count": 60,
   "id": "48acbf36-677c-43ac-b2bb-11e0dcb53bf8",
   "metadata": {},
   "outputs": [],
   "source": [
    "# Order Consistency\n",
    "order_consistency = df_train.groupby('CUSTOMERID')['ORDER_PROCESSING_TIME'].std().reset_index()\n",
    "order_consistency.columns = ['CUSTOMERID', 'ORDER_CONSISTENCY']"
   ]
  },
  {
   "cell_type": "code",
   "execution_count": 61,
   "id": "ac45a973-303d-40b9-87a5-afe5dd82c798",
   "metadata": {},
   "outputs": [],
   "source": [
    "# Invoice Consistency\n",
    "invoice_consistency = df_train.groupby('CUSTOMERID')['INVOICE_PROCESSING_TIME'].std().reset_index()\n",
    "invoice_consistency.columns = ['CUSTOMERID', 'INVOICE_CONSISTENCY']"
   ]
  },
  {
   "cell_type": "code",
   "execution_count": 62,
   "id": "374e431c-0dee-4495-b5af-d00be943e416",
   "metadata": {},
   "outputs": [],
   "source": [
    "# Delivery Consistency\n",
    "delivery_consistency = df_train.groupby('CUSTOMERID')['DELIVERY_DELAY'].std().reset_index()\n",
    "delivery_consistency.columns = ['CUSTOMERID', 'DELIVERY_CONSISTENCY']"
   ]
  },
  {
   "cell_type": "code",
   "execution_count": 63,
   "id": "ac17f35a-abcb-4ab0-b26b-d56446cc0446",
   "metadata": {},
   "outputs": [],
   "source": [
    "# Payment Consistency\n",
    "payment_consistency = df_train.groupby('CUSTOMERID')['PAYMENT_DELAY'].std().reset_index()\n",
    "payment_consistency.columns = ['CUSTOMERID', 'PAYMENT_CONSISTENCY']"
   ]
  },
  {
   "cell_type": "code",
   "execution_count": 64,
   "id": "e31e3b8d-e754-46f3-bddb-42c7a11f30bc",
   "metadata": {},
   "outputs": [],
   "source": [
    "# Merging all features into a single dataframe\n",
    "features = [avg_order_processing_time, avg_invoice_processing_time, avg_delivery_delay, avg_payment_delay, total_delays, order_consistency, invoice_consistency, delivery_consistency, payment_consistency]\n",
    "customer_features = df[['CUSTOMERID']].drop_duplicates().reset_index(drop=True)"
   ]
  },
  {
   "cell_type": "code",
   "execution_count": 65,
   "id": "eab430fa-ca41-446e-94c1-2b2183c0e584",
   "metadata": {},
   "outputs": [],
   "source": [
    "for feature in features:\n",
    "    customer_features = customer_features.merge(feature, on='CUSTOMERID', how='left')"
   ]
  },
  {
   "cell_type": "code",
   "execution_count": null,
   "id": "b142e483-a1ad-4940-ae10-325b97e21751",
   "metadata": {},
   "outputs": [],
   "source": [
    "# Merge the new features back into the original dataframe\n",
    "df_train = df_train.merge(customer_features, on='CUSTOMERID', how='left')"
   ]
  },
  {
   "cell_type": "code",
   "execution_count": null,
   "id": "b3da20aa-87ac-4bdb-9ba6-c0935ff26523",
   "metadata": {},
   "outputs": [],
   "source": [
    "df_train.head()"
   ]
  },
  {
   "cell_type": "code",
   "execution_count": null,
   "id": "adfc2681-6d03-4c80-a365-23e63a24abc7",
   "metadata": {},
   "outputs": [],
   "source": [
    "df_final = df_train.drop(['])"
   ]
  },
  {
   "cell_type": "code",
   "execution_count": null,
   "id": "c2b1b408-231a-461a-a74d-65c73600ebcb",
   "metadata": {},
   "outputs": [],
   "source": []
  }
 ],
 "metadata": {
  "kernelspec": {
   "display_name": "Python 3 (ipykernel)",
   "language": "python",
   "name": "python3"
  },
  "language_info": {
   "codemirror_mode": {
    "name": "ipython",
    "version": 3
   },
   "file_extension": ".py",
   "mimetype": "text/x-python",
   "name": "python",
   "nbconvert_exporter": "python",
   "pygments_lexer": "ipython3",
   "version": "3.9.19"
  }
 },
 "nbformat": 4,
 "nbformat_minor": 5
}
