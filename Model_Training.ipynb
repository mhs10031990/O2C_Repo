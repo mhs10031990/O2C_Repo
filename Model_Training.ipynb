{
 "cells": [
  {
   "cell_type": "markdown",
   "id": "0bcad55b-31a7-4ec6-99d1-5c1adce88d6e",
   "metadata": {},
   "source": [
    "# Use O2C_Template Customized Notebook Template"
   ]
  },
  {
   "cell_type": "code",
   "execution_count": 29,
   "id": "4545a18a-ac99-4a61-87eb-685a9fc1d216",
   "metadata": {},
   "outputs": [],
   "source": [
    "import pandas as pd\n",
    "import numpy as np"
   ]
  },
  {
   "cell_type": "code",
   "execution_count": 30,
   "id": "fe2d2323-ae3c-4027-b777-5c40e16db890",
   "metadata": {},
   "outputs": [],
   "source": [
    "from fosforml.model_manager.snowflakesession import get_session\n",
    "my_session = get_session()"
   ]
  },
  {
   "cell_type": "code",
   "execution_count": 31,
   "id": "b5958b79-ef81-46ec-8591-926b906584dd",
   "metadata": {},
   "outputs": [],
   "source": [
    "table_name = 'ORDER_TO_CASH_ENRICHED'\n",
    "\n",
    "sf_df = my_session.sql(\"select * from {}\".format(table_name))\n",
    "df = sf_df.to_pandas()"
   ]
  },
  {
   "cell_type": "code",
   "execution_count": 32,
   "id": "1b452a02-6961-49fb-b2cd-ad499a0d21d2",
   "metadata": {},
   "outputs": [],
   "source": [
    "df_train = df[df['INVOICESTATUS'] == 'Paid']\n",
    "df_new = df[df['INVOICESTATUS'] != 'Paid']"
   ]
  },
  {
   "cell_type": "code",
   "execution_count": 33,
   "id": "48250bbd-0aab-4c5b-9f78-2bb14e4cee79",
   "metadata": {},
   "outputs": [
    {
     "data": {
      "text/plain": [
       "((170290, 37), (3001, 37))"
      ]
     },
     "execution_count": 33,
     "metadata": {},
     "output_type": "execute_result"
    }
   ],
   "source": [
    "df_train.shape, df_new.shape"
   ]
  },
  {
   "cell_type": "code",
   "execution_count": 34,
   "id": "cb32c411-0adf-4d39-9c8a-22613b925acc",
   "metadata": {},
   "outputs": [],
   "source": [
    "# Assuming df is your dataframe\n",
    "df_train['ORDERDATE'] = pd.to_datetime(df_train['ORDERDATE'])\n",
    "df_train['DELIVERYDATE'] = pd.to_datetime(df_train['DELIVERYDATE'])\n",
    "df_train['INVOICEDATE'] = pd.to_datetime(df_train['INVOICEDATE'])\n",
    "df_train['PAYMENTDATE'] = pd.to_datetime(df_train['PAYMENTDATE'])\n",
    "df_train['INVOICEDUEDATE'] = pd.to_datetime(df_train['INVOICEDUEDATE'])"
   ]
  },
  {
   "cell_type": "code",
   "execution_count": 35,
   "id": "983ba561-f1b5-40e7-9405-20ff02923632",
   "metadata": {},
   "outputs": [],
   "source": [
    "df_train['DELIVEREDON'] = pd.to_datetime(df_train['DELIVEREDON'])"
   ]
  },
  {
   "cell_type": "code",
   "execution_count": 36,
   "id": "4f24101f-c430-4861-a5ac-71a752d9baad",
   "metadata": {},
   "outputs": [],
   "source": [
    "# Order Processing Time\n",
    "df_train['ORDER_PROCESSING_TIME'] = (df_train['DELIVERYDATE'] - df_train['ORDERDATE']).dt.days\n",
    "\n",
    "# Invoice Processing Time\n",
    "df_train['INVOICE_PROCESSING_TIME'] = (df_train['PAYMENTDATE'] - df_train['INVOICEDATE']).dt.days\n",
    "\n",
    "# Order Value per Unit\n",
    "df_train['ORDER_VALUE_PER_UNIT'] = df_train['ORDERVALUE'] / df_train['ORDERQUANTITY']"
   ]
  },
  {
   "cell_type": "code",
   "execution_count": 37,
   "id": "4cdade4a-403a-400c-865f-5beb93762b42",
   "metadata": {},
   "outputs": [
    {
     "name": "stdout",
     "output_type": "stream",
     "text": [
      "<class 'pandas.core.frame.DataFrame'>\n",
      "Index: 170290 entries, 0 to 170289\n",
      "Data columns (total 40 columns):\n",
      " #   Column                   Non-Null Count   Dtype         \n",
      "---  ------                   --------------   -----         \n",
      " 0   ORDERID                  170290 non-null  object        \n",
      " 1   ORDERITEMID              170290 non-null  object        \n",
      " 2   PRODUCTID                170290 non-null  object        \n",
      " 3   PRODUCTNAME              170290 non-null  object        \n",
      " 4   ORDERQUANTITY            170290 non-null  int16         \n",
      " 5   UNITPRICE                170290 non-null  int32         \n",
      " 6   ORDERVALUE               170290 non-null  int32         \n",
      " 7   CUSTOMERID               170290 non-null  object        \n",
      " 8   CUSTOMERNAME             170290 non-null  object        \n",
      " 9   PRODUCTCATEGORY          170290 non-null  object        \n",
      " 10  ORDERDATE                170290 non-null  datetime64[ns]\n",
      " 11  ORDERSTATUS              170290 non-null  object        \n",
      " 12  ORDERAMOUNT              170290 non-null  int32         \n",
      " 13  ORDERCOUNT               170290 non-null  int8          \n",
      " 14  SHIPMENTID               170290 non-null  object        \n",
      " 15  SHIPMENTDATE             170290 non-null  object        \n",
      " 16  DELIVERYDATE             170290 non-null  datetime64[ns]\n",
      " 17  DELIVEREDON              170290 non-null  datetime64[ns]\n",
      " 18  CARRIER                  170290 non-null  object        \n",
      " 19  SHIPMENTSTATUS           170290 non-null  object        \n",
      " 20  INVOICEID                170290 non-null  object        \n",
      " 21  INVOICEDATE              170290 non-null  datetime64[ns]\n",
      " 22  INVOICEDUEDATE           170290 non-null  datetime64[ns]\n",
      " 23  PAYMENTDATE              170290 non-null  datetime64[ns]\n",
      " 24  INVOICESTATUS            170290 non-null  object        \n",
      " 25  PAYMENTMETHOD            170290 non-null  object        \n",
      " 26  PRODUCTTYPE              170290 non-null  object        \n",
      " 27  QUANTITY                 170290 non-null  int16         \n",
      " 28  NAME                     170290 non-null  object        \n",
      " 29  COMPANYTYPE              170290 non-null  object        \n",
      " 30  CONTACTDETAILS           170290 non-null  object        \n",
      " 31  EMAILDETAILS             170290 non-null  object        \n",
      " 32  ADDRESSDETAILS           170290 non-null  object        \n",
      " 33  ADMINDETAILS             170290 non-null  object        \n",
      " 34  CREDITLIMIT              170290 non-null  int32         \n",
      " 35  CREDITRATING             170290 non-null  object        \n",
      " 36  CUSTOMERTYPE             170290 non-null  object        \n",
      " 37  ORDER_PROCESSING_TIME    170290 non-null  int64         \n",
      " 38  INVOICE_PROCESSING_TIME  170290 non-null  int64         \n",
      " 39  ORDER_VALUE_PER_UNIT     170290 non-null  float64       \n",
      "dtypes: datetime64[ns](6), float64(1), int16(2), int32(4), int64(2), int8(1), object(24)\n",
      "memory usage: 47.6+ MB\n"
     ]
    }
   ],
   "source": [
    "df_train.info()"
   ]
  },
  {
   "cell_type": "code",
   "execution_count": 38,
   "id": "f30d55d4-b699-4340-a5da-655c87de0bf5",
   "metadata": {},
   "outputs": [],
   "source": [
    "# Delivery Delay\n",
    "df_train['DELIVERY_DELAY'] = (df_train['DELIVERYDATE'] - df_train['DELIVEREDON']).dt.days"
   ]
  },
  {
   "cell_type": "code",
   "execution_count": 39,
   "id": "027adde3-e175-49c1-8a52-c526f57b11cb",
   "metadata": {},
   "outputs": [],
   "source": [
    "# Payment Delay\n",
    "df_train['PAYMENT_DELAY'] = (df_train['PAYMENTDATE'] - df_train['INVOICEDUEDATE']).dt.days"
   ]
  },
  {
   "cell_type": "code",
   "execution_count": 40,
   "id": "163e876c-ec4c-4a71-b316-b9a6db1f5ba7",
   "metadata": {},
   "outputs": [],
   "source": [
    "# Customer Lifetime Value (CLV)\n",
    "clv = df_train.groupby('CUSTOMERID')['ORDERVALUE'].sum().reset_index()\n",
    "clv.columns = ['CUSTOMERID', 'CUSTOMER_LIFETIME_VALUE']\n",
    "df_train = df_train.merge(clv, on='CUSTOMERID', how='left')"
   ]
  },
  {
   "cell_type": "code",
   "execution_count": 41,
   "id": "6d0685f0-9346-461f-8a16-34be731448bb",
   "metadata": {},
   "outputs": [],
   "source": [
    "# Order Frequency\n",
    "order_freq = df_train.groupby('CUSTOMERID')['ORDERID'].nunique().reset_index()\n",
    "order_freq.columns = ['CUSTOMERID', 'ORDER_FREQUENCY']\n",
    "df_train = df_train.merge(order_freq, on='CUSTOMERID', how='left')"
   ]
  },
  {
   "cell_type": "code",
   "execution_count": 42,
   "id": "223f3d85-715b-4555-a803-3797dded95b2",
   "metadata": {},
   "outputs": [],
   "source": [
    "# Average Order Value\n",
    "avg_order_value = df_train.groupby('CUSTOMERID')['ORDERVALUE'].mean().reset_index()\n",
    "avg_order_value.columns = ['CUSTOMERID', 'AVERAGE_ORDER_VALUE']\n",
    "df_train = df_train.merge(avg_order_value, on='CUSTOMERID', how='left')"
   ]
  },
  {
   "cell_type": "code",
   "execution_count": 43,
   "id": "4099bd9f-a0ec-420c-80d4-d990d70446d8",
   "metadata": {},
   "outputs": [],
   "source": [
    "# Recency\n",
    "latest_order_date = df_train.groupby('CUSTOMERID')['ORDERDATE'].max().reset_index()\n",
    "latest_order_date.columns = ['CUSTOMERID', 'LAST_ORDER_DATE']\n",
    "latest_order_date['RECENCY'] = (pd.to_datetime('today') - latest_order_date['LAST_ORDER_DATE']).dt.days\n",
    "df_train = df_train.merge(latest_order_date[['CUSTOMERID', 'RECENCY']], on='CUSTOMERID', how='left')"
   ]
  },
  {
   "cell_type": "code",
   "execution_count": 45,
   "id": "1196d370-693c-4cb0-a403-f4bec6ccd399",
   "metadata": {},
   "outputs": [],
   "source": [
    "# Preferred Payment Method\n",
    "preferred_payment_method = df_train.groupby('CUSTOMERID')['PAYMENTMETHOD'].agg(lambda x: x.value_counts().index[0]).reset_index()\n",
    "preferred_payment_method.columns = ['CUSTOMERID', 'PREFERRED_PAYMENT_METHOD']\n",
    "df_train = df_train.merge(preferred_payment_method, on='CUSTOMERID', how='left')"
   ]
  },
  {
   "cell_type": "code",
   "execution_count": 46,
   "id": "74939fe8-91d1-4474-8c9b-d541ed677c9b",
   "metadata": {},
   "outputs": [],
   "source": [
    "# Preferred Product Category\n",
    "preferred_product_category = df_train.groupby('CUSTOMERID')['PRODUCTCATEGORY'].agg(lambda x: x.value_counts().index[0]).reset_index()\n",
    "preferred_product_category.columns = ['CUSTOMERID', 'PREFERRED_PRODUCT_CATEGORY']\n",
    "df_train = df_train.merge(preferred_product_category, on='CUSTOMERID', how='left')"
   ]
  },
  {
   "cell_type": "code",
   "execution_count": 48,
   "id": "df5cd292-37a3-42f7-8015-931f065a5f32",
   "metadata": {},
   "outputs": [],
   "source": [
    "# Preferred Product Category\n",
    "preferred_product_type = df_train.groupby('CUSTOMERID')['PRODUCTTYPE'].agg(lambda x: x.value_counts().index[0]).reset_index()\n",
    "preferred_product_type.columns = ['CUSTOMERID', 'PREFERRED_PRODUCT_TYPE']\n",
    "df_train = df_train.merge(preferred_product_type, on='CUSTOMERID', how='left')"
   ]
  },
  {
   "cell_type": "code",
   "execution_count": 49,
   "id": "3f027c2b-0943-4ed8-a7b7-c716703b4423",
   "metadata": {},
   "outputs": [
    {
     "data": {
      "text/html": [
       "<div>\n",
       "<style scoped>\n",
       "    .dataframe tbody tr th:only-of-type {\n",
       "        vertical-align: middle;\n",
       "    }\n",
       "\n",
       "    .dataframe tbody tr th {\n",
       "        vertical-align: top;\n",
       "    }\n",
       "\n",
       "    .dataframe thead th {\n",
       "        text-align: right;\n",
       "    }\n",
       "</style>\n",
       "<table border=\"1\" class=\"dataframe\">\n",
       "  <thead>\n",
       "    <tr style=\"text-align: right;\">\n",
       "      <th></th>\n",
       "      <th>ORDERID</th>\n",
       "      <th>ORDERITEMID</th>\n",
       "      <th>PRODUCTID</th>\n",
       "      <th>PRODUCTNAME</th>\n",
       "      <th>ORDERQUANTITY</th>\n",
       "      <th>UNITPRICE</th>\n",
       "      <th>ORDERVALUE</th>\n",
       "      <th>CUSTOMERID</th>\n",
       "      <th>CUSTOMERNAME</th>\n",
       "      <th>PRODUCTCATEGORY</th>\n",
       "      <th>...</th>\n",
       "      <th>ORDER_VALUE_PER_UNIT</th>\n",
       "      <th>DELIVERY_DELAY</th>\n",
       "      <th>PAYMENT_DELAY</th>\n",
       "      <th>CUSTOMER_LIFETIME_VALUE</th>\n",
       "      <th>ORDER_FREQUENCY</th>\n",
       "      <th>AVERAGE_ORDER_VALUE</th>\n",
       "      <th>RECENCY</th>\n",
       "      <th>PREFERRED_PAYMENT_METHOD</th>\n",
       "      <th>PREFERRED_PRODUCT_CATEGORY</th>\n",
       "      <th>PREFERRED_PRODUCT_TYPE</th>\n",
       "    </tr>\n",
       "  </thead>\n",
       "  <tbody>\n",
       "    <tr>\n",
       "      <th>0</th>\n",
       "      <td>OR-1d383f77-5592-46ad-8e52-29d33a6502ad</td>\n",
       "      <td>OI-5759e816-1866-4073-8d3c-6ad53993c09b</td>\n",
       "      <td>PID-4b87db26-edd8-4b4a-8143-adb85ba6dbe2</td>\n",
       "      <td>Insulation Material</td>\n",
       "      <td>1630</td>\n",
       "      <td>2</td>\n",
       "      <td>3260</td>\n",
       "      <td>CID-4a14e75e-cd20-44a1-9696-d5eb1746b894</td>\n",
       "      <td>Anabrige LLP</td>\n",
       "      <td>Construction Materials</td>\n",
       "      <td>...</td>\n",
       "      <td>2.0</td>\n",
       "      <td>0</td>\n",
       "      <td>-3</td>\n",
       "      <td>88348548</td>\n",
       "      <td>595</td>\n",
       "      <td>73623.790000</td>\n",
       "      <td>22</td>\n",
       "      <td>Cash</td>\n",
       "      <td>Construction Materials</td>\n",
       "      <td>PVC Pipes</td>\n",
       "    </tr>\n",
       "    <tr>\n",
       "      <th>1</th>\n",
       "      <td>OR-1d383f77-5592-46ad-8e52-29d33a6502ad</td>\n",
       "      <td>OI-cca9228c-f83d-4128-94d9-6b5eb944f23f</td>\n",
       "      <td>PID-89334032-db8d-4821-a9ad-5bd9a5305740</td>\n",
       "      <td>Cement</td>\n",
       "      <td>123</td>\n",
       "      <td>100</td>\n",
       "      <td>12300</td>\n",
       "      <td>CID-4a14e75e-cd20-44a1-9696-d5eb1746b894</td>\n",
       "      <td>Anabrige LLP</td>\n",
       "      <td>Construction Materials</td>\n",
       "      <td>...</td>\n",
       "      <td>100.0</td>\n",
       "      <td>0</td>\n",
       "      <td>-3</td>\n",
       "      <td>88348548</td>\n",
       "      <td>595</td>\n",
       "      <td>73623.790000</td>\n",
       "      <td>22</td>\n",
       "      <td>Cash</td>\n",
       "      <td>Construction Materials</td>\n",
       "      <td>PVC Pipes</td>\n",
       "    </tr>\n",
       "    <tr>\n",
       "      <th>2</th>\n",
       "      <td>OR-1d383f77-5592-46ad-8e52-29d33a6502ad</td>\n",
       "      <td>OI-04e65e52-f3ab-46e6-bef4-e2c4b2c4ee3a</td>\n",
       "      <td>PID-3e2ce142-a70d-4da4-8770-2079f75f43a9</td>\n",
       "      <td>Roofing Sheets</td>\n",
       "      <td>1625</td>\n",
       "      <td>7</td>\n",
       "      <td>11375</td>\n",
       "      <td>CID-4a14e75e-cd20-44a1-9696-d5eb1746b894</td>\n",
       "      <td>Anabrige LLP</td>\n",
       "      <td>Construction Materials</td>\n",
       "      <td>...</td>\n",
       "      <td>7.0</td>\n",
       "      <td>0</td>\n",
       "      <td>-3</td>\n",
       "      <td>88348548</td>\n",
       "      <td>595</td>\n",
       "      <td>73623.790000</td>\n",
       "      <td>22</td>\n",
       "      <td>Cash</td>\n",
       "      <td>Construction Materials</td>\n",
       "      <td>PVC Pipes</td>\n",
       "    </tr>\n",
       "    <tr>\n",
       "      <th>3</th>\n",
       "      <td>OR-343ce41a-322b-4823-8afc-52242973d163</td>\n",
       "      <td>OI-6125f927-0d99-48d5-9fa2-74b8a310af46</td>\n",
       "      <td>PID-fec6ed6f-7ac1-4655-b4a7-9766cff15b7b</td>\n",
       "      <td>Engine Oil</td>\n",
       "      <td>263</td>\n",
       "      <td>40</td>\n",
       "      <td>10520</td>\n",
       "      <td>CID-f922f515-1a7a-4640-959a-3c2f093f4d47</td>\n",
       "      <td>FULCRO</td>\n",
       "      <td>Automotive</td>\n",
       "      <td>...</td>\n",
       "      <td>40.0</td>\n",
       "      <td>0</td>\n",
       "      <td>8</td>\n",
       "      <td>36452740</td>\n",
       "      <td>649</td>\n",
       "      <td>27826.519084</td>\n",
       "      <td>26</td>\n",
       "      <td>Cash</td>\n",
       "      <td>Automotive</td>\n",
       "      <td>Radiator Coolant</td>\n",
       "    </tr>\n",
       "    <tr>\n",
       "      <th>4</th>\n",
       "      <td>OR-1310822f-e948-4c29-8da7-beec09196076</td>\n",
       "      <td>OI-54edae96-61a7-4666-8fe8-50d10dfd9323</td>\n",
       "      <td>PID-8b2ea2ce-e1df-4139-b179-3e7f217a9f9b</td>\n",
       "      <td>Conveyor Belt</td>\n",
       "      <td>306</td>\n",
       "      <td>1000</td>\n",
       "      <td>306000</td>\n",
       "      <td>CID-169eb6d1-27a1-4859-b7c8-5073ca1eb201</td>\n",
       "      <td>Taylor Ltd</td>\n",
       "      <td>Industrial Equipment</td>\n",
       "      <td>...</td>\n",
       "      <td>1000.0</td>\n",
       "      <td>-3</td>\n",
       "      <td>-2</td>\n",
       "      <td>1144673360</td>\n",
       "      <td>584</td>\n",
       "      <td>975851.116795</td>\n",
       "      <td>22</td>\n",
       "      <td>Cash</td>\n",
       "      <td>Industrial Equipment</td>\n",
       "      <td>Industrial Robot</td>\n",
       "    </tr>\n",
       "  </tbody>\n",
       "</table>\n",
       "<p>5 rows × 49 columns</p>\n",
       "</div>"
      ],
      "text/plain": [
       "                                   ORDERID  \\\n",
       "0  OR-1d383f77-5592-46ad-8e52-29d33a6502ad   \n",
       "1  OR-1d383f77-5592-46ad-8e52-29d33a6502ad   \n",
       "2  OR-1d383f77-5592-46ad-8e52-29d33a6502ad   \n",
       "3  OR-343ce41a-322b-4823-8afc-52242973d163   \n",
       "4  OR-1310822f-e948-4c29-8da7-beec09196076   \n",
       "\n",
       "                               ORDERITEMID  \\\n",
       "0  OI-5759e816-1866-4073-8d3c-6ad53993c09b   \n",
       "1  OI-cca9228c-f83d-4128-94d9-6b5eb944f23f   \n",
       "2  OI-04e65e52-f3ab-46e6-bef4-e2c4b2c4ee3a   \n",
       "3  OI-6125f927-0d99-48d5-9fa2-74b8a310af46   \n",
       "4  OI-54edae96-61a7-4666-8fe8-50d10dfd9323   \n",
       "\n",
       "                                  PRODUCTID          PRODUCTNAME  \\\n",
       "0  PID-4b87db26-edd8-4b4a-8143-adb85ba6dbe2  Insulation Material   \n",
       "1  PID-89334032-db8d-4821-a9ad-5bd9a5305740               Cement   \n",
       "2  PID-3e2ce142-a70d-4da4-8770-2079f75f43a9       Roofing Sheets   \n",
       "3  PID-fec6ed6f-7ac1-4655-b4a7-9766cff15b7b           Engine Oil   \n",
       "4  PID-8b2ea2ce-e1df-4139-b179-3e7f217a9f9b        Conveyor Belt   \n",
       "\n",
       "   ORDERQUANTITY  UNITPRICE  ORDERVALUE  \\\n",
       "0           1630          2        3260   \n",
       "1            123        100       12300   \n",
       "2           1625          7       11375   \n",
       "3            263         40       10520   \n",
       "4            306       1000      306000   \n",
       "\n",
       "                                 CUSTOMERID  CUSTOMERNAME  \\\n",
       "0  CID-4a14e75e-cd20-44a1-9696-d5eb1746b894  Anabrige LLP   \n",
       "1  CID-4a14e75e-cd20-44a1-9696-d5eb1746b894  Anabrige LLP   \n",
       "2  CID-4a14e75e-cd20-44a1-9696-d5eb1746b894  Anabrige LLP   \n",
       "3  CID-f922f515-1a7a-4640-959a-3c2f093f4d47        FULCRO   \n",
       "4  CID-169eb6d1-27a1-4859-b7c8-5073ca1eb201    Taylor Ltd   \n",
       "\n",
       "          PRODUCTCATEGORY  ... ORDER_VALUE_PER_UNIT DELIVERY_DELAY  \\\n",
       "0  Construction Materials  ...                  2.0              0   \n",
       "1  Construction Materials  ...                100.0              0   \n",
       "2  Construction Materials  ...                  7.0              0   \n",
       "3              Automotive  ...                 40.0              0   \n",
       "4    Industrial Equipment  ...               1000.0             -3   \n",
       "\n",
       "   PAYMENT_DELAY  CUSTOMER_LIFETIME_VALUE ORDER_FREQUENCY AVERAGE_ORDER_VALUE  \\\n",
       "0             -3                 88348548             595        73623.790000   \n",
       "1             -3                 88348548             595        73623.790000   \n",
       "2             -3                 88348548             595        73623.790000   \n",
       "3              8                 36452740             649        27826.519084   \n",
       "4             -2               1144673360             584       975851.116795   \n",
       "\n",
       "  RECENCY PREFERRED_PAYMENT_METHOD PREFERRED_PRODUCT_CATEGORY  \\\n",
       "0      22                     Cash     Construction Materials   \n",
       "1      22                     Cash     Construction Materials   \n",
       "2      22                     Cash     Construction Materials   \n",
       "3      26                     Cash                 Automotive   \n",
       "4      22                     Cash       Industrial Equipment   \n",
       "\n",
       "  PREFERRED_PRODUCT_TYPE  \n",
       "0              PVC Pipes  \n",
       "1              PVC Pipes  \n",
       "2              PVC Pipes  \n",
       "3       Radiator Coolant  \n",
       "4       Industrial Robot  \n",
       "\n",
       "[5 rows x 49 columns]"
      ]
     },
     "execution_count": 49,
     "metadata": {},
     "output_type": "execute_result"
    }
   ],
   "source": [
    "df_train.head()"
   ]
  },
  {
   "cell_type": "code",
   "execution_count": null,
   "id": "e48e1c08-1667-4d3e-af80-cd1749552945",
   "metadata": {},
   "outputs": [],
   "source": []
  },
  {
   "cell_type": "code",
   "execution_count": null,
   "id": "1d8e512f-fb4d-490c-a4d6-1fa59c9a7164",
   "metadata": {},
   "outputs": [],
   "source": []
  },
  {
   "cell_type": "code",
   "execution_count": null,
   "id": "40b06a82-58ba-4ec0-b4b3-4c090baff7bd",
   "metadata": {},
   "outputs": [],
   "source": []
  },
  {
   "cell_type": "code",
   "execution_count": null,
   "id": "59efd32f-7e69-4fd9-b888-5220c9a2cf5d",
   "metadata": {},
   "outputs": [],
   "source": []
  },
  {
   "cell_type": "code",
   "execution_count": null,
   "id": "6c3b80bb-3f9f-4d8e-8bd3-971f63a9d751",
   "metadata": {},
   "outputs": [],
   "source": []
  },
  {
   "cell_type": "code",
   "execution_count": null,
   "id": "48acbf36-677c-43ac-b2bb-11e0dcb53bf8",
   "metadata": {},
   "outputs": [],
   "source": []
  },
  {
   "cell_type": "code",
   "execution_count": null,
   "id": "ac45a973-303d-40b9-87a5-afe5dd82c798",
   "metadata": {},
   "outputs": [],
   "source": []
  },
  {
   "cell_type": "code",
   "execution_count": null,
   "id": "374e431c-0dee-4495-b5af-d00be943e416",
   "metadata": {},
   "outputs": [],
   "source": []
  },
  {
   "cell_type": "code",
   "execution_count": null,
   "id": "ac17f35a-abcb-4ab0-b26b-d56446cc0446",
   "metadata": {},
   "outputs": [],
   "source": []
  },
  {
   "cell_type": "code",
   "execution_count": null,
   "id": "e31e3b8d-e754-46f3-bddb-42c7a11f30bc",
   "metadata": {},
   "outputs": [],
   "source": []
  },
  {
   "cell_type": "code",
   "execution_count": null,
   "id": "eab430fa-ca41-446e-94c1-2b2183c0e584",
   "metadata": {},
   "outputs": [],
   "source": []
  },
  {
   "cell_type": "code",
   "execution_count": null,
   "id": "b142e483-a1ad-4940-ae10-325b97e21751",
   "metadata": {},
   "outputs": [],
   "source": []
  },
  {
   "cell_type": "code",
   "execution_count": null,
   "id": "b3da20aa-87ac-4bdb-9ba6-c0935ff26523",
   "metadata": {},
   "outputs": [],
   "source": []
  },
  {
   "cell_type": "code",
   "execution_count": null,
   "id": "adfc2681-6d03-4c80-a365-23e63a24abc7",
   "metadata": {},
   "outputs": [],
   "source": []
  },
  {
   "cell_type": "code",
   "execution_count": null,
   "id": "c2b1b408-231a-461a-a74d-65c73600ebcb",
   "metadata": {},
   "outputs": [],
   "source": []
  }
 ],
 "metadata": {
  "kernelspec": {
   "display_name": "Python 3 (ipykernel)",
   "language": "python",
   "name": "python3"
  },
  "language_info": {
   "codemirror_mode": {
    "name": "ipython",
    "version": 3
   },
   "file_extension": ".py",
   "mimetype": "text/x-python",
   "name": "python",
   "nbconvert_exporter": "python",
   "pygments_lexer": "ipython3",
   "version": "3.9.19"
  }
 },
 "nbformat": 4,
 "nbformat_minor": 5
}
