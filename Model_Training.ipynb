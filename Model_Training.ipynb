{
 "cells": [
  {
   "cell_type": "markdown",
   "id": "0bcad55b-31a7-4ec6-99d1-5c1adce88d6e",
   "metadata": {},
   "source": [
    "# Use O2C_Template Customized Notebook Template"
   ]
  },
  {
   "cell_type": "code",
   "execution_count": 1,
   "id": "4545a18a-ac99-4a61-87eb-685a9fc1d216",
   "metadata": {},
   "outputs": [],
   "source": [
    "import pandas as pd\n",
    "import numpy as np"
   ]
  },
  {
   "cell_type": "code",
   "execution_count": 2,
   "id": "fe2d2323-ae3c-4027-b777-5c40e16db890",
   "metadata": {},
   "outputs": [],
   "source": [
    "from fosforml.model_manager.snowflakesession import get_session\n",
    "my_session = get_session()"
   ]
  },
  {
   "cell_type": "code",
   "execution_count": 4,
   "id": "b5958b79-ef81-46ec-8591-926b906584dd",
   "metadata": {},
   "outputs": [],
   "source": [
    "table_name = 'ORDER_TO_CASH_ENRICHED'\n",
    "\n",
    "sf_df = my_session.sql(\"select * from {}\".format(table_name))\n",
    "df = sf_df.to_pandas()"
   ]
  },
  {
   "cell_type": "code",
   "execution_count": 6,
   "id": "1b452a02-6961-49fb-b2cd-ad499a0d21d2",
   "metadata": {},
   "outputs": [],
   "source": [
    "df_train = df[df['INVOICESTATUS'] == 'Paid']\n",
    "df_new = df[df['INVOICESTATUS'] != 'Paid']"
   ]
  },
  {
   "cell_type": "code",
   "execution_count": 7,
   "id": "48250bbd-0aab-4c5b-9f78-2bb14e4cee79",
   "metadata": {},
   "outputs": [
    {
     "data": {
      "text/plain": [
       "((170290, 37), (3001, 37))"
      ]
     },
     "execution_count": 7,
     "metadata": {},
     "output_type": "execute_result"
    }
   ],
   "source": [
    "df_train.shape, df_new.shape"
   ]
  },
  {
   "cell_type": "code",
   "execution_count": 8,
   "id": "cb32c411-0adf-4d39-9c8a-22613b925acc",
   "metadata": {},
   "outputs": [],
   "source": [
    "# Assuming df is your dataframe\n",
    "df_train['ORDERDATE'] = pd.to_datetime(df_train['ORDERDATE'])\n",
    "df_train['DELIVERYDATE'] = pd.to_datetime(df_train['DELIVERYDATE'])\n",
    "df_train['INVOICEDATE'] = pd.to_datetime(df_train['INVOICEDATE'])\n",
    "df_train['PAYMENTDATE'] = pd.to_datetime(df_train['PAYMENTDATE'])\n",
    "df_train['INVOICEDUEDATE'] = pd.to_datetime(df_train['INVOICEDUEDATE'])"
   ]
  },
  {
   "cell_type": "code",
   "execution_count": 9,
   "id": "4f24101f-c430-4861-a5ac-71a752d9baad",
   "metadata": {},
   "outputs": [],
   "source": [
    "# Order Processing Time\n",
    "df_train['ORDER_PROCESSING_TIME'] = (df_train['DELIVERYDATE'] - df_train['ORDERDATE']).dt.days\n",
    "\n",
    "# Invoice Processing Time\n",
    "df_train['INVOICE_PROCESSING_TIME'] = (df_train['PAYMENTDATE'] - df_train['INVOICEDATE']).dt.days\n",
    "\n",
    "# Order Value per Unit\n",
    "df_train['ORDER_VALUE_PER_UNIT'] = df_train['ORDERVALUE'] / df_train['ORDERQUANTITY']"
   ]
  },
  {
   "cell_type": "code",
   "execution_count": 16,
   "id": "f30d55d4-b699-4340-a5da-655c87de0bf5",
   "metadata": {},
   "outputs": [
    {
     "ename": "TypeError",
     "evalue": "unsupported operand type(s) for -: 'Timestamp' and 'datetime.date'",
     "output_type": "error",
     "traceback": [
      "\u001b[0;31m---------------------------------------------------------------------------\u001b[0m",
      "\u001b[0;31mTypeError\u001b[0m                                 Traceback (most recent call last)",
      "Cell \u001b[0;32mIn[16], line 2\u001b[0m\n\u001b[1;32m      1\u001b[0m \u001b[38;5;66;03m# Delivery Delay\u001b[39;00m\n\u001b[0;32m----> 2\u001b[0m df_train[\u001b[38;5;124m'\u001b[39m\u001b[38;5;124mDELIVERY_DELAY\u001b[39m\u001b[38;5;124m'\u001b[39m] \u001b[38;5;241m=\u001b[39m (\u001b[43mdf_train\u001b[49m\u001b[43m[\u001b[49m\u001b[38;5;124;43m'\u001b[39;49m\u001b[38;5;124;43mDELIVERYDATE\u001b[39;49m\u001b[38;5;124;43m'\u001b[39;49m\u001b[43m]\u001b[49m\u001b[43m \u001b[49m\u001b[38;5;241;43m-\u001b[39;49m\u001b[43m \u001b[49m\u001b[43mdf_train\u001b[49m\u001b[43m[\u001b[49m\u001b[38;5;124;43m'\u001b[39;49m\u001b[38;5;124;43mDELIVEREDON\u001b[39;49m\u001b[38;5;124;43m'\u001b[39;49m\u001b[43m]\u001b[49m)\u001b[38;5;241m.\u001b[39mdt\u001b[38;5;241m.\u001b[39mdays\n",
      "File \u001b[0;32m/opt/conda/lib/python3.9/site-packages/pandas/core/ops/common.py:76\u001b[0m, in \u001b[0;36m_unpack_zerodim_and_defer.<locals>.new_method\u001b[0;34m(self, other)\u001b[0m\n\u001b[1;32m     72\u001b[0m             \u001b[38;5;28;01mreturn\u001b[39;00m \u001b[38;5;28mNotImplemented\u001b[39m\n\u001b[1;32m     74\u001b[0m other \u001b[38;5;241m=\u001b[39m item_from_zerodim(other)\n\u001b[0;32m---> 76\u001b[0m \u001b[38;5;28;01mreturn\u001b[39;00m \u001b[43mmethod\u001b[49m\u001b[43m(\u001b[49m\u001b[38;5;28;43mself\u001b[39;49m\u001b[43m,\u001b[49m\u001b[43m \u001b[49m\u001b[43mother\u001b[49m\u001b[43m)\u001b[49m\n",
      "File \u001b[0;32m/opt/conda/lib/python3.9/site-packages/pandas/core/arraylike.py:194\u001b[0m, in \u001b[0;36mOpsMixin.__sub__\u001b[0;34m(self, other)\u001b[0m\n\u001b[1;32m    192\u001b[0m \u001b[38;5;129m@unpack_zerodim_and_defer\u001b[39m(\u001b[38;5;124m\"\u001b[39m\u001b[38;5;124m__sub__\u001b[39m\u001b[38;5;124m\"\u001b[39m)\n\u001b[1;32m    193\u001b[0m \u001b[38;5;28;01mdef\u001b[39;00m \u001b[38;5;21m__sub__\u001b[39m(\u001b[38;5;28mself\u001b[39m, other):\n\u001b[0;32m--> 194\u001b[0m     \u001b[38;5;28;01mreturn\u001b[39;00m \u001b[38;5;28;43mself\u001b[39;49m\u001b[38;5;241;43m.\u001b[39;49m\u001b[43m_arith_method\u001b[49m\u001b[43m(\u001b[49m\u001b[43mother\u001b[49m\u001b[43m,\u001b[49m\u001b[43m \u001b[49m\u001b[43moperator\u001b[49m\u001b[38;5;241;43m.\u001b[39;49m\u001b[43msub\u001b[49m\u001b[43m)\u001b[49m\n",
      "File \u001b[0;32m/opt/conda/lib/python3.9/site-packages/pandas/core/series.py:6115\u001b[0m, in \u001b[0;36mSeries._arith_method\u001b[0;34m(self, other, op)\u001b[0m\n\u001b[1;32m   6113\u001b[0m \u001b[38;5;28;01mdef\u001b[39;00m \u001b[38;5;21m_arith_method\u001b[39m(\u001b[38;5;28mself\u001b[39m, other, op):\n\u001b[1;32m   6114\u001b[0m     \u001b[38;5;28mself\u001b[39m, other \u001b[38;5;241m=\u001b[39m \u001b[38;5;28mself\u001b[39m\u001b[38;5;241m.\u001b[39m_align_for_op(other)\n\u001b[0;32m-> 6115\u001b[0m     \u001b[38;5;28;01mreturn\u001b[39;00m \u001b[43mbase\u001b[49m\u001b[38;5;241;43m.\u001b[39;49m\u001b[43mIndexOpsMixin\u001b[49m\u001b[38;5;241;43m.\u001b[39;49m\u001b[43m_arith_method\u001b[49m\u001b[43m(\u001b[49m\u001b[38;5;28;43mself\u001b[39;49m\u001b[43m,\u001b[49m\u001b[43m \u001b[49m\u001b[43mother\u001b[49m\u001b[43m,\u001b[49m\u001b[43m \u001b[49m\u001b[43mop\u001b[49m\u001b[43m)\u001b[49m\n",
      "File \u001b[0;32m/opt/conda/lib/python3.9/site-packages/pandas/core/base.py:1382\u001b[0m, in \u001b[0;36mIndexOpsMixin._arith_method\u001b[0;34m(self, other, op)\u001b[0m\n\u001b[1;32m   1379\u001b[0m     rvalues \u001b[38;5;241m=\u001b[39m np\u001b[38;5;241m.\u001b[39marange(rvalues\u001b[38;5;241m.\u001b[39mstart, rvalues\u001b[38;5;241m.\u001b[39mstop, rvalues\u001b[38;5;241m.\u001b[39mstep)\n\u001b[1;32m   1381\u001b[0m \u001b[38;5;28;01mwith\u001b[39;00m np\u001b[38;5;241m.\u001b[39merrstate(\u001b[38;5;28mall\u001b[39m\u001b[38;5;241m=\u001b[39m\u001b[38;5;124m\"\u001b[39m\u001b[38;5;124mignore\u001b[39m\u001b[38;5;124m\"\u001b[39m):\n\u001b[0;32m-> 1382\u001b[0m     result \u001b[38;5;241m=\u001b[39m \u001b[43mops\u001b[49m\u001b[38;5;241;43m.\u001b[39;49m\u001b[43marithmetic_op\u001b[49m\u001b[43m(\u001b[49m\u001b[43mlvalues\u001b[49m\u001b[43m,\u001b[49m\u001b[43m \u001b[49m\u001b[43mrvalues\u001b[49m\u001b[43m,\u001b[49m\u001b[43m \u001b[49m\u001b[43mop\u001b[49m\u001b[43m)\u001b[49m\n\u001b[1;32m   1384\u001b[0m \u001b[38;5;28;01mreturn\u001b[39;00m \u001b[38;5;28mself\u001b[39m\u001b[38;5;241m.\u001b[39m_construct_result(result, name\u001b[38;5;241m=\u001b[39mres_name)\n",
      "File \u001b[0;32m/opt/conda/lib/python3.9/site-packages/pandas/core/ops/array_ops.py:273\u001b[0m, in \u001b[0;36marithmetic_op\u001b[0;34m(left, right, op)\u001b[0m\n\u001b[1;32m    260\u001b[0m \u001b[38;5;66;03m# NB: We assume that extract_array and ensure_wrapped_if_datetimelike\u001b[39;00m\n\u001b[1;32m    261\u001b[0m \u001b[38;5;66;03m#  have already been called on `left` and `right`,\u001b[39;00m\n\u001b[1;32m    262\u001b[0m \u001b[38;5;66;03m#  and `maybe_prepare_scalar_for_op` has already been called on `right`\u001b[39;00m\n\u001b[1;32m    263\u001b[0m \u001b[38;5;66;03m# We need to special-case datetime64/timedelta64 dtypes (e.g. because numpy\u001b[39;00m\n\u001b[1;32m    264\u001b[0m \u001b[38;5;66;03m# casts integer dtypes to timedelta64 when operating with timedelta64 - GH#22390)\u001b[39;00m\n\u001b[1;32m    266\u001b[0m \u001b[38;5;28;01mif\u001b[39;00m (\n\u001b[1;32m    267\u001b[0m     should_extension_dispatch(left, right)\n\u001b[1;32m    268\u001b[0m     \u001b[38;5;129;01mor\u001b[39;00m \u001b[38;5;28misinstance\u001b[39m(right, (Timedelta, BaseOffset, Timestamp))\n\u001b[0;32m   (...)\u001b[0m\n\u001b[1;32m    271\u001b[0m     \u001b[38;5;66;03m# Timedelta/Timestamp and other custom scalars are included in the check\u001b[39;00m\n\u001b[1;32m    272\u001b[0m     \u001b[38;5;66;03m# because numexpr will fail on it, see GH#31457\u001b[39;00m\n\u001b[0;32m--> 273\u001b[0m     res_values \u001b[38;5;241m=\u001b[39m \u001b[43mop\u001b[49m\u001b[43m(\u001b[49m\u001b[43mleft\u001b[49m\u001b[43m,\u001b[49m\u001b[43m \u001b[49m\u001b[43mright\u001b[49m\u001b[43m)\u001b[49m\n\u001b[1;32m    274\u001b[0m \u001b[38;5;28;01melse\u001b[39;00m:\n\u001b[1;32m    275\u001b[0m     \u001b[38;5;66;03m# TODO we should handle EAs consistently and move this check before the if/else\u001b[39;00m\n\u001b[1;32m    276\u001b[0m     \u001b[38;5;66;03m# (https://github.com/pandas-dev/pandas/issues/41165)\u001b[39;00m\n\u001b[1;32m    277\u001b[0m     \u001b[38;5;66;03m# error: Argument 2 to \"_bool_arith_check\" has incompatible type\u001b[39;00m\n\u001b[1;32m    278\u001b[0m     \u001b[38;5;66;03m# \"Union[ExtensionArray, ndarray[Any, Any]]\"; expected \"ndarray[Any, Any]\"\u001b[39;00m\n\u001b[1;32m    279\u001b[0m     _bool_arith_check(op, left, right)  \u001b[38;5;66;03m# type: ignore[arg-type]\u001b[39;00m\n",
      "File \u001b[0;32m/opt/conda/lib/python3.9/site-packages/pandas/core/ops/common.py:76\u001b[0m, in \u001b[0;36m_unpack_zerodim_and_defer.<locals>.new_method\u001b[0;34m(self, other)\u001b[0m\n\u001b[1;32m     72\u001b[0m             \u001b[38;5;28;01mreturn\u001b[39;00m \u001b[38;5;28mNotImplemented\u001b[39m\n\u001b[1;32m     74\u001b[0m other \u001b[38;5;241m=\u001b[39m item_from_zerodim(other)\n\u001b[0;32m---> 76\u001b[0m \u001b[38;5;28;01mreturn\u001b[39;00m \u001b[43mmethod\u001b[49m\u001b[43m(\u001b[49m\u001b[38;5;28;43mself\u001b[39;49m\u001b[43m,\u001b[49m\u001b[43m \u001b[49m\u001b[43mother\u001b[49m\u001b[43m)\u001b[49m\n",
      "File \u001b[0;32m/opt/conda/lib/python3.9/site-packages/pandas/core/arrays/datetimelike.py:1452\u001b[0m, in \u001b[0;36mDatetimeLikeArrayMixin.__sub__\u001b[0;34m(self, other)\u001b[0m\n\u001b[1;32m   1449\u001b[0m     result \u001b[38;5;241m=\u001b[39m \u001b[38;5;28mself\u001b[39m\u001b[38;5;241m.\u001b[39m_add_timedelta_arraylike(\u001b[38;5;241m-\u001b[39mother)\n\u001b[1;32m   1450\u001b[0m \u001b[38;5;28;01melif\u001b[39;00m is_object_dtype(other_dtype):\n\u001b[1;32m   1451\u001b[0m     \u001b[38;5;66;03m# e.g. Array/Index of DateOffset objects\u001b[39;00m\n\u001b[0;32m-> 1452\u001b[0m     result \u001b[38;5;241m=\u001b[39m \u001b[38;5;28;43mself\u001b[39;49m\u001b[38;5;241;43m.\u001b[39;49m\u001b[43m_addsub_object_array\u001b[49m\u001b[43m(\u001b[49m\u001b[43mother\u001b[49m\u001b[43m,\u001b[49m\u001b[43m \u001b[49m\u001b[43moperator\u001b[49m\u001b[38;5;241;43m.\u001b[39;49m\u001b[43msub\u001b[49m\u001b[43m)\u001b[49m\n\u001b[1;32m   1453\u001b[0m \u001b[38;5;28;01melif\u001b[39;00m lib\u001b[38;5;241m.\u001b[39mis_np_dtype(other_dtype, \u001b[38;5;124m\"\u001b[39m\u001b[38;5;124mM\u001b[39m\u001b[38;5;124m\"\u001b[39m) \u001b[38;5;129;01mor\u001b[39;00m \u001b[38;5;28misinstance\u001b[39m(\n\u001b[1;32m   1454\u001b[0m     other_dtype, DatetimeTZDtype\n\u001b[1;32m   1455\u001b[0m ):\n\u001b[1;32m   1456\u001b[0m     \u001b[38;5;66;03m# DatetimeIndex, ndarray[datetime64]\u001b[39;00m\n\u001b[1;32m   1457\u001b[0m     result \u001b[38;5;241m=\u001b[39m \u001b[38;5;28mself\u001b[39m\u001b[38;5;241m.\u001b[39m_sub_datetime_arraylike(other)\n",
      "File \u001b[0;32m/opt/conda/lib/python3.9/site-packages/pandas/core/arrays/datetimelike.py:1348\u001b[0m, in \u001b[0;36mDatetimeLikeArrayMixin._addsub_object_array\u001b[0;34m(self, other, op)\u001b[0m\n\u001b[1;32m   1345\u001b[0m \u001b[38;5;66;03m# Caller is responsible for broadcasting if necessary\u001b[39;00m\n\u001b[1;32m   1346\u001b[0m \u001b[38;5;28;01massert\u001b[39;00m \u001b[38;5;28mself\u001b[39m\u001b[38;5;241m.\u001b[39mshape \u001b[38;5;241m==\u001b[39m other\u001b[38;5;241m.\u001b[39mshape, (\u001b[38;5;28mself\u001b[39m\u001b[38;5;241m.\u001b[39mshape, other\u001b[38;5;241m.\u001b[39mshape)\n\u001b[0;32m-> 1348\u001b[0m res_values \u001b[38;5;241m=\u001b[39m \u001b[43mop\u001b[49m\u001b[43m(\u001b[49m\u001b[38;5;28;43mself\u001b[39;49m\u001b[38;5;241;43m.\u001b[39;49m\u001b[43mastype\u001b[49m\u001b[43m(\u001b[49m\u001b[38;5;124;43m\"\u001b[39;49m\u001b[38;5;124;43mO\u001b[39;49m\u001b[38;5;124;43m\"\u001b[39;49m\u001b[43m)\u001b[49m\u001b[43m,\u001b[49m\u001b[43m \u001b[49m\u001b[43mnp\u001b[49m\u001b[38;5;241;43m.\u001b[39;49m\u001b[43masarray\u001b[49m\u001b[43m(\u001b[49m\u001b[43mother\u001b[49m\u001b[43m)\u001b[49m\u001b[43m)\u001b[49m\n\u001b[1;32m   1349\u001b[0m \u001b[38;5;28;01mreturn\u001b[39;00m res_values\n",
      "\u001b[0;31mTypeError\u001b[0m: unsupported operand type(s) for -: 'Timestamp' and 'datetime.date'"
     ]
    }
   ],
   "source": [
    "# Delivery Delay\n",
    "df_train['DELIVERY_DELAY'] = (df_train['DELIVERYDATE'] - df_train['DELIVEREDON']).dt.days"
   ]
  },
  {
   "cell_type": "code",
   "execution_count": null,
   "id": "027adde3-e175-49c1-8a52-c526f57b11cb",
   "metadata": {},
   "outputs": [],
   "source": [
    "# Payment Delay\n",
    "df_train['PAYMENT_DELAY'] = (df_train['PAYMENTDATE'] - df_train['INVOICEDUEDATE']).dt.days"
   ]
  },
  {
   "cell_type": "code",
   "execution_count": 12,
   "id": "163e876c-ec4c-4a71-b316-b9a6db1f5ba7",
   "metadata": {},
   "outputs": [],
   "source": [
    "# Customer Lifetime Value (CLV)\n",
    "clv = df_train.groupby('CUSTOMERID')['ORDERVALUE'].sum().reset_index()\n",
    "clv.columns = ['CUSTOMERID', 'CUSTOMER_LIFETIME_VALUE']\n",
    "df_train = df_train.merge(clv, on='CUSTOMERID', how='left')"
   ]
  },
  {
   "cell_type": "code",
   "execution_count": 14,
   "id": "6d0685f0-9346-461f-8a16-34be731448bb",
   "metadata": {},
   "outputs": [],
   "source": [
    "# Order Frequency\n",
    "order_freq = df_train.groupby('CUSTOMERID')['ORDERID'].nunique().reset_index()\n",
    "order_freq.columns = ['CUSTOMERID', 'ORDER_FREQUENCY']\n",
    "df_train = df_train.merge(order_freq, on='CUSTOMERID', how='left')"
   ]
  },
  {
   "cell_type": "code",
   "execution_count": 15,
   "id": "3f027c2b-0943-4ed8-a7b7-c716703b4423",
   "metadata": {},
   "outputs": [
    {
     "data": {
      "text/html": [
       "<div>\n",
       "<style scoped>\n",
       "    .dataframe tbody tr th:only-of-type {\n",
       "        vertical-align: middle;\n",
       "    }\n",
       "\n",
       "    .dataframe tbody tr th {\n",
       "        vertical-align: top;\n",
       "    }\n",
       "\n",
       "    .dataframe thead th {\n",
       "        text-align: right;\n",
       "    }\n",
       "</style>\n",
       "<table border=\"1\" class=\"dataframe\">\n",
       "  <thead>\n",
       "    <tr style=\"text-align: right;\">\n",
       "      <th></th>\n",
       "      <th>ORDERID</th>\n",
       "      <th>ORDERITEMID</th>\n",
       "      <th>PRODUCTID</th>\n",
       "      <th>PRODUCTNAME</th>\n",
       "      <th>ORDERQUANTITY</th>\n",
       "      <th>UNITPRICE</th>\n",
       "      <th>ORDERVALUE</th>\n",
       "      <th>CUSTOMERID</th>\n",
       "      <th>CUSTOMERNAME</th>\n",
       "      <th>PRODUCTCATEGORY</th>\n",
       "      <th>...</th>\n",
       "      <th>ADDRESSDETAILS</th>\n",
       "      <th>ADMINDETAILS</th>\n",
       "      <th>CREDITLIMIT</th>\n",
       "      <th>CREDITRATING</th>\n",
       "      <th>CUSTOMERTYPE</th>\n",
       "      <th>ORDER_PROCESSING_TIME</th>\n",
       "      <th>INVOICE_PROCESSING_TIME</th>\n",
       "      <th>ORDER_VALUE_PER_UNIT</th>\n",
       "      <th>CUSTOMER_LIFETIME_VALUE</th>\n",
       "      <th>ORDER_FREQUENCY</th>\n",
       "    </tr>\n",
       "  </thead>\n",
       "  <tbody>\n",
       "    <tr>\n",
       "      <th>0</th>\n",
       "      <td>OR-1d383f77-5592-46ad-8e52-29d33a6502ad</td>\n",
       "      <td>OI-5759e816-1866-4073-8d3c-6ad53993c09b</td>\n",
       "      <td>PID-4b87db26-edd8-4b4a-8143-adb85ba6dbe2</td>\n",
       "      <td>Insulation Material</td>\n",
       "      <td>1630</td>\n",
       "      <td>2</td>\n",
       "      <td>3260</td>\n",
       "      <td>CID-4a14e75e-cd20-44a1-9696-d5eb1746b894</td>\n",
       "      <td>Anabrige LLP</td>\n",
       "      <td>Construction Materials</td>\n",
       "      <td>...</td>\n",
       "      <td>5779 Michael Meadow\\nSouth Connorchester, VA 9...</td>\n",
       "      <td>New Jersey</td>\n",
       "      <td>59238</td>\n",
       "      <td>fair</td>\n",
       "      <td>Construction Materials</td>\n",
       "      <td>7</td>\n",
       "      <td>2</td>\n",
       "      <td>2.0</td>\n",
       "      <td>88348548</td>\n",
       "      <td>595</td>\n",
       "    </tr>\n",
       "    <tr>\n",
       "      <th>1</th>\n",
       "      <td>OR-1d383f77-5592-46ad-8e52-29d33a6502ad</td>\n",
       "      <td>OI-cca9228c-f83d-4128-94d9-6b5eb944f23f</td>\n",
       "      <td>PID-89334032-db8d-4821-a9ad-5bd9a5305740</td>\n",
       "      <td>Cement</td>\n",
       "      <td>123</td>\n",
       "      <td>100</td>\n",
       "      <td>12300</td>\n",
       "      <td>CID-4a14e75e-cd20-44a1-9696-d5eb1746b894</td>\n",
       "      <td>Anabrige LLP</td>\n",
       "      <td>Construction Materials</td>\n",
       "      <td>...</td>\n",
       "      <td>5779 Michael Meadow\\nSouth Connorchester, VA 9...</td>\n",
       "      <td>New Jersey</td>\n",
       "      <td>59238</td>\n",
       "      <td>fair</td>\n",
       "      <td>Construction Materials</td>\n",
       "      <td>7</td>\n",
       "      <td>2</td>\n",
       "      <td>100.0</td>\n",
       "      <td>88348548</td>\n",
       "      <td>595</td>\n",
       "    </tr>\n",
       "    <tr>\n",
       "      <th>2</th>\n",
       "      <td>OR-1d383f77-5592-46ad-8e52-29d33a6502ad</td>\n",
       "      <td>OI-04e65e52-f3ab-46e6-bef4-e2c4b2c4ee3a</td>\n",
       "      <td>PID-3e2ce142-a70d-4da4-8770-2079f75f43a9</td>\n",
       "      <td>Roofing Sheets</td>\n",
       "      <td>1625</td>\n",
       "      <td>7</td>\n",
       "      <td>11375</td>\n",
       "      <td>CID-4a14e75e-cd20-44a1-9696-d5eb1746b894</td>\n",
       "      <td>Anabrige LLP</td>\n",
       "      <td>Construction Materials</td>\n",
       "      <td>...</td>\n",
       "      <td>5779 Michael Meadow\\nSouth Connorchester, VA 9...</td>\n",
       "      <td>New Jersey</td>\n",
       "      <td>59238</td>\n",
       "      <td>fair</td>\n",
       "      <td>Construction Materials</td>\n",
       "      <td>7</td>\n",
       "      <td>2</td>\n",
       "      <td>7.0</td>\n",
       "      <td>88348548</td>\n",
       "      <td>595</td>\n",
       "    </tr>\n",
       "    <tr>\n",
       "      <th>3</th>\n",
       "      <td>OR-343ce41a-322b-4823-8afc-52242973d163</td>\n",
       "      <td>OI-6125f927-0d99-48d5-9fa2-74b8a310af46</td>\n",
       "      <td>PID-fec6ed6f-7ac1-4655-b4a7-9766cff15b7b</td>\n",
       "      <td>Engine Oil</td>\n",
       "      <td>263</td>\n",
       "      <td>40</td>\n",
       "      <td>10520</td>\n",
       "      <td>CID-f922f515-1a7a-4640-959a-3c2f093f4d47</td>\n",
       "      <td>FULCRO</td>\n",
       "      <td>Automotive</td>\n",
       "      <td>...</td>\n",
       "      <td>650 Peter Forks\\nSouth Tonyborough, FL 20143</td>\n",
       "      <td>New York</td>\n",
       "      <td>99235</td>\n",
       "      <td>very poor</td>\n",
       "      <td>Automotive</td>\n",
       "      <td>4</td>\n",
       "      <td>13</td>\n",
       "      <td>40.0</td>\n",
       "      <td>36452740</td>\n",
       "      <td>649</td>\n",
       "    </tr>\n",
       "    <tr>\n",
       "      <th>4</th>\n",
       "      <td>OR-1310822f-e948-4c29-8da7-beec09196076</td>\n",
       "      <td>OI-54edae96-61a7-4666-8fe8-50d10dfd9323</td>\n",
       "      <td>PID-8b2ea2ce-e1df-4139-b179-3e7f217a9f9b</td>\n",
       "      <td>Conveyor Belt</td>\n",
       "      <td>306</td>\n",
       "      <td>1000</td>\n",
       "      <td>306000</td>\n",
       "      <td>CID-169eb6d1-27a1-4859-b7c8-5073ca1eb201</td>\n",
       "      <td>Taylor Ltd</td>\n",
       "      <td>Industrial Equipment</td>\n",
       "      <td>...</td>\n",
       "      <td>562 Melanie Curve Apt. 149\\nEast Kathleen, ID ...</td>\n",
       "      <td>South Carolina</td>\n",
       "      <td>53969</td>\n",
       "      <td>good</td>\n",
       "      <td>Industrial Equipment</td>\n",
       "      <td>7</td>\n",
       "      <td>5</td>\n",
       "      <td>1000.0</td>\n",
       "      <td>1144673360</td>\n",
       "      <td>584</td>\n",
       "    </tr>\n",
       "  </tbody>\n",
       "</table>\n",
       "<p>5 rows × 42 columns</p>\n",
       "</div>"
      ],
      "text/plain": [
       "                                   ORDERID  \\\n",
       "0  OR-1d383f77-5592-46ad-8e52-29d33a6502ad   \n",
       "1  OR-1d383f77-5592-46ad-8e52-29d33a6502ad   \n",
       "2  OR-1d383f77-5592-46ad-8e52-29d33a6502ad   \n",
       "3  OR-343ce41a-322b-4823-8afc-52242973d163   \n",
       "4  OR-1310822f-e948-4c29-8da7-beec09196076   \n",
       "\n",
       "                               ORDERITEMID  \\\n",
       "0  OI-5759e816-1866-4073-8d3c-6ad53993c09b   \n",
       "1  OI-cca9228c-f83d-4128-94d9-6b5eb944f23f   \n",
       "2  OI-04e65e52-f3ab-46e6-bef4-e2c4b2c4ee3a   \n",
       "3  OI-6125f927-0d99-48d5-9fa2-74b8a310af46   \n",
       "4  OI-54edae96-61a7-4666-8fe8-50d10dfd9323   \n",
       "\n",
       "                                  PRODUCTID          PRODUCTNAME  \\\n",
       "0  PID-4b87db26-edd8-4b4a-8143-adb85ba6dbe2  Insulation Material   \n",
       "1  PID-89334032-db8d-4821-a9ad-5bd9a5305740               Cement   \n",
       "2  PID-3e2ce142-a70d-4da4-8770-2079f75f43a9       Roofing Sheets   \n",
       "3  PID-fec6ed6f-7ac1-4655-b4a7-9766cff15b7b           Engine Oil   \n",
       "4  PID-8b2ea2ce-e1df-4139-b179-3e7f217a9f9b        Conveyor Belt   \n",
       "\n",
       "   ORDERQUANTITY  UNITPRICE  ORDERVALUE  \\\n",
       "0           1630          2        3260   \n",
       "1            123        100       12300   \n",
       "2           1625          7       11375   \n",
       "3            263         40       10520   \n",
       "4            306       1000      306000   \n",
       "\n",
       "                                 CUSTOMERID  CUSTOMERNAME  \\\n",
       "0  CID-4a14e75e-cd20-44a1-9696-d5eb1746b894  Anabrige LLP   \n",
       "1  CID-4a14e75e-cd20-44a1-9696-d5eb1746b894  Anabrige LLP   \n",
       "2  CID-4a14e75e-cd20-44a1-9696-d5eb1746b894  Anabrige LLP   \n",
       "3  CID-f922f515-1a7a-4640-959a-3c2f093f4d47        FULCRO   \n",
       "4  CID-169eb6d1-27a1-4859-b7c8-5073ca1eb201    Taylor Ltd   \n",
       "\n",
       "          PRODUCTCATEGORY  ...  \\\n",
       "0  Construction Materials  ...   \n",
       "1  Construction Materials  ...   \n",
       "2  Construction Materials  ...   \n",
       "3              Automotive  ...   \n",
       "4    Industrial Equipment  ...   \n",
       "\n",
       "                                      ADDRESSDETAILS    ADMINDETAILS  \\\n",
       "0  5779 Michael Meadow\\nSouth Connorchester, VA 9...      New Jersey   \n",
       "1  5779 Michael Meadow\\nSouth Connorchester, VA 9...      New Jersey   \n",
       "2  5779 Michael Meadow\\nSouth Connorchester, VA 9...      New Jersey   \n",
       "3       650 Peter Forks\\nSouth Tonyborough, FL 20143        New York   \n",
       "4  562 Melanie Curve Apt. 149\\nEast Kathleen, ID ...  South Carolina   \n",
       "\n",
       "   CREDITLIMIT  CREDITRATING            CUSTOMERTYPE ORDER_PROCESSING_TIME  \\\n",
       "0        59238          fair  Construction Materials                     7   \n",
       "1        59238          fair  Construction Materials                     7   \n",
       "2        59238          fair  Construction Materials                     7   \n",
       "3        99235     very poor              Automotive                     4   \n",
       "4        53969          good    Industrial Equipment                     7   \n",
       "\n",
       "  INVOICE_PROCESSING_TIME ORDER_VALUE_PER_UNIT CUSTOMER_LIFETIME_VALUE  \\\n",
       "0                       2                  2.0                88348548   \n",
       "1                       2                100.0                88348548   \n",
       "2                       2                  7.0                88348548   \n",
       "3                      13                 40.0                36452740   \n",
       "4                       5               1000.0              1144673360   \n",
       "\n",
       "  ORDER_FREQUENCY  \n",
       "0             595  \n",
       "1             595  \n",
       "2             595  \n",
       "3             649  \n",
       "4             584  \n",
       "\n",
       "[5 rows x 42 columns]"
      ]
     },
     "execution_count": 15,
     "metadata": {},
     "output_type": "execute_result"
    }
   ],
   "source": [
    "df_train.head()"
   ]
  },
  {
   "cell_type": "code",
   "execution_count": null,
   "id": "e48e1c08-1667-4d3e-af80-cd1749552945",
   "metadata": {},
   "outputs": [],
   "source": []
  },
  {
   "cell_type": "code",
   "execution_count": null,
   "id": "1d8e512f-fb4d-490c-a4d6-1fa59c9a7164",
   "metadata": {},
   "outputs": [],
   "source": []
  },
  {
   "cell_type": "code",
   "execution_count": null,
   "id": "40b06a82-58ba-4ec0-b4b3-4c090baff7bd",
   "metadata": {},
   "outputs": [],
   "source": []
  },
  {
   "cell_type": "code",
   "execution_count": null,
   "id": "59efd32f-7e69-4fd9-b888-5220c9a2cf5d",
   "metadata": {},
   "outputs": [],
   "source": []
  },
  {
   "cell_type": "code",
   "execution_count": null,
   "id": "6c3b80bb-3f9f-4d8e-8bd3-971f63a9d751",
   "metadata": {},
   "outputs": [],
   "source": []
  },
  {
   "cell_type": "code",
   "execution_count": null,
   "id": "48acbf36-677c-43ac-b2bb-11e0dcb53bf8",
   "metadata": {},
   "outputs": [],
   "source": []
  },
  {
   "cell_type": "code",
   "execution_count": null,
   "id": "ac45a973-303d-40b9-87a5-afe5dd82c798",
   "metadata": {},
   "outputs": [],
   "source": []
  },
  {
   "cell_type": "code",
   "execution_count": null,
   "id": "374e431c-0dee-4495-b5af-d00be943e416",
   "metadata": {},
   "outputs": [],
   "source": []
  },
  {
   "cell_type": "code",
   "execution_count": null,
   "id": "ac17f35a-abcb-4ab0-b26b-d56446cc0446",
   "metadata": {},
   "outputs": [],
   "source": []
  },
  {
   "cell_type": "code",
   "execution_count": null,
   "id": "e31e3b8d-e754-46f3-bddb-42c7a11f30bc",
   "metadata": {},
   "outputs": [],
   "source": []
  },
  {
   "cell_type": "code",
   "execution_count": null,
   "id": "eab430fa-ca41-446e-94c1-2b2183c0e584",
   "metadata": {},
   "outputs": [],
   "source": []
  },
  {
   "cell_type": "code",
   "execution_count": null,
   "id": "b142e483-a1ad-4940-ae10-325b97e21751",
   "metadata": {},
   "outputs": [],
   "source": []
  },
  {
   "cell_type": "code",
   "execution_count": null,
   "id": "b3da20aa-87ac-4bdb-9ba6-c0935ff26523",
   "metadata": {},
   "outputs": [],
   "source": []
  },
  {
   "cell_type": "code",
   "execution_count": null,
   "id": "adfc2681-6d03-4c80-a365-23e63a24abc7",
   "metadata": {},
   "outputs": [],
   "source": []
  },
  {
   "cell_type": "code",
   "execution_count": null,
   "id": "c2b1b408-231a-461a-a74d-65c73600ebcb",
   "metadata": {},
   "outputs": [],
   "source": []
  }
 ],
 "metadata": {
  "kernelspec": {
   "display_name": "Python 3 (ipykernel)",
   "language": "python",
   "name": "python3"
  },
  "language_info": {
   "codemirror_mode": {
    "name": "ipython",
    "version": 3
   },
   "file_extension": ".py",
   "mimetype": "text/x-python",
   "name": "python",
   "nbconvert_exporter": "python",
   "pygments_lexer": "ipython3",
   "version": "3.9.19"
  }
 },
 "nbformat": 4,
 "nbformat_minor": 5
}
