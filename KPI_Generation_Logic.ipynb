{
 "cells": [
  {
   "cell_type": "markdown",
   "id": "0bcad55b-31a7-4ec6-99d1-5c1adce88d6e",
   "metadata": {},
   "source": [
    "# Use O2C_Template Customized Notebook Template"
   ]
  },
  {
   "cell_type": "code",
   "execution_count": 28,
   "id": "4545a18a-ac99-4a61-87eb-685a9fc1d216",
   "metadata": {},
   "outputs": [],
   "source": [
    "import pandas as pd\n",
    "import numpy as np"
   ]
  },
  {
   "cell_type": "code",
   "execution_count": 29,
   "id": "fe2d2323-ae3c-4027-b777-5c40e16db890",
   "metadata": {},
   "outputs": [],
   "source": [
    "from fosforml.model_manager.snowflakesession import get_session\n",
    "my_session = get_session()"
   ]
  },
  {
   "cell_type": "code",
   "execution_count": null,
   "id": "b5958b79-ef81-46ec-8591-926b906584dd",
   "metadata": {},
   "outputs": [],
   "source": [
    "table_name = 'ORDER_TO_CASH_ENRICHED'\n",
    "\n",
    "sf_df = my_session.sql(\"select * from {}\".format(table_name))\n",
    "df = sf_df.to_pandas()"
   ]
  },
  {
   "cell_type": "code",
   "execution_count": null,
   "id": "1b452a02-6961-49fb-b2cd-ad499a0d21d2",
   "metadata": {},
   "outputs": [],
   "source": [
    "df_train = df[df['INVOICESTATUS'] == 'Paid']\n",
    "df_new = df[df['INVOICESTATUS'] != 'Paid']"
   ]
  },
  {
   "cell_type": "code",
   "execution_count": null,
   "id": "48250bbd-0aab-4c5b-9f78-2bb14e4cee79",
   "metadata": {},
   "outputs": [],
   "source": [
    "df_train.shape, df_new.shape"
   ]
  },
  {
   "cell_type": "code",
   "execution_count": null,
   "id": "cb32c411-0adf-4d39-9c8a-22613b925acc",
   "metadata": {},
   "outputs": [],
   "source": [
    "# Assuming df is your dataframe\n",
    "df_train['ORDERDATE'] = pd.to_datetime(df_train['ORDERDATE'])\n",
    "df_train['DELIVERYDATE'] = pd.to_datetime(df_train['DELIVERYDATE'])\n",
    "df_train['INVOICEDATE'] = pd.to_datetime(df_train['INVOICEDATE'])\n",
    "df_train['PAYMENTDATE'] = pd.to_datetime(df_train['PAYMENTDATE'])\n",
    "df_train['INVOICEDUEDATE'] = pd.to_datetime(df_train['INVOICEDUEDATE'])"
   ]
  },
  {
   "cell_type": "code",
   "execution_count": null,
   "id": "983ba561-f1b5-40e7-9405-20ff02923632",
   "metadata": {},
   "outputs": [],
   "source": [
    "df_train['DELIVEREDON'] = pd.to_datetime(df_train['DELIVEREDON'])"
   ]
  },
  {
   "cell_type": "code",
   "execution_count": null,
   "id": "4f24101f-c430-4861-a5ac-71a752d9baad",
   "metadata": {},
   "outputs": [],
   "source": [
    "# Order Processing Time\n",
    "df_train['ORDER_PROCESSING_TIME'] = (df_train['DELIVERYDATE'] - df_train['ORDERDATE']).dt.days\n",
    "\n",
    "# Invoice Processing Time\n",
    "df_train['INVOICE_PROCESSING_TIME'] = (df_train['PAYMENTDATE'] - df_train['INVOICEDATE']).dt.days\n",
    "\n",
    "# Order Value per Unit\n",
    "df_train['ORDER_VALUE_PER_UNIT'] = df_train['ORDERVALUE'] / df_train['ORDERQUANTITY']"
   ]
  },
  {
   "cell_type": "code",
   "execution_count": null,
   "id": "f30d55d4-b699-4340-a5da-655c87de0bf5",
   "metadata": {},
   "outputs": [],
   "source": [
    "# Delivery Delay\n",
    "df_train['DELIVERY_DELAY'] = (df_train['DELIVERYDATE'] - df_train['DELIVEREDON']).dt.days"
   ]
  },
  {
   "cell_type": "code",
   "execution_count": null,
   "id": "027adde3-e175-49c1-8a52-c526f57b11cb",
   "metadata": {},
   "outputs": [],
   "source": [
    "# Payment Delay\n",
    "df_train['PAYMENT_DELAY'] = (df_train['PAYMENTDATE'] - df_train['INVOICEDUEDATE']).dt.days"
   ]
  },
  {
   "cell_type": "code",
   "execution_count": null,
   "id": "163e876c-ec4c-4a71-b316-b9a6db1f5ba7",
   "metadata": {},
   "outputs": [],
   "source": [
    "# Customer Lifetime Value (CLV)\n",
    "clv = df_train.groupby('CUSTOMERID')['ORDERVALUE'].sum().reset_index()\n",
    "clv.columns = ['CUSTOMERID', 'CUSTOMER_LIFETIME_VALUE']\n",
    "df_train = df_train.merge(clv, on='CUSTOMERID', how='left')"
   ]
  },
  {
   "cell_type": "code",
   "execution_count": null,
   "id": "6d0685f0-9346-461f-8a16-34be731448bb",
   "metadata": {},
   "outputs": [],
   "source": [
    "# Order Frequency\n",
    "order_freq = df_train.groupby('CUSTOMERID')['ORDERID'].nunique().reset_index()\n",
    "order_freq.columns = ['CUSTOMERID', 'ORDER_FREQUENCY']\n",
    "df_train = df_train.merge(order_freq, on='CUSTOMERID', how='left')"
   ]
  },
  {
   "cell_type": "code",
   "execution_count": null,
   "id": "223f3d85-715b-4555-a803-3797dded95b2",
   "metadata": {},
   "outputs": [],
   "source": [
    "# Average Order Value\n",
    "avg_order_value = df_train.groupby('CUSTOMERID')['ORDERVALUE'].mean().reset_index()\n",
    "avg_order_value.columns = ['CUSTOMERID', 'AVERAGE_ORDER_VALUE']\n",
    "df_train = df_train.merge(avg_order_value, on='CUSTOMERID', how='left')"
   ]
  },
  {
   "cell_type": "code",
   "execution_count": null,
   "id": "4099bd9f-a0ec-420c-80d4-d990d70446d8",
   "metadata": {},
   "outputs": [],
   "source": [
    "# Recency\n",
    "latest_order_date = df_train.groupby('CUSTOMERID')['ORDERDATE'].max().reset_index()\n",
    "latest_order_date.columns = ['CUSTOMERID', 'LAST_ORDER_DATE']\n",
    "latest_order_date['RECENCY'] = (pd.to_datetime('today') - latest_order_date['LAST_ORDER_DATE']).dt.days\n",
    "df_train = df_train.merge(latest_order_date[['CUSTOMERID', 'RECENCY']], on='CUSTOMERID', how='left')"
   ]
  },
  {
   "cell_type": "code",
   "execution_count": null,
   "id": "1196d370-693c-4cb0-a403-f4bec6ccd399",
   "metadata": {},
   "outputs": [],
   "source": [
    "# Preferred Payment Method\n",
    "preferred_payment_method = df_train.groupby('CUSTOMERID')['PAYMENTMETHOD'].agg(lambda x: x.value_counts().index[0]).reset_index()\n",
    "preferred_payment_method.columns = ['CUSTOMERID', 'PREFERRED_PAYMENT_METHOD']\n",
    "df_train = df_train.merge(preferred_payment_method, on='CUSTOMERID', how='left')"
   ]
  },
  {
   "cell_type": "code",
   "execution_count": null,
   "id": "74939fe8-91d1-4474-8c9b-d541ed677c9b",
   "metadata": {},
   "outputs": [],
   "source": [
    "# Preferred Product Category\n",
    "preferred_product_category = df_train.groupby('CUSTOMERID')['PRODUCTCATEGORY'].agg(lambda x: x.value_counts().index[0]).reset_index()\n",
    "preferred_product_category.columns = ['CUSTOMERID', 'PREFERRED_PRODUCT_CATEGORY']\n",
    "df_train = df_train.merge(preferred_product_category, on='CUSTOMERID', how='left')"
   ]
  },
  {
   "cell_type": "code",
   "execution_count": null,
   "id": "df5cd292-37a3-42f7-8015-931f065a5f32",
   "metadata": {},
   "outputs": [],
   "source": [
    "# Preferred Product Category\n",
    "preferred_product_type = df_train.groupby('CUSTOMERID')['PRODUCTTYPE'].agg(lambda x: x.value_counts().index[0]).reset_index()\n",
    "preferred_product_type.columns = ['CUSTOMERID', 'PREFERRED_PRODUCT_TYPE']\n",
    "df_train = df_train.merge(preferred_product_type, on='CUSTOMERID', how='left')"
   ]
  },
  {
   "cell_type": "code",
   "execution_count": null,
   "id": "a48fd59c-16e8-4ced-ba7a-2967e2e10ca3",
   "metadata": {},
   "outputs": [],
   "source": [
    "df_train.columns"
   ]
  },
  {
   "cell_type": "code",
   "execution_count": null,
   "id": "3f027c2b-0943-4ed8-a7b7-c716703b4423",
   "metadata": {},
   "outputs": [],
   "source": [
    "df_train.tail()"
   ]
  },
  {
   "cell_type": "code",
   "execution_count": null,
   "id": "e48e1c08-1667-4d3e-af80-cd1749552945",
   "metadata": {},
   "outputs": [],
   "source": [
    "# Average Order Processing Time\n",
    "avg_order_processing_time = df_train.groupby('CUSTOMERID')['ORDER_PROCESSING_TIME'].mean().reset_index()\n",
    "avg_order_processing_time.columns = ['CUSTOMERID', 'AVG_ORDER_PROCESSING_TIME']"
   ]
  },
  {
   "cell_type": "code",
   "execution_count": null,
   "id": "1d8e512f-fb4d-490c-a4d6-1fa59c9a7164",
   "metadata": {},
   "outputs": [],
   "source": [
    "# Average Invoice Processing Time\n",
    "avg_invoice_processing_time = df_train.groupby('CUSTOMERID')['INVOICE_PROCESSING_TIME'].mean().reset_index()\n",
    "avg_invoice_processing_time.columns = ['CUSTOMERID', 'AVG_INVOICE_PROCESSING_TIME']"
   ]
  },
  {
   "cell_type": "code",
   "execution_count": null,
   "id": "40b06a82-58ba-4ec0-b4b3-4c090baff7bd",
   "metadata": {},
   "outputs": [],
   "source": [
    "# Average Delivery Delay\n",
    "avg_delivery_delay = df_train.groupby('CUSTOMERID')['DELIVERY_DELAY'].mean().reset_index()\n",
    "avg_delivery_delay.columns = ['CUSTOMERID', 'AVG_DELIVERY_DELAY']"
   ]
  },
  {
   "cell_type": "code",
   "execution_count": null,
   "id": "59efd32f-7e69-4fd9-b888-5220c9a2cf5d",
   "metadata": {},
   "outputs": [],
   "source": [
    "# Average Payment Delay\n",
    "avg_payment_delay = df_train.groupby('CUSTOMERID')['PAYMENT_DELAY'].mean().reset_index()\n",
    "avg_payment_delay.columns = ['CUSTOMERID', 'AVG_PAYMENT_DELAY']"
   ]
  },
  {
   "cell_type": "code",
   "execution_count": null,
   "id": "486df7e3-c941-4f37-bbf8-aa1925321c55",
   "metadata": {},
   "outputs": [],
   "source": [
    "df.columns"
   ]
  },
  {
   "cell_type": "code",
   "execution_count": null,
   "id": "4ff872da-87b1-40fe-aa4e-4e5ae8dcea23",
   "metadata": {},
   "outputs": [],
   "source": [
    "# Total Orders\n",
    "total_orders = df_train.groupby('CUSTOMERID')['ORDER_PROCESSING_TIME'].count().reset_index()\n",
    "total_orders.columns = ['CUSTOMERID', 'TOTAL_ORDERS']"
   ]
  },
  {
   "cell_type": "code",
   "execution_count": null,
   "id": "6c3b80bb-3f9f-4d8e-8bd3-971f63a9d751",
   "metadata": {},
   "outputs": [],
   "source": [
    "# Total Delays\n",
    "total_delays = df_train.groupby('CUSTOMERID')[['DELIVERY_DELAY', 'PAYMENT_DELAY']].sum().reset_index()\n",
    "total_delays['TOTAL_DELAYS'] = total_delays['DELIVERY_DELAY'] + total_delays['PAYMENT_DELAY']\n",
    "total_delays = total_delays[['CUSTOMERID', 'TOTAL_DELAYS']]"
   ]
  },
  {
   "cell_type": "code",
   "execution_count": null,
   "id": "48acbf36-677c-43ac-b2bb-11e0dcb53bf8",
   "metadata": {},
   "outputs": [],
   "source": [
    "# Order Consistency\n",
    "order_consistency = df_train.groupby('CUSTOMERID')['ORDER_PROCESSING_TIME'].std().reset_index()\n",
    "order_consistency.columns = ['CUSTOMERID', 'ORDER_CONSISTENCY']"
   ]
  },
  {
   "cell_type": "code",
   "execution_count": null,
   "id": "ac45a973-303d-40b9-87a5-afe5dd82c798",
   "metadata": {},
   "outputs": [],
   "source": [
    "# Invoice Consistency\n",
    "invoice_consistency = df_train.groupby('CUSTOMERID')['INVOICE_PROCESSING_TIME'].std().reset_index()\n",
    "invoice_consistency.columns = ['CUSTOMERID', 'INVOICE_CONSISTENCY']"
   ]
  },
  {
   "cell_type": "code",
   "execution_count": null,
   "id": "374e431c-0dee-4495-b5af-d00be943e416",
   "metadata": {},
   "outputs": [],
   "source": [
    "# Delivery Consistency\n",
    "delivery_consistency = df_train.groupby('CUSTOMERID')['DELIVERY_DELAY'].std().reset_index()\n",
    "delivery_consistency.columns = ['CUSTOMERID', 'DELIVERY_CONSISTENCY']"
   ]
  },
  {
   "cell_type": "code",
   "execution_count": null,
   "id": "ac17f35a-abcb-4ab0-b26b-d56446cc0446",
   "metadata": {},
   "outputs": [],
   "source": [
    "# Payment Consistency\n",
    "payment_consistency = df_train.groupby('CUSTOMERID')['PAYMENT_DELAY'].std().reset_index()\n",
    "payment_consistency.columns = ['CUSTOMERID', 'PAYMENT_CONSISTENCY']"
   ]
  },
  {
   "cell_type": "code",
   "execution_count": null,
   "id": "e31e3b8d-e754-46f3-bddb-42c7a11f30bc",
   "metadata": {},
   "outputs": [],
   "source": [
    "# Merging all features into a single dataframe\n",
    "features = [avg_order_processing_time, avg_invoice_processing_time, avg_delivery_delay, avg_payment_delay, total_orders,total_delays, order_consistency, invoice_consistency, delivery_consistency, payment_consistency]\n",
    "customer_features = df[['CUSTOMERID']].drop_duplicates().reset_index(drop=True)"
   ]
  },
  {
   "cell_type": "code",
   "execution_count": null,
   "id": "eab430fa-ca41-446e-94c1-2b2183c0e584",
   "metadata": {},
   "outputs": [],
   "source": [
    "for feature in features:\n",
    "    customer_features = customer_features.merge(feature, on='CUSTOMERID', how='left')"
   ]
  },
  {
   "cell_type": "code",
   "execution_count": null,
   "id": "b142e483-a1ad-4940-ae10-325b97e21751",
   "metadata": {},
   "outputs": [],
   "source": [
    "# Merge the new features back into the original dataframe\n",
    "df_train = df_train.merge(customer_features, on='CUSTOMERID', how='left')"
   ]
  },
  {
   "cell_type": "code",
   "execution_count": null,
   "id": "9e87e0f9-6f7f-49d4-98b9-0d21008f0d20",
   "metadata": {},
   "outputs": [],
   "source": [
    "customer_features.head()"
   ]
  },
  {
   "cell_type": "code",
   "execution_count": null,
   "id": "53b0ff9a-5bf2-4fd5-8ef1-005d7be46254",
   "metadata": {},
   "outputs": [],
   "source": [
    "df = df_train[['CUSTOMERID', 'CUSTOMERNAME', 'CREDITRATING', 'CUSTOMERTYPE','COMPANYTYPE','CONTACTDETAILS','EMAILDETAILS','ADDRESSDETAILS',\n",
    "               'ADMINDETAILS','CREDITLIMIT','CUSTOMER_LIFETIME_VALUE', \n",
    "               'ORDER_FREQUENCY', 'AVERAGE_ORDER_VALUE','RECENCY', 'PREFERRED_PAYMENT_METHOD', 'PREFERRED_PRODUCT_CATEGORY', \n",
    "               'PREFERRED_PRODUCT_TYPE', 'AVG_ORDER_PROCESSING_TIME','AVG_INVOICE_PROCESSING_TIME','AVG_DELIVERY_DELAY',\n",
    "               'AVG_PAYMENT_DELAY','TOTAL_DELAYS','ORDER_CONSISTENCY','INVOICE_CONSISTENCY','DELIVERY_CONSISTENCY','PAYMENT_CONSISTENCY']]"
   ]
  },
  {
   "cell_type": "code",
   "execution_count": null,
   "id": "7fd6bb37-979c-45b9-a59a-0e5beb5d50a6",
   "metadata": {},
   "outputs": [],
   "source": [
    "df.shape"
   ]
  },
  {
   "cell_type": "code",
   "execution_count": null,
   "id": "afc8b9ed-57ae-49e3-8285-deb5459aabd3",
   "metadata": {},
   "outputs": [],
   "source": [
    "df = df.drop_duplicates()"
   ]
  },
  {
   "cell_type": "code",
   "execution_count": null,
   "id": "adbc11c7-ed92-435b-b983-6463119f4f6f",
   "metadata": {},
   "outputs": [],
   "source": [
    "df.shape"
   ]
  },
  {
   "cell_type": "code",
   "execution_count": null,
   "id": "9621831e-a462-405a-938d-efcc4bffd455",
   "metadata": {},
   "outputs": [],
   "source": [
    "df.head()"
   ]
  },
  {
   "cell_type": "code",
   "execution_count": null,
   "id": "62acedb8-b6d6-4246-9466-c9766e2c4f03",
   "metadata": {},
   "outputs": [],
   "source": [
    "df_train_sf=my_session.createDataFrame(\n",
    "        df.values.tolist(),\n",
    "        schema=df.columns.tolist())\n",
    "df_train_sf.write.mode(\"overwrite\").save_as_table(\"FDC_HORIZONTAL.O2C_GOLD.ORDER_TO_CASH_CUSTOMER_KPI\")"
   ]
  }
 ],
 "metadata": {
  "kernelspec": {
   "display_name": "Python 3 (ipykernel)",
   "language": "python",
   "name": "python3"
  },
  "language_info": {
   "codemirror_mode": {
    "name": "ipython",
    "version": 3
   },
   "file_extension": ".py",
   "mimetype": "text/x-python",
   "name": "python",
   "nbconvert_exporter": "python",
   "pygments_lexer": "ipython3",
   "version": "3.9.19"
  }
 },
 "nbformat": 4,
 "nbformat_minor": 5
}
