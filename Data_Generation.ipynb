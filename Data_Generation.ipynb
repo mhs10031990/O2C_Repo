{
 "cells": [
  {
   "cell_type": "markdown",
   "id": "2d34ae5a-faea-40ee-a3b6-5fadbe1eaaf7",
   "metadata": {},
   "source": [
    "# Use O2C_Template Customized Notebook Template"
   ]
  },
  {
   "cell_type": "code",
   "execution_count": 1,
   "id": "2beea587-4333-4656-bfee-093ba7f23584",
   "metadata": {},
   "outputs": [],
   "source": [
    "import random\n",
    "from faker import Faker\n",
    "import pandas as pd"
   ]
  },
  {
   "cell_type": "code",
   "execution_count": 2,
   "id": "f8266d50-ee22-4d91-9192-dc0d440cd79a",
   "metadata": {},
   "outputs": [],
   "source": [
    "from fosforml.model_manager.snowflakesession import get_session\n",
    "my_session = get_session()"
   ]
  },
  {
   "cell_type": "code",
   "execution_count": 3,
   "id": "1f98c5d3-707d-401b-affc-84f3e461cc76",
   "metadata": {},
   "outputs": [],
   "source": [
    "fake = Faker('en_US')"
   ]
  },
  {
   "cell_type": "markdown",
   "id": "cbec74e9-70b1-4854-8775-5f2d9b650f5c",
   "metadata": {},
   "source": [
    "# Customer Data Setup"
   ]
  },
  {
   "cell_type": "code",
   "execution_count": 4,
   "id": "af2c39b9-7b8e-43be-8b08-cce794105a42",
   "metadata": {},
   "outputs": [],
   "source": [
    "# Generate Customers\n",
    "def generate_customers(num_customers=100):\n",
    "    customers = []\n",
    "    for _ in range(num_customers):\n",
    "        customer = {\n",
    "            'CustomerID': 'CID' + fake.uuid4(),\n",
    "            'Name': fake.company(),\n",
    "            'CompanyType':fake.company_suffix(),\n",
    "            'ContactDetails': fake.phone_number(),\n",
    "            'EmailDetails': fake.company_email(),\n",
    "            'AddressDetails':fake.address(),\n",
    "            'AdminDetails':fake.administrative_unit(),\n",
    "            'CreditLimit': random.randint(10000, 100000),\n",
    "            'CreditRating': random.choice(['very poor', 'fair', 'good', 'very good','exceptional'])\n",
    "        }\n",
    "        customers.append(customer)\n",
    "    return customers"
   ]
  },
  {
   "cell_type": "code",
   "execution_count": 5,
   "id": "328db935-ea4a-42d5-b820-d7ffd94eef9b",
   "metadata": {},
   "outputs": [],
   "source": [
    "# Generate Data\n",
    "customers = generate_customers()"
   ]
  },
  {
   "cell_type": "code",
   "execution_count": 6,
   "id": "e599762c-4447-4a35-b8cc-236151119a00",
   "metadata": {},
   "outputs": [],
   "source": [
    "customers_name = ['CleverOffice','Stackers','PreScott Works','MomentA','BOXED'\n",
    ",'JinkOffice','HomeEssentials','BallPoint','WhaleBack','Formica'\n",
    ",'Starton Inc','Anabrige LLP','Hammers and Nails','BoreHole LLC'\n",
    ",'Indra Secure Co-rp','CortiTech ITC','DOLCH ','Sutura'\n",
    ",'StarStruck LLC','BARCTL LLC','Limae Inc','Rivet','Marathon'\n",
    ",'Valiant','Filum','TautaLog','Pin&Fix','JamPack','MasterStik'\n",
    ",'CLIC','Nestables','CAPSTASH','Tappit','MashMart','TruSource'\n",
    ",'ODD Sends','Pen Scoop','ASCRIBE LLP','Wire works','EXPRESSR'\n",
    ",'FULCRO','SOLID BOX','LYSIS Logo','CARDIOID','Herculean Inc'\n",
    ",'OTTAVA','BLUE Ribbon','Master Bind ','Thinkies','Five Point'\n",
    ",'Connect iBuy','Lion Mark','Deskify','BestTry','PLOTSHOP'\n",
    ",'Office Fuel','Oasis Cuff','CoraPress','SuperShapes','BeeBows'\n",
    ",'Locale Mart','TetherLink','Comestor','Knox Paper','NECESSITE'\n",
    ",'Corner Spike','SPACE MAX','Easy Dealy','Star Tech','KLIXX'\n",
    ",'Phyllon LLP','Planisphere','A1 Creased','ONYX','HomeBright'\n",
    ",'NextBolt','Pinch Hops','Popplin','Mercer and Sons','Jackson-Hughes'\n",
    ",'Moran Ltd','Baldwin PLC','Tucker Ltd','Allen Inc','Rodriguez Group'\n",
    ",'Taylor Ltd','Mahoney PLC','Robinson Group','Mcmillan LLC'\n",
    ",'Bailey-Roberts','Rivera PLC','Potter Group','Mckay-Davis','Valencia Group'\n",
    ",'Haynes-Jackson','Klein Inc','Davis-Rose','Watson-Miller','Smith LLC'\n",
    ",'Jackson and Sons']"
   ]
  },
  {
   "cell_type": "code",
   "execution_count": 7,
   "id": "616d70cc-8317-4ed6-8925-ffef0b810031",
   "metadata": {},
   "outputs": [],
   "source": [
    "df_customers = pd.DataFrame(customers)"
   ]
  },
  {
   "cell_type": "code",
   "execution_count": 8,
   "id": "5b6f0666-fe97-4821-a3ab-eb307cb087a7",
   "metadata": {},
   "outputs": [],
   "source": [
    "df_customers['CustomerName'] = customers_name"
   ]
  },
  {
   "cell_type": "code",
   "execution_count": 9,
   "id": "4b48bd5d-964e-4330-bd5b-aaa62b1a158b",
   "metadata": {},
   "outputs": [],
   "source": [
    "CustomerType = ['Construction Materials','Office Supplies','Construction Materials','Food Beverages'\n",
    ",'Office Supplies','Construction Materials','Healthcare','Food Beverages','Automotive'\n",
    ",'Food Beverages','Food Beverages','Construction Materials','Construction Materials'\n",
    ",'Construction Materials','Automotive','Food Beverages','Food Beverages','Food Beverages'\n",
    ",'Consumer Goods','Consumer Goods','Healthcare','Office Supplies','Office Supplies'\n",
    ",'Office Supplies','Healthcare','Office Supplies','Construction Materials','Office Supplies'\n",
    ",'Office Supplies','Office Supplies','Food Beverages','Consumer Goods','Consumer Goods'\n",
    ",'Food Beverages','Office Supplies','Office Supplies','Food Beverages','Office Supplies'\n",
    ",'Construction Materials','Food Beverages','Automotive','Office Supplies','Office Supplies'\n",
    ",'Consumer Goods','Automotive','Food Beverages','Office Supplies','Office Supplies'\n",
    ",'Food Beverages','Food Beverages','Food Beverages','Food Beverages','Consumer Goods'\n",
    ",'Healthcare','Food Beverages','Healthcare','Food Beverages','Food Beverages','Healthcare'\n",
    ",'Automotive','Food Beverages','Food Beverages','Food Beverages','Consumer Goods'\n",
    ",'Healthcare','Food Beverages','Automotive','Consumer Goods','Food Beverages'\n",
    ",'Food Beverages','Consumer Goods','Consumer Goods','Automotive','Consumer Goods'\n",
    ",'Consumer Goods','Construction Materials','Consumer Goods','Consumer Goods','Consumer Goods'\n",
    ",'Consumer Goods','Industrial Equipment','Industrial Equipment','Industrial Equipment'\n",
    ",'Industrial Equipment','Consumer Goods','Industrial Equipment','Healthcare','Healthcare'\n",
    ",'Healthcare','Automotive','Industrial Equipment','Construction Materials','Automotive'\n",
    ",'Construction Materials','Consumer Goods','Consumer Goods','Consumer Goods','Consumer Goods'\n",
    ",'Industrial Equipment','Consumer Goods']"
   ]
  },
  {
   "cell_type": "code",
   "execution_count": 10,
   "id": "6b51cb69-27c4-49ad-aa5b-66caa5f9d8ba",
   "metadata": {},
   "outputs": [],
   "source": [
    "df_customers['CustomerType'] = CustomerType"
   ]
  },
  {
   "cell_type": "code",
   "execution_count": 11,
   "id": "d1cd993f-7748-48a8-9e96-fc06e2e3a448",
   "metadata": {},
   "outputs": [
    {
     "data": {
      "text/html": [
       "<div>\n",
       "<style scoped>\n",
       "    .dataframe tbody tr th:only-of-type {\n",
       "        vertical-align: middle;\n",
       "    }\n",
       "\n",
       "    .dataframe tbody tr th {\n",
       "        vertical-align: top;\n",
       "    }\n",
       "\n",
       "    .dataframe thead th {\n",
       "        text-align: right;\n",
       "    }\n",
       "</style>\n",
       "<table border=\"1\" class=\"dataframe\">\n",
       "  <thead>\n",
       "    <tr style=\"text-align: right;\">\n",
       "      <th></th>\n",
       "      <th>CustomerID</th>\n",
       "      <th>Name</th>\n",
       "      <th>CompanyType</th>\n",
       "      <th>ContactDetails</th>\n",
       "      <th>EmailDetails</th>\n",
       "      <th>AddressDetails</th>\n",
       "      <th>AdminDetails</th>\n",
       "      <th>CreditLimit</th>\n",
       "      <th>CreditRating</th>\n",
       "      <th>CustomerName</th>\n",
       "      <th>CustomerType</th>\n",
       "    </tr>\n",
       "  </thead>\n",
       "  <tbody>\n",
       "    <tr>\n",
       "      <th>0</th>\n",
       "      <td>CID18114fcd-235e-4c71-87f9-989e32730ce6</td>\n",
       "      <td>Wheeler, Mclaughlin and Blair</td>\n",
       "      <td>Inc</td>\n",
       "      <td>+1-541-903-1510x68102</td>\n",
       "      <td>bmann@alexander.org</td>\n",
       "      <td>6947 Sabrina Gardens\\nWest Michael, ID 04458</td>\n",
       "      <td>Oklahoma</td>\n",
       "      <td>29333</td>\n",
       "      <td>very poor</td>\n",
       "      <td>CleverOffice</td>\n",
       "      <td>Construction Materials</td>\n",
       "    </tr>\n",
       "    <tr>\n",
       "      <th>1</th>\n",
       "      <td>CIDa348c330-fb1d-4a5a-b67b-d4e8edcc2493</td>\n",
       "      <td>Dyer-Maxwell</td>\n",
       "      <td>Group</td>\n",
       "      <td>001-691-362-3206x1323</td>\n",
       "      <td>acevedosarah@johnson.org</td>\n",
       "      <td>21352 Price Pine\\nKellyview, VA 03003</td>\n",
       "      <td>Virginia</td>\n",
       "      <td>15823</td>\n",
       "      <td>good</td>\n",
       "      <td>Stackers</td>\n",
       "      <td>Office Supplies</td>\n",
       "    </tr>\n",
       "    <tr>\n",
       "      <th>2</th>\n",
       "      <td>CIDdf2653da-0dd0-47a4-8e29-e730ce1c6e99</td>\n",
       "      <td>Dillon-Smith</td>\n",
       "      <td>Group</td>\n",
       "      <td>001-075-546-1642x731</td>\n",
       "      <td>dylansantiago@reeves.net</td>\n",
       "      <td>359 Morales Village Apt. 014\\nEast Lisa, TN 67361</td>\n",
       "      <td>Rhode Island</td>\n",
       "      <td>17114</td>\n",
       "      <td>very poor</td>\n",
       "      <td>PreScott Works</td>\n",
       "      <td>Construction Materials</td>\n",
       "    </tr>\n",
       "    <tr>\n",
       "      <th>3</th>\n",
       "      <td>CID3faec358-1fa4-4ffb-b993-8fb9a9d26184</td>\n",
       "      <td>Brock, Shelton and Smith</td>\n",
       "      <td>LLC</td>\n",
       "      <td>(946)266-4544</td>\n",
       "      <td>melissawalker@perez.com</td>\n",
       "      <td>1926 John Mews Apt. 742\\nEast Lawrence, OH 90413</td>\n",
       "      <td>Alabama</td>\n",
       "      <td>87218</td>\n",
       "      <td>exceptional</td>\n",
       "      <td>MomentA</td>\n",
       "      <td>Food Beverages</td>\n",
       "    </tr>\n",
       "    <tr>\n",
       "      <th>4</th>\n",
       "      <td>CIDbddff6fd-86bf-47b6-9a0e-b103f57c6efb</td>\n",
       "      <td>Douglas, Martinez and Williams</td>\n",
       "      <td>and Sons</td>\n",
       "      <td>7733524809</td>\n",
       "      <td>julia21@brooks-holmes.com</td>\n",
       "      <td>1256 Robinson Land\\nLake Alexfort, VA 51346</td>\n",
       "      <td>Maryland</td>\n",
       "      <td>22929</td>\n",
       "      <td>exceptional</td>\n",
       "      <td>BOXED</td>\n",
       "      <td>Office Supplies</td>\n",
       "    </tr>\n",
       "  </tbody>\n",
       "</table>\n",
       "</div>"
      ],
      "text/plain": [
       "                                CustomerID                            Name  \\\n",
       "0  CID18114fcd-235e-4c71-87f9-989e32730ce6   Wheeler, Mclaughlin and Blair   \n",
       "1  CIDa348c330-fb1d-4a5a-b67b-d4e8edcc2493                    Dyer-Maxwell   \n",
       "2  CIDdf2653da-0dd0-47a4-8e29-e730ce1c6e99                    Dillon-Smith   \n",
       "3  CID3faec358-1fa4-4ffb-b993-8fb9a9d26184        Brock, Shelton and Smith   \n",
       "4  CIDbddff6fd-86bf-47b6-9a0e-b103f57c6efb  Douglas, Martinez and Williams   \n",
       "\n",
       "  CompanyType         ContactDetails               EmailDetails  \\\n",
       "0         Inc  +1-541-903-1510x68102        bmann@alexander.org   \n",
       "1       Group  001-691-362-3206x1323   acevedosarah@johnson.org   \n",
       "2       Group   001-075-546-1642x731   dylansantiago@reeves.net   \n",
       "3         LLC          (946)266-4544    melissawalker@perez.com   \n",
       "4    and Sons             7733524809  julia21@brooks-holmes.com   \n",
       "\n",
       "                                      AddressDetails  AdminDetails  \\\n",
       "0       6947 Sabrina Gardens\\nWest Michael, ID 04458      Oklahoma   \n",
       "1              21352 Price Pine\\nKellyview, VA 03003      Virginia   \n",
       "2  359 Morales Village Apt. 014\\nEast Lisa, TN 67361  Rhode Island   \n",
       "3   1926 John Mews Apt. 742\\nEast Lawrence, OH 90413       Alabama   \n",
       "4        1256 Robinson Land\\nLake Alexfort, VA 51346      Maryland   \n",
       "\n",
       "   CreditLimit CreditRating    CustomerName            CustomerType  \n",
       "0        29333    very poor    CleverOffice  Construction Materials  \n",
       "1        15823         good        Stackers         Office Supplies  \n",
       "2        17114    very poor  PreScott Works  Construction Materials  \n",
       "3        87218  exceptional         MomentA          Food Beverages  \n",
       "4        22929  exceptional           BOXED         Office Supplies  "
      ]
     },
     "execution_count": 11,
     "metadata": {},
     "output_type": "execute_result"
    }
   ],
   "source": [
    "df_customers.head()"
   ]
  },
  {
   "cell_type": "code",
   "execution_count": 12,
   "id": "240871bb-ea7b-484b-bd3e-3dc999fbd853",
   "metadata": {},
   "outputs": [],
   "source": [
    "df_customers.columns = ['CustomerID', 'Name', 'CompanyType', 'ContactDetails', 'EmailDetails',\n",
    "       'AddressDetails', 'AdminDetails', 'CreditLimit', 'CreditRating','CustomerName','CustomerType']"
   ]
  },
  {
   "cell_type": "code",
   "execution_count": 13,
   "id": "fa30dcfa-e614-49dd-88ec-0781f27480b2",
   "metadata": {},
   "outputs": [
    {
     "data": {
      "text/html": [
       "<div>\n",
       "<style scoped>\n",
       "    .dataframe tbody tr th:only-of-type {\n",
       "        vertical-align: middle;\n",
       "    }\n",
       "\n",
       "    .dataframe tbody tr th {\n",
       "        vertical-align: top;\n",
       "    }\n",
       "\n",
       "    .dataframe thead th {\n",
       "        text-align: right;\n",
       "    }\n",
       "</style>\n",
       "<table border=\"1\" class=\"dataframe\">\n",
       "  <thead>\n",
       "    <tr style=\"text-align: right;\">\n",
       "      <th></th>\n",
       "      <th>CustomerID</th>\n",
       "      <th>Name</th>\n",
       "      <th>CompanyType</th>\n",
       "      <th>ContactDetails</th>\n",
       "      <th>EmailDetails</th>\n",
       "      <th>AddressDetails</th>\n",
       "      <th>AdminDetails</th>\n",
       "      <th>CreditLimit</th>\n",
       "      <th>CreditRating</th>\n",
       "      <th>CustomerName</th>\n",
       "      <th>CustomerType</th>\n",
       "    </tr>\n",
       "  </thead>\n",
       "  <tbody>\n",
       "    <tr>\n",
       "      <th>0</th>\n",
       "      <td>CID18114fcd-235e-4c71-87f9-989e32730ce6</td>\n",
       "      <td>Wheeler, Mclaughlin and Blair</td>\n",
       "      <td>Inc</td>\n",
       "      <td>+1-541-903-1510x68102</td>\n",
       "      <td>bmann@alexander.org</td>\n",
       "      <td>6947 Sabrina Gardens\\nWest Michael, ID 04458</td>\n",
       "      <td>Oklahoma</td>\n",
       "      <td>29333</td>\n",
       "      <td>very poor</td>\n",
       "      <td>CleverOffice</td>\n",
       "      <td>Construction Materials</td>\n",
       "    </tr>\n",
       "    <tr>\n",
       "      <th>1</th>\n",
       "      <td>CIDa348c330-fb1d-4a5a-b67b-d4e8edcc2493</td>\n",
       "      <td>Dyer-Maxwell</td>\n",
       "      <td>Group</td>\n",
       "      <td>001-691-362-3206x1323</td>\n",
       "      <td>acevedosarah@johnson.org</td>\n",
       "      <td>21352 Price Pine\\nKellyview, VA 03003</td>\n",
       "      <td>Virginia</td>\n",
       "      <td>15823</td>\n",
       "      <td>good</td>\n",
       "      <td>Stackers</td>\n",
       "      <td>Office Supplies</td>\n",
       "    </tr>\n",
       "    <tr>\n",
       "      <th>2</th>\n",
       "      <td>CIDdf2653da-0dd0-47a4-8e29-e730ce1c6e99</td>\n",
       "      <td>Dillon-Smith</td>\n",
       "      <td>Group</td>\n",
       "      <td>001-075-546-1642x731</td>\n",
       "      <td>dylansantiago@reeves.net</td>\n",
       "      <td>359 Morales Village Apt. 014\\nEast Lisa, TN 67361</td>\n",
       "      <td>Rhode Island</td>\n",
       "      <td>17114</td>\n",
       "      <td>very poor</td>\n",
       "      <td>PreScott Works</td>\n",
       "      <td>Construction Materials</td>\n",
       "    </tr>\n",
       "    <tr>\n",
       "      <th>3</th>\n",
       "      <td>CID3faec358-1fa4-4ffb-b993-8fb9a9d26184</td>\n",
       "      <td>Brock, Shelton and Smith</td>\n",
       "      <td>LLC</td>\n",
       "      <td>(946)266-4544</td>\n",
       "      <td>melissawalker@perez.com</td>\n",
       "      <td>1926 John Mews Apt. 742\\nEast Lawrence, OH 90413</td>\n",
       "      <td>Alabama</td>\n",
       "      <td>87218</td>\n",
       "      <td>exceptional</td>\n",
       "      <td>MomentA</td>\n",
       "      <td>Food Beverages</td>\n",
       "    </tr>\n",
       "    <tr>\n",
       "      <th>4</th>\n",
       "      <td>CIDbddff6fd-86bf-47b6-9a0e-b103f57c6efb</td>\n",
       "      <td>Douglas, Martinez and Williams</td>\n",
       "      <td>and Sons</td>\n",
       "      <td>7733524809</td>\n",
       "      <td>julia21@brooks-holmes.com</td>\n",
       "      <td>1256 Robinson Land\\nLake Alexfort, VA 51346</td>\n",
       "      <td>Maryland</td>\n",
       "      <td>22929</td>\n",
       "      <td>exceptional</td>\n",
       "      <td>BOXED</td>\n",
       "      <td>Office Supplies</td>\n",
       "    </tr>\n",
       "  </tbody>\n",
       "</table>\n",
       "</div>"
      ],
      "text/plain": [
       "                                CustomerID                            Name  \\\n",
       "0  CID18114fcd-235e-4c71-87f9-989e32730ce6   Wheeler, Mclaughlin and Blair   \n",
       "1  CIDa348c330-fb1d-4a5a-b67b-d4e8edcc2493                    Dyer-Maxwell   \n",
       "2  CIDdf2653da-0dd0-47a4-8e29-e730ce1c6e99                    Dillon-Smith   \n",
       "3  CID3faec358-1fa4-4ffb-b993-8fb9a9d26184        Brock, Shelton and Smith   \n",
       "4  CIDbddff6fd-86bf-47b6-9a0e-b103f57c6efb  Douglas, Martinez and Williams   \n",
       "\n",
       "  CompanyType         ContactDetails               EmailDetails  \\\n",
       "0         Inc  +1-541-903-1510x68102        bmann@alexander.org   \n",
       "1       Group  001-691-362-3206x1323   acevedosarah@johnson.org   \n",
       "2       Group   001-075-546-1642x731   dylansantiago@reeves.net   \n",
       "3         LLC          (946)266-4544    melissawalker@perez.com   \n",
       "4    and Sons             7733524809  julia21@brooks-holmes.com   \n",
       "\n",
       "                                      AddressDetails  AdminDetails  \\\n",
       "0       6947 Sabrina Gardens\\nWest Michael, ID 04458      Oklahoma   \n",
       "1              21352 Price Pine\\nKellyview, VA 03003      Virginia   \n",
       "2  359 Morales Village Apt. 014\\nEast Lisa, TN 67361  Rhode Island   \n",
       "3   1926 John Mews Apt. 742\\nEast Lawrence, OH 90413       Alabama   \n",
       "4        1256 Robinson Land\\nLake Alexfort, VA 51346      Maryland   \n",
       "\n",
       "   CreditLimit CreditRating    CustomerName            CustomerType  \n",
       "0        29333    very poor    CleverOffice  Construction Materials  \n",
       "1        15823         good        Stackers         Office Supplies  \n",
       "2        17114    very poor  PreScott Works  Construction Materials  \n",
       "3        87218  exceptional         MomentA          Food Beverages  \n",
       "4        22929  exceptional           BOXED         Office Supplies  "
      ]
     },
     "execution_count": 13,
     "metadata": {},
     "output_type": "execute_result"
    }
   ],
   "source": [
    "df_customers.head()"
   ]
  },
  {
   "cell_type": "code",
   "execution_count": 14,
   "id": "a21c77fb-cd0a-4a3e-9e46-a336d9f3bcb8",
   "metadata": {},
   "outputs": [],
   "source": [
    "df_train_sf=my_session.createDataFrame(\n",
    "        df_customers.values.tolist(),\n",
    "        schema=df_customers.columns.tolist())\n",
    "df_train_sf.write.mode(\"overwrite\").save_as_table(\"FDC_HORIZONTAL.O2C_SCHEMA.BRONZE_CUSTOMER_DATA\")"
   ]
  },
  {
   "cell_type": "markdown",
   "id": "5e77f373-62ae-4a3d-82f5-5c52f9f52728",
   "metadata": {},
   "source": [
    "# Product Data setup"
   ]
  },
  {
   "cell_type": "code",
   "execution_count": 15,
   "id": "4403a6bc-ed0c-4ea5-a547-e5535a5dc27c",
   "metadata": {},
   "outputs": [],
   "source": [
    "df_product = pd.read_csv('product_files.csv')"
   ]
  },
  {
   "cell_type": "code",
   "execution_count": 16,
   "id": "ed978545-1470-496d-aa01-2cc04169dbc5",
   "metadata": {},
   "outputs": [
    {
     "data": {
      "text/html": [
       "<div>\n",
       "<style scoped>\n",
       "    .dataframe tbody tr th:only-of-type {\n",
       "        vertical-align: middle;\n",
       "    }\n",
       "\n",
       "    .dataframe tbody tr th {\n",
       "        vertical-align: top;\n",
       "    }\n",
       "\n",
       "    .dataframe thead th {\n",
       "        text-align: right;\n",
       "    }\n",
       "</style>\n",
       "<table border=\"1\" class=\"dataframe\">\n",
       "  <thead>\n",
       "    <tr style=\"text-align: right;\">\n",
       "      <th></th>\n",
       "      <th>ProductCategory</th>\n",
       "      <th>ProductType</th>\n",
       "      <th>Quantity</th>\n",
       "      <th>UnitPrice</th>\n",
       "    </tr>\n",
       "  </thead>\n",
       "  <tbody>\n",
       "    <tr>\n",
       "      <th>0</th>\n",
       "      <td>Office Supplies</td>\n",
       "      <td>Laser Printer</td>\n",
       "      <td>100</td>\n",
       "      <td>425</td>\n",
       "    </tr>\n",
       "    <tr>\n",
       "      <th>1</th>\n",
       "      <td>Office Supplies</td>\n",
       "      <td>Ergonomic Chair</td>\n",
       "      <td>1000</td>\n",
       "      <td>299</td>\n",
       "    </tr>\n",
       "    <tr>\n",
       "      <th>2</th>\n",
       "      <td>Office Supplies</td>\n",
       "      <td>Standing Desk</td>\n",
       "      <td>1000</td>\n",
       "      <td>420</td>\n",
       "    </tr>\n",
       "    <tr>\n",
       "      <th>3</th>\n",
       "      <td>Office Supplies</td>\n",
       "      <td>Wireless Keyboard</td>\n",
       "      <td>1000</td>\n",
       "      <td>78</td>\n",
       "    </tr>\n",
       "    <tr>\n",
       "      <th>4</th>\n",
       "      <td>Office Supplies</td>\n",
       "      <td>Office Stationery Set</td>\n",
       "      <td>1000</td>\n",
       "      <td>15</td>\n",
       "    </tr>\n",
       "  </tbody>\n",
       "</table>\n",
       "</div>"
      ],
      "text/plain": [
       "   ProductCategory            ProductType  Quantity  UnitPrice\n",
       "0  Office Supplies          Laser Printer       100        425\n",
       "1  Office Supplies        Ergonomic Chair      1000        299\n",
       "2  Office Supplies          Standing Desk      1000        420\n",
       "3  Office Supplies      Wireless Keyboard      1000         78\n",
       "4  Office Supplies  Office Stationery Set      1000         15"
      ]
     },
     "execution_count": 16,
     "metadata": {},
     "output_type": "execute_result"
    }
   ],
   "source": [
    "df_product.head()"
   ]
  },
  {
   "cell_type": "code",
   "execution_count": 17,
   "id": "b49099c8-6914-45c6-92ab-c69ef6cd8383",
   "metadata": {},
   "outputs": [],
   "source": [
    "def generate_products(data):\n",
    "    data['ProductID'] = ''\n",
    "    # Iterate over rows and columns\n",
    "    for index, row in data.iterrows():\n",
    "        data.at[index, 'ProductID'] = 'PID' + fake.uuid4()\n",
    "    return data"
   ]
  },
  {
   "cell_type": "code",
   "execution_count": 18,
   "id": "ccae3d9b-5412-4b7f-9fe2-65902c4f23e3",
   "metadata": {},
   "outputs": [],
   "source": [
    "df_product = generate_products(df_product)"
   ]
  },
  {
   "cell_type": "code",
   "execution_count": 19,
   "id": "ea2990d2-281a-498d-bd97-951d98da813c",
   "metadata": {},
   "outputs": [],
   "source": [
    "df_train_sf=my_session.createDataFrame(\n",
    "        df_product.values.tolist(),\n",
    "        schema=df_product.columns.tolist())\n",
    "df_train_sf.write.mode(\"overwrite\").save_as_table(\"FDC_HORIZONTAL.O2C_SCHEMA.BRONZE_PRODUCT_DATA\")"
   ]
  },
  {
   "cell_type": "markdown",
   "id": "b672d4ea-a976-4303-8d57-0dac9723a494",
   "metadata": {},
   "source": [
    "# Status Scenarios"
   ]
  },
  {
   "cell_type": "code",
   "execution_count": 27,
   "id": "5dc559c5-1a3c-405e-a2d9-bb9e73010a8b",
   "metadata": {},
   "outputs": [],
   "source": [
    "order_status = ['Approved','Rejected','Cancelled']\n",
    "shipment_status = ['Pending','Picked','Shipped','In Transit','Delivered','Returned']\n",
    "invoice_status = ['PendingApproval','Approved','Sent','Paid','Cancelled']"
   ]
  },
  {
   "cell_type": "code",
   "execution_count": 28,
   "id": "8a1ac885-6492-442d-b044-dddaef9b651c",
   "metadata": {},
   "outputs": [],
   "source": [
    "import itertools"
   ]
  },
  {
   "cell_type": "code",
   "execution_count": 31,
   "id": "f0fd338e-36d7-4b6a-9705-3ed6ffbe6253",
   "metadata": {},
   "outputs": [],
   "source": [
    "# Generate all possible combinations of statuses\n",
    "combinations = list(itertools.product(order_status,shipment_status,invoice_status))"
   ]
  },
  {
   "cell_type": "code",
   "execution_count": 32,
   "id": "40f0bdda-9dc8-481b-bb4d-ddc250601890",
   "metadata": {},
   "outputs": [],
   "source": [
    "# Create a DataFrame to store the combinations\n",
    "columns = [\"order_status\", \"shipment_status\", \"invoice_status\"]\n",
    "df = pd.DataFrame(combinations, columns=columns)"
   ]
  },
  {
   "cell_type": "code",
   "execution_count": 33,
   "id": "d5664df7-bf8d-49b7-b387-b896d1ba2d03",
   "metadata": {},
   "outputs": [
    {
     "data": {
      "text/html": [
       "<div>\n",
       "<style scoped>\n",
       "    .dataframe tbody tr th:only-of-type {\n",
       "        vertical-align: middle;\n",
       "    }\n",
       "\n",
       "    .dataframe tbody tr th {\n",
       "        vertical-align: top;\n",
       "    }\n",
       "\n",
       "    .dataframe thead th {\n",
       "        text-align: right;\n",
       "    }\n",
       "</style>\n",
       "<table border=\"1\" class=\"dataframe\">\n",
       "  <thead>\n",
       "    <tr style=\"text-align: right;\">\n",
       "      <th></th>\n",
       "      <th>order_status</th>\n",
       "      <th>shipment_status</th>\n",
       "      <th>invoice_status</th>\n",
       "    </tr>\n",
       "  </thead>\n",
       "  <tbody>\n",
       "    <tr>\n",
       "      <th>0</th>\n",
       "      <td>Approved</td>\n",
       "      <td>Pending</td>\n",
       "      <td>PendingApproval</td>\n",
       "    </tr>\n",
       "    <tr>\n",
       "      <th>1</th>\n",
       "      <td>Approved</td>\n",
       "      <td>Pending</td>\n",
       "      <td>Approved</td>\n",
       "    </tr>\n",
       "    <tr>\n",
       "      <th>2</th>\n",
       "      <td>Approved</td>\n",
       "      <td>Pending</td>\n",
       "      <td>Sent</td>\n",
       "    </tr>\n",
       "    <tr>\n",
       "      <th>3</th>\n",
       "      <td>Approved</td>\n",
       "      <td>Pending</td>\n",
       "      <td>Paid</td>\n",
       "    </tr>\n",
       "    <tr>\n",
       "      <th>4</th>\n",
       "      <td>Approved</td>\n",
       "      <td>Pending</td>\n",
       "      <td>Cancelled</td>\n",
       "    </tr>\n",
       "    <tr>\n",
       "      <th>...</th>\n",
       "      <td>...</td>\n",
       "      <td>...</td>\n",
       "      <td>...</td>\n",
       "    </tr>\n",
       "    <tr>\n",
       "      <th>85</th>\n",
       "      <td>Cancelled</td>\n",
       "      <td>Returned</td>\n",
       "      <td>PendingApproval</td>\n",
       "    </tr>\n",
       "    <tr>\n",
       "      <th>86</th>\n",
       "      <td>Cancelled</td>\n",
       "      <td>Returned</td>\n",
       "      <td>Approved</td>\n",
       "    </tr>\n",
       "    <tr>\n",
       "      <th>87</th>\n",
       "      <td>Cancelled</td>\n",
       "      <td>Returned</td>\n",
       "      <td>Sent</td>\n",
       "    </tr>\n",
       "    <tr>\n",
       "      <th>88</th>\n",
       "      <td>Cancelled</td>\n",
       "      <td>Returned</td>\n",
       "      <td>Paid</td>\n",
       "    </tr>\n",
       "    <tr>\n",
       "      <th>89</th>\n",
       "      <td>Cancelled</td>\n",
       "      <td>Returned</td>\n",
       "      <td>Cancelled</td>\n",
       "    </tr>\n",
       "  </tbody>\n",
       "</table>\n",
       "<p>90 rows × 3 columns</p>\n",
       "</div>"
      ],
      "text/plain": [
       "   order_status shipment_status   invoice_status\n",
       "0      Approved         Pending  PendingApproval\n",
       "1      Approved         Pending         Approved\n",
       "2      Approved         Pending             Sent\n",
       "3      Approved         Pending             Paid\n",
       "4      Approved         Pending        Cancelled\n",
       "..          ...             ...              ...\n",
       "85    Cancelled        Returned  PendingApproval\n",
       "86    Cancelled        Returned         Approved\n",
       "87    Cancelled        Returned             Sent\n",
       "88    Cancelled        Returned             Paid\n",
       "89    Cancelled        Returned        Cancelled\n",
       "\n",
       "[90 rows x 3 columns]"
      ]
     },
     "execution_count": 33,
     "metadata": {},
     "output_type": "execute_result"
    }
   ],
   "source": [
    "df"
   ]
  },
  {
   "cell_type": "markdown",
   "id": "1ce73b29-9fbb-4dfb-ac6f-63d5fa3c342e",
   "metadata": {},
   "source": [
    "# Order Items and Order Details Data Set up"
   ]
  },
  {
   "cell_type": "code",
   "execution_count": 4,
   "id": "7a4f74c1-e35f-42c2-a0b0-9f519e4cfbc3",
   "metadata": {},
   "outputs": [],
   "source": [
    "from fosforml.model_manager.snowflakesession import get_session\n",
    "my_session = get_session()"
   ]
  },
  {
   "cell_type": "code",
   "execution_count": 5,
   "id": "4de13013-1a1d-4aa0-bc45-e6a986f5ebfa",
   "metadata": {},
   "outputs": [],
   "source": [
    "table_name = 'BRONZE_CUSTOMER_DATA'\n",
    "\n",
    "sf_df = my_session.sql(\"select * from {}\".format(table_name))\n",
    "df_customers = sf_df.to_pandas()"
   ]
  },
  {
   "cell_type": "code",
   "execution_count": 6,
   "id": "0036fe35-b725-4575-a97b-c738141c3283",
   "metadata": {},
   "outputs": [],
   "source": [
    "table_name = 'BRONZE_PRODUCT_DATA'\n",
    "\n",
    "sf_df = my_session.sql(\"select * from {}\".format(table_name))\n",
    "df_product = sf_df.to_pandas()"
   ]
  },
  {
   "cell_type": "code",
   "execution_count": 18,
   "id": "34bff2de-ab38-457a-9cca-e1634ff3b308",
   "metadata": {},
   "outputs": [],
   "source": [
    "# Assuming you already have the customers and products dataframes\n",
    "customers = df_customers['CustomerID'].tolist()\n",
    "products = df_product[['ProductID', 'UnitPrice']].to_dict('records')"
   ]
  },
  {
   "cell_type": "code",
   "execution_count": 7,
   "id": "a7b374ae-4410-4fd5-879b-6de389b6b012",
   "metadata": {},
   "outputs": [],
   "source": [
    "# Function to generate a random date between two dates\n",
    "def random_date(start_date, end_date):\n",
    "    delta = end_date - start_date\n",
    "    random_days = random.randint(0, delta.days)\n",
    "    return start_date + timedelta(days=random_days)"
   ]
  },
  {
   "cell_type": "code",
   "execution_count": 9,
   "id": "d86da7bc-a813-4bad-bf52-798e031f0dce",
   "metadata": {},
   "outputs": [],
   "source": [
    "# Define the date range\n",
    "from datetime import datetime, timedelta\n",
    "\n",
    "start_date = datetime.strptime('08-01-2022', '%m-%d-%Y')\n",
    "end_date = datetime.strptime('09-01-2024', '%m-%d-%Y')"
   ]
  },
  {
   "cell_type": "code",
   "execution_count": 10,
   "id": "b642c64c-5afe-452d-a430-2e9daeab7b5f",
   "metadata": {
    "scrolled": true
   },
   "outputs": [
    {
     "data": {
      "text/plain": [
       "(datetime.datetime(2022, 8, 1, 0, 0), datetime.datetime(2024, 9, 1, 0, 0))"
      ]
     },
     "execution_count": 10,
     "metadata": {},
     "output_type": "execute_result"
    }
   ],
   "source": [
    "start_date, end_date"
   ]
  },
  {
   "cell_type": "code",
   "execution_count": 54,
   "id": "1c4c7c31-5dba-49c2-97e7-d9a647191367",
   "metadata": {},
   "outputs": [],
   "source": [
    "def add_days(input_date, range1, range2):\n",
    "\n",
    "    if isinstance(input_date, str):    \n",
    "    # Convert orderdate string back to datetime object\n",
    "        input_date = datetime.strptime(input_date, '%m-%d-%Y')\n",
    "\n",
    "    # Generate a random number of days \n",
    "    additional_days = random.randint(range1, range2)\n",
    "\n",
    "    # Calculate the new date\n",
    "    new_date = input_date + timedelta(days=additional_days)\n",
    "\n",
    "    # Convert the new date back to string if needed\n",
    "    new_date = new_date.strftime('%m-%d-%Y')\n",
    "\n",
    "    return new_date"
   ]
  },
  {
   "cell_type": "code",
   "execution_count": 68,
   "id": "804e9df8-6e87-407c-a230-694bc2b581a2",
   "metadata": {},
   "outputs": [],
   "source": [
    "# List to store orders\n",
    "orders_fulfill = []\n",
    "\n",
    "# Generate orders\n",
    "for i in range(123456):\n",
    "    # Filter products matching the customer's type\n",
    "    customer = df_customers.sample(n=1)\n",
    "    matching_products = df_product[df_product['PRODUCTCATEGORY'] == customer.iloc[0]['CUSTOMERTYPE']]\n",
    "    \n",
    "    if not matching_products.empty:\n",
    "        # Randomly select a product from the matching products\n",
    "        orderid = 'OR-' + fake.uuid4()\n",
    "        orderitemid = 'OI-' + fake.uuid4()\n",
    "        invoiceid = 'IN-' + fake.uuid4()\n",
    "        shipmentid = 'SP-' + fake.uuid4()\n",
    "        selected_product = matching_products.sample().iloc[0]\n",
    "        selected_quantity = random.randint(1, selected_product['QUANTITY'])\n",
    "        orderdate = random_date(start_date, end_date).strftime('%m-%d-%Y')\n",
    "        shipmentdate = add_days(orderdate, 2,7)\n",
    "        deliverydate = add_days(shipmentdate, 1,4)\n",
    "        deliveredOn = add_days(deliverydate,0,2) \n",
    "        invoicedate = add_days(deliveredOn,1,2)\n",
    "        invoiceduedate = add_days(invoicedate,0,7)\n",
    "        paymentdate = add_days(invoicedate,1,15)\n",
    "\n",
    "        # Generate Fulfilled order details\n",
    "        orders_fulfil = {\n",
    "            'ORDERID' : orderid,\n",
    "            'ORDERITEMID' : orderitemid,\n",
    "            'CUSTOMERID': customer.iloc[0]['CUSTOMERID'],\n",
    "            'CUSTOMERNAME': customer.iloc[0]['CUSTOMERNAME'],\n",
    "            'PRODUCTID': selected_product['PRODUCTID'],\n",
    "            'PRODUCTCATEGORY': selected_product['PRODUCTCATEGORY'],\n",
    "            'PRODUCTTYPE': selected_product['PRODUCTTYPE'],\n",
    "            'ORDERDATE': orderdate,\n",
    "            'ORDERSTATUS': 'Fulfilled',\n",
    "            'ORDERITEMSTATUS': 'Fulfilled',\n",
    "            'ORDERUNITPRICE': selected_product['UNITPRICE'],\n",
    "            'ORDERQUANTITY': selected_quantity,\n",
    "            'TOTALPRICE': selected_product['UNITPRICE'] * selected_quantity,\n",
    "            'SHIPMENTID' : shipmentid,\n",
    "            'SHIPMENTDATE' : shipmentdate,\n",
    "            'SHIPMENTSTATUS' : 'Delivered',\n",
    "            'INVOICEID' : invoiceid,\n",
    "            'INVOICEDATE' : invoicedate,\n",
    "            'INVOICEDUEDATE' : invoiceduedate,\n",
    "            'PAYMENTDATE' : paymentdate,\n",
    "            'DELIVERYDATE' : deliverydate,\n",
    "            'DELIVEREDON' : deliveredOn,\n",
    "            'PAYMENTSTATUS': 'Complete',\n",
    "            'PAYMENTMETHOD': random.choice(['Wire Transfers','Cards','Cash','Checks','Mobile Payments']),\n",
    "            'CARRIER' : random.choice(['FedEx', 'UPS', 'DHL', 'USPS'])\n",
    "        }\n",
    "        \n",
    "        # Add order to the list\n",
    "        orders_fulfill.append(orders_fulfil)\n",
    "\n",
    "# Create a DataFrame for orders\n",
    "df_orders_fulfill = pd.DataFrame(orders_fulfill)"
   ]
  },
  {
   "cell_type": "code",
   "execution_count": 69,
   "id": "43a64589-eeac-483c-8e52-9c187f808f25",
   "metadata": {},
   "outputs": [
    {
     "data": {
      "text/html": [
       "<div>\n",
       "<style scoped>\n",
       "    .dataframe tbody tr th:only-of-type {\n",
       "        vertical-align: middle;\n",
       "    }\n",
       "\n",
       "    .dataframe tbody tr th {\n",
       "        vertical-align: top;\n",
       "    }\n",
       "\n",
       "    .dataframe thead th {\n",
       "        text-align: right;\n",
       "    }\n",
       "</style>\n",
       "<table border=\"1\" class=\"dataframe\">\n",
       "  <thead>\n",
       "    <tr style=\"text-align: right;\">\n",
       "      <th></th>\n",
       "      <th>ORDERID</th>\n",
       "      <th>ORDERITEMID</th>\n",
       "      <th>CUSTOMERID</th>\n",
       "      <th>CUSTOMERNAME</th>\n",
       "      <th>PRODUCTID</th>\n",
       "      <th>PRODUCTCATEGORY</th>\n",
       "      <th>PRODUCTTYPE</th>\n",
       "      <th>ORDERDATE</th>\n",
       "      <th>ORDERSTATUS</th>\n",
       "      <th>ORDERITEMSTATUS</th>\n",
       "      <th>...</th>\n",
       "      <th>SHIPMENTSTATUS</th>\n",
       "      <th>INVOICEID</th>\n",
       "      <th>INVOICEDATE</th>\n",
       "      <th>INVOICEDUEDATE</th>\n",
       "      <th>PAYMENTDATE</th>\n",
       "      <th>DELIVERYDATE</th>\n",
       "      <th>DELIVEREDON</th>\n",
       "      <th>PAYMENTSTATUS</th>\n",
       "      <th>PAYMENTMETHOD</th>\n",
       "      <th>CARRIER</th>\n",
       "    </tr>\n",
       "  </thead>\n",
       "  <tbody>\n",
       "    <tr>\n",
       "      <th>0</th>\n",
       "      <td>OR-96037631-4d8e-4016-8582-82e8a659f2b9</td>\n",
       "      <td>OI-5942a5fa-3d5d-425f-9a45-3940d675976e</td>\n",
       "      <td>fdeb3e5a-b484-4160-ae4b-7e023335502f</td>\n",
       "      <td>HomeEssentials</td>\n",
       "      <td>1844b9c3-9ec6-4468-80d7-07e3588d6423</td>\n",
       "      <td>Healthcare</td>\n",
       "      <td>Blood Pressure Monitor</td>\n",
       "      <td>03-20-2023</td>\n",
       "      <td>Fulfilled</td>\n",
       "      <td>Fulfilled</td>\n",
       "      <td>...</td>\n",
       "      <td>Delivered</td>\n",
       "      <td>IN-fdb46379-77f5-44e6-9e5c-76d5ebe6ab4d</td>\n",
       "      <td>03-27-2023</td>\n",
       "      <td>03-31-2023</td>\n",
       "      <td>04-02-2023</td>\n",
       "      <td>03-24-2023</td>\n",
       "      <td>03-25-2023</td>\n",
       "      <td>Complete</td>\n",
       "      <td>Checks</td>\n",
       "      <td>USPS</td>\n",
       "    </tr>\n",
       "    <tr>\n",
       "      <th>1</th>\n",
       "      <td>OR-e490aa51-4da7-45c9-b43e-c06fd96430db</td>\n",
       "      <td>OI-c4466f0a-d153-4d66-afaa-ba5220ef3a82</td>\n",
       "      <td>fdeb3e5a-b484-4160-ae4b-7e023335502f</td>\n",
       "      <td>HomeEssentials</td>\n",
       "      <td>e56b13ea-015e-440a-9883-0db9c08af953</td>\n",
       "      <td>Healthcare</td>\n",
       "      <td>Digital Thermometer</td>\n",
       "      <td>03-02-2024</td>\n",
       "      <td>Fulfilled</td>\n",
       "      <td>Fulfilled</td>\n",
       "      <td>...</td>\n",
       "      <td>Delivered</td>\n",
       "      <td>IN-bff8b48d-b2dd-43cf-9624-5dfbb990b3a1</td>\n",
       "      <td>03-13-2024</td>\n",
       "      <td>03-18-2024</td>\n",
       "      <td>03-20-2024</td>\n",
       "      <td>03-10-2024</td>\n",
       "      <td>03-11-2024</td>\n",
       "      <td>Complete</td>\n",
       "      <td>Cash</td>\n",
       "      <td>DHL</td>\n",
       "    </tr>\n",
       "    <tr>\n",
       "      <th>2</th>\n",
       "      <td>OR-e3e6f8d5-1b3a-4d7d-b9d2-e2aeb8b4796e</td>\n",
       "      <td>OI-4ed9f250-49c6-4375-9626-035260c182dc</td>\n",
       "      <td>02b56d63-e95d-4da5-83c6-5a985c3d4431</td>\n",
       "      <td>Easy Dealy</td>\n",
       "      <td>12b35a0a-23fc-4650-aa2a-3b50a6cb143b</td>\n",
       "      <td>Consumer Goods</td>\n",
       "      <td>LED Light Bulbs</td>\n",
       "      <td>06-17-2023</td>\n",
       "      <td>Fulfilled</td>\n",
       "      <td>Fulfilled</td>\n",
       "      <td>...</td>\n",
       "      <td>Delivered</td>\n",
       "      <td>IN-1a08a581-d265-4670-81cc-e437b438c962</td>\n",
       "      <td>06-24-2023</td>\n",
       "      <td>06-27-2023</td>\n",
       "      <td>07-09-2023</td>\n",
       "      <td>06-22-2023</td>\n",
       "      <td>06-23-2023</td>\n",
       "      <td>Complete</td>\n",
       "      <td>Cash</td>\n",
       "      <td>UPS</td>\n",
       "    </tr>\n",
       "    <tr>\n",
       "      <th>3</th>\n",
       "      <td>OR-381ae4de-c74e-4754-be2a-3f4c153a04e0</td>\n",
       "      <td>OI-45e026e5-adb7-4ed5-a8d0-21e13a060b37</td>\n",
       "      <td>fd837988-21b5-4832-a998-f6dd2c2e3249</td>\n",
       "      <td>EXPRESSR</td>\n",
       "      <td>52b7728b-2e17-4584-9038-1b8a6bc3cfb3</td>\n",
       "      <td>Food Beverages</td>\n",
       "      <td>Energy Drink</td>\n",
       "      <td>02-04-2023</td>\n",
       "      <td>Fulfilled</td>\n",
       "      <td>Fulfilled</td>\n",
       "      <td>...</td>\n",
       "      <td>Delivered</td>\n",
       "      <td>IN-0ad67d8c-ee79-4d77-ab4d-6a16efe79108</td>\n",
       "      <td>02-11-2023</td>\n",
       "      <td>02-16-2023</td>\n",
       "      <td>02-21-2023</td>\n",
       "      <td>02-08-2023</td>\n",
       "      <td>02-10-2023</td>\n",
       "      <td>Complete</td>\n",
       "      <td>Mobile Payments</td>\n",
       "      <td>DHL</td>\n",
       "    </tr>\n",
       "    <tr>\n",
       "      <th>4</th>\n",
       "      <td>OR-396c98e4-917a-4bc0-b471-b63edd5fd342</td>\n",
       "      <td>OI-f9107171-57c2-42a1-abfd-9ea556aba59f</td>\n",
       "      <td>e8dab644-6a47-4300-a5c8-a853df757beb</td>\n",
       "      <td>WhaleBack</td>\n",
       "      <td>d98d99a7-fc23-4212-b90c-70b1067d5de0</td>\n",
       "      <td>Automotive</td>\n",
       "      <td>Brake Pads</td>\n",
       "      <td>12-17-2022</td>\n",
       "      <td>Fulfilled</td>\n",
       "      <td>Fulfilled</td>\n",
       "      <td>...</td>\n",
       "      <td>Delivered</td>\n",
       "      <td>IN-cfe96c45-cc74-4331-9bef-a3cc899f77bf</td>\n",
       "      <td>12-24-2022</td>\n",
       "      <td>12-29-2022</td>\n",
       "      <td>01-03-2023</td>\n",
       "      <td>12-21-2022</td>\n",
       "      <td>12-23-2022</td>\n",
       "      <td>Complete</td>\n",
       "      <td>Cash</td>\n",
       "      <td>UPS</td>\n",
       "    </tr>\n",
       "  </tbody>\n",
       "</table>\n",
       "<p>5 rows × 25 columns</p>\n",
       "</div>"
      ],
      "text/plain": [
       "                                   ORDERID  \\\n",
       "0  OR-96037631-4d8e-4016-8582-82e8a659f2b9   \n",
       "1  OR-e490aa51-4da7-45c9-b43e-c06fd96430db   \n",
       "2  OR-e3e6f8d5-1b3a-4d7d-b9d2-e2aeb8b4796e   \n",
       "3  OR-381ae4de-c74e-4754-be2a-3f4c153a04e0   \n",
       "4  OR-396c98e4-917a-4bc0-b471-b63edd5fd342   \n",
       "\n",
       "                               ORDERITEMID  \\\n",
       "0  OI-5942a5fa-3d5d-425f-9a45-3940d675976e   \n",
       "1  OI-c4466f0a-d153-4d66-afaa-ba5220ef3a82   \n",
       "2  OI-4ed9f250-49c6-4375-9626-035260c182dc   \n",
       "3  OI-45e026e5-adb7-4ed5-a8d0-21e13a060b37   \n",
       "4  OI-f9107171-57c2-42a1-abfd-9ea556aba59f   \n",
       "\n",
       "                             CUSTOMERID    CUSTOMERNAME  \\\n",
       "0  fdeb3e5a-b484-4160-ae4b-7e023335502f  HomeEssentials   \n",
       "1  fdeb3e5a-b484-4160-ae4b-7e023335502f  HomeEssentials   \n",
       "2  02b56d63-e95d-4da5-83c6-5a985c3d4431      Easy Dealy   \n",
       "3  fd837988-21b5-4832-a998-f6dd2c2e3249        EXPRESSR   \n",
       "4  e8dab644-6a47-4300-a5c8-a853df757beb       WhaleBack   \n",
       "\n",
       "                              PRODUCTID PRODUCTCATEGORY  \\\n",
       "0  1844b9c3-9ec6-4468-80d7-07e3588d6423      Healthcare   \n",
       "1  e56b13ea-015e-440a-9883-0db9c08af953      Healthcare   \n",
       "2  12b35a0a-23fc-4650-aa2a-3b50a6cb143b  Consumer Goods   \n",
       "3  52b7728b-2e17-4584-9038-1b8a6bc3cfb3  Food Beverages   \n",
       "4  d98d99a7-fc23-4212-b90c-70b1067d5de0      Automotive   \n",
       "\n",
       "              PRODUCTTYPE   ORDERDATE ORDERSTATUS ORDERITEMSTATUS  ...  \\\n",
       "0  Blood Pressure Monitor  03-20-2023   Fulfilled       Fulfilled  ...   \n",
       "1     Digital Thermometer  03-02-2024   Fulfilled       Fulfilled  ...   \n",
       "2         LED Light Bulbs  06-17-2023   Fulfilled       Fulfilled  ...   \n",
       "3            Energy Drink  02-04-2023   Fulfilled       Fulfilled  ...   \n",
       "4              Brake Pads  12-17-2022   Fulfilled       Fulfilled  ...   \n",
       "\n",
       "   SHIPMENTSTATUS                                INVOICEID  INVOICEDATE  \\\n",
       "0       Delivered  IN-fdb46379-77f5-44e6-9e5c-76d5ebe6ab4d   03-27-2023   \n",
       "1       Delivered  IN-bff8b48d-b2dd-43cf-9624-5dfbb990b3a1   03-13-2024   \n",
       "2       Delivered  IN-1a08a581-d265-4670-81cc-e437b438c962   06-24-2023   \n",
       "3       Delivered  IN-0ad67d8c-ee79-4d77-ab4d-6a16efe79108   02-11-2023   \n",
       "4       Delivered  IN-cfe96c45-cc74-4331-9bef-a3cc899f77bf   12-24-2022   \n",
       "\n",
       "  INVOICEDUEDATE PAYMENTDATE DELIVERYDATE DELIVEREDON PAYMENTSTATUS  \\\n",
       "0     03-31-2023  04-02-2023   03-24-2023  03-25-2023      Complete   \n",
       "1     03-18-2024  03-20-2024   03-10-2024  03-11-2024      Complete   \n",
       "2     06-27-2023  07-09-2023   06-22-2023  06-23-2023      Complete   \n",
       "3     02-16-2023  02-21-2023   02-08-2023  02-10-2023      Complete   \n",
       "4     12-29-2022  01-03-2023   12-21-2022  12-23-2022      Complete   \n",
       "\n",
       "     PAYMENTMETHOD CARRIER  \n",
       "0           Checks    USPS  \n",
       "1             Cash     DHL  \n",
       "2             Cash     UPS  \n",
       "3  Mobile Payments     DHL  \n",
       "4             Cash     UPS  \n",
       "\n",
       "[5 rows x 25 columns]"
      ]
     },
     "execution_count": 69,
     "metadata": {},
     "output_type": "execute_result"
    }
   ],
   "source": [
    "df_orders_fulfill.head()"
   ]
  },
  {
   "cell_type": "code",
   "execution_count": 74,
   "id": "a6520f29-cb19-40cd-8f0e-8d8e779bd83c",
   "metadata": {},
   "outputs": [
    {
     "name": "stdout",
     "output_type": "stream",
     "text": [
      "<class 'pandas.core.frame.DataFrame'>\n",
      "RangeIndex: 123456 entries, 0 to 123455\n",
      "Data columns (total 25 columns):\n",
      " #   Column           Non-Null Count   Dtype \n",
      "---  ------           --------------   ----- \n",
      " 0   ORDERID          123456 non-null  object\n",
      " 1   ORDERITEMID      123456 non-null  object\n",
      " 2   CUSTOMERID       123456 non-null  object\n",
      " 3   CUSTOMERNAME     123456 non-null  object\n",
      " 4   PRODUCTID        123456 non-null  object\n",
      " 5   PRODUCTCATEGORY  123456 non-null  object\n",
      " 6   PRODUCTTYPE      123456 non-null  object\n",
      " 7   ORDERDATE        123456 non-null  object\n",
      " 8   ORDERSTATUS      123456 non-null  object\n",
      " 9   ORDERITEMSTATUS  123456 non-null  object\n",
      " 10  ORDERUNITPRICE   123456 non-null  int16 \n",
      " 11  ORDERQUANTITY    123456 non-null  int64 \n",
      " 12  TOTALPRICE       123456 non-null  int64 \n",
      " 13  SHIPMENTID       123456 non-null  object\n",
      " 14  SHIPMENTDATE     123456 non-null  object\n",
      " 15  SHIPMENTSTATUS   123456 non-null  object\n",
      " 16  INVOICEID        123456 non-null  object\n",
      " 17  INVOICEDATE      123456 non-null  object\n",
      " 18  INVOICEDUEDATE   123456 non-null  object\n",
      " 19  PAYMENTDATE      123456 non-null  object\n",
      " 20  DELIVERYDATE     123456 non-null  object\n",
      " 21  DELIVEREDON      123456 non-null  object\n",
      " 22  PAYMENTSTATUS    123456 non-null  object\n",
      " 23  PAYMENTMETHOD    123456 non-null  object\n",
      " 24  CARRIER          123456 non-null  object\n",
      "dtypes: int16(1), int64(2), object(22)\n",
      "memory usage: 22.8+ MB\n"
     ]
    }
   ],
   "source": [
    "df_orders_fulfill.info()"
   ]
  },
  {
   "cell_type": "code",
   "execution_count": null,
   "id": "9e78ecb8-2cba-4e12-a4b3-3f52215830e0",
   "metadata": {},
   "outputs": [],
   "source": []
  },
  {
   "cell_type": "code",
   "execution_count": 21,
   "id": "8c187238-4d10-41e4-a8ad-84ed8fbe4b16",
   "metadata": {},
   "outputs": [],
   "source": [
    "# Generate Order Items and Orders\n",
    "order_items = []\n",
    "orders = []\n",
    "\n",
    "for _ in range(100000):  # Generate 100,000 orders\n",
    "    order_id = fake.uuid4()\n",
    "    customer_id = random.choice(customers)\n",
    "    order_date = fake.date_between(start_date, end_date)\n",
    "    order_status = random.choice(['Pending', 'Shipped', 'Delivered', 'Cancelled'])\n",
    "    \n",
    "    # Create order items for this order\n",
    "    num_items = random.randint(1, 5)  # Each order has a random number of items between 1 and 5\n",
    "    for _ in range(num_items):\n",
    "        product = random.choice(products)\n",
    "        quantity = random.randint(1, 10)  # Generate a random quantity for each order item\n",
    "        unit_price = product['UnitPrice']\n",
    "        total_price = quantity * unit_price\n",
    "        item_status = random.choice(['Fulfilled', 'Partially Fulfilled', 'Cancelled', 'Delayed'])\n",
    "        \n",
    "        order_item = {\n",
    "            'Order_Item_ID': fake.uuid4(),\n",
    "            'OrderID': order_id,\n",
    "            'ProductID': product['ProductID'],\n",
    "            'Quantity': quantity,\n",
    "            'Unit_Price': unit_price,\n",
    "            'Total_Price': total_price,\n",
    "            'ItemStatus': item_status\n",
    "        }\n",
    "        order_items.append(order_item)\n",
    "    \n",
    "    # Create the order entry\n",
    "    order = {\n",
    "        'OrderID': order_id,\n",
    "        'CustomerID': customer_id,\n",
    "        'OrderDate': order_date,\n",
    "        'OrderStatus': order_status\n",
    "    }\n",
    "    orders.append(order)"
   ]
  },
  {
   "cell_type": "code",
   "execution_count": 22,
   "id": "b780e297-1c64-4f32-88b4-4f917e78cbaa",
   "metadata": {},
   "outputs": [],
   "source": [
    "# Convert to DataFrames\n",
    "df_order_items = pd.DataFrame(order_items)\n",
    "df_orders = pd.DataFrame(orders)"
   ]
  },
  {
   "cell_type": "code",
   "execution_count": 23,
   "id": "32818653-f4f4-4364-9f1f-776640666e75",
   "metadata": {},
   "outputs": [
    {
     "name": "stdout",
     "output_type": "stream",
     "text": [
      "                          Order_Item_ID                               OrderID  \\\n",
      "0  b559eb34-52da-420e-a7d2-9b6841cff6fd  4306cafa-fc49-4078-9d04-58e41f390cb6   \n",
      "1  9f611308-cea2-494e-99de-9c3207bfe90b  4306cafa-fc49-4078-9d04-58e41f390cb6   \n",
      "2  458f1492-7264-4cfa-a6ac-31f1e9e566ab  4306cafa-fc49-4078-9d04-58e41f390cb6   \n",
      "3  805bc8b7-4a02-47ba-87d0-851eb536d16f  4306cafa-fc49-4078-9d04-58e41f390cb6   \n",
      "4  865518d7-f2c0-4f6c-a520-542d2fa55f11  4306cafa-fc49-4078-9d04-58e41f390cb6   \n",
      "\n",
      "                              ProductID  Quantity  Unit_Price  Total_Price  \\\n",
      "0  8c59693d-0330-47a4-904f-35ae43a56bf1         5           2           10   \n",
      "1  7bd16343-58e9-4fbc-8e43-10690b1a27ff         2         425          850   \n",
      "2  2a08c84e-ea05-46dd-aa60-7f5d9f13c54d         5         325         1625   \n",
      "3  b1c94193-fbb2-4dcd-b703-c5e60f37f62d         7           5           35   \n",
      "4  a5624c16-d276-4518-861f-43744eee578c         3         600         1800   \n",
      "\n",
      "            ItemStatus  \n",
      "0              Delayed  \n",
      "1  Partially Fulfilled  \n",
      "2            Cancelled  \n",
      "3              Delayed  \n",
      "4              Delayed  \n",
      "                                OrderID                            CustomerID  \\\n",
      "0  4306cafa-fc49-4078-9d04-58e41f390cb6  3b939ffb-2896-4e03-9460-6cc763880617   \n",
      "1  f3cb6ec4-f636-48a6-9965-e64f08090eab  aef1fc2c-25f4-473a-99b0-1ba11c446b4f   \n",
      "2  be7e7467-ed28-4fb8-b8d5-1abbb385f87b  22de95c5-4fd7-4a00-8f80-a5590e1ccce1   \n",
      "3  eda22c3b-037f-4237-a53c-c8c0933dc9e8  0e9dda7c-b148-4f3d-b8f2-1989b1448b89   \n",
      "4  4aa25840-2371-4218-8173-8652ad6e979c  85b449ea-32da-41eb-9cdb-db56b3f6e05e   \n",
      "\n",
      "    OrderDate OrderStatus  \n",
      "0  2024-04-17   Cancelled  \n",
      "1  2023-11-26   Cancelled  \n",
      "2  2022-11-24   Delivered  \n",
      "3  2023-08-30     Shipped  \n",
      "4  2023-10-31   Delivered  \n"
     ]
    }
   ],
   "source": [
    "# Display the first few rows of the DataFrames\n",
    "print(df_order_items.head())\n",
    "print(df_orders.head())"
   ]
  },
  {
   "cell_type": "code",
   "execution_count": 24,
   "id": "7170b0f3-ed42-4f67-8fb2-17afa518de6d",
   "metadata": {},
   "outputs": [
    {
     "name": "stdout",
     "output_type": "stream",
     "text": [
      "Number of rows in df_order_items: 300034\n",
      "Number of rows in df_orders: 100000\n"
     ]
    }
   ],
   "source": [
    "# Check the number of rows in the DataFrames\n",
    "print(f\"Number of rows in df_order_items: {len(df_order_items)}\")\n",
    "print(f\"Number of rows in df_orders: {len(df_orders)}\")"
   ]
  },
  {
   "cell_type": "code",
   "execution_count": 25,
   "id": "4104c2c7-3b3a-4fda-87ef-c724970947d7",
   "metadata": {},
   "outputs": [
    {
     "name": "stdout",
     "output_type": "stream",
     "text": [
      "The history saving thread hit an unexpected error (OperationalError('attempt to write a readonly database')).History will not be written to the database.\n",
      "----------------------------------------------------------------------------------------------------------------------------------------------------------------------------------------\n",
      "|\"Order_Item_ID\"                       |\"OrderID\"                             |\"ProductID\"                           |\"Quantity\"  |\"Unit_Price\"  |\"Total_Price\"  |\"ItemStatus\"         |\n",
      "----------------------------------------------------------------------------------------------------------------------------------------------------------------------------------------\n",
      "|b559eb34-52da-420e-a7d2-9b6841cff6fd  |4306cafa-fc49-4078-9d04-58e41f390cb6  |8c59693d-0330-47a4-904f-35ae43a56bf1  |5           |2             |10             |Delayed              |\n",
      "|9f611308-cea2-494e-99de-9c3207bfe90b  |4306cafa-fc49-4078-9d04-58e41f390cb6  |7bd16343-58e9-4fbc-8e43-10690b1a27ff  |2           |425           |850            |Partially Fulfilled  |\n",
      "|458f1492-7264-4cfa-a6ac-31f1e9e566ab  |4306cafa-fc49-4078-9d04-58e41f390cb6  |2a08c84e-ea05-46dd-aa60-7f5d9f13c54d  |5           |325           |1625           |Cancelled            |\n",
      "|805bc8b7-4a02-47ba-87d0-851eb536d16f  |4306cafa-fc49-4078-9d04-58e41f390cb6  |b1c94193-fbb2-4dcd-b703-c5e60f37f62d  |7           |5             |35             |Delayed              |\n",
      "|865518d7-f2c0-4f6c-a520-542d2fa55f11  |4306cafa-fc49-4078-9d04-58e41f390cb6  |a5624c16-d276-4518-861f-43744eee578c  |3           |600           |1800           |Delayed              |\n",
      "|5f08f9b1-feaa-4164-8855-2dba34634e48  |f3cb6ec4-f636-48a6-9965-e64f08090eab  |51585f72-4ce1-4bf4-9927-29514dadc201  |4           |99            |396            |Delayed              |\n",
      "|14d49831-1b91-456e-b713-f5048ff26c2f  |be7e7467-ed28-4fb8-b8d5-1abbb385f87b  |b06eae68-dfbf-4f7d-80de-99d0d63ccc14  |8           |15            |120            |Delayed              |\n",
      "|30a8870d-3a8f-4cc6-b89e-d87fb98dab17  |be7e7467-ed28-4fb8-b8d5-1abbb385f87b  |b55fcfa3-b24d-48a7-906c-8e9ceebb5f62  |9           |25000         |225000         |Partially Fulfilled  |\n",
      "|8f798342-2f1d-42cb-bffb-63cb9134e03d  |be7e7467-ed28-4fb8-b8d5-1abbb385f87b  |113c927f-85a0-4206-8e3a-c8bafa9869b5  |4           |675           |2700           |Partially Fulfilled  |\n",
      "|f5aebfef-16e3-45e3-bfc9-89399b1a8109  |be7e7467-ed28-4fb8-b8d5-1abbb385f87b  |d98d99a7-fc23-4212-b90c-70b1067d5de0  |5           |60            |300            |Cancelled            |\n",
      "----------------------------------------------------------------------------------------------------------------------------------------------------------------------------------------\n",
      "\n"
     ]
    }
   ],
   "source": [
    "my_session = get_session()\n",
    "sf_df = my_session.createDataFrame(df_order_items)\n",
    "sf_df.write.mode(\"overwrite\").save_as_table(\"BRONZE_ORDER_ITEM_DETAILS\")\n",
    "my_session.table(\"BRONZE_ORDER_ITEM_DETAILS\").show()"
   ]
  },
  {
   "cell_type": "code",
   "execution_count": 26,
   "id": "3e35758b-8602-4fb8-918d-24e7f659fa1c",
   "metadata": {},
   "outputs": [
    {
     "name": "stdout",
     "output_type": "stream",
     "text": [
      "-------------------------------------------------------------------------------------------------------------\n",
      "|\"OrderID\"                             |\"CustomerID\"                          |\"OrderDate\"  |\"OrderStatus\"  |\n",
      "-------------------------------------------------------------------------------------------------------------\n",
      "|4306cafa-fc49-4078-9d04-58e41f390cb6  |3b939ffb-2896-4e03-9460-6cc763880617  |2024-04-17   |Cancelled      |\n",
      "|f3cb6ec4-f636-48a6-9965-e64f08090eab  |aef1fc2c-25f4-473a-99b0-1ba11c446b4f  |2023-11-26   |Cancelled      |\n",
      "|be7e7467-ed28-4fb8-b8d5-1abbb385f87b  |22de95c5-4fd7-4a00-8f80-a5590e1ccce1  |2022-11-24   |Delivered      |\n",
      "|eda22c3b-037f-4237-a53c-c8c0933dc9e8  |0e9dda7c-b148-4f3d-b8f2-1989b1448b89  |2023-08-30   |Shipped        |\n",
      "|4aa25840-2371-4218-8173-8652ad6e979c  |85b449ea-32da-41eb-9cdb-db56b3f6e05e  |2023-10-31   |Delivered      |\n",
      "|ae4d4400-1a7e-4914-a2d9-4052cf2216c9  |4fc29fa6-c18d-492b-a80b-6f98f3b650a2  |2024-04-11   |Shipped        |\n",
      "|2db64f00-8d3b-4053-9ab0-5c6a9acd007d  |946c3c83-b3a0-42f1-9656-9fbde9085da5  |2023-09-01   |Delivered      |\n",
      "|56a9b00a-e332-4e85-a465-c43213bdf9f9  |3a7890d2-6dc8-4935-800b-f7d7b686cc6a  |2024-04-11   |Delivered      |\n",
      "|dcd10220-f027-4161-8f9a-610f138f2ac2  |4c74fee7-a03b-49f8-a9b4-85e0ecbf0577  |2024-01-18   |Delivered      |\n",
      "|cedf59a8-80cb-4736-ac27-4a412277a7ab  |1a4f42a4-8fb5-46de-a495-15882c1fe87f  |2024-06-05   |Shipped        |\n",
      "-------------------------------------------------------------------------------------------------------------\n",
      "\n"
     ]
    }
   ],
   "source": [
    "sf_df = my_session.createDataFrame(df_orders)\n",
    "sf_df.write.mode(\"overwrite\").save_as_table(\"BRONZE_ORDER_DETAILS\")\n",
    "my_session.table(\"BRONZE_ORDER_DETAILS\").show()"
   ]
  },
  {
   "cell_type": "markdown",
   "id": "6de3c8a6-54fe-4efb-9d0a-8b8f9695234d",
   "metadata": {},
   "source": [
    "# Invoice Data Set Up"
   ]
  },
  {
   "cell_type": "code",
   "execution_count": 27,
   "id": "f6fce390-367a-4be7-a5da-5005f297df7b",
   "metadata": {},
   "outputs": [],
   "source": [
    "# Assuming you already have the orders and order_items dataframes\n",
    "orders = df_orders['OrderID'].tolist()"
   ]
  },
  {
   "cell_type": "code",
   "execution_count": 42,
   "id": "28b04bb6-5fef-43c2-9b43-8d2bf0bea2f8",
   "metadata": {},
   "outputs": [],
   "source": [
    "# Generate Invoices\n",
    "def generate_invoices():\n",
    "    invoices = []\n",
    "    for order_id in orders:\n",
    "        customer_id = df_orders[df_orders['OrderID'] == order_id]['CustomerID'].values[0]\n",
    "        order_date = df_orders[df_orders['OrderID'] == order_id]['OrderDate'].values[0]\n",
    "        order_status = df_orders[df_orders['OrderID'] == order_id]['OrderStatus'].values[0]\n",
    "        \n",
    "        # Calculate total amount from order items\n",
    "        total_amount = df_order_items[df_order_items['OrderID'] == order_id]['Total_Price'].sum()\n",
    "        \n",
    "        # Define invoice_date before using it\n",
    "        invoice_date = pd.to_datetime(order_date) + timedelta(days=random.randint(3, 10))\n",
    "        due_date = invoice_date + timedelta(days=7)\n",
    "        payment_status = 'Paid' if order_status in ['Shipped', 'Delivered'] else 'Pending'\n",
    "        \n",
    "        invoice = {\n",
    "            'Invoice_ID': fake.uuid4(),\n",
    "            'Order_ID': order_id,\n",
    "            'Invoice_Date': invoice_date,\n",
    "            'Due_Date': due_date,\n",
    "            'Total_Amount': total_amount,\n",
    "            'Payment_Status': payment_status,\n",
    "            'CustomerID': customer_id,\n",
    "            'OrderDate': order_date\n",
    "        }\n",
    "        invoices.append(invoice)\n",
    "    return invoices"
   ]
  },
  {
   "cell_type": "code",
   "execution_count": 43,
   "id": "28aaed0b-237f-4232-816c-187ead96f02d",
   "metadata": {},
   "outputs": [],
   "source": [
    "# Generate Data\n",
    "invoices = generate_invoices()\n",
    "\n",
    "df_invoices = pd.DataFrame(invoices)"
   ]
  },
  {
   "cell_type": "code",
   "execution_count": 47,
   "id": "c70255a8-cb45-4056-87e8-243a978e5292",
   "metadata": {},
   "outputs": [
    {
     "name": "stdout",
     "output_type": "stream",
     "text": [
      "                             Invoice_ID                              Order_ID  \\\n",
      "0  cfabc68a-43db-4ebe-ba60-4d0dc14411d8  4306cafa-fc49-4078-9d04-58e41f390cb6   \n",
      "1  fe8172e8-cbce-4810-8cc3-335367ce0443  f3cb6ec4-f636-48a6-9965-e64f08090eab   \n",
      "2  cd51f250-f695-4244-ba9d-0e1f1f9ed639  be7e7467-ed28-4fb8-b8d5-1abbb385f87b   \n",
      "3  7e7890d4-78e8-4440-816d-d67d2a35951b  eda22c3b-037f-4237-a53c-c8c0933dc9e8   \n",
      "4  c508616f-d1df-478a-bb5b-957f4a66d346  4aa25840-2371-4218-8173-8652ad6e979c   \n",
      "\n",
      "  Invoice_Date   Due_Date  Total_Amount Payment_Status  \\\n",
      "0   2024-04-25 2024-05-02          4320        Pending   \n",
      "1   2023-12-04 2023-12-11           396        Pending   \n",
      "2   2022-11-27 2022-12-04        228545           Paid   \n",
      "3   2023-09-08 2023-09-15          7159           Paid   \n",
      "4   2023-11-05 2023-11-12          1533           Paid   \n",
      "\n",
      "                             CustomerID   OrderDate  \n",
      "0  3b939ffb-2896-4e03-9460-6cc763880617  2024-04-17  \n",
      "1  aef1fc2c-25f4-473a-99b0-1ba11c446b4f  2023-11-26  \n",
      "2  22de95c5-4fd7-4a00-8f80-a5590e1ccce1  2022-11-24  \n",
      "3  0e9dda7c-b148-4f3d-b8f2-1989b1448b89  2023-08-30  \n",
      "4  85b449ea-32da-41eb-9cdb-db56b3f6e05e  2023-10-31  \n"
     ]
    }
   ],
   "source": [
    "print(df_invoices.head())"
   ]
  },
  {
   "cell_type": "code",
   "execution_count": 48,
   "id": "297d2e2b-adc3-4dbe-b923-d011facde19d",
   "metadata": {},
   "outputs": [
    {
     "name": "stdout",
     "output_type": "stream",
     "text": [
      "Number of rows in df_invoices: 100000\n"
     ]
    }
   ],
   "source": [
    "print(f\"Number of rows in df_invoices: {len(df_invoices)}\")"
   ]
  },
  {
   "cell_type": "code",
   "execution_count": 49,
   "id": "b46747e6-c120-4861-841f-e5235d349a14",
   "metadata": {},
   "outputs": [
    {
     "name": "stdout",
     "output_type": "stream",
     "text": [
      "--------------------------------------------------------------------------------------------------------------------------------------------------------------------------------------------------------------------\n",
      "|\"Invoice_ID\"                          |\"Order_ID\"                            |\"Invoice_Date\"       |\"Due_Date\"           |\"Total_Amount\"  |\"Payment_Status\"  |\"CustomerID\"                          |\"OrderDate\"  |\n",
      "--------------------------------------------------------------------------------------------------------------------------------------------------------------------------------------------------------------------\n",
      "|cfabc68a-43db-4ebe-ba60-4d0dc14411d8  |4306cafa-fc49-4078-9d04-58e41f390cb6  |2024-04-25 00:00:00  |2024-05-02 00:00:00  |4320            |Pending           |3b939ffb-2896-4e03-9460-6cc763880617  |2024-04-17   |\n",
      "|fe8172e8-cbce-4810-8cc3-335367ce0443  |f3cb6ec4-f636-48a6-9965-e64f08090eab  |2023-12-04 00:00:00  |2023-12-11 00:00:00  |396             |Pending           |aef1fc2c-25f4-473a-99b0-1ba11c446b4f  |2023-11-26   |\n",
      "|cd51f250-f695-4244-ba9d-0e1f1f9ed639  |be7e7467-ed28-4fb8-b8d5-1abbb385f87b  |2022-11-27 00:00:00  |2022-12-04 00:00:00  |228545          |Paid              |22de95c5-4fd7-4a00-8f80-a5590e1ccce1  |2022-11-24   |\n",
      "|7e7890d4-78e8-4440-816d-d67d2a35951b  |eda22c3b-037f-4237-a53c-c8c0933dc9e8  |2023-09-08 00:00:00  |2023-09-15 00:00:00  |7159            |Paid              |0e9dda7c-b148-4f3d-b8f2-1989b1448b89  |2023-08-30   |\n",
      "|c508616f-d1df-478a-bb5b-957f4a66d346  |4aa25840-2371-4218-8173-8652ad6e979c  |2023-11-05 00:00:00  |2023-11-12 00:00:00  |1533            |Paid              |85b449ea-32da-41eb-9cdb-db56b3f6e05e  |2023-10-31   |\n",
      "|2b747ca2-e553-461f-94c3-10972f911a38  |ae4d4400-1a7e-4914-a2d9-4052cf2216c9  |2024-04-18 00:00:00  |2024-04-25 00:00:00  |89400           |Paid              |4fc29fa6-c18d-492b-a80b-6f98f3b650a2  |2024-04-11   |\n",
      "|0c4af8e8-8889-460b-b98f-c78f98922283  |2db64f00-8d3b-4053-9ab0-5c6a9acd007d  |2023-09-05 00:00:00  |2023-09-12 00:00:00  |181017          |Paid              |946c3c83-b3a0-42f1-9656-9fbde9085da5  |2023-09-01   |\n",
      "|140b9522-36b9-4d76-aa88-4cb5c9c5427a  |56a9b00a-e332-4e85-a465-c43213bdf9f9  |2024-04-20 00:00:00  |2024-04-27 00:00:00  |8274            |Paid              |3a7890d2-6dc8-4935-800b-f7d7b686cc6a  |2024-04-11   |\n",
      "|01a2c30d-e0f2-4fa5-83e7-5388b47abbc5  |dcd10220-f027-4161-8f9a-610f138f2ac2  |2024-01-23 00:00:00  |2024-01-30 00:00:00  |150733          |Paid              |4c74fee7-a03b-49f8-a9b4-85e0ecbf0577  |2024-01-18   |\n",
      "|abc54613-c55f-4d17-86d3-6020b51a470b  |cedf59a8-80cb-4736-ac27-4a412277a7ab  |2024-06-15 00:00:00  |2024-06-22 00:00:00  |42              |Paid              |1a4f42a4-8fb5-46de-a495-15882c1fe87f  |2024-06-05   |\n",
      "--------------------------------------------------------------------------------------------------------------------------------------------------------------------------------------------------------------------\n",
      "\n"
     ]
    }
   ],
   "source": [
    "# Save to Snowflake\n",
    "sf_df = my_session.createDataFrame(df_invoices)\n",
    "sf_df.write.mode(\"overwrite\").save_as_table(\"BRONZE_INVOICE_DETAILS\")\n",
    "my_session.table(\"BRONZE_INVOICE_DETAILS\").show()"
   ]
  },
  {
   "cell_type": "markdown",
   "id": "1e6b054e-38a3-4c85-be2b-a882d6f05ab7",
   "metadata": {},
   "source": [
    "# Shipments Data Set up"
   ]
  },
  {
   "cell_type": "code",
   "execution_count": 50,
   "id": "d6a6d90a-34bf-4e7d-b29d-3f459fd13ed7",
   "metadata": {},
   "outputs": [],
   "source": [
    "# Generate Shipments\n",
    "def generate_shipments():\n",
    "    shipments = []\n",
    "    for order_id in orders:\n",
    "        order_status = df_orders[df_orders['OrderID'] == order_id]['OrderStatus'].values[0]\n",
    "        shipment_date = pd.to_datetime(df_orders[df_orders['OrderID'] == order_id]['OrderDate'].values[0]) + timedelta(days=random.randint(1, 5))\n",
    "        carrier = random.choice(['FedEx', 'UPS', 'DHL', 'USPS'])\n",
    "        tracking_number = fake.uuid4()\n",
    "        \n",
    "        # Set shipment status based on order status\n",
    "        if order_status == 'Pending':\n",
    "            shipment_status = 'Pending'\n",
    "        elif order_status == 'Shipped':\n",
    "            shipment_status = 'In Transit'\n",
    "        elif order_status == 'Delivered':\n",
    "            shipment_status = 'Delivered'\n",
    "        elif order_status == 'Cancelled':\n",
    "            shipment_status = 'Cancelled'\n",
    "        else:\n",
    "            shipment_status = 'Unknown'\n",
    "        \n",
    "        shipment = {\n",
    "            'Shipment_ID': fake.uuid4(),\n",
    "            'Order_ID': order_id,\n",
    "            'Shipment_Date': shipment_date,\n",
    "            'Carrier': carrier,\n",
    "            'Tracking_Number': tracking_number,\n",
    "            'Shipment_Status': shipment_status\n",
    "        }\n",
    "        shipments.append(shipment)\n",
    "    return shipments\n"
   ]
  },
  {
   "cell_type": "code",
   "execution_count": 51,
   "id": "4a590b5b-09c3-48f1-a8db-22f5bac66d42",
   "metadata": {},
   "outputs": [],
   "source": [
    "# Generate Data\n",
    "shipments = generate_shipments()\n",
    "\n",
    "df_shipments = pd.DataFrame(shipments)"
   ]
  },
  {
   "cell_type": "code",
   "execution_count": 52,
   "id": "7f549e21-3860-47d1-8c88-5b63dd2768fe",
   "metadata": {},
   "outputs": [
    {
     "name": "stdout",
     "output_type": "stream",
     "text": [
      "                            Shipment_ID                              Order_ID  \\\n",
      "0  618329ef-7334-4923-9b0a-f9c9f0760d49  4306cafa-fc49-4078-9d04-58e41f390cb6   \n",
      "1  76907a19-9465-462f-b8a1-1464bffaff04  f3cb6ec4-f636-48a6-9965-e64f08090eab   \n",
      "2  6a6e6a1f-07e2-4121-9a72-2f4da0b245cf  be7e7467-ed28-4fb8-b8d5-1abbb385f87b   \n",
      "3  9696a760-ac4d-4fda-bacf-fe7f55392b5e  eda22c3b-037f-4237-a53c-c8c0933dc9e8   \n",
      "4  4649a49c-f074-4456-82b0-53193b67a5a0  4aa25840-2371-4218-8173-8652ad6e979c   \n",
      "\n",
      "  Shipment_Date Carrier                       Tracking_Number Shipment_Status  \n",
      "0    2024-04-19   FedEx  20bd8d32-e945-48e1-90b1-b85516a45e3e       Cancelled  \n",
      "1    2023-11-30   FedEx  704118c5-72cb-4e8e-a3dc-92319ff8251b       Cancelled  \n",
      "2    2022-11-26     UPS  810b76d2-3e68-47da-9ad6-baae86b10c37       Delivered  \n",
      "3    2023-08-31    USPS  4fa8648d-595c-41e7-afc6-c0269253b09a      In Transit  \n",
      "4    2023-11-04     DHL  d915a119-82d1-4bcd-b4ed-67739943875e       Delivered  \n"
     ]
    }
   ],
   "source": [
    "# Display the first few rows of the DataFrame\n",
    "print(df_shipments.head())"
   ]
  },
  {
   "cell_type": "code",
   "execution_count": 53,
   "id": "e986559b-8f2b-4865-805e-76e24e1396c7",
   "metadata": {},
   "outputs": [
    {
     "name": "stdout",
     "output_type": "stream",
     "text": [
      "----------------------------------------------------------------------------------------------------------------------------------------------------------------------------\n",
      "|\"Shipment_ID\"                         |\"Order_ID\"                            |\"Shipment_Date\"      |\"Carrier\"  |\"Tracking_Number\"                     |\"Shipment_Status\"  |\n",
      "----------------------------------------------------------------------------------------------------------------------------------------------------------------------------\n",
      "|618329ef-7334-4923-9b0a-f9c9f0760d49  |4306cafa-fc49-4078-9d04-58e41f390cb6  |2024-04-19 00:00:00  |FedEx      |20bd8d32-e945-48e1-90b1-b85516a45e3e  |Cancelled          |\n",
      "|76907a19-9465-462f-b8a1-1464bffaff04  |f3cb6ec4-f636-48a6-9965-e64f08090eab  |2023-11-30 00:00:00  |FedEx      |704118c5-72cb-4e8e-a3dc-92319ff8251b  |Cancelled          |\n",
      "|6a6e6a1f-07e2-4121-9a72-2f4da0b245cf  |be7e7467-ed28-4fb8-b8d5-1abbb385f87b  |2022-11-26 00:00:00  |UPS        |810b76d2-3e68-47da-9ad6-baae86b10c37  |Delivered          |\n",
      "|9696a760-ac4d-4fda-bacf-fe7f55392b5e  |eda22c3b-037f-4237-a53c-c8c0933dc9e8  |2023-08-31 00:00:00  |USPS       |4fa8648d-595c-41e7-afc6-c0269253b09a  |In Transit         |\n",
      "|4649a49c-f074-4456-82b0-53193b67a5a0  |4aa25840-2371-4218-8173-8652ad6e979c  |2023-11-04 00:00:00  |DHL        |d915a119-82d1-4bcd-b4ed-67739943875e  |Delivered          |\n",
      "|881fd66a-c775-45e9-b1d9-2a93421f21c8  |ae4d4400-1a7e-4914-a2d9-4052cf2216c9  |2024-04-12 00:00:00  |DHL        |b5a3352b-8448-44d6-9805-b82e2b4b0584  |In Transit         |\n",
      "|53c5c826-dc43-46d6-95e1-8b407aeb8487  |2db64f00-8d3b-4053-9ab0-5c6a9acd007d  |2023-09-03 00:00:00  |DHL        |db9435e3-6ce5-4c0b-8566-93cb60aab213  |Delivered          |\n",
      "|fa337f77-df43-4a64-b07f-449e6e18f2bd  |56a9b00a-e332-4e85-a465-c43213bdf9f9  |2024-04-13 00:00:00  |USPS       |ff759e31-4ab9-4e95-893a-7465e0c925a1  |Delivered          |\n",
      "|d3d43917-eefb-4a42-90cd-a8b85ece34c4  |dcd10220-f027-4161-8f9a-610f138f2ac2  |2024-01-20 00:00:00  |DHL        |62b66f3d-e804-480c-8b8b-c243f869932c  |Delivered          |\n",
      "|03123ddd-4467-4b80-8861-056ea3435928  |cedf59a8-80cb-4736-ac27-4a412277a7ab  |2024-06-06 00:00:00  |FedEx      |ec8663bd-33e5-4890-b30d-21dadd33ad69  |In Transit         |\n",
      "----------------------------------------------------------------------------------------------------------------------------------------------------------------------------\n",
      "\n"
     ]
    }
   ],
   "source": [
    "# Save to Snowflake\n",
    "sf_df = my_session.createDataFrame(df_shipments)\n",
    "sf_df.write.mode(\"overwrite\").save_as_table(\"BRONZE_SHIPMENT_DETAILS\")\n",
    "my_session.table(\"BRONZE_SHIPMENT_DETAILS\").show()"
   ]
  },
  {
   "cell_type": "code",
   "execution_count": null,
   "id": "3fa0d460-1d9c-4ce6-9148-ac2d93eeafc5",
   "metadata": {},
   "outputs": [],
   "source": []
  },
  {
   "cell_type": "code",
   "execution_count": null,
   "id": "a9523d51-2f37-4aa0-bf98-ab8facae0a29",
   "metadata": {},
   "outputs": [],
   "source": []
  },
  {
   "cell_type": "code",
   "execution_count": null,
   "id": "b5569300-5907-45e8-963d-501d2d9f36d2",
   "metadata": {},
   "outputs": [],
   "source": []
  },
  {
   "cell_type": "code",
   "execution_count": null,
   "id": "7b5960f9-2683-4425-a70b-9eca46e41179",
   "metadata": {},
   "outputs": [],
   "source": []
  },
  {
   "cell_type": "code",
   "execution_count": null,
   "id": "71235362-12ca-42c0-ab37-d57133388b6e",
   "metadata": {},
   "outputs": [],
   "source": []
  },
  {
   "cell_type": "code",
   "execution_count": null,
   "id": "93c16468-e383-49d5-9dff-61207951e4f8",
   "metadata": {},
   "outputs": [],
   "source": []
  },
  {
   "cell_type": "code",
   "execution_count": null,
   "id": "8fdb7d9e-c9c2-4d47-96dd-a3ee872eaf3e",
   "metadata": {},
   "outputs": [],
   "source": []
  },
  {
   "cell_type": "code",
   "execution_count": null,
   "id": "9c44b609-a44d-449b-82f7-6749730bba19",
   "metadata": {},
   "outputs": [],
   "source": []
  },
  {
   "cell_type": "code",
   "execution_count": null,
   "id": "15159ebe-fabd-463c-bf33-b0f125e1fe70",
   "metadata": {},
   "outputs": [],
   "source": []
  },
  {
   "cell_type": "code",
   "execution_count": null,
   "id": "a1ed2c46-564d-41ab-9d5e-2af77556c5a9",
   "metadata": {},
   "outputs": [],
   "source": []
  },
  {
   "cell_type": "code",
   "execution_count": null,
   "id": "ab8efc6f-b5c3-41a0-a55c-ca0381609c0c",
   "metadata": {},
   "outputs": [],
   "source": []
  },
  {
   "cell_type": "code",
   "execution_count": 44,
   "id": "991f5aab-5473-4229-bc98-fc2dbc5128f4",
   "metadata": {},
   "outputs": [],
   "source": [
    "# Generate Orders and Order Items\n",
    "def generate_orders_and_items(customers, products, num_orders=100000):\n",
    "    orders = []\n",
    "    order_items = []\n",
    "    shipments = []\n",
    "    invoices = []\n",
    "    payments = []\n",
    "    statuses = ['Fulfilled', 'Delayed Fulfillment', 'Pending Payment']\n",
    "\n",
    "    for _ in range(num_orders):\n",
    "        customer = random.choice(customers)\n",
    "        order_status = random.choice(statuses)\n",
    "        order_id = fake.uuid4()\n",
    "        order_date = fake.date_this_year()\n",
    "        total_amount = 0\n",
    "\n",
    "        order = {\n",
    "            'OrderID': order_id,\n",
    "            'CustomerID': customer['CustomerID'],\n",
    "            'OrderDate': order_date,\n",
    "            'OrderStatus': order_status,\n",
    "            'TotalAmount': total_amount  # Will be updated later\n",
    "        }\n",
    "        orders.append(order)\n",
    "\n",
    "        num_items = random.randint(1, 5)\n",
    "        for _ in range(num_items):\n",
    "            product = random.choice(products)\n",
    "            quantity = random.randint(1, 10)\n",
    "            total_price = product['Price'] * quantity\n",
    "            total_amount += total_price\n",
    "\n",
    "            order_item = {\n",
    "                'OrderItemID': fake.uuid4(),\n",
    "                'OrderID': order_id,\n",
    "                'ProductID': product['ProductID'],\n",
    "                'Quantity': quantity,\n",
    "                'UnitPrice': product['Price'],\n",
    "                'TotalPrice': total_price\n",
    "            }\n",
    "            order_items.append(order_item)\n",
    "\n",
    "        # Update the total amount for the order\n",
    "        order['TotalAmount'] = total_amount\n",
    "\n",
    "        shipment = {\n",
    "            'ShipmentID': fake.uuid4(),\n",
    "            'OrderID': order_id,\n",
    "            'ShipmentDate': fake.date_this_year(),\n",
    "            'Carrier': fake.company(),\n",
    "            'TrackingNumber': fake.uuid4(),\n",
    "            'ShipmentStatus': 'Shipped' if order_status == 'Fulfilled' else 'Pending'\n",
    "        }\n",
    "        shipments.append(shipment)\n",
    "\n",
    "        invoice = {\n",
    "            'InvoiceID': fake.uuid4(),\n",
    "            'OrderID': order_id,\n",
    "            'InvoiceDate': fake.date_this_year(),\n",
    "            'DueDate': fake.date_this_year(),\n",
    "            'TotalAmount': total_amount,\n",
    "            'PaymentStatus': 'Paid' if order_status == 'Fulfilled' else 'Pending'\n",
    "        }\n",
    "        invoices.append(invoice)\n",
    "\n",
    "        if order_status == 'Fulfilled':\n",
    "            payment = {\n",
    "                'PaymentID': fake.uuid4(),\n",
    "                'InvoiceID': invoice['InvoiceID'],\n",
    "                'PaymentDate': fake.date_this_year(),\n",
    "                'PaymentAmount': total_amount,\n",
    "                'PaymentMethod': random.choice(['Credit Card', 'Bank Transfer', 'Cash'])\n",
    "            }\n",
    "            payments.append(payment)\n",
    "\n",
    "    return orders, order_items, shipments, invoices, payments"
   ]
  },
  {
   "cell_type": "code",
   "execution_count": null,
   "id": "672355d9-3344-428e-94b5-63257d97840c",
   "metadata": {},
   "outputs": [],
   "source": []
  },
  {
   "cell_type": "code",
   "execution_count": 16,
   "id": "87f701c7-bfc0-405a-811a-a561257923cc",
   "metadata": {},
   "outputs": [
    {
     "ename": "NameError",
     "evalue": "name 'products' is not defined",
     "output_type": "error",
     "traceback": [
      "\u001b[0;31m---------------------------------------------------------------------------\u001b[0m",
      "\u001b[0;31mNameError\u001b[0m                                 Traceback (most recent call last)",
      "Cell \u001b[0;32mIn[16], line 1\u001b[0m\n\u001b[0;32m----> 1\u001b[0m orders, order_items, shipments, invoices, payments \u001b[38;5;241m=\u001b[39m generate_orders_and_items(customers, \u001b[43mproducts\u001b[49m)\n",
      "\u001b[0;31mNameError\u001b[0m: name 'products' is not defined"
     ]
    }
   ],
   "source": [
    "orders, order_items, shipments, invoices, payments = generate_orders_and_items(customers, products)"
   ]
  },
  {
   "cell_type": "code",
   "execution_count": null,
   "id": "bd5fec1c-fe99-48da-a21b-b97f2642db96",
   "metadata": {},
   "outputs": [],
   "source": [
    "# Convert to DataFrames for easy manipulation\n",
    "\n",
    "\n",
    "df_orders = pd.DataFrame(orders)\n",
    "df_order_items = pd.DataFrame(order_items)\n",
    "df_shipments = pd.DataFrame(shipments)\n",
    "df_invoices = pd.DataFrame(invoices)\n",
    "df_payments = pd.DataFrame(payments)"
   ]
  },
  {
   "cell_type": "code",
   "execution_count": null,
   "id": "04ce9cfb-c637-4d0f-8fdb-5dfbbc0fdf40",
   "metadata": {},
   "outputs": [],
   "source": [
    "orders"
   ]
  },
  {
   "cell_type": "code",
   "execution_count": null,
   "id": "077cf502-6fb2-42ff-8294-59ddbbf48218",
   "metadata": {},
   "outputs": [],
   "source": []
  },
  {
   "cell_type": "code",
   "execution_count": null,
   "id": "34e6a192-5c7e-4257-a72d-17d0090d2374",
   "metadata": {},
   "outputs": [],
   "source": []
  },
  {
   "cell_type": "code",
   "execution_count": null,
   "id": "5e7f0b24-ae47-4fb5-aeba-d20fb5877e51",
   "metadata": {},
   "outputs": [],
   "source": []
  },
  {
   "cell_type": "code",
   "execution_count": null,
   "id": "bb4c77cc-8b0b-4dca-8783-91c264f794a5",
   "metadata": {},
   "outputs": [],
   "source": []
  },
  {
   "cell_type": "code",
   "execution_count": null,
   "id": "5b55dda6-3103-47b1-907c-ec3b836d2c0d",
   "metadata": {},
   "outputs": [],
   "source": []
  },
  {
   "cell_type": "code",
   "execution_count": null,
   "id": "150eea50-f9bf-456b-9a54-0e59f911cbba",
   "metadata": {},
   "outputs": [],
   "source": []
  },
  {
   "cell_type": "code",
   "execution_count": null,
   "id": "fae9ee56-953b-4068-b008-bb8ced8c8f44",
   "metadata": {},
   "outputs": [],
   "source": []
  },
  {
   "cell_type": "code",
   "execution_count": null,
   "id": "011936d8-60d4-4125-adc1-9369bfac4d4c",
   "metadata": {},
   "outputs": [],
   "source": []
  },
  {
   "cell_type": "code",
   "execution_count": null,
   "id": "f3ba6283-f7b6-4c3c-8056-9ea3223c5458",
   "metadata": {},
   "outputs": [],
   "source": []
  },
  {
   "cell_type": "code",
   "execution_count": null,
   "id": "047ef9f5-b52f-423e-9b72-43ebec2fb3d4",
   "metadata": {},
   "outputs": [],
   "source": []
  },
  {
   "cell_type": "code",
   "execution_count": null,
   "id": "8271ca1d-c983-476b-b8a5-c0b364a62741",
   "metadata": {},
   "outputs": [],
   "source": []
  }
 ],
 "metadata": {
  "kernelspec": {
   "display_name": "Python 3 (ipykernel)",
   "language": "python",
   "name": "python3"
  },
  "language_info": {
   "codemirror_mode": {
    "name": "ipython",
    "version": 3
   },
   "file_extension": ".py",
   "mimetype": "text/x-python",
   "name": "python",
   "nbconvert_exporter": "python",
   "pygments_lexer": "ipython3",
   "version": "3.9.19"
  }
 },
 "nbformat": 4,
 "nbformat_minor": 5
}
