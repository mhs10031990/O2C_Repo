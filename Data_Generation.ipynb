{
 "cells": [
  {
   "cell_type": "markdown",
   "id": "2d34ae5a-faea-40ee-a3b6-5fadbe1eaaf7",
   "metadata": {},
   "source": [
    "# Use O2C_Template Customized Notebook Template"
   ]
  },
  {
   "cell_type": "code",
   "execution_count": 1,
   "id": "2beea587-4333-4656-bfee-093ba7f23584",
   "metadata": {},
   "outputs": [],
   "source": [
    "import random\n",
    "from faker import Faker\n",
    "import pandas as pd"
   ]
  },
  {
   "cell_type": "code",
   "execution_count": 5,
   "id": "f8266d50-ee22-4d91-9192-dc0d440cd79a",
   "metadata": {},
   "outputs": [],
   "source": [
    "from fosforml.model_manager.snowflakesession import get_session\n",
    "my_session = get_session()"
   ]
  },
  {
   "cell_type": "code",
   "execution_count": 6,
   "id": "1f98c5d3-707d-401b-affc-84f3e461cc76",
   "metadata": {},
   "outputs": [],
   "source": [
    "fake = Faker('en_US')"
   ]
  },
  {
   "cell_type": "markdown",
   "id": "cbec74e9-70b1-4854-8775-5f2d9b650f5c",
   "metadata": {},
   "source": [
    "# Customer Data Setup"
   ]
  },
  {
   "cell_type": "code",
   "execution_count": 7,
   "id": "af2c39b9-7b8e-43be-8b08-cce794105a42",
   "metadata": {},
   "outputs": [],
   "source": [
    "# Generate Customers\n",
    "def generate_customers(num_customers=100):\n",
    "    customers = []\n",
    "    for _ in range(num_customers):\n",
    "        customer = {\n",
    "            'CustomerID': fake.uuid4(),\n",
    "            'Name': fake.company(),\n",
    "            'CompanyType':fake.company_suffix(),\n",
    "            'ContactDetails': fake.phone_number(),\n",
    "            'EmailDetails': fake.company_email(),\n",
    "            'AddressDetails':fake.address(),\n",
    "            'AdminDetails':fake.administrative_unit(),\n",
    "            'CreditLimit': random.randint(10000, 100000),\n",
    "            'CreditRating': random.choice(['very poor', 'fair', 'good', 'very good','exceptional'])\n",
    "        }\n",
    "        customers.append(customer)\n",
    "    return customers"
   ]
  },
  {
   "cell_type": "code",
   "execution_count": 8,
   "id": "328db935-ea4a-42d5-b820-d7ffd94eef9b",
   "metadata": {},
   "outputs": [],
   "source": [
    "# Generate Data\n",
    "customers = generate_customers()"
   ]
  },
  {
   "cell_type": "code",
   "execution_count": 9,
   "id": "616d70cc-8317-4ed6-8925-ffef0b810031",
   "metadata": {},
   "outputs": [],
   "source": [
    "df_customers = pd.DataFrame(customers)"
   ]
  },
  {
   "cell_type": "code",
   "execution_count": 10,
   "id": "d1cd993f-7748-48a8-9e96-fc06e2e3a448",
   "metadata": {},
   "outputs": [
    {
     "data": {
      "text/html": [
       "<div>\n",
       "<style scoped>\n",
       "    .dataframe tbody tr th:only-of-type {\n",
       "        vertical-align: middle;\n",
       "    }\n",
       "\n",
       "    .dataframe tbody tr th {\n",
       "        vertical-align: top;\n",
       "    }\n",
       "\n",
       "    .dataframe thead th {\n",
       "        text-align: right;\n",
       "    }\n",
       "</style>\n",
       "<table border=\"1\" class=\"dataframe\">\n",
       "  <thead>\n",
       "    <tr style=\"text-align: right;\">\n",
       "      <th></th>\n",
       "      <th>CustomerID</th>\n",
       "      <th>Name</th>\n",
       "      <th>CompanyType</th>\n",
       "      <th>ContactDetails</th>\n",
       "      <th>EmailDetails</th>\n",
       "      <th>AddressDetails</th>\n",
       "      <th>AdminDetails</th>\n",
       "      <th>CreditLimit</th>\n",
       "      <th>CreditRating</th>\n",
       "    </tr>\n",
       "  </thead>\n",
       "  <tbody>\n",
       "    <tr>\n",
       "      <th>0</th>\n",
       "      <td>160ca858-a03e-4595-8519-e9bb1620fd27</td>\n",
       "      <td>Klein-Cordova</td>\n",
       "      <td>Ltd</td>\n",
       "      <td>+1-562-488-1896x4491</td>\n",
       "      <td>fstout@white.com</td>\n",
       "      <td>5596 Wendy Mission Suite 873\\nEast Julieport, ...</td>\n",
       "      <td>Florida</td>\n",
       "      <td>23347</td>\n",
       "      <td>very good</td>\n",
       "    </tr>\n",
       "    <tr>\n",
       "      <th>1</th>\n",
       "      <td>b95cb40b-2d81-428f-92ac-018aa7ec8770</td>\n",
       "      <td>Mann Inc</td>\n",
       "      <td>Ltd</td>\n",
       "      <td>113.867.1672x291</td>\n",
       "      <td>fieldsaustin@turner-floyd.info</td>\n",
       "      <td>4057 Samuel Crest\\nGarrettview, OH 42172</td>\n",
       "      <td>New Hampshire</td>\n",
       "      <td>32797</td>\n",
       "      <td>fair</td>\n",
       "    </tr>\n",
       "    <tr>\n",
       "      <th>2</th>\n",
       "      <td>f408a3a9-f257-4ec4-9bcb-fcdd88ea4d01</td>\n",
       "      <td>Reeves, Ingram and Burnett</td>\n",
       "      <td>and Sons</td>\n",
       "      <td>(746)331-0507x64212</td>\n",
       "      <td>daniel33@fischer-downs.com</td>\n",
       "      <td>72043 Sullivan Gardens Suite 364\\nLindachester...</td>\n",
       "      <td>Rhode Island</td>\n",
       "      <td>12506</td>\n",
       "      <td>exceptional</td>\n",
       "    </tr>\n",
       "    <tr>\n",
       "      <th>3</th>\n",
       "      <td>ac324cdd-48bc-422a-9a5b-934b2c906d27</td>\n",
       "      <td>Miller PLC</td>\n",
       "      <td>Inc</td>\n",
       "      <td>455-254-3815x4095</td>\n",
       "      <td>jasonturner@nunez.com</td>\n",
       "      <td>050 Cook Shore Apt. 885\\nPort Stacie, IA 54819</td>\n",
       "      <td>Utah</td>\n",
       "      <td>96504</td>\n",
       "      <td>very poor</td>\n",
       "    </tr>\n",
       "    <tr>\n",
       "      <th>4</th>\n",
       "      <td>895ce235-aa50-4321-b6ab-f98f06c42b10</td>\n",
       "      <td>Schneider, Lane and Ramos</td>\n",
       "      <td>PLC</td>\n",
       "      <td>300-649-1158x3210</td>\n",
       "      <td>stephanierobbins@king-payne.com</td>\n",
       "      <td>025 Jocelyn Roads\\nPort Tammyhaven, MO 59117</td>\n",
       "      <td>Wyoming</td>\n",
       "      <td>28488</td>\n",
       "      <td>very poor</td>\n",
       "    </tr>\n",
       "  </tbody>\n",
       "</table>\n",
       "</div>"
      ],
      "text/plain": [
       "                             CustomerID                        Name  \\\n",
       "0  160ca858-a03e-4595-8519-e9bb1620fd27               Klein-Cordova   \n",
       "1  b95cb40b-2d81-428f-92ac-018aa7ec8770                    Mann Inc   \n",
       "2  f408a3a9-f257-4ec4-9bcb-fcdd88ea4d01  Reeves, Ingram and Burnett   \n",
       "3  ac324cdd-48bc-422a-9a5b-934b2c906d27                  Miller PLC   \n",
       "4  895ce235-aa50-4321-b6ab-f98f06c42b10   Schneider, Lane and Ramos   \n",
       "\n",
       "  CompanyType        ContactDetails                     EmailDetails  \\\n",
       "0         Ltd  +1-562-488-1896x4491                 fstout@white.com   \n",
       "1         Ltd      113.867.1672x291   fieldsaustin@turner-floyd.info   \n",
       "2    and Sons   (746)331-0507x64212       daniel33@fischer-downs.com   \n",
       "3         Inc     455-254-3815x4095            jasonturner@nunez.com   \n",
       "4         PLC     300-649-1158x3210  stephanierobbins@king-payne.com   \n",
       "\n",
       "                                      AddressDetails   AdminDetails  \\\n",
       "0  5596 Wendy Mission Suite 873\\nEast Julieport, ...        Florida   \n",
       "1           4057 Samuel Crest\\nGarrettview, OH 42172  New Hampshire   \n",
       "2  72043 Sullivan Gardens Suite 364\\nLindachester...   Rhode Island   \n",
       "3     050 Cook Shore Apt. 885\\nPort Stacie, IA 54819           Utah   \n",
       "4       025 Jocelyn Roads\\nPort Tammyhaven, MO 59117        Wyoming   \n",
       "\n",
       "   CreditLimit CreditRating  \n",
       "0        23347    very good  \n",
       "1        32797         fair  \n",
       "2        12506  exceptional  \n",
       "3        96504    very poor  \n",
       "4        28488    very poor  "
      ]
     },
     "execution_count": 10,
     "metadata": {},
     "output_type": "execute_result"
    }
   ],
   "source": [
    "df_customers.head()"
   ]
  },
  {
   "cell_type": "code",
   "execution_count": 12,
   "id": "240871bb-ea7b-484b-bd3e-3dc999fbd853",
   "metadata": {},
   "outputs": [
    {
     "data": {
      "text/plain": [
       "Index(['CustomerID', 'Name', 'CompanyType', 'ContactDetails', 'EmailDetails',\n",
       "       'AddressDetails', 'AdminDetails', 'CreditLimit', 'CreditRating'],\n",
       "      dtype='object')"
      ]
     },
     "execution_count": 12,
     "metadata": {},
     "output_type": "execute_result"
    }
   ],
   "source": [
    "df_customers.columns = ['CustomerID', 'Name', 'CompanyType', 'ContactDetails', 'EmailDetails',\n",
    "       'AddressDetails', 'AdminDetails', 'CreditLimit', 'CreditRating']"
   ]
  },
  {
   "cell_type": "code",
   "execution_count": 25,
   "id": "a21c77fb-cd0a-4a3e-9e46-a336d9f3bcb8",
   "metadata": {},
   "outputs": [],
   "source": [
    "df_train_sf=my_session.createDataFrame(\n",
    "        df_customers.values.tolist(),\n",
    "        schema=df_customers.columns.tolist())\n",
    "df_train_sf.write.mode(\"overwrite\").save_as_table(\"FDC_HORIZONTAL.O2C_SCHEMA.BRONZE_CUSTOMER_DATA\")"
   ]
  },
  {
   "cell_type": "markdown",
   "id": "5e77f373-62ae-4a3d-82f5-5c52f9f52728",
   "metadata": {},
   "source": [
    "# Product Data setup"
   ]
  },
  {
   "cell_type": "code",
   "execution_count": 20,
   "id": "4403a6bc-ed0c-4ea5-a547-e5535a5dc27c",
   "metadata": {},
   "outputs": [],
   "source": [
    "df_product = pd.read_csv('product_files.csv')"
   ]
  },
  {
   "cell_type": "code",
   "execution_count": 21,
   "id": "ed978545-1470-496d-aa01-2cc04169dbc5",
   "metadata": {},
   "outputs": [
    {
     "data": {
      "text/html": [
       "<div>\n",
       "<style scoped>\n",
       "    .dataframe tbody tr th:only-of-type {\n",
       "        vertical-align: middle;\n",
       "    }\n",
       "\n",
       "    .dataframe tbody tr th {\n",
       "        vertical-align: top;\n",
       "    }\n",
       "\n",
       "    .dataframe thead th {\n",
       "        text-align: right;\n",
       "    }\n",
       "</style>\n",
       "<table border=\"1\" class=\"dataframe\">\n",
       "  <thead>\n",
       "    <tr style=\"text-align: right;\">\n",
       "      <th></th>\n",
       "      <th>ProductCategory</th>\n",
       "      <th>ProductType</th>\n",
       "      <th>Quantity</th>\n",
       "      <th>UnitPrice</th>\n",
       "    </tr>\n",
       "  </thead>\n",
       "  <tbody>\n",
       "    <tr>\n",
       "      <th>0</th>\n",
       "      <td>Office Supplies</td>\n",
       "      <td>Laser Printer</td>\n",
       "      <td>100</td>\n",
       "      <td>425</td>\n",
       "    </tr>\n",
       "    <tr>\n",
       "      <th>1</th>\n",
       "      <td>Office Supplies</td>\n",
       "      <td>Ergonomic Chair</td>\n",
       "      <td>1000</td>\n",
       "      <td>299</td>\n",
       "    </tr>\n",
       "    <tr>\n",
       "      <th>2</th>\n",
       "      <td>Office Supplies</td>\n",
       "      <td>Standing Desk</td>\n",
       "      <td>1000</td>\n",
       "      <td>420</td>\n",
       "    </tr>\n",
       "    <tr>\n",
       "      <th>3</th>\n",
       "      <td>Office Supplies</td>\n",
       "      <td>Wireless Keyboard</td>\n",
       "      <td>1000</td>\n",
       "      <td>78</td>\n",
       "    </tr>\n",
       "    <tr>\n",
       "      <th>4</th>\n",
       "      <td>Office Supplies</td>\n",
       "      <td>Office Stationery Set</td>\n",
       "      <td>1000</td>\n",
       "      <td>15</td>\n",
       "    </tr>\n",
       "  </tbody>\n",
       "</table>\n",
       "</div>"
      ],
      "text/plain": [
       "   ProductCategory            ProductType  Quantity  UnitPrice\n",
       "0  Office Supplies          Laser Printer       100        425\n",
       "1  Office Supplies        Ergonomic Chair      1000        299\n",
       "2  Office Supplies          Standing Desk      1000        420\n",
       "3  Office Supplies      Wireless Keyboard      1000         78\n",
       "4  Office Supplies  Office Stationery Set      1000         15"
      ]
     },
     "execution_count": 21,
     "metadata": {},
     "output_type": "execute_result"
    }
   ],
   "source": [
    "df_product.head()"
   ]
  },
  {
   "cell_type": "code",
   "execution_count": 16,
   "id": "b49099c8-6914-45c6-92ab-c69ef6cd8383",
   "metadata": {},
   "outputs": [],
   "source": [
    "def generate_products(data):\n",
    "    data['ProductID'] = ''\n",
    "    # Iterate over rows and columns\n",
    "    for index, row in data.iterrows():\n",
    "        data.at[index, 'ProductID'] = fake.uuid4()\n",
    "    return data"
   ]
  },
  {
   "cell_type": "code",
   "execution_count": 22,
   "id": "ccae3d9b-5412-4b7f-9fe2-65902c4f23e3",
   "metadata": {},
   "outputs": [],
   "source": [
    "df_product = generate_products(df_product)"
   ]
  },
  {
   "cell_type": "code",
   "execution_count": 26,
   "id": "ea2990d2-281a-498d-bd97-951d98da813c",
   "metadata": {},
   "outputs": [],
   "source": [
    "df_train_sf=my_session.createDataFrame(\n",
    "        df_product.values.tolist(),\n",
    "        schema=df_product.columns.tolist())\n",
    "df_train_sf.write.mode(\"overwrite\").save_as_table(\"FDC_HORIZONTAL.O2C_SCHEMA.BRONZE_PRODUCT_DATA\")"
   ]
  },
  {
   "cell_type": "markdown",
   "id": "0f7767de-7701-44d5-90d1-ec8d436f5398",
   "metadata": {},
   "source": [
    "# Order Items Data Set up"
   ]
  },
  {
   "cell_type": "code",
   "execution_count": null,
   "id": "34bff2de-ab38-457a-9cca-e1634ff3b308",
   "metadata": {},
   "outputs": [],
   "source": []
  },
  {
   "cell_type": "code",
   "execution_count": null,
   "id": "991f5aab-5473-4229-bc98-fc2dbc5128f4",
   "metadata": {},
   "outputs": [],
   "source": [
    "# Generate Orders and Order Items\n",
    "def generate_orders_and_items(customers, products, num_orders=100000):\n",
    "    orders = []\n",
    "    order_items = []\n",
    "    shipments = []\n",
    "    invoices = []\n",
    "    payments = []\n",
    "    statuses = ['Fulfilled', 'Delayed Fulfillment', 'Pending Payment']\n",
    "\n",
    "    for _ in range(num_orders):\n",
    "        customer = random.choice(customers)\n",
    "        order_status = random.choice(statuses)\n",
    "        order_id = fake.uuid4()\n",
    "        order_date = fake.date_this_year()\n",
    "        total_amount = 0\n",
    "\n",
    "        order = {\n",
    "            'OrderID': order_id,\n",
    "            'CustomerID': customer['CustomerID'],\n",
    "            'OrderDate': order_date,\n",
    "            'OrderStatus': order_status,\n",
    "            'TotalAmount': total_amount  # Will be updated later\n",
    "        }\n",
    "        orders.append(order)\n",
    "\n",
    "        num_items = random.randint(1, 5)\n",
    "        for _ in range(num_items):\n",
    "            product = random.choice(products)\n",
    "            quantity = random.randint(1, 10)\n",
    "            total_price = product['Price'] * quantity\n",
    "            total_amount += total_price\n",
    "\n",
    "            order_item = {\n",
    "                'OrderItemID': fake.uuid4(),\n",
    "                'OrderID': order_id,\n",
    "                'ProductID': product['ProductID'],\n",
    "                'Quantity': quantity,\n",
    "                'UnitPrice': product['Price'],\n",
    "                'TotalPrice': total_price\n",
    "            }\n",
    "            order_items.append(order_item)\n",
    "\n",
    "        # Update the total amount for the order\n",
    "        order['TotalAmount'] = total_amount\n",
    "\n",
    "        shipment = {\n",
    "            'ShipmentID': fake.uuid4(),\n",
    "            'OrderID': order_id,\n",
    "            'ShipmentDate': fake.date_this_year(),\n",
    "            'Carrier': fake.company(),\n",
    "            'TrackingNumber': fake.uuid4(),\n",
    "            'ShipmentStatus': 'Shipped' if order_status == 'Fulfilled' else 'Pending'\n",
    "        }\n",
    "        shipments.append(shipment)\n",
    "\n",
    "        invoice = {\n",
    "            'InvoiceID': fake.uuid4(),\n",
    "            'OrderID': order_id,\n",
    "            'InvoiceDate': fake.date_this_year(),\n",
    "            'DueDate': fake.date_this_year(),\n",
    "            'TotalAmount': total_amount,\n",
    "            'PaymentStatus': 'Paid' if order_status == 'Fulfilled' else 'Pending'\n",
    "        }\n",
    "        invoices.append(invoice)\n",
    "\n",
    "        if order_status == 'Fulfilled':\n",
    "            payment = {\n",
    "                'PaymentID': fake.uuid4(),\n",
    "                'InvoiceID': invoice['InvoiceID'],\n",
    "                'PaymentDate': fake.date_this_year(),\n",
    "                'PaymentAmount': total_amount,\n",
    "                'PaymentMethod': random.choice(['Credit Card', 'Bank Transfer', 'Cash'])\n",
    "            }\n",
    "            payments.append(payment)\n",
    "\n",
    "    return orders, order_items, shipments, invoices, payments"
   ]
  },
  {
   "cell_type": "code",
   "execution_count": null,
   "id": "672355d9-3344-428e-94b5-63257d97840c",
   "metadata": {},
   "outputs": [],
   "source": []
  },
  {
   "cell_type": "code",
   "execution_count": null,
   "id": "87f701c7-bfc0-405a-811a-a561257923cc",
   "metadata": {},
   "outputs": [],
   "source": [
    "orders, order_items, shipments, invoices, payments = generate_orders_and_items(customers, products)"
   ]
  },
  {
   "cell_type": "code",
   "execution_count": null,
   "id": "bd5fec1c-fe99-48da-a21b-b97f2642db96",
   "metadata": {},
   "outputs": [],
   "source": [
    "# Convert to DataFrames for easy manipulation\n",
    "\n",
    "\n",
    "df_orders = pd.DataFrame(orders)\n",
    "df_order_items = pd.DataFrame(order_items)\n",
    "df_shipments = pd.DataFrame(shipments)\n",
    "df_invoices = pd.DataFrame(invoices)\n",
    "df_payments = pd.DataFrame(payments)"
   ]
  },
  {
   "cell_type": "code",
   "execution_count": 1,
   "id": "04ce9cfb-c637-4d0f-8fdb-5dfbbc0fdf40",
   "metadata": {},
   "outputs": [
    {
     "ename": "NameError",
     "evalue": "name 'orders' is not defined",
     "output_type": "error",
     "traceback": [
      "\u001b[0;31m---------------------------------------------------------------------------\u001b[0m",
      "\u001b[0;31mNameError\u001b[0m                                 Traceback (most recent call last)",
      "Cell \u001b[0;32mIn[1], line 1\u001b[0m\n\u001b[0;32m----> 1\u001b[0m \u001b[43morders\u001b[49m\n",
      "\u001b[0;31mNameError\u001b[0m: name 'orders' is not defined"
     ]
    }
   ],
   "source": [
    "orders"
   ]
  },
  {
   "cell_type": "code",
   "execution_count": null,
   "id": "077cf502-6fb2-42ff-8294-59ddbbf48218",
   "metadata": {},
   "outputs": [],
   "source": []
  },
  {
   "cell_type": "code",
   "execution_count": null,
   "id": "34e6a192-5c7e-4257-a72d-17d0090d2374",
   "metadata": {},
   "outputs": [],
   "source": []
  },
  {
   "cell_type": "code",
   "execution_count": null,
   "id": "5e7f0b24-ae47-4fb5-aeba-d20fb5877e51",
   "metadata": {},
   "outputs": [],
   "source": []
  },
  {
   "cell_type": "code",
   "execution_count": null,
   "id": "bb4c77cc-8b0b-4dca-8783-91c264f794a5",
   "metadata": {},
   "outputs": [],
   "source": []
  },
  {
   "cell_type": "code",
   "execution_count": null,
   "id": "5b55dda6-3103-47b1-907c-ec3b836d2c0d",
   "metadata": {},
   "outputs": [],
   "source": []
  },
  {
   "cell_type": "code",
   "execution_count": null,
   "id": "150eea50-f9bf-456b-9a54-0e59f911cbba",
   "metadata": {},
   "outputs": [],
   "source": []
  },
  {
   "cell_type": "code",
   "execution_count": null,
   "id": "fae9ee56-953b-4068-b008-bb8ced8c8f44",
   "metadata": {},
   "outputs": [],
   "source": []
  },
  {
   "cell_type": "code",
   "execution_count": null,
   "id": "011936d8-60d4-4125-adc1-9369bfac4d4c",
   "metadata": {},
   "outputs": [],
   "source": []
  },
  {
   "cell_type": "code",
   "execution_count": null,
   "id": "f3ba6283-f7b6-4c3c-8056-9ea3223c5458",
   "metadata": {},
   "outputs": [],
   "source": []
  },
  {
   "cell_type": "code",
   "execution_count": null,
   "id": "047ef9f5-b52f-423e-9b72-43ebec2fb3d4",
   "metadata": {},
   "outputs": [],
   "source": []
  },
  {
   "cell_type": "code",
   "execution_count": null,
   "id": "8271ca1d-c983-476b-b8a5-c0b364a62741",
   "metadata": {},
   "outputs": [],
   "source": []
  }
 ],
 "metadata": {
  "kernelspec": {
   "display_name": "Python 3 (ipykernel)",
   "language": "python",
   "name": "python3"
  },
  "language_info": {
   "codemirror_mode": {
    "name": "ipython",
    "version": 3
   },
   "file_extension": ".py",
   "mimetype": "text/x-python",
   "name": "python",
   "nbconvert_exporter": "python",
   "pygments_lexer": "ipython3",
   "version": "3.9.19"
  }
 },
 "nbformat": 4,
 "nbformat_minor": 5
}
