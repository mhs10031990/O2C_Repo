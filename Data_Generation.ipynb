{
 "cells": [
  {
   "cell_type": "markdown",
   "id": "2d34ae5a-faea-40ee-a3b6-5fadbe1eaaf7",
   "metadata": {},
   "source": [
    "# Use O2C_Template Customized Notebook Template"
   ]
  },
  {
   "cell_type": "code",
   "execution_count": 1,
   "id": "2beea587-4333-4656-bfee-093ba7f23584",
   "metadata": {},
   "outputs": [],
   "source": [
    "import random\n",
    "from faker import Faker\n",
    "import pandas as pd"
   ]
  },
  {
   "cell_type": "code",
   "execution_count": 2,
   "id": "f8266d50-ee22-4d91-9192-dc0d440cd79a",
   "metadata": {},
   "outputs": [],
   "source": [
    "from fosforml.model_manager.snowflakesession import get_session\n",
    "my_session = get_session()"
   ]
  },
  {
   "cell_type": "code",
   "execution_count": 3,
   "id": "1f98c5d3-707d-401b-affc-84f3e461cc76",
   "metadata": {},
   "outputs": [],
   "source": [
    "fake = Faker('en_US')"
   ]
  },
  {
   "cell_type": "markdown",
   "id": "cbec74e9-70b1-4854-8775-5f2d9b650f5c",
   "metadata": {},
   "source": [
    "# Customer Data Setup"
   ]
  },
  {
   "cell_type": "code",
   "execution_count": 4,
   "id": "af2c39b9-7b8e-43be-8b08-cce794105a42",
   "metadata": {},
   "outputs": [],
   "source": [
    "# Generate Customers\n",
    "def generate_customers(num_customers=100):\n",
    "    customers = []\n",
    "    for _ in range(num_customers):\n",
    "        customer = {\n",
    "            'CustomerID': fake.uuid4(),\n",
    "            'Name': fake.company(),\n",
    "            'CompanyType':fake.company_suffix(),\n",
    "            'ContactDetails': fake.phone_number(),\n",
    "            'EmailDetails': fake.company_email(),\n",
    "            'AddressDetails':fake.address(),\n",
    "            'AdminDetails':fake.administrative_unit(),\n",
    "            'CreditLimit': random.randint(10000, 100000),\n",
    "            'CreditRating': random.choice(['very poor', 'fair', 'good', 'very good','exceptional'])\n",
    "        }\n",
    "        customers.append(customer)\n",
    "    return customers"
   ]
  },
  {
   "cell_type": "code",
   "execution_count": 5,
   "id": "328db935-ea4a-42d5-b820-d7ffd94eef9b",
   "metadata": {},
   "outputs": [],
   "source": [
    "# Generate Data\n",
    "customers = generate_customers()"
   ]
  },
  {
   "cell_type": "code",
   "execution_count": 6,
   "id": "616d70cc-8317-4ed6-8925-ffef0b810031",
   "metadata": {},
   "outputs": [],
   "source": [
    "df_customers = pd.DataFrame(customers)"
   ]
  },
  {
   "cell_type": "code",
   "execution_count": 7,
   "id": "d1cd993f-7748-48a8-9e96-fc06e2e3a448",
   "metadata": {},
   "outputs": [
    {
     "data": {
      "text/html": [
       "<div>\n",
       "<style scoped>\n",
       "    .dataframe tbody tr th:only-of-type {\n",
       "        vertical-align: middle;\n",
       "    }\n",
       "\n",
       "    .dataframe tbody tr th {\n",
       "        vertical-align: top;\n",
       "    }\n",
       "\n",
       "    .dataframe thead th {\n",
       "        text-align: right;\n",
       "    }\n",
       "</style>\n",
       "<table border=\"1\" class=\"dataframe\">\n",
       "  <thead>\n",
       "    <tr style=\"text-align: right;\">\n",
       "      <th></th>\n",
       "      <th>CustomerID</th>\n",
       "      <th>Name</th>\n",
       "      <th>CompanyType</th>\n",
       "      <th>ContactDetails</th>\n",
       "      <th>EmailDetails</th>\n",
       "      <th>AddressDetails</th>\n",
       "      <th>AdminDetails</th>\n",
       "      <th>CreditLimit</th>\n",
       "      <th>CreditRating</th>\n",
       "    </tr>\n",
       "  </thead>\n",
       "  <tbody>\n",
       "    <tr>\n",
       "      <th>0</th>\n",
       "      <td>46c382d3-500e-4230-8273-28c2cda27df2</td>\n",
       "      <td>Mercer and Sons</td>\n",
       "      <td>Ltd</td>\n",
       "      <td>001-709-874-8375x386</td>\n",
       "      <td>ghines@jones.com</td>\n",
       "      <td>097 Joe Wall\\nPort Renee, MI 99038</td>\n",
       "      <td>Missouri</td>\n",
       "      <td>29952</td>\n",
       "      <td>very poor</td>\n",
       "    </tr>\n",
       "    <tr>\n",
       "      <th>1</th>\n",
       "      <td>7eaae3d3-01a2-4ae6-9108-5b621498139e</td>\n",
       "      <td>Martinez and Sons</td>\n",
       "      <td>Inc</td>\n",
       "      <td>5853233936</td>\n",
       "      <td>martinezlee@salazar.com</td>\n",
       "      <td>93121 Diane Ridges Suite 667\\nLucasburgh, PA 6...</td>\n",
       "      <td>Maine</td>\n",
       "      <td>62213</td>\n",
       "      <td>fair</td>\n",
       "    </tr>\n",
       "    <tr>\n",
       "      <th>2</th>\n",
       "      <td>bc265871-9cd9-48d7-95a6-3dd12f4e9cf8</td>\n",
       "      <td>Gonzales, Williams and Austin</td>\n",
       "      <td>and Sons</td>\n",
       "      <td>3797898844</td>\n",
       "      <td>twebb@mason.com</td>\n",
       "      <td>06353 Christine Viaduct\\nJohnstonhaven, NM 33661</td>\n",
       "      <td>Hawaii</td>\n",
       "      <td>38855</td>\n",
       "      <td>fair</td>\n",
       "    </tr>\n",
       "    <tr>\n",
       "      <th>3</th>\n",
       "      <td>8aba078a-5e0c-4541-aaa2-d32471e67e23</td>\n",
       "      <td>Kirby LLC</td>\n",
       "      <td>and Sons</td>\n",
       "      <td>+1-536-714-3746</td>\n",
       "      <td>iburgess@schultz.com</td>\n",
       "      <td>29216 Glenn Cape Suite 112\\nLake Stephenview, ...</td>\n",
       "      <td>Vermont</td>\n",
       "      <td>36885</td>\n",
       "      <td>fair</td>\n",
       "    </tr>\n",
       "    <tr>\n",
       "      <th>4</th>\n",
       "      <td>0e9dda7c-b148-4f3d-b8f2-1989b1448b89</td>\n",
       "      <td>Baldwin PLC</td>\n",
       "      <td>LLC</td>\n",
       "      <td>769.558.7109</td>\n",
       "      <td>scott21@donovan-murphy.com</td>\n",
       "      <td>72447 Barnes Mission\\nWest Heather, NJ 97315</td>\n",
       "      <td>Alabama</td>\n",
       "      <td>59956</td>\n",
       "      <td>fair</td>\n",
       "    </tr>\n",
       "  </tbody>\n",
       "</table>\n",
       "</div>"
      ],
      "text/plain": [
       "                             CustomerID                           Name  \\\n",
       "0  46c382d3-500e-4230-8273-28c2cda27df2                Mercer and Sons   \n",
       "1  7eaae3d3-01a2-4ae6-9108-5b621498139e              Martinez and Sons   \n",
       "2  bc265871-9cd9-48d7-95a6-3dd12f4e9cf8  Gonzales, Williams and Austin   \n",
       "3  8aba078a-5e0c-4541-aaa2-d32471e67e23                      Kirby LLC   \n",
       "4  0e9dda7c-b148-4f3d-b8f2-1989b1448b89                    Baldwin PLC   \n",
       "\n",
       "  CompanyType        ContactDetails                EmailDetails  \\\n",
       "0         Ltd  001-709-874-8375x386            ghines@jones.com   \n",
       "1         Inc            5853233936     martinezlee@salazar.com   \n",
       "2    and Sons            3797898844             twebb@mason.com   \n",
       "3    and Sons       +1-536-714-3746        iburgess@schultz.com   \n",
       "4         LLC          769.558.7109  scott21@donovan-murphy.com   \n",
       "\n",
       "                                      AddressDetails AdminDetails  \\\n",
       "0                 097 Joe Wall\\nPort Renee, MI 99038     Missouri   \n",
       "1  93121 Diane Ridges Suite 667\\nLucasburgh, PA 6...        Maine   \n",
       "2   06353 Christine Viaduct\\nJohnstonhaven, NM 33661       Hawaii   \n",
       "3  29216 Glenn Cape Suite 112\\nLake Stephenview, ...      Vermont   \n",
       "4       72447 Barnes Mission\\nWest Heather, NJ 97315      Alabama   \n",
       "\n",
       "   CreditLimit CreditRating  \n",
       "0        29952    very poor  \n",
       "1        62213         fair  \n",
       "2        38855         fair  \n",
       "3        36885         fair  \n",
       "4        59956         fair  "
      ]
     },
     "execution_count": 7,
     "metadata": {},
     "output_type": "execute_result"
    }
   ],
   "source": [
    "df_customers.head()"
   ]
  },
  {
   "cell_type": "code",
   "execution_count": 8,
   "id": "240871bb-ea7b-484b-bd3e-3dc999fbd853",
   "metadata": {},
   "outputs": [],
   "source": [
    "df_customers.columns = ['CustomerID', 'Name', 'CompanyType', 'ContactDetails', 'EmailDetails',\n",
    "       'AddressDetails', 'AdminDetails', 'CreditLimit', 'CreditRating']"
   ]
  },
  {
   "cell_type": "code",
   "execution_count": 9,
   "id": "a21c77fb-cd0a-4a3e-9e46-a336d9f3bcb8",
   "metadata": {},
   "outputs": [],
   "source": [
    "df_train_sf=my_session.createDataFrame(\n",
    "        df_customers.values.tolist(),\n",
    "        schema=df_customers.columns.tolist())\n",
    "df_train_sf.write.mode(\"overwrite\").save_as_table(\"FDC_HORIZONTAL.O2C_SCHEMA.BRONZE_CUSTOMER_DATA\")"
   ]
  },
  {
   "cell_type": "markdown",
   "id": "5e77f373-62ae-4a3d-82f5-5c52f9f52728",
   "metadata": {},
   "source": [
    "# Product Data setup"
   ]
  },
  {
   "cell_type": "code",
   "execution_count": 10,
   "id": "4403a6bc-ed0c-4ea5-a547-e5535a5dc27c",
   "metadata": {},
   "outputs": [],
   "source": [
    "df_product = pd.read_csv('product_files.csv')"
   ]
  },
  {
   "cell_type": "code",
   "execution_count": 11,
   "id": "ed978545-1470-496d-aa01-2cc04169dbc5",
   "metadata": {},
   "outputs": [
    {
     "data": {
      "text/html": [
       "<div>\n",
       "<style scoped>\n",
       "    .dataframe tbody tr th:only-of-type {\n",
       "        vertical-align: middle;\n",
       "    }\n",
       "\n",
       "    .dataframe tbody tr th {\n",
       "        vertical-align: top;\n",
       "    }\n",
       "\n",
       "    .dataframe thead th {\n",
       "        text-align: right;\n",
       "    }\n",
       "</style>\n",
       "<table border=\"1\" class=\"dataframe\">\n",
       "  <thead>\n",
       "    <tr style=\"text-align: right;\">\n",
       "      <th></th>\n",
       "      <th>ProductCategory</th>\n",
       "      <th>ProductType</th>\n",
       "      <th>Quantity</th>\n",
       "      <th>UnitPrice</th>\n",
       "    </tr>\n",
       "  </thead>\n",
       "  <tbody>\n",
       "    <tr>\n",
       "      <th>0</th>\n",
       "      <td>Office Supplies</td>\n",
       "      <td>Laser Printer</td>\n",
       "      <td>100</td>\n",
       "      <td>425</td>\n",
       "    </tr>\n",
       "    <tr>\n",
       "      <th>1</th>\n",
       "      <td>Office Supplies</td>\n",
       "      <td>Ergonomic Chair</td>\n",
       "      <td>1000</td>\n",
       "      <td>299</td>\n",
       "    </tr>\n",
       "    <tr>\n",
       "      <th>2</th>\n",
       "      <td>Office Supplies</td>\n",
       "      <td>Standing Desk</td>\n",
       "      <td>1000</td>\n",
       "      <td>420</td>\n",
       "    </tr>\n",
       "    <tr>\n",
       "      <th>3</th>\n",
       "      <td>Office Supplies</td>\n",
       "      <td>Wireless Keyboard</td>\n",
       "      <td>1000</td>\n",
       "      <td>78</td>\n",
       "    </tr>\n",
       "    <tr>\n",
       "      <th>4</th>\n",
       "      <td>Office Supplies</td>\n",
       "      <td>Office Stationery Set</td>\n",
       "      <td>1000</td>\n",
       "      <td>15</td>\n",
       "    </tr>\n",
       "  </tbody>\n",
       "</table>\n",
       "</div>"
      ],
      "text/plain": [
       "   ProductCategory            ProductType  Quantity  UnitPrice\n",
       "0  Office Supplies          Laser Printer       100        425\n",
       "1  Office Supplies        Ergonomic Chair      1000        299\n",
       "2  Office Supplies          Standing Desk      1000        420\n",
       "3  Office Supplies      Wireless Keyboard      1000         78\n",
       "4  Office Supplies  Office Stationery Set      1000         15"
      ]
     },
     "execution_count": 11,
     "metadata": {},
     "output_type": "execute_result"
    }
   ],
   "source": [
    "df_product.head()"
   ]
  },
  {
   "cell_type": "code",
   "execution_count": 12,
   "id": "b49099c8-6914-45c6-92ab-c69ef6cd8383",
   "metadata": {},
   "outputs": [],
   "source": [
    "def generate_products(data):\n",
    "    data['ProductID'] = ''\n",
    "    # Iterate over rows and columns\n",
    "    for index, row in data.iterrows():\n",
    "        data.at[index, 'ProductID'] = fake.uuid4()\n",
    "    return data"
   ]
  },
  {
   "cell_type": "code",
   "execution_count": 13,
   "id": "ccae3d9b-5412-4b7f-9fe2-65902c4f23e3",
   "metadata": {},
   "outputs": [],
   "source": [
    "df_product = generate_products(df_product)"
   ]
  },
  {
   "cell_type": "code",
   "execution_count": 14,
   "id": "ea2990d2-281a-498d-bd97-951d98da813c",
   "metadata": {},
   "outputs": [],
   "source": [
    "df_train_sf=my_session.createDataFrame(\n",
    "        df_product.values.tolist(),\n",
    "        schema=df_product.columns.tolist())\n",
    "df_train_sf.write.mode(\"overwrite\").save_as_table(\"FDC_HORIZONTAL.O2C_SCHEMA.BRONZE_PRODUCT_DATA\")"
   ]
  },
  {
   "cell_type": "markdown",
   "id": "0f7767de-7701-44d5-90d1-ec8d436f5398",
   "metadata": {},
   "source": [
    "# Order Items Data Set up"
   ]
  },
  {
   "cell_type": "code",
   "execution_count": null,
   "id": "34bff2de-ab38-457a-9cca-e1634ff3b308",
   "metadata": {},
   "outputs": [],
   "source": [
    "# Assuming you already have the customers and products dataframes\n",
    "customers = df_customers['CustomerID'].tolist()\n",
    "products = df_products[['ProductID', 'UnitPrice']].to_dict('records')"
   ]
  },
  {
   "cell_type": "code",
   "execution_count": null,
   "id": "5fe190cb-58b5-4c4c-8212-2c43f482cbc2",
   "metadata": {},
   "outputs": [],
   "source": [
    "# Define the date range\n",
    "start_date = datetime(2022, 8, 1)\n",
    "end_date = datetime(2024, 8, 1)"
   ]
  },
  {
   "cell_type": "code",
   "execution_count": null,
   "id": "8c187238-4d10-41e4-a8ad-84ed8fbe4b16",
   "metadata": {},
   "outputs": [],
   "source": [
    "# Generate Order Items and Orders\n",
    "order_items = []\n",
    "orders = []\n",
    "\n",
    "for _ in range(100000):  # Generate 100,000 orders\n",
    "    order_id = fake.uuid4()\n",
    "    customer_id = random.choice(customers)\n",
    "    order_date = fake.date_between(start_date, end_date)\n",
    "    order_status = random.choice(['Pending', 'Shipped', 'Delivered', 'Cancelled'])\n",
    "    \n",
    "    # Create order items for this order\n",
    "    num_items = random.randint(1, 5)  # Each order has a random number of items between 1 and 5\n",
    "    for _ in range(num_items):\n",
    "        product = random.choice(products)\n",
    "        quantity = random.randint(1, 10)  # Generate a random quantity for each order item\n",
    "        unit_price = product['UnitPrice']\n",
    "        total_price = quantity * unit_price\n",
    "        item_status = random.choice(['Fulfilled', 'Partially Fulfilled', 'Cancelled', 'Delayed'])\n",
    "        \n",
    "        order_item = {\n",
    "            'Order_Item_ID': fake.uuid4(),\n",
    "            'OrderID': order_id,\n",
    "            'ProductID': product['ProductID'],\n",
    "            'Quantity': quantity,\n",
    "            'Unit_Price': unit_price,\n",
    "            'Total_Price': total_price,\n",
    "            'ItemStatus': item_status\n",
    "        }\n",
    "        order_items.append(order_item)\n",
    "    \n",
    "    # Create the order entry\n",
    "    order = {\n",
    "        'OrderID': order_id,\n",
    "        'CustomerID': customer_id,\n",
    "        'OrderDate': order_date,\n",
    "        'OrderStatus': order_status\n",
    "    }\n",
    "    orders.append(order)"
   ]
  },
  {
   "cell_type": "code",
   "execution_count": null,
   "id": "b780e297-1c64-4f32-88b4-4f917e78cbaa",
   "metadata": {},
   "outputs": [],
   "source": []
  },
  {
   "cell_type": "code",
   "execution_count": null,
   "id": "32818653-f4f4-4364-9f1f-776640666e75",
   "metadata": {},
   "outputs": [],
   "source": []
  },
  {
   "cell_type": "code",
   "execution_count": null,
   "id": "7170b0f3-ed42-4f67-8fb2-17afa518de6d",
   "metadata": {},
   "outputs": [],
   "source": []
  },
  {
   "cell_type": "code",
   "execution_count": null,
   "id": "4104c2c7-3b3a-4fda-87ef-c724970947d7",
   "metadata": {},
   "outputs": [],
   "source": []
  },
  {
   "cell_type": "code",
   "execution_count": 15,
   "id": "991f5aab-5473-4229-bc98-fc2dbc5128f4",
   "metadata": {},
   "outputs": [],
   "source": [
    "# Generate Orders and Order Items\n",
    "def generate_orders_and_items(customers, products, num_orders=100000):\n",
    "    orders = []\n",
    "    order_items = []\n",
    "    shipments = []\n",
    "    invoices = []\n",
    "    payments = []\n",
    "    statuses = ['Fulfilled', 'Delayed Fulfillment', 'Pending Payment']\n",
    "\n",
    "    for _ in range(num_orders):\n",
    "        customer = random.choice(customers)\n",
    "        order_status = random.choice(statuses)\n",
    "        order_id = fake.uuid4()\n",
    "        order_date = fake.date_this_year()\n",
    "        total_amount = 0\n",
    "\n",
    "        order = {\n",
    "            'OrderID': order_id,\n",
    "            'CustomerID': customer['CustomerID'],\n",
    "            'OrderDate': order_date,\n",
    "            'OrderStatus': order_status,\n",
    "            'TotalAmount': total_amount  # Will be updated later\n",
    "        }\n",
    "        orders.append(order)\n",
    "\n",
    "        num_items = random.randint(1, 5)\n",
    "        for _ in range(num_items):\n",
    "            product = random.choice(products)\n",
    "            quantity = random.randint(1, 10)\n",
    "            total_price = product['Price'] * quantity\n",
    "            total_amount += total_price\n",
    "\n",
    "            order_item = {\n",
    "                'OrderItemID': fake.uuid4(),\n",
    "                'OrderID': order_id,\n",
    "                'ProductID': product['ProductID'],\n",
    "                'Quantity': quantity,\n",
    "                'UnitPrice': product['Price'],\n",
    "                'TotalPrice': total_price\n",
    "            }\n",
    "            order_items.append(order_item)\n",
    "\n",
    "        # Update the total amount for the order\n",
    "        order['TotalAmount'] = total_amount\n",
    "\n",
    "        shipment = {\n",
    "            'ShipmentID': fake.uuid4(),\n",
    "            'OrderID': order_id,\n",
    "            'ShipmentDate': fake.date_this_year(),\n",
    "            'Carrier': fake.company(),\n",
    "            'TrackingNumber': fake.uuid4(),\n",
    "            'ShipmentStatus': 'Shipped' if order_status == 'Fulfilled' else 'Pending'\n",
    "        }\n",
    "        shipments.append(shipment)\n",
    "\n",
    "        invoice = {\n",
    "            'InvoiceID': fake.uuid4(),\n",
    "            'OrderID': order_id,\n",
    "            'InvoiceDate': fake.date_this_year(),\n",
    "            'DueDate': fake.date_this_year(),\n",
    "            'TotalAmount': total_amount,\n",
    "            'PaymentStatus': 'Paid' if order_status == 'Fulfilled' else 'Pending'\n",
    "        }\n",
    "        invoices.append(invoice)\n",
    "\n",
    "        if order_status == 'Fulfilled':\n",
    "            payment = {\n",
    "                'PaymentID': fake.uuid4(),\n",
    "                'InvoiceID': invoice['InvoiceID'],\n",
    "                'PaymentDate': fake.date_this_year(),\n",
    "                'PaymentAmount': total_amount,\n",
    "                'PaymentMethod': random.choice(['Credit Card', 'Bank Transfer', 'Cash'])\n",
    "            }\n",
    "            payments.append(payment)\n",
    "\n",
    "    return orders, order_items, shipments, invoices, payments"
   ]
  },
  {
   "cell_type": "code",
   "execution_count": null,
   "id": "672355d9-3344-428e-94b5-63257d97840c",
   "metadata": {},
   "outputs": [],
   "source": []
  },
  {
   "cell_type": "code",
   "execution_count": 16,
   "id": "87f701c7-bfc0-405a-811a-a561257923cc",
   "metadata": {},
   "outputs": [
    {
     "ename": "NameError",
     "evalue": "name 'products' is not defined",
     "output_type": "error",
     "traceback": [
      "\u001b[0;31m---------------------------------------------------------------------------\u001b[0m",
      "\u001b[0;31mNameError\u001b[0m                                 Traceback (most recent call last)",
      "Cell \u001b[0;32mIn[16], line 1\u001b[0m\n\u001b[0;32m----> 1\u001b[0m orders, order_items, shipments, invoices, payments \u001b[38;5;241m=\u001b[39m generate_orders_and_items(customers, \u001b[43mproducts\u001b[49m)\n",
      "\u001b[0;31mNameError\u001b[0m: name 'products' is not defined"
     ]
    }
   ],
   "source": [
    "orders, order_items, shipments, invoices, payments = generate_orders_and_items(customers, products)"
   ]
  },
  {
   "cell_type": "code",
   "execution_count": null,
   "id": "bd5fec1c-fe99-48da-a21b-b97f2642db96",
   "metadata": {},
   "outputs": [],
   "source": [
    "# Convert to DataFrames for easy manipulation\n",
    "\n",
    "\n",
    "df_orders = pd.DataFrame(orders)\n",
    "df_order_items = pd.DataFrame(order_items)\n",
    "df_shipments = pd.DataFrame(shipments)\n",
    "df_invoices = pd.DataFrame(invoices)\n",
    "df_payments = pd.DataFrame(payments)"
   ]
  },
  {
   "cell_type": "code",
   "execution_count": null,
   "id": "04ce9cfb-c637-4d0f-8fdb-5dfbbc0fdf40",
   "metadata": {},
   "outputs": [],
   "source": [
    "orders"
   ]
  },
  {
   "cell_type": "code",
   "execution_count": null,
   "id": "077cf502-6fb2-42ff-8294-59ddbbf48218",
   "metadata": {},
   "outputs": [],
   "source": []
  },
  {
   "cell_type": "code",
   "execution_count": null,
   "id": "34e6a192-5c7e-4257-a72d-17d0090d2374",
   "metadata": {},
   "outputs": [],
   "source": []
  },
  {
   "cell_type": "code",
   "execution_count": null,
   "id": "5e7f0b24-ae47-4fb5-aeba-d20fb5877e51",
   "metadata": {},
   "outputs": [],
   "source": []
  },
  {
   "cell_type": "code",
   "execution_count": null,
   "id": "bb4c77cc-8b0b-4dca-8783-91c264f794a5",
   "metadata": {},
   "outputs": [],
   "source": []
  },
  {
   "cell_type": "code",
   "execution_count": null,
   "id": "5b55dda6-3103-47b1-907c-ec3b836d2c0d",
   "metadata": {},
   "outputs": [],
   "source": []
  },
  {
   "cell_type": "code",
   "execution_count": null,
   "id": "150eea50-f9bf-456b-9a54-0e59f911cbba",
   "metadata": {},
   "outputs": [],
   "source": []
  },
  {
   "cell_type": "code",
   "execution_count": null,
   "id": "fae9ee56-953b-4068-b008-bb8ced8c8f44",
   "metadata": {},
   "outputs": [],
   "source": []
  },
  {
   "cell_type": "code",
   "execution_count": null,
   "id": "011936d8-60d4-4125-adc1-9369bfac4d4c",
   "metadata": {},
   "outputs": [],
   "source": []
  },
  {
   "cell_type": "code",
   "execution_count": null,
   "id": "f3ba6283-f7b6-4c3c-8056-9ea3223c5458",
   "metadata": {},
   "outputs": [],
   "source": []
  },
  {
   "cell_type": "code",
   "execution_count": null,
   "id": "047ef9f5-b52f-423e-9b72-43ebec2fb3d4",
   "metadata": {},
   "outputs": [],
   "source": []
  },
  {
   "cell_type": "code",
   "execution_count": null,
   "id": "8271ca1d-c983-476b-b8a5-c0b364a62741",
   "metadata": {},
   "outputs": [],
   "source": []
  }
 ],
 "metadata": {
  "kernelspec": {
   "display_name": "Python 3 (ipykernel)",
   "language": "python",
   "name": "python3"
  },
  "language_info": {
   "codemirror_mode": {
    "name": "ipython",
    "version": 3
   },
   "file_extension": ".py",
   "mimetype": "text/x-python",
   "name": "python",
   "nbconvert_exporter": "python",
   "pygments_lexer": "ipython3",
   "version": "3.9.19"
  }
 },
 "nbformat": 4,
 "nbformat_minor": 5
}
