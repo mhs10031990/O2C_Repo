{
 "cells": [
  {
   "cell_type": "markdown",
   "id": "2d34ae5a-faea-40ee-a3b6-5fadbe1eaaf7",
   "metadata": {},
   "source": [
    "# Use O2C_Template Customized Notebook Template"
   ]
  },
  {
   "cell_type": "code",
   "execution_count": 1,
   "id": "2beea587-4333-4656-bfee-093ba7f23584",
   "metadata": {},
   "outputs": [],
   "source": [
    "import random\n",
    "from faker import Faker\n",
    "import pandas as pd"
   ]
  },
  {
   "cell_type": "code",
   "execution_count": 2,
   "id": "f8266d50-ee22-4d91-9192-dc0d440cd79a",
   "metadata": {},
   "outputs": [],
   "source": [
    "from fosforml.model_manager.snowflakesession import get_session\n",
    "my_session = get_session()"
   ]
  },
  {
   "cell_type": "code",
   "execution_count": 3,
   "id": "1f98c5d3-707d-401b-affc-84f3e461cc76",
   "metadata": {},
   "outputs": [],
   "source": [
    "fake = Faker('en_US')"
   ]
  },
  {
   "cell_type": "markdown",
   "id": "cbec74e9-70b1-4854-8775-5f2d9b650f5c",
   "metadata": {},
   "source": [
    "# Customer Data Setup"
   ]
  },
  {
   "cell_type": "code",
   "execution_count": 4,
   "id": "af2c39b9-7b8e-43be-8b08-cce794105a42",
   "metadata": {},
   "outputs": [],
   "source": [
    "# Generate Customers\n",
    "def generate_customers(num_customers=100):\n",
    "    customers = []\n",
    "    for _ in range(num_customers):\n",
    "        customer = {\n",
    "            'CustomerID': fake.uuid4(),\n",
    "            'Name': fake.company(),\n",
    "            'CompanyType':fake.company_suffix(),\n",
    "            'ContactDetails': fake.phone_number(),\n",
    "            'EmailDetails': fake.company_email(),\n",
    "            'AddressDetails':fake.address(),\n",
    "            'AdminDetails':fake.administrative_unit(),\n",
    "            'CreditLimit': random.randint(10000, 100000),\n",
    "            'CreditRating': random.choice(['very poor', 'fair', 'good', 'very good','exceptional'])\n",
    "        }\n",
    "        customers.append(customer)\n",
    "    return customers"
   ]
  },
  {
   "cell_type": "code",
   "execution_count": 5,
   "id": "328db935-ea4a-42d5-b820-d7ffd94eef9b",
   "metadata": {},
   "outputs": [],
   "source": [
    "# Generate Data\n",
    "customers = generate_customers()"
   ]
  },
  {
   "cell_type": "code",
   "execution_count": 6,
   "id": "616d70cc-8317-4ed6-8925-ffef0b810031",
   "metadata": {},
   "outputs": [],
   "source": [
    "df_customers = pd.DataFrame(customers)"
   ]
  },
  {
   "cell_type": "code",
   "execution_count": 7,
   "id": "d1cd993f-7748-48a8-9e96-fc06e2e3a448",
   "metadata": {},
   "outputs": [
    {
     "data": {
      "text/html": [
       "<div>\n",
       "<style scoped>\n",
       "    .dataframe tbody tr th:only-of-type {\n",
       "        vertical-align: middle;\n",
       "    }\n",
       "\n",
       "    .dataframe tbody tr th {\n",
       "        vertical-align: top;\n",
       "    }\n",
       "\n",
       "    .dataframe thead th {\n",
       "        text-align: right;\n",
       "    }\n",
       "</style>\n",
       "<table border=\"1\" class=\"dataframe\">\n",
       "  <thead>\n",
       "    <tr style=\"text-align: right;\">\n",
       "      <th></th>\n",
       "      <th>CustomerID</th>\n",
       "      <th>Name</th>\n",
       "      <th>CompanyType</th>\n",
       "      <th>ContactDetails</th>\n",
       "      <th>EmailDetails</th>\n",
       "      <th>AddressDetails</th>\n",
       "      <th>AdminDetails</th>\n",
       "      <th>CreditLimit</th>\n",
       "      <th>CreditRating</th>\n",
       "    </tr>\n",
       "  </thead>\n",
       "  <tbody>\n",
       "    <tr>\n",
       "      <th>0</th>\n",
       "      <td>46c382d3-500e-4230-8273-28c2cda27df2</td>\n",
       "      <td>Mercer and Sons</td>\n",
       "      <td>Ltd</td>\n",
       "      <td>001-709-874-8375x386</td>\n",
       "      <td>ghines@jones.com</td>\n",
       "      <td>097 Joe Wall\\nPort Renee, MI 99038</td>\n",
       "      <td>Missouri</td>\n",
       "      <td>29952</td>\n",
       "      <td>very poor</td>\n",
       "    </tr>\n",
       "    <tr>\n",
       "      <th>1</th>\n",
       "      <td>7eaae3d3-01a2-4ae6-9108-5b621498139e</td>\n",
       "      <td>Martinez and Sons</td>\n",
       "      <td>Inc</td>\n",
       "      <td>5853233936</td>\n",
       "      <td>martinezlee@salazar.com</td>\n",
       "      <td>93121 Diane Ridges Suite 667\\nLucasburgh, PA 6...</td>\n",
       "      <td>Maine</td>\n",
       "      <td>62213</td>\n",
       "      <td>fair</td>\n",
       "    </tr>\n",
       "    <tr>\n",
       "      <th>2</th>\n",
       "      <td>bc265871-9cd9-48d7-95a6-3dd12f4e9cf8</td>\n",
       "      <td>Gonzales, Williams and Austin</td>\n",
       "      <td>and Sons</td>\n",
       "      <td>3797898844</td>\n",
       "      <td>twebb@mason.com</td>\n",
       "      <td>06353 Christine Viaduct\\nJohnstonhaven, NM 33661</td>\n",
       "      <td>Hawaii</td>\n",
       "      <td>38855</td>\n",
       "      <td>fair</td>\n",
       "    </tr>\n",
       "    <tr>\n",
       "      <th>3</th>\n",
       "      <td>8aba078a-5e0c-4541-aaa2-d32471e67e23</td>\n",
       "      <td>Kirby LLC</td>\n",
       "      <td>and Sons</td>\n",
       "      <td>+1-536-714-3746</td>\n",
       "      <td>iburgess@schultz.com</td>\n",
       "      <td>29216 Glenn Cape Suite 112\\nLake Stephenview, ...</td>\n",
       "      <td>Vermont</td>\n",
       "      <td>36885</td>\n",
       "      <td>fair</td>\n",
       "    </tr>\n",
       "    <tr>\n",
       "      <th>4</th>\n",
       "      <td>0e9dda7c-b148-4f3d-b8f2-1989b1448b89</td>\n",
       "      <td>Baldwin PLC</td>\n",
       "      <td>LLC</td>\n",
       "      <td>769.558.7109</td>\n",
       "      <td>scott21@donovan-murphy.com</td>\n",
       "      <td>72447 Barnes Mission\\nWest Heather, NJ 97315</td>\n",
       "      <td>Alabama</td>\n",
       "      <td>59956</td>\n",
       "      <td>fair</td>\n",
       "    </tr>\n",
       "  </tbody>\n",
       "</table>\n",
       "</div>"
      ],
      "text/plain": [
       "                             CustomerID                           Name  \\\n",
       "0  46c382d3-500e-4230-8273-28c2cda27df2                Mercer and Sons   \n",
       "1  7eaae3d3-01a2-4ae6-9108-5b621498139e              Martinez and Sons   \n",
       "2  bc265871-9cd9-48d7-95a6-3dd12f4e9cf8  Gonzales, Williams and Austin   \n",
       "3  8aba078a-5e0c-4541-aaa2-d32471e67e23                      Kirby LLC   \n",
       "4  0e9dda7c-b148-4f3d-b8f2-1989b1448b89                    Baldwin PLC   \n",
       "\n",
       "  CompanyType        ContactDetails                EmailDetails  \\\n",
       "0         Ltd  001-709-874-8375x386            ghines@jones.com   \n",
       "1         Inc            5853233936     martinezlee@salazar.com   \n",
       "2    and Sons            3797898844             twebb@mason.com   \n",
       "3    and Sons       +1-536-714-3746        iburgess@schultz.com   \n",
       "4         LLC          769.558.7109  scott21@donovan-murphy.com   \n",
       "\n",
       "                                      AddressDetails AdminDetails  \\\n",
       "0                 097 Joe Wall\\nPort Renee, MI 99038     Missouri   \n",
       "1  93121 Diane Ridges Suite 667\\nLucasburgh, PA 6...        Maine   \n",
       "2   06353 Christine Viaduct\\nJohnstonhaven, NM 33661       Hawaii   \n",
       "3  29216 Glenn Cape Suite 112\\nLake Stephenview, ...      Vermont   \n",
       "4       72447 Barnes Mission\\nWest Heather, NJ 97315      Alabama   \n",
       "\n",
       "   CreditLimit CreditRating  \n",
       "0        29952    very poor  \n",
       "1        62213         fair  \n",
       "2        38855         fair  \n",
       "3        36885         fair  \n",
       "4        59956         fair  "
      ]
     },
     "execution_count": 7,
     "metadata": {},
     "output_type": "execute_result"
    }
   ],
   "source": [
    "df_customers.head()"
   ]
  },
  {
   "cell_type": "code",
   "execution_count": 8,
   "id": "240871bb-ea7b-484b-bd3e-3dc999fbd853",
   "metadata": {},
   "outputs": [],
   "source": [
    "df_customers.columns = ['CustomerID', 'Name', 'CompanyType', 'ContactDetails', 'EmailDetails',\n",
    "       'AddressDetails', 'AdminDetails', 'CreditLimit', 'CreditRating']"
   ]
  },
  {
   "cell_type": "code",
   "execution_count": 9,
   "id": "a21c77fb-cd0a-4a3e-9e46-a336d9f3bcb8",
   "metadata": {},
   "outputs": [],
   "source": [
    "df_train_sf=my_session.createDataFrame(\n",
    "        df_customers.values.tolist(),\n",
    "        schema=df_customers.columns.tolist())\n",
    "df_train_sf.write.mode(\"overwrite\").save_as_table(\"FDC_HORIZONTAL.O2C_SCHEMA.BRONZE_CUSTOMER_DATA\")"
   ]
  },
  {
   "cell_type": "markdown",
   "id": "5e77f373-62ae-4a3d-82f5-5c52f9f52728",
   "metadata": {},
   "source": [
    "# Product Data setup"
   ]
  },
  {
   "cell_type": "code",
   "execution_count": 10,
   "id": "4403a6bc-ed0c-4ea5-a547-e5535a5dc27c",
   "metadata": {},
   "outputs": [],
   "source": [
    "df_product = pd.read_csv('product_files.csv')"
   ]
  },
  {
   "cell_type": "code",
   "execution_count": 11,
   "id": "ed978545-1470-496d-aa01-2cc04169dbc5",
   "metadata": {},
   "outputs": [
    {
     "data": {
      "text/html": [
       "<div>\n",
       "<style scoped>\n",
       "    .dataframe tbody tr th:only-of-type {\n",
       "        vertical-align: middle;\n",
       "    }\n",
       "\n",
       "    .dataframe tbody tr th {\n",
       "        vertical-align: top;\n",
       "    }\n",
       "\n",
       "    .dataframe thead th {\n",
       "        text-align: right;\n",
       "    }\n",
       "</style>\n",
       "<table border=\"1\" class=\"dataframe\">\n",
       "  <thead>\n",
       "    <tr style=\"text-align: right;\">\n",
       "      <th></th>\n",
       "      <th>ProductCategory</th>\n",
       "      <th>ProductType</th>\n",
       "      <th>Quantity</th>\n",
       "      <th>UnitPrice</th>\n",
       "    </tr>\n",
       "  </thead>\n",
       "  <tbody>\n",
       "    <tr>\n",
       "      <th>0</th>\n",
       "      <td>Office Supplies</td>\n",
       "      <td>Laser Printer</td>\n",
       "      <td>100</td>\n",
       "      <td>425</td>\n",
       "    </tr>\n",
       "    <tr>\n",
       "      <th>1</th>\n",
       "      <td>Office Supplies</td>\n",
       "      <td>Ergonomic Chair</td>\n",
       "      <td>1000</td>\n",
       "      <td>299</td>\n",
       "    </tr>\n",
       "    <tr>\n",
       "      <th>2</th>\n",
       "      <td>Office Supplies</td>\n",
       "      <td>Standing Desk</td>\n",
       "      <td>1000</td>\n",
       "      <td>420</td>\n",
       "    </tr>\n",
       "    <tr>\n",
       "      <th>3</th>\n",
       "      <td>Office Supplies</td>\n",
       "      <td>Wireless Keyboard</td>\n",
       "      <td>1000</td>\n",
       "      <td>78</td>\n",
       "    </tr>\n",
       "    <tr>\n",
       "      <th>4</th>\n",
       "      <td>Office Supplies</td>\n",
       "      <td>Office Stationery Set</td>\n",
       "      <td>1000</td>\n",
       "      <td>15</td>\n",
       "    </tr>\n",
       "  </tbody>\n",
       "</table>\n",
       "</div>"
      ],
      "text/plain": [
       "   ProductCategory            ProductType  Quantity  UnitPrice\n",
       "0  Office Supplies          Laser Printer       100        425\n",
       "1  Office Supplies        Ergonomic Chair      1000        299\n",
       "2  Office Supplies          Standing Desk      1000        420\n",
       "3  Office Supplies      Wireless Keyboard      1000         78\n",
       "4  Office Supplies  Office Stationery Set      1000         15"
      ]
     },
     "execution_count": 11,
     "metadata": {},
     "output_type": "execute_result"
    }
   ],
   "source": [
    "df_product.head()"
   ]
  },
  {
   "cell_type": "code",
   "execution_count": 12,
   "id": "b49099c8-6914-45c6-92ab-c69ef6cd8383",
   "metadata": {},
   "outputs": [],
   "source": [
    "def generate_products(data):\n",
    "    data['ProductID'] = ''\n",
    "    # Iterate over rows and columns\n",
    "    for index, row in data.iterrows():\n",
    "        data.at[index, 'ProductID'] = fake.uuid4()\n",
    "    return data"
   ]
  },
  {
   "cell_type": "code",
   "execution_count": 13,
   "id": "ccae3d9b-5412-4b7f-9fe2-65902c4f23e3",
   "metadata": {},
   "outputs": [],
   "source": [
    "df_product = generate_products(df_product)"
   ]
  },
  {
   "cell_type": "code",
   "execution_count": 14,
   "id": "ea2990d2-281a-498d-bd97-951d98da813c",
   "metadata": {},
   "outputs": [],
   "source": [
    "df_train_sf=my_session.createDataFrame(\n",
    "        df_product.values.tolist(),\n",
    "        schema=df_product.columns.tolist())\n",
    "df_train_sf.write.mode(\"overwrite\").save_as_table(\"FDC_HORIZONTAL.O2C_SCHEMA.BRONZE_PRODUCT_DATA\")"
   ]
  },
  {
   "cell_type": "markdown",
   "id": "1ce73b29-9fbb-4dfb-ac6f-63d5fa3c342e",
   "metadata": {},
   "source": [
    "# Order Items and Order Details Data Set up"
   ]
  },
  {
   "cell_type": "code",
   "execution_count": 18,
   "id": "34bff2de-ab38-457a-9cca-e1634ff3b308",
   "metadata": {},
   "outputs": [],
   "source": [
    "# Assuming you already have the customers and products dataframes\n",
    "customers = df_customers['CustomerID'].tolist()\n",
    "products = df_product[['ProductID', 'UnitPrice']].to_dict('records')"
   ]
  },
  {
   "cell_type": "code",
   "execution_count": 20,
   "id": "5fe190cb-58b5-4c4c-8212-2c43f482cbc2",
   "metadata": {},
   "outputs": [],
   "source": [
    "# Define the date range\n",
    "from datetime import datetime\n",
    "start_date = datetime(2022, 8, 1)\n",
    "end_date = datetime(2024, 8, 1)"
   ]
  },
  {
   "cell_type": "code",
   "execution_count": 21,
   "id": "8c187238-4d10-41e4-a8ad-84ed8fbe4b16",
   "metadata": {},
   "outputs": [],
   "source": [
    "# Generate Order Items and Orders\n",
    "order_items = []\n",
    "orders = []\n",
    "\n",
    "for _ in range(100000):  # Generate 100,000 orders\n",
    "    order_id = fake.uuid4()\n",
    "    customer_id = random.choice(customers)\n",
    "    order_date = fake.date_between(start_date, end_date)\n",
    "    order_status = random.choice(['Pending', 'Shipped', 'Delivered', 'Cancelled'])\n",
    "    \n",
    "    # Create order items for this order\n",
    "    num_items = random.randint(1, 5)  # Each order has a random number of items between 1 and 5\n",
    "    for _ in range(num_items):\n",
    "        product = random.choice(products)\n",
    "        quantity = random.randint(1, 10)  # Generate a random quantity for each order item\n",
    "        unit_price = product['UnitPrice']\n",
    "        total_price = quantity * unit_price\n",
    "        item_status = random.choice(['Fulfilled', 'Partially Fulfilled', 'Cancelled', 'Delayed'])\n",
    "        \n",
    "        order_item = {\n",
    "            'Order_Item_ID': fake.uuid4(),\n",
    "            'OrderID': order_id,\n",
    "            'ProductID': product['ProductID'],\n",
    "            'Quantity': quantity,\n",
    "            'Unit_Price': unit_price,\n",
    "            'Total_Price': total_price,\n",
    "            'ItemStatus': item_status\n",
    "        }\n",
    "        order_items.append(order_item)\n",
    "    \n",
    "    # Create the order entry\n",
    "    order = {\n",
    "        'OrderID': order_id,\n",
    "        'CustomerID': customer_id,\n",
    "        'OrderDate': order_date,\n",
    "        'OrderStatus': order_status\n",
    "    }\n",
    "    orders.append(order)"
   ]
  },
  {
   "cell_type": "code",
   "execution_count": 22,
   "id": "b780e297-1c64-4f32-88b4-4f917e78cbaa",
   "metadata": {},
   "outputs": [],
   "source": [
    "# Convert to DataFrames\n",
    "df_order_items = pd.DataFrame(order_items)\n",
    "df_orders = pd.DataFrame(orders)"
   ]
  },
  {
   "cell_type": "code",
   "execution_count": 23,
   "id": "32818653-f4f4-4364-9f1f-776640666e75",
   "metadata": {},
   "outputs": [
    {
     "name": "stdout",
     "output_type": "stream",
     "text": [
      "                          Order_Item_ID                               OrderID  \\\n",
      "0  b559eb34-52da-420e-a7d2-9b6841cff6fd  4306cafa-fc49-4078-9d04-58e41f390cb6   \n",
      "1  9f611308-cea2-494e-99de-9c3207bfe90b  4306cafa-fc49-4078-9d04-58e41f390cb6   \n",
      "2  458f1492-7264-4cfa-a6ac-31f1e9e566ab  4306cafa-fc49-4078-9d04-58e41f390cb6   \n",
      "3  805bc8b7-4a02-47ba-87d0-851eb536d16f  4306cafa-fc49-4078-9d04-58e41f390cb6   \n",
      "4  865518d7-f2c0-4f6c-a520-542d2fa55f11  4306cafa-fc49-4078-9d04-58e41f390cb6   \n",
      "\n",
      "                              ProductID  Quantity  Unit_Price  Total_Price  \\\n",
      "0  8c59693d-0330-47a4-904f-35ae43a56bf1         5           2           10   \n",
      "1  7bd16343-58e9-4fbc-8e43-10690b1a27ff         2         425          850   \n",
      "2  2a08c84e-ea05-46dd-aa60-7f5d9f13c54d         5         325         1625   \n",
      "3  b1c94193-fbb2-4dcd-b703-c5e60f37f62d         7           5           35   \n",
      "4  a5624c16-d276-4518-861f-43744eee578c         3         600         1800   \n",
      "\n",
      "            ItemStatus  \n",
      "0              Delayed  \n",
      "1  Partially Fulfilled  \n",
      "2            Cancelled  \n",
      "3              Delayed  \n",
      "4              Delayed  \n",
      "                                OrderID                            CustomerID  \\\n",
      "0  4306cafa-fc49-4078-9d04-58e41f390cb6  3b939ffb-2896-4e03-9460-6cc763880617   \n",
      "1  f3cb6ec4-f636-48a6-9965-e64f08090eab  aef1fc2c-25f4-473a-99b0-1ba11c446b4f   \n",
      "2  be7e7467-ed28-4fb8-b8d5-1abbb385f87b  22de95c5-4fd7-4a00-8f80-a5590e1ccce1   \n",
      "3  eda22c3b-037f-4237-a53c-c8c0933dc9e8  0e9dda7c-b148-4f3d-b8f2-1989b1448b89   \n",
      "4  4aa25840-2371-4218-8173-8652ad6e979c  85b449ea-32da-41eb-9cdb-db56b3f6e05e   \n",
      "\n",
      "    OrderDate OrderStatus  \n",
      "0  2024-04-17   Cancelled  \n",
      "1  2023-11-26   Cancelled  \n",
      "2  2022-11-24   Delivered  \n",
      "3  2023-08-30     Shipped  \n",
      "4  2023-10-31   Delivered  \n"
     ]
    }
   ],
   "source": [
    "# Display the first few rows of the DataFrames\n",
    "print(df_order_items.head())\n",
    "print(df_orders.head())"
   ]
  },
  {
   "cell_type": "code",
   "execution_count": 24,
   "id": "7170b0f3-ed42-4f67-8fb2-17afa518de6d",
   "metadata": {},
   "outputs": [
    {
     "name": "stdout",
     "output_type": "stream",
     "text": [
      "Number of rows in df_order_items: 300034\n",
      "Number of rows in df_orders: 100000\n"
     ]
    }
   ],
   "source": [
    "# Check the number of rows in the DataFrames\n",
    "print(f\"Number of rows in df_order_items: {len(df_order_items)}\")\n",
    "print(f\"Number of rows in df_orders: {len(df_orders)}\")"
   ]
  },
  {
   "cell_type": "code",
   "execution_count": 25,
   "id": "4104c2c7-3b3a-4fda-87ef-c724970947d7",
   "metadata": {},
   "outputs": [
    {
     "name": "stdout",
     "output_type": "stream",
     "text": [
      "The history saving thread hit an unexpected error (OperationalError('attempt to write a readonly database')).History will not be written to the database.\n",
      "----------------------------------------------------------------------------------------------------------------------------------------------------------------------------------------\n",
      "|\"Order_Item_ID\"                       |\"OrderID\"                             |\"ProductID\"                           |\"Quantity\"  |\"Unit_Price\"  |\"Total_Price\"  |\"ItemStatus\"         |\n",
      "----------------------------------------------------------------------------------------------------------------------------------------------------------------------------------------\n",
      "|b559eb34-52da-420e-a7d2-9b6841cff6fd  |4306cafa-fc49-4078-9d04-58e41f390cb6  |8c59693d-0330-47a4-904f-35ae43a56bf1  |5           |2             |10             |Delayed              |\n",
      "|9f611308-cea2-494e-99de-9c3207bfe90b  |4306cafa-fc49-4078-9d04-58e41f390cb6  |7bd16343-58e9-4fbc-8e43-10690b1a27ff  |2           |425           |850            |Partially Fulfilled  |\n",
      "|458f1492-7264-4cfa-a6ac-31f1e9e566ab  |4306cafa-fc49-4078-9d04-58e41f390cb6  |2a08c84e-ea05-46dd-aa60-7f5d9f13c54d  |5           |325           |1625           |Cancelled            |\n",
      "|805bc8b7-4a02-47ba-87d0-851eb536d16f  |4306cafa-fc49-4078-9d04-58e41f390cb6  |b1c94193-fbb2-4dcd-b703-c5e60f37f62d  |7           |5             |35             |Delayed              |\n",
      "|865518d7-f2c0-4f6c-a520-542d2fa55f11  |4306cafa-fc49-4078-9d04-58e41f390cb6  |a5624c16-d276-4518-861f-43744eee578c  |3           |600           |1800           |Delayed              |\n",
      "|5f08f9b1-feaa-4164-8855-2dba34634e48  |f3cb6ec4-f636-48a6-9965-e64f08090eab  |51585f72-4ce1-4bf4-9927-29514dadc201  |4           |99            |396            |Delayed              |\n",
      "|14d49831-1b91-456e-b713-f5048ff26c2f  |be7e7467-ed28-4fb8-b8d5-1abbb385f87b  |b06eae68-dfbf-4f7d-80de-99d0d63ccc14  |8           |15            |120            |Delayed              |\n",
      "|30a8870d-3a8f-4cc6-b89e-d87fb98dab17  |be7e7467-ed28-4fb8-b8d5-1abbb385f87b  |b55fcfa3-b24d-48a7-906c-8e9ceebb5f62  |9           |25000         |225000         |Partially Fulfilled  |\n",
      "|8f798342-2f1d-42cb-bffb-63cb9134e03d  |be7e7467-ed28-4fb8-b8d5-1abbb385f87b  |113c927f-85a0-4206-8e3a-c8bafa9869b5  |4           |675           |2700           |Partially Fulfilled  |\n",
      "|f5aebfef-16e3-45e3-bfc9-89399b1a8109  |be7e7467-ed28-4fb8-b8d5-1abbb385f87b  |d98d99a7-fc23-4212-b90c-70b1067d5de0  |5           |60            |300            |Cancelled            |\n",
      "----------------------------------------------------------------------------------------------------------------------------------------------------------------------------------------\n",
      "\n"
     ]
    }
   ],
   "source": [
    "my_session = get_session()\n",
    "sf_df = my_session.createDataFrame(df_order_items)\n",
    "sf_df.write.mode(\"overwrite\").save_as_table(\"BRONZE_ORDER_ITEM_DETAILS\")\n",
    "my_session.table(\"BRONZE_ORDER_ITEM_DETAILS\").show()"
   ]
  },
  {
   "cell_type": "code",
   "execution_count": 26,
   "id": "3e35758b-8602-4fb8-918d-24e7f659fa1c",
   "metadata": {},
   "outputs": [
    {
     "name": "stdout",
     "output_type": "stream",
     "text": [
      "-------------------------------------------------------------------------------------------------------------\n",
      "|\"OrderID\"                             |\"CustomerID\"                          |\"OrderDate\"  |\"OrderStatus\"  |\n",
      "-------------------------------------------------------------------------------------------------------------\n",
      "|4306cafa-fc49-4078-9d04-58e41f390cb6  |3b939ffb-2896-4e03-9460-6cc763880617  |2024-04-17   |Cancelled      |\n",
      "|f3cb6ec4-f636-48a6-9965-e64f08090eab  |aef1fc2c-25f4-473a-99b0-1ba11c446b4f  |2023-11-26   |Cancelled      |\n",
      "|be7e7467-ed28-4fb8-b8d5-1abbb385f87b  |22de95c5-4fd7-4a00-8f80-a5590e1ccce1  |2022-11-24   |Delivered      |\n",
      "|eda22c3b-037f-4237-a53c-c8c0933dc9e8  |0e9dda7c-b148-4f3d-b8f2-1989b1448b89  |2023-08-30   |Shipped        |\n",
      "|4aa25840-2371-4218-8173-8652ad6e979c  |85b449ea-32da-41eb-9cdb-db56b3f6e05e  |2023-10-31   |Delivered      |\n",
      "|ae4d4400-1a7e-4914-a2d9-4052cf2216c9  |4fc29fa6-c18d-492b-a80b-6f98f3b650a2  |2024-04-11   |Shipped        |\n",
      "|2db64f00-8d3b-4053-9ab0-5c6a9acd007d  |946c3c83-b3a0-42f1-9656-9fbde9085da5  |2023-09-01   |Delivered      |\n",
      "|56a9b00a-e332-4e85-a465-c43213bdf9f9  |3a7890d2-6dc8-4935-800b-f7d7b686cc6a  |2024-04-11   |Delivered      |\n",
      "|dcd10220-f027-4161-8f9a-610f138f2ac2  |4c74fee7-a03b-49f8-a9b4-85e0ecbf0577  |2024-01-18   |Delivered      |\n",
      "|cedf59a8-80cb-4736-ac27-4a412277a7ab  |1a4f42a4-8fb5-46de-a495-15882c1fe87f  |2024-06-05   |Shipped        |\n",
      "-------------------------------------------------------------------------------------------------------------\n",
      "\n"
     ]
    }
   ],
   "source": [
    "sf_df = my_session.createDataFrame(df_orders)\n",
    "sf_df.write.mode(\"overwrite\").save_as_table(\"BRONZE_ORDER_DETAILS\")\n",
    "my_session.table(\"BRONZE_ORDER_DETAILS\").show()"
   ]
  },
  {
   "cell_type": "markdown",
   "id": "6de3c8a6-54fe-4efb-9d0a-8b8f9695234d",
   "metadata": {},
   "source": [
    "# Invoice Data Set Up"
   ]
  },
  {
   "cell_type": "code",
   "execution_count": 27,
   "id": "f6fce390-367a-4be7-a5da-5005f297df7b",
   "metadata": {},
   "outputs": [],
   "source": [
    "# Assuming you already have the orders and order_items dataframes\n",
    "orders = df_orders['OrderID'].tolist()"
   ]
  },
  {
   "cell_type": "code",
   "execution_count": 42,
   "id": "28b04bb6-5fef-43c2-9b43-8d2bf0bea2f8",
   "metadata": {},
   "outputs": [],
   "source": [
    "# Generate Invoices\n",
    "def generate_invoices():\n",
    "    invoices = []\n",
    "    for order_id in orders:\n",
    "        customer_id = df_orders[df_orders['OrderID'] == order_id]['CustomerID'].values[0]\n",
    "        order_date = df_orders[df_orders['OrderID'] == order_id]['OrderDate'].values[0]\n",
    "        order_status = df_orders[df_orders['OrderID'] == order_id]['OrderStatus'].values[0]\n",
    "        \n",
    "        # Calculate total amount from order items\n",
    "        total_amount = df_order_items[df_order_items['OrderID'] == order_id]['Total_Price'].sum()\n",
    "        \n",
    "        # Define invoice_date before using it\n",
    "        invoice_date = pd.to_datetime(order_date) + timedelta(days=random.randint(3, 10))\n",
    "        due_date = invoice_date + timedelta(days=7)\n",
    "        payment_status = 'Paid' if order_status in ['Shipped', 'Delivered'] else 'Pending'\n",
    "        \n",
    "        invoice = {\n",
    "            'Invoice_ID': fake.uuid4(),\n",
    "            'Order_ID': order_id,\n",
    "            'Invoice_Date': invoice_date,\n",
    "            'Due_Date': due_date,\n",
    "            'Total_Amount': total_amount,\n",
    "            'Payment_Status': payment_status,\n",
    "            'CustomerID': customer_id,\n",
    "            'OrderDate': order_date\n",
    "        }\n",
    "        invoices.append(invoice)\n",
    "    return invoices"
   ]
  },
  {
   "cell_type": "code",
   "execution_count": 43,
   "id": "28aaed0b-237f-4232-816c-187ead96f02d",
   "metadata": {},
   "outputs": [],
   "source": [
    "# Generate Data\n",
    "invoices = generate_invoices()\n",
    "\n",
    "df_invoices = pd.DataFrame(invoices)"
   ]
  },
  {
   "cell_type": "code",
   "execution_count": 47,
   "id": "c70255a8-cb45-4056-87e8-243a978e5292",
   "metadata": {},
   "outputs": [
    {
     "name": "stdout",
     "output_type": "stream",
     "text": [
      "                             Invoice_ID                              Order_ID  \\\n",
      "0  cfabc68a-43db-4ebe-ba60-4d0dc14411d8  4306cafa-fc49-4078-9d04-58e41f390cb6   \n",
      "1  fe8172e8-cbce-4810-8cc3-335367ce0443  f3cb6ec4-f636-48a6-9965-e64f08090eab   \n",
      "2  cd51f250-f695-4244-ba9d-0e1f1f9ed639  be7e7467-ed28-4fb8-b8d5-1abbb385f87b   \n",
      "3  7e7890d4-78e8-4440-816d-d67d2a35951b  eda22c3b-037f-4237-a53c-c8c0933dc9e8   \n",
      "4  c508616f-d1df-478a-bb5b-957f4a66d346  4aa25840-2371-4218-8173-8652ad6e979c   \n",
      "\n",
      "  Invoice_Date   Due_Date  Total_Amount Payment_Status  \\\n",
      "0   2024-04-25 2024-05-02          4320        Pending   \n",
      "1   2023-12-04 2023-12-11           396        Pending   \n",
      "2   2022-11-27 2022-12-04        228545           Paid   \n",
      "3   2023-09-08 2023-09-15          7159           Paid   \n",
      "4   2023-11-05 2023-11-12          1533           Paid   \n",
      "\n",
      "                             CustomerID   OrderDate  \n",
      "0  3b939ffb-2896-4e03-9460-6cc763880617  2024-04-17  \n",
      "1  aef1fc2c-25f4-473a-99b0-1ba11c446b4f  2023-11-26  \n",
      "2  22de95c5-4fd7-4a00-8f80-a5590e1ccce1  2022-11-24  \n",
      "3  0e9dda7c-b148-4f3d-b8f2-1989b1448b89  2023-08-30  \n",
      "4  85b449ea-32da-41eb-9cdb-db56b3f6e05e  2023-10-31  \n"
     ]
    }
   ],
   "source": [
    "print(df_invoices.head())"
   ]
  },
  {
   "cell_type": "code",
   "execution_count": 48,
   "id": "297d2e2b-adc3-4dbe-b923-d011facde19d",
   "metadata": {},
   "outputs": [
    {
     "name": "stdout",
     "output_type": "stream",
     "text": [
      "Number of rows in df_invoices: 100000\n"
     ]
    }
   ],
   "source": [
    "print(f\"Number of rows in df_invoices: {len(df_invoices)}\")"
   ]
  },
  {
   "cell_type": "code",
   "execution_count": 49,
   "id": "b46747e6-c120-4861-841f-e5235d349a14",
   "metadata": {},
   "outputs": [
    {
     "name": "stdout",
     "output_type": "stream",
     "text": [
      "--------------------------------------------------------------------------------------------------------------------------------------------------------------------------------------------------------------------\n",
      "|\"Invoice_ID\"                          |\"Order_ID\"                            |\"Invoice_Date\"       |\"Due_Date\"           |\"Total_Amount\"  |\"Payment_Status\"  |\"CustomerID\"                          |\"OrderDate\"  |\n",
      "--------------------------------------------------------------------------------------------------------------------------------------------------------------------------------------------------------------------\n",
      "|cfabc68a-43db-4ebe-ba60-4d0dc14411d8  |4306cafa-fc49-4078-9d04-58e41f390cb6  |2024-04-25 00:00:00  |2024-05-02 00:00:00  |4320            |Pending           |3b939ffb-2896-4e03-9460-6cc763880617  |2024-04-17   |\n",
      "|fe8172e8-cbce-4810-8cc3-335367ce0443  |f3cb6ec4-f636-48a6-9965-e64f08090eab  |2023-12-04 00:00:00  |2023-12-11 00:00:00  |396             |Pending           |aef1fc2c-25f4-473a-99b0-1ba11c446b4f  |2023-11-26   |\n",
      "|cd51f250-f695-4244-ba9d-0e1f1f9ed639  |be7e7467-ed28-4fb8-b8d5-1abbb385f87b  |2022-11-27 00:00:00  |2022-12-04 00:00:00  |228545          |Paid              |22de95c5-4fd7-4a00-8f80-a5590e1ccce1  |2022-11-24   |\n",
      "|7e7890d4-78e8-4440-816d-d67d2a35951b  |eda22c3b-037f-4237-a53c-c8c0933dc9e8  |2023-09-08 00:00:00  |2023-09-15 00:00:00  |7159            |Paid              |0e9dda7c-b148-4f3d-b8f2-1989b1448b89  |2023-08-30   |\n",
      "|c508616f-d1df-478a-bb5b-957f4a66d346  |4aa25840-2371-4218-8173-8652ad6e979c  |2023-11-05 00:00:00  |2023-11-12 00:00:00  |1533            |Paid              |85b449ea-32da-41eb-9cdb-db56b3f6e05e  |2023-10-31   |\n",
      "|2b747ca2-e553-461f-94c3-10972f911a38  |ae4d4400-1a7e-4914-a2d9-4052cf2216c9  |2024-04-18 00:00:00  |2024-04-25 00:00:00  |89400           |Paid              |4fc29fa6-c18d-492b-a80b-6f98f3b650a2  |2024-04-11   |\n",
      "|0c4af8e8-8889-460b-b98f-c78f98922283  |2db64f00-8d3b-4053-9ab0-5c6a9acd007d  |2023-09-05 00:00:00  |2023-09-12 00:00:00  |181017          |Paid              |946c3c83-b3a0-42f1-9656-9fbde9085da5  |2023-09-01   |\n",
      "|140b9522-36b9-4d76-aa88-4cb5c9c5427a  |56a9b00a-e332-4e85-a465-c43213bdf9f9  |2024-04-20 00:00:00  |2024-04-27 00:00:00  |8274            |Paid              |3a7890d2-6dc8-4935-800b-f7d7b686cc6a  |2024-04-11   |\n",
      "|01a2c30d-e0f2-4fa5-83e7-5388b47abbc5  |dcd10220-f027-4161-8f9a-610f138f2ac2  |2024-01-23 00:00:00  |2024-01-30 00:00:00  |150733          |Paid              |4c74fee7-a03b-49f8-a9b4-85e0ecbf0577  |2024-01-18   |\n",
      "|abc54613-c55f-4d17-86d3-6020b51a470b  |cedf59a8-80cb-4736-ac27-4a412277a7ab  |2024-06-15 00:00:00  |2024-06-22 00:00:00  |42              |Paid              |1a4f42a4-8fb5-46de-a495-15882c1fe87f  |2024-06-05   |\n",
      "--------------------------------------------------------------------------------------------------------------------------------------------------------------------------------------------------------------------\n",
      "\n"
     ]
    }
   ],
   "source": [
    "# Save to Snowflake\n",
    "sf_df = my_session.createDataFrame(df_invoices)\n",
    "sf_df.write.mode(\"overwrite\").save_as_table(\"BRONZE_INVOICE_DETAILS\")\n",
    "my_session.table(\"BRONZE_INVOICE_DETAILS\").show()"
   ]
  },
  {
   "cell_type": "markdown",
   "id": "1e6b054e-38a3-4c85-be2b-a882d6f05ab7",
   "metadata": {},
   "source": [
    "# Shipments Data Set up"
   ]
  },
  {
   "cell_type": "code",
   "execution_count": 50,
   "id": "d6a6d90a-34bf-4e7d-b29d-3f459fd13ed7",
   "metadata": {},
   "outputs": [],
   "source": [
    "# Generate Shipments\n",
    "def generate_shipments():\n",
    "    shipments = []\n",
    "    for order_id in orders:\n",
    "        order_status = df_orders[df_orders['OrderID'] == order_id]['OrderStatus'].values[0]\n",
    "        shipment_date = pd.to_datetime(df_orders[df_orders['OrderID'] == order_id]['OrderDate'].values[0]) + timedelta(days=random.randint(1, 5))\n",
    "        carrier = random.choice(['FedEx', 'UPS', 'DHL', 'USPS'])\n",
    "        tracking_number = fake.uuid4()\n",
    "        \n",
    "        # Set shipment status based on order status\n",
    "        if order_status == 'Pending':\n",
    "            shipment_status = 'Pending'\n",
    "        elif order_status == 'Shipped':\n",
    "            shipment_status = 'In Transit'\n",
    "        elif order_status == 'Delivered':\n",
    "            shipment_status = 'Delivered'\n",
    "        elif order_status == 'Cancelled':\n",
    "            shipment_status = 'Cancelled'\n",
    "        else:\n",
    "            shipment_status = 'Unknown'\n",
    "        \n",
    "        shipment = {\n",
    "            'Shipment_ID': fake.uuid4(),\n",
    "            'Order_ID': order_id,\n",
    "            'Shipment_Date': shipment_date,\n",
    "            'Carrier': carrier,\n",
    "            'Tracking_Number': tracking_number,\n",
    "            'Shipment_Status': shipment_status\n",
    "        }\n",
    "        shipments.append(shipment)\n",
    "    return shipments\n"
   ]
  },
  {
   "cell_type": "code",
   "execution_count": null,
   "id": "4a590b5b-09c3-48f1-a8db-22f5bac66d42",
   "metadata": {},
   "outputs": [],
   "source": [
    "# Generate Data\n",
    "shipments = generate_shipments()\n",
    "\n",
    "df_shipments = pd.DataFrame(shipments)"
   ]
  },
  {
   "cell_type": "code",
   "execution_count": null,
   "id": "7f549e21-3860-47d1-8c88-5b63dd2768fe",
   "metadata": {},
   "outputs": [],
   "source": [
    "# Display the first few rows of the DataFrame\n",
    "print(df_shipments.head())"
   ]
  },
  {
   "cell_type": "code",
   "execution_count": null,
   "id": "e986559b-8f2b-4865-805e-76e24e1396c7",
   "metadata": {},
   "outputs": [],
   "source": [
    "# Save to Snowflake\n",
    "sf_df = my_session.createDataFrame(df_shipments)\n",
    "sf_df.write.mode(\"overwrite\").save_as_table(\"BRONZE_SHIPMENT_DETAILS\")\n",
    "my_session.table(\"BRONZE_SHIPMENT_DETAILS\").show()\n"
   ]
  },
  {
   "cell_type": "code",
   "execution_count": null,
   "id": "3fa0d460-1d9c-4ce6-9148-ac2d93eeafc5",
   "metadata": {},
   "outputs": [],
   "source": []
  },
  {
   "cell_type": "code",
   "execution_count": null,
   "id": "ab8efc6f-b5c3-41a0-a55c-ca0381609c0c",
   "metadata": {},
   "outputs": [],
   "source": []
  },
  {
   "cell_type": "code",
   "execution_count": 44,
   "id": "991f5aab-5473-4229-bc98-fc2dbc5128f4",
   "metadata": {},
   "outputs": [],
   "source": [
    "# Generate Orders and Order Items\n",
    "def generate_orders_and_items(customers, products, num_orders=100000):\n",
    "    orders = []\n",
    "    order_items = []\n",
    "    shipments = []\n",
    "    invoices = []\n",
    "    payments = []\n",
    "    statuses = ['Fulfilled', 'Delayed Fulfillment', 'Pending Payment']\n",
    "\n",
    "    for _ in range(num_orders):\n",
    "        customer = random.choice(customers)\n",
    "        order_status = random.choice(statuses)\n",
    "        order_id = fake.uuid4()\n",
    "        order_date = fake.date_this_year()\n",
    "        total_amount = 0\n",
    "\n",
    "        order = {\n",
    "            'OrderID': order_id,\n",
    "            'CustomerID': customer['CustomerID'],\n",
    "            'OrderDate': order_date,\n",
    "            'OrderStatus': order_status,\n",
    "            'TotalAmount': total_amount  # Will be updated later\n",
    "        }\n",
    "        orders.append(order)\n",
    "\n",
    "        num_items = random.randint(1, 5)\n",
    "        for _ in range(num_items):\n",
    "            product = random.choice(products)\n",
    "            quantity = random.randint(1, 10)\n",
    "            total_price = product['Price'] * quantity\n",
    "            total_amount += total_price\n",
    "\n",
    "            order_item = {\n",
    "                'OrderItemID': fake.uuid4(),\n",
    "                'OrderID': order_id,\n",
    "                'ProductID': product['ProductID'],\n",
    "                'Quantity': quantity,\n",
    "                'UnitPrice': product['Price'],\n",
    "                'TotalPrice': total_price\n",
    "            }\n",
    "            order_items.append(order_item)\n",
    "\n",
    "        # Update the total amount for the order\n",
    "        order['TotalAmount'] = total_amount\n",
    "\n",
    "        shipment = {\n",
    "            'ShipmentID': fake.uuid4(),\n",
    "            'OrderID': order_id,\n",
    "            'ShipmentDate': fake.date_this_year(),\n",
    "            'Carrier': fake.company(),\n",
    "            'TrackingNumber': fake.uuid4(),\n",
    "            'ShipmentStatus': 'Shipped' if order_status == 'Fulfilled' else 'Pending'\n",
    "        }\n",
    "        shipments.append(shipment)\n",
    "\n",
    "        invoice = {\n",
    "            'InvoiceID': fake.uuid4(),\n",
    "            'OrderID': order_id,\n",
    "            'InvoiceDate': fake.date_this_year(),\n",
    "            'DueDate': fake.date_this_year(),\n",
    "            'TotalAmount': total_amount,\n",
    "            'PaymentStatus': 'Paid' if order_status == 'Fulfilled' else 'Pending'\n",
    "        }\n",
    "        invoices.append(invoice)\n",
    "\n",
    "        if order_status == 'Fulfilled':\n",
    "            payment = {\n",
    "                'PaymentID': fake.uuid4(),\n",
    "                'InvoiceID': invoice['InvoiceID'],\n",
    "                'PaymentDate': fake.date_this_year(),\n",
    "                'PaymentAmount': total_amount,\n",
    "                'PaymentMethod': random.choice(['Credit Card', 'Bank Transfer', 'Cash'])\n",
    "            }\n",
    "            payments.append(payment)\n",
    "\n",
    "    return orders, order_items, shipments, invoices, payments"
   ]
  },
  {
   "cell_type": "code",
   "execution_count": null,
   "id": "672355d9-3344-428e-94b5-63257d97840c",
   "metadata": {},
   "outputs": [],
   "source": []
  },
  {
   "cell_type": "code",
   "execution_count": 16,
   "id": "87f701c7-bfc0-405a-811a-a561257923cc",
   "metadata": {},
   "outputs": [
    {
     "ename": "NameError",
     "evalue": "name 'products' is not defined",
     "output_type": "error",
     "traceback": [
      "\u001b[0;31m---------------------------------------------------------------------------\u001b[0m",
      "\u001b[0;31mNameError\u001b[0m                                 Traceback (most recent call last)",
      "Cell \u001b[0;32mIn[16], line 1\u001b[0m\n\u001b[0;32m----> 1\u001b[0m orders, order_items, shipments, invoices, payments \u001b[38;5;241m=\u001b[39m generate_orders_and_items(customers, \u001b[43mproducts\u001b[49m)\n",
      "\u001b[0;31mNameError\u001b[0m: name 'products' is not defined"
     ]
    }
   ],
   "source": [
    "orders, order_items, shipments, invoices, payments = generate_orders_and_items(customers, products)"
   ]
  },
  {
   "cell_type": "code",
   "execution_count": null,
   "id": "bd5fec1c-fe99-48da-a21b-b97f2642db96",
   "metadata": {},
   "outputs": [],
   "source": [
    "# Convert to DataFrames for easy manipulation\n",
    "\n",
    "\n",
    "df_orders = pd.DataFrame(orders)\n",
    "df_order_items = pd.DataFrame(order_items)\n",
    "df_shipments = pd.DataFrame(shipments)\n",
    "df_invoices = pd.DataFrame(invoices)\n",
    "df_payments = pd.DataFrame(payments)"
   ]
  },
  {
   "cell_type": "code",
   "execution_count": null,
   "id": "04ce9cfb-c637-4d0f-8fdb-5dfbbc0fdf40",
   "metadata": {},
   "outputs": [],
   "source": [
    "orders"
   ]
  },
  {
   "cell_type": "code",
   "execution_count": null,
   "id": "077cf502-6fb2-42ff-8294-59ddbbf48218",
   "metadata": {},
   "outputs": [],
   "source": []
  },
  {
   "cell_type": "code",
   "execution_count": null,
   "id": "34e6a192-5c7e-4257-a72d-17d0090d2374",
   "metadata": {},
   "outputs": [],
   "source": []
  },
  {
   "cell_type": "code",
   "execution_count": null,
   "id": "5e7f0b24-ae47-4fb5-aeba-d20fb5877e51",
   "metadata": {},
   "outputs": [],
   "source": []
  },
  {
   "cell_type": "code",
   "execution_count": null,
   "id": "bb4c77cc-8b0b-4dca-8783-91c264f794a5",
   "metadata": {},
   "outputs": [],
   "source": []
  },
  {
   "cell_type": "code",
   "execution_count": null,
   "id": "5b55dda6-3103-47b1-907c-ec3b836d2c0d",
   "metadata": {},
   "outputs": [],
   "source": []
  },
  {
   "cell_type": "code",
   "execution_count": null,
   "id": "150eea50-f9bf-456b-9a54-0e59f911cbba",
   "metadata": {},
   "outputs": [],
   "source": []
  },
  {
   "cell_type": "code",
   "execution_count": null,
   "id": "fae9ee56-953b-4068-b008-bb8ced8c8f44",
   "metadata": {},
   "outputs": [],
   "source": []
  },
  {
   "cell_type": "code",
   "execution_count": null,
   "id": "011936d8-60d4-4125-adc1-9369bfac4d4c",
   "metadata": {},
   "outputs": [],
   "source": []
  },
  {
   "cell_type": "code",
   "execution_count": null,
   "id": "f3ba6283-f7b6-4c3c-8056-9ea3223c5458",
   "metadata": {},
   "outputs": [],
   "source": []
  },
  {
   "cell_type": "code",
   "execution_count": null,
   "id": "047ef9f5-b52f-423e-9b72-43ebec2fb3d4",
   "metadata": {},
   "outputs": [],
   "source": []
  },
  {
   "cell_type": "code",
   "execution_count": null,
   "id": "8271ca1d-c983-476b-b8a5-c0b364a62741",
   "metadata": {},
   "outputs": [],
   "source": []
  }
 ],
 "metadata": {
  "kernelspec": {
   "display_name": "Python 3 (ipykernel)",
   "language": "python",
   "name": "python3"
  },
  "language_info": {
   "codemirror_mode": {
    "name": "ipython",
    "version": 3
   },
   "file_extension": ".py",
   "mimetype": "text/x-python",
   "name": "python",
   "nbconvert_exporter": "python",
   "pygments_lexer": "ipython3",
   "version": "3.9.19"
  }
 },
 "nbformat": 4,
 "nbformat_minor": 5
}
