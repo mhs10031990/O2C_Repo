{
 "cells": [
  {
   "cell_type": "markdown",
   "id": "2d34ae5a-faea-40ee-a3b6-5fadbe1eaaf7",
   "metadata": {},
   "source": [
    "# Use O2C_Template Customized Notebook Template"
   ]
  },
  {
   "cell_type": "code",
   "execution_count": 83,
   "id": "2beea587-4333-4656-bfee-093ba7f23584",
   "metadata": {},
   "outputs": [],
   "source": [
    "import random\n",
    "from faker import Faker\n",
    "import pandas as pd"
   ]
  },
  {
   "cell_type": "code",
   "execution_count": 84,
   "id": "f8266d50-ee22-4d91-9192-dc0d440cd79a",
   "metadata": {},
   "outputs": [],
   "source": [
    "from fosforml.model_manager.snowflakesession import get_session\n",
    "my_session = get_session()"
   ]
  },
  {
   "cell_type": "code",
   "execution_count": 85,
   "id": "1f98c5d3-707d-401b-affc-84f3e461cc76",
   "metadata": {},
   "outputs": [],
   "source": [
    "fake = Faker('en_US')"
   ]
  },
  {
   "cell_type": "markdown",
   "id": "cbec74e9-70b1-4854-8775-5f2d9b650f5c",
   "metadata": {},
   "source": [
    "# Customer Data Setup"
   ]
  },
  {
   "cell_type": "code",
   "execution_count": 86,
   "id": "af2c39b9-7b8e-43be-8b08-cce794105a42",
   "metadata": {},
   "outputs": [],
   "source": [
    "# Generate Customers\n",
    "def generate_customers(num_customers=150):\n",
    "    customers = []\n",
    "    for _ in range(num_customers):\n",
    "        customer = {\n",
    "            'CustomerID': 'CID-' + fake.uuid4(),\n",
    "            'Name': fake.company(),\n",
    "            'CompanyType':fake.company_suffix(),\n",
    "            'ContactDetails': fake.phone_number(),\n",
    "            'EmailDetails': fake.company_email(),\n",
    "            'AddressDetails':fake.address(),\n",
    "            'AdminDetails':fake.administrative_unit(),\n",
    "            'CreditLimit': random.randint(10000, 100000),\n",
    "            'CreditRating': random.choice(['very poor', 'fair', 'good', 'very good','exceptional'])\n",
    "        }\n",
    "        customers.append(customer)\n",
    "    return customers"
   ]
  },
  {
   "cell_type": "code",
   "execution_count": 87,
   "id": "328db935-ea4a-42d5-b820-d7ffd94eef9b",
   "metadata": {},
   "outputs": [],
   "source": [
    "# Generate Data\n",
    "customers = generate_customers()"
   ]
  },
  {
   "cell_type": "code",
   "execution_count": 88,
   "id": "e599762c-4447-4a35-b8cc-236151119a00",
   "metadata": {},
   "outputs": [],
   "source": [
    "customers_name = ['CleverOffice','Stackers','PreScott Works','MomentA','BOXED'\n",
    ",'JinkOffice','HomeEssentials','BallPoint','WhaleBack','Formica'\n",
    ",'Starton Inc','Anabrige LLP','Hammers and Nails','BoreHole LLC'\n",
    ",'Indra Secure Co-rp','CortiTech ITC','DOLCH ','Sutura'\n",
    ",'StarStruck LLC','BARCTL LLC','Limae Inc','Rivet','Marathon'\n",
    ",'Valiant','Filum','TautaLog','Pin&Fix','JamPack','MasterStik'\n",
    ",'CLIC','Nestables','CAPSTASH','Tappit','MashMart','TruSource'\n",
    ",'ODD Sends','Pen Scoop','ASCRIBE LLP','Wire works','EXPRESSR'\n",
    ",'FULCRO','SOLID BOX','LYSIS Logo','CARDIOID','Herculean Inc'\n",
    ",'OTTAVA','BLUE Ribbon','Master Bind ','Thinkies','Five Point'\n",
    ",'Connect iBuy','Lion Mark','Deskify','BestTry','PLOTSHOP'\n",
    ",'Office Fuel','Oasis Cuff','CoraPress','SuperShapes','BeeBows'\n",
    ",'Locale Mart','TetherLink','Comestor','Knox Paper','NECESSITE'\n",
    ",'Corner Spike','SPACE MAX','Easy Dealy','Star Tech','KLIXX'\n",
    ",'Phyllon LLP','Planisphere','A1 Creased','ONYX','HomeBright'\n",
    ",'NextBolt','Pinch Hops','Popplin','Mercer and Sons','Jackson-Hughes'\n",
    ",'Moran Ltd','Baldwin PLC','Tucker Ltd','Allen Inc','Rodriguez Group'\n",
    ",'Taylor Ltd','Mahoney PLC','Robinson Group','Mcmillan LLC'\n",
    ",'Bailey-Roberts','Rivera PLC','Potter Group','Mckay-Davis','Valencia Group'\n",
    ",'Haynes-Jackson','Klein Inc','Davis-Rose','Watson-Miller','Smith LLC'\n",
    ",'Jackson and Sons'\n",
    ",'BrightWorks', 'EcoSphere', 'TechWave', 'PrimeSource', 'Apex Innovations',\n",
    "'GreenLeaf', 'UrbanEdge', 'Quantum Solutions', 'Vertex Ventures', 'NexGen',\n",
    "'FusionCorp', 'BlueSky Enterprises', 'PioneerTech', 'Elite Systems', 'Skyline Industries',\n",
    "'ProActive', 'Innovatech', 'CoreDynamics', 'SynergyWorks', 'NextEra',\n",
    "'Optima', 'Zenith', 'Vanguard', 'Summit Solutions', 'Infinity Group',\n",
    "'AlphaTech', 'GlobalReach', 'MetroLink', 'Visionary', 'DynamicEdge',\n",
    "'PrimeTech', 'FutureWave', 'EcoTech', 'UrbanCore', 'SkyHigh',\n",
    "'ProLink', 'Innovative Solutions', 'CoreTech', 'SynergyCorp', 'NextGen Solutions',\n",
    "'OptiMax', 'Zenith Enterprises', 'Vanguard Innovations', 'SummitTech', 'Infinity Solutions',\n",
    "'Alpha Innovations', 'GlobalTech', 'MetroTech', 'Visionary Solutions', 'Dynamic Innovations']"
   ]
  },
  {
   "cell_type": "code",
   "execution_count": 89,
   "id": "616d70cc-8317-4ed6-8925-ffef0b810031",
   "metadata": {},
   "outputs": [],
   "source": [
    "df_customers = pd.DataFrame(customers)"
   ]
  },
  {
   "cell_type": "code",
   "execution_count": 90,
   "id": "5b6f0666-fe97-4821-a3ab-eb307cb087a7",
   "metadata": {},
   "outputs": [],
   "source": [
    "df_customers['CustomerName'] = customers_name"
   ]
  },
  {
   "cell_type": "code",
   "execution_count": 91,
   "id": "4b48bd5d-964e-4330-bd5b-aaa62b1a158b",
   "metadata": {},
   "outputs": [],
   "source": [
    "CustomerType = ['Construction Materials','Office Supplies','Construction Materials','Food Beverages'\n",
    ",'Office Supplies','Construction Materials','Healthcare','Food Beverages','Automotive'\n",
    ",'Food Beverages','Food Beverages','Construction Materials','Construction Materials'\n",
    ",'Construction Materials','Automotive','Food Beverages','Food Beverages','Food Beverages'\n",
    ",'Consumer Goods','Consumer Goods','Healthcare','Office Supplies','Office Supplies'\n",
    ",'Office Supplies','Healthcare','Office Supplies','Construction Materials','Office Supplies'\n",
    ",'Office Supplies','Office Supplies','Food Beverages','Consumer Goods','Consumer Goods'\n",
    ",'Food Beverages','Office Supplies','Office Supplies','Food Beverages','Office Supplies'\n",
    ",'Construction Materials','Food Beverages','Automotive','Office Supplies','Office Supplies'\n",
    ",'Consumer Goods','Automotive','Food Beverages','Office Supplies','Office Supplies'\n",
    ",'Food Beverages','Food Beverages','Food Beverages','Food Beverages','Consumer Goods'\n",
    ",'Healthcare','Food Beverages','Healthcare','Food Beverages','Food Beverages','Healthcare'\n",
    ",'Automotive','Food Beverages','Food Beverages','Food Beverages','Consumer Goods'\n",
    ",'Healthcare','Food Beverages','Automotive','Consumer Goods','Food Beverages'\n",
    ",'Food Beverages','Consumer Goods','Consumer Goods','Automotive','Consumer Goods'\n",
    ",'Consumer Goods','Construction Materials','Consumer Goods','Consumer Goods','Consumer Goods'\n",
    ",'Consumer Goods','Industrial Equipment','Industrial Equipment','Industrial Equipment'\n",
    ",'Industrial Equipment','Consumer Goods','Industrial Equipment','Healthcare','Healthcare'\n",
    ",'Healthcare','Automotive','Industrial Equipment','Construction Materials','Automotive'\n",
    ",'Construction Materials','Consumer Goods','Consumer Goods','Consumer Goods','Consumer Goods'\n",
    ",'Industrial Equipment','Consumer Goods'\n",
    ",'Office Supplies','Office Supplies','Office Supplies','Office Supplies','Office Supplies'\n",
    ",'Consumer Goods','Consumer Goods','Consumer Goods','Consumer Goods','Consumer Goods'\n",
    ",'Food Beverages','Food Beverages','Food Beverages','Food Beverages','Food Beverages'\n",
    ",'Construction Materials','Construction Materials','Construction Materials','Construction Materials','Construction Materials'\n",
    ",'Healthcare','Healthcare','Healthcare','Healthcare','Healthcare'\n",
    ",'Automotive','Automotive','Automotive','Automotive','Automotive'\n",
    ",'Industrial Equipment','Industrial Equipment','Industrial Equipment','Industrial Equipment','Industrial Equipment'\n",
    ",'Office Supplies','Office Supplies','Office Supplies','Office Supplies','Office Supplies'\n",
    ",'Consumer Goods','Consumer Goods','Consumer Goods','Consumer Goods','Consumer Goods'\n",
    ",'Food Beverages','Food Beverages','Food Beverages','Food Beverages','Food Beverages']                "
   ]
  },
  {
   "cell_type": "code",
   "execution_count": 92,
   "id": "6b51cb69-27c4-49ad-aa5b-66caa5f9d8ba",
   "metadata": {},
   "outputs": [],
   "source": [
    "df_customers['CustomerType'] = CustomerType"
   ]
  },
  {
   "cell_type": "code",
   "execution_count": 93,
   "id": "240871bb-ea7b-484b-bd3e-3dc999fbd853",
   "metadata": {},
   "outputs": [],
   "source": [
    "df_customers.columns = ['CustomerID', 'Name', 'CompanyType', 'ContactDetails', 'EmailDetails',\n",
    "       'AddressDetails', 'AdminDetails', 'CreditLimit', 'CreditRating','CustomerName','CustomerType']"
   ]
  },
  {
   "cell_type": "code",
   "execution_count": 94,
   "id": "fa30dcfa-e614-49dd-88ec-0781f27480b2",
   "metadata": {},
   "outputs": [
    {
     "data": {
      "text/html": [
       "<div>\n",
       "<style scoped>\n",
       "    .dataframe tbody tr th:only-of-type {\n",
       "        vertical-align: middle;\n",
       "    }\n",
       "\n",
       "    .dataframe tbody tr th {\n",
       "        vertical-align: top;\n",
       "    }\n",
       "\n",
       "    .dataframe thead th {\n",
       "        text-align: right;\n",
       "    }\n",
       "</style>\n",
       "<table border=\"1\" class=\"dataframe\">\n",
       "  <thead>\n",
       "    <tr style=\"text-align: right;\">\n",
       "      <th></th>\n",
       "      <th>CustomerID</th>\n",
       "      <th>Name</th>\n",
       "      <th>CompanyType</th>\n",
       "      <th>ContactDetails</th>\n",
       "      <th>EmailDetails</th>\n",
       "      <th>AddressDetails</th>\n",
       "      <th>AdminDetails</th>\n",
       "      <th>CreditLimit</th>\n",
       "      <th>CreditRating</th>\n",
       "      <th>CustomerName</th>\n",
       "      <th>CustomerType</th>\n",
       "    </tr>\n",
       "  </thead>\n",
       "  <tbody>\n",
       "    <tr>\n",
       "      <th>0</th>\n",
       "      <td>CID-5e91110d-f11c-4e64-914b-268ea13f848a</td>\n",
       "      <td>Shepherd-Morales</td>\n",
       "      <td>Ltd</td>\n",
       "      <td>001-409-528-6903x598</td>\n",
       "      <td>smithmichael@clements-navarro.com</td>\n",
       "      <td>75667 Jimenez Road Apt. 108\\nThompsonborough, ...</td>\n",
       "      <td>New York</td>\n",
       "      <td>37785</td>\n",
       "      <td>fair</td>\n",
       "      <td>CleverOffice</td>\n",
       "      <td>Construction Materials</td>\n",
       "    </tr>\n",
       "    <tr>\n",
       "      <th>1</th>\n",
       "      <td>CID-b8497752-1e7e-433c-b432-981318af7620</td>\n",
       "      <td>Miller, Guerrero and Flores</td>\n",
       "      <td>Ltd</td>\n",
       "      <td>001-182-870-7669x0574</td>\n",
       "      <td>jamesvelasquez@herrera.com</td>\n",
       "      <td>877 Ochoa Way Apt. 477\\nWest Gregory, WI 71829</td>\n",
       "      <td>New Mexico</td>\n",
       "      <td>83230</td>\n",
       "      <td>good</td>\n",
       "      <td>Stackers</td>\n",
       "      <td>Office Supplies</td>\n",
       "    </tr>\n",
       "    <tr>\n",
       "      <th>2</th>\n",
       "      <td>CID-d0aec35b-779e-4803-a294-5bf365ae1f80</td>\n",
       "      <td>King-Mahoney</td>\n",
       "      <td>PLC</td>\n",
       "      <td>+1-616-957-9060x48344</td>\n",
       "      <td>teresa22@perez.info</td>\n",
       "      <td>3312 Thompson Village Apt. 860\\nDylanshire, KS...</td>\n",
       "      <td>Kentucky</td>\n",
       "      <td>31496</td>\n",
       "      <td>good</td>\n",
       "      <td>PreScott Works</td>\n",
       "      <td>Construction Materials</td>\n",
       "    </tr>\n",
       "    <tr>\n",
       "      <th>3</th>\n",
       "      <td>CID-9cc7feae-3f14-4d6f-b6ca-7b485d2853cb</td>\n",
       "      <td>Miller, Morgan and Green</td>\n",
       "      <td>LLC</td>\n",
       "      <td>(554)901-1492x97283</td>\n",
       "      <td>morgansusan@smith.com</td>\n",
       "      <td>58402 Lisa Coves\\nOrtizview, WY 72072</td>\n",
       "      <td>Idaho</td>\n",
       "      <td>59750</td>\n",
       "      <td>very poor</td>\n",
       "      <td>MomentA</td>\n",
       "      <td>Food Beverages</td>\n",
       "    </tr>\n",
       "    <tr>\n",
       "      <th>4</th>\n",
       "      <td>CID-dc058045-782c-442b-9b03-6421b9e18583</td>\n",
       "      <td>Lewis-Smith</td>\n",
       "      <td>Ltd</td>\n",
       "      <td>(492)386-5498x687</td>\n",
       "      <td>wilcoxjacob@watson.com</td>\n",
       "      <td>7687 William Bridge\\nHenryburgh, FL 69171</td>\n",
       "      <td>Washington</td>\n",
       "      <td>36365</td>\n",
       "      <td>fair</td>\n",
       "      <td>BOXED</td>\n",
       "      <td>Office Supplies</td>\n",
       "    </tr>\n",
       "  </tbody>\n",
       "</table>\n",
       "</div>"
      ],
      "text/plain": [
       "                                 CustomerID                         Name  \\\n",
       "0  CID-5e91110d-f11c-4e64-914b-268ea13f848a             Shepherd-Morales   \n",
       "1  CID-b8497752-1e7e-433c-b432-981318af7620  Miller, Guerrero and Flores   \n",
       "2  CID-d0aec35b-779e-4803-a294-5bf365ae1f80                 King-Mahoney   \n",
       "3  CID-9cc7feae-3f14-4d6f-b6ca-7b485d2853cb     Miller, Morgan and Green   \n",
       "4  CID-dc058045-782c-442b-9b03-6421b9e18583                  Lewis-Smith   \n",
       "\n",
       "  CompanyType         ContactDetails                       EmailDetails  \\\n",
       "0         Ltd   001-409-528-6903x598  smithmichael@clements-navarro.com   \n",
       "1         Ltd  001-182-870-7669x0574         jamesvelasquez@herrera.com   \n",
       "2         PLC  +1-616-957-9060x48344                teresa22@perez.info   \n",
       "3         LLC    (554)901-1492x97283              morgansusan@smith.com   \n",
       "4         Ltd      (492)386-5498x687             wilcoxjacob@watson.com   \n",
       "\n",
       "                                      AddressDetails AdminDetails  \\\n",
       "0  75667 Jimenez Road Apt. 108\\nThompsonborough, ...     New York   \n",
       "1     877 Ochoa Way Apt. 477\\nWest Gregory, WI 71829   New Mexico   \n",
       "2  3312 Thompson Village Apt. 860\\nDylanshire, KS...     Kentucky   \n",
       "3              58402 Lisa Coves\\nOrtizview, WY 72072        Idaho   \n",
       "4          7687 William Bridge\\nHenryburgh, FL 69171   Washington   \n",
       "\n",
       "   CreditLimit CreditRating    CustomerName            CustomerType  \n",
       "0        37785         fair    CleverOffice  Construction Materials  \n",
       "1        83230         good        Stackers         Office Supplies  \n",
       "2        31496         good  PreScott Works  Construction Materials  \n",
       "3        59750    very poor         MomentA          Food Beverages  \n",
       "4        36365         fair           BOXED         Office Supplies  "
      ]
     },
     "execution_count": 94,
     "metadata": {},
     "output_type": "execute_result"
    }
   ],
   "source": [
    "df_customers.head()"
   ]
  },
  {
   "cell_type": "code",
   "execution_count": 95,
   "id": "a21c77fb-cd0a-4a3e-9e46-a336d9f3bcb8",
   "metadata": {},
   "outputs": [],
   "source": [
    "df_train_sf=my_session.createDataFrame(\n",
    "        df_customers.values.tolist(),\n",
    "        schema=df_customers.columns.tolist())\n",
    "df_train_sf.write.mode(\"overwrite\").save_as_table(\"FDC_HORIZONTAL.O2C_SCHEMA.BRONZE_CUSTOMER_DATA\")"
   ]
  },
  {
   "cell_type": "markdown",
   "id": "5e77f373-62ae-4a3d-82f5-5c52f9f52728",
   "metadata": {},
   "source": [
    "# Product Data setup"
   ]
  },
  {
   "cell_type": "code",
   "execution_count": 96,
   "id": "4403a6bc-ed0c-4ea5-a547-e5535a5dc27c",
   "metadata": {},
   "outputs": [],
   "source": [
    "df_product = pd.read_csv('product_files.csv')"
   ]
  },
  {
   "cell_type": "code",
   "execution_count": 97,
   "id": "59d13d94-574f-4015-ab07-f35e2155dbbf",
   "metadata": {},
   "outputs": [
    {
     "data": {
      "text/plain": [
       "(72, 4)"
      ]
     },
     "execution_count": 97,
     "metadata": {},
     "output_type": "execute_result"
    }
   ],
   "source": [
    "df_product.shape"
   ]
  },
  {
   "cell_type": "code",
   "execution_count": 98,
   "id": "ed978545-1470-496d-aa01-2cc04169dbc5",
   "metadata": {},
   "outputs": [
    {
     "data": {
      "text/html": [
       "<div>\n",
       "<style scoped>\n",
       "    .dataframe tbody tr th:only-of-type {\n",
       "        vertical-align: middle;\n",
       "    }\n",
       "\n",
       "    .dataframe tbody tr th {\n",
       "        vertical-align: top;\n",
       "    }\n",
       "\n",
       "    .dataframe thead th {\n",
       "        text-align: right;\n",
       "    }\n",
       "</style>\n",
       "<table border=\"1\" class=\"dataframe\">\n",
       "  <thead>\n",
       "    <tr style=\"text-align: right;\">\n",
       "      <th></th>\n",
       "      <th>ProductCategory</th>\n",
       "      <th>ProductType</th>\n",
       "      <th>Quantity</th>\n",
       "      <th>UnitPrice</th>\n",
       "    </tr>\n",
       "  </thead>\n",
       "  <tbody>\n",
       "    <tr>\n",
       "      <th>0</th>\n",
       "      <td>Office Supplies</td>\n",
       "      <td>Laser Printer</td>\n",
       "      <td>100</td>\n",
       "      <td>425</td>\n",
       "    </tr>\n",
       "    <tr>\n",
       "      <th>1</th>\n",
       "      <td>Office Supplies</td>\n",
       "      <td>Ergonomic Chair</td>\n",
       "      <td>1000</td>\n",
       "      <td>299</td>\n",
       "    </tr>\n",
       "    <tr>\n",
       "      <th>2</th>\n",
       "      <td>Office Supplies</td>\n",
       "      <td>Standing Desk</td>\n",
       "      <td>1000</td>\n",
       "      <td>420</td>\n",
       "    </tr>\n",
       "    <tr>\n",
       "      <th>3</th>\n",
       "      <td>Office Supplies</td>\n",
       "      <td>Wireless Keyboard</td>\n",
       "      <td>1000</td>\n",
       "      <td>78</td>\n",
       "    </tr>\n",
       "    <tr>\n",
       "      <th>4</th>\n",
       "      <td>Office Supplies</td>\n",
       "      <td>Office Stationery Set</td>\n",
       "      <td>1000</td>\n",
       "      <td>15</td>\n",
       "    </tr>\n",
       "  </tbody>\n",
       "</table>\n",
       "</div>"
      ],
      "text/plain": [
       "   ProductCategory            ProductType  Quantity  UnitPrice\n",
       "0  Office Supplies          Laser Printer       100        425\n",
       "1  Office Supplies        Ergonomic Chair      1000        299\n",
       "2  Office Supplies          Standing Desk      1000        420\n",
       "3  Office Supplies      Wireless Keyboard      1000         78\n",
       "4  Office Supplies  Office Stationery Set      1000         15"
      ]
     },
     "execution_count": 98,
     "metadata": {},
     "output_type": "execute_result"
    }
   ],
   "source": [
    "df_product.head()"
   ]
  },
  {
   "cell_type": "code",
   "execution_count": 99,
   "id": "b49099c8-6914-45c6-92ab-c69ef6cd8383",
   "metadata": {},
   "outputs": [],
   "source": [
    "def generate_products(data):\n",
    "    data['ProductID'] = ''\n",
    "    # Iterate over rows and columns\n",
    "    for index, row in data.iterrows():\n",
    "        data.at[index, 'ProductID'] = 'PID-' + fake.uuid4()\n",
    "    return data"
   ]
  },
  {
   "cell_type": "code",
   "execution_count": 100,
   "id": "ccae3d9b-5412-4b7f-9fe2-65902c4f23e3",
   "metadata": {},
   "outputs": [],
   "source": [
    "df_product = generate_products(df_product)"
   ]
  },
  {
   "cell_type": "code",
   "execution_count": 101,
   "id": "ea2990d2-281a-498d-bd97-951d98da813c",
   "metadata": {},
   "outputs": [],
   "source": [
    "df_train_sf=my_session.createDataFrame(\n",
    "        df_product.values.tolist(),\n",
    "        schema=df_product.columns.tolist())\n",
    "df_train_sf.write.mode(\"overwrite\").save_as_table(\"FDC_HORIZONTAL.O2C_SCHEMA.BRONZE_PRODUCT_DATA\")"
   ]
  },
  {
   "cell_type": "markdown",
   "id": "b672d4ea-a976-4303-8d57-0dac9723a494",
   "metadata": {},
   "source": [
    "# Status Scenarios for data Manipulation"
   ]
  },
  {
   "cell_type": "code",
   "execution_count": 102,
   "id": "5dc559c5-1a3c-405e-a2d9-bb9e73010a8b",
   "metadata": {},
   "outputs": [],
   "source": [
    "order_status = ['Approved','Rejected','Cancelled']\n",
    "shipment_status = ['Pending','Picked','Shipped','In-Transit','Delivered','Returned']\n",
    "invoice_status = ['PendingApproval','Approved','Sent','Paid','Cancelled']"
   ]
  },
  {
   "cell_type": "code",
   "execution_count": null,
   "id": "8a1ac885-6492-442d-b044-dddaef9b651c",
   "metadata": {},
   "outputs": [],
   "source": [
    "import itertools"
   ]
  },
  {
   "cell_type": "code",
   "execution_count": null,
   "id": "f0fd338e-36d7-4b6a-9705-3ed6ffbe6253",
   "metadata": {},
   "outputs": [],
   "source": [
    "# Generate all possible combinations of statuses\n",
    "combinations = list(itertools.product(order_status,shipment_status,invoice_status))"
   ]
  },
  {
   "cell_type": "code",
   "execution_count": null,
   "id": "40f0bdda-9dc8-481b-bb4d-ddc250601890",
   "metadata": {},
   "outputs": [],
   "source": [
    "# Create a DataFrame to store the combinations\n",
    "columns = [\"order_status\", \"shipment_status\", \"invoice_status\"]\n",
    "df = pd.DataFrame(combinations, columns=columns)"
   ]
  },
  {
   "cell_type": "code",
   "execution_count": null,
   "id": "d5664df7-bf8d-49b7-b387-b896d1ba2d03",
   "metadata": {},
   "outputs": [],
   "source": [
    "df[df['order_status']=='Approved']"
   ]
  },
  {
   "cell_type": "markdown",
   "id": "1ce73b29-9fbb-4dfb-ac6f-63d5fa3c342e",
   "metadata": {},
   "source": [
    "# Setup Order, OrderItems, Shipment and Invoice Data for Fulfilled Orders"
   ]
  },
  {
   "cell_type": "code",
   "execution_count": null,
   "id": "7a4f74c1-e35f-42c2-a0b0-9f519e4cfbc3",
   "metadata": {},
   "outputs": [],
   "source": [
    "from fosforml.model_manager.snowflakesession import get_session\n",
    "my_session = get_session()"
   ]
  },
  {
   "cell_type": "code",
   "execution_count": null,
   "id": "4de13013-1a1d-4aa0-bc45-e6a986f5ebfa",
   "metadata": {},
   "outputs": [],
   "source": [
    "table_name = 'BRONZE_CUSTOMER_DATA'\n",
    "\n",
    "sf_df = my_session.sql(\"select * from {}\".format(table_name))\n",
    "df_customers = sf_df.to_pandas()"
   ]
  },
  {
   "cell_type": "code",
   "execution_count": null,
   "id": "0036fe35-b725-4575-a97b-c738141c3283",
   "metadata": {},
   "outputs": [],
   "source": [
    "table_name = 'BRONZE_PRODUCT_DATA'\n",
    "\n",
    "sf_df = my_session.sql(\"select * from {}\".format(table_name))\n",
    "df_product = sf_df.to_pandas()"
   ]
  },
  {
   "cell_type": "code",
   "execution_count": null,
   "id": "34bff2de-ab38-457a-9cca-e1634ff3b308",
   "metadata": {},
   "outputs": [],
   "source": [
    "# Assuming you already have the customers and products dataframes\n",
    "customers = df_customers['CUSTOMERID'].tolist()\n",
    "products = df_product[['PRODUCTID', 'UNITPRICE']].to_dict('records')"
   ]
  },
  {
   "cell_type": "code",
   "execution_count": null,
   "id": "a7b374ae-4410-4fd5-879b-6de389b6b012",
   "metadata": {},
   "outputs": [],
   "source": [
    "# Function to generate a random date between two dates\n",
    "def random_date(start_date, end_date):\n",
    "    delta = end_date - start_date\n",
    "    random_days = random.randint(0, delta.days)\n",
    "    return start_date + timedelta(days=random_days)"
   ]
  },
  {
   "cell_type": "code",
   "execution_count": null,
   "id": "d86da7bc-a813-4bad-bf52-798e031f0dce",
   "metadata": {},
   "outputs": [],
   "source": [
    "# Define the date range\n",
    "from datetime import datetime, timedelta\n",
    "\n",
    "start_date = datetime.strptime('08-01-2022', '%m-%d-%Y')\n",
    "end_date = datetime.strptime('09-01-2024', '%m-%d-%Y')"
   ]
  },
  {
   "cell_type": "code",
   "execution_count": null,
   "id": "1c4c7c31-5dba-49c2-97e7-d9a647191367",
   "metadata": {},
   "outputs": [],
   "source": [
    "def add_days(input_date, range1, range2):\n",
    "\n",
    "    if isinstance(input_date, str):    \n",
    "    # Convert orderdate string back to datetime object\n",
    "        input_date = datetime.strptime(input_date, '%m-%d-%Y')\n",
    "\n",
    "    # Generate a random number of days \n",
    "    additional_days = random.randint(range1, range2)\n",
    "\n",
    "    # Calculate the new date\n",
    "    new_date = input_date + timedelta(days=additional_days)\n",
    "\n",
    "    # Convert the new date back to string if needed\n",
    "    new_date = new_date.strftime('%m-%d-%Y')\n",
    "\n",
    "    return new_date"
   ]
  },
  {
   "cell_type": "code",
   "execution_count": null,
   "id": "0de40823-81d8-443f-9e0e-f4a4e018ff2b",
   "metadata": {},
   "outputs": [],
   "source": [
    "df_product"
   ]
  },
  {
   "cell_type": "code",
   "execution_count": null,
   "id": "804e9df8-6e87-407c-a230-694bc2b581a2",
   "metadata": {},
   "outputs": [],
   "source": [
    "# List to store orders\n",
    "orders_fulfill = []\n",
    "items_fulfill = []\n",
    "shipment_fulfill = []\n",
    "invoice_fulfill = []\n",
    "\n",
    "# Generate orders\n",
    "for i in range(100000):\n",
    "    # Filter products matching the customer's type\n",
    "    customer = df_customers.sample(n=1)\n",
    "    matching_products = df_product[df_product['PRODUCTCATEGORY'] == customer.iloc[0]['CUSTOMERTYPE']]\n",
    "    num_items = random.choice([1,2,3])  # Each order has a random number of items between 1 and 3\n",
    "\n",
    "    customerid = customer.iloc[0]['CUSTOMERID']\n",
    "    orderid = 'OR-' + fake.uuid4()\n",
    "    orderdate = random_date(start_date, end_date).strftime('%m-%d-%Y')\n",
    "    orderstatus = 'Approved'\n",
    "    orderamount = 0\n",
    "    ordercount = 0\n",
    "    \n",
    "    shipmentid = 'SP-' + fake.uuid4()\n",
    "    shipmentdate = add_days(orderdate, 2,7)\n",
    "    deliverydate = add_days(shipmentdate, 1,4)\n",
    "    deliveredOn = add_days(deliverydate,0,3) \n",
    "\n",
    "    invoiceid = 'IN-' + fake.uuid4()\n",
    "    invoicedate = add_days(deliveredOn,0,2)\n",
    "    invoiceduedate = add_days(invoicedate,5,7)\n",
    "    \n",
    "    paymentdate = add_days(invoicedate,1,15)\n",
    "    \n",
    "    for _ in range(num_items):\n",
    "        products = matching_products.sample(n=1)\n",
    "        product_type = products.iloc[0]['PRODUCTTYPE']\n",
    "        quantity = random.randint(1, products.iloc[0]['QUANTITY'])  # Generate a random quantity for each order item\n",
    "        unit_price = products.iloc[0]['UNITPRICE']\n",
    "        total_price = quantity * unit_price\n",
    "        orderamount += total_price\n",
    "        ordercount += 1\n",
    "        matching_products = matching_products[matching_products['PRODUCTTYPE'] != product_type]\n",
    "        orderitemid = 'OI-' + fake.uuid4()\n",
    "\n",
    "\n",
    "        items_dict = {\n",
    "            'ORDERID' : orderid,\n",
    "            'ORDERITEMID': orderitemid,\n",
    "            'PRODUCTID': products.iloc[0]['PRODUCTID'],\n",
    "            'PRODUCTNAME' : products.iloc[0]['PRODUCTTYPE'],\n",
    "            'ORDERQUANTITY' :quantity,\n",
    "            'UNITPRICE' : unit_price,\n",
    "            'ORDERVALUE' : total_price\n",
    "        }\n",
    "\n",
    "        items_fulfill.append(items_dict)\n",
    "\n",
    "    orders_dict = {\n",
    "        'ORDERID' : orderid,\n",
    "        'CUSTOMERID': customerid,\n",
    "        'CUSTOMERNAME': customer.iloc[0]['CUSTOMERNAME'],\n",
    "        'PRODUCTID': matching_products.iloc[0]['PRODUCTID'],\n",
    "        'PRODUCTCATEGORY': matching_products.iloc[0]['PRODUCTCATEGORY'],\n",
    "        'ORDERDATE': orderdate,\n",
    "        'ORDERSTATUS': orderstatus,\n",
    "        'ORDERAMOUNT' :orderamount,\n",
    "        'ORDERCOUNT' : ordercount\n",
    "    }\n",
    "\n",
    "    orders_fulfill.append(orders_dict)\n",
    "\n",
    "    shipment_dict = {\n",
    "        'SHIPMENTID': shipmentid,\n",
    "        'ORDERID' : orderid,\n",
    "        'SHIPMENTDATE': shipmentdate,\n",
    "        'DELIVERYDATE': deliverydate,\n",
    "        'DELIVEREDON' :deliveredOn,\n",
    "        'CARRIER' : random.choice(['FedEx', 'UPS', 'DHL', 'USPS']),\n",
    "        'SHIPMENTSTATUS' : 'Delivered'\n",
    "    }\n",
    "\n",
    "    shipment_fulfill.append(shipment_dict)\n",
    "\n",
    "    invoice_dict = {\n",
    "        'INVOICEID': invoiceid,\n",
    "        'ORDERID' : orderid,\n",
    "        'INVOICEDATE': invoicedate,\n",
    "        'INVOICEDUEDATE': invoiceduedate,\n",
    "        'PAYMENTDATE' : paymentdate,\n",
    "        'INVOICESTATUS': 'Paid',\n",
    "        'PAYMENTMETHOD': random.choice(['Wire Transfers','Cards','Cash','Checks','Mobile Payments'])\n",
    "    }\n",
    "\n",
    "    invoice_fulfill.append(invoice_dict)"
   ]
  },
  {
   "cell_type": "code",
   "execution_count": null,
   "id": "9fa57431-b965-47c1-9685-05990d39fe7e",
   "metadata": {},
   "outputs": [],
   "source": [
    "# Create a DataFrame for orders\n",
    "df_orders_fulfill = pd.DataFrame(orders_fulfill)\n",
    "df_items_fulfill = pd.DataFrame(items_fulfill)\n",
    "df_shipment_fulfill = pd.DataFrame(shipment_fulfill)\n",
    "df_invoice_fulfill = pd.DataFrame(invoice_fulfill)"
   ]
  },
  {
   "cell_type": "code",
   "execution_count": null,
   "id": "2e9c4a1d-b733-4fb3-897b-9b77d7ab9794",
   "metadata": {},
   "outputs": [],
   "source": [
    "df_orders_fulfill.head()"
   ]
  },
  {
   "cell_type": "code",
   "execution_count": null,
   "id": "43a64589-eeac-483c-8e52-9c187f808f25",
   "metadata": {},
   "outputs": [],
   "source": [
    "df_shipment_fulfill.head(5)"
   ]
  },
  {
   "cell_type": "code",
   "execution_count": null,
   "id": "e700e300-d22d-4947-94d5-88ca75fdd84e",
   "metadata": {},
   "outputs": [],
   "source": [
    "df_invoice_fulfill.head(5)"
   ]
  },
  {
   "cell_type": "markdown",
   "id": "613f2750-0ae9-4d89-b05a-cc2646e17dc9",
   "metadata": {},
   "source": [
    "# Setup Order, OrderItems, Shipment and Invoice Data for recent Pending Orders"
   ]
  },
  {
   "cell_type": "code",
   "execution_count": null,
   "id": "9e78ecb8-2cba-4e12-a4b3-3f52215830e0",
   "metadata": {},
   "outputs": [],
   "source": [
    "# List to store orders\n",
    "orders_fulfill_1 = []\n",
    "items_fulfill_1 = []\n",
    "shipment_fulfill_1 = []\n",
    "invoice_fulfill_1 = []\n",
    "\n",
    "start_date = datetime.strptime('08-15-2024', '%m-%d-%Y')\n",
    "end_date = datetime.strptime('09-15-2024', '%m-%d-%Y')\n",
    "\n",
    "# Generate orders\n",
    "for i in range(1500):\n",
    "    # Filter products matching the customer's type\n",
    "    customer = df_customers.sample(n=1)\n",
    "    matching_products = df_product[df_product['PRODUCTCATEGORY'] == customer.iloc[0]['CUSTOMERTYPE']]\n",
    "    num_items = random.choice([1,2,3])  # Each order has a random number of items between 1 and 3\n",
    "\n",
    "    customerid = customer.iloc[0]['CUSTOMERID']\n",
    "    orderid = 'OR-' + fake.uuid4()\n",
    "    orderdate = random_date(start_date, end_date).strftime('%m-%d-%Y')\n",
    "    orderstatus = 'Approved'\n",
    "    orderamount = 0\n",
    "    ordercount = 0\n",
    "    \n",
    "    shipmentid = 'SP-' + fake.uuid4()\n",
    "    shipmentdate = add_days(orderdate, 2,7)\n",
    "    deliverydate = add_days(shipmentdate, 1,4)\n",
    "    deliveredOn = add_days(deliverydate,0,3) \n",
    "\n",
    "    invoiceid = 'IN-' + fake.uuid4()\n",
    "    invoicedate = add_days(deliveredOn,0,2)\n",
    "    invoiceduedate = add_days(invoicedate,5,7)\n",
    "    paymentdate = add_days(invoicedate,1,15)\n",
    "\n",
    "    shipment_status =  random.choice(['Picked','Shipped','In-Transit','Delivered'])\n",
    "    invoice_status = ''\n",
    "    if shipment_status == 'Delivered':\n",
    "        invoice_status = 'Sent'\n",
    "    else:\n",
    "        invoice_status = random.choice(['PendingApproval','Approved'])\n",
    "        invoicedate = '12-31-9999'\n",
    "        invoiceduedate = '12-31-9999'\n",
    "        paymentdate = '12-31-9999'\n",
    "        deliveredOn = '12-31-9999'\n",
    "\n",
    "    for _ in range(num_items):\n",
    "        products = matching_products.sample(n=1)\n",
    "        product_type = products.iloc[0]['PRODUCTTYPE']\n",
    "        quantity = random.randint(1, products.iloc[0]['QUANTITY'])  # Generate a random quantity for each order item\n",
    "        unit_price = products.iloc[0]['UNITPRICE']\n",
    "        total_price = quantity * unit_price\n",
    "        orderamount += total_price\n",
    "        ordercount += 1\n",
    "        matching_products = matching_products[matching_products['PRODUCTTYPE'] != product_type]\n",
    "        orderitemid = 'OI-' + fake.uuid4()\n",
    "        \n",
    "        items_dict = {\n",
    "            'ORDERID' : orderid,\n",
    "            'ORDERITEMID': orderitemid,\n",
    "            'PRODUCTID': products.iloc[0]['PRODUCTID'],\n",
    "            'PRODUCTNAME' : products.iloc[0]['PRODUCTTYPE'],\n",
    "            'ORDERQUANTITY' :quantity,\n",
    "            'UNITPRICE' : unit_price,\n",
    "            'ORDERVALUE' : total_price\n",
    "        }\n",
    "\n",
    "        items_fulfill_1.append(items_dict)\n",
    "\n",
    "    orders_dict = {\n",
    "        'ORDERID' : orderid,\n",
    "        'CUSTOMERID': customerid,\n",
    "        'CUSTOMERNAME': customer.iloc[0]['CUSTOMERNAME'],\n",
    "        'PRODUCTID': matching_products.iloc[0]['PRODUCTID'],\n",
    "        'PRODUCTCATEGORY': matching_products.iloc[0]['PRODUCTCATEGORY'],\n",
    "        'ORDERDATE': orderdate,\n",
    "        'ORDERSTATUS': orderstatus,\n",
    "        'ORDERAMOUNT' :orderamount,\n",
    "        'ORDERCOUNT' : ordercount\n",
    "    }\n",
    "\n",
    "    orders_fulfill_1.append(orders_dict)\n",
    "\n",
    "    shipment_dict = {\n",
    "        'SHIPMENTID': shipmentid,\n",
    "        'ORDERID' : orderid,\n",
    "        'SHIPMENTDATE': shipmentdate,\n",
    "        'DELIVERYDATE': deliverydate,\n",
    "        'DELIVEREDON' :deliveredOn,\n",
    "        'CARRIER' : random.choice(['FedEx', 'UPS', 'DHL', 'USPS']),\n",
    "        'SHIPMENTSTATUS' : shipment_status\n",
    "    }\n",
    "\n",
    "    shipment_fulfill_1.append(shipment_dict)\n",
    "\n",
    "    invoice_dict = {\n",
    "        'INVOICEID': invoiceid,\n",
    "        'ORDERID' : orderid,\n",
    "        'INVOICEDATE': invoicedate,\n",
    "        'INVOICEDUEDATE': invoiceduedate,\n",
    "        'PAYMENTDATE' : paymentdate,\n",
    "        'INVOICESTATUS': invoice_status,\n",
    "        'PAYMENTMETHOD': 'Not-Applicable'\n",
    "    }\n",
    "\n",
    "    invoice_fulfill_1.append(invoice_dict)"
   ]
  },
  {
   "cell_type": "code",
   "execution_count": null,
   "id": "077cf502-6fb2-42ff-8294-59ddbbf48218",
   "metadata": {},
   "outputs": [],
   "source": [
    "# Create a DataFrame for orders\n",
    "df_orders_fulfill_1 = pd.DataFrame(orders_fulfill_1)\n",
    "df_items_fulfill_1 = pd.DataFrame(items_fulfill_1)\n",
    "df_shipment_fulfill_1 = pd.DataFrame(shipment_fulfill_1)\n",
    "df_invoice_fulfill_1 = pd.DataFrame(invoice_fulfill_1)"
   ]
  },
  {
   "cell_type": "code",
   "execution_count": null,
   "id": "34e6a192-5c7e-4257-a72d-17d0090d2374",
   "metadata": {},
   "outputs": [],
   "source": [
    "df_orders_fulfill_1.head(2)"
   ]
  },
  {
   "cell_type": "code",
   "execution_count": null,
   "id": "5e7f0b24-ae47-4fb5-aeba-d20fb5877e51",
   "metadata": {},
   "outputs": [],
   "source": [
    "df_items_fulfill_1.head(2)"
   ]
  },
  {
   "cell_type": "code",
   "execution_count": null,
   "id": "bb4c77cc-8b0b-4dca-8783-91c264f794a5",
   "metadata": {},
   "outputs": [],
   "source": [
    "df_shipment_fulfill_1.head()"
   ]
  },
  {
   "cell_type": "code",
   "execution_count": null,
   "id": "5b55dda6-3103-47b1-907c-ec3b836d2c0d",
   "metadata": {},
   "outputs": [],
   "source": [
    "df_invoice_fulfill_1.head(3)"
   ]
  },
  {
   "cell_type": "code",
   "execution_count": null,
   "id": "150eea50-f9bf-456b-9a54-0e59f911cbba",
   "metadata": {},
   "outputs": [],
   "source": [
    "df_orders = pd.concat([df_orders_fulfill,df_orders_fulfill_1],axis=1)\n",
    "df_items = pd.concat([items_fulfill,items_fulfill_1],axis=1)\n",
    "df_shipments = pd.concat([shipment_fulfill,shipment_fulfill_1],axis=1)\n",
    "df_invoice = pd.concat([invoice_fulfill,invoice_fulfill_1],axis=1)"
   ]
  },
  {
   "cell_type": "code",
   "execution_count": null,
   "id": "fae9ee56-953b-4068-b008-bb8ced8c8f44",
   "metadata": {},
   "outputs": [],
   "source": [
    "df_train_sf=my_session.createDataFrame(\n",
    "        df_orders.values.tolist(),\n",
    "        schema=df_orders.columns.tolist())\n",
    "df_train_sf.write.mode(\"overwrite\").save_as_table(\"FDC_HORIZONTAL.O2C_SCHEMA.BRONZE_ORDERS_DATA\")"
   ]
  },
  {
   "cell_type": "code",
   "execution_count": null,
   "id": "011936d8-60d4-4125-adc1-9369bfac4d4c",
   "metadata": {},
   "outputs": [],
   "source": [
    "df_train_sf=my_session.createDataFrame(\n",
    "        df_items.values.tolist(),\n",
    "        schema=df_items.columns.tolist())\n",
    "df_train_sf.write.mode(\"overwrite\").save_as_table(\"FDC_HORIZONTAL.O2C_SCHEMA.BRONZE_ITEMS_DATA\")"
   ]
  },
  {
   "cell_type": "code",
   "execution_count": null,
   "id": "f3ba6283-f7b6-4c3c-8056-9ea3223c5458",
   "metadata": {},
   "outputs": [],
   "source": [
    "df_train_sf=my_session.createDataFrame(\n",
    "        df_shipments.values.tolist(),\n",
    "        schema=df_shipments.columns.tolist())\n",
    "df_train_sf.write.mode(\"overwrite\").save_as_table(\"FDC_HORIZONTAL.O2C_SCHEMA.BRONZE_SHIPMENTS_DATA\")"
   ]
  },
  {
   "cell_type": "code",
   "execution_count": null,
   "id": "047ef9f5-b52f-423e-9b72-43ebec2fb3d4",
   "metadata": {},
   "outputs": [],
   "source": [
    "df_train_sf=my_session.createDataFrame(\n",
    "        df_invoice.values.tolist(),\n",
    "        schema=df_invoice.columns.tolist())\n",
    "df_train_sf.write.mode(\"overwrite\").save_as_table(\"FDC_HORIZONTAL.O2C_SCHEMA.BRONZE_INVOICE_DATA\")"
   ]
  },
  {
   "cell_type": "code",
   "execution_count": null,
   "id": "8271ca1d-c983-476b-b8a5-c0b364a62741",
   "metadata": {},
   "outputs": [],
   "source": []
  }
 ],
 "metadata": {
  "kernelspec": {
   "display_name": "Python 3 (ipykernel)",
   "language": "python",
   "name": "python3"
  },
  "language_info": {
   "codemirror_mode": {
    "name": "ipython",
    "version": 3
   },
   "file_extension": ".py",
   "mimetype": "text/x-python",
   "name": "python",
   "nbconvert_exporter": "python",
   "pygments_lexer": "ipython3",
   "version": "3.9.19"
  }
 },
 "nbformat": 4,
 "nbformat_minor": 5
}
