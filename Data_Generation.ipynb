{
 "cells": [
  {
   "cell_type": "markdown",
   "id": "2d34ae5a-faea-40ee-a3b6-5fadbe1eaaf7",
   "metadata": {},
   "source": [
    "# Use O2C_Template Customized Notebook Template"
   ]
  },
  {
   "cell_type": "code",
   "execution_count": 297,
   "id": "2beea587-4333-4656-bfee-093ba7f23584",
   "metadata": {},
   "outputs": [],
   "source": [
    "import random\n",
    "from faker import Faker\n",
    "import pandas as pd"
   ]
  },
  {
   "cell_type": "code",
   "execution_count": 298,
   "id": "f8266d50-ee22-4d91-9192-dc0d440cd79a",
   "metadata": {},
   "outputs": [],
   "source": [
    "from fosforml.model_manager.snowflakesession import get_session\n",
    "my_session = get_session()"
   ]
  },
  {
   "cell_type": "code",
   "execution_count": 299,
   "id": "1f98c5d3-707d-401b-affc-84f3e461cc76",
   "metadata": {},
   "outputs": [],
   "source": [
    "fake = Faker('en_US')"
   ]
  },
  {
   "cell_type": "markdown",
   "id": "cbec74e9-70b1-4854-8775-5f2d9b650f5c",
   "metadata": {},
   "source": [
    "# Customer Data Setup"
   ]
  },
  {
   "cell_type": "code",
   "execution_count": 300,
   "id": "af2c39b9-7b8e-43be-8b08-cce794105a42",
   "metadata": {},
   "outputs": [],
   "source": [
    "# Generate Customers\n",
    "def generate_customers(num_customers=150):\n",
    "    customers = []\n",
    "    for _ in range(num_customers):\n",
    "        customer = {\n",
    "            'CustomerID': 'CID-' + fake.uuid4(),\n",
    "            'Name': fake.company(),\n",
    "            'CompanyType':fake.company_suffix(),\n",
    "            'ContactDetails': fake.phone_number(),\n",
    "            'EmailDetails': fake.company_email(),\n",
    "            'AddressDetails':fake.address(),\n",
    "            'AdminDetails':fake.administrative_unit(),\n",
    "            'CreditLimit': random.randint(10000, 100000),\n",
    "            'CreditRating': random.choice(['very poor', 'fair', 'good', 'very good','exceptional'])\n",
    "        }\n",
    "        customers.append(customer)\n",
    "    return customers"
   ]
  },
  {
   "cell_type": "code",
   "execution_count": 301,
   "id": "328db935-ea4a-42d5-b820-d7ffd94eef9b",
   "metadata": {},
   "outputs": [],
   "source": [
    "# Generate Data\n",
    "customers = generate_customers()"
   ]
  },
  {
   "cell_type": "code",
   "execution_count": 302,
   "id": "e599762c-4447-4a35-b8cc-236151119a00",
   "metadata": {},
   "outputs": [],
   "source": [
    "customers_name = ['CleverOffice','Stackers','PreScott Works','MomentA','BOXED'\n",
    ",'JinkOffice','HomeEssentials','BallPoint','WhaleBack','Formica'\n",
    ",'Starton Inc','Anabrige LLP','Hammers and Nails','BoreHole LLC'\n",
    ",'Indra Secure Co-rp','CortiTech ITC','DOLCH ','Sutura'\n",
    ",'StarStruck LLC','BARCTL LLC','Limae Inc','Rivet','Marathon'\n",
    ",'Valiant','Filum','TautaLog','Pin&Fix','JamPack','MasterStik'\n",
    ",'CLIC','Nestables','CAPSTASH','Tappit','MashMart','TruSource'\n",
    ",'ODD Sends','Pen Scoop','ASCRIBE LLP','Wire works','EXPRESSR'\n",
    ",'FULCRO','SOLID BOX','LYSIS Logo','CARDIOID','Herculean Inc'\n",
    ",'OTTAVA','BLUE Ribbon','Master Bind ','Thinkies','Five Point'\n",
    ",'Connect iBuy','Lion Mark','Deskify','BestTry','PLOTSHOP'\n",
    ",'Office Fuel','Oasis Cuff','CoraPress','SuperShapes','BeeBows'\n",
    ",'Locale Mart','TetherLink','Comestor','Knox Paper','NECESSITE'\n",
    ",'Corner Spike','SPACE MAX','Easy Dealy','Star Tech','KLIXX'\n",
    ",'Phyllon LLP','Planisphere','A1 Creased','ONYX','HomeBright'\n",
    ",'NextBolt','Pinch Hops','Popplin','Mercer and Sons','Jackson-Hughes'\n",
    ",'Moran Ltd','Baldwin PLC','Tucker Ltd','Allen Inc','Rodriguez Group'\n",
    ",'Taylor Ltd','Mahoney PLC','Robinson Group','Mcmillan LLC'\n",
    ",'Bailey-Roberts','Rivera PLC','Potter Group','Mckay-Davis','Valencia Group'\n",
    ",'Haynes-Jackson','Klein Inc','Davis-Rose','Watson-Miller','Smith LLC'\n",
    ",'Jackson and Sons'\n",
    ",'BrightWorks', 'EcoSphere', 'TechWave', 'PrimeSource', 'Apex Innovations',\n",
    "'GreenLeaf', 'UrbanEdge', 'Quantum Solutions', 'Vertex Ventures', 'NexGen',\n",
    "'FusionCorp', 'BlueSky Enterprises', 'PioneerTech', 'Elite Systems', 'Skyline Industries',\n",
    "'ProActive', 'Innovatech', 'CoreDynamics', 'SynergyWorks', 'NextEra',\n",
    "'Optima', 'Zenith', 'Vanguard', 'Summit Solutions', 'Infinity Group',\n",
    "'AlphaTech', 'GlobalReach', 'MetroLink', 'Visionary', 'DynamicEdge',\n",
    "'PrimeTech', 'FutureWave', 'EcoTech', 'UrbanCore', 'SkyHigh',\n",
    "'ProLink', 'Innovative Solutions', 'CoreTech', 'SynergyCorp', 'NextGen Solutions',\n",
    "'OptiMax', 'Zenith Enterprises', 'Vanguard Innovations', 'SummitTech', 'Infinity Solutions',\n",
    "'Alpha Innovations', 'GlobalTech', 'MetroTech', 'Visionary Solutions', 'Dynamic Innovations']"
   ]
  },
  {
   "cell_type": "code",
   "execution_count": 303,
   "id": "616d70cc-8317-4ed6-8925-ffef0b810031",
   "metadata": {},
   "outputs": [],
   "source": [
    "df_customers = pd.DataFrame(customers)"
   ]
  },
  {
   "cell_type": "code",
   "execution_count": 304,
   "id": "5b6f0666-fe97-4821-a3ab-eb307cb087a7",
   "metadata": {},
   "outputs": [],
   "source": [
    "df_customers['CustomerName'] = customers_name"
   ]
  },
  {
   "cell_type": "code",
   "execution_count": 305,
   "id": "4b48bd5d-964e-4330-bd5b-aaa62b1a158b",
   "metadata": {},
   "outputs": [],
   "source": [
    "CustomerType = ['Construction Materials','Office Supplies','Construction Materials','Food Beverages'\n",
    ",'Office Supplies','Construction Materials','Healthcare','Food Beverages','Automotive'\n",
    ",'Food Beverages','Food Beverages','Construction Materials','Construction Materials'\n",
    ",'Construction Materials','Automotive','Food Beverages','Food Beverages','Food Beverages'\n",
    ",'Consumer Goods','Consumer Goods','Healthcare','Office Supplies','Office Supplies'\n",
    ",'Office Supplies','Healthcare','Office Supplies','Construction Materials','Office Supplies'\n",
    ",'Office Supplies','Office Supplies','Food Beverages','Consumer Goods','Consumer Goods'\n",
    ",'Food Beverages','Office Supplies','Office Supplies','Food Beverages','Office Supplies'\n",
    ",'Construction Materials','Food Beverages','Automotive','Office Supplies','Office Supplies'\n",
    ",'Consumer Goods','Automotive','Food Beverages','Office Supplies','Office Supplies'\n",
    ",'Food Beverages','Food Beverages','Food Beverages','Food Beverages','Consumer Goods'\n",
    ",'Healthcare','Food Beverages','Healthcare','Food Beverages','Food Beverages','Healthcare'\n",
    ",'Automotive','Food Beverages','Food Beverages','Food Beverages','Consumer Goods'\n",
    ",'Healthcare','Food Beverages','Automotive','Consumer Goods','Food Beverages'\n",
    ",'Food Beverages','Consumer Goods','Consumer Goods','Automotive','Consumer Goods'\n",
    ",'Consumer Goods','Construction Materials','Consumer Goods','Consumer Goods','Consumer Goods'\n",
    ",'Consumer Goods','Industrial Equipment','Industrial Equipment','Industrial Equipment'\n",
    ",'Industrial Equipment','Consumer Goods','Industrial Equipment','Healthcare','Healthcare'\n",
    ",'Healthcare','Automotive','Industrial Equipment','Construction Materials','Automotive'\n",
    ",'Construction Materials','Consumer Goods','Consumer Goods','Consumer Goods','Consumer Goods'\n",
    ",'Industrial Equipment','Consumer Goods'\n",
    ",'Office Supplies','Office Supplies','Office Supplies','Office Supplies','Office Supplies'\n",
    ",'Consumer Goods','Consumer Goods','Consumer Goods','Consumer Goods','Consumer Goods'\n",
    ",'Food Beverages','Food Beverages','Food Beverages','Food Beverages','Food Beverages'\n",
    ",'Construction Materials','Construction Materials','Construction Materials','Construction Materials','Construction Materials'\n",
    ",'Healthcare','Healthcare','Healthcare','Healthcare','Healthcare'\n",
    ",'Automotive','Automotive','Automotive','Automotive','Automotive'\n",
    ",'Industrial Equipment','Industrial Equipment','Industrial Equipment','Industrial Equipment','Industrial Equipment'\n",
    ",'Office Supplies','Office Supplies','Office Supplies','Office Supplies','Office Supplies'\n",
    ",'Consumer Goods','Consumer Goods','Consumer Goods','Consumer Goods','Consumer Goods'\n",
    ",'Food Beverages','Food Beverages','Food Beverages','Food Beverages','Food Beverages']                "
   ]
  },
  {
   "cell_type": "code",
   "execution_count": 306,
   "id": "6b51cb69-27c4-49ad-aa5b-66caa5f9d8ba",
   "metadata": {},
   "outputs": [],
   "source": [
    "df_customers['CustomerType'] = CustomerType"
   ]
  },
  {
   "cell_type": "code",
   "execution_count": 307,
   "id": "240871bb-ea7b-484b-bd3e-3dc999fbd853",
   "metadata": {},
   "outputs": [],
   "source": [
    "df_customers.columns = ['CustomerID', 'Name', 'CompanyType', 'ContactDetails', 'EmailDetails',\n",
    "       'AddressDetails', 'AdminDetails', 'CreditLimit', 'CreditRating','CustomerName','CustomerType']"
   ]
  },
  {
   "cell_type": "code",
   "execution_count": 308,
   "id": "fa30dcfa-e614-49dd-88ec-0781f27480b2",
   "metadata": {},
   "outputs": [
    {
     "data": {
      "text/html": [
       "<div>\n",
       "<style scoped>\n",
       "    .dataframe tbody tr th:only-of-type {\n",
       "        vertical-align: middle;\n",
       "    }\n",
       "\n",
       "    .dataframe tbody tr th {\n",
       "        vertical-align: top;\n",
       "    }\n",
       "\n",
       "    .dataframe thead th {\n",
       "        text-align: right;\n",
       "    }\n",
       "</style>\n",
       "<table border=\"1\" class=\"dataframe\">\n",
       "  <thead>\n",
       "    <tr style=\"text-align: right;\">\n",
       "      <th></th>\n",
       "      <th>CustomerID</th>\n",
       "      <th>Name</th>\n",
       "      <th>CompanyType</th>\n",
       "      <th>ContactDetails</th>\n",
       "      <th>EmailDetails</th>\n",
       "      <th>AddressDetails</th>\n",
       "      <th>AdminDetails</th>\n",
       "      <th>CreditLimit</th>\n",
       "      <th>CreditRating</th>\n",
       "      <th>CustomerName</th>\n",
       "      <th>CustomerType</th>\n",
       "    </tr>\n",
       "  </thead>\n",
       "  <tbody>\n",
       "    <tr>\n",
       "      <th>0</th>\n",
       "      <td>CID-42cc6ee8-d788-484e-ac5c-3a1e47f9467d</td>\n",
       "      <td>Wagner-Craig</td>\n",
       "      <td>PLC</td>\n",
       "      <td>389-578-4678</td>\n",
       "      <td>xjohnson@henderson.com</td>\n",
       "      <td>43898 Abigail Knoll Suite 869\\nCharlesberg, NH...</td>\n",
       "      <td>New Jersey</td>\n",
       "      <td>57511</td>\n",
       "      <td>good</td>\n",
       "      <td>CleverOffice</td>\n",
       "      <td>Construction Materials</td>\n",
       "    </tr>\n",
       "    <tr>\n",
       "      <th>1</th>\n",
       "      <td>CID-eba3c7fa-cc57-4051-8a76-dde0e47db2e7</td>\n",
       "      <td>Mann, Kelly and Khan</td>\n",
       "      <td>Group</td>\n",
       "      <td>+1-179-755-1696x2901</td>\n",
       "      <td>bclark@cardenas-barnett.com</td>\n",
       "      <td>3779 Mark Coves\\nSouth Travisborough, GA 89822</td>\n",
       "      <td>Kentucky</td>\n",
       "      <td>73420</td>\n",
       "      <td>very good</td>\n",
       "      <td>Stackers</td>\n",
       "      <td>Office Supplies</td>\n",
       "    </tr>\n",
       "    <tr>\n",
       "      <th>2</th>\n",
       "      <td>CID-43838ec1-3120-4e02-b30d-99d4c8407020</td>\n",
       "      <td>Campbell PLC</td>\n",
       "      <td>Group</td>\n",
       "      <td>261-012-7822</td>\n",
       "      <td>garcialuis@garcia.com</td>\n",
       "      <td>92768 Lowe Manors\\nMitchellhaven, GA 03573</td>\n",
       "      <td>Oregon</td>\n",
       "      <td>45675</td>\n",
       "      <td>fair</td>\n",
       "      <td>PreScott Works</td>\n",
       "      <td>Construction Materials</td>\n",
       "    </tr>\n",
       "    <tr>\n",
       "      <th>3</th>\n",
       "      <td>CID-7d6601ad-162f-45aa-9484-c155e474fdb1</td>\n",
       "      <td>Mendoza Group</td>\n",
       "      <td>Ltd</td>\n",
       "      <td>376-036-2717</td>\n",
       "      <td>christophermoore@matthews.com</td>\n",
       "      <td>47011 Yvette Rapids Suite 702\\nEast Raymond, F...</td>\n",
       "      <td>Colorado</td>\n",
       "      <td>82224</td>\n",
       "      <td>very poor</td>\n",
       "      <td>MomentA</td>\n",
       "      <td>Food Beverages</td>\n",
       "    </tr>\n",
       "    <tr>\n",
       "      <th>4</th>\n",
       "      <td>CID-b5041d0c-3779-4a5f-b821-4a17bc712c15</td>\n",
       "      <td>Olson-Marshall</td>\n",
       "      <td>and Sons</td>\n",
       "      <td>702.730.1971</td>\n",
       "      <td>hbrown@wright-scott.com</td>\n",
       "      <td>722 Ramos Creek\\nLake Becky, NM 80168</td>\n",
       "      <td>New Mexico</td>\n",
       "      <td>37405</td>\n",
       "      <td>good</td>\n",
       "      <td>BOXED</td>\n",
       "      <td>Office Supplies</td>\n",
       "    </tr>\n",
       "  </tbody>\n",
       "</table>\n",
       "</div>"
      ],
      "text/plain": [
       "                                 CustomerID                  Name CompanyType  \\\n",
       "0  CID-42cc6ee8-d788-484e-ac5c-3a1e47f9467d          Wagner-Craig         PLC   \n",
       "1  CID-eba3c7fa-cc57-4051-8a76-dde0e47db2e7  Mann, Kelly and Khan       Group   \n",
       "2  CID-43838ec1-3120-4e02-b30d-99d4c8407020          Campbell PLC       Group   \n",
       "3  CID-7d6601ad-162f-45aa-9484-c155e474fdb1         Mendoza Group         Ltd   \n",
       "4  CID-b5041d0c-3779-4a5f-b821-4a17bc712c15        Olson-Marshall    and Sons   \n",
       "\n",
       "         ContactDetails                   EmailDetails  \\\n",
       "0          389-578-4678         xjohnson@henderson.com   \n",
       "1  +1-179-755-1696x2901    bclark@cardenas-barnett.com   \n",
       "2          261-012-7822          garcialuis@garcia.com   \n",
       "3          376-036-2717  christophermoore@matthews.com   \n",
       "4          702.730.1971        hbrown@wright-scott.com   \n",
       "\n",
       "                                      AddressDetails AdminDetails  \\\n",
       "0  43898 Abigail Knoll Suite 869\\nCharlesberg, NH...   New Jersey   \n",
       "1     3779 Mark Coves\\nSouth Travisborough, GA 89822     Kentucky   \n",
       "2         92768 Lowe Manors\\nMitchellhaven, GA 03573       Oregon   \n",
       "3  47011 Yvette Rapids Suite 702\\nEast Raymond, F...     Colorado   \n",
       "4              722 Ramos Creek\\nLake Becky, NM 80168   New Mexico   \n",
       "\n",
       "   CreditLimit CreditRating    CustomerName            CustomerType  \n",
       "0        57511         good    CleverOffice  Construction Materials  \n",
       "1        73420    very good        Stackers         Office Supplies  \n",
       "2        45675         fair  PreScott Works  Construction Materials  \n",
       "3        82224    very poor         MomentA          Food Beverages  \n",
       "4        37405         good           BOXED         Office Supplies  "
      ]
     },
     "execution_count": 308,
     "metadata": {},
     "output_type": "execute_result"
    }
   ],
   "source": [
    "df_customers.head()"
   ]
  },
  {
   "cell_type": "code",
   "execution_count": 309,
   "id": "a21c77fb-cd0a-4a3e-9e46-a336d9f3bcb8",
   "metadata": {},
   "outputs": [],
   "source": [
    "df_train_sf=my_session.createDataFrame(\n",
    "        df_customers.values.tolist(),\n",
    "        schema=df_customers.columns.tolist())\n",
    "df_train_sf.write.mode(\"overwrite\").save_as_table(\"FDC_HORIZONTAL.O2C_BRONZE.CUSTOMER_DATA\")"
   ]
  },
  {
   "cell_type": "markdown",
   "id": "5e77f373-62ae-4a3d-82f5-5c52f9f52728",
   "metadata": {},
   "source": [
    "# Product Data setup"
   ]
  },
  {
   "cell_type": "code",
   "execution_count": 310,
   "id": "4403a6bc-ed0c-4ea5-a547-e5535a5dc27c",
   "metadata": {},
   "outputs": [],
   "source": [
    "df_product = pd.read_csv('product_files.csv')"
   ]
  },
  {
   "cell_type": "code",
   "execution_count": 311,
   "id": "59d13d94-574f-4015-ab07-f35e2155dbbf",
   "metadata": {},
   "outputs": [
    {
     "data": {
      "text/plain": [
       "(72, 4)"
      ]
     },
     "execution_count": 311,
     "metadata": {},
     "output_type": "execute_result"
    }
   ],
   "source": [
    "df_product.shape"
   ]
  },
  {
   "cell_type": "code",
   "execution_count": 312,
   "id": "ed978545-1470-496d-aa01-2cc04169dbc5",
   "metadata": {},
   "outputs": [
    {
     "data": {
      "text/html": [
       "<div>\n",
       "<style scoped>\n",
       "    .dataframe tbody tr th:only-of-type {\n",
       "        vertical-align: middle;\n",
       "    }\n",
       "\n",
       "    .dataframe tbody tr th {\n",
       "        vertical-align: top;\n",
       "    }\n",
       "\n",
       "    .dataframe thead th {\n",
       "        text-align: right;\n",
       "    }\n",
       "</style>\n",
       "<table border=\"1\" class=\"dataframe\">\n",
       "  <thead>\n",
       "    <tr style=\"text-align: right;\">\n",
       "      <th></th>\n",
       "      <th>ProductCategory</th>\n",
       "      <th>ProductType</th>\n",
       "      <th>Quantity</th>\n",
       "      <th>UnitPrice</th>\n",
       "    </tr>\n",
       "  </thead>\n",
       "  <tbody>\n",
       "    <tr>\n",
       "      <th>0</th>\n",
       "      <td>Office Supplies</td>\n",
       "      <td>Laser Printer</td>\n",
       "      <td>100</td>\n",
       "      <td>425</td>\n",
       "    </tr>\n",
       "    <tr>\n",
       "      <th>1</th>\n",
       "      <td>Office Supplies</td>\n",
       "      <td>Ergonomic Chair</td>\n",
       "      <td>1000</td>\n",
       "      <td>299</td>\n",
       "    </tr>\n",
       "    <tr>\n",
       "      <th>2</th>\n",
       "      <td>Office Supplies</td>\n",
       "      <td>Standing Desk</td>\n",
       "      <td>1000</td>\n",
       "      <td>420</td>\n",
       "    </tr>\n",
       "    <tr>\n",
       "      <th>3</th>\n",
       "      <td>Office Supplies</td>\n",
       "      <td>Wireless Keyboard</td>\n",
       "      <td>1000</td>\n",
       "      <td>78</td>\n",
       "    </tr>\n",
       "    <tr>\n",
       "      <th>4</th>\n",
       "      <td>Office Supplies</td>\n",
       "      <td>Office Stationery Set</td>\n",
       "      <td>1000</td>\n",
       "      <td>15</td>\n",
       "    </tr>\n",
       "  </tbody>\n",
       "</table>\n",
       "</div>"
      ],
      "text/plain": [
       "   ProductCategory            ProductType  Quantity  UnitPrice\n",
       "0  Office Supplies          Laser Printer       100        425\n",
       "1  Office Supplies        Ergonomic Chair      1000        299\n",
       "2  Office Supplies          Standing Desk      1000        420\n",
       "3  Office Supplies      Wireless Keyboard      1000         78\n",
       "4  Office Supplies  Office Stationery Set      1000         15"
      ]
     },
     "execution_count": 312,
     "metadata": {},
     "output_type": "execute_result"
    }
   ],
   "source": [
    "df_product.head()"
   ]
  },
  {
   "cell_type": "code",
   "execution_count": 313,
   "id": "b49099c8-6914-45c6-92ab-c69ef6cd8383",
   "metadata": {},
   "outputs": [],
   "source": [
    "def generate_products(data):\n",
    "    data['ProductID'] = ''\n",
    "    # Iterate over rows and columns\n",
    "    for index, row in data.iterrows():\n",
    "        data.at[index, 'ProductID'] = 'PID-' + fake.uuid4()\n",
    "    return data"
   ]
  },
  {
   "cell_type": "code",
   "execution_count": 314,
   "id": "ccae3d9b-5412-4b7f-9fe2-65902c4f23e3",
   "metadata": {},
   "outputs": [],
   "source": [
    "df_product = generate_products(df_product)"
   ]
  },
  {
   "cell_type": "code",
   "execution_count": 315,
   "id": "ea2990d2-281a-498d-bd97-951d98da813c",
   "metadata": {},
   "outputs": [],
   "source": [
    "df_train_sf=my_session.createDataFrame(\n",
    "        df_product.values.tolist(),\n",
    "        schema=df_product.columns.tolist())\n",
    "df_train_sf.write.mode(\"overwrite\").save_as_table(\"FDC_HORIZONTAL.O2C_BRONZE.PRODUCT_DATA\")"
   ]
  },
  {
   "cell_type": "markdown",
   "id": "b672d4ea-a976-4303-8d57-0dac9723a494",
   "metadata": {},
   "source": [
    "# Status Scenarios for data Manipulation"
   ]
  },
  {
   "cell_type": "code",
   "execution_count": 316,
   "id": "5dc559c5-1a3c-405e-a2d9-bb9e73010a8b",
   "metadata": {},
   "outputs": [],
   "source": [
    "order_status = ['Approved','Rejected','Cancelled']\n",
    "shipment_status = ['Pending','Picked','Shipped','In-Transit','Delivered','Returned']\n",
    "invoice_status = ['PendingApproval','Approved','Sent','Paid','Cancelled']"
   ]
  },
  {
   "cell_type": "code",
   "execution_count": 317,
   "id": "8a1ac885-6492-442d-b044-dddaef9b651c",
   "metadata": {},
   "outputs": [],
   "source": [
    "import itertools"
   ]
  },
  {
   "cell_type": "code",
   "execution_count": 318,
   "id": "f0fd338e-36d7-4b6a-9705-3ed6ffbe6253",
   "metadata": {},
   "outputs": [],
   "source": [
    "# Generate all possible combinations of statuses\n",
    "combinations = list(itertools.product(order_status,shipment_status,invoice_status))"
   ]
  },
  {
   "cell_type": "code",
   "execution_count": 319,
   "id": "40f0bdda-9dc8-481b-bb4d-ddc250601890",
   "metadata": {},
   "outputs": [],
   "source": [
    "# Create a DataFrame to store the combinations\n",
    "columns = [\"order_status\", \"shipment_status\", \"invoice_status\"]\n",
    "df = pd.DataFrame(combinations, columns=columns)"
   ]
  },
  {
   "cell_type": "code",
   "execution_count": 320,
   "id": "d5664df7-bf8d-49b7-b387-b896d1ba2d03",
   "metadata": {},
   "outputs": [
    {
     "data": {
      "text/html": [
       "<div>\n",
       "<style scoped>\n",
       "    .dataframe tbody tr th:only-of-type {\n",
       "        vertical-align: middle;\n",
       "    }\n",
       "\n",
       "    .dataframe tbody tr th {\n",
       "        vertical-align: top;\n",
       "    }\n",
       "\n",
       "    .dataframe thead th {\n",
       "        text-align: right;\n",
       "    }\n",
       "</style>\n",
       "<table border=\"1\" class=\"dataframe\">\n",
       "  <thead>\n",
       "    <tr style=\"text-align: right;\">\n",
       "      <th></th>\n",
       "      <th>order_status</th>\n",
       "      <th>shipment_status</th>\n",
       "      <th>invoice_status</th>\n",
       "    </tr>\n",
       "  </thead>\n",
       "  <tbody>\n",
       "    <tr>\n",
       "      <th>0</th>\n",
       "      <td>Approved</td>\n",
       "      <td>Pending</td>\n",
       "      <td>PendingApproval</td>\n",
       "    </tr>\n",
       "    <tr>\n",
       "      <th>1</th>\n",
       "      <td>Approved</td>\n",
       "      <td>Pending</td>\n",
       "      <td>Approved</td>\n",
       "    </tr>\n",
       "    <tr>\n",
       "      <th>2</th>\n",
       "      <td>Approved</td>\n",
       "      <td>Pending</td>\n",
       "      <td>Sent</td>\n",
       "    </tr>\n",
       "    <tr>\n",
       "      <th>3</th>\n",
       "      <td>Approved</td>\n",
       "      <td>Pending</td>\n",
       "      <td>Paid</td>\n",
       "    </tr>\n",
       "    <tr>\n",
       "      <th>4</th>\n",
       "      <td>Approved</td>\n",
       "      <td>Pending</td>\n",
       "      <td>Cancelled</td>\n",
       "    </tr>\n",
       "    <tr>\n",
       "      <th>5</th>\n",
       "      <td>Approved</td>\n",
       "      <td>Picked</td>\n",
       "      <td>PendingApproval</td>\n",
       "    </tr>\n",
       "    <tr>\n",
       "      <th>6</th>\n",
       "      <td>Approved</td>\n",
       "      <td>Picked</td>\n",
       "      <td>Approved</td>\n",
       "    </tr>\n",
       "    <tr>\n",
       "      <th>7</th>\n",
       "      <td>Approved</td>\n",
       "      <td>Picked</td>\n",
       "      <td>Sent</td>\n",
       "    </tr>\n",
       "    <tr>\n",
       "      <th>8</th>\n",
       "      <td>Approved</td>\n",
       "      <td>Picked</td>\n",
       "      <td>Paid</td>\n",
       "    </tr>\n",
       "    <tr>\n",
       "      <th>9</th>\n",
       "      <td>Approved</td>\n",
       "      <td>Picked</td>\n",
       "      <td>Cancelled</td>\n",
       "    </tr>\n",
       "    <tr>\n",
       "      <th>10</th>\n",
       "      <td>Approved</td>\n",
       "      <td>Shipped</td>\n",
       "      <td>PendingApproval</td>\n",
       "    </tr>\n",
       "    <tr>\n",
       "      <th>11</th>\n",
       "      <td>Approved</td>\n",
       "      <td>Shipped</td>\n",
       "      <td>Approved</td>\n",
       "    </tr>\n",
       "    <tr>\n",
       "      <th>12</th>\n",
       "      <td>Approved</td>\n",
       "      <td>Shipped</td>\n",
       "      <td>Sent</td>\n",
       "    </tr>\n",
       "    <tr>\n",
       "      <th>13</th>\n",
       "      <td>Approved</td>\n",
       "      <td>Shipped</td>\n",
       "      <td>Paid</td>\n",
       "    </tr>\n",
       "    <tr>\n",
       "      <th>14</th>\n",
       "      <td>Approved</td>\n",
       "      <td>Shipped</td>\n",
       "      <td>Cancelled</td>\n",
       "    </tr>\n",
       "    <tr>\n",
       "      <th>15</th>\n",
       "      <td>Approved</td>\n",
       "      <td>In-Transit</td>\n",
       "      <td>PendingApproval</td>\n",
       "    </tr>\n",
       "    <tr>\n",
       "      <th>16</th>\n",
       "      <td>Approved</td>\n",
       "      <td>In-Transit</td>\n",
       "      <td>Approved</td>\n",
       "    </tr>\n",
       "    <tr>\n",
       "      <th>17</th>\n",
       "      <td>Approved</td>\n",
       "      <td>In-Transit</td>\n",
       "      <td>Sent</td>\n",
       "    </tr>\n",
       "    <tr>\n",
       "      <th>18</th>\n",
       "      <td>Approved</td>\n",
       "      <td>In-Transit</td>\n",
       "      <td>Paid</td>\n",
       "    </tr>\n",
       "    <tr>\n",
       "      <th>19</th>\n",
       "      <td>Approved</td>\n",
       "      <td>In-Transit</td>\n",
       "      <td>Cancelled</td>\n",
       "    </tr>\n",
       "    <tr>\n",
       "      <th>20</th>\n",
       "      <td>Approved</td>\n",
       "      <td>Delivered</td>\n",
       "      <td>PendingApproval</td>\n",
       "    </tr>\n",
       "    <tr>\n",
       "      <th>21</th>\n",
       "      <td>Approved</td>\n",
       "      <td>Delivered</td>\n",
       "      <td>Approved</td>\n",
       "    </tr>\n",
       "    <tr>\n",
       "      <th>22</th>\n",
       "      <td>Approved</td>\n",
       "      <td>Delivered</td>\n",
       "      <td>Sent</td>\n",
       "    </tr>\n",
       "    <tr>\n",
       "      <th>23</th>\n",
       "      <td>Approved</td>\n",
       "      <td>Delivered</td>\n",
       "      <td>Paid</td>\n",
       "    </tr>\n",
       "    <tr>\n",
       "      <th>24</th>\n",
       "      <td>Approved</td>\n",
       "      <td>Delivered</td>\n",
       "      <td>Cancelled</td>\n",
       "    </tr>\n",
       "    <tr>\n",
       "      <th>25</th>\n",
       "      <td>Approved</td>\n",
       "      <td>Returned</td>\n",
       "      <td>PendingApproval</td>\n",
       "    </tr>\n",
       "    <tr>\n",
       "      <th>26</th>\n",
       "      <td>Approved</td>\n",
       "      <td>Returned</td>\n",
       "      <td>Approved</td>\n",
       "    </tr>\n",
       "    <tr>\n",
       "      <th>27</th>\n",
       "      <td>Approved</td>\n",
       "      <td>Returned</td>\n",
       "      <td>Sent</td>\n",
       "    </tr>\n",
       "    <tr>\n",
       "      <th>28</th>\n",
       "      <td>Approved</td>\n",
       "      <td>Returned</td>\n",
       "      <td>Paid</td>\n",
       "    </tr>\n",
       "    <tr>\n",
       "      <th>29</th>\n",
       "      <td>Approved</td>\n",
       "      <td>Returned</td>\n",
       "      <td>Cancelled</td>\n",
       "    </tr>\n",
       "  </tbody>\n",
       "</table>\n",
       "</div>"
      ],
      "text/plain": [
       "   order_status shipment_status   invoice_status\n",
       "0      Approved         Pending  PendingApproval\n",
       "1      Approved         Pending         Approved\n",
       "2      Approved         Pending             Sent\n",
       "3      Approved         Pending             Paid\n",
       "4      Approved         Pending        Cancelled\n",
       "5      Approved          Picked  PendingApproval\n",
       "6      Approved          Picked         Approved\n",
       "7      Approved          Picked             Sent\n",
       "8      Approved          Picked             Paid\n",
       "9      Approved          Picked        Cancelled\n",
       "10     Approved         Shipped  PendingApproval\n",
       "11     Approved         Shipped         Approved\n",
       "12     Approved         Shipped             Sent\n",
       "13     Approved         Shipped             Paid\n",
       "14     Approved         Shipped        Cancelled\n",
       "15     Approved      In-Transit  PendingApproval\n",
       "16     Approved      In-Transit         Approved\n",
       "17     Approved      In-Transit             Sent\n",
       "18     Approved      In-Transit             Paid\n",
       "19     Approved      In-Transit        Cancelled\n",
       "20     Approved       Delivered  PendingApproval\n",
       "21     Approved       Delivered         Approved\n",
       "22     Approved       Delivered             Sent\n",
       "23     Approved       Delivered             Paid\n",
       "24     Approved       Delivered        Cancelled\n",
       "25     Approved        Returned  PendingApproval\n",
       "26     Approved        Returned         Approved\n",
       "27     Approved        Returned             Sent\n",
       "28     Approved        Returned             Paid\n",
       "29     Approved        Returned        Cancelled"
      ]
     },
     "execution_count": 320,
     "metadata": {},
     "output_type": "execute_result"
    }
   ],
   "source": [
    "df[df['order_status']=='Approved']"
   ]
  },
  {
   "cell_type": "markdown",
   "id": "1ce73b29-9fbb-4dfb-ac6f-63d5fa3c342e",
   "metadata": {},
   "source": [
    "# Setup Order, OrderItems, Shipment and Invoice Data for Fulfilled Orders"
   ]
  },
  {
   "cell_type": "code",
   "execution_count": 321,
   "id": "7a4f74c1-e35f-42c2-a0b0-9f519e4cfbc3",
   "metadata": {},
   "outputs": [],
   "source": [
    "from fosforml.model_manager.snowflakesession import get_session\n",
    "my_session = get_session()"
   ]
  },
  {
   "cell_type": "code",
   "execution_count": 322,
   "id": "4de13013-1a1d-4aa0-bc45-e6a986f5ebfa",
   "metadata": {},
   "outputs": [
    {
     "ename": "SnowparkSQLException",
     "evalue": "(1304): 01b7389e-0711-298e-0072-f30311a32f22: 002003 (42S02): SQL compilation error:\nObject 'CUSTOMER_DATA' does not exist or not authorized.",
     "output_type": "error",
     "traceback": [
      "\u001b[0;31m---------------------------------------------------------------------------\u001b[0m",
      "\u001b[0;31mSnowparkSQLException\u001b[0m                      Traceback (most recent call last)",
      "Cell \u001b[0;32mIn[322], line 4\u001b[0m\n\u001b[1;32m      1\u001b[0m table_name \u001b[38;5;241m=\u001b[39m \u001b[38;5;124m'\u001b[39m\u001b[38;5;124mCUSTOMER_DATA\u001b[39m\u001b[38;5;124m'\u001b[39m\n\u001b[1;32m      3\u001b[0m sf_df \u001b[38;5;241m=\u001b[39m my_session\u001b[38;5;241m.\u001b[39msql(\u001b[38;5;124m\"\u001b[39m\u001b[38;5;124mselect * from \u001b[39m\u001b[38;5;132;01m{}\u001b[39;00m\u001b[38;5;124m\"\u001b[39m\u001b[38;5;241m.\u001b[39mformat(table_name))\n\u001b[0;32m----> 4\u001b[0m df_customers \u001b[38;5;241m=\u001b[39m \u001b[43msf_df\u001b[49m\u001b[38;5;241;43m.\u001b[39;49m\u001b[43mto_pandas\u001b[49m\u001b[43m(\u001b[49m\u001b[43m)\u001b[49m\n",
      "File \u001b[0;32m/opt/conda/lib/python3.9/site-packages/snowflake/snowpark/_internal/telemetry.py:156\u001b[0m, in \u001b[0;36mdf_collect_api_telemetry.<locals>.wrap\u001b[0;34m(*args, **kwargs)\u001b[0m\n\u001b[1;32m    153\u001b[0m \u001b[38;5;129m@functools\u001b[39m\u001b[38;5;241m.\u001b[39mwraps(func)\n\u001b[1;32m    154\u001b[0m \u001b[38;5;28;01mdef\u001b[39;00m \u001b[38;5;21mwrap\u001b[39m(\u001b[38;5;241m*\u001b[39margs, \u001b[38;5;241m*\u001b[39m\u001b[38;5;241m*\u001b[39mkwargs):\n\u001b[1;32m    155\u001b[0m     \u001b[38;5;28;01mwith\u001b[39;00m args[\u001b[38;5;241m0\u001b[39m]\u001b[38;5;241m.\u001b[39m_session\u001b[38;5;241m.\u001b[39mquery_history() \u001b[38;5;28;01mas\u001b[39;00m query_history:\n\u001b[0;32m--> 156\u001b[0m         result \u001b[38;5;241m=\u001b[39m \u001b[43mfunc\u001b[49m\u001b[43m(\u001b[49m\u001b[38;5;241;43m*\u001b[39;49m\u001b[43margs\u001b[49m\u001b[43m,\u001b[49m\u001b[43m \u001b[49m\u001b[38;5;241;43m*\u001b[39;49m\u001b[38;5;241;43m*\u001b[39;49m\u001b[43mkwargs\u001b[49m\u001b[43m)\u001b[49m\n\u001b[1;32m    157\u001b[0m     plan \u001b[38;5;241m=\u001b[39m args[\u001b[38;5;241m0\u001b[39m]\u001b[38;5;241m.\u001b[39m_select_statement \u001b[38;5;129;01mor\u001b[39;00m args[\u001b[38;5;241m0\u001b[39m]\u001b[38;5;241m.\u001b[39m_plan\n\u001b[1;32m    158\u001b[0m     api_calls \u001b[38;5;241m=\u001b[39m [\n\u001b[1;32m    159\u001b[0m         \u001b[38;5;241m*\u001b[39mplan\u001b[38;5;241m.\u001b[39mapi_calls,\n\u001b[1;32m    160\u001b[0m         {TelemetryField\u001b[38;5;241m.\u001b[39mNAME\u001b[38;5;241m.\u001b[39mvalue: \u001b[38;5;124mf\u001b[39m\u001b[38;5;124m\"\u001b[39m\u001b[38;5;124mDataFrame.\u001b[39m\u001b[38;5;132;01m{\u001b[39;00mfunc\u001b[38;5;241m.\u001b[39m\u001b[38;5;18m__name__\u001b[39m\u001b[38;5;132;01m}\u001b[39;00m\u001b[38;5;124m\"\u001b[39m},\n\u001b[1;32m    161\u001b[0m     ]\n",
      "File \u001b[0;32m/opt/conda/lib/python3.9/site-packages/snowflake/snowpark/dataframe.py:807\u001b[0m, in \u001b[0;36mDataFrame.to_pandas\u001b[0;34m(self, statement_params, block, **kwargs)\u001b[0m\n\u001b[1;32m    788\u001b[0m \u001b[38;5;250m\u001b[39m\u001b[38;5;124;03m\"\"\"\u001b[39;00m\n\u001b[1;32m    789\u001b[0m \u001b[38;5;124;03mExecutes the query representing this DataFrame and returns the result as a\u001b[39;00m\n\u001b[1;32m    790\u001b[0m \u001b[38;5;124;03m`pandas DataFrame <https://pandas.pydata.org/pandas-docs/stable/reference/api/pandas.DataFrame.html>`_.\u001b[39;00m\n\u001b[0;32m   (...)\u001b[0m\n\u001b[1;32m    804\u001b[0m \u001b[38;5;124;03m    :func:`Session.sql` can only be a SELECT statement.\u001b[39;00m\n\u001b[1;32m    805\u001b[0m \u001b[38;5;124;03m\"\"\"\u001b[39;00m\n\u001b[1;32m    806\u001b[0m \u001b[38;5;28;01mwith\u001b[39;00m open_telemetry_context_manager(\u001b[38;5;28mself\u001b[39m\u001b[38;5;241m.\u001b[39mto_pandas, \u001b[38;5;28mself\u001b[39m):\n\u001b[0;32m--> 807\u001b[0m     result \u001b[38;5;241m=\u001b[39m \u001b[38;5;28;43mself\u001b[39;49m\u001b[38;5;241;43m.\u001b[39;49m\u001b[43m_session\u001b[49m\u001b[38;5;241;43m.\u001b[39;49m\u001b[43m_conn\u001b[49m\u001b[38;5;241;43m.\u001b[39;49m\u001b[43mexecute\u001b[49m\u001b[43m(\u001b[49m\n\u001b[1;32m    808\u001b[0m \u001b[43m        \u001b[49m\u001b[38;5;28;43mself\u001b[39;49m\u001b[38;5;241;43m.\u001b[39;49m\u001b[43m_plan\u001b[49m\u001b[43m,\u001b[49m\n\u001b[1;32m    809\u001b[0m \u001b[43m        \u001b[49m\u001b[43mto_pandas\u001b[49m\u001b[38;5;241;43m=\u001b[39;49m\u001b[38;5;28;43;01mTrue\u001b[39;49;00m\u001b[43m,\u001b[49m\n\u001b[1;32m    810\u001b[0m \u001b[43m        \u001b[49m\u001b[43mblock\u001b[49m\u001b[38;5;241;43m=\u001b[39;49m\u001b[43mblock\u001b[49m\u001b[43m,\u001b[49m\n\u001b[1;32m    811\u001b[0m \u001b[43m        \u001b[49m\u001b[43mdata_type\u001b[49m\u001b[38;5;241;43m=\u001b[39;49m\u001b[43m_AsyncResultType\u001b[49m\u001b[38;5;241;43m.\u001b[39;49m\u001b[43mPANDAS\u001b[49m\u001b[43m,\u001b[49m\n\u001b[1;32m    812\u001b[0m \u001b[43m        \u001b[49m\u001b[43m_statement_params\u001b[49m\u001b[38;5;241;43m=\u001b[39;49m\u001b[43mcreate_or_update_statement_params_with_query_tag\u001b[49m\u001b[43m(\u001b[49m\n\u001b[1;32m    813\u001b[0m \u001b[43m            \u001b[49m\u001b[43mstatement_params\u001b[49m\u001b[43m \u001b[49m\u001b[38;5;129;43;01mor\u001b[39;49;00m\u001b[43m \u001b[49m\u001b[38;5;28;43mself\u001b[39;49m\u001b[38;5;241;43m.\u001b[39;49m\u001b[43m_statement_params\u001b[49m\u001b[43m,\u001b[49m\n\u001b[1;32m    814\u001b[0m \u001b[43m            \u001b[49m\u001b[38;5;28;43mself\u001b[39;49m\u001b[38;5;241;43m.\u001b[39;49m\u001b[43m_session\u001b[49m\u001b[38;5;241;43m.\u001b[39;49m\u001b[43mquery_tag\u001b[49m\u001b[43m,\u001b[49m\n\u001b[1;32m    815\u001b[0m \u001b[43m            \u001b[49m\u001b[43mSKIP_LEVELS_TWO\u001b[49m\u001b[43m,\u001b[49m\n\u001b[1;32m    816\u001b[0m \u001b[43m        \u001b[49m\u001b[43m)\u001b[49m\u001b[43m,\u001b[49m\n\u001b[1;32m    817\u001b[0m \u001b[43m        \u001b[49m\u001b[38;5;241;43m*\u001b[39;49m\u001b[38;5;241;43m*\u001b[39;49m\u001b[43mkwargs\u001b[49m\u001b[43m,\u001b[49m\n\u001b[1;32m    818\u001b[0m \u001b[43m    \u001b[49m\u001b[43m)\u001b[49m\n\u001b[1;32m    820\u001b[0m \u001b[38;5;66;03m# if the returned result is not a pandas dataframe, raise Exception\u001b[39;00m\n\u001b[1;32m    821\u001b[0m \u001b[38;5;66;03m# this might happen when calling this method with non-select commands\u001b[39;00m\n\u001b[1;32m    822\u001b[0m \u001b[38;5;66;03m# e.g., session.sql(\"create ...\").to_pandas()\u001b[39;00m\n\u001b[1;32m    823\u001b[0m \u001b[38;5;28;01mif\u001b[39;00m block:\n",
      "File \u001b[0;32m/opt/conda/lib/python3.9/site-packages/snowflake/snowpark/_internal/server_connection.py:526\u001b[0m, in \u001b[0;36mServerConnection.execute\u001b[0;34m(self, plan, to_pandas, to_iter, block, data_type, log_on_exception, case_sensitive, **kwargs)\u001b[0m\n\u001b[1;32m    516\u001b[0m \u001b[38;5;28;01mif\u001b[39;00m (\n\u001b[1;32m    517\u001b[0m     is_in_stored_procedure()\n\u001b[1;32m    518\u001b[0m     \u001b[38;5;129;01mand\u001b[39;00m \u001b[38;5;129;01mnot\u001b[39;00m block\n\u001b[0;32m   (...)\u001b[0m\n\u001b[1;32m    521\u001b[0m     )\n\u001b[1;32m    522\u001b[0m ):  \u001b[38;5;66;03m# pragma: no cover\u001b[39;00m\n\u001b[1;32m    523\u001b[0m     \u001b[38;5;28;01mraise\u001b[39;00m \u001b[38;5;167;01mNotImplementedError\u001b[39;00m(\n\u001b[1;32m    524\u001b[0m         \u001b[38;5;124m\"\u001b[39m\u001b[38;5;124mAsync query is not supported in stored procedure yet\u001b[39m\u001b[38;5;124m\"\u001b[39m\n\u001b[1;32m    525\u001b[0m     )\n\u001b[0;32m--> 526\u001b[0m result_set, result_meta \u001b[38;5;241m=\u001b[39m \u001b[38;5;28;43mself\u001b[39;49m\u001b[38;5;241;43m.\u001b[39;49m\u001b[43mget_result_set\u001b[49m\u001b[43m(\u001b[49m\n\u001b[1;32m    527\u001b[0m \u001b[43m    \u001b[49m\u001b[43mplan\u001b[49m\u001b[43m,\u001b[49m\n\u001b[1;32m    528\u001b[0m \u001b[43m    \u001b[49m\u001b[43mto_pandas\u001b[49m\u001b[43m,\u001b[49m\n\u001b[1;32m    529\u001b[0m \u001b[43m    \u001b[49m\u001b[43mto_iter\u001b[49m\u001b[43m,\u001b[49m\n\u001b[1;32m    530\u001b[0m \u001b[43m    \u001b[49m\u001b[38;5;241;43m*\u001b[39;49m\u001b[38;5;241;43m*\u001b[39;49m\u001b[43mkwargs\u001b[49m\u001b[43m,\u001b[49m\n\u001b[1;32m    531\u001b[0m \u001b[43m    \u001b[49m\u001b[43mblock\u001b[49m\u001b[38;5;241;43m=\u001b[39;49m\u001b[43mblock\u001b[49m\u001b[43m,\u001b[49m\n\u001b[1;32m    532\u001b[0m \u001b[43m    \u001b[49m\u001b[43mdata_type\u001b[49m\u001b[38;5;241;43m=\u001b[39;49m\u001b[43mdata_type\u001b[49m\u001b[43m,\u001b[49m\n\u001b[1;32m    533\u001b[0m \u001b[43m    \u001b[49m\u001b[43mlog_on_exception\u001b[49m\u001b[38;5;241;43m=\u001b[39;49m\u001b[43mlog_on_exception\u001b[49m\u001b[43m,\u001b[49m\n\u001b[1;32m    534\u001b[0m \u001b[43m    \u001b[49m\u001b[43mcase_sensitive\u001b[49m\u001b[38;5;241;43m=\u001b[39;49m\u001b[43mcase_sensitive\u001b[49m\u001b[43m,\u001b[49m\n\u001b[1;32m    535\u001b[0m \u001b[43m\u001b[49m\u001b[43m)\u001b[49m\n\u001b[1;32m    536\u001b[0m \u001b[38;5;28;01mif\u001b[39;00m \u001b[38;5;129;01mnot\u001b[39;00m block:\n\u001b[1;32m    537\u001b[0m     \u001b[38;5;28;01mreturn\u001b[39;00m result_set\n",
      "File \u001b[0;32m/opt/conda/lib/python3.9/site-packages/snowflake/snowpark/_internal/analyzer/snowflake_plan.py:207\u001b[0m, in \u001b[0;36mSnowflakePlan.Decorator.wrap_exception.<locals>.wrap\u001b[0;34m(*args, **kwargs)\u001b[0m\n\u001b[1;32m    203\u001b[0m \u001b[38;5;28;01melse\u001b[39;00m:\n\u001b[1;32m    204\u001b[0m     ne \u001b[38;5;241m=\u001b[39m SnowparkClientExceptionMessages\u001b[38;5;241m.\u001b[39mSQL_EXCEPTION_FROM_PROGRAMMING_ERROR(\n\u001b[1;32m    205\u001b[0m         e\n\u001b[1;32m    206\u001b[0m     )\n\u001b[0;32m--> 207\u001b[0m     \u001b[38;5;28;01mraise\u001b[39;00m ne\u001b[38;5;241m.\u001b[39mwith_traceback(tb) \u001b[38;5;28;01mfrom\u001b[39;00m \u001b[38;5;28;01mNone\u001b[39;00m\n",
      "File \u001b[0;32m/opt/conda/lib/python3.9/site-packages/snowflake/snowpark/_internal/analyzer/snowflake_plan.py:138\u001b[0m, in \u001b[0;36mSnowflakePlan.Decorator.wrap_exception.<locals>.wrap\u001b[0;34m(*args, **kwargs)\u001b[0m\n\u001b[1;32m    136\u001b[0m \u001b[38;5;28;01mdef\u001b[39;00m \u001b[38;5;21mwrap\u001b[39m(\u001b[38;5;241m*\u001b[39margs, \u001b[38;5;241m*\u001b[39m\u001b[38;5;241m*\u001b[39mkwargs):\n\u001b[1;32m    137\u001b[0m     \u001b[38;5;28;01mtry\u001b[39;00m:\n\u001b[0;32m--> 138\u001b[0m         \u001b[38;5;28;01mreturn\u001b[39;00m \u001b[43mfunc\u001b[49m\u001b[43m(\u001b[49m\u001b[38;5;241;43m*\u001b[39;49m\u001b[43margs\u001b[49m\u001b[43m,\u001b[49m\u001b[43m \u001b[49m\u001b[38;5;241;43m*\u001b[39;49m\u001b[38;5;241;43m*\u001b[39;49m\u001b[43mkwargs\u001b[49m\u001b[43m)\u001b[49m\n\u001b[1;32m    139\u001b[0m     \u001b[38;5;28;01mexcept\u001b[39;00m snowflake\u001b[38;5;241m.\u001b[39mconnector\u001b[38;5;241m.\u001b[39merrors\u001b[38;5;241m.\u001b[39mProgrammingError \u001b[38;5;28;01mas\u001b[39;00m e:\n\u001b[1;32m    140\u001b[0m         query \u001b[38;5;241m=\u001b[39m \u001b[38;5;28mgetattr\u001b[39m(e, \u001b[38;5;124m\"\u001b[39m\u001b[38;5;124mquery\u001b[39m\u001b[38;5;124m\"\u001b[39m, \u001b[38;5;28;01mNone\u001b[39;00m)\n",
      "File \u001b[0;32m/opt/conda/lib/python3.9/site-packages/snowflake/snowpark/_internal/server_connection.py:633\u001b[0m, in \u001b[0;36mServerConnection.get_result_set\u001b[0;34m(self, plan, to_pandas, to_iter, block, data_type, log_on_exception, case_sensitive, ignore_results, **kwargs)\u001b[0m\n\u001b[1;32m    631\u001b[0m \u001b[38;5;28;01mfor\u001b[39;00m holder, id_ \u001b[38;5;129;01min\u001b[39;00m placeholders\u001b[38;5;241m.\u001b[39mitems():\n\u001b[1;32m    632\u001b[0m     final_query \u001b[38;5;241m=\u001b[39m final_query\u001b[38;5;241m.\u001b[39mreplace(holder, id_)\n\u001b[0;32m--> 633\u001b[0m result \u001b[38;5;241m=\u001b[39m \u001b[38;5;28;43mself\u001b[39;49m\u001b[38;5;241;43m.\u001b[39;49m\u001b[43mrun_query\u001b[49m\u001b[43m(\u001b[49m\n\u001b[1;32m    634\u001b[0m \u001b[43m    \u001b[49m\u001b[43mfinal_query\u001b[49m\u001b[43m,\u001b[49m\n\u001b[1;32m    635\u001b[0m \u001b[43m    \u001b[49m\u001b[43mto_pandas\u001b[49m\u001b[43m,\u001b[49m\n\u001b[1;32m    636\u001b[0m \u001b[43m    \u001b[49m\u001b[43mto_iter\u001b[49m\u001b[43m \u001b[49m\u001b[38;5;129;43;01mand\u001b[39;49;00m\u001b[43m \u001b[49m\u001b[43m(\u001b[49m\u001b[43mi\u001b[49m\u001b[43m \u001b[49m\u001b[38;5;241;43m==\u001b[39;49m\u001b[43m \u001b[49m\u001b[38;5;28;43mlen\u001b[39;49m\u001b[43m(\u001b[49m\u001b[43mmain_queries\u001b[49m\u001b[43m)\u001b[49m\u001b[43m \u001b[49m\u001b[38;5;241;43m-\u001b[39;49m\u001b[43m \u001b[49m\u001b[38;5;241;43m1\u001b[39;49m\u001b[43m)\u001b[49m\u001b[43m,\u001b[49m\n\u001b[1;32m    637\u001b[0m \u001b[43m    \u001b[49m\u001b[43mis_ddl_on_temp_object\u001b[49m\u001b[38;5;241;43m=\u001b[39;49m\u001b[43mquery\u001b[49m\u001b[38;5;241;43m.\u001b[39;49m\u001b[43mis_ddl_on_temp_object\u001b[49m\u001b[43m,\u001b[49m\n\u001b[1;32m    638\u001b[0m \u001b[43m    \u001b[49m\u001b[43mblock\u001b[49m\u001b[38;5;241;43m=\u001b[39;49m\u001b[38;5;129;43;01mnot\u001b[39;49;00m\u001b[43m \u001b[49m\u001b[43mis_last\u001b[49m\u001b[43m,\u001b[49m\n\u001b[1;32m    639\u001b[0m \u001b[43m    \u001b[49m\u001b[43mdata_type\u001b[49m\u001b[38;5;241;43m=\u001b[39;49m\u001b[43mdata_type\u001b[49m\u001b[43m,\u001b[49m\n\u001b[1;32m    640\u001b[0m \u001b[43m    \u001b[49m\u001b[43masync_job_plan\u001b[49m\u001b[38;5;241;43m=\u001b[39;49m\u001b[43mplan\u001b[49m\u001b[43m,\u001b[49m\n\u001b[1;32m    641\u001b[0m \u001b[43m    \u001b[49m\u001b[43mlog_on_exception\u001b[49m\u001b[38;5;241;43m=\u001b[39;49m\u001b[43mlog_on_exception\u001b[49m\u001b[43m,\u001b[49m\n\u001b[1;32m    642\u001b[0m \u001b[43m    \u001b[49m\u001b[43mcase_sensitive\u001b[49m\u001b[38;5;241;43m=\u001b[39;49m\u001b[43mcase_sensitive\u001b[49m\u001b[43m,\u001b[49m\n\u001b[1;32m    643\u001b[0m \u001b[43m    \u001b[49m\u001b[43mparams\u001b[49m\u001b[38;5;241;43m=\u001b[39;49m\u001b[43mquery\u001b[49m\u001b[38;5;241;43m.\u001b[39;49m\u001b[43mparams\u001b[49m\u001b[43m,\u001b[49m\n\u001b[1;32m    644\u001b[0m \u001b[43m    \u001b[49m\u001b[43mignore_results\u001b[49m\u001b[38;5;241;43m=\u001b[39;49m\u001b[43mignore_results\u001b[49m\u001b[43m,\u001b[49m\n\u001b[1;32m    645\u001b[0m \u001b[43m    \u001b[49m\u001b[38;5;241;43m*\u001b[39;49m\u001b[38;5;241;43m*\u001b[39;49m\u001b[43mkwargs\u001b[49m\u001b[43m,\u001b[49m\n\u001b[1;32m    646\u001b[0m \u001b[43m\u001b[49m\u001b[43m)\u001b[49m\n\u001b[1;32m    647\u001b[0m placeholders[query\u001b[38;5;241m.\u001b[39mquery_id_place_holder] \u001b[38;5;241m=\u001b[39m (\n\u001b[1;32m    648\u001b[0m     result[\u001b[38;5;124m\"\u001b[39m\u001b[38;5;124msfqid\u001b[39m\u001b[38;5;124m\"\u001b[39m] \u001b[38;5;28;01mif\u001b[39;00m \u001b[38;5;129;01mnot\u001b[39;00m is_last \u001b[38;5;28;01melse\u001b[39;00m result\u001b[38;5;241m.\u001b[39mquery_id\n\u001b[1;32m    649\u001b[0m )\n\u001b[1;32m    650\u001b[0m result_meta \u001b[38;5;241m=\u001b[39m get_new_description(\u001b[38;5;28mself\u001b[39m\u001b[38;5;241m.\u001b[39m_cursor)\n",
      "File \u001b[0;32m/opt/conda/lib/python3.9/site-packages/snowflake/snowpark/_internal/server_connection.py:125\u001b[0m, in \u001b[0;36mServerConnection._Decorator.wrap_exception.<locals>.wrap\u001b[0;34m(*args, **kwargs)\u001b[0m\n\u001b[1;32m    121\u001b[0m     \u001b[38;5;28;01mraise\u001b[39;00m SnowparkClientExceptionMessages\u001b[38;5;241m.\u001b[39mSERVER_SESSION_EXPIRED(\n\u001b[1;32m    122\u001b[0m         ex\u001b[38;5;241m.\u001b[39mcause\n\u001b[1;32m    123\u001b[0m     )\n\u001b[1;32m    124\u001b[0m \u001b[38;5;28;01mexcept\u001b[39;00m \u001b[38;5;167;01mException\u001b[39;00m \u001b[38;5;28;01mas\u001b[39;00m ex:\n\u001b[0;32m--> 125\u001b[0m     \u001b[38;5;28;01mraise\u001b[39;00m ex\n",
      "File \u001b[0;32m/opt/conda/lib/python3.9/site-packages/snowflake/snowpark/_internal/server_connection.py:119\u001b[0m, in \u001b[0;36mServerConnection._Decorator.wrap_exception.<locals>.wrap\u001b[0;34m(*args, **kwargs)\u001b[0m\n\u001b[1;32m    117\u001b[0m     \u001b[38;5;28;01mraise\u001b[39;00m SnowparkClientExceptionMessages\u001b[38;5;241m.\u001b[39mSERVER_SESSION_HAS_BEEN_CLOSED()\n\u001b[1;32m    118\u001b[0m \u001b[38;5;28;01mtry\u001b[39;00m:\n\u001b[0;32m--> 119\u001b[0m     \u001b[38;5;28;01mreturn\u001b[39;00m \u001b[43mfunc\u001b[49m\u001b[43m(\u001b[49m\u001b[38;5;241;43m*\u001b[39;49m\u001b[43margs\u001b[49m\u001b[43m,\u001b[49m\u001b[43m \u001b[49m\u001b[38;5;241;43m*\u001b[39;49m\u001b[38;5;241;43m*\u001b[39;49m\u001b[43mkwargs\u001b[49m\u001b[43m)\u001b[49m\n\u001b[1;32m    120\u001b[0m \u001b[38;5;28;01mexcept\u001b[39;00m ReauthenticationRequest \u001b[38;5;28;01mas\u001b[39;00m ex:\n\u001b[1;32m    121\u001b[0m     \u001b[38;5;28;01mraise\u001b[39;00m SnowparkClientExceptionMessages\u001b[38;5;241m.\u001b[39mSERVER_SESSION_EXPIRED(\n\u001b[1;32m    122\u001b[0m         ex\u001b[38;5;241m.\u001b[39mcause\n\u001b[1;32m    123\u001b[0m     )\n",
      "File \u001b[0;32m/opt/conda/lib/python3.9/site-packages/snowflake/snowpark/_internal/server_connection.py:433\u001b[0m, in \u001b[0;36mServerConnection.run_query\u001b[0;34m(self, query, to_pandas, to_iter, is_ddl_on_temp_object, block, data_type, async_job_plan, log_on_exception, case_sensitive, params, num_statements, ignore_results, **kwargs)\u001b[0m\n\u001b[1;32m    431\u001b[0m         query_id_log \u001b[38;5;241m=\u001b[39m \u001b[38;5;124mf\u001b[39m\u001b[38;5;124m\"\u001b[39m\u001b[38;5;124m [queryID: \u001b[39m\u001b[38;5;132;01m{\u001b[39;00mex\u001b[38;5;241m.\u001b[39msfqid\u001b[38;5;132;01m}\u001b[39;00m\u001b[38;5;124m]\u001b[39m\u001b[38;5;124m\"\u001b[39m \u001b[38;5;28;01mif\u001b[39;00m \u001b[38;5;28mhasattr\u001b[39m(ex, \u001b[38;5;124m\"\u001b[39m\u001b[38;5;124msfqid\u001b[39m\u001b[38;5;124m\"\u001b[39m) \u001b[38;5;28;01melse\u001b[39;00m \u001b[38;5;124m\"\u001b[39m\u001b[38;5;124m\"\u001b[39m\n\u001b[1;32m    432\u001b[0m         logger\u001b[38;5;241m.\u001b[39merror(\u001b[38;5;124mf\u001b[39m\u001b[38;5;124m\"\u001b[39m\u001b[38;5;124mFailed to execute query\u001b[39m\u001b[38;5;132;01m{\u001b[39;00mquery_id_log\u001b[38;5;132;01m}\u001b[39;00m\u001b[38;5;124m \u001b[39m\u001b[38;5;132;01m{\u001b[39;00mquery\u001b[38;5;132;01m}\u001b[39;00m\u001b[38;5;130;01m\\n\u001b[39;00m\u001b[38;5;132;01m{\u001b[39;00mex\u001b[38;5;132;01m}\u001b[39;00m\u001b[38;5;124m\"\u001b[39m)\n\u001b[0;32m--> 433\u001b[0m     \u001b[38;5;28;01mraise\u001b[39;00m ex\n\u001b[1;32m    435\u001b[0m \u001b[38;5;66;03m# fetch_pandas_all/batches() only works for SELECT statements\u001b[39;00m\n\u001b[1;32m    436\u001b[0m \u001b[38;5;66;03m# We call fetchall() if fetch_pandas_all/batches() fails,\u001b[39;00m\n\u001b[1;32m    437\u001b[0m \u001b[38;5;66;03m# because when the query plan has multiple queries, it will\u001b[39;00m\n\u001b[1;32m    438\u001b[0m \u001b[38;5;66;03m# have non-select statements, and it shouldn't fail if the user\u001b[39;00m\n\u001b[1;32m    439\u001b[0m \u001b[38;5;66;03m# calls to_pandas() to execute the query.\u001b[39;00m\n\u001b[1;32m    440\u001b[0m \u001b[38;5;28;01mif\u001b[39;00m block:\n",
      "File \u001b[0;32m/opt/conda/lib/python3.9/site-packages/snowflake/snowpark/_internal/server_connection.py:418\u001b[0m, in \u001b[0;36mServerConnection.run_query\u001b[0;34m(self, query, to_pandas, to_iter, is_ddl_on_temp_object, block, data_type, async_job_plan, log_on_exception, case_sensitive, params, num_statements, ignore_results, **kwargs)\u001b[0m\n\u001b[1;32m    416\u001b[0m     kwargs[\u001b[38;5;124m\"\u001b[39m\u001b[38;5;124m_statement_params\u001b[39m\u001b[38;5;124m\"\u001b[39m][\u001b[38;5;124m\"\u001b[39m\u001b[38;5;124mSNOWPARK_SKIP_TXN_COMMIT_IN_DDL\u001b[39m\u001b[38;5;124m\"\u001b[39m] \u001b[38;5;241m=\u001b[39m \u001b[38;5;28;01mTrue\u001b[39;00m\n\u001b[1;32m    417\u001b[0m \u001b[38;5;28;01mif\u001b[39;00m block:\n\u001b[0;32m--> 418\u001b[0m     results_cursor \u001b[38;5;241m=\u001b[39m \u001b[38;5;28;43mself\u001b[39;49m\u001b[38;5;241;43m.\u001b[39;49m\u001b[43mexecute_and_notify_query_listener\u001b[49m\u001b[43m(\u001b[49m\n\u001b[1;32m    419\u001b[0m \u001b[43m        \u001b[49m\u001b[43mquery\u001b[49m\u001b[43m,\u001b[49m\u001b[43m \u001b[49m\u001b[43mparams\u001b[49m\u001b[38;5;241;43m=\u001b[39;49m\u001b[43mparams\u001b[49m\u001b[43m,\u001b[49m\u001b[43m \u001b[49m\u001b[38;5;241;43m*\u001b[39;49m\u001b[38;5;241;43m*\u001b[39;49m\u001b[43mkwargs\u001b[49m\n\u001b[1;32m    420\u001b[0m \u001b[43m    \u001b[49m\u001b[43m)\u001b[49m\n\u001b[1;32m    421\u001b[0m     logger\u001b[38;5;241m.\u001b[39mdebug(\u001b[38;5;124mf\u001b[39m\u001b[38;5;124m\"\u001b[39m\u001b[38;5;124mExecute query [queryID: \u001b[39m\u001b[38;5;132;01m{\u001b[39;00mresults_cursor\u001b[38;5;241m.\u001b[39msfqid\u001b[38;5;132;01m}\u001b[39;00m\u001b[38;5;124m] \u001b[39m\u001b[38;5;132;01m{\u001b[39;00mquery\u001b[38;5;132;01m}\u001b[39;00m\u001b[38;5;124m\"\u001b[39m)\n\u001b[1;32m    422\u001b[0m \u001b[38;5;28;01melse\u001b[39;00m:\n",
      "File \u001b[0;32m/opt/conda/lib/python3.9/site-packages/snowflake/snowpark/_internal/server_connection.py:369\u001b[0m, in \u001b[0;36mServerConnection.execute_and_notify_query_listener\u001b[0;34m(self, query, **kwargs)\u001b[0m\n\u001b[1;32m    366\u001b[0m \u001b[38;5;28;01mdef\u001b[39;00m \u001b[38;5;21mexecute_and_notify_query_listener\u001b[39m(\n\u001b[1;32m    367\u001b[0m     \u001b[38;5;28mself\u001b[39m, query: \u001b[38;5;28mstr\u001b[39m, \u001b[38;5;241m*\u001b[39m\u001b[38;5;241m*\u001b[39mkwargs: Any\n\u001b[1;32m    368\u001b[0m ) \u001b[38;5;241m-\u001b[39m\u001b[38;5;241m>\u001b[39m SnowflakeCursor:\n\u001b[0;32m--> 369\u001b[0m     results_cursor \u001b[38;5;241m=\u001b[39m \u001b[38;5;28;43mself\u001b[39;49m\u001b[38;5;241;43m.\u001b[39;49m\u001b[43m_cursor\u001b[49m\u001b[38;5;241;43m.\u001b[39;49m\u001b[43mexecute\u001b[49m\u001b[43m(\u001b[49m\u001b[43mquery\u001b[49m\u001b[43m,\u001b[49m\u001b[43m \u001b[49m\u001b[38;5;241;43m*\u001b[39;49m\u001b[38;5;241;43m*\u001b[39;49m\u001b[43mkwargs\u001b[49m\u001b[43m)\u001b[49m\n\u001b[1;32m    370\u001b[0m     \u001b[38;5;28mself\u001b[39m\u001b[38;5;241m.\u001b[39mnotify_query_listeners(\n\u001b[1;32m    371\u001b[0m         QueryRecord(results_cursor\u001b[38;5;241m.\u001b[39msfqid, results_cursor\u001b[38;5;241m.\u001b[39mquery)\n\u001b[1;32m    372\u001b[0m     )\n\u001b[1;32m    373\u001b[0m     \u001b[38;5;28;01mreturn\u001b[39;00m results_cursor\n",
      "File \u001b[0;32m/opt/conda/lib/python3.9/site-packages/snowflake/connector/cursor.py:1087\u001b[0m, in \u001b[0;36mSnowflakeCursor.execute\u001b[0;34m(self, command, params, _bind_stage, timeout, _exec_async, _no_retry, _do_reset, _put_callback, _put_azure_callback, _put_callback_output_stream, _get_callback, _get_azure_callback, _get_callback_output_stream, _show_progress_bar, _statement_params, _is_internal, _describe_only, _no_results, _is_put_get, _raise_put_get_error, _force_put_overwrite, _skip_upload_on_content_match, file_stream, num_statements, _dataframe_ast)\u001b[0m\n\u001b[1;32m   1083\u001b[0m     is_integrity_error \u001b[38;5;241m=\u001b[39m (\n\u001b[1;32m   1084\u001b[0m         code \u001b[38;5;241m==\u001b[39m \u001b[38;5;124m\"\u001b[39m\u001b[38;5;124m100072\u001b[39m\u001b[38;5;124m\"\u001b[39m\n\u001b[1;32m   1085\u001b[0m     )  \u001b[38;5;66;03m# NULL result in a non-nullable column\u001b[39;00m\n\u001b[1;32m   1086\u001b[0m     error_class \u001b[38;5;241m=\u001b[39m IntegrityError \u001b[38;5;28;01mif\u001b[39;00m is_integrity_error \u001b[38;5;28;01melse\u001b[39;00m ProgrammingError\n\u001b[0;32m-> 1087\u001b[0m     \u001b[43mError\u001b[49m\u001b[38;5;241;43m.\u001b[39;49m\u001b[43merrorhandler_wrapper\u001b[49m\u001b[43m(\u001b[49m\u001b[38;5;28;43mself\u001b[39;49m\u001b[38;5;241;43m.\u001b[39;49m\u001b[43mconnection\u001b[49m\u001b[43m,\u001b[49m\u001b[43m \u001b[49m\u001b[38;5;28;43mself\u001b[39;49m\u001b[43m,\u001b[49m\u001b[43m \u001b[49m\u001b[43merror_class\u001b[49m\u001b[43m,\u001b[49m\u001b[43m \u001b[49m\u001b[43merrvalue\u001b[49m\u001b[43m)\u001b[49m\n\u001b[1;32m   1088\u001b[0m \u001b[38;5;28;01mreturn\u001b[39;00m \u001b[38;5;28mself\u001b[39m\n",
      "File \u001b[0;32m/opt/conda/lib/python3.9/site-packages/snowflake/connector/errors.py:284\u001b[0m, in \u001b[0;36mError.errorhandler_wrapper\u001b[0;34m(connection, cursor, error_class, error_value)\u001b[0m\n\u001b[1;32m    261\u001b[0m \u001b[38;5;129m@staticmethod\u001b[39m\n\u001b[1;32m    262\u001b[0m \u001b[38;5;28;01mdef\u001b[39;00m \u001b[38;5;21merrorhandler_wrapper\u001b[39m(\n\u001b[1;32m    263\u001b[0m     connection: SnowflakeConnection \u001b[38;5;241m|\u001b[39m \u001b[38;5;28;01mNone\u001b[39;00m,\n\u001b[0;32m   (...)\u001b[0m\n\u001b[1;32m    266\u001b[0m     error_value: \u001b[38;5;28mdict\u001b[39m[\u001b[38;5;28mstr\u001b[39m, Any],\n\u001b[1;32m    267\u001b[0m ) \u001b[38;5;241m-\u001b[39m\u001b[38;5;241m>\u001b[39m \u001b[38;5;28;01mNone\u001b[39;00m:\n\u001b[1;32m    268\u001b[0m \u001b[38;5;250m    \u001b[39m\u001b[38;5;124;03m\"\"\"Error handler wrapper that calls the errorhandler method.\u001b[39;00m\n\u001b[1;32m    269\u001b[0m \n\u001b[1;32m    270\u001b[0m \u001b[38;5;124;03m    Args:\u001b[39;00m\n\u001b[0;32m   (...)\u001b[0m\n\u001b[1;32m    281\u001b[0m \u001b[38;5;124;03m        exception to the first handler in that order.\u001b[39;00m\n\u001b[1;32m    282\u001b[0m \u001b[38;5;124;03m    \"\"\"\u001b[39;00m\n\u001b[0;32m--> 284\u001b[0m     handed_over \u001b[38;5;241m=\u001b[39m \u001b[43mError\u001b[49m\u001b[38;5;241;43m.\u001b[39;49m\u001b[43mhand_to_other_handler\u001b[49m\u001b[43m(\u001b[49m\n\u001b[1;32m    285\u001b[0m \u001b[43m        \u001b[49m\u001b[43mconnection\u001b[49m\u001b[43m,\u001b[49m\n\u001b[1;32m    286\u001b[0m \u001b[43m        \u001b[49m\u001b[43mcursor\u001b[49m\u001b[43m,\u001b[49m\n\u001b[1;32m    287\u001b[0m \u001b[43m        \u001b[49m\u001b[43merror_class\u001b[49m\u001b[43m,\u001b[49m\n\u001b[1;32m    288\u001b[0m \u001b[43m        \u001b[49m\u001b[43merror_value\u001b[49m\u001b[43m,\u001b[49m\n\u001b[1;32m    289\u001b[0m \u001b[43m    \u001b[49m\u001b[43m)\u001b[49m\n\u001b[1;32m    290\u001b[0m     \u001b[38;5;28;01mif\u001b[39;00m \u001b[38;5;129;01mnot\u001b[39;00m handed_over:\n\u001b[1;32m    291\u001b[0m         \u001b[38;5;28;01mraise\u001b[39;00m Error\u001b[38;5;241m.\u001b[39merrorhandler_make_exception(\n\u001b[1;32m    292\u001b[0m             error_class,\n\u001b[1;32m    293\u001b[0m             error_value,\n\u001b[1;32m    294\u001b[0m         )\n",
      "File \u001b[0;32m/opt/conda/lib/python3.9/site-packages/snowflake/connector/errors.py:339\u001b[0m, in \u001b[0;36mError.hand_to_other_handler\u001b[0;34m(connection, cursor, error_class, error_value)\u001b[0m\n\u001b[1;32m    337\u001b[0m \u001b[38;5;28;01mif\u001b[39;00m cursor \u001b[38;5;129;01mis\u001b[39;00m \u001b[38;5;129;01mnot\u001b[39;00m \u001b[38;5;28;01mNone\u001b[39;00m:\n\u001b[1;32m    338\u001b[0m     cursor\u001b[38;5;241m.\u001b[39mmessages\u001b[38;5;241m.\u001b[39mappend((error_class, error_value))\n\u001b[0;32m--> 339\u001b[0m     \u001b[43mcursor\u001b[49m\u001b[38;5;241;43m.\u001b[39;49m\u001b[43merrorhandler\u001b[49m\u001b[43m(\u001b[49m\u001b[43mconnection\u001b[49m\u001b[43m,\u001b[49m\u001b[43m \u001b[49m\u001b[43mcursor\u001b[49m\u001b[43m,\u001b[49m\u001b[43m \u001b[49m\u001b[43merror_class\u001b[49m\u001b[43m,\u001b[49m\u001b[43m \u001b[49m\u001b[43merror_value\u001b[49m\u001b[43m)\u001b[49m\n\u001b[1;32m    340\u001b[0m     \u001b[38;5;28;01mreturn\u001b[39;00m \u001b[38;5;28;01mTrue\u001b[39;00m\n\u001b[1;32m    341\u001b[0m \u001b[38;5;28;01melif\u001b[39;00m connection \u001b[38;5;129;01mis\u001b[39;00m \u001b[38;5;129;01mnot\u001b[39;00m \u001b[38;5;28;01mNone\u001b[39;00m:\n",
      "File \u001b[0;32m/opt/conda/lib/python3.9/site-packages/snowflake/connector/errors.py:215\u001b[0m, in \u001b[0;36mError.default_errorhandler\u001b[0;34m(connection, cursor, error_class, error_value)\u001b[0m\n\u001b[1;32m    213\u001b[0m errno \u001b[38;5;241m=\u001b[39m error_value\u001b[38;5;241m.\u001b[39mget(\u001b[38;5;124m\"\u001b[39m\u001b[38;5;124merrno\u001b[39m\u001b[38;5;124m\"\u001b[39m)\n\u001b[1;32m    214\u001b[0m done_format_msg \u001b[38;5;241m=\u001b[39m error_value\u001b[38;5;241m.\u001b[39mget(\u001b[38;5;124m\"\u001b[39m\u001b[38;5;124mdone_format_msg\u001b[39m\u001b[38;5;124m\"\u001b[39m)\n\u001b[0;32m--> 215\u001b[0m \u001b[38;5;28;01mraise\u001b[39;00m error_class(\n\u001b[1;32m    216\u001b[0m     msg\u001b[38;5;241m=\u001b[39merror_value\u001b[38;5;241m.\u001b[39mget(\u001b[38;5;124m\"\u001b[39m\u001b[38;5;124mmsg\u001b[39m\u001b[38;5;124m\"\u001b[39m),\n\u001b[1;32m    217\u001b[0m     errno\u001b[38;5;241m=\u001b[39m\u001b[38;5;28;01mNone\u001b[39;00m \u001b[38;5;28;01mif\u001b[39;00m errno \u001b[38;5;129;01mis\u001b[39;00m \u001b[38;5;28;01mNone\u001b[39;00m \u001b[38;5;28;01melse\u001b[39;00m \u001b[38;5;28mint\u001b[39m(errno),\n\u001b[1;32m    218\u001b[0m     sqlstate\u001b[38;5;241m=\u001b[39merror_value\u001b[38;5;241m.\u001b[39mget(\u001b[38;5;124m\"\u001b[39m\u001b[38;5;124msqlstate\u001b[39m\u001b[38;5;124m\"\u001b[39m),\n\u001b[1;32m    219\u001b[0m     sfqid\u001b[38;5;241m=\u001b[39merror_value\u001b[38;5;241m.\u001b[39mget(\u001b[38;5;124m\"\u001b[39m\u001b[38;5;124msfqid\u001b[39m\u001b[38;5;124m\"\u001b[39m),\n\u001b[1;32m    220\u001b[0m     query\u001b[38;5;241m=\u001b[39merror_value\u001b[38;5;241m.\u001b[39mget(\u001b[38;5;124m\"\u001b[39m\u001b[38;5;124mquery\u001b[39m\u001b[38;5;124m\"\u001b[39m),\n\u001b[1;32m    221\u001b[0m     done_format_msg\u001b[38;5;241m=\u001b[39m(\n\u001b[1;32m    222\u001b[0m         \u001b[38;5;28;01mNone\u001b[39;00m \u001b[38;5;28;01mif\u001b[39;00m done_format_msg \u001b[38;5;129;01mis\u001b[39;00m \u001b[38;5;28;01mNone\u001b[39;00m \u001b[38;5;28;01melse\u001b[39;00m \u001b[38;5;28mbool\u001b[39m(done_format_msg)\n\u001b[1;32m    223\u001b[0m     ),\n\u001b[1;32m    224\u001b[0m     connection\u001b[38;5;241m=\u001b[39mconnection,\n\u001b[1;32m    225\u001b[0m     cursor\u001b[38;5;241m=\u001b[39mcursor,\n\u001b[1;32m    226\u001b[0m )\n",
      "\u001b[0;31mSnowparkSQLException\u001b[0m: (1304): 01b7389e-0711-298e-0072-f30311a32f22: 002003 (42S02): SQL compilation error:\nObject 'CUSTOMER_DATA' does not exist or not authorized."
     ]
    }
   ],
   "source": [
    "table_name = 'CUSTOMER_DATA'\n",
    "\n",
    "sf_df = my_session.sql(\"select * from {}\".format(table_name))\n",
    "df_customers = sf_df.to_pandas()"
   ]
  },
  {
   "cell_type": "code",
   "execution_count": null,
   "id": "0036fe35-b725-4575-a97b-c738141c3283",
   "metadata": {},
   "outputs": [],
   "source": [
    "table_name = 'PRODUCT_DATA'\n",
    "\n",
    "sf_df = my_session.sql(\"select * from {}\".format(table_name))\n",
    "df_product = sf_df.to_pandas()"
   ]
  },
  {
   "cell_type": "code",
   "execution_count": null,
   "id": "34bff2de-ab38-457a-9cca-e1634ff3b308",
   "metadata": {},
   "outputs": [],
   "source": [
    "# Assuming you already have the customers and products dataframes\n",
    "customers = df_customers['CUSTOMERID'].tolist()\n",
    "products = df_product[['PRODUCTID', 'UNITPRICE']].to_dict('records')"
   ]
  },
  {
   "cell_type": "code",
   "execution_count": null,
   "id": "a7b374ae-4410-4fd5-879b-6de389b6b012",
   "metadata": {},
   "outputs": [],
   "source": [
    "# Function to generate a random date between two dates\n",
    "def random_date(start_date, end_date):\n",
    "    delta = end_date - start_date\n",
    "    random_days = random.randint(0, delta.days)\n",
    "    return start_date + timedelta(days=random_days)"
   ]
  },
  {
   "cell_type": "code",
   "execution_count": null,
   "id": "d86da7bc-a813-4bad-bf52-798e031f0dce",
   "metadata": {},
   "outputs": [],
   "source": [
    "# Define the date range\n",
    "from datetime import datetime, timedelta\n",
    "\n",
    "start_date = datetime.strptime('08-01-2022', '%m-%d-%Y')\n",
    "end_date = datetime.strptime('09-01-2024', '%m-%d-%Y')"
   ]
  },
  {
   "cell_type": "code",
   "execution_count": null,
   "id": "1c4c7c31-5dba-49c2-97e7-d9a647191367",
   "metadata": {},
   "outputs": [],
   "source": [
    "def add_days(input_date, range1, range2):\n",
    "\n",
    "    if isinstance(input_date, str):    \n",
    "    # Convert orderdate string back to datetime object\n",
    "        input_date = datetime.strptime(input_date, '%m-%d-%Y')\n",
    "\n",
    "    # Generate a random number of days \n",
    "    additional_days = random.randint(range1, range2)\n",
    "\n",
    "    # Calculate the new date\n",
    "    new_date = input_date + timedelta(days=additional_days)\n",
    "\n",
    "    # Convert the new date back to string if needed\n",
    "    new_date = new_date.strftime('%m-%d-%Y')\n",
    "\n",
    "    return new_date"
   ]
  },
  {
   "cell_type": "code",
   "execution_count": null,
   "id": "0de40823-81d8-443f-9e0e-f4a4e018ff2b",
   "metadata": {},
   "outputs": [],
   "source": [
    "df_product"
   ]
  },
  {
   "cell_type": "code",
   "execution_count": null,
   "id": "804e9df8-6e87-407c-a230-694bc2b581a2",
   "metadata": {},
   "outputs": [],
   "source": [
    "# List to store orders\n",
    "orders_fulfill = []\n",
    "items_fulfill = []\n",
    "shipment_fulfill = []\n",
    "invoice_fulfill = []\n",
    "\n",
    "# Generate orders\n",
    "for i in range(85000):\n",
    "    # Filter products matching the customer's type\n",
    "    customer = df_customers.sample(n=1)\n",
    "    matching_products = df_product[df_product['PRODUCTCATEGORY'] == customer.iloc[0]['CUSTOMERTYPE']]\n",
    "    num_items = random.choice([1,2,3])  # Each order has a random number of items between 1 and 3\n",
    "\n",
    "    customerid = customer.iloc[0]['CUSTOMERID']\n",
    "    orderid = 'OR-' + fake.uuid4()\n",
    "    orderdate = random_date(start_date, end_date).strftime('%m-%d-%Y')\n",
    "    orderstatus = 'Approved'\n",
    "    orderamount = 0\n",
    "    ordercount = 0\n",
    "    \n",
    "    shipmentid = 'SP-' + fake.uuid4()\n",
    "    shipmentdate = add_days(orderdate, 2,7)\n",
    "    deliverydate = add_days(shipmentdate, 1,4)\n",
    "    deliveredOn = add_days(deliverydate,0,3) \n",
    "\n",
    "    invoiceid = 'IN-' + fake.uuid4()\n",
    "    invoicedate = add_days(deliveredOn,0,2)\n",
    "    invoiceduedate = add_days(invoicedate,5,7)\n",
    "    \n",
    "    paymentdate = add_days(invoicedate,1,15)\n",
    "    \n",
    "    for _ in range(num_items):\n",
    "        products = matching_products.sample(n=1)\n",
    "        product_type = products.iloc[0]['PRODUCTTYPE']\n",
    "        quantity = random.randint(1, products.iloc[0]['QUANTITY'])  # Generate a random quantity for each order item\n",
    "        unit_price = products.iloc[0]['UNITPRICE']\n",
    "        total_price = quantity * unit_price\n",
    "        orderamount += total_price\n",
    "        ordercount += 1\n",
    "        matching_products = matching_products[matching_products['PRODUCTTYPE'] != product_type]\n",
    "        orderitemid = 'OI-' + fake.uuid4()\n",
    "\n",
    "\n",
    "        items_dict = {\n",
    "            'ORDERID' : orderid,\n",
    "            'ORDERITEMID': orderitemid,\n",
    "            'PRODUCTID': products.iloc[0]['PRODUCTID'],\n",
    "            'PRODUCTNAME' : products.iloc[0]['PRODUCTTYPE'],\n",
    "            'ORDERQUANTITY' :quantity,\n",
    "            'UNITPRICE' : unit_price,\n",
    "            'ORDERVALUE' : total_price\n",
    "        }\n",
    "\n",
    "        items_fulfill.append(items_dict)\n",
    "\n",
    "    orders_dict = {\n",
    "        'ORDERID' : orderid,\n",
    "        'CUSTOMERID': customerid,\n",
    "        'CUSTOMERNAME': customer.iloc[0]['CUSTOMERNAME'],\n",
    "        'PRODUCTID': matching_products.iloc[0]['PRODUCTID'],\n",
    "        'PRODUCTCATEGORY': matching_products.iloc[0]['PRODUCTCATEGORY'],\n",
    "        'ORDERDATE': orderdate,\n",
    "        'ORDERSTATUS': orderstatus,\n",
    "        'ORDERAMOUNT' :orderamount,\n",
    "        'ORDERCOUNT' : ordercount\n",
    "    }\n",
    "\n",
    "    orders_fulfill.append(orders_dict)\n",
    "\n",
    "    shipment_dict = {\n",
    "        'SHIPMENTID': shipmentid,\n",
    "        'ORDERID' : orderid,\n",
    "        'SHIPMENTDATE': shipmentdate,\n",
    "        'DELIVERYDATE': deliverydate,\n",
    "        'DELIVEREDON' :deliveredOn,\n",
    "        'CARRIER' : random.choice(['FedEx', 'UPS', 'DHL', 'USPS']),\n",
    "        'SHIPMENTSTATUS' : 'Delivered'\n",
    "    }\n",
    "\n",
    "    shipment_fulfill.append(shipment_dict)\n",
    "\n",
    "    invoice_dict = {\n",
    "        'INVOICEID': invoiceid,\n",
    "        'ORDERID' : orderid,\n",
    "        'INVOICEDATE': invoicedate,\n",
    "        'INVOICEDUEDATE': invoiceduedate,\n",
    "        'PAYMENTDATE' : paymentdate,\n",
    "        'INVOICESTATUS': 'Paid',\n",
    "        'PAYMENTMETHOD': random.choice(['Wire Transfers','Cards','Cash','Checks','Mobile Payments'])\n",
    "    }\n",
    "\n",
    "    invoice_fulfill.append(invoice_dict)"
   ]
  },
  {
   "cell_type": "code",
   "execution_count": null,
   "id": "9fa57431-b965-47c1-9685-05990d39fe7e",
   "metadata": {},
   "outputs": [],
   "source": [
    "# Create a DataFrame for orders\n",
    "df_orders_fulfill = pd.DataFrame(orders_fulfill)\n",
    "df_items_fulfill = pd.DataFrame(items_fulfill)\n",
    "df_shipment_fulfill = pd.DataFrame(shipment_fulfill)\n",
    "df_invoice_fulfill = pd.DataFrame(invoice_fulfill)"
   ]
  },
  {
   "cell_type": "code",
   "execution_count": null,
   "id": "2e9c4a1d-b733-4fb3-897b-9b77d7ab9794",
   "metadata": {},
   "outputs": [],
   "source": [
    "df_orders_fulfill.head()"
   ]
  },
  {
   "cell_type": "code",
   "execution_count": null,
   "id": "43a64589-eeac-483c-8e52-9c187f808f25",
   "metadata": {},
   "outputs": [],
   "source": [
    "df_shipment_fulfill.head(5)"
   ]
  },
  {
   "cell_type": "code",
   "execution_count": null,
   "id": "e700e300-d22d-4947-94d5-88ca75fdd84e",
   "metadata": {},
   "outputs": [],
   "source": [
    "df_invoice_fulfill.head(5)"
   ]
  },
  {
   "cell_type": "markdown",
   "id": "613f2750-0ae9-4d89-b05a-cc2646e17dc9",
   "metadata": {},
   "source": [
    "# Setup Order, OrderItems, Shipment and Invoice Data for recent Pending Orders"
   ]
  },
  {
   "cell_type": "code",
   "execution_count": null,
   "id": "9e78ecb8-2cba-4e12-a4b3-3f52215830e0",
   "metadata": {},
   "outputs": [],
   "source": [
    "# List to store orders\n",
    "orders_fulfill_1 = []\n",
    "items_fulfill_1 = []\n",
    "shipment_fulfill_1 = []\n",
    "invoice_fulfill_1 = []\n",
    "\n",
    "start_date = datetime.strptime('08-15-2024', '%m-%d-%Y')\n",
    "end_date = datetime.strptime('09-15-2024', '%m-%d-%Y')\n",
    "\n",
    "# Generate orders\n",
    "for i in range(1500):\n",
    "    # Filter products matching the customer's type\n",
    "    customer = df_customers.sample(n=1)\n",
    "    matching_products = df_product[df_product['PRODUCTCATEGORY'] == customer.iloc[0]['CUSTOMERTYPE']]\n",
    "    num_items = random.choice([1,2,3])  # Each order has a random number of items between 1 and 3\n",
    "\n",
    "    customerid = customer.iloc[0]['CUSTOMERID']\n",
    "    orderid = 'OR-' + fake.uuid4()\n",
    "    orderdate = random_date(start_date, end_date).strftime('%m-%d-%Y')\n",
    "    orderstatus = 'Approved'\n",
    "    orderamount = 0\n",
    "    ordercount = 0\n",
    "    \n",
    "    shipmentid = 'SP-' + fake.uuid4()\n",
    "    shipmentdate = add_days(orderdate, 2,7)\n",
    "    deliverydate = add_days(shipmentdate, 1,4)\n",
    "    deliveredOn = add_days(deliverydate,0,3) \n",
    "\n",
    "    invoiceid = 'IN-' + fake.uuid4()\n",
    "    invoicedate = add_days(deliveredOn,0,2)\n",
    "    invoiceduedate = add_days(invoicedate,5,7)\n",
    "    paymentdate = add_days(invoicedate,1,15)\n",
    "\n",
    "    shipment_status =  random.choice(['Picked','Shipped','In-Transit','Delivered'])\n",
    "    invoice_status = ''\n",
    "    if shipment_status == 'Delivered':\n",
    "        invoice_status = 'Sent'\n",
    "    else:\n",
    "        invoice_status = random.choice(['PendingApproval','Approved'])\n",
    "        invoicedate = '12-31-9999'\n",
    "        invoiceduedate = '12-31-9999'\n",
    "        paymentdate = '12-31-9999'\n",
    "        deliveredOn = '12-31-9999'\n",
    "\n",
    "    for _ in range(num_items):\n",
    "        products = matching_products.sample(n=1)\n",
    "        product_type = products.iloc[0]['PRODUCTTYPE']\n",
    "        quantity = random.randint(1, products.iloc[0]['QUANTITY'])  # Generate a random quantity for each order item\n",
    "        unit_price = products.iloc[0]['UNITPRICE']\n",
    "        total_price = quantity * unit_price\n",
    "        orderamount += total_price\n",
    "        ordercount += 1\n",
    "        matching_products = matching_products[matching_products['PRODUCTTYPE'] != product_type]\n",
    "        orderitemid = 'OI-' + fake.uuid4()\n",
    "        \n",
    "        items_dict = {\n",
    "            'ORDERID' : orderid,\n",
    "            'ORDERITEMID': orderitemid,\n",
    "            'PRODUCTID': products.iloc[0]['PRODUCTID'],\n",
    "            'PRODUCTNAME' : products.iloc[0]['PRODUCTTYPE'],\n",
    "            'ORDERQUANTITY' :quantity,\n",
    "            'UNITPRICE' : unit_price,\n",
    "            'ORDERVALUE' : total_price\n",
    "        }\n",
    "\n",
    "        items_fulfill_1.append(items_dict)\n",
    "\n",
    "    orders_dict = {\n",
    "        'ORDERID' : orderid,\n",
    "        'CUSTOMERID': customerid,\n",
    "        'CUSTOMERNAME': customer.iloc[0]['CUSTOMERNAME'],\n",
    "        'PRODUCTID': matching_products.iloc[0]['PRODUCTID'],\n",
    "        'PRODUCTCATEGORY': matching_products.iloc[0]['PRODUCTCATEGORY'],\n",
    "        'ORDERDATE': orderdate,\n",
    "        'ORDERSTATUS': orderstatus,\n",
    "        'ORDERAMOUNT' :orderamount,\n",
    "        'ORDERCOUNT' : ordercount\n",
    "    }\n",
    "\n",
    "    orders_fulfill_1.append(orders_dict)\n",
    "\n",
    "    shipment_dict = {\n",
    "        'SHIPMENTID': shipmentid,\n",
    "        'ORDERID' : orderid,\n",
    "        'SHIPMENTDATE': shipmentdate,\n",
    "        'DELIVERYDATE': deliverydate,\n",
    "        'DELIVEREDON' :deliveredOn,\n",
    "        'CARRIER' : random.choice(['FedEx', 'UPS', 'DHL', 'USPS']),\n",
    "        'SHIPMENTSTATUS' : shipment_status\n",
    "    }\n",
    "\n",
    "    shipment_fulfill_1.append(shipment_dict)\n",
    "\n",
    "    invoice_dict = {\n",
    "        'INVOICEID': invoiceid,\n",
    "        'ORDERID' : orderid,\n",
    "        'INVOICEDATE': invoicedate,\n",
    "        'INVOICEDUEDATE': invoiceduedate,\n",
    "        'PAYMENTDATE' : paymentdate,\n",
    "        'INVOICESTATUS': invoice_status,\n",
    "        'PAYMENTMETHOD': 'Not-Applicable'\n",
    "    }\n",
    "\n",
    "    invoice_fulfill_1.append(invoice_dict)"
   ]
  },
  {
   "cell_type": "code",
   "execution_count": null,
   "id": "077cf502-6fb2-42ff-8294-59ddbbf48218",
   "metadata": {},
   "outputs": [],
   "source": [
    "# Create a DataFrame for orders\n",
    "df_orders_fulfill_1 = pd.DataFrame(orders_fulfill_1)\n",
    "df_items_fulfill_1 = pd.DataFrame(items_fulfill_1)\n",
    "df_shipment_fulfill_1 = pd.DataFrame(shipment_fulfill_1)\n",
    "df_invoice_fulfill_1 = pd.DataFrame(invoice_fulfill_1)"
   ]
  },
  {
   "cell_type": "code",
   "execution_count": null,
   "id": "34e6a192-5c7e-4257-a72d-17d0090d2374",
   "metadata": {},
   "outputs": [],
   "source": [
    "df_orders_fulfill_1.head(2)"
   ]
  },
  {
   "cell_type": "code",
   "execution_count": null,
   "id": "5e7f0b24-ae47-4fb5-aeba-d20fb5877e51",
   "metadata": {},
   "outputs": [],
   "source": [
    "df_items_fulfill_1.head(2)"
   ]
  },
  {
   "cell_type": "code",
   "execution_count": null,
   "id": "bb4c77cc-8b0b-4dca-8783-91c264f794a5",
   "metadata": {},
   "outputs": [],
   "source": [
    "df_shipment_fulfill_1.head()"
   ]
  },
  {
   "cell_type": "code",
   "execution_count": null,
   "id": "5b55dda6-3103-47b1-907c-ec3b836d2c0d",
   "metadata": {},
   "outputs": [],
   "source": [
    "df_invoice_fulfill_1.head(3)"
   ]
  },
  {
   "cell_type": "code",
   "execution_count": null,
   "id": "150eea50-f9bf-456b-9a54-0e59f911cbba",
   "metadata": {},
   "outputs": [],
   "source": [
    "df_orders = pd.concat([df_orders_fulfill,df_orders_fulfill_1],axis=0)\n",
    "df_items = pd.concat([df_items_fulfill, df_items_fulfill_1],axis=0)\n",
    "df_shipments = pd.concat([df_shipment_fulfill, df_shipment_fulfill_1],axis=0)\n",
    "df_invoice = pd.concat([df_invoice_fulfill, df_invoice_fulfill_1],axis=0)"
   ]
  },
  {
   "cell_type": "code",
   "execution_count": null,
   "id": "b762347c-6e46-4d12-a778-5f4724f4497f",
   "metadata": {},
   "outputs": [],
   "source": [
    "df_orders.shape"
   ]
  },
  {
   "cell_type": "code",
   "execution_count": null,
   "id": "9a64c00d-3a85-4722-9ca3-e3df5f36b7f0",
   "metadata": {},
   "outputs": [],
   "source": [
    "df_items.shape"
   ]
  },
  {
   "cell_type": "code",
   "execution_count": null,
   "id": "d222cf2f-9caa-4263-9dd0-39e1784107b1",
   "metadata": {},
   "outputs": [],
   "source": [
    "df_shipments.shape"
   ]
  },
  {
   "cell_type": "code",
   "execution_count": null,
   "id": "751a7f2b-8303-4c70-ba93-aa954e5c77bf",
   "metadata": {},
   "outputs": [],
   "source": [
    "df_invoice.shape"
   ]
  },
  {
   "cell_type": "markdown",
   "id": "9c1e7ef8-2ab9-442f-86e9-965f184110ff",
   "metadata": {},
   "source": [
    "# Push Data to Snowflake"
   ]
  },
  {
   "cell_type": "code",
   "execution_count": 293,
   "id": "fae9ee56-953b-4068-b008-bb8ced8c8f44",
   "metadata": {},
   "outputs": [],
   "source": [
    "df_train_sf=my_session.createDataFrame(\n",
    "        df_orders.values.tolist(),\n",
    "        schema=df_orders.columns.tolist())\n",
    "df_train_sf.write.mode(\"overwrite\").save_as_table(\"FDC_HORIZONTAL.O2C_BRONZE.ORDERS_DATA\")"
   ]
  },
  {
   "cell_type": "code",
   "execution_count": 294,
   "id": "011936d8-60d4-4125-adc1-9369bfac4d4c",
   "metadata": {},
   "outputs": [],
   "source": [
    "df_train_sf=my_session.createDataFrame(\n",
    "        df_items.values.tolist(),\n",
    "        schema=df_items.columns.tolist())\n",
    "df_train_sf.write.mode(\"overwrite\").save_as_table(\"FDC_HORIZONTAL.O2C_BRONZE.ITEMS_DATA\")"
   ]
  },
  {
   "cell_type": "code",
   "execution_count": 295,
   "id": "f3ba6283-f7b6-4c3c-8056-9ea3223c5458",
   "metadata": {},
   "outputs": [],
   "source": [
    "df_train_sf=my_session.createDataFrame(\n",
    "        df_shipments.values.tolist(),\n",
    "        schema=df_shipments.columns.tolist())\n",
    "df_train_sf.write.mode(\"overwrite\").save_as_table(\"FDC_HORIZONTAL.O2C_BRONZE.SHIPMENTS_DATA\")"
   ]
  },
  {
   "cell_type": "code",
   "execution_count": 296,
   "id": "047ef9f5-b52f-423e-9b72-43ebec2fb3d4",
   "metadata": {},
   "outputs": [],
   "source": [
    "df_train_sf=my_session.createDataFrame(\n",
    "        df_invoice.values.tolist(),\n",
    "        schema=df_invoice.columns.tolist())\n",
    "df_train_sf.write.mode(\"overwrite\").save_as_table(\"FDC_HORIZONTAL.O2C_BRONZE.INVOICE_DATA\")"
   ]
  }
 ],
 "metadata": {
  "kernelspec": {
   "display_name": "Python 3 (ipykernel)",
   "language": "python",
   "name": "python3"
  },
  "language_info": {
   "codemirror_mode": {
    "name": "ipython",
    "version": 3
   },
   "file_extension": ".py",
   "mimetype": "text/x-python",
   "name": "python",
   "nbconvert_exporter": "python",
   "pygments_lexer": "ipython3",
   "version": "3.9.19"
  }
 },
 "nbformat": 4,
 "nbformat_minor": 5
}
