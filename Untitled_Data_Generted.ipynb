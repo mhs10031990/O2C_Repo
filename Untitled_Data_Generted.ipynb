{
 "cells": [
  {
   "cell_type": "code",
   "execution_count": null,
   "id": "ed8dcaf9-7bd3-4e70-aeb6-80c46f023ce6",
   "metadata": {},
   "outputs": [],
   "source": [
    "import random\n",
    "from faker import Faker\n",
    "import pandas as pd"
   ]
  },
  {
   "cell_type": "code",
   "execution_count": null,
   "id": "10df9d2f-76b5-4eea-b515-8e29c243053b",
   "metadata": {},
   "outputs": [],
   "source": [
    "fake = Faker('en_US')"
   ]
  },
  {
   "cell_type": "code",
   "execution_count": null,
   "id": "7c9205e4-36eb-4bec-a1d9-6000fb531197",
   "metadata": {},
   "outputs": [],
   "source": [
    "fake.company_suffix()"
   ]
  },
  {
   "cell_type": "code",
   "execution_count": null,
   "id": "51ed4b6a-76a0-46f2-9fe6-57a49e8d51b5",
   "metadata": {},
   "outputs": [],
   "source": [
    "# Generate Customers\n",
    "def generate_customers(num_customers=100):\n",
    "    customers = []\n",
    "    for _ in range(num_customers):\n",
    "        customer = {\n",
    "            'CustomerID': fake.uuid4(),\n",
    "            'Name': fake.company(),\n",
    "            'CompanyType':fake.company_suffix(),\n",
    "            'ContactDetails': fake.phone_number(),\n",
    "            'EmailDetails': fake.company_email(),\n",
    "            'AddressDetails':fake.address(),\n",
    "            'AdminDetails':fake.administrative_unit(),\n",
    "            'CreditLimit': random.randint(10000, 100000),\n",
    "            'CreditRating': random.choice(['very poor', 'fair', 'good', 'very good','exceptional'])\n",
    "        }\n",
    "        customers.append(customer)\n",
    "    return customers"
   ]
  },
  {
   "cell_type": "code",
   "execution_count": null,
   "id": "879271a8-de76-453b-b370-005b5c7aa490",
   "metadata": {},
   "outputs": [],
   "source": [
    "# Generate Data\n",
    "customers = generate_customers()"
   ]
  },
  {
   "cell_type": "code",
   "execution_count": null,
   "id": "0a659c31-a03e-4a46-b6e2-f982caa6ae5c",
   "metadata": {},
   "outputs": [],
   "source": [
    "df_customers = pd.DataFrame(customers)"
   ]
  },
  {
   "cell_type": "code",
   "execution_count": null,
   "id": "4ca7adbf-54d8-4303-9bee-8ed9f84a5049",
   "metadata": {},
   "outputs": [],
   "source": [
    "df_customers"
   ]
  },
  {
   "cell_type": "code",
   "execution_count": null,
   "id": "22e39cca-3cd5-42fc-a5d1-428483829540",
   "metadata": {},
   "outputs": [],
   "source": []
  },
  {
   "cell_type": "code",
   "execution_count": null,
   "id": "459ea153-ad5b-4735-9475-6ba82374d27c",
   "metadata": {},
   "outputs": [],
   "source": [
    "# Define the product types for each category\n",
    "product_types = {\n",
    "    'Office Supplies': [\n",
    "        \"Laser Printer\",\n",
    "        \"Ergonomic Chair\",\n",
    "        \"Standing Desk\",\n",
    "        \"Wireless Keyboard\",\n",
    "        \"Office Stationery Set\"\n",
    "    ],\n",
    "    'Healthcare': [\n",
    "        \"Digital Thermometer\",\n",
    "        \"Blood Pressure Monitor\",\n",
    "        \"Glucometer\",\n",
    "        \"Surgical Masks\",\n",
    "        \"Hand Sanitizer\"\n",
    "    ],\n",
    "    'Consumer Goods': [\n",
    "        \"LED Light Bulbs\",\n",
    "        \"Vacuum Cleaner\",\n",
    "        \"Air Purifier\",\n",
    "        \"Electric Kettle\",\n",
    "        \"Microwave Oven\"\n",
    "    ],\n",
    "    'Automotive': [\n",
    "        \"Car Battery\",\n",
    "        \"Engine Oil\",\n",
    "        \"Brake Pads\",\n",
    "        \"Tires\",\n",
    "        \"Car Air Freshener\"\n",
    "    ],\n",
    "    'Construction Materials': [\n",
    "        \"Cement\",\n",
    "        \"Steel Beams\",\n",
    "        \"Insulation Material\",\n",
    "        \"PVC Pipes\",\n",
    "        \"Roofing Sheets\"\n",
    "    ],\n",
    "    'Food Beverages': [\n",
    "        \"Organic Coffee Beans\",\n",
    "        \"Bottled Water\",\n",
    "        \"Energy Drink\",\n",
    "        \"Protein Bars\",\n",
    "        \"Gourmet Chocolate\"\n",
    "    ],\n",
    "    'Industrial Equipment': [\n",
    "        \"Forklift\",\n",
    "        \"Conveyor Belt\",\n",
    "        \"Industrial Robot\",\n",
    "        \"3D Printer\",\n",
    "        \"CNC Machine\"\n",
    "    ],\n",
    "    'Electronics': [\n",
    "        \"Laptop\",\n",
    "        \"Smartphone\",\n",
    "        \"Tablet\",\n",
    "        \"Smartwatch\",\n",
    "        \"Bluetooth Headphones\"\n",
    "    ]\n",
    "}"
   ]
  },
  {
   "cell_type": "code",
   "execution_count": null,
   "id": "5ab765c1-d2e5-4534-840b-16779cfa4757",
   "metadata": {},
   "outputs": [],
   "source": [
    "products = {'Laser Printer': [100,425],\n",
    "'Ergonomic Chair': [1000,299],\n",
    "'Standing Desk': [1000,420],\n",
    "'Digital Thermometer': [2500,36],\n",
    "'Blood Pressure Monitor': [2500,44],\n",
    "'Glucometer': [2500,29],\n",
    "'Vacuum Cleaner': [100,364],\n",
    "'Electric Kettle': [500,199],\n",
    "'Microwave Oven': [500,325],\n",
    "'Car Battery': [1000,99],\n",
    "'Engine Oil': [1000,40],\n",
    "'Brake Pads': [1000,60],\n",
    "'Tires': [2000,120],\n",
    "'Car Air Freshener': [2500,9],\n",
    "'Cement': [500,100],\n",
    "'Forklift': [50,21000],\n",
    "'Conveyor Belt': [1000,1000],\n",
    "'Industrial Robot': [50,30000],\n",
    "'3D Printer': [100,980],\n",
    "'CNC Machine': [100,25000],\n",
    "'Wireless Keyboard': [1000,78],\n",
    "'LED Light Bulbs': [5000,5],\n",
    "'Air Purifier': [1000,99],\n",
    "'Steel Beams': [1000,600],\n",
    "'Insulation Material': [10000,2],\n",
    "'PVC Pipes': [5000,3],\n",
    "'Roofing Sheets': [5000,7],\n",
    "'Laptop': [1000,799],\n",
    "'Smartphone': [1000,675],\n",
    "'Tablet': [1000,499],\n",
    "'Smartwatch': [1000,160],\n",
    "'Bluetooth Headphones': [1000,139],\n",
    "'Organic Coffee Beans': [5000, 19],\n",
    "'Bottled Water': [10000, 5],\n",
    "'Energy Drink': [5000, 7],\n",
    "'Protein Bars': [5000, 5],\n",
    "'Gourmet Chocolate': [5000, 9],\n",
    "'Office Stationery Set':[1000, 15],\n",
    "'Surgical Masks' : [10000,2],\n",
    "'Hand Sanitizer' : [5000, 14]\n",
    "}"
   ]
  },
  {
   "cell_type": "code",
   "execution_count": null,
   "id": "e49fb476-84b9-4457-808a-725a996103e8",
   "metadata": {},
   "outputs": [],
   "source": [
    "# Function to assign product type based on product category\n",
    "def assign_product_type(product_category):\n",
    "    if product_category in product_types:\n",
    "        return random.choice(product_types[product_category])\n",
    "    else:\n",
    "        return None\n",
    "\n",
    "# Example usage\n",
    "product_categories = [\n",
    "    'Office Supplies', 'Healthcare', 'Consumer Goods', 'Automotive',\n",
    "    'Construction Materials', 'Food Beverages', 'Industrial Equipment', 'Electronics'\n",
    "]"
   ]
  },
  {
   "cell_type": "code",
   "execution_count": null,
   "id": "205ddaa2-b377-4367-a298-10b85a64a1f3",
   "metadata": {},
   "outputs": [],
   "source": [
    "def assign_order_quantity_and_price(sample_product_type):\n",
    "    for product, values in products.items():\n",
    "        if product == sample_product_type:\n",
    "            max_order_limit, unit_price = values\n",
    "            order_quantity = random.randint(max_order_limit-50, max_order_limit)\n",
    "            order_price = order_quantity * unit_price\n",
    "    return order_quantity, order_price, unit_price"
   ]
  },
  {
   "cell_type": "code",
   "execution_count": null,
   "id": "559a0f6c-33b6-42c1-967d-85d9a83f69e5",
   "metadata": {},
   "outputs": [],
   "source": [
    "# Generate Products\n",
    "def generate_products(num_products=30):\n",
    "    products = []\n",
    "    for _ in range(num_products):\n",
    "        sample_product_categories = random.choice(product_categories)\n",
    "        sample_product_type = assign_product_type(sample_product_categories)\n",
    "        print (sample_product_categories, sample_product_type)\n",
    "        sample_product_quantity, sample_product_price, stock_price = assign_order_quantity_and_price(sample_product_type)\n",
    "        product = {\n",
    "            'ProductID': fake.uuid4(),\n",
    "            # Create a sample list of product categories\n",
    "            'ProductCategory' : sample_product_categories,\n",
    "            'ProductType' : sample_product_type,            \n",
    "            'Price': sample_product_price,\n",
    "            'Quantity': sample_product_quantity,\n",
    "            'UnitPrice' : stock_price\n",
    "        }\n",
    "        products.append(product)\n",
    "    return products"
   ]
  },
  {
   "cell_type": "code",
   "execution_count": null,
   "id": "ee43c38a-842a-4d0e-a2b0-8bc4481a5290",
   "metadata": {},
   "outputs": [],
   "source": [
    "products_input = generate_products()"
   ]
  },
  {
   "cell_type": "code",
   "execution_count": null,
   "id": "d7004aa0-a9f4-488d-a4d9-0250c0e8c1fa",
   "metadata": {},
   "outputs": [],
   "source": [
    "df_products = pd.DataFrame(products_input)"
   ]
  },
  {
   "cell_type": "code",
   "execution_count": null,
   "id": "a9d87327-5f1e-46a2-998e-3d6e333b98aa",
   "metadata": {},
   "outputs": [],
   "source": [
    "df_products"
   ]
  },
  {
   "cell_type": "code",
   "execution_count": null,
   "id": "0fc259f1-8724-4e1b-85fe-5200893eb2be",
   "metadata": {},
   "outputs": [],
   "source": []
  },
  {
   "cell_type": "code",
   "execution_count": null,
   "id": "dfe2d22b-4452-4199-9c5c-d14812f6a73a",
   "metadata": {},
   "outputs": [],
   "source": []
  },
  {
   "cell_type": "code",
   "execution_count": null,
   "id": "e6cda111-a90e-40ed-b2ea-19925b731b63",
   "metadata": {},
   "outputs": [],
   "source": [
    "customers = df_customers['CustomerID'].tolist()\n",
    "products = df_products[['ProductID', 'UnitPrice']].to_dict('records')"
   ]
  },
  {
   "cell_type": "code",
   "execution_count": null,
   "id": "9c7ffe54-1132-4516-96e5-7ee96ce0aad5",
   "metadata": {},
   "outputs": [],
   "source": [
    "# Define the date range\n",
    "from datetime import datetime\n",
    "start_date = datetime(2022, 8, 1)\n",
    "end_date = datetime(2024, 8, 1)\n",
    "\n",
    "# Generate Orders\n",
    "def generate_orders(num_orders=500):\n",
    "    orders = []\n",
    "    for _ in range(num_orders):\n",
    "        order = {\n",
    "            'OrderID': fake.uuid4(),\n",
    "            'CustomerID': random.choice(customers),\n",
    "            'OrderDate': fake.date_between(start_date, end_date),\n",
    "            'OrderStatus': random.choice(['Pending', 'Shipped', 'Delivered', 'Cancelled'])\n",
    "        }\n",
    "        orders.append(order)\n",
    "    return orders\n"
   ]
  },
  {
   "cell_type": "code",
   "execution_count": null,
   "id": "3c0c9f4f-fd00-45df-85cb-79223afc6209",
   "metadata": {},
   "outputs": [],
   "source": [
    "orders = generate_orders()\n",
    "\n",
    "df_orders = pd.DataFrame(orders)"
   ]
  },
  {
   "cell_type": "code",
   "execution_count": null,
   "id": "0050b943-8ff5-4078-ae60-903a3ab0f037",
   "metadata": {},
   "outputs": [],
   "source": [
    "df_orders"
   ]
  },
  {
   "cell_type": "code",
   "execution_count": null,
   "id": "07190f6c-fb07-4210-80c5-4d46213227cb",
   "metadata": {},
   "outputs": [],
   "source": []
  },
  {
   "cell_type": "code",
   "execution_count": null,
   "id": "57247856-98d1-4a38-9c1e-45ec3b918a37",
   "metadata": {},
   "outputs": [],
   "source": [
    "# Generate Order Items\n",
    "def generate_order_items(orders, num_order_items=100):\n",
    "    order_items = []\n",
    "    for _ in range(num_order_items):\n",
    "        order = random.choice(orders)\n",
    "        product = random.choice(products)\n",
    "        quantity = random.randint(1, 10)  # Generate a random quantity for each order item\n",
    "        unit_price = product['UnitPrice']\n",
    "        total_price = quantity * unit_price\n",
    "        order_item = {\n",
    "            'Order_Item_ID': fake.uuid4(),\n",
    "            'OrderID': order['OrderID'],\n",
    "            'ProductID': product['ProductID'],\n",
    "            'Quantity': quantity,\n",
    "            'Unit_Price': unit_price,\n",
    "            'Total_Price': total_price\n",
    "        }\n",
    "        order_items.append(order_item)\n",
    "    return order_items"
   ]
  },
  {
   "cell_type": "code",
   "execution_count": null,
   "id": "08af8bd0-b208-4b84-889c-2baa1f899003",
   "metadata": {},
   "outputs": [],
   "source": [
    "order_items = generate_order_items(orders)\n",
    "\n",
    "df_order_items = pd.DataFrame(order_items)"
   ]
  },
  {
   "cell_type": "code",
   "execution_count": null,
   "id": "f1dc2e5a-025d-4b48-a62a-4ffcfe74ab59",
   "metadata": {},
   "outputs": [],
   "source": [
    "# Display the first few rows of the Order Items dataframe\n",
    "df_order_items.head()"
   ]
  },
  {
   "cell_type": "code",
   "execution_count": null,
   "id": "34e4ad45-7a21-4d79-a817-0159d136134e",
   "metadata": {},
   "outputs": [],
   "source": []
  },
  {
   "cell_type": "code",
   "execution_count": null,
   "id": "d4fc2d48-bfd3-4172-abdc-7044534c8ec6",
   "metadata": {},
   "outputs": [],
   "source": []
  }
 ],
 "metadata": {
  "kernelspec": {
   "display_name": "Python 3 (ipykernel)",
   "language": "python",
   "name": "python3"
  },
  "language_info": {
   "codemirror_mode": {
    "name": "ipython",
    "version": 3
   },
   "file_extension": ".py",
   "mimetype": "text/x-python",
   "name": "python",
   "nbconvert_exporter": "python",
   "pygments_lexer": "ipython3",
   "version": "3.9.19"
  }
 },
 "nbformat": 4,
 "nbformat_minor": 5
}
