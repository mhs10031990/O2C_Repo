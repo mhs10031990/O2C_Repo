{
 "cells": [
  {
   "cell_type": "markdown",
   "id": "0bcad55b-31a7-4ec6-99d1-5c1adce88d6e",
   "metadata": {},
   "source": [
    "# Use O2C_Template Customized Notebook Template"
   ]
  },
  {
   "cell_type": "code",
   "execution_count": 51,
   "id": "38eedcd9-fa77-4b30-8122-01bf928266f6",
   "metadata": {},
   "outputs": [
    {
     "name": "stdout",
     "output_type": "stream",
     "text": [
      "\u001b[33mWARNING: You are using pip version 19.3.1; however, version 24.2 is available.\n",
      "You should consider upgrading via the 'pip install --upgrade pip' command.\u001b[0m\n"
     ]
    }
   ],
   "source": [
    "!pip install --q lifelines statsmodels"
   ]
  },
  {
   "cell_type": "code",
   "execution_count": 1,
   "id": "4545a18a-ac99-4a61-87eb-685a9fc1d216",
   "metadata": {},
   "outputs": [],
   "source": [
    "import pandas as pd\n",
    "import numpy as np"
   ]
  },
  {
   "cell_type": "code",
   "execution_count": 2,
   "id": "fe2d2323-ae3c-4027-b777-5c40e16db890",
   "metadata": {},
   "outputs": [],
   "source": [
    "from fosforml.model_manager.snowflakesession import get_session\n",
    "my_session = get_session()"
   ]
  },
  {
   "cell_type": "code",
   "execution_count": 3,
   "id": "b5958b79-ef81-46ec-8591-926b906584dd",
   "metadata": {},
   "outputs": [],
   "source": [
    "table_name = 'ORDER_TO_CASH_ENRICHED'\n",
    "\n",
    "sf_df = my_session.sql(\"select * from {}\".format(table_name))\n",
    "df = sf_df.to_pandas()"
   ]
  },
  {
   "cell_type": "code",
   "execution_count": 4,
   "id": "1b452a02-6961-49fb-b2cd-ad499a0d21d2",
   "metadata": {},
   "outputs": [],
   "source": [
    "df_train = df[df['INVOICESTATUS'] == 'Paid']\n",
    "df_new = df[df['INVOICESTATUS'] != 'Paid']"
   ]
  },
  {
   "cell_type": "code",
   "execution_count": 5,
   "id": "48250bbd-0aab-4c5b-9f78-2bb14e4cee79",
   "metadata": {},
   "outputs": [
    {
     "data": {
      "text/plain": [
       "((170290, 68), (3001, 68))"
      ]
     },
     "execution_count": 5,
     "metadata": {},
     "output_type": "execute_result"
    }
   ],
   "source": [
    "df_train.shape, df_new.shape"
   ]
  },
  {
   "cell_type": "code",
   "execution_count": 6,
   "id": "cb32c411-0adf-4d39-9c8a-22613b925acc",
   "metadata": {},
   "outputs": [],
   "source": [
    "# Assuming df is your dataframe\n",
    "df['ORDERDATE'] = pd.to_datetime(df['ORDERDATE'], errors='coerce')\n",
    "df['DELIVERYDATE'] = pd.to_datetime(df['DELIVERYDATE'], errors='coerce')\n",
    "df['INVOICEDATE'] = pd.to_datetime(df['INVOICEDATE'], errors='coerce')\n",
    "df['PAYMENTDATE'] = pd.to_datetime(df['PAYMENTDATE'], errors='coerce')\n",
    "df['INVOICEDUEDATE'] = pd.to_datetime(df['INVOICEDUEDATE'], errors='coerce')\n",
    "df['DELIVEREDON'] = pd.to_datetime(df['DELIVEREDON'], errors='coerce')"
   ]
  },
  {
   "cell_type": "code",
   "execution_count": 7,
   "id": "f1346ae1-b074-4cec-a8da-40c036bef86b",
   "metadata": {},
   "outputs": [],
   "source": [
    "df['MONTH'] = pd.to_datetime(df['ORDERDATE']).dt.month\n",
    "df['YEAR'] = pd.to_datetime(df['ORDERDATE']).dt.year\n",
    "df['WEEK'] = pd.to_datetime(df['ORDERDATE']).dt.isocalendar().week\n",
    "df['WEEKEND'] = pd.to_datetime(df['ORDERDATE']).dt.weekday >= 5  # True if the day is Saturday or Sunday\n",
    "df['DAY_OF_THE_MONTH'] = pd.to_datetime(df['ORDERDATE']).dt.day"
   ]
  },
  {
   "cell_type": "code",
   "execution_count": 8,
   "id": "4549a1ae-6e05-4dfd-a071-c8f9d6eea89d",
   "metadata": {},
   "outputs": [],
   "source": [
    "# Delivery Delay\n",
    "df['DELIVERY_DELAY'] = (df['DELIVERYDATE'] - df['DELIVEREDON']).dt.days\n",
    "\n",
    "# Payment Delay\n",
    "df['PAYMENT_DELAY'] = (df['PAYMENTDATE'] - df['INVOICEDUEDATE']).dt.days"
   ]
  },
  {
   "cell_type": "code",
   "execution_count": 9,
   "id": "31eeb1c1-92de-4af1-9af8-4d204db83a93",
   "metadata": {
    "scrolled": true
   },
   "outputs": [
    {
     "data": {
      "text/plain": [
       "Index(['ORDERID', 'ORDERITEMID', 'PRODUCTID', 'PRODUCTNAME', 'ORDERQUANTITY',\n",
       "       'UNITPRICE', 'ORDERVALUE', 'CUSTOMERID', 'CUSTOMERNAME',\n",
       "       'PRODUCTCATEGORY', 'ORDERDATE', 'ORDERSTATUS', 'ORDERAMOUNT',\n",
       "       'ORDERCOUNT', 'SHIPMENTID', 'SHIPMENTDATE', 'DELIVERYDATE',\n",
       "       'DELIVEREDON', 'CARRIER', 'SHIPMENTSTATUS', 'INVOICEID', 'INVOICEDATE',\n",
       "       'INVOICEDUEDATE', 'PAYMENTDATE', 'INVOICESTATUS', 'PAYMENTMETHOD',\n",
       "       'PRODUCTTYPE', 'QUANTITY', 'NAME', 'COMPANYTYPE', 'CONTACTDETAILS',\n",
       "       'EMAILDETAILS', 'ADDRESSDETAILS', 'ADMINDETAILS', 'CREDITLIMIT',\n",
       "       'CREDITRATING', 'CUSTOMERTYPE', 'CC_CUSTOMER_LIFETIME_VALUE',\n",
       "       'CC_ORDER_FREQUENCY', 'CC_AVERAGE_ORDER_VALUE', 'CC_RECENCY',\n",
       "       'CC_PREFERRED_PAYMENT_METHOD', 'CC_PREFERRED_PRODUCT_CATEGORY',\n",
       "       'CC_PREFERRED_PRODUCT_TYPE', 'CC_AVG_ORDER_PROCESSING_TIME',\n",
       "       'CC_AVG_INVOICE_PROCESSING_TIME', 'CC_AVG_DELIVERY_DELAY',\n",
       "       'CC_AVG_PAYMENT_DELAY', 'CC_TOTAL_ORDERS', 'CC_TOTAL_DELAYS',\n",
       "       'CC_ORDER_CONSISTENCY', 'CC_INVOICE_CONSISTENCY',\n",
       "       'CC_DELIVERY_CONSISTENCY', 'CC_PAYMENT_CONSISTENCY',\n",
       "       'PR_TOTAL_SALES_VOLUME', 'PR_TOTAL_SALES_VALUE',\n",
       "       'PR_AVG_ORDER_QUANTITY', 'PR_AVG_UNIT_PRICE', 'PR_NUMBER_OF_ORDERS',\n",
       "       'PR_AVG_DELIVERY_TIME', 'PR_AVG_INVOICE_TIME', 'CAT_TOTAL_SALES_VOLUME',\n",
       "       'CAT_TOTAL_SALES_VALUE', 'CAT_AVG_ORDER_QUANTITY', 'CAT_AVG_UNIT_PRICE',\n",
       "       'CAT_NUMBER_OF_ORDERS', 'CAT_AVG_DELIVERY_TIME', 'CAT_AVG_INVOICE_TIME',\n",
       "       'MONTH', 'YEAR', 'WEEK', 'WEEKEND', 'DAY_OF_THE_MONTH',\n",
       "       'DELIVERY_DELAY', 'PAYMENT_DELAY'],\n",
       "      dtype='object')"
      ]
     },
     "execution_count": 9,
     "metadata": {},
     "output_type": "execute_result"
    }
   ],
   "source": [
    "df.columns"
   ]
  },
  {
   "cell_type": "code",
   "execution_count": 10,
   "id": "0a6184bc-3ac2-4a26-a5af-9e3f87b8c2fd",
   "metadata": {},
   "outputs": [],
   "source": [
    "cols = ['ORDERID','PRODUCTID','CUSTOMERID','PRODUCTNAME','ORDERQUANTITY'\n",
    ",'UNITPRICE','ORDERVALUE','CUSTOMERNAME','PRODUCTCATEGORY','ORDERDATE'\n",
    ",'PRODUCTTYPE','COMPANYTYPE','ADMINDETAILS','CREDITLIMIT','CREDITRATING','CUSTOMERTYPE'\n",
    ",'CC_CUSTOMER_LIFETIME_VALUE','CC_ORDER_FREQUENCY', 'CC_AVERAGE_ORDER_VALUE', 'CC_RECENCY'\n",
    ",'CC_PREFERRED_PAYMENT_METHOD', 'CC_PREFERRED_PRODUCT_CATEGORY'\n",
    ",'CC_PREFERRED_PRODUCT_TYPE', 'CC_AVG_ORDER_PROCESSING_TIME'\n",
    ",'CC_AVG_INVOICE_PROCESSING_TIME', 'CC_AVG_DELIVERY_DELAY'\n",
    ",'CC_AVG_PAYMENT_DELAY', 'CC_TOTAL_ORDERS', 'CC_TOTAL_DELAYS'\n",
    ",'CC_ORDER_CONSISTENCY', 'CC_INVOICE_CONSISTENCY'\n",
    ",'CC_DELIVERY_CONSISTENCY', 'CC_PAYMENT_CONSISTENCY'\n",
    ",'PR_TOTAL_SALES_VOLUME', 'PR_TOTAL_SALES_VALUE'\n",
    ",'PR_AVG_ORDER_QUANTITY', 'PR_AVG_UNIT_PRICE', 'PR_NUMBER_OF_ORDERS'\n",
    ",'PR_AVG_DELIVERY_TIME', 'PR_AVG_INVOICE_TIME', 'CAT_TOTAL_SALES_VOLUME'\n",
    ",'CAT_TOTAL_SALES_VALUE', 'CAT_AVG_ORDER_QUANTITY', 'CAT_AVG_UNIT_PRICE'\n",
    ",'CAT_NUMBER_OF_ORDERS', 'CAT_AVG_DELIVERY_TIME'\n",
    ",'CAT_AVG_INVOICE_TIME','DELIVERY_DELAY','PAYMENT_DELAY'\n",
    ",'MONTH', 'YEAR', 'WEEK', 'WEEKEND', 'DAY_OF_THE_MONTH','INVOICESTATUS','PAYMENTDATE']"
   ]
  },
  {
   "cell_type": "code",
   "execution_count": 11,
   "id": "7dc38239-78a3-43ca-a706-479e88b41907",
   "metadata": {},
   "outputs": [],
   "source": [
    "df = df[cols]"
   ]
  },
  {
   "cell_type": "code",
   "execution_count": 12,
   "id": "4cdade4a-403a-400c-865f-5beb93762b42",
   "metadata": {},
   "outputs": [
    {
     "name": "stdout",
     "output_type": "stream",
     "text": [
      "<class 'pandas.core.frame.DataFrame'>\n",
      "RangeIndex: 173291 entries, 0 to 173290\n",
      "Data columns (total 56 columns):\n",
      " #   Column                          Non-Null Count   Dtype         \n",
      "---  ------                          --------------   -----         \n",
      " 0   ORDERID                         173291 non-null  object        \n",
      " 1   PRODUCTID                       173291 non-null  object        \n",
      " 2   CUSTOMERID                      173291 non-null  object        \n",
      " 3   PRODUCTNAME                     173291 non-null  object        \n",
      " 4   ORDERQUANTITY                   173291 non-null  int16         \n",
      " 5   UNITPRICE                       173291 non-null  int32         \n",
      " 6   ORDERVALUE                      173291 non-null  int32         \n",
      " 7   CUSTOMERNAME                    173291 non-null  object        \n",
      " 8   PRODUCTCATEGORY                 173291 non-null  object        \n",
      " 9   ORDERDATE                       173291 non-null  datetime64[ns]\n",
      " 10  PRODUCTTYPE                     173291 non-null  object        \n",
      " 11  COMPANYTYPE                     173291 non-null  object        \n",
      " 12  ADMINDETAILS                    173291 non-null  object        \n",
      " 13  CREDITLIMIT                     173291 non-null  int32         \n",
      " 14  CREDITRATING                    173291 non-null  object        \n",
      " 15  CUSTOMERTYPE                    173291 non-null  object        \n",
      " 16  CC_CUSTOMER_LIFETIME_VALUE      173291 non-null  int32         \n",
      " 17  CC_ORDER_FREQUENCY              173291 non-null  int16         \n",
      " 18  CC_AVERAGE_ORDER_VALUE          173291 non-null  float64       \n",
      " 19  CC_RECENCY                      173291 non-null  int8          \n",
      " 20  CC_PREFERRED_PAYMENT_METHOD     173291 non-null  object        \n",
      " 21  CC_PREFERRED_PRODUCT_CATEGORY   173291 non-null  object        \n",
      " 22  CC_PREFERRED_PRODUCT_TYPE       173291 non-null  object        \n",
      " 23  CC_AVG_ORDER_PROCESSING_TIME    173291 non-null  float64       \n",
      " 24  CC_AVG_INVOICE_PROCESSING_TIME  173291 non-null  float64       \n",
      " 25  CC_AVG_DELIVERY_DELAY           173291 non-null  float64       \n",
      " 26  CC_AVG_PAYMENT_DELAY            173291 non-null  float64       \n",
      " 27  CC_TOTAL_ORDERS                 173291 non-null  int16         \n",
      " 28  CC_TOTAL_DELAYS                 173291 non-null  int16         \n",
      " 29  CC_ORDER_CONSISTENCY            173291 non-null  float64       \n",
      " 30  CC_INVOICE_CONSISTENCY          173291 non-null  float64       \n",
      " 31  CC_DELIVERY_CONSISTENCY         173291 non-null  float64       \n",
      " 32  CC_PAYMENT_CONSISTENCY          173291 non-null  float64       \n",
      " 33  PR_TOTAL_SALES_VOLUME           173291 non-null  int32         \n",
      " 34  PR_TOTAL_SALES_VALUE            173291 non-null  int64         \n",
      " 35  PR_AVG_ORDER_QUANTITY           173291 non-null  float64       \n",
      " 36  PR_AVG_UNIT_PRICE               173291 non-null  float64       \n",
      " 37  PR_NUMBER_OF_ORDERS             173291 non-null  int16         \n",
      " 38  PR_AVG_DELIVERY_TIME            173291 non-null  float64       \n",
      " 39  PR_AVG_INVOICE_TIME             173291 non-null  float64       \n",
      " 40  CAT_TOTAL_SALES_VOLUME          173291 non-null  int32         \n",
      " 41  CAT_TOTAL_SALES_VALUE           173291 non-null  int64         \n",
      " 42  CAT_AVG_ORDER_QUANTITY          173291 non-null  float64       \n",
      " 43  CAT_AVG_UNIT_PRICE              173291 non-null  float64       \n",
      " 44  CAT_NUMBER_OF_ORDERS            173291 non-null  int16         \n",
      " 45  CAT_AVG_DELIVERY_TIME           173291 non-null  float64       \n",
      " 46  CAT_AVG_INVOICE_TIME            173291 non-null  float64       \n",
      " 47  DELIVERY_DELAY                  171043 non-null  float64       \n",
      " 48  PAYMENT_DELAY                   171043 non-null  float64       \n",
      " 49  MONTH                           173291 non-null  int32         \n",
      " 50  YEAR                            173291 non-null  int32         \n",
      " 51  WEEK                            173291 non-null  UInt32        \n",
      " 52  WEEKEND                         173291 non-null  bool          \n",
      " 53  DAY_OF_THE_MONTH                173291 non-null  int32         \n",
      " 54  INVOICESTATUS                   173291 non-null  object        \n",
      " 55  PAYMENTDATE                     171043 non-null  datetime64[ns]\n",
      "dtypes: UInt32(1), bool(1), datetime64[ns](2), float64(19), int16(6), int32(9), int64(2), int8(1), object(15)\n",
      "memory usage: 59.3+ MB\n"
     ]
    }
   ],
   "source": [
    "df.info()"
   ]
  },
  {
   "cell_type": "code",
   "execution_count": 13,
   "id": "3f027c2b-0943-4ed8-a7b7-c716703b4423",
   "metadata": {
    "scrolled": true
   },
   "outputs": [
    {
     "data": {
      "text/html": [
       "<div>\n",
       "<style scoped>\n",
       "    .dataframe tbody tr th:only-of-type {\n",
       "        vertical-align: middle;\n",
       "    }\n",
       "\n",
       "    .dataframe tbody tr th {\n",
       "        vertical-align: top;\n",
       "    }\n",
       "\n",
       "    .dataframe thead th {\n",
       "        text-align: right;\n",
       "    }\n",
       "</style>\n",
       "<table border=\"1\" class=\"dataframe\">\n",
       "  <thead>\n",
       "    <tr style=\"text-align: right;\">\n",
       "      <th></th>\n",
       "      <th>ORDERID</th>\n",
       "      <th>PRODUCTID</th>\n",
       "      <th>CUSTOMERID</th>\n",
       "      <th>PRODUCTNAME</th>\n",
       "      <th>ORDERQUANTITY</th>\n",
       "      <th>UNITPRICE</th>\n",
       "      <th>ORDERVALUE</th>\n",
       "      <th>CUSTOMERNAME</th>\n",
       "      <th>PRODUCTCATEGORY</th>\n",
       "      <th>ORDERDATE</th>\n",
       "      <th>...</th>\n",
       "      <th>CAT_AVG_INVOICE_TIME</th>\n",
       "      <th>DELIVERY_DELAY</th>\n",
       "      <th>PAYMENT_DELAY</th>\n",
       "      <th>MONTH</th>\n",
       "      <th>YEAR</th>\n",
       "      <th>WEEK</th>\n",
       "      <th>WEEKEND</th>\n",
       "      <th>DAY_OF_THE_MONTH</th>\n",
       "      <th>INVOICESTATUS</th>\n",
       "      <th>PAYMENTDATE</th>\n",
       "    </tr>\n",
       "  </thead>\n",
       "  <tbody>\n",
       "    <tr>\n",
       "      <th>173286</th>\n",
       "      <td>OR-8eba737b-c6e3-4f33-82b9-2bcb439623c6</td>\n",
       "      <td>PID-152a2d71-4427-49ac-a84a-9720e73f4ac0</td>\n",
       "      <td>CID-54d06c49-31d4-4e2e-a4c5-219ae27349f2</td>\n",
       "      <td>Ergonomic Chair</td>\n",
       "      <td>772</td>\n",
       "      <td>299</td>\n",
       "      <td>230828</td>\n",
       "      <td>Marathon</td>\n",
       "      <td>Office Supplies</td>\n",
       "      <td>2023-07-04</td>\n",
       "      <td>...</td>\n",
       "      <td>7.971280</td>\n",
       "      <td>0.0</td>\n",
       "      <td>-5.0</td>\n",
       "      <td>7</td>\n",
       "      <td>2023</td>\n",
       "      <td>27</td>\n",
       "      <td>False</td>\n",
       "      <td>4</td>\n",
       "      <td>Paid</td>\n",
       "      <td>2023-07-15</td>\n",
       "    </tr>\n",
       "    <tr>\n",
       "      <th>173287</th>\n",
       "      <td>OR-3a1f21f9-b5a7-4b49-8aab-7fd4ded05489</td>\n",
       "      <td>PID-6e3e9bbf-0256-4c50-88ba-aa901a601722</td>\n",
       "      <td>CID-213f052b-75af-493d-b3e6-c0bbefc50c32</td>\n",
       "      <td>Gourmet Chocolate</td>\n",
       "      <td>790</td>\n",
       "      <td>9</td>\n",
       "      <td>7110</td>\n",
       "      <td>DOLCH</td>\n",
       "      <td>Food Beverages</td>\n",
       "      <td>2024-08-24</td>\n",
       "      <td>...</td>\n",
       "      <td>7.972449</td>\n",
       "      <td>-2.0</td>\n",
       "      <td>0.0</td>\n",
       "      <td>8</td>\n",
       "      <td>2024</td>\n",
       "      <td>34</td>\n",
       "      <td>True</td>\n",
       "      <td>24</td>\n",
       "      <td>Paid</td>\n",
       "      <td>2024-09-10</td>\n",
       "    </tr>\n",
       "    <tr>\n",
       "      <th>173288</th>\n",
       "      <td>OR-3a1f21f9-b5a7-4b49-8aab-7fd4ded05489</td>\n",
       "      <td>PID-ab3f0526-0015-47a8-b6a9-22cbe7e10459</td>\n",
       "      <td>CID-213f052b-75af-493d-b3e6-c0bbefc50c32</td>\n",
       "      <td>Greek Yogurt</td>\n",
       "      <td>421</td>\n",
       "      <td>3</td>\n",
       "      <td>1263</td>\n",
       "      <td>DOLCH</td>\n",
       "      <td>Food Beverages</td>\n",
       "      <td>2024-08-24</td>\n",
       "      <td>...</td>\n",
       "      <td>7.972449</td>\n",
       "      <td>-2.0</td>\n",
       "      <td>0.0</td>\n",
       "      <td>8</td>\n",
       "      <td>2024</td>\n",
       "      <td>34</td>\n",
       "      <td>True</td>\n",
       "      <td>24</td>\n",
       "      <td>Paid</td>\n",
       "      <td>2024-09-10</td>\n",
       "    </tr>\n",
       "    <tr>\n",
       "      <th>173289</th>\n",
       "      <td>OR-3a1f21f9-b5a7-4b49-8aab-7fd4ded05489</td>\n",
       "      <td>PID-08d031fd-c61f-47f3-b4d1-e9c79ba23b68</td>\n",
       "      <td>CID-213f052b-75af-493d-b3e6-c0bbefc50c32</td>\n",
       "      <td>Herbal Tea</td>\n",
       "      <td>450</td>\n",
       "      <td>2</td>\n",
       "      <td>900</td>\n",
       "      <td>DOLCH</td>\n",
       "      <td>Food Beverages</td>\n",
       "      <td>2024-08-24</td>\n",
       "      <td>...</td>\n",
       "      <td>7.972449</td>\n",
       "      <td>-2.0</td>\n",
       "      <td>0.0</td>\n",
       "      <td>8</td>\n",
       "      <td>2024</td>\n",
       "      <td>34</td>\n",
       "      <td>True</td>\n",
       "      <td>24</td>\n",
       "      <td>Paid</td>\n",
       "      <td>2024-09-10</td>\n",
       "    </tr>\n",
       "    <tr>\n",
       "      <th>173290</th>\n",
       "      <td>OR-1a3df4f8-27b1-4d77-b5ce-3fb49b0df85f</td>\n",
       "      <td>PID-5f01775e-530d-4262-be7c-6960da748d67</td>\n",
       "      <td>CID-4995f0b2-f8e7-4f44-b516-dee7004d9185</td>\n",
       "      <td>Whiteboards</td>\n",
       "      <td>916</td>\n",
       "      <td>19</td>\n",
       "      <td>17404</td>\n",
       "      <td>TautaLog</td>\n",
       "      <td>Office Supplies</td>\n",
       "      <td>2024-01-02</td>\n",
       "      <td>...</td>\n",
       "      <td>7.971280</td>\n",
       "      <td>0.0</td>\n",
       "      <td>8.0</td>\n",
       "      <td>1</td>\n",
       "      <td>2024</td>\n",
       "      <td>1</td>\n",
       "      <td>False</td>\n",
       "      <td>2</td>\n",
       "      <td>Paid</td>\n",
       "      <td>2024-01-26</td>\n",
       "    </tr>\n",
       "  </tbody>\n",
       "</table>\n",
       "<p>5 rows × 56 columns</p>\n",
       "</div>"
      ],
      "text/plain": [
       "                                        ORDERID  \\\n",
       "173286  OR-8eba737b-c6e3-4f33-82b9-2bcb439623c6   \n",
       "173287  OR-3a1f21f9-b5a7-4b49-8aab-7fd4ded05489   \n",
       "173288  OR-3a1f21f9-b5a7-4b49-8aab-7fd4ded05489   \n",
       "173289  OR-3a1f21f9-b5a7-4b49-8aab-7fd4ded05489   \n",
       "173290  OR-1a3df4f8-27b1-4d77-b5ce-3fb49b0df85f   \n",
       "\n",
       "                                       PRODUCTID  \\\n",
       "173286  PID-152a2d71-4427-49ac-a84a-9720e73f4ac0   \n",
       "173287  PID-6e3e9bbf-0256-4c50-88ba-aa901a601722   \n",
       "173288  PID-ab3f0526-0015-47a8-b6a9-22cbe7e10459   \n",
       "173289  PID-08d031fd-c61f-47f3-b4d1-e9c79ba23b68   \n",
       "173290  PID-5f01775e-530d-4262-be7c-6960da748d67   \n",
       "\n",
       "                                      CUSTOMERID        PRODUCTNAME  \\\n",
       "173286  CID-54d06c49-31d4-4e2e-a4c5-219ae27349f2    Ergonomic Chair   \n",
       "173287  CID-213f052b-75af-493d-b3e6-c0bbefc50c32  Gourmet Chocolate   \n",
       "173288  CID-213f052b-75af-493d-b3e6-c0bbefc50c32       Greek Yogurt   \n",
       "173289  CID-213f052b-75af-493d-b3e6-c0bbefc50c32         Herbal Tea   \n",
       "173290  CID-4995f0b2-f8e7-4f44-b516-dee7004d9185        Whiteboards   \n",
       "\n",
       "        ORDERQUANTITY  UNITPRICE  ORDERVALUE CUSTOMERNAME  PRODUCTCATEGORY  \\\n",
       "173286            772        299      230828     Marathon  Office Supplies   \n",
       "173287            790          9        7110       DOLCH    Food Beverages   \n",
       "173288            421          3        1263       DOLCH    Food Beverages   \n",
       "173289            450          2         900       DOLCH    Food Beverages   \n",
       "173290            916         19       17404     TautaLog  Office Supplies   \n",
       "\n",
       "        ORDERDATE  ... CAT_AVG_INVOICE_TIME DELIVERY_DELAY PAYMENT_DELAY  \\\n",
       "173286 2023-07-04  ...             7.971280            0.0          -5.0   \n",
       "173287 2024-08-24  ...             7.972449           -2.0           0.0   \n",
       "173288 2024-08-24  ...             7.972449           -2.0           0.0   \n",
       "173289 2024-08-24  ...             7.972449           -2.0           0.0   \n",
       "173290 2024-01-02  ...             7.971280            0.0           8.0   \n",
       "\n",
       "        MONTH  YEAR WEEK  WEEKEND  DAY_OF_THE_MONTH  INVOICESTATUS  \\\n",
       "173286      7  2023   27    False                 4           Paid   \n",
       "173287      8  2024   34     True                24           Paid   \n",
       "173288      8  2024   34     True                24           Paid   \n",
       "173289      8  2024   34     True                24           Paid   \n",
       "173290      1  2024    1    False                 2           Paid   \n",
       "\n",
       "        PAYMENTDATE  \n",
       "173286   2023-07-15  \n",
       "173287   2024-09-10  \n",
       "173288   2024-09-10  \n",
       "173289   2024-09-10  \n",
       "173290   2024-01-26  \n",
       "\n",
       "[5 rows x 56 columns]"
      ]
     },
     "execution_count": 13,
     "metadata": {},
     "output_type": "execute_result"
    }
   ],
   "source": [
    "df.tail()"
   ]
  },
  {
   "cell_type": "code",
   "execution_count": 14,
   "id": "d2d913bb-5ddd-4330-8723-981fb8e861d4",
   "metadata": {},
   "outputs": [],
   "source": [
    "from lifelines import CoxPHFitter"
   ]
  },
  {
   "cell_type": "code",
   "execution_count": 15,
   "id": "13db65bb-21bd-4e97-a312-7647f4d46fca",
   "metadata": {},
   "outputs": [],
   "source": [
    "# Create duration and event columns\n",
    "df['duration'] = (df['PAYMENTDATE'] - df['ORDERDATE']).dt.days\n",
    "df['event'] = df['PAYMENTDATE'].notna().astype(int)  # 1 if payment was made, 0 otherwise"
   ]
  },
  {
   "cell_type": "code",
   "execution_count": 27,
   "id": "cf941dc7-b71d-4374-a88b-0b8de661d72e",
   "metadata": {},
   "outputs": [],
   "source": [
    "cols = ['duration','event','ORDERQUANTITY','UNITPRICE','ORDERVALUE'\n",
    ",'CC_CUSTOMER_LIFETIME_VALUE','CC_ORDER_FREQUENCY', 'CC_AVERAGE_ORDER_VALUE', 'CC_RECENCY','CC_AVG_ORDER_PROCESSING_TIME'\n",
    ",'CC_AVG_INVOICE_PROCESSING_TIME', 'CC_AVG_DELIVERY_DELAY','CC_AVG_PAYMENT_DELAY', 'CC_TOTAL_ORDERS', 'CC_TOTAL_DELAYS'\n",
    ",'CC_ORDER_CONSISTENCY', 'CC_INVOICE_CONSISTENCY','CC_DELIVERY_CONSISTENCY', 'CC_PAYMENT_CONSISTENCY'\n",
    ",'PR_TOTAL_SALES_VOLUME', 'PR_TOTAL_SALES_VALUE','PR_AVG_ORDER_QUANTITY', 'PR_AVG_UNIT_PRICE', 'PR_NUMBER_OF_ORDERS'\n",
    ",'PR_AVG_DELIVERY_TIME', 'PR_AVG_INVOICE_TIME', 'CAT_TOTAL_SALES_VOLUME','CAT_TOTAL_SALES_VALUE', 'CAT_AVG_ORDER_QUANTITY'\n",
    ",'CAT_AVG_UNIT_PRICE','CAT_NUMBER_OF_ORDERS', 'CAT_AVG_DELIVERY_TIME','CAT_AVG_INVOICE_TIME'\n",
    ",'MONTH', 'YEAR', 'WEEK', 'DAY_OF_THE_MONTH']"
   ]
  },
  {
   "cell_type": "code",
   "execution_count": 28,
   "id": "bd7c13bf-9a74-4071-a56e-6107388f2084",
   "metadata": {},
   "outputs": [],
   "source": [
    "df_model = df[cols]"
   ]
  },
  {
   "cell_type": "code",
   "execution_count": 29,
   "id": "cc8d7b90-6155-41a1-a1cc-adae15d1b3c8",
   "metadata": {},
   "outputs": [
    {
     "data": {
      "text/plain": [
       "(173291, 37)"
      ]
     },
     "execution_count": 29,
     "metadata": {},
     "output_type": "execute_result"
    }
   ],
   "source": [
    "df_model.shape"
   ]
  },
  {
   "cell_type": "code",
   "execution_count": 30,
   "id": "2f36391b-8640-41da-b652-1c437cf97272",
   "metadata": {},
   "outputs": [],
   "source": [
    "df_model.dropna(inplace=True)"
   ]
  },
  {
   "cell_type": "code",
   "execution_count": 31,
   "id": "56f1534c-3d01-48a1-a251-787b46284b29",
   "metadata": {},
   "outputs": [
    {
     "data": {
      "text/plain": [
       "(171043, 37)"
      ]
     },
     "execution_count": 31,
     "metadata": {},
     "output_type": "execute_result"
    }
   ],
   "source": [
    "df_model.shape"
   ]
  },
  {
   "cell_type": "code",
   "execution_count": 32,
   "id": "e512f819-7f5f-47df-8cc7-b4696d60bcb5",
   "metadata": {},
   "outputs": [],
   "source": [
    "from statsmodels.stats.outliers_influence import variance_inflation_factor\n",
    "\n",
    "# Select the predictor variables\n",
    "X = df_model.drop(columns=['duration', 'event'])\n",
    "\n",
    "# Calculate VIF for each predictor variable\n",
    "vif_data = pd.DataFrame()\n",
    "vif_data['feature'] = X.columns"
   ]
  },
  {
   "cell_type": "code",
   "execution_count": 33,
   "id": "9b55bcd5-d928-49fe-af12-72a5416db30e",
   "metadata": {},
   "outputs": [
    {
     "data": {
      "text/plain": [
       "array([[2328, 9, 20952, ..., 2022, 45, 11],\n",
       "       [2086, 5, 10430, ..., 2022, 45, 11],\n",
       "       [150, 3, 450, ..., 2022, 45, 11],\n",
       "       ...,\n",
       "       [421, 3, 1263, ..., 2024, 34, 24],\n",
       "       [450, 2, 900, ..., 2024, 34, 24],\n",
       "       [916, 19, 17404, ..., 2024, 1, 2]], dtype=object)"
      ]
     },
     "execution_count": 33,
     "metadata": {},
     "output_type": "execute_result"
    }
   ],
   "source": [
    "X.values"
   ]
  },
  {
   "cell_type": "code",
   "execution_count": 35,
   "id": "13e6254a-a6ac-4cc5-b5a1-13865525a808",
   "metadata": {},
   "outputs": [],
   "source": [
    "X_1 = np.array(X, dtype=float)"
   ]
  },
  {
   "cell_type": "code",
   "execution_count": 37,
   "id": "a4c404b0-63d8-4c11-b0fc-b964c929ba5c",
   "metadata": {},
   "outputs": [
    {
     "data": {
      "text/plain": [
       "array([[2.3280e+03, 9.0000e+00, 2.0952e+04, ..., 2.0220e+03, 4.5000e+01,\n",
       "        1.1000e+01],\n",
       "       [2.0860e+03, 5.0000e+00, 1.0430e+04, ..., 2.0220e+03, 4.5000e+01,\n",
       "        1.1000e+01],\n",
       "       [1.5000e+02, 3.0000e+00, 4.5000e+02, ..., 2.0220e+03, 4.5000e+01,\n",
       "        1.1000e+01],\n",
       "       ...,\n",
       "       [4.2100e+02, 3.0000e+00, 1.2630e+03, ..., 2.0240e+03, 3.4000e+01,\n",
       "        2.4000e+01],\n",
       "       [4.5000e+02, 2.0000e+00, 9.0000e+02, ..., 2.0240e+03, 3.4000e+01,\n",
       "        2.4000e+01],\n",
       "       [9.1600e+02, 1.9000e+01, 1.7404e+04, ..., 2.0240e+03, 1.0000e+00,\n",
       "        2.0000e+00]])"
      ]
     },
     "execution_count": 37,
     "metadata": {},
     "output_type": "execute_result"
    }
   ],
   "source": [
    "X_1"
   ]
  },
  {
   "cell_type": "code",
   "execution_count": 38,
   "id": "f08ae15a-836f-4199-ae74-ffd62b2fa952",
   "metadata": {},
   "outputs": [
    {
     "name": "stdout",
     "output_type": "stream",
     "text": [
      "0\n",
      "1\n",
      "2\n",
      "3\n",
      "4\n",
      "5\n",
      "6\n",
      "7\n",
      "8\n",
      "9\n",
      "10\n",
      "11\n",
      "12\n",
      "13\n",
      "14\n",
      "15\n",
      "16\n",
      "17\n",
      "18\n",
      "19\n",
      "20\n",
      "21\n",
      "22\n",
      "23\n",
      "24\n",
      "25\n",
      "26\n",
      "27\n",
      "28\n",
      "29\n",
      "30\n",
      "31\n",
      "32\n",
      "33\n",
      "34\n"
     ]
    }
   ],
   "source": [
    "for i in range(len(X.columns)):\n",
    "    vif_data['VIF'] = variance_inflation_factor(X_1, i)"
   ]
  },
  {
   "cell_type": "code",
   "execution_count": 39,
   "id": "f3e9c52f-906c-460a-8202-3fc328c66630",
   "metadata": {},
   "outputs": [
    {
     "name": "stdout",
     "output_type": "stream",
     "text": [
      "                           feature      VIF\n",
      "0                    ORDERQUANTITY  1.42435\n",
      "1                        UNITPRICE  1.42435\n",
      "2                       ORDERVALUE  1.42435\n",
      "3       CC_CUSTOMER_LIFETIME_VALUE  1.42435\n",
      "4               CC_ORDER_FREQUENCY  1.42435\n",
      "5           CC_AVERAGE_ORDER_VALUE  1.42435\n",
      "6                       CC_RECENCY  1.42435\n",
      "7     CC_AVG_ORDER_PROCESSING_TIME  1.42435\n",
      "8   CC_AVG_INVOICE_PROCESSING_TIME  1.42435\n",
      "9            CC_AVG_DELIVERY_DELAY  1.42435\n",
      "10            CC_AVG_PAYMENT_DELAY  1.42435\n",
      "11                 CC_TOTAL_ORDERS  1.42435\n",
      "12                 CC_TOTAL_DELAYS  1.42435\n",
      "13            CC_ORDER_CONSISTENCY  1.42435\n",
      "14          CC_INVOICE_CONSISTENCY  1.42435\n",
      "15         CC_DELIVERY_CONSISTENCY  1.42435\n",
      "16          CC_PAYMENT_CONSISTENCY  1.42435\n",
      "17           PR_TOTAL_SALES_VOLUME  1.42435\n",
      "18            PR_TOTAL_SALES_VALUE  1.42435\n",
      "19           PR_AVG_ORDER_QUANTITY  1.42435\n",
      "20               PR_AVG_UNIT_PRICE  1.42435\n",
      "21             PR_NUMBER_OF_ORDERS  1.42435\n",
      "22            PR_AVG_DELIVERY_TIME  1.42435\n",
      "23             PR_AVG_INVOICE_TIME  1.42435\n",
      "24          CAT_TOTAL_SALES_VOLUME  1.42435\n",
      "25           CAT_TOTAL_SALES_VALUE  1.42435\n",
      "26          CAT_AVG_ORDER_QUANTITY  1.42435\n",
      "27              CAT_AVG_UNIT_PRICE  1.42435\n",
      "28            CAT_NUMBER_OF_ORDERS  1.42435\n",
      "29           CAT_AVG_DELIVERY_TIME  1.42435\n",
      "30            CAT_AVG_INVOICE_TIME  1.42435\n",
      "31                           MONTH  1.42435\n",
      "32                            YEAR  1.42435\n",
      "33                            WEEK  1.42435\n",
      "34                DAY_OF_THE_MONTH  1.42435\n"
     ]
    }
   ],
   "source": [
    "print(vif_data)"
   ]
  },
  {
   "cell_type": "code",
   "execution_count": 40,
   "id": "efc7f3b2-4d8b-4bf4-a57b-125c5967f636",
   "metadata": {},
   "outputs": [],
   "source": [
    "# Example: Remove variables with VIF > 10\n",
    "high_vif_features = vif_data[vif_data['VIF'] > 10]['feature']\n",
    "df_model_reduced = df_model.drop(columns=high_vif_features)"
   ]
  },
  {
   "cell_type": "code",
   "execution_count": 43,
   "id": "e809c2bf-7ead-4f53-97fe-e9a0718ee5dc",
   "metadata": {},
   "outputs": [],
   "source": [
    "from sklearn.preprocessing import StandardScaler\n",
    "\n",
    "# Standardize the predictor variables\n",
    "scaler = StandardScaler()\n",
    "X_scaled = scaler.fit_transform(df_model_reduced.drop(columns=['duration', 'event']))\n",
    "df_model_scaled = pd.DataFrame(X_scaled, columns=df_model_reduced.drop(columns=['duration', 'event']).columns)\n",
    "df_model_scaled['duration'] = df_model_reduced['duration'].values\n",
    "df_model_scaled['event'] = df_model_reduced['event'].values"
   ]
  },
  {
   "cell_type": "code",
   "execution_count": 41,
   "id": "92642d19-4703-4065-82bf-43aba8317a37",
   "metadata": {},
   "outputs": [],
   "source": [
    "# Initialize the Cox Proportional Hazards model\n",
    "cph = CoxPHFitter()"
   ]
  },
  {
   "cell_type": "code",
   "execution_count": 44,
   "id": "625364e5-0989-434d-b933-43f4eae4b1f4",
   "metadata": {},
   "outputs": [
    {
     "ename": "ConvergenceError",
     "evalue": "Convergence halted due to matrix inversion problems. Suspicion is high collinearity. Please see the following tips in the lifelines documentation: https://lifelines.readthedocs.io/en/latest/Examples.html#problems-with-convergence-in-the-cox-proportional-hazard-modelMatrix is singular.",
     "output_type": "error",
     "traceback": [
      "\u001b[0;31m---------------------------------------------------------------------------\u001b[0m",
      "\u001b[0;31mLinAlgError\u001b[0m                               Traceback (most recent call last)",
      "File \u001b[0;32m/opt/conda/lib/python3.9/site-packages/lifelines/fitters/coxph_fitter.py:1530\u001b[0m, in \u001b[0;36mSemiParametricPHFitter._newton_raphson_for_efron_model\u001b[0;34m(self, X, T, E, weights, entries, initial_point, show_progress, step_size, precision, r_precision, max_steps)\u001b[0m\n\u001b[1;32m   1529\u001b[0m \u001b[38;5;28;01mtry\u001b[39;00m:\n\u001b[0;32m-> 1530\u001b[0m     inv_h_dot_g_T \u001b[38;5;241m=\u001b[39m \u001b[43mspsolve\u001b[49m\u001b[43m(\u001b[49m\u001b[38;5;241;43m-\u001b[39;49m\u001b[43mh\u001b[49m\u001b[43m,\u001b[49m\u001b[43m \u001b[49m\u001b[43mg\u001b[49m\u001b[43m,\u001b[49m\u001b[43m \u001b[49m\u001b[43massume_a\u001b[49m\u001b[38;5;241;43m=\u001b[39;49m\u001b[38;5;124;43m\"\u001b[39;49m\u001b[38;5;124;43mpos\u001b[39;49m\u001b[38;5;124;43m\"\u001b[39;49m\u001b[43m,\u001b[49m\u001b[43m \u001b[49m\u001b[43mcheck_finite\u001b[49m\u001b[38;5;241;43m=\u001b[39;49m\u001b[38;5;28;43;01mFalse\u001b[39;49;00m\u001b[43m)\u001b[49m\n\u001b[1;32m   1531\u001b[0m \u001b[38;5;28;01mexcept\u001b[39;00m (\u001b[38;5;167;01mValueError\u001b[39;00m, LinAlgError) \u001b[38;5;28;01mas\u001b[39;00m e:\n",
      "File \u001b[0;32m/opt/conda/lib/python3.9/site-packages/scipy/linalg/_basic.py:253\u001b[0m, in \u001b[0;36msolve\u001b[0;34m(a, b, lower, overwrite_a, overwrite_b, check_finite, assume_a, transposed)\u001b[0m\n\u001b[1;32m    250\u001b[0m lu, x, info \u001b[38;5;241m=\u001b[39m posv(a1, b1, lower\u001b[38;5;241m=\u001b[39mlower,\n\u001b[1;32m    251\u001b[0m                    overwrite_a\u001b[38;5;241m=\u001b[39moverwrite_a,\n\u001b[1;32m    252\u001b[0m                    overwrite_b\u001b[38;5;241m=\u001b[39moverwrite_b)\n\u001b[0;32m--> 253\u001b[0m \u001b[43m_solve_check\u001b[49m\u001b[43m(\u001b[49m\u001b[43mn\u001b[49m\u001b[43m,\u001b[49m\u001b[43m \u001b[49m\u001b[43minfo\u001b[49m\u001b[43m)\u001b[49m\n\u001b[1;32m    254\u001b[0m rcond, info \u001b[38;5;241m=\u001b[39m pocon(lu, anorm)\n",
      "File \u001b[0;32m/opt/conda/lib/python3.9/site-packages/scipy/linalg/_basic.py:41\u001b[0m, in \u001b[0;36m_solve_check\u001b[0;34m(n, info, lamch, rcond)\u001b[0m\n\u001b[1;32m     40\u001b[0m \u001b[38;5;28;01melif\u001b[39;00m \u001b[38;5;241m0\u001b[39m \u001b[38;5;241m<\u001b[39m info:\n\u001b[0;32m---> 41\u001b[0m     \u001b[38;5;28;01mraise\u001b[39;00m LinAlgError(\u001b[38;5;124m'\u001b[39m\u001b[38;5;124mMatrix is singular.\u001b[39m\u001b[38;5;124m'\u001b[39m)\n\u001b[1;32m     43\u001b[0m \u001b[38;5;28;01mif\u001b[39;00m lamch \u001b[38;5;129;01mis\u001b[39;00m \u001b[38;5;28;01mNone\u001b[39;00m:\n",
      "\u001b[0;31mLinAlgError\u001b[0m: Matrix is singular.",
      "\nDuring handling of the above exception, another exception occurred:\n",
      "\u001b[0;31mConvergenceError\u001b[0m                          Traceback (most recent call last)",
      "Cell \u001b[0;32mIn[44], line 2\u001b[0m\n\u001b[1;32m      1\u001b[0m \u001b[38;5;66;03m# Fit the model\u001b[39;00m\n\u001b[0;32m----> 2\u001b[0m \u001b[43mcph\u001b[49m\u001b[38;5;241;43m.\u001b[39;49m\u001b[43mfit\u001b[49m\u001b[43m(\u001b[49m\u001b[43mdf_model_scaled\u001b[49m\u001b[43m,\u001b[49m\u001b[43m \u001b[49m\u001b[43mduration_col\u001b[49m\u001b[38;5;241;43m=\u001b[39;49m\u001b[38;5;124;43m'\u001b[39;49m\u001b[38;5;124;43mduration\u001b[39;49m\u001b[38;5;124;43m'\u001b[39;49m\u001b[43m,\u001b[49m\u001b[43m \u001b[49m\u001b[43mevent_col\u001b[49m\u001b[38;5;241;43m=\u001b[39;49m\u001b[38;5;124;43m'\u001b[39;49m\u001b[38;5;124;43mevent\u001b[39;49m\u001b[38;5;124;43m'\u001b[39;49m\u001b[43m)\u001b[49m\n",
      "File \u001b[0;32m/opt/conda/lib/python3.9/site-packages/lifelines/utils/__init__.py:56\u001b[0m, in \u001b[0;36mCensoringType.right_censoring.<locals>.f\u001b[0;34m(model, *args, **kwargs)\u001b[0m\n\u001b[1;32m     53\u001b[0m \u001b[38;5;129m@wraps\u001b[39m(function)\n\u001b[1;32m     54\u001b[0m \u001b[38;5;28;01mdef\u001b[39;00m \u001b[38;5;21mf\u001b[39m(model, \u001b[38;5;241m*\u001b[39margs, \u001b[38;5;241m*\u001b[39m\u001b[38;5;241m*\u001b[39mkwargs):\n\u001b[1;32m     55\u001b[0m     \u001b[38;5;28mcls\u001b[39m\u001b[38;5;241m.\u001b[39mset_censoring_type(model, \u001b[38;5;28mcls\u001b[39m\u001b[38;5;241m.\u001b[39mRIGHT)\n\u001b[0;32m---> 56\u001b[0m     \u001b[38;5;28;01mreturn\u001b[39;00m \u001b[43mfunction\u001b[49m\u001b[43m(\u001b[49m\u001b[43mmodel\u001b[49m\u001b[43m,\u001b[49m\u001b[43m \u001b[49m\u001b[38;5;241;43m*\u001b[39;49m\u001b[43margs\u001b[49m\u001b[43m,\u001b[49m\u001b[43m \u001b[49m\u001b[38;5;241;43m*\u001b[39;49m\u001b[38;5;241;43m*\u001b[39;49m\u001b[43mkwargs\u001b[49m\u001b[43m)\u001b[49m\n",
      "File \u001b[0;32m/opt/conda/lib/python3.9/site-packages/lifelines/fitters/coxph_fitter.py:290\u001b[0m, in \u001b[0;36mCoxPHFitter.fit\u001b[0;34m(self, df, duration_col, event_col, show_progress, initial_point, strata, weights_col, cluster_col, robust, batch_mode, timeline, formula, entry_col, fit_options)\u001b[0m\n\u001b[1;32m    184\u001b[0m \u001b[38;5;250m\u001b[39m\u001b[38;5;124;03m\"\"\"\u001b[39;00m\n\u001b[1;32m    185\u001b[0m \u001b[38;5;124;03mFit the Cox proportional hazard model to a right-censored dataset. Alias of `fit_right_censoring`.\u001b[39;00m\n\u001b[1;32m    186\u001b[0m \n\u001b[0;32m   (...)\u001b[0m\n\u001b[1;32m    287\u001b[0m \n\u001b[1;32m    288\u001b[0m \u001b[38;5;124;03m\"\"\"\u001b[39;00m\n\u001b[1;32m    289\u001b[0m \u001b[38;5;28mself\u001b[39m\u001b[38;5;241m.\u001b[39mstrata \u001b[38;5;241m=\u001b[39m utils\u001b[38;5;241m.\u001b[39m_to_list_or_singleton(utils\u001b[38;5;241m.\u001b[39mcoalesce(strata, \u001b[38;5;28mself\u001b[39m\u001b[38;5;241m.\u001b[39mstrata))\n\u001b[0;32m--> 290\u001b[0m \u001b[38;5;28mself\u001b[39m\u001b[38;5;241m.\u001b[39m_model \u001b[38;5;241m=\u001b[39m \u001b[38;5;28;43mself\u001b[39;49m\u001b[38;5;241;43m.\u001b[39;49m\u001b[43m_fit_model\u001b[49m\u001b[43m(\u001b[49m\n\u001b[1;32m    291\u001b[0m \u001b[43m    \u001b[49m\u001b[43mdf\u001b[49m\u001b[43m,\u001b[49m\n\u001b[1;32m    292\u001b[0m \u001b[43m    \u001b[49m\u001b[43mduration_col\u001b[49m\u001b[43m,\u001b[49m\n\u001b[1;32m    293\u001b[0m \u001b[43m    \u001b[49m\u001b[43mevent_col\u001b[49m\u001b[38;5;241;43m=\u001b[39;49m\u001b[43mevent_col\u001b[49m\u001b[43m,\u001b[49m\n\u001b[1;32m    294\u001b[0m \u001b[43m    \u001b[49m\u001b[43mshow_progress\u001b[49m\u001b[38;5;241;43m=\u001b[39;49m\u001b[43mshow_progress\u001b[49m\u001b[43m,\u001b[49m\n\u001b[1;32m    295\u001b[0m \u001b[43m    \u001b[49m\u001b[43minitial_point\u001b[49m\u001b[38;5;241;43m=\u001b[39;49m\u001b[43minitial_point\u001b[49m\u001b[43m,\u001b[49m\n\u001b[1;32m    296\u001b[0m \u001b[43m    \u001b[49m\u001b[43mstrata\u001b[49m\u001b[38;5;241;43m=\u001b[39;49m\u001b[38;5;28;43mself\u001b[39;49m\u001b[38;5;241;43m.\u001b[39;49m\u001b[43mstrata\u001b[49m\u001b[43m,\u001b[49m\n\u001b[1;32m    297\u001b[0m \u001b[43m    \u001b[49m\u001b[43mweights_col\u001b[49m\u001b[38;5;241;43m=\u001b[39;49m\u001b[43mweights_col\u001b[49m\u001b[43m,\u001b[49m\n\u001b[1;32m    298\u001b[0m \u001b[43m    \u001b[49m\u001b[43mcluster_col\u001b[49m\u001b[38;5;241;43m=\u001b[39;49m\u001b[43mcluster_col\u001b[49m\u001b[43m,\u001b[49m\n\u001b[1;32m    299\u001b[0m \u001b[43m    \u001b[49m\u001b[43mrobust\u001b[49m\u001b[38;5;241;43m=\u001b[39;49m\u001b[43mrobust\u001b[49m\u001b[43m,\u001b[49m\n\u001b[1;32m    300\u001b[0m \u001b[43m    \u001b[49m\u001b[43mbatch_mode\u001b[49m\u001b[38;5;241;43m=\u001b[39;49m\u001b[43mbatch_mode\u001b[49m\u001b[43m,\u001b[49m\n\u001b[1;32m    301\u001b[0m \u001b[43m    \u001b[49m\u001b[43mtimeline\u001b[49m\u001b[38;5;241;43m=\u001b[39;49m\u001b[43mtimeline\u001b[49m\u001b[43m,\u001b[49m\n\u001b[1;32m    302\u001b[0m \u001b[43m    \u001b[49m\u001b[43mformula\u001b[49m\u001b[38;5;241;43m=\u001b[39;49m\u001b[43mformula\u001b[49m\u001b[43m,\u001b[49m\n\u001b[1;32m    303\u001b[0m \u001b[43m    \u001b[49m\u001b[43mentry_col\u001b[49m\u001b[38;5;241;43m=\u001b[39;49m\u001b[43mentry_col\u001b[49m\u001b[43m,\u001b[49m\n\u001b[1;32m    304\u001b[0m \u001b[43m    \u001b[49m\u001b[43mfit_options\u001b[49m\u001b[38;5;241;43m=\u001b[39;49m\u001b[43mfit_options\u001b[49m\u001b[43m,\u001b[49m\n\u001b[1;32m    305\u001b[0m \u001b[43m\u001b[49m\u001b[43m)\u001b[49m\n\u001b[1;32m    306\u001b[0m \u001b[38;5;28;01mreturn\u001b[39;00m \u001b[38;5;28mself\u001b[39m\n",
      "File \u001b[0;32m/opt/conda/lib/python3.9/site-packages/lifelines/fitters/coxph_fitter.py:610\u001b[0m, in \u001b[0;36mCoxPHFitter._fit_model\u001b[0;34m(self, *args, **kwargs)\u001b[0m\n\u001b[1;32m    608\u001b[0m \u001b[38;5;28;01mdef\u001b[39;00m \u001b[38;5;21m_fit_model\u001b[39m(\u001b[38;5;28mself\u001b[39m, \u001b[38;5;241m*\u001b[39margs, \u001b[38;5;241m*\u001b[39m\u001b[38;5;241m*\u001b[39mkwargs):\n\u001b[1;32m    609\u001b[0m     \u001b[38;5;28;01mif\u001b[39;00m \u001b[38;5;28mself\u001b[39m\u001b[38;5;241m.\u001b[39mbaseline_estimation_method \u001b[38;5;241m==\u001b[39m \u001b[38;5;124m\"\u001b[39m\u001b[38;5;124mbreslow\u001b[39m\u001b[38;5;124m\"\u001b[39m:\n\u001b[0;32m--> 610\u001b[0m         \u001b[38;5;28;01mreturn\u001b[39;00m \u001b[38;5;28;43mself\u001b[39;49m\u001b[38;5;241;43m.\u001b[39;49m\u001b[43m_fit_model_breslow\u001b[49m\u001b[43m(\u001b[49m\u001b[38;5;241;43m*\u001b[39;49m\u001b[43margs\u001b[49m\u001b[43m,\u001b[49m\u001b[43m \u001b[49m\u001b[38;5;241;43m*\u001b[39;49m\u001b[38;5;241;43m*\u001b[39;49m\u001b[43mkwargs\u001b[49m\u001b[43m)\u001b[49m\n\u001b[1;32m    611\u001b[0m     \u001b[38;5;28;01melif\u001b[39;00m \u001b[38;5;28mself\u001b[39m\u001b[38;5;241m.\u001b[39mbaseline_estimation_method \u001b[38;5;241m==\u001b[39m \u001b[38;5;124m\"\u001b[39m\u001b[38;5;124mspline\u001b[39m\u001b[38;5;124m\"\u001b[39m:\n\u001b[1;32m    612\u001b[0m         \u001b[38;5;28;01mreturn\u001b[39;00m \u001b[38;5;28mself\u001b[39m\u001b[38;5;241m.\u001b[39m_fit_model_spline(\u001b[38;5;241m*\u001b[39margs, \u001b[38;5;241m*\u001b[39m\u001b[38;5;241m*\u001b[39mkwargs)\n",
      "File \u001b[0;32m/opt/conda/lib/python3.9/site-packages/lifelines/fitters/coxph_fitter.py:623\u001b[0m, in \u001b[0;36mCoxPHFitter._fit_model_breslow\u001b[0;34m(self, *args, **kwargs)\u001b[0m\n\u001b[1;32m    619\u001b[0m model \u001b[38;5;241m=\u001b[39m SemiParametricPHFitter(\n\u001b[1;32m    620\u001b[0m     penalizer\u001b[38;5;241m=\u001b[39m\u001b[38;5;28mself\u001b[39m\u001b[38;5;241m.\u001b[39mpenalizer, l1_ratio\u001b[38;5;241m=\u001b[39m\u001b[38;5;28mself\u001b[39m\u001b[38;5;241m.\u001b[39ml1_ratio, strata\u001b[38;5;241m=\u001b[39m\u001b[38;5;28mself\u001b[39m\u001b[38;5;241m.\u001b[39mstrata, alpha\u001b[38;5;241m=\u001b[39m\u001b[38;5;28mself\u001b[39m\u001b[38;5;241m.\u001b[39malpha, label\u001b[38;5;241m=\u001b[39m\u001b[38;5;28mself\u001b[39m\u001b[38;5;241m.\u001b[39m_label\n\u001b[1;32m    621\u001b[0m )\n\u001b[1;32m    622\u001b[0m \u001b[38;5;28;01mif\u001b[39;00m utils\u001b[38;5;241m.\u001b[39mCensoringType\u001b[38;5;241m.\u001b[39mis_right_censoring(\u001b[38;5;28mself\u001b[39m):\n\u001b[0;32m--> 623\u001b[0m     \u001b[43mmodel\u001b[49m\u001b[38;5;241;43m.\u001b[39;49m\u001b[43mfit\u001b[49m\u001b[43m(\u001b[49m\u001b[38;5;241;43m*\u001b[39;49m\u001b[43margs\u001b[49m\u001b[43m,\u001b[49m\u001b[43m \u001b[49m\u001b[38;5;241;43m*\u001b[39;49m\u001b[38;5;241;43m*\u001b[39;49m\u001b[43mkwargs\u001b[49m\u001b[43m)\u001b[49m\n\u001b[1;32m    624\u001b[0m     \u001b[38;5;28;01mreturn\u001b[39;00m model\n\u001b[1;32m    625\u001b[0m \u001b[38;5;28;01melse\u001b[39;00m:\n",
      "File \u001b[0;32m/opt/conda/lib/python3.9/site-packages/lifelines/utils/__init__.py:56\u001b[0m, in \u001b[0;36mCensoringType.right_censoring.<locals>.f\u001b[0;34m(model, *args, **kwargs)\u001b[0m\n\u001b[1;32m     53\u001b[0m \u001b[38;5;129m@wraps\u001b[39m(function)\n\u001b[1;32m     54\u001b[0m \u001b[38;5;28;01mdef\u001b[39;00m \u001b[38;5;21mf\u001b[39m(model, \u001b[38;5;241m*\u001b[39margs, \u001b[38;5;241m*\u001b[39m\u001b[38;5;241m*\u001b[39mkwargs):\n\u001b[1;32m     55\u001b[0m     \u001b[38;5;28mcls\u001b[39m\u001b[38;5;241m.\u001b[39mset_censoring_type(model, \u001b[38;5;28mcls\u001b[39m\u001b[38;5;241m.\u001b[39mRIGHT)\n\u001b[0;32m---> 56\u001b[0m     \u001b[38;5;28;01mreturn\u001b[39;00m \u001b[43mfunction\u001b[49m\u001b[43m(\u001b[49m\u001b[43mmodel\u001b[49m\u001b[43m,\u001b[49m\u001b[43m \u001b[49m\u001b[38;5;241;43m*\u001b[39;49m\u001b[43margs\u001b[49m\u001b[43m,\u001b[49m\u001b[43m \u001b[49m\u001b[38;5;241;43m*\u001b[39;49m\u001b[38;5;241;43m*\u001b[39;49m\u001b[43mkwargs\u001b[49m\u001b[43m)\u001b[49m\n",
      "File \u001b[0;32m/opt/conda/lib/python3.9/site-packages/lifelines/fitters/coxph_fitter.py:1252\u001b[0m, in \u001b[0;36mSemiParametricPHFitter.fit\u001b[0;34m(self, df, duration_col, event_col, show_progress, initial_point, strata, weights_col, cluster_col, robust, batch_mode, timeline, formula, entry_col, fit_options)\u001b[0m\n\u001b[1;32m   1247\u001b[0m \u001b[38;5;66;03m# this is surprisingly faster to do...\u001b[39;00m\n\u001b[1;32m   1248\u001b[0m X_norm \u001b[38;5;241m=\u001b[39m pd\u001b[38;5;241m.\u001b[39mDataFrame(\n\u001b[1;32m   1249\u001b[0m     utils\u001b[38;5;241m.\u001b[39mnormalize(X\u001b[38;5;241m.\u001b[39mvalues, \u001b[38;5;28mself\u001b[39m\u001b[38;5;241m.\u001b[39m_norm_mean\u001b[38;5;241m.\u001b[39mvalues, \u001b[38;5;28mself\u001b[39m\u001b[38;5;241m.\u001b[39m_norm_std\u001b[38;5;241m.\u001b[39mvalues), index\u001b[38;5;241m=\u001b[39mX\u001b[38;5;241m.\u001b[39mindex, columns\u001b[38;5;241m=\u001b[39mX\u001b[38;5;241m.\u001b[39mcolumns\n\u001b[1;32m   1250\u001b[0m )\n\u001b[0;32m-> 1252\u001b[0m params_, ll_, variance_matrix_, baseline_hazard_, baseline_cumulative_hazard_, model \u001b[38;5;241m=\u001b[39m \u001b[38;5;28;43mself\u001b[39;49m\u001b[38;5;241;43m.\u001b[39;49m\u001b[43m_fit_model\u001b[49m\u001b[43m(\u001b[49m\n\u001b[1;32m   1253\u001b[0m \u001b[43m    \u001b[49m\u001b[43mX_norm\u001b[49m\u001b[43m,\u001b[49m\n\u001b[1;32m   1254\u001b[0m \u001b[43m    \u001b[49m\u001b[43mT\u001b[49m\u001b[43m,\u001b[49m\n\u001b[1;32m   1255\u001b[0m \u001b[43m    \u001b[49m\u001b[43mE\u001b[49m\u001b[43m,\u001b[49m\n\u001b[1;32m   1256\u001b[0m \u001b[43m    \u001b[49m\u001b[43mweights\u001b[49m\u001b[38;5;241;43m=\u001b[39;49m\u001b[43mweights\u001b[49m\u001b[43m,\u001b[49m\n\u001b[1;32m   1257\u001b[0m \u001b[43m    \u001b[49m\u001b[43mentries\u001b[49m\u001b[38;5;241;43m=\u001b[39;49m\u001b[43mentries\u001b[49m\u001b[43m,\u001b[49m\n\u001b[1;32m   1258\u001b[0m \u001b[43m    \u001b[49m\u001b[43mfit_options\u001b[49m\u001b[38;5;241;43m=\u001b[39;49m\u001b[43mutils\u001b[49m\u001b[38;5;241;43m.\u001b[39;49m\u001b[43mcoalesce\u001b[49m\u001b[43m(\u001b[49m\u001b[43mfit_options\u001b[49m\u001b[43m,\u001b[49m\u001b[43m \u001b[49m\u001b[38;5;28;43mdict\u001b[39;49m\u001b[43m(\u001b[49m\u001b[43m)\u001b[49m\u001b[43m)\u001b[49m\u001b[43m,\u001b[49m\n\u001b[1;32m   1259\u001b[0m \u001b[43m    \u001b[49m\u001b[43minitial_point\u001b[49m\u001b[38;5;241;43m=\u001b[39;49m\u001b[43minitial_point\u001b[49m\u001b[43m,\u001b[49m\n\u001b[1;32m   1260\u001b[0m \u001b[43m    \u001b[49m\u001b[43mshow_progress\u001b[49m\u001b[38;5;241;43m=\u001b[39;49m\u001b[43mshow_progress\u001b[49m\u001b[43m,\u001b[49m\n\u001b[1;32m   1261\u001b[0m \u001b[43m\u001b[49m\u001b[43m)\u001b[49m\n\u001b[1;32m   1263\u001b[0m \u001b[38;5;28mself\u001b[39m\u001b[38;5;241m.\u001b[39mlog_likelihood_ \u001b[38;5;241m=\u001b[39m ll_\n\u001b[1;32m   1264\u001b[0m \u001b[38;5;28mself\u001b[39m\u001b[38;5;241m.\u001b[39mmodel \u001b[38;5;241m=\u001b[39m model\n",
      "File \u001b[0;32m/opt/conda/lib/python3.9/site-packages/lifelines/fitters/coxph_fitter.py:1380\u001b[0m, in \u001b[0;36mSemiParametricPHFitter._fit_model\u001b[0;34m(self, X, T, E, weights, entries, fit_options, initial_point, show_progress)\u001b[0m\n\u001b[1;32m   1369\u001b[0m \u001b[38;5;28;01mdef\u001b[39;00m \u001b[38;5;21m_fit_model\u001b[39m(\n\u001b[1;32m   1370\u001b[0m     \u001b[38;5;28mself\u001b[39m,\n\u001b[1;32m   1371\u001b[0m     X: DataFrame,\n\u001b[0;32m   (...)\u001b[0m\n\u001b[1;32m   1378\u001b[0m     show_progress: \u001b[38;5;28mbool\u001b[39m \u001b[38;5;241m=\u001b[39m \u001b[38;5;28;01mTrue\u001b[39;00m,\n\u001b[1;32m   1379\u001b[0m ):\n\u001b[0;32m-> 1380\u001b[0m     beta_, ll_, hessian_ \u001b[38;5;241m=\u001b[39m \u001b[38;5;28;43mself\u001b[39;49m\u001b[38;5;241;43m.\u001b[39;49m\u001b[43m_newton_raphson_for_efron_model\u001b[49m\u001b[43m(\u001b[49m\n\u001b[1;32m   1381\u001b[0m \u001b[43m        \u001b[49m\u001b[43mX\u001b[49m\u001b[43m,\u001b[49m\n\u001b[1;32m   1382\u001b[0m \u001b[43m        \u001b[49m\u001b[43mT\u001b[49m\u001b[43m,\u001b[49m\n\u001b[1;32m   1383\u001b[0m \u001b[43m        \u001b[49m\u001b[43mE\u001b[49m\u001b[43m,\u001b[49m\n\u001b[1;32m   1384\u001b[0m \u001b[43m        \u001b[49m\u001b[43mweights\u001b[49m\u001b[43m,\u001b[49m\n\u001b[1;32m   1385\u001b[0m \u001b[43m        \u001b[49m\u001b[43mentries\u001b[49m\u001b[43m,\u001b[49m\n\u001b[1;32m   1386\u001b[0m \u001b[43m        \u001b[49m\u001b[43minitial_point\u001b[49m\u001b[38;5;241;43m=\u001b[39;49m\u001b[43minitial_point\u001b[49m\u001b[43m,\u001b[49m\n\u001b[1;32m   1387\u001b[0m \u001b[43m        \u001b[49m\u001b[43mshow_progress\u001b[49m\u001b[38;5;241;43m=\u001b[39;49m\u001b[43mshow_progress\u001b[49m\u001b[43m,\u001b[49m\n\u001b[1;32m   1388\u001b[0m \u001b[43m        \u001b[49m\u001b[38;5;241;43m*\u001b[39;49m\u001b[38;5;241;43m*\u001b[39;49m\u001b[43mfit_options\u001b[49m\u001b[43m,\u001b[49m\n\u001b[1;32m   1389\u001b[0m \u001b[43m    \u001b[49m\u001b[43m)\u001b[49m\n\u001b[1;32m   1391\u001b[0m     \u001b[38;5;66;03m# compute the baseline hazard here.\u001b[39;00m\n\u001b[1;32m   1392\u001b[0m     predicted_partial_hazards_ \u001b[38;5;241m=\u001b[39m (\n\u001b[1;32m   1393\u001b[0m         pd\u001b[38;5;241m.\u001b[39mDataFrame(np\u001b[38;5;241m.\u001b[39mexp(dot(X, beta_)), columns\u001b[38;5;241m=\u001b[39m[\u001b[38;5;124m\"\u001b[39m\u001b[38;5;124mP\u001b[39m\u001b[38;5;124m\"\u001b[39m])\u001b[38;5;241m.\u001b[39massign(T\u001b[38;5;241m=\u001b[39mT\u001b[38;5;241m.\u001b[39mvalues, E\u001b[38;5;241m=\u001b[39mE\u001b[38;5;241m.\u001b[39mvalues, W\u001b[38;5;241m=\u001b[39mweights\u001b[38;5;241m.\u001b[39mvalues)\u001b[38;5;241m.\u001b[39mset_index(X\u001b[38;5;241m.\u001b[39mindex)\n\u001b[1;32m   1394\u001b[0m     )\n",
      "File \u001b[0;32m/opt/conda/lib/python3.9/site-packages/lifelines/fitters/coxph_fitter.py:1539\u001b[0m, in \u001b[0;36mSemiParametricPHFitter._newton_raphson_for_efron_model\u001b[0;34m(self, X, T, E, weights, entries, initial_point, show_progress, step_size, precision, r_precision, max_steps)\u001b[0m\n\u001b[1;32m   1534\u001b[0m     \u001b[38;5;28;01mraise\u001b[39;00m exceptions\u001b[38;5;241m.\u001b[39mConvergenceError(\n\u001b[1;32m   1535\u001b[0m \u001b[38;5;250m        \u001b[39m\u001b[38;5;124;03m\"\"\"Hessian or gradient contains nan or inf value(s). Convergence halted. {0}\"\"\"\u001b[39;00m\u001b[38;5;241m.\u001b[39mformat(CONVERGENCE_DOCS),\n\u001b[1;32m   1536\u001b[0m         e,\n\u001b[1;32m   1537\u001b[0m     )\n\u001b[1;32m   1538\u001b[0m \u001b[38;5;28;01melif\u001b[39;00m \u001b[38;5;28misinstance\u001b[39m(e, LinAlgError):\n\u001b[0;32m-> 1539\u001b[0m     \u001b[38;5;28;01mraise\u001b[39;00m exceptions\u001b[38;5;241m.\u001b[39mConvergenceError(\n\u001b[1;32m   1540\u001b[0m \u001b[38;5;250m        \u001b[39m\u001b[38;5;124;03m\"\"\"Convergence halted due to matrix inversion problems. Suspicion is high collinearity. {0}\"\"\"\u001b[39;00m\u001b[38;5;241m.\u001b[39mformat(\n\u001b[1;32m   1541\u001b[0m             CONVERGENCE_DOCS\n\u001b[1;32m   1542\u001b[0m         ),\n\u001b[1;32m   1543\u001b[0m         e,\n\u001b[1;32m   1544\u001b[0m     )\n\u001b[1;32m   1545\u001b[0m \u001b[38;5;28;01melse\u001b[39;00m:\n\u001b[1;32m   1546\u001b[0m     \u001b[38;5;66;03m# something else?\u001b[39;00m\n\u001b[1;32m   1547\u001b[0m     \u001b[38;5;28;01mraise\u001b[39;00m e\n",
      "\u001b[0;31mConvergenceError\u001b[0m: Convergence halted due to matrix inversion problems. Suspicion is high collinearity. Please see the following tips in the lifelines documentation: https://lifelines.readthedocs.io/en/latest/Examples.html#problems-with-convergence-in-the-cox-proportional-hazard-modelMatrix is singular."
     ]
    }
   ],
   "source": [
    "# Fit the model\n",
    "cph.fit(df_model_scaled, duration_col='duration', event_col='event')"
   ]
  },
  {
   "cell_type": "code",
   "execution_count": null,
   "id": "c3f070a5-1a2f-4dbe-a6d1-d0f5ff6a9a53",
   "metadata": {},
   "outputs": [],
   "source": [
    "# Print the summary of the model\n",
    "cph.print_summary()"
   ]
  },
  {
   "cell_type": "code",
   "execution_count": null,
   "id": "9611152c-cd83-4440-ac6c-7c2dbbf37c32",
   "metadata": {},
   "outputs": [],
   "source": [
    "# Predict the survival function for a new customer order\n",
    "# Example: new_customer_order = df_model.iloc[0]  # Replace with actual new order data\n",
    "# survival_function = cph.predict_survival_function(new_customer_order)\n",
    "# print(survival_function)"
   ]
  },
  {
   "cell_type": "code",
   "execution_count": null,
   "id": "6699d926-777b-4b56-a36e-d598d4087009",
   "metadata": {},
   "outputs": [],
   "source": []
  },
  {
   "cell_type": "code",
   "execution_count": null,
   "id": "41bd57b7-a1dc-4f74-a3cd-9217c46bf59c",
   "metadata": {},
   "outputs": [],
   "source": []
  }
 ],
 "metadata": {
  "kernelspec": {
   "display_name": "Python 3 (ipykernel)",
   "language": "python",
   "name": "python3"
  },
  "language_info": {
   "codemirror_mode": {
    "name": "ipython",
    "version": 3
   },
   "file_extension": ".py",
   "mimetype": "text/x-python",
   "name": "python",
   "nbconvert_exporter": "python",
   "pygments_lexer": "ipython3",
   "version": "3.9.19"
  }
 },
 "nbformat": 4,
 "nbformat_minor": 5
}
