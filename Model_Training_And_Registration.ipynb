{
 "cells": [
  {
   "cell_type": "markdown",
   "id": "0bcad55b-31a7-4ec6-99d1-5c1adce88d6e",
   "metadata": {},
   "source": [
    "# Use O2C_Template Customized Notebook Template"
   ]
  },
  {
   "cell_type": "code",
   "execution_count": 1,
   "id": "4545a18a-ac99-4a61-87eb-685a9fc1d216",
   "metadata": {},
   "outputs": [],
   "source": [
    "import pandas as pd\n",
    "import numpy as np\n",
    "\n",
    "from sklearn.model_selection import train_test_split, cross_val_score\n",
    "from sklearn.pipeline import Pipeline\n",
    "from sklearn.preprocessing import StandardScaler,MinMaxScaler\n",
    "from sklearn.svm import SVC\n",
    "from sklearn.neighbors import KNeighborsClassifier\n",
    "from sklearn.tree import DecisionTreeClassifier\n",
    "from sklearn.model_selection import GridSearchCV\n",
    "from sklearn.ensemble import RandomForestClassifier\n",
    "from sklearn.ensemble import AdaBoostClassifier\n",
    "from sklearn.ensemble import GradientBoostingClassifier\n",
    "from sklearn.ensemble import ExtraTreesClassifier\n",
    "from sklearn.ensemble import VotingClassifier\n",
    "from sklearn.metrics import classification_report, f1_score, r2_score, roc_auc_score, confusion_matrix, accuracy_score"
   ]
  },
  {
   "cell_type": "code",
   "execution_count": 2,
   "id": "fe2d2323-ae3c-4027-b777-5c40e16db890",
   "metadata": {},
   "outputs": [],
   "source": [
    "from fosforml.model_manager.snowflakesession import get_session\n",
    "my_session = get_session()"
   ]
  },
  {
   "cell_type": "code",
   "execution_count": 3,
   "id": "b5958b79-ef81-46ec-8591-926b906584dd",
   "metadata": {},
   "outputs": [],
   "source": [
    "table_name = 'ORDER_TO_CASH_ENRICHED'\n",
    "\n",
    "sf_df = my_session.sql(\"select * from {}\".format(table_name))\n",
    "df = sf_df.to_pandas()"
   ]
  },
  {
   "cell_type": "code",
   "execution_count": 4,
   "id": "1b452a02-6961-49fb-b2cd-ad499a0d21d2",
   "metadata": {},
   "outputs": [],
   "source": [
    "df_train = df[df['INVOICESTATUS'].isin(['LATE_PAYMENT','ONTIME_PAYMENT'])]\n",
    "df_test = df[~df['INVOICESTATUS'].isin(['LATE_PAYMENT','ONTIME_PAYMENT'])]"
   ]
  },
  {
   "cell_type": "code",
   "execution_count": 5,
   "id": "48250bbd-0aab-4c5b-9f78-2bb14e4cee79",
   "metadata": {},
   "outputs": [
    {
     "data": {
      "text/plain": [
       "((170161, 79), (693, 79))"
      ]
     },
     "execution_count": 5,
     "metadata": {},
     "output_type": "execute_result"
    }
   ],
   "source": [
    "df_train.shape, df_test.shape"
   ]
  },
  {
   "cell_type": "code",
   "execution_count": 6,
   "id": "3045e22d-d3aa-4c69-9ab6-01451a4d4e98",
   "metadata": {},
   "outputs": [],
   "source": [
    "df_final = df.copy()\n",
    "df = df_train.copy()"
   ]
  },
  {
   "cell_type": "code",
   "execution_count": 7,
   "id": "8d791806-6230-4d4b-a679-eb62b6954951",
   "metadata": {},
   "outputs": [
    {
     "data": {
      "text/plain": [
       "((170854, 79), (170161, 79))"
      ]
     },
     "execution_count": 7,
     "metadata": {},
     "output_type": "execute_result"
    }
   ],
   "source": [
    "df_final.shape, df.shape"
   ]
  },
  {
   "cell_type": "code",
   "execution_count": 8,
   "id": "cb32c411-0adf-4d39-9c8a-22613b925acc",
   "metadata": {},
   "outputs": [],
   "source": [
    "# Assuming df is your dataframe\n",
    "df['ORDERDATE'] = pd.to_datetime(df['ORDERDATE'], errors='coerce')\n",
    "df['DELIVERYDATE'] = pd.to_datetime(df['DELIVERYDATE'], errors='coerce')\n",
    "df['INVOICEDATE'] = pd.to_datetime(df['INVOICEDATE'], errors='coerce')\n",
    "df['PAYMENTDATE'] = pd.to_datetime(df['PAYMENTDATE'], errors='coerce')\n",
    "df['INVOICEDUEDATE'] = pd.to_datetime(df['INVOICEDUEDATE'], errors='coerce')\n",
    "df['DELIVEREDON'] = pd.to_datetime(df['DELIVEREDON'], errors='coerce')"
   ]
  },
  {
   "cell_type": "code",
   "execution_count": 9,
   "id": "f1346ae1-b074-4cec-a8da-40c036bef86b",
   "metadata": {},
   "outputs": [],
   "source": [
    "df['MONTH'] = pd.to_datetime(df['ORDERDATE']).dt.month\n",
    "df['YEAR'] = pd.to_datetime(df['ORDERDATE']).dt.year\n",
    "df['WEEK'] = pd.to_datetime(df['ORDERDATE']).dt.isocalendar().week\n",
    "df['WEEKEND'] = pd.to_datetime(df['ORDERDATE']).dt.weekday >= 5  # True if the day is Saturday or Sunday\n",
    "df['DAY_OF_THE_MONTH'] = pd.to_datetime(df['ORDERDATE']).dt.day"
   ]
  },
  {
   "cell_type": "code",
   "execution_count": 10,
   "id": "4549a1ae-6e05-4dfd-a071-c8f9d6eea89d",
   "metadata": {},
   "outputs": [],
   "source": [
    "# Delivery Delay\n",
    "df['DELIVERY_DELAY'] = (df['DELIVEREDON'] - df['DELIVERYDATE']).dt.days\n",
    "\n",
    "# Payment Delay\n",
    "df['PAYMENT_DELAY'] = (df['PAYMENTDATE'] - df['INVOICEDUEDATE']).dt.days"
   ]
  },
  {
   "cell_type": "code",
   "execution_count": 11,
   "id": "ae57ced7-0cca-4e4a-bf1c-43b72e60676f",
   "metadata": {},
   "outputs": [
    {
     "data": {
      "text/html": [
       "<div>\n",
       "<style scoped>\n",
       "    .dataframe tbody tr th:only-of-type {\n",
       "        vertical-align: middle;\n",
       "    }\n",
       "\n",
       "    .dataframe tbody tr th {\n",
       "        vertical-align: top;\n",
       "    }\n",
       "\n",
       "    .dataframe thead th {\n",
       "        text-align: right;\n",
       "    }\n",
       "</style>\n",
       "<table border=\"1\" class=\"dataframe\">\n",
       "  <thead>\n",
       "    <tr style=\"text-align: right;\">\n",
       "      <th></th>\n",
       "      <th>PAYMENTDATE</th>\n",
       "      <th>INVOICEDUEDATE</th>\n",
       "      <th>PAYMENT_DELAY</th>\n",
       "      <th>DELIVEREDON</th>\n",
       "      <th>DELIVERYDATE</th>\n",
       "      <th>DELIVERY_DELAY</th>\n",
       "    </tr>\n",
       "  </thead>\n",
       "  <tbody>\n",
       "    <tr>\n",
       "      <th>0</th>\n",
       "      <td>2022-01-21</td>\n",
       "      <td>2022-02-02</td>\n",
       "      <td>-12</td>\n",
       "      <td>2022-01-08</td>\n",
       "      <td>2022-01-06</td>\n",
       "      <td>2</td>\n",
       "    </tr>\n",
       "    <tr>\n",
       "      <th>1</th>\n",
       "      <td>2022-01-21</td>\n",
       "      <td>2022-02-02</td>\n",
       "      <td>-12</td>\n",
       "      <td>2022-01-08</td>\n",
       "      <td>2022-01-06</td>\n",
       "      <td>2</td>\n",
       "    </tr>\n",
       "    <tr>\n",
       "      <th>2</th>\n",
       "      <td>2022-01-21</td>\n",
       "      <td>2022-02-02</td>\n",
       "      <td>-12</td>\n",
       "      <td>2022-01-08</td>\n",
       "      <td>2022-01-06</td>\n",
       "      <td>2</td>\n",
       "    </tr>\n",
       "    <tr>\n",
       "      <th>3</th>\n",
       "      <td>2022-02-01</td>\n",
       "      <td>2022-02-06</td>\n",
       "      <td>-5</td>\n",
       "      <td>2022-01-06</td>\n",
       "      <td>2022-01-05</td>\n",
       "      <td>1</td>\n",
       "    </tr>\n",
       "    <tr>\n",
       "      <th>4</th>\n",
       "      <td>2022-02-21</td>\n",
       "      <td>2022-02-10</td>\n",
       "      <td>11</td>\n",
       "      <td>2022-01-15</td>\n",
       "      <td>2022-01-11</td>\n",
       "      <td>4</td>\n",
       "    </tr>\n",
       "  </tbody>\n",
       "</table>\n",
       "</div>"
      ],
      "text/plain": [
       "  PAYMENTDATE INVOICEDUEDATE  PAYMENT_DELAY DELIVEREDON DELIVERYDATE  \\\n",
       "0  2022-01-21     2022-02-02            -12  2022-01-08   2022-01-06   \n",
       "1  2022-01-21     2022-02-02            -12  2022-01-08   2022-01-06   \n",
       "2  2022-01-21     2022-02-02            -12  2022-01-08   2022-01-06   \n",
       "3  2022-02-01     2022-02-06             -5  2022-01-06   2022-01-05   \n",
       "4  2022-02-21     2022-02-10             11  2022-01-15   2022-01-11   \n",
       "\n",
       "   DELIVERY_DELAY  \n",
       "0               2  \n",
       "1               2  \n",
       "2               2  \n",
       "3               1  \n",
       "4               4  "
      ]
     },
     "execution_count": 11,
     "metadata": {},
     "output_type": "execute_result"
    }
   ],
   "source": [
    "df[['PAYMENTDATE','INVOICEDUEDATE','PAYMENT_DELAY','DELIVEREDON','DELIVERYDATE','DELIVERY_DELAY']].head()"
   ]
  },
  {
   "cell_type": "code",
   "execution_count": 12,
   "id": "d3552370-97c4-41f7-a058-3175af7a429f",
   "metadata": {},
   "outputs": [],
   "source": [
    "def set_flag(delay):\n",
    "    return 1 if delay >= 1 else 0"
   ]
  },
  {
   "cell_type": "code",
   "execution_count": 13,
   "id": "4274acc5-c5d6-4bcf-8df4-22f36c6308d2",
   "metadata": {},
   "outputs": [],
   "source": [
    "df['PAYMENT_DELAY_FLAG'] = df['PAYMENT_DELAY'].apply(set_flag)\n",
    "df['DELIVERY_DELAY_FLAG'] = df['DELIVERY_DELAY'].apply(set_flag)"
   ]
  },
  {
   "cell_type": "code",
   "execution_count": 14,
   "id": "9faa633f-c95f-4cf0-9918-9a2958906468",
   "metadata": {},
   "outputs": [
    {
     "data": {
      "text/plain": [
       "PAYMENT_DELAY_FLAG\n",
       "1    89835\n",
       "0    80326\n",
       "Name: count, dtype: int64"
      ]
     },
     "execution_count": 14,
     "metadata": {},
     "output_type": "execute_result"
    }
   ],
   "source": [
    "df['PAYMENT_DELAY_FLAG'].value_counts()"
   ]
  },
  {
   "cell_type": "code",
   "execution_count": 15,
   "id": "9f997737-bfec-4f9a-bb69-9a83eff3b2ae",
   "metadata": {},
   "outputs": [
    {
     "data": {
      "text/plain": [
       "DELIVERY_DELAY_FLAG\n",
       "1    170161\n",
       "Name: count, dtype: int64"
      ]
     },
     "execution_count": 15,
     "metadata": {},
     "output_type": "execute_result"
    }
   ],
   "source": [
    "df['DELIVERY_DELAY_FLAG'].value_counts()"
   ]
  },
  {
   "cell_type": "code",
   "execution_count": 16,
   "id": "a6841f58-06d6-4802-aac0-5e92ee4d3ca7",
   "metadata": {},
   "outputs": [
    {
     "name": "stdout",
     "output_type": "stream",
     "text": [
      "['ORDERID', 'ORDERITEMID', 'PRODUCTID', 'PRODUCTNAME', 'ORDERQUANTITY', 'UNITPRICE', 'ORDERVALUE', 'CUSTOMERID', 'CUSTOMERNAME', 'PRODUCTCATEGORY', 'ORDERDATE', 'ORDERSTATUS', 'ORDERAMOUNT', 'ORDERCOUNT', 'SHIPMENTID', 'SHIPMENTDATE', 'DELIVERYDATE', 'DELIVEREDON', 'CARRIER', 'SHIPMENTSTATUS', 'INVOICEID', 'INVOICEDATE', 'INVOICEDUEDATE', 'PAYMENTDATE', 'INVOICESTATUS', 'PAYMENTMETHOD', 'PRODUCTTYPE', 'QUANTITY', 'COMPANYTYPE', 'CONTACTDETAILS', 'EMAILDETAILS', 'ADDRESSDETAILS', 'ADMINDETAILS', 'CREDITLIMIT', 'CUSTOMERSINCE', 'PAYMENTTERMS', 'CREDITLIMITTYPE', 'CUSTOMERTYPE', 'SUPPLIERNAME', 'SUPPLIERID', 'CC_CUSTOMER_LIFETIME_VALUE', 'CC_ORDER_FREQUENCY', 'CC_AVERAGE_ORDER_VALUE', 'CC_RECENCY', 'CC_PREFERRED_PAYMENT_METHOD', 'CC_PREFERRED_PRODUCT_CATEGORY', 'CC_PREFERRED_PRODUCT_TYPE', 'CC_AVG_ORDER_PROCESSING_TIME', 'CC_AVG_INVOICE_PROCESSING_TIME', 'CC_AVG_DELIVERY_DELAY', 'CC_AVG_PAYMENT_DELAY', 'CC_TOTAL_ORDERS', 'CC_TOTAL_DELAYS', 'CC_ORDER_CONSISTENCY', 'CC_INVOICE_CONSISTENCY', 'CC_DELIVERY_CONSISTENCY', 'CC_PAYMENT_CONSISTENCY', 'PR_TOTAL_SALES_VOLUME', 'PR_TOTAL_SALES_VALUE', 'PR_AVG_ORDER_QUANTITY', 'PR_AVG_UNIT_PRICE', 'PR_NUMBER_OF_ORDERS', 'PR_AVG_DELIVERY_TIME', 'PR_AVG_INVOICE_TIME', 'CAT_TOTAL_SALES_VOLUME', 'CAT_TOTAL_SALES_VALUE', 'CAT_AVG_ORDER_QUANTITY', 'CAT_AVG_UNIT_PRICE', 'CAT_NUMBER_OF_ORDERS', 'CAT_AVG_DELIVERY_TIME', 'CAT_AVG_INVOICE_TIME', 'SP_CUSTOMER_LIFETIME_VALUE', 'SP_ORDER_FREQUENCY', 'SP_AVERAGE_ORDER_VALUE', 'SP_AVG_ORDER_PROCESSING_TIME', 'SP_AVG_DELIVERY_DELAY', 'SP_TOTAL_ORDERS', 'SP_ORDER_CONSISTENCY', 'SP_DELIVERY_CONSISTENCY', 'MONTH', 'YEAR', 'WEEK', 'WEEKEND', 'DAY_OF_THE_MONTH', 'DELIVERY_DELAY', 'PAYMENT_DELAY', 'PAYMENT_DELAY_FLAG', 'DELIVERY_DELAY_FLAG']\n"
     ]
    }
   ],
   "source": [
    "print(list(df.columns))"
   ]
  },
  {
   "cell_type": "code",
   "execution_count": 17,
   "id": "01deb023-3237-4ca7-9487-95f28b31994d",
   "metadata": {},
   "outputs": [],
   "source": [
    "cols = ['ORDERAMOUNT','ORDERCOUNT',\n",
    "'CC_CUSTOMER_LIFETIME_VALUE', 'CC_ORDER_FREQUENCY', 'CC_AVERAGE_ORDER_VALUE', 'CC_RECENCY', 'CC_AVG_ORDER_PROCESSING_TIME', 'CC_AVG_INVOICE_PROCESSING_TIME', \n",
    "'CC_AVG_DELIVERY_DELAY', 'CC_AVG_PAYMENT_DELAY', 'CC_TOTAL_ORDERS', 'CC_TOTAL_DELAYS', 'CC_ORDER_CONSISTENCY', 'CC_INVOICE_CONSISTENCY', \n",
    "'CC_DELIVERY_CONSISTENCY', 'CC_PAYMENT_CONSISTENCY', 'CAT_TOTAL_SALES_VOLUME', 'CAT_TOTAL_SALES_VALUE', \n",
    "'CAT_AVG_ORDER_QUANTITY', 'CAT_AVG_UNIT_PRICE', 'CAT_NUMBER_OF_ORDERS', 'CAT_AVG_DELIVERY_TIME', 'CAT_AVG_INVOICE_TIME', \n",
    "'SP_CUSTOMER_LIFETIME_VALUE', 'SP_ORDER_FREQUENCY', 'SP_AVERAGE_ORDER_VALUE', 'SP_AVG_ORDER_PROCESSING_TIME', 'SP_AVG_DELIVERY_DELAY', \n",
    "'SP_TOTAL_ORDERS', 'SP_ORDER_CONSISTENCY', 'SP_DELIVERY_CONSISTENCY', 'MONTH', 'YEAR', 'WEEK', 'WEEKEND', 'DAY_OF_THE_MONTH', 'PAYMENT_DELAY_FLAG']"
   ]
  },
  {
   "cell_type": "code",
   "execution_count": 18,
   "id": "7dc38239-78a3-43ca-a706-479e88b41907",
   "metadata": {},
   "outputs": [],
   "source": [
    "df_payments = df[cols]"
   ]
  },
  {
   "cell_type": "code",
   "execution_count": 19,
   "id": "4cdade4a-403a-400c-865f-5beb93762b42",
   "metadata": {},
   "outputs": [
    {
     "data": {
      "text/html": [
       "<div>\n",
       "<style scoped>\n",
       "    .dataframe tbody tr th:only-of-type {\n",
       "        vertical-align: middle;\n",
       "    }\n",
       "\n",
       "    .dataframe tbody tr th {\n",
       "        vertical-align: top;\n",
       "    }\n",
       "\n",
       "    .dataframe thead th {\n",
       "        text-align: right;\n",
       "    }\n",
       "</style>\n",
       "<table border=\"1\" class=\"dataframe\">\n",
       "  <thead>\n",
       "    <tr style=\"text-align: right;\">\n",
       "      <th></th>\n",
       "      <th>ORDERAMOUNT</th>\n",
       "      <th>ORDERCOUNT</th>\n",
       "      <th>CC_CUSTOMER_LIFETIME_VALUE</th>\n",
       "      <th>CC_ORDER_FREQUENCY</th>\n",
       "      <th>CC_AVERAGE_ORDER_VALUE</th>\n",
       "      <th>CC_RECENCY</th>\n",
       "      <th>CC_AVG_ORDER_PROCESSING_TIME</th>\n",
       "      <th>CC_AVG_INVOICE_PROCESSING_TIME</th>\n",
       "      <th>CC_AVG_DELIVERY_DELAY</th>\n",
       "      <th>CC_AVG_PAYMENT_DELAY</th>\n",
       "      <th>...</th>\n",
       "      <th>SP_AVG_DELIVERY_DELAY</th>\n",
       "      <th>SP_TOTAL_ORDERS</th>\n",
       "      <th>SP_ORDER_CONSISTENCY</th>\n",
       "      <th>SP_DELIVERY_CONSISTENCY</th>\n",
       "      <th>MONTH</th>\n",
       "      <th>YEAR</th>\n",
       "      <th>WEEK</th>\n",
       "      <th>WEEKEND</th>\n",
       "      <th>DAY_OF_THE_MONTH</th>\n",
       "      <th>PAYMENT_DELAY_FLAG</th>\n",
       "    </tr>\n",
       "  </thead>\n",
       "  <tbody>\n",
       "    <tr>\n",
       "      <th>0</th>\n",
       "      <td>43795</td>\n",
       "      <td>3</td>\n",
       "      <td>14461634</td>\n",
       "      <td>542</td>\n",
       "      <td>12597.242160</td>\n",
       "      <td>2</td>\n",
       "      <td>4.508711</td>\n",
       "      <td>18.100174</td>\n",
       "      <td>1.500871</td>\n",
       "      <td>-6.397213</td>\n",
       "      <td>...</td>\n",
       "      <td>1.496910</td>\n",
       "      <td>75565</td>\n",
       "      <td>0.815395</td>\n",
       "      <td>0.499994</td>\n",
       "      <td>1</td>\n",
       "      <td>2022</td>\n",
       "      <td>52</td>\n",
       "      <td>True</td>\n",
       "      <td>1</td>\n",
       "      <td>0</td>\n",
       "    </tr>\n",
       "    <tr>\n",
       "      <th>1</th>\n",
       "      <td>43795</td>\n",
       "      <td>3</td>\n",
       "      <td>14461634</td>\n",
       "      <td>542</td>\n",
       "      <td>12597.242160</td>\n",
       "      <td>2</td>\n",
       "      <td>4.508711</td>\n",
       "      <td>18.100174</td>\n",
       "      <td>1.500871</td>\n",
       "      <td>-6.397213</td>\n",
       "      <td>...</td>\n",
       "      <td>1.496910</td>\n",
       "      <td>75565</td>\n",
       "      <td>0.815395</td>\n",
       "      <td>0.499994</td>\n",
       "      <td>1</td>\n",
       "      <td>2022</td>\n",
       "      <td>52</td>\n",
       "      <td>True</td>\n",
       "      <td>1</td>\n",
       "      <td>0</td>\n",
       "    </tr>\n",
       "    <tr>\n",
       "      <th>2</th>\n",
       "      <td>43795</td>\n",
       "      <td>3</td>\n",
       "      <td>14461634</td>\n",
       "      <td>542</td>\n",
       "      <td>12597.242160</td>\n",
       "      <td>2</td>\n",
       "      <td>4.508711</td>\n",
       "      <td>18.100174</td>\n",
       "      <td>1.500871</td>\n",
       "      <td>-6.397213</td>\n",
       "      <td>...</td>\n",
       "      <td>1.496910</td>\n",
       "      <td>75565</td>\n",
       "      <td>0.815395</td>\n",
       "      <td>0.499994</td>\n",
       "      <td>1</td>\n",
       "      <td>2022</td>\n",
       "      <td>52</td>\n",
       "      <td>True</td>\n",
       "      <td>1</td>\n",
       "      <td>0</td>\n",
       "    </tr>\n",
       "    <tr>\n",
       "      <th>3</th>\n",
       "      <td>5096</td>\n",
       "      <td>1</td>\n",
       "      <td>35737829</td>\n",
       "      <td>519</td>\n",
       "      <td>35105.922397</td>\n",
       "      <td>2</td>\n",
       "      <td>4.539293</td>\n",
       "      <td>29.626719</td>\n",
       "      <td>1.530452</td>\n",
       "      <td>0.135560</td>\n",
       "      <td>...</td>\n",
       "      <td>1.496910</td>\n",
       "      <td>75565</td>\n",
       "      <td>0.815395</td>\n",
       "      <td>0.499994</td>\n",
       "      <td>1</td>\n",
       "      <td>2022</td>\n",
       "      <td>52</td>\n",
       "      <td>True</td>\n",
       "      <td>1</td>\n",
       "      <td>0</td>\n",
       "    </tr>\n",
       "    <tr>\n",
       "      <th>4</th>\n",
       "      <td>138438</td>\n",
       "      <td>2</td>\n",
       "      <td>34640409</td>\n",
       "      <td>597</td>\n",
       "      <td>27935.813710</td>\n",
       "      <td>1</td>\n",
       "      <td>12.387903</td>\n",
       "      <td>22.563710</td>\n",
       "      <td>2.992742</td>\n",
       "      <td>-1.927419</td>\n",
       "      <td>...</td>\n",
       "      <td>3.001176</td>\n",
       "      <td>16158</td>\n",
       "      <td>3.179500</td>\n",
       "      <td>1.412790</td>\n",
       "      <td>1</td>\n",
       "      <td>2022</td>\n",
       "      <td>52</td>\n",
       "      <td>True</td>\n",
       "      <td>1</td>\n",
       "      <td>1</td>\n",
       "    </tr>\n",
       "  </tbody>\n",
       "</table>\n",
       "<p>5 rows × 37 columns</p>\n",
       "</div>"
      ],
      "text/plain": [
       "   ORDERAMOUNT  ORDERCOUNT  CC_CUSTOMER_LIFETIME_VALUE  CC_ORDER_FREQUENCY  \\\n",
       "0        43795           3                    14461634                 542   \n",
       "1        43795           3                    14461634                 542   \n",
       "2        43795           3                    14461634                 542   \n",
       "3         5096           1                    35737829                 519   \n",
       "4       138438           2                    34640409                 597   \n",
       "\n",
       "   CC_AVERAGE_ORDER_VALUE  CC_RECENCY  CC_AVG_ORDER_PROCESSING_TIME  \\\n",
       "0            12597.242160           2                      4.508711   \n",
       "1            12597.242160           2                      4.508711   \n",
       "2            12597.242160           2                      4.508711   \n",
       "3            35105.922397           2                      4.539293   \n",
       "4            27935.813710           1                     12.387903   \n",
       "\n",
       "   CC_AVG_INVOICE_PROCESSING_TIME  CC_AVG_DELIVERY_DELAY  \\\n",
       "0                       18.100174               1.500871   \n",
       "1                       18.100174               1.500871   \n",
       "2                       18.100174               1.500871   \n",
       "3                       29.626719               1.530452   \n",
       "4                       22.563710               2.992742   \n",
       "\n",
       "   CC_AVG_PAYMENT_DELAY  ...  SP_AVG_DELIVERY_DELAY  SP_TOTAL_ORDERS  \\\n",
       "0             -6.397213  ...               1.496910            75565   \n",
       "1             -6.397213  ...               1.496910            75565   \n",
       "2             -6.397213  ...               1.496910            75565   \n",
       "3              0.135560  ...               1.496910            75565   \n",
       "4             -1.927419  ...               3.001176            16158   \n",
       "\n",
       "   SP_ORDER_CONSISTENCY  SP_DELIVERY_CONSISTENCY  MONTH  YEAR  WEEK  WEEKEND  \\\n",
       "0              0.815395                 0.499994      1  2022    52     True   \n",
       "1              0.815395                 0.499994      1  2022    52     True   \n",
       "2              0.815395                 0.499994      1  2022    52     True   \n",
       "3              0.815395                 0.499994      1  2022    52     True   \n",
       "4              3.179500                 1.412790      1  2022    52     True   \n",
       "\n",
       "   DAY_OF_THE_MONTH  PAYMENT_DELAY_FLAG  \n",
       "0                 1                   0  \n",
       "1                 1                   0  \n",
       "2                 1                   0  \n",
       "3                 1                   0  \n",
       "4                 1                   1  \n",
       "\n",
       "[5 rows x 37 columns]"
      ]
     },
     "execution_count": 19,
     "metadata": {},
     "output_type": "execute_result"
    }
   ],
   "source": [
    "df_payments.head()"
   ]
  },
  {
   "cell_type": "code",
   "execution_count": 20,
   "id": "367e9c84-ed59-4e1c-b796-e6c1ea2aad15",
   "metadata": {},
   "outputs": [
    {
     "data": {
      "text/plain": [
       "(170161, 37)"
      ]
     },
     "execution_count": 20,
     "metadata": {},
     "output_type": "execute_result"
    }
   ],
   "source": [
    "df_payments.shape"
   ]
  },
  {
   "cell_type": "code",
   "execution_count": 21,
   "id": "4af02e1e-310f-4a87-8fbc-bae81eb54fcf",
   "metadata": {},
   "outputs": [],
   "source": [
    "df_payments = df_payments.drop_duplicates()"
   ]
  },
  {
   "cell_type": "code",
   "execution_count": 22,
   "id": "effb5c0f-0daf-4b1e-8a4b-8cdd3566624f",
   "metadata": {},
   "outputs": [
    {
     "data": {
      "text/plain": [
       "(85000, 37)"
      ]
     },
     "execution_count": 22,
     "metadata": {},
     "output_type": "execute_result"
    }
   ],
   "source": [
    "df_payments.shape"
   ]
  },
  {
   "cell_type": "code",
   "execution_count": 23,
   "id": "40ccef89-0ac9-4beb-91bd-cdf99178f09e",
   "metadata": {},
   "outputs": [
    {
     "data": {
      "text/plain": [
       "PAYMENT_DELAY_FLAG\n",
       "0    45816\n",
       "1    39184\n",
       "Name: count, dtype: int64"
      ]
     },
     "execution_count": 23,
     "metadata": {},
     "output_type": "execute_result"
    }
   ],
   "source": [
    "df_payments['PAYMENT_DELAY_FLAG'].value_counts()"
   ]
  },
  {
   "cell_type": "code",
   "execution_count": 24,
   "id": "796b9b84-9562-42b6-9e92-816de22f5e70",
   "metadata": {},
   "outputs": [],
   "source": [
    "# Separate features and target variable\n",
    "X = df_payments.drop(columns=['PAYMENT_DELAY_FLAG'])\n",
    "y = df_payments['PAYMENT_DELAY_FLAG']"
   ]
  },
  {
   "cell_type": "code",
   "execution_count": 25,
   "id": "29ab0660-f762-4d3f-a1e2-ee96984ef02c",
   "metadata": {},
   "outputs": [
    {
     "data": {
      "text/plain": [
       "(85000, 36)"
      ]
     },
     "execution_count": 25,
     "metadata": {},
     "output_type": "execute_result"
    }
   ],
   "source": [
    "X.shape"
   ]
  },
  {
   "cell_type": "markdown",
   "id": "e0777805-91af-42db-afd4-f0feb325c31f",
   "metadata": {},
   "source": [
    "# Standard Scaling of Input"
   ]
  },
  {
   "cell_type": "code",
   "execution_count": 26,
   "id": "e809c2bf-7ead-4f53-97fe-e9a0718ee5dc",
   "metadata": {},
   "outputs": [],
   "source": [
    "from sklearn.preprocessing import StandardScaler\n",
    "\n",
    "# Standardize the predictor variables\n",
    "scaler = StandardScaler()\n",
    "\n",
    "X_scaled = scaler.fit_transform(X)\n",
    "\n",
    "df_scaled = pd.DataFrame(X_scaled, columns=X.columns)"
   ]
  },
  {
   "cell_type": "code",
   "execution_count": 27,
   "id": "655fa414-8a9c-479b-9c9a-7a27286173e8",
   "metadata": {},
   "outputs": [
    {
     "data": {
      "text/plain": [
       "(85000, 36)"
      ]
     },
     "execution_count": 27,
     "metadata": {},
     "output_type": "execute_result"
    }
   ],
   "source": [
    "df_scaled.shape"
   ]
  },
  {
   "cell_type": "code",
   "execution_count": 28,
   "id": "5ff1dff1-1b45-47c8-b452-6ed20762e7aa",
   "metadata": {},
   "outputs": [],
   "source": [
    "df_scaled['PAYMENT_DELAY_FLAG'] = y.values"
   ]
  },
  {
   "cell_type": "code",
   "execution_count": 29,
   "id": "28976a31-f441-401f-a802-c881f4ffa88e",
   "metadata": {},
   "outputs": [
    {
     "data": {
      "text/plain": [
       "PAYMENT_DELAY_FLAG\n",
       "0    45816\n",
       "1    39184\n",
       "Name: count, dtype: int64"
      ]
     },
     "execution_count": 29,
     "metadata": {},
     "output_type": "execute_result"
    }
   ],
   "source": [
    "df_scaled['PAYMENT_DELAY_FLAG'].value_counts()"
   ]
  },
  {
   "cell_type": "markdown",
   "id": "ad414830-13c6-413b-bd28-889a7aac3c47",
   "metadata": {},
   "source": [
    "# Model Training for Payment Delay Prediction"
   ]
  },
  {
   "cell_type": "code",
   "execution_count": 30,
   "id": "e6d85d5b-0741-45bd-b01d-79e7a6a0fdd7",
   "metadata": {},
   "outputs": [],
   "source": [
    "# Separate features and target variable\n",
    "X = df_scaled.drop(columns=['PAYMENT_DELAY_FLAG'])\n",
    "y = df_scaled['PAYMENT_DELAY_FLAG']"
   ]
  },
  {
   "cell_type": "code",
   "execution_count": 31,
   "id": "690b5a06-4f6b-4a57-9a66-3758fe728eb6",
   "metadata": {},
   "outputs": [],
   "source": [
    "# Split the data into training and testing sets\n",
    "X_train, X_test, y_train, y_test = train_test_split(X, y, test_size=0.25, random_state=42)"
   ]
  },
  {
   "cell_type": "markdown",
   "id": "78ea6513-94a1-48fc-9dca-adc40cdc98d1",
   "metadata": {},
   "source": [
    "# Decision Tree Classifier"
   ]
  },
  {
   "cell_type": "code",
   "execution_count": 32,
   "id": "34072aa7-ed82-4a4b-a985-3667fa6de8bf",
   "metadata": {},
   "outputs": [
    {
     "data": {
      "text/html": [
       "<style>#sk-container-id-1 {color: black;}#sk-container-id-1 pre{padding: 0;}#sk-container-id-1 div.sk-toggleable {background-color: white;}#sk-container-id-1 label.sk-toggleable__label {cursor: pointer;display: block;width: 100%;margin-bottom: 0;padding: 0.3em;box-sizing: border-box;text-align: center;}#sk-container-id-1 label.sk-toggleable__label-arrow:before {content: \"▸\";float: left;margin-right: 0.25em;color: #696969;}#sk-container-id-1 label.sk-toggleable__label-arrow:hover:before {color: black;}#sk-container-id-1 div.sk-estimator:hover label.sk-toggleable__label-arrow:before {color: black;}#sk-container-id-1 div.sk-toggleable__content {max-height: 0;max-width: 0;overflow: hidden;text-align: left;background-color: #f0f8ff;}#sk-container-id-1 div.sk-toggleable__content pre {margin: 0.2em;color: black;border-radius: 0.25em;background-color: #f0f8ff;}#sk-container-id-1 input.sk-toggleable__control:checked~div.sk-toggleable__content {max-height: 200px;max-width: 100%;overflow: auto;}#sk-container-id-1 input.sk-toggleable__control:checked~label.sk-toggleable__label-arrow:before {content: \"▾\";}#sk-container-id-1 div.sk-estimator input.sk-toggleable__control:checked~label.sk-toggleable__label {background-color: #d4ebff;}#sk-container-id-1 div.sk-label input.sk-toggleable__control:checked~label.sk-toggleable__label {background-color: #d4ebff;}#sk-container-id-1 input.sk-hidden--visually {border: 0;clip: rect(1px 1px 1px 1px);clip: rect(1px, 1px, 1px, 1px);height: 1px;margin: -1px;overflow: hidden;padding: 0;position: absolute;width: 1px;}#sk-container-id-1 div.sk-estimator {font-family: monospace;background-color: #f0f8ff;border: 1px dotted black;border-radius: 0.25em;box-sizing: border-box;margin-bottom: 0.5em;}#sk-container-id-1 div.sk-estimator:hover {background-color: #d4ebff;}#sk-container-id-1 div.sk-parallel-item::after {content: \"\";width: 100%;border-bottom: 1px solid gray;flex-grow: 1;}#sk-container-id-1 div.sk-label:hover label.sk-toggleable__label {background-color: #d4ebff;}#sk-container-id-1 div.sk-serial::before {content: \"\";position: absolute;border-left: 1px solid gray;box-sizing: border-box;top: 0;bottom: 0;left: 50%;z-index: 0;}#sk-container-id-1 div.sk-serial {display: flex;flex-direction: column;align-items: center;background-color: white;padding-right: 0.2em;padding-left: 0.2em;position: relative;}#sk-container-id-1 div.sk-item {position: relative;z-index: 1;}#sk-container-id-1 div.sk-parallel {display: flex;align-items: stretch;justify-content: center;background-color: white;position: relative;}#sk-container-id-1 div.sk-item::before, #sk-container-id-1 div.sk-parallel-item::before {content: \"\";position: absolute;border-left: 1px solid gray;box-sizing: border-box;top: 0;bottom: 0;left: 50%;z-index: -1;}#sk-container-id-1 div.sk-parallel-item {display: flex;flex-direction: column;z-index: 1;position: relative;background-color: white;}#sk-container-id-1 div.sk-parallel-item:first-child::after {align-self: flex-end;width: 50%;}#sk-container-id-1 div.sk-parallel-item:last-child::after {align-self: flex-start;width: 50%;}#sk-container-id-1 div.sk-parallel-item:only-child::after {width: 0;}#sk-container-id-1 div.sk-dashed-wrapped {border: 1px dashed gray;margin: 0 0.4em 0.5em 0.4em;box-sizing: border-box;padding-bottom: 0.4em;background-color: white;}#sk-container-id-1 div.sk-label label {font-family: monospace;font-weight: bold;display: inline-block;line-height: 1.2em;}#sk-container-id-1 div.sk-label-container {text-align: center;}#sk-container-id-1 div.sk-container {/* jupyter's `normalize.less` sets `[hidden] { display: none; }` but bootstrap.min.css set `[hidden] { display: none !important; }` so we also need the `!important` here to be able to override the default hidden behavior on the sphinx rendered scikit-learn.org. See: https://github.com/scikit-learn/scikit-learn/issues/21755 */display: inline-block !important;position: relative;}#sk-container-id-1 div.sk-text-repr-fallback {display: none;}</style><div id=\"sk-container-id-1\" class=\"sk-top-container\"><div class=\"sk-text-repr-fallback\"><pre>DecisionTreeClassifier()</pre><b>In a Jupyter environment, please rerun this cell to show the HTML representation or trust the notebook. <br />On GitHub, the HTML representation is unable to render, please try loading this page with nbviewer.org.</b></div><div class=\"sk-container\" hidden><div class=\"sk-item\"><div class=\"sk-estimator sk-toggleable\"><input class=\"sk-toggleable__control sk-hidden--visually\" id=\"sk-estimator-id-1\" type=\"checkbox\" checked><label for=\"sk-estimator-id-1\" class=\"sk-toggleable__label sk-toggleable__label-arrow\">DecisionTreeClassifier</label><div class=\"sk-toggleable__content\"><pre>DecisionTreeClassifier()</pre></div></div></div></div></div>"
      ],
      "text/plain": [
       "DecisionTreeClassifier()"
      ]
     },
     "execution_count": 32,
     "metadata": {},
     "output_type": "execute_result"
    }
   ],
   "source": [
    "#from sklearn.tree import DecisionTreeClassifier\n",
    "dtc = DecisionTreeClassifier()\n",
    "dtc.fit(X_train, y_train)"
   ]
  },
  {
   "cell_type": "code",
   "execution_count": 33,
   "id": "919e40ad-1a67-47c8-a66a-530162b6e4f2",
   "metadata": {},
   "outputs": [],
   "source": [
    "y_pred = dtc.predict(X_test)"
   ]
  },
  {
   "cell_type": "code",
   "execution_count": 34,
   "id": "39e4c0a6-cc17-4cb2-a8d5-1b1bb70bc915",
   "metadata": {},
   "outputs": [
    {
     "name": "stdout",
     "output_type": "stream",
     "text": [
      "Training accuracy of Decision Tree is : 1.0\n",
      "Test accuracy of Decision Tree is : 0.9712470588235295\n",
      "[[11064   370]\n",
      " [  241  9575]]\n",
      "              precision    recall  f1-score   support\n",
      "\n",
      "           0       0.98      0.97      0.97     11434\n",
      "           1       0.96      0.98      0.97      9816\n",
      "\n",
      "    accuracy                           0.97     21250\n",
      "   macro avg       0.97      0.97      0.97     21250\n",
      "weighted avg       0.97      0.97      0.97     21250\n",
      "\n"
     ]
    }
   ],
   "source": [
    "dtc_train_acc = accuracy_score(y_train, dtc.predict(X_train))\n",
    "dtc_test_acc = accuracy_score(y_test, y_pred)\n",
    "\n",
    "print(f\"Training accuracy of Decision Tree is : {dtc_train_acc}\")\n",
    "print(f\"Test accuracy of Decision Tree is : {dtc_test_acc}\")\n",
    "\n",
    "print(confusion_matrix(y_test, y_pred))\n",
    "print(classification_report(y_test, y_pred))"
   ]
  },
  {
   "cell_type": "markdown",
   "id": "74c0d5b1-8981-4864-8109-4be3bca859e2",
   "metadata": {},
   "source": [
    "# Random Forest Classifier"
   ]
  },
  {
   "cell_type": "code",
   "execution_count": 35,
   "id": "7b0de76b-2966-456e-ad74-63bdbb943e2e",
   "metadata": {},
   "outputs": [
    {
     "data": {
      "text/html": [
       "<style>#sk-container-id-2 {color: black;}#sk-container-id-2 pre{padding: 0;}#sk-container-id-2 div.sk-toggleable {background-color: white;}#sk-container-id-2 label.sk-toggleable__label {cursor: pointer;display: block;width: 100%;margin-bottom: 0;padding: 0.3em;box-sizing: border-box;text-align: center;}#sk-container-id-2 label.sk-toggleable__label-arrow:before {content: \"▸\";float: left;margin-right: 0.25em;color: #696969;}#sk-container-id-2 label.sk-toggleable__label-arrow:hover:before {color: black;}#sk-container-id-2 div.sk-estimator:hover label.sk-toggleable__label-arrow:before {color: black;}#sk-container-id-2 div.sk-toggleable__content {max-height: 0;max-width: 0;overflow: hidden;text-align: left;background-color: #f0f8ff;}#sk-container-id-2 div.sk-toggleable__content pre {margin: 0.2em;color: black;border-radius: 0.25em;background-color: #f0f8ff;}#sk-container-id-2 input.sk-toggleable__control:checked~div.sk-toggleable__content {max-height: 200px;max-width: 100%;overflow: auto;}#sk-container-id-2 input.sk-toggleable__control:checked~label.sk-toggleable__label-arrow:before {content: \"▾\";}#sk-container-id-2 div.sk-estimator input.sk-toggleable__control:checked~label.sk-toggleable__label {background-color: #d4ebff;}#sk-container-id-2 div.sk-label input.sk-toggleable__control:checked~label.sk-toggleable__label {background-color: #d4ebff;}#sk-container-id-2 input.sk-hidden--visually {border: 0;clip: rect(1px 1px 1px 1px);clip: rect(1px, 1px, 1px, 1px);height: 1px;margin: -1px;overflow: hidden;padding: 0;position: absolute;width: 1px;}#sk-container-id-2 div.sk-estimator {font-family: monospace;background-color: #f0f8ff;border: 1px dotted black;border-radius: 0.25em;box-sizing: border-box;margin-bottom: 0.5em;}#sk-container-id-2 div.sk-estimator:hover {background-color: #d4ebff;}#sk-container-id-2 div.sk-parallel-item::after {content: \"\";width: 100%;border-bottom: 1px solid gray;flex-grow: 1;}#sk-container-id-2 div.sk-label:hover label.sk-toggleable__label {background-color: #d4ebff;}#sk-container-id-2 div.sk-serial::before {content: \"\";position: absolute;border-left: 1px solid gray;box-sizing: border-box;top: 0;bottom: 0;left: 50%;z-index: 0;}#sk-container-id-2 div.sk-serial {display: flex;flex-direction: column;align-items: center;background-color: white;padding-right: 0.2em;padding-left: 0.2em;position: relative;}#sk-container-id-2 div.sk-item {position: relative;z-index: 1;}#sk-container-id-2 div.sk-parallel {display: flex;align-items: stretch;justify-content: center;background-color: white;position: relative;}#sk-container-id-2 div.sk-item::before, #sk-container-id-2 div.sk-parallel-item::before {content: \"\";position: absolute;border-left: 1px solid gray;box-sizing: border-box;top: 0;bottom: 0;left: 50%;z-index: -1;}#sk-container-id-2 div.sk-parallel-item {display: flex;flex-direction: column;z-index: 1;position: relative;background-color: white;}#sk-container-id-2 div.sk-parallel-item:first-child::after {align-self: flex-end;width: 50%;}#sk-container-id-2 div.sk-parallel-item:last-child::after {align-self: flex-start;width: 50%;}#sk-container-id-2 div.sk-parallel-item:only-child::after {width: 0;}#sk-container-id-2 div.sk-dashed-wrapped {border: 1px dashed gray;margin: 0 0.4em 0.5em 0.4em;box-sizing: border-box;padding-bottom: 0.4em;background-color: white;}#sk-container-id-2 div.sk-label label {font-family: monospace;font-weight: bold;display: inline-block;line-height: 1.2em;}#sk-container-id-2 div.sk-label-container {text-align: center;}#sk-container-id-2 div.sk-container {/* jupyter's `normalize.less` sets `[hidden] { display: none; }` but bootstrap.min.css set `[hidden] { display: none !important; }` so we also need the `!important` here to be able to override the default hidden behavior on the sphinx rendered scikit-learn.org. See: https://github.com/scikit-learn/scikit-learn/issues/21755 */display: inline-block !important;position: relative;}#sk-container-id-2 div.sk-text-repr-fallback {display: none;}</style><div id=\"sk-container-id-2\" class=\"sk-top-container\"><div class=\"sk-text-repr-fallback\"><pre>RandomForestClassifier()</pre><b>In a Jupyter environment, please rerun this cell to show the HTML representation or trust the notebook. <br />On GitHub, the HTML representation is unable to render, please try loading this page with nbviewer.org.</b></div><div class=\"sk-container\" hidden><div class=\"sk-item\"><div class=\"sk-estimator sk-toggleable\"><input class=\"sk-toggleable__control sk-hidden--visually\" id=\"sk-estimator-id-2\" type=\"checkbox\" checked><label for=\"sk-estimator-id-2\" class=\"sk-toggleable__label sk-toggleable__label-arrow\">RandomForestClassifier</label><div class=\"sk-toggleable__content\"><pre>RandomForestClassifier()</pre></div></div></div></div></div>"
      ],
      "text/plain": [
       "RandomForestClassifier()"
      ]
     },
     "execution_count": 35,
     "metadata": {},
     "output_type": "execute_result"
    }
   ],
   "source": [
    "#from sklearn.tree import DecisionTreeClassifier\n",
    "rfc = RandomForestClassifier()\n",
    "rfc.fit(X_train, y_train)"
   ]
  },
  {
   "cell_type": "code",
   "execution_count": 36,
   "id": "ce64e235-a5bf-4d97-a936-21175e1d3288",
   "metadata": {},
   "outputs": [],
   "source": [
    "y_pred = rfc.predict(X_test)"
   ]
  },
  {
   "cell_type": "code",
   "execution_count": 37,
   "id": "e6cb0314-43f5-4522-b22b-4ffd7be952ff",
   "metadata": {},
   "outputs": [
    {
     "name": "stdout",
     "output_type": "stream",
     "text": [
      "Training accuracy of RandomForest is : 0.9999529411764706\n",
      "Test accuracy of RandomForest is : 0.9855058823529412\n",
      "[[11390    44]\n",
      " [  264  9552]]\n",
      "              precision    recall  f1-score   support\n",
      "\n",
      "           0       0.98      1.00      0.99     11434\n",
      "           1       1.00      0.97      0.98      9816\n",
      "\n",
      "    accuracy                           0.99     21250\n",
      "   macro avg       0.99      0.98      0.99     21250\n",
      "weighted avg       0.99      0.99      0.99     21250\n",
      "\n"
     ]
    }
   ],
   "source": [
    "rfc_train_acc = accuracy_score(y_train, rfc.predict(X_train))\n",
    "rfc_test_acc = accuracy_score(y_test, y_pred)\n",
    "\n",
    "print(f\"Training accuracy of RandomForest is : {rfc_train_acc}\")\n",
    "print(f\"Test accuracy of RandomForest is : {rfc_test_acc}\")\n",
    "\n",
    "print(confusion_matrix(y_test, y_pred))\n",
    "print(classification_report(y_test, y_pred))"
   ]
  },
  {
   "cell_type": "code",
   "execution_count": 200,
   "id": "54eb9167-881b-4677-884c-fb23a5284785",
   "metadata": {},
   "outputs": [],
   "source": [
    "from fosforml import register_model"
   ]
  },
  {
   "cell_type": "code",
   "execution_count": 201,
   "id": "0a0ad52e-1ad7-4827-bc66-c59e69b684d7",
   "metadata": {},
   "outputs": [
    {
     "data": {
      "text/plain": [
       "(pandas.core.frame.DataFrame,\n",
       " pandas.core.frame.DataFrame,\n",
       " pandas.core.series.Series,\n",
       " pandas.core.series.Series,\n",
       " numpy.ndarray)"
      ]
     },
     "execution_count": 201,
     "metadata": {},
     "output_type": "execute_result"
    }
   ],
   "source": [
    "type(X_train), type(X_test),type(y_train),type(y_test), type(y_pred)"
   ]
  },
  {
   "cell_type": "code",
   "execution_count": 202,
   "id": "274383aa-f604-4907-bcb5-06041e2f3a7b",
   "metadata": {},
   "outputs": [],
   "source": [
    "y_train_df = pd.DataFrame(y_train)\n",
    "y_test_df = pd.DataFrame(y_test)"
   ]
  },
  {
   "cell_type": "code",
   "execution_count": 203,
   "id": "44ffdf19-90b3-446e-9944-471f99871adb",
   "metadata": {},
   "outputs": [],
   "source": [
    "y_pred_df = pd.DataFrame(y_pred, columns=['PREDICTED_PAYMENT_DELAY'])"
   ]
  },
  {
   "cell_type": "code",
   "execution_count": 204,
   "id": "443d4baa-dbc5-4632-88d6-6d04d7d28552",
   "metadata": {
    "scrolled": true
   },
   "outputs": [
    {
     "data": {
      "text/plain": [
       "(pandas.core.frame.DataFrame,\n",
       " pandas.core.frame.DataFrame,\n",
       " pandas.core.frame.DataFrame,\n",
       " pandas.core.frame.DataFrame,\n",
       " pandas.core.frame.DataFrame)"
      ]
     },
     "execution_count": 204,
     "metadata": {},
     "output_type": "execute_result"
    }
   ],
   "source": [
    "type(X_train), type(X_test),type(y_train_df),type(y_test_df), type(y_pred_df)"
   ]
  },
  {
   "cell_type": "markdown",
   "id": "2e74851f-500d-49a1-b190-572cff7323e6",
   "metadata": {},
   "source": [
    "# Model Registration"
   ]
  },
  {
   "cell_type": "code",
   "execution_count": 205,
   "id": "d97b8213-dd6a-4c8a-bdf5-861e79704461",
   "metadata": {},
   "outputs": [
    {
     "name": "stderr",
     "output_type": "stream",
     "text": [
      "Got error object of type 'NoneType' has no len() when trying to read default values from function: <class 'snowflake.ml.modeling.metrics.classification._register_confusion_matrix_computer.<locals>.ConfusionMatrixComputer'>. Proceeding without creating optional arguments\n",
      "Got error object of type 'NoneType' has no len() when trying to read default values from function: <class 'snowflake.ml.modeling.metrics.metrics_utils.register_accumulator_udtf.<locals>.Accumulator'>. Proceeding without creating optional arguments\n"
     ]
    },
    {
     "name": "stdout",
     "output_type": "stream",
     "text": [
      "Error in while calculating confusion_matrix \n",
      "Calculating build time metrics\n",
      "\n",
      "Progress: ██████████████                                                         20.0%\n",
      "Calculating build time metrics\n",
      "\n",
      "Progress: ████████████████████████████                                           40.0%\n"
     ]
    },
    {
     "name": "stderr",
     "output_type": "stream",
     "text": [
      "Got error object of type 'NoneType' has no len() when trying to read default values from function: <class 'snowflake.ml.modeling.metrics.classification._register_multilabel_confusion_matrix_computer.<locals>.MultilabelConfusionMatrixComputer'>. Proceeding without creating optional arguments\n",
      "The version of package 'scikit-learn' in the local environment is 1.3.2, which does not fit the criteria for the requirement 'scikit-learn<1.4'. Your UDF might not work when the package version is different between the server and your local environment.\n",
      "DataFrame.flatten() is deprecated since 0.7.0. Use `DataFrame.join_table_function()` instead.\n",
      "Got error object of type 'NoneType' has no len() when trying to read default values from function: <class 'snowflake.ml.modeling.metrics.classification._register_multilabel_confusion_matrix_computer.<locals>.MultilabelConfusionMatrixComputer'>. Proceeding without creating optional arguments\n",
      "The version of package 'scikit-learn' in the local environment is 1.3.2, which does not fit the criteria for the requirement 'scikit-learn<1.4'. Your UDF might not work when the package version is different between the server and your local environment.\n",
      "Got error object of type 'NoneType' has no len() when trying to read default values from function: <function roc_auc_score.<locals>.roc_auc_score_anon_sproc at 0x7f6ba483a3a0>. Proceeding without creating optional arguments\n"
     ]
    },
    {
     "name": "stdout",
     "output_type": "stream",
     "text": [
      "Calculating build time metrics\n",
      "\n",
      "Progress: ██████████████████████████████████████████                             60.0%\n"
     ]
    },
    {
     "name": "stderr",
     "output_type": "stream",
     "text": [
      "The version of package 'scikit-learn' in the local environment is 1.3.2, which does not fit the criteria for the requirement 'scikit-learn==1.3.*'. Your UDF might not work when the package version is different between the server and your local environment.\n",
      "The version of package 'snowflake-snowpark-python' in the local environment is 1.22.1, which does not fit the criteria for the requirement 'snowflake-snowpark-python'. Your UDF might not work when the package version is different between the server and your local environment.\n",
      "Got error object of type 'NoneType' has no len() when trying to read default values from function: <function roc_curve.<locals>.roc_curve_anon_sproc at 0x7f6b9b85c280>. Proceeding without creating optional arguments\n",
      "The version of package 'scikit-learn' in the local environment is 1.3.2, which does not fit the criteria for the requirement 'scikit-learn==1.3.*'. Your UDF might not work when the package version is different between the server and your local environment.\n",
      "The version of package 'snowflake-snowpark-python' in the local environment is 1.22.1, which does not fit the criteria for the requirement 'snowflake-snowpark-python'. Your UDF might not work when the package version is different between the server and your local environment.\n"
     ]
    },
    {
     "name": "stdout",
     "output_type": "stream",
     "text": [
      "Calculating build time metrics\n",
      "\n",
      "Progress: ████████████████████████████████████████████████████████               80.0%\n",
      "Calculating build time metrics\n",
      "\n",
      "Progress: ██████████████████████████████████████████████████████████████████████ 100.0%\n"
     ]
    },
    {
     "data": {
      "text/plain": [
       "\"Model 'MODEL_0CA27E4E_2746_4060_B8F7_DBF890E89D5A_FDC_RANDOMFOREST_PAYMENT_DELAY_CLASSIFIER' registered successfully.\""
      ]
     },
     "execution_count": 205,
     "metadata": {},
     "output_type": "execute_result"
    }
   ],
   "source": [
    "## registering the model in Fosfor Insight Designer.\n",
    "register_model(\n",
    "    model_obj=rfc, \n",
    "    session=my_session,\n",
    "    x_train=X_train,\n",
    "    y_train=y_train_df,\n",
    "    x_test=X_test,\n",
    "    y_test=y_test_df,\n",
    "    y_pred=y_pred_df,\n",
    "    source=\"Notebook\",\n",
    "    dataset_name=\"ORDER_TO_CASH_ENRICHED\",\n",
    "    dataset_source=\"Snowflake\",\n",
    "    #dataset_source=\"InMemory\",\n",
    "    name=\"RandomForest_Payment_Delay_Classifier\",\n",
    "    description=\"RandomForest model trained via Notebook to identify delay order payment\",\n",
    "    flavour=\"sklearn\",\n",
    "    model_type=\"classification\",\n",
    "    conda_dependencies=[\"scikit-learn==1.3.2\"]\n",
    ")"
   ]
  },
  {
   "cell_type": "markdown",
   "id": "c29dbc6b-684c-4a28-a602-51f2ae2abb9c",
   "metadata": {},
   "source": [
    "# Model inference on entire dataset"
   ]
  },
  {
   "cell_type": "code",
   "execution_count": 38,
   "id": "0c30391b-cfa6-4d22-8f5c-393af75ce262",
   "metadata": {},
   "outputs": [],
   "source": [
    "table_name = 'ORDER_TO_CASH_ENRICHED'\n",
    "\n",
    "sf_df = my_session.sql(\"select * from {}\".format(table_name))\n",
    "df = sf_df.to_pandas()"
   ]
  },
  {
   "cell_type": "code",
   "execution_count": 39,
   "id": "bfb576bd-a178-4c36-ba21-c272dc160c2f",
   "metadata": {},
   "outputs": [],
   "source": [
    "df['ORDERDATE'] = pd.to_datetime(df['ORDERDATE'], errors='coerce')\n",
    "\n",
    "df['MONTH'] = pd.to_datetime(df['ORDERDATE']).dt.month\n",
    "df['YEAR'] = pd.to_datetime(df['ORDERDATE']).dt.year\n",
    "df['WEEK'] = pd.to_datetime(df['ORDERDATE']).dt.isocalendar().week\n",
    "df['WEEKEND'] = pd.to_datetime(df['ORDERDATE']).dt.weekday >= 5  # True if the day is Saturday or Sunday\n",
    "df['DAY_OF_THE_MONTH'] = pd.to_datetime(df['ORDERDATE']).dt.day"
   ]
  },
  {
   "cell_type": "code",
   "execution_count": 40,
   "id": "26b972cd-af86-48ad-8b49-4e3373b20e5c",
   "metadata": {},
   "outputs": [],
   "source": [
    "cols = ['ORDERAMOUNT','ORDERCOUNT',\n",
    "'CC_CUSTOMER_LIFETIME_VALUE', 'CC_ORDER_FREQUENCY', 'CC_AVERAGE_ORDER_VALUE', 'CC_RECENCY', 'CC_AVG_ORDER_PROCESSING_TIME', 'CC_AVG_INVOICE_PROCESSING_TIME', \n",
    "'CC_AVG_DELIVERY_DELAY', 'CC_AVG_PAYMENT_DELAY', 'CC_TOTAL_ORDERS', 'CC_TOTAL_DELAYS', 'CC_ORDER_CONSISTENCY', 'CC_INVOICE_CONSISTENCY', \n",
    "'CC_DELIVERY_CONSISTENCY', 'CC_PAYMENT_CONSISTENCY', 'CAT_TOTAL_SALES_VOLUME', 'CAT_TOTAL_SALES_VALUE', \n",
    "'CAT_AVG_ORDER_QUANTITY', 'CAT_AVG_UNIT_PRICE', 'CAT_NUMBER_OF_ORDERS', 'CAT_AVG_DELIVERY_TIME', 'CAT_AVG_INVOICE_TIME', \n",
    "'SP_CUSTOMER_LIFETIME_VALUE', 'SP_ORDER_FREQUENCY', 'SP_AVERAGE_ORDER_VALUE', 'SP_AVG_ORDER_PROCESSING_TIME', 'SP_AVG_DELIVERY_DELAY', \n",
    "'SP_TOTAL_ORDERS', 'SP_ORDER_CONSISTENCY', 'SP_DELIVERY_CONSISTENCY', 'MONTH', 'YEAR', 'WEEK', 'WEEKEND', 'DAY_OF_THE_MONTH']"
   ]
  },
  {
   "cell_type": "code",
   "execution_count": 41,
   "id": "21520e51-ec06-480a-9b30-ab1fbbe4d5a3",
   "metadata": {},
   "outputs": [],
   "source": [
    "X_scaled = scaler.fit_transform(df[cols])"
   ]
  },
  {
   "cell_type": "code",
   "execution_count": 42,
   "id": "f2204bc8-9ae3-46e6-92be-747c1600d3ea",
   "metadata": {},
   "outputs": [],
   "source": [
    "y_pred = rfc.predict(X_scaled)"
   ]
  },
  {
   "cell_type": "code",
   "execution_count": 46,
   "id": "1c949834-29c4-48c9-a0f3-452fba328294",
   "metadata": {},
   "outputs": [],
   "source": [
    "y_prob = rfc.predict_proba(X_scaled)[:,1]"
   ]
  },
  {
   "cell_type": "code",
   "execution_count": 47,
   "id": "d0868a6f-7a33-4832-982e-788c8955f489",
   "metadata": {},
   "outputs": [],
   "source": [
    "df['PREDICTED_PAYMENT_DELAY'] = y_pred\n",
    "df['PROBABILITY_PAYMENT_DELAY'] = y_prob"
   ]
  },
  {
   "cell_type": "code",
   "execution_count": 48,
   "id": "bf00de3e-bcaa-493f-a90a-ab174e336115",
   "metadata": {
    "scrolled": true
   },
   "outputs": [
    {
     "data": {
      "text/html": [
       "<div>\n",
       "<style scoped>\n",
       "    .dataframe tbody tr th:only-of-type {\n",
       "        vertical-align: middle;\n",
       "    }\n",
       "\n",
       "    .dataframe tbody tr th {\n",
       "        vertical-align: top;\n",
       "    }\n",
       "\n",
       "    .dataframe thead th {\n",
       "        text-align: right;\n",
       "    }\n",
       "</style>\n",
       "<table border=\"1\" class=\"dataframe\">\n",
       "  <thead>\n",
       "    <tr style=\"text-align: right;\">\n",
       "      <th></th>\n",
       "      <th>ORDERID</th>\n",
       "      <th>ORDERITEMID</th>\n",
       "      <th>PRODUCTID</th>\n",
       "      <th>PRODUCTNAME</th>\n",
       "      <th>ORDERQUANTITY</th>\n",
       "      <th>UNITPRICE</th>\n",
       "      <th>ORDERVALUE</th>\n",
       "      <th>CUSTOMERID</th>\n",
       "      <th>CUSTOMERNAME</th>\n",
       "      <th>PRODUCTCATEGORY</th>\n",
       "      <th>...</th>\n",
       "      <th>SP_TOTAL_ORDERS</th>\n",
       "      <th>SP_ORDER_CONSISTENCY</th>\n",
       "      <th>SP_DELIVERY_CONSISTENCY</th>\n",
       "      <th>MONTH</th>\n",
       "      <th>YEAR</th>\n",
       "      <th>WEEK</th>\n",
       "      <th>WEEKEND</th>\n",
       "      <th>DAY_OF_THE_MONTH</th>\n",
       "      <th>PREDICTED_PAYMENT_DELAY</th>\n",
       "      <th>PROBABILITY_PAYMENT_DELAY</th>\n",
       "    </tr>\n",
       "  </thead>\n",
       "  <tbody>\n",
       "    <tr>\n",
       "      <th>0</th>\n",
       "      <td>OR-5010bdc2-ea6e-43ff-91fe-34f4f8e87217</td>\n",
       "      <td>OI-1e6cf9ab-6c8d-4005-9dfe-76902e925900</td>\n",
       "      <td>PID-df71fb0e-604f-4ded-8a16-850f47932a2a</td>\n",
       "      <td>Bottled Water</td>\n",
       "      <td>8368</td>\n",
       "      <td>5</td>\n",
       "      <td>41840</td>\n",
       "      <td>CID-98d678b8-9cf7-4a08-a80d-6e8507afd6cb</td>\n",
       "      <td>Locale Mart</td>\n",
       "      <td>Food Beverages</td>\n",
       "      <td>...</td>\n",
       "      <td>75565</td>\n",
       "      <td>0.815395</td>\n",
       "      <td>0.499994</td>\n",
       "      <td>1</td>\n",
       "      <td>2022</td>\n",
       "      <td>52</td>\n",
       "      <td>True</td>\n",
       "      <td>1</td>\n",
       "      <td>0</td>\n",
       "      <td>0.08</td>\n",
       "    </tr>\n",
       "    <tr>\n",
       "      <th>1</th>\n",
       "      <td>OR-5010bdc2-ea6e-43ff-91fe-34f4f8e87217</td>\n",
       "      <td>OI-f48f7937-0528-41fe-b9dd-3643d663b2cf</td>\n",
       "      <td>PID-3c84d073-9164-4016-9392-f12bf7e339d4</td>\n",
       "      <td>Greek Yogurt</td>\n",
       "      <td>377</td>\n",
       "      <td>3</td>\n",
       "      <td>1131</td>\n",
       "      <td>CID-98d678b8-9cf7-4a08-a80d-6e8507afd6cb</td>\n",
       "      <td>Locale Mart</td>\n",
       "      <td>Food Beverages</td>\n",
       "      <td>...</td>\n",
       "      <td>75565</td>\n",
       "      <td>0.815395</td>\n",
       "      <td>0.499994</td>\n",
       "      <td>1</td>\n",
       "      <td>2022</td>\n",
       "      <td>52</td>\n",
       "      <td>True</td>\n",
       "      <td>1</td>\n",
       "      <td>0</td>\n",
       "      <td>0.08</td>\n",
       "    </tr>\n",
       "    <tr>\n",
       "      <th>2</th>\n",
       "      <td>OR-5010bdc2-ea6e-43ff-91fe-34f4f8e87217</td>\n",
       "      <td>OI-eb1bac9b-590c-4066-8597-0fdd6cfa419a</td>\n",
       "      <td>PID-22bab63a-1cf7-49cb-9257-dfd144a9bb86</td>\n",
       "      <td>Herbal Tea</td>\n",
       "      <td>412</td>\n",
       "      <td>2</td>\n",
       "      <td>824</td>\n",
       "      <td>CID-98d678b8-9cf7-4a08-a80d-6e8507afd6cb</td>\n",
       "      <td>Locale Mart</td>\n",
       "      <td>Food Beverages</td>\n",
       "      <td>...</td>\n",
       "      <td>75565</td>\n",
       "      <td>0.815395</td>\n",
       "      <td>0.499994</td>\n",
       "      <td>1</td>\n",
       "      <td>2022</td>\n",
       "      <td>52</td>\n",
       "      <td>True</td>\n",
       "      <td>1</td>\n",
       "      <td>0</td>\n",
       "      <td>0.08</td>\n",
       "    </tr>\n",
       "    <tr>\n",
       "      <th>3</th>\n",
       "      <td>OR-8d781f9b-75dd-49c9-af16-e829e0886d25</td>\n",
       "      <td>OI-30b1d19c-e299-4dbd-8542-e1d4feb37b4e</td>\n",
       "      <td>PID-b5d5bbc2-7cbc-4d3a-9ee5-6252405846bf</td>\n",
       "      <td>Vacuum Cleaner</td>\n",
       "      <td>14</td>\n",
       "      <td>364</td>\n",
       "      <td>5096</td>\n",
       "      <td>CID-19d2d36a-1d5c-4504-9f12-fb1a62ee772c</td>\n",
       "      <td>Vertex Ventures</td>\n",
       "      <td>Consumer Goods</td>\n",
       "      <td>...</td>\n",
       "      <td>75565</td>\n",
       "      <td>0.815395</td>\n",
       "      <td>0.499994</td>\n",
       "      <td>1</td>\n",
       "      <td>2022</td>\n",
       "      <td>52</td>\n",
       "      <td>True</td>\n",
       "      <td>1</td>\n",
       "      <td>0</td>\n",
       "      <td>0.06</td>\n",
       "    </tr>\n",
       "    <tr>\n",
       "      <th>4</th>\n",
       "      <td>OR-1df689a0-f2be-4040-915f-ad4450760af4</td>\n",
       "      <td>OI-248b3f42-db14-4bdb-9c89-054cd667cb0b</td>\n",
       "      <td>PID-6cf6400d-1e83-4e24-ac90-f53754533308</td>\n",
       "      <td>Brake Pads</td>\n",
       "      <td>819</td>\n",
       "      <td>60</td>\n",
       "      <td>49140</td>\n",
       "      <td>CID-bab0d39f-4989-46b9-b129-2974828aba33</td>\n",
       "      <td>GlobalReach</td>\n",
       "      <td>Automotive</td>\n",
       "      <td>...</td>\n",
       "      <td>16158</td>\n",
       "      <td>3.179500</td>\n",
       "      <td>1.412790</td>\n",
       "      <td>1</td>\n",
       "      <td>2022</td>\n",
       "      <td>52</td>\n",
       "      <td>True</td>\n",
       "      <td>1</td>\n",
       "      <td>1</td>\n",
       "      <td>0.97</td>\n",
       "    </tr>\n",
       "  </tbody>\n",
       "</table>\n",
       "<p>5 rows × 86 columns</p>\n",
       "</div>"
      ],
      "text/plain": [
       "                                   ORDERID  \\\n",
       "0  OR-5010bdc2-ea6e-43ff-91fe-34f4f8e87217   \n",
       "1  OR-5010bdc2-ea6e-43ff-91fe-34f4f8e87217   \n",
       "2  OR-5010bdc2-ea6e-43ff-91fe-34f4f8e87217   \n",
       "3  OR-8d781f9b-75dd-49c9-af16-e829e0886d25   \n",
       "4  OR-1df689a0-f2be-4040-915f-ad4450760af4   \n",
       "\n",
       "                               ORDERITEMID  \\\n",
       "0  OI-1e6cf9ab-6c8d-4005-9dfe-76902e925900   \n",
       "1  OI-f48f7937-0528-41fe-b9dd-3643d663b2cf   \n",
       "2  OI-eb1bac9b-590c-4066-8597-0fdd6cfa419a   \n",
       "3  OI-30b1d19c-e299-4dbd-8542-e1d4feb37b4e   \n",
       "4  OI-248b3f42-db14-4bdb-9c89-054cd667cb0b   \n",
       "\n",
       "                                  PRODUCTID     PRODUCTNAME  ORDERQUANTITY  \\\n",
       "0  PID-df71fb0e-604f-4ded-8a16-850f47932a2a   Bottled Water           8368   \n",
       "1  PID-3c84d073-9164-4016-9392-f12bf7e339d4    Greek Yogurt            377   \n",
       "2  PID-22bab63a-1cf7-49cb-9257-dfd144a9bb86      Herbal Tea            412   \n",
       "3  PID-b5d5bbc2-7cbc-4d3a-9ee5-6252405846bf  Vacuum Cleaner             14   \n",
       "4  PID-6cf6400d-1e83-4e24-ac90-f53754533308      Brake Pads            819   \n",
       "\n",
       "   UNITPRICE  ORDERVALUE                                CUSTOMERID  \\\n",
       "0          5       41840  CID-98d678b8-9cf7-4a08-a80d-6e8507afd6cb   \n",
       "1          3        1131  CID-98d678b8-9cf7-4a08-a80d-6e8507afd6cb   \n",
       "2          2         824  CID-98d678b8-9cf7-4a08-a80d-6e8507afd6cb   \n",
       "3        364        5096  CID-19d2d36a-1d5c-4504-9f12-fb1a62ee772c   \n",
       "4         60       49140  CID-bab0d39f-4989-46b9-b129-2974828aba33   \n",
       "\n",
       "      CUSTOMERNAME PRODUCTCATEGORY  ... SP_TOTAL_ORDERS SP_ORDER_CONSISTENCY  \\\n",
       "0      Locale Mart  Food Beverages  ...           75565             0.815395   \n",
       "1      Locale Mart  Food Beverages  ...           75565             0.815395   \n",
       "2      Locale Mart  Food Beverages  ...           75565             0.815395   \n",
       "3  Vertex Ventures  Consumer Goods  ...           75565             0.815395   \n",
       "4      GlobalReach      Automotive  ...           16158             3.179500   \n",
       "\n",
       "   SP_DELIVERY_CONSISTENCY  MONTH  YEAR WEEK WEEKEND DAY_OF_THE_MONTH  \\\n",
       "0                 0.499994      1  2022   52    True                1   \n",
       "1                 0.499994      1  2022   52    True                1   \n",
       "2                 0.499994      1  2022   52    True                1   \n",
       "3                 0.499994      1  2022   52    True                1   \n",
       "4                 1.412790      1  2022   52    True                1   \n",
       "\n",
       "  PREDICTED_PAYMENT_DELAY PROBABILITY_PAYMENT_DELAY  \n",
       "0                       0                      0.08  \n",
       "1                       0                      0.08  \n",
       "2                       0                      0.08  \n",
       "3                       0                      0.06  \n",
       "4                       1                      0.97  \n",
       "\n",
       "[5 rows x 86 columns]"
      ]
     },
     "execution_count": 48,
     "metadata": {},
     "output_type": "execute_result"
    }
   ],
   "source": [
    "df.head()"
   ]
  },
  {
   "cell_type": "code",
   "execution_count": 49,
   "id": "41007205-0e28-456c-b109-d0e05b5ef9d2",
   "metadata": {},
   "outputs": [],
   "source": [
    "def re_set_flag(delay):\n",
    "    return 'Y' if delay == 1 else 'N'"
   ]
  },
  {
   "cell_type": "code",
   "execution_count": 50,
   "id": "3e2f2782-bb7e-4949-885f-779950af51b3",
   "metadata": {},
   "outputs": [],
   "source": [
    "df['PREDICTED_PAYMENT_DELAY_FLAG'] = df['PREDICTED_PAYMENT_DELAY'].apply(re_set_flag)"
   ]
  },
  {
   "cell_type": "markdown",
   "id": "64472e02-8a47-4a9b-bf97-19bc0ae27215",
   "metadata": {},
   "source": [
    "# Push Model output back to Snowflake"
   ]
  },
  {
   "cell_type": "code",
   "execution_count": 228,
   "id": "8a2bfc83-ef1b-485c-9891-14c2bca27634",
   "metadata": {},
   "outputs": [],
   "source": [
    "sf_df = my_session.createDataFrame(df)\n",
    "sf_df.write.mode(\"overwrite\").save_as_table(\"FDC_HORIZONTAL.O2C_GOLD.ORDER_TO_CASH_INSIGHT_OUTPUT\")"
   ]
  },
  {
   "cell_type": "markdown",
   "id": "84d91c97-ada1-4222-9537-3e24141cd2ab",
   "metadata": {},
   "source": [
    "# Customer Segmentation Logic"
   ]
  },
  {
   "cell_type": "code",
   "execution_count": 247,
   "id": "0690b35d-faa9-4118-81a6-98d03a585689",
   "metadata": {},
   "outputs": [],
   "source": [
    "def segment_customer(row):\n",
    "    if row['CC_ORDER_FREQUENCY'] > 580 and row['CC_AVERAGE_ORDER_VALUE'] > 65000:\n",
    "        return 'High Value'\n",
    "    elif row['CC_ORDER_FREQUENCY'] > 575:\n",
    "        return 'Frequent Buyer'\n",
    "    elif row['CC_AVERAGE_ORDER_VALUE'] > 60000:\n",
    "        return 'High Spender'\n",
    "    else:\n",
    "        return 'Regular'"
   ]
  },
  {
   "cell_type": "code",
   "execution_count": 248,
   "id": "43e927d7-0332-43a0-be34-d6070db4dc7d",
   "metadata": {},
   "outputs": [],
   "source": [
    "# Apply segmentation\n",
    "df['CUSTOMER_SEGMENT'] = df.apply(segment_customer, axis=1)"
   ]
  },
  {
   "cell_type": "code",
   "execution_count": 249,
   "id": "679c0ed9-5c2f-46a6-91a2-26235b1b5f6a",
   "metadata": {
    "scrolled": true
   },
   "outputs": [
    {
     "data": {
      "text/plain": [
       "CUSTOMER_SEGMENT\n",
       "Regular           83\n",
       "Frequent Buyer    38\n",
       "High Spender      20\n",
       "High Value         9\n",
       "Name: count, dtype: int64"
      ]
     },
     "execution_count": 249,
     "metadata": {},
     "output_type": "execute_result"
    }
   ],
   "source": [
    "temp = df[['CUSTOMERID','CUSTOMER_SEGMENT']]\n",
    "temp = temp.drop_duplicates()\n",
    "temp['CUSTOMER_SEGMENT'].value_counts()"
   ]
  },
  {
   "cell_type": "markdown",
   "id": "c31e6601-f1f9-4763-a36e-c2aafb883550",
   "metadata": {},
   "source": [
    "# Discount offer Eligbility "
   ]
  },
  {
   "cell_type": "code",
   "execution_count": 250,
   "id": "51f5fd6a-6e17-494c-8724-9d27cfe200be",
   "metadata": {},
   "outputs": [
    {
     "data": {
      "text/html": [
       "<div>\n",
       "<style scoped>\n",
       "    .dataframe tbody tr th:only-of-type {\n",
       "        vertical-align: middle;\n",
       "    }\n",
       "\n",
       "    .dataframe tbody tr th {\n",
       "        vertical-align: top;\n",
       "    }\n",
       "\n",
       "    .dataframe thead th {\n",
       "        text-align: right;\n",
       "    }\n",
       "</style>\n",
       "<table border=\"1\" class=\"dataframe\">\n",
       "  <thead>\n",
       "    <tr style=\"text-align: right;\">\n",
       "      <th></th>\n",
       "      <th>CC_TOTAL_ORDERS</th>\n",
       "      <th>CC_AVERAGE_ORDER_VALUE</th>\n",
       "      <th>CC_AVG_PAYMENT_DELAY</th>\n",
       "      <th>CC_RECENCY</th>\n",
       "    </tr>\n",
       "  </thead>\n",
       "  <tbody>\n",
       "    <tr>\n",
       "      <th>0.25</th>\n",
       "      <td>1106.0</td>\n",
       "      <td>24125.384481</td>\n",
       "      <td>-4.188368</td>\n",
       "      <td>-91.0</td>\n",
       "    </tr>\n",
       "    <tr>\n",
       "      <th>0.50</th>\n",
       "      <td>1133.0</td>\n",
       "      <td>33440.178975</td>\n",
       "      <td>1.170732</td>\n",
       "      <td>-87.0</td>\n",
       "    </tr>\n",
       "    <tr>\n",
       "      <th>0.75</th>\n",
       "      <td>1170.0</td>\n",
       "      <td>60327.420108</td>\n",
       "      <td>5.393116</td>\n",
       "      <td>-79.0</td>\n",
       "    </tr>\n",
       "    <tr>\n",
       "      <th>0.90</th>\n",
       "      <td>1199.0</td>\n",
       "      <td>75144.645479</td>\n",
       "      <td>9.370719</td>\n",
       "      <td>-72.0</td>\n",
       "    </tr>\n",
       "  </tbody>\n",
       "</table>\n",
       "</div>"
      ],
      "text/plain": [
       "      CC_TOTAL_ORDERS  CC_AVERAGE_ORDER_VALUE  CC_AVG_PAYMENT_DELAY  \\\n",
       "0.25           1106.0            24125.384481             -4.188368   \n",
       "0.50           1133.0            33440.178975              1.170732   \n",
       "0.75           1170.0            60327.420108              5.393116   \n",
       "0.90           1199.0            75144.645479              9.370719   \n",
       "\n",
       "      CC_RECENCY  \n",
       "0.25       -91.0  \n",
       "0.50       -87.0  \n",
       "0.75       -79.0  \n",
       "0.90       -72.0  "
      ]
     },
     "execution_count": 250,
     "metadata": {},
     "output_type": "execute_result"
    }
   ],
   "source": [
    "df[['CC_TOTAL_ORDERS','CC_AVERAGE_ORDER_VALUE','CC_AVG_PAYMENT_DELAY','CC_RECENCY']].quantile([0.25,0.50,0.75,0.90])"
   ]
  },
  {
   "cell_type": "code",
   "execution_count": 251,
   "id": "aca2f9fd-3382-426e-97bd-f9c138ba3e1e",
   "metadata": {},
   "outputs": [],
   "source": [
    "df['BULK_PURCHASE_DISCOUNT'] = df.apply(\n",
    "    lambda row: 'Yes' if row['CC_TOTAL_ORDERS'] > 1190 or row['CC_AVERAGE_ORDER_VALUE'] > 75144 else 'No', axis=1)\n",
    "\n",
    "df['EARLY_PAYMENT_DISCOUNT'] = df.apply(\n",
    "    lambda row: 'Yes' if row['CC_AVG_PAYMENT_DELAY'] < 1 else 'No', axis=1)"
   ]
  },
  {
   "cell_type": "markdown",
   "id": "bb5a6fc1-5bb0-4998-b357-57938b3431ad",
   "metadata": {},
   "source": [
    "# Overwrite Model Output data in Snowflake"
   ]
  },
  {
   "cell_type": "code",
   "execution_count": 252,
   "id": "6c7a7397-ecc0-49a3-8381-1d9890e7ce98",
   "metadata": {},
   "outputs": [],
   "source": [
    "sf_df = my_session.createDataFrame(df)\n",
    "sf_df.write.mode(\"overwrite\").save_as_table(\"FDC_HORIZONTAL.O2C_GOLD.ORDER_TO_CASH_INSIGHT_OUTPUT\")"
   ]
  }
 ],
 "metadata": {
  "kernelspec": {
   "display_name": "Python 3 (ipykernel)",
   "language": "python",
   "name": "python3"
  },
  "language_info": {
   "codemirror_mode": {
    "name": "ipython",
    "version": 3
   },
   "file_extension": ".py",
   "mimetype": "text/x-python",
   "name": "python",
   "nbconvert_exporter": "python",
   "pygments_lexer": "ipython3",
   "version": "3.9.19"
  }
 },
 "nbformat": 4,
 "nbformat_minor": 5
}
