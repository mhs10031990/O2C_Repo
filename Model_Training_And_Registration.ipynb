{
 "cells": [
  {
   "cell_type": "markdown",
   "id": "0bcad55b-31a7-4ec6-99d1-5c1adce88d6e",
   "metadata": {},
   "source": [
    "# Use O2C_Template Customized Notebook Template"
   ]
  },
  {
   "cell_type": "code",
   "execution_count": null,
   "id": "4545a18a-ac99-4a61-87eb-685a9fc1d216",
   "metadata": {},
   "outputs": [],
   "source": [
    "import pandas as pd\n",
    "import numpy as np"
   ]
  },
  {
   "cell_type": "code",
   "execution_count": null,
   "id": "fe2d2323-ae3c-4027-b777-5c40e16db890",
   "metadata": {},
   "outputs": [],
   "source": [
    "from fosforml.model_manager.snowflakesession import get_session\n",
    "my_session = get_session()"
   ]
  },
  {
   "cell_type": "code",
   "execution_count": null,
   "id": "b5958b79-ef81-46ec-8591-926b906584dd",
   "metadata": {},
   "outputs": [],
   "source": [
    "table_name = 'ORDER_TO_CASH_ENRICHED'\n",
    "\n",
    "sf_df = my_session.sql(\"select * from {}\".format(table_name))\n",
    "df_final = sf_df.to_pandas()"
   ]
  },
  {
   "cell_type": "code",
   "execution_count": null,
   "id": "1b452a02-6961-49fb-b2cd-ad499a0d21d2",
   "metadata": {},
   "outputs": [],
   "source": [
    "df_train = df_final[df_final['INVOICESTATUS'] == 'Paid']\n",
    "df_new = df_final[df_final['INVOICESTATUS'] != 'Paid']"
   ]
  },
  {
   "cell_type": "code",
   "execution_count": null,
   "id": "48250bbd-0aab-4c5b-9f78-2bb14e4cee79",
   "metadata": {},
   "outputs": [],
   "source": [
    "df_train.shape, df_new.shape"
   ]
  },
  {
   "cell_type": "code",
   "execution_count": null,
   "id": "3045e22d-d3aa-4c69-9ab6-01451a4d4e98",
   "metadata": {},
   "outputs": [],
   "source": [
    "df_final = df.copy()"
   ]
  },
  {
   "cell_type": "code",
   "execution_count": null,
   "id": "cb32c411-0adf-4d39-9c8a-22613b925acc",
   "metadata": {},
   "outputs": [],
   "source": [
    "# Assuming df is your dataframe\n",
    "df['ORDERDATE'] = pd.to_datetime(df['ORDERDATE'], errors='coerce')\n",
    "df['DELIVERYDATE'] = pd.to_datetime(df['DELIVERYDATE'], errors='coerce')\n",
    "df['INVOICEDATE'] = pd.to_datetime(df['INVOICEDATE'], errors='coerce')\n",
    "df['PAYMENTDATE'] = pd.to_datetime(df['PAYMENTDATE'], errors='coerce')\n",
    "df['INVOICEDUEDATE'] = pd.to_datetime(df['INVOICEDUEDATE'], errors='coerce')\n",
    "df['DELIVEREDON'] = pd.to_datetime(df['DELIVEREDON'], errors='coerce')"
   ]
  },
  {
   "cell_type": "code",
   "execution_count": null,
   "id": "f1346ae1-b074-4cec-a8da-40c036bef86b",
   "metadata": {},
   "outputs": [],
   "source": [
    "df['MONTH'] = pd.to_datetime(df['ORDERDATE']).dt.month\n",
    "df['YEAR'] = pd.to_datetime(df['ORDERDATE']).dt.year\n",
    "df['WEEK'] = pd.to_datetime(df['ORDERDATE']).dt.isocalendar().week\n",
    "df['WEEKEND'] = pd.to_datetime(df['ORDERDATE']).dt.weekday >= 5  # True if the day is Saturday or Sunday\n",
    "df['DAY_OF_THE_MONTH'] = pd.to_datetime(df['ORDERDATE']).dt.day"
   ]
  },
  {
   "cell_type": "code",
   "execution_count": null,
   "id": "4549a1ae-6e05-4dfd-a071-c8f9d6eea89d",
   "metadata": {},
   "outputs": [],
   "source": [
    "# Delivery Delay\n",
    "df['DELIVERY_DELAY'] = (df['DELIVERYDATE'] - df['DELIVEREDON']).dt.days\n",
    "\n",
    "# Payment Delay\n",
    "df['PAYMENT_DELAY'] = (df['PAYMENTDATE'] - df['INVOICEDUEDATE']).dt.days"
   ]
  },
  {
   "cell_type": "code",
   "execution_count": null,
   "id": "31eeb1c1-92de-4af1-9af8-4d204db83a93",
   "metadata": {
    "scrolled": true
   },
   "outputs": [],
   "source": [
    "df.columns"
   ]
  },
  {
   "cell_type": "code",
   "execution_count": null,
   "id": "0a6184bc-3ac2-4a26-a5af-9e3f87b8c2fd",
   "metadata": {},
   "outputs": [],
   "source": [
    "cols = ['ORDERQUANTITY','UNITPRICE','ORDERVALUE',\n",
    ",'CC_CUSTOMER_LIFETIME_VALUE','CC_ORDER_FREQUENCY', 'CC_AVERAGE_ORDER_VALUE', 'CC_RECENCY','CC_AVG_ORDER_PROCESSING_TIME'\n",
    ",'CC_AVG_INVOICE_PROCESSING_TIME', 'CC_AVG_DELIVERY_DELAY','CC_AVG_PAYMENT_DELAY', 'CC_TOTAL_ORDERS', 'CC_TOTAL_DELAYS'\n",
    ",'CC_ORDER_CONSISTENCY', 'CC_INVOICE_CONSISTENCY','CC_DELIVERY_CONSISTENCY', 'CC_PAYMENT_CONSISTENCY'\n",
    ",'PR_TOTAL_SALES_VOLUME', 'PR_TOTAL_SALES_VALUE','PR_AVG_ORDER_QUANTITY', 'PR_AVG_UNIT_PRICE', 'PR_NUMBER_OF_ORDERS'\n",
    ",'PR_AVG_DELIVERY_TIME', 'PR_AVG_INVOICE_TIME', 'CAT_TOTAL_SALES_VOLUME','CAT_TOTAL_SALES_VALUE', 'CAT_AVG_ORDER_QUANTITY', 'CAT_AVG_UNIT_PRICE'\n",
    ",'CAT_NUMBER_OF_ORDERS', 'CAT_AVG_DELIVERY_TIME','CAT_AVG_INVOICE_TIME','DELIVERY_DELAY','PAYMENT_DELAY'\n",
    ",'MONTH', 'YEAR', 'WEEK', 'WEEKEND', 'DAY_OF_THE_MONTH']"
   ]
  },
  {
   "cell_type": "code",
   "execution_count": null,
   "id": "7dc38239-78a3-43ca-a706-479e88b41907",
   "metadata": {},
   "outputs": [],
   "source": [
    "df = df[cols]"
   ]
  },
  {
   "cell_type": "code",
   "execution_count": null,
   "id": "4cdade4a-403a-400c-865f-5beb93762b42",
   "metadata": {},
   "outputs": [],
   "source": [
    "df.info()"
   ]
  },
  {
   "cell_type": "code",
   "execution_count": null,
   "id": "3f027c2b-0943-4ed8-a7b7-c716703b4423",
   "metadata": {
    "scrolled": true
   },
   "outputs": [],
   "source": [
    "df.tail()"
   ]
  },
  {
   "cell_type": "code",
   "execution_count": 43,
   "id": "e809c2bf-7ead-4f53-97fe-e9a0718ee5dc",
   "metadata": {},
   "outputs": [],
   "source": [
    "from sklearn.preprocessing import StandardScaler\n",
    "\n",
    "# Standardize the predictor variables\n",
    "scaler = StandardScaler()\n",
    "X_scaled = scaler.fit_transform(df_model_reduced.drop(columns=['duration', 'event']))\n",
    "df_model_scaled = pd.DataFrame(X_scaled, columns=df_model_reduced.drop(columns=['duration', 'event']).columns)\n",
    "df_model_scaled['duration'] = df_model_reduced['duration'].values\n",
    "df_model_scaled['event'] = df_model_reduced['event'].values"
   ]
  },
  {
   "cell_type": "code",
   "execution_count": null,
   "id": "6699d926-777b-4b56-a36e-d598d4087009",
   "metadata": {},
   "outputs": [],
   "source": []
  },
  {
   "cell_type": "code",
   "execution_count": null,
   "id": "41bd57b7-a1dc-4f74-a3cd-9217c46bf59c",
   "metadata": {},
   "outputs": [],
   "source": []
  }
 ],
 "metadata": {
  "kernelspec": {
   "display_name": "Python 3 (ipykernel)",
   "language": "python",
   "name": "python3"
  },
  "language_info": {
   "codemirror_mode": {
    "name": "ipython",
    "version": 3
   },
   "file_extension": ".py",
   "mimetype": "text/x-python",
   "name": "python",
   "nbconvert_exporter": "python",
   "pygments_lexer": "ipython3",
   "version": "3.9.19"
  }
 },
 "nbformat": 4,
 "nbformat_minor": 5
}
