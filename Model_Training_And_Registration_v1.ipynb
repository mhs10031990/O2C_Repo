{
 "cells": [
  {
   "cell_type": "markdown",
   "id": "0bcad55b-31a7-4ec6-99d1-5c1adce88d6e",
   "metadata": {},
   "source": [
    "# Use O2C_Template Customized Notebook Template"
   ]
  },
  {
   "cell_type": "code",
   "execution_count": 156,
   "id": "4545a18a-ac99-4a61-87eb-685a9fc1d216",
   "metadata": {},
   "outputs": [],
   "source": [
    "import pandas as pd\n",
    "import numpy as np\n",
    "\n",
    "from sklearn.model_selection import train_test_split, cross_val_score\n",
    "from sklearn.pipeline import Pipeline\n",
    "from sklearn.preprocessing import StandardScaler,MinMaxScaler\n",
    "from sklearn.svm import SVC\n",
    "from sklearn.neighbors import KNeighborsClassifier\n",
    "from sklearn.tree import DecisionTreeClassifier\n",
    "from sklearn.model_selection import GridSearchCV\n",
    "from sklearn.ensemble import RandomForestClassifier\n",
    "from sklearn.ensemble import AdaBoostClassifier\n",
    "from sklearn.ensemble import GradientBoostingClassifier\n",
    "from sklearn.ensemble import ExtraTreesClassifier\n",
    "from sklearn.ensemble import VotingClassifier\n",
    "from sklearn.metrics import classification_report, f1_score, r2_score, roc_auc_score, confusion_matrix, accuracy_score"
   ]
  },
  {
   "cell_type": "code",
   "execution_count": 157,
   "id": "fe2d2323-ae3c-4027-b777-5c40e16db890",
   "metadata": {},
   "outputs": [],
   "source": [
    "from fosforml.model_manager.snowflakesession import get_session\n",
    "my_session = get_session()"
   ]
  },
  {
   "cell_type": "code",
   "execution_count": 158,
   "id": "b5958b79-ef81-46ec-8591-926b906584dd",
   "metadata": {},
   "outputs": [],
   "source": [
    "table_name = 'ORDER_TO_CASH_ENRICHED'\n",
    "\n",
    "sf_df = my_session.sql(\"select * from {}\".format(table_name))\n",
    "df = sf_df.to_pandas()"
   ]
  },
  {
   "cell_type": "code",
   "execution_count": 159,
   "id": "1b452a02-6961-49fb-b2cd-ad499a0d21d2",
   "metadata": {},
   "outputs": [],
   "source": [
    "df_train = df[df['INVOICESTATUS'].isin(['LATE_PAYMENT','ONTIME_PAYMENT'])]\n",
    "df_test = df[~df['INVOICESTATUS'].isin(['LATE_PAYMENT','ONTIME_PAYMENT'])]"
   ]
  },
  {
   "cell_type": "code",
   "execution_count": 160,
   "id": "48250bbd-0aab-4c5b-9f78-2bb14e4cee79",
   "metadata": {},
   "outputs": [
    {
     "data": {
      "text/plain": [
       "((170445, 79), (2992, 79))"
      ]
     },
     "execution_count": 160,
     "metadata": {},
     "output_type": "execute_result"
    }
   ],
   "source": [
    "df_train.shape, df_test.shape"
   ]
  },
  {
   "cell_type": "code",
   "execution_count": 161,
   "id": "3045e22d-d3aa-4c69-9ab6-01451a4d4e98",
   "metadata": {},
   "outputs": [],
   "source": [
    "df_final = df.copy()\n",
    "df = df_train.copy()"
   ]
  },
  {
   "cell_type": "code",
   "execution_count": 162,
   "id": "8d791806-6230-4d4b-a679-eb62b6954951",
   "metadata": {},
   "outputs": [
    {
     "data": {
      "text/plain": [
       "((173437, 79), (170445, 79))"
      ]
     },
     "execution_count": 162,
     "metadata": {},
     "output_type": "execute_result"
    }
   ],
   "source": [
    "df_final.shape, df.shape"
   ]
  },
  {
   "cell_type": "code",
   "execution_count": 163,
   "id": "cb32c411-0adf-4d39-9c8a-22613b925acc",
   "metadata": {},
   "outputs": [],
   "source": [
    "# Assuming df is your dataframe\n",
    "df['ORDERDATE'] = pd.to_datetime(df['ORDERDATE'], errors='coerce')\n",
    "df['DELIVERYDATE'] = pd.to_datetime(df['DELIVERYDATE'], errors='coerce')\n",
    "df['INVOICEDATE'] = pd.to_datetime(df['INVOICEDATE'], errors='coerce')\n",
    "df['PAYMENTDATE'] = pd.to_datetime(df['PAYMENTDATE'], errors='coerce')\n",
    "df['INVOICEDUEDATE'] = pd.to_datetime(df['INVOICEDUEDATE'], errors='coerce')\n",
    "df['DELIVEREDON'] = pd.to_datetime(df['DELIVEREDON'], errors='coerce')"
   ]
  },
  {
   "cell_type": "code",
   "execution_count": 164,
   "id": "f1346ae1-b074-4cec-a8da-40c036bef86b",
   "metadata": {},
   "outputs": [],
   "source": [
    "df['MONTH'] = pd.to_datetime(df['ORDERDATE']).dt.month\n",
    "df['YEAR'] = pd.to_datetime(df['ORDERDATE']).dt.year\n",
    "df['WEEK'] = pd.to_datetime(df['ORDERDATE']).dt.isocalendar().week\n",
    "df['WEEKEND'] = pd.to_datetime(df['ORDERDATE']).dt.weekday >= 5  # True if the day is Saturday or Sunday\n",
    "df['DAY_OF_THE_MONTH'] = pd.to_datetime(df['ORDERDATE']).dt.day"
   ]
  },
  {
   "cell_type": "code",
   "execution_count": 165,
   "id": "4549a1ae-6e05-4dfd-a071-c8f9d6eea89d",
   "metadata": {},
   "outputs": [],
   "source": [
    "# Delivery Delay\n",
    "df['DELIVERY_DELAY'] = (df['DELIVEREDON'] - df['DELIVERYDATE']).dt.days\n",
    "\n",
    "# Payment Delay\n",
    "df['PAYMENT_DELAY'] = (df['PAYMENTDATE'] - df['INVOICEDUEDATE']).dt.days"
   ]
  },
  {
   "cell_type": "code",
   "execution_count": 166,
   "id": "ae57ced7-0cca-4e4a-bf1c-43b72e60676f",
   "metadata": {},
   "outputs": [
    {
     "data": {
      "text/html": [
       "<div>\n",
       "<style scoped>\n",
       "    .dataframe tbody tr th:only-of-type {\n",
       "        vertical-align: middle;\n",
       "    }\n",
       "\n",
       "    .dataframe tbody tr th {\n",
       "        vertical-align: top;\n",
       "    }\n",
       "\n",
       "    .dataframe thead th {\n",
       "        text-align: right;\n",
       "    }\n",
       "</style>\n",
       "<table border=\"1\" class=\"dataframe\">\n",
       "  <thead>\n",
       "    <tr style=\"text-align: right;\">\n",
       "      <th></th>\n",
       "      <th>PAYMENTDATE</th>\n",
       "      <th>INVOICEDUEDATE</th>\n",
       "      <th>PAYMENT_DELAY</th>\n",
       "      <th>DELIVEREDON</th>\n",
       "      <th>DELIVERYDATE</th>\n",
       "      <th>DELIVERY_DELAY</th>\n",
       "    </tr>\n",
       "  </thead>\n",
       "  <tbody>\n",
       "    <tr>\n",
       "      <th>0</th>\n",
       "      <td>2022-10-11</td>\n",
       "      <td>2022-09-28</td>\n",
       "      <td>13</td>\n",
       "      <td>2022-09-02</td>\n",
       "      <td>2022-08-28</td>\n",
       "      <td>5</td>\n",
       "    </tr>\n",
       "    <tr>\n",
       "      <th>1</th>\n",
       "      <td>2022-09-07</td>\n",
       "      <td>2022-09-16</td>\n",
       "      <td>-9</td>\n",
       "      <td>2022-08-22</td>\n",
       "      <td>2022-08-20</td>\n",
       "      <td>2</td>\n",
       "    </tr>\n",
       "    <tr>\n",
       "      <th>2</th>\n",
       "      <td>2022-06-09</td>\n",
       "      <td>2022-06-09</td>\n",
       "      <td>0</td>\n",
       "      <td>2022-05-16</td>\n",
       "      <td>2022-05-14</td>\n",
       "      <td>2</td>\n",
       "    </tr>\n",
       "    <tr>\n",
       "      <th>3</th>\n",
       "      <td>2022-06-09</td>\n",
       "      <td>2022-06-09</td>\n",
       "      <td>0</td>\n",
       "      <td>2022-05-16</td>\n",
       "      <td>2022-05-14</td>\n",
       "      <td>2</td>\n",
       "    </tr>\n",
       "    <tr>\n",
       "      <th>4</th>\n",
       "      <td>2024-03-25</td>\n",
       "      <td>2024-03-13</td>\n",
       "      <td>12</td>\n",
       "      <td>2024-02-12</td>\n",
       "      <td>2024-02-10</td>\n",
       "      <td>2</td>\n",
       "    </tr>\n",
       "  </tbody>\n",
       "</table>\n",
       "</div>"
      ],
      "text/plain": [
       "  PAYMENTDATE INVOICEDUEDATE  PAYMENT_DELAY DELIVEREDON DELIVERYDATE  \\\n",
       "0  2022-10-11     2022-09-28             13  2022-09-02   2022-08-28   \n",
       "1  2022-09-07     2022-09-16             -9  2022-08-22   2022-08-20   \n",
       "2  2022-06-09     2022-06-09              0  2022-05-16   2022-05-14   \n",
       "3  2022-06-09     2022-06-09              0  2022-05-16   2022-05-14   \n",
       "4  2024-03-25     2024-03-13             12  2024-02-12   2024-02-10   \n",
       "\n",
       "   DELIVERY_DELAY  \n",
       "0               5  \n",
       "1               2  \n",
       "2               2  \n",
       "3               2  \n",
       "4               2  "
      ]
     },
     "execution_count": 166,
     "metadata": {},
     "output_type": "execute_result"
    }
   ],
   "source": [
    "df[['PAYMENTDATE','INVOICEDUEDATE','PAYMENT_DELAY','DELIVEREDON','DELIVERYDATE','DELIVERY_DELAY']].head()"
   ]
  },
  {
   "cell_type": "code",
   "execution_count": 167,
   "id": "d3552370-97c4-41f7-a058-3175af7a429f",
   "metadata": {},
   "outputs": [],
   "source": [
    "def set_flag(delay):\n",
    "    return 1 if delay >= 1 else 0"
   ]
  },
  {
   "cell_type": "code",
   "execution_count": 168,
   "id": "4274acc5-c5d6-4bcf-8df4-22f36c6308d2",
   "metadata": {},
   "outputs": [],
   "source": [
    "df['PAYMENT_DELAY_FLAG'] = df['PAYMENT_DELAY'].apply(set_flag)\n",
    "df['DELIVERY_DELAY_FLAG'] = df['DELIVERY_DELAY'].apply(set_flag)"
   ]
  },
  {
   "cell_type": "code",
   "execution_count": 169,
   "id": "9faa633f-c95f-4cf0-9918-9a2958906468",
   "metadata": {},
   "outputs": [
    {
     "data": {
      "text/plain": [
       "PAYMENT_DELAY_FLAG\n",
       "1    89412\n",
       "0    81033\n",
       "Name: count, dtype: int64"
      ]
     },
     "execution_count": 169,
     "metadata": {},
     "output_type": "execute_result"
    }
   ],
   "source": [
    "df['PAYMENT_DELAY_FLAG'].value_counts()"
   ]
  },
  {
   "cell_type": "code",
   "execution_count": 170,
   "id": "9f997737-bfec-4f9a-bb69-9a83eff3b2ae",
   "metadata": {},
   "outputs": [
    {
     "data": {
      "text/plain": [
       "DELIVERY_DELAY_FLAG\n",
       "1    170445\n",
       "Name: count, dtype: int64"
      ]
     },
     "execution_count": 170,
     "metadata": {},
     "output_type": "execute_result"
    }
   ],
   "source": [
    "df['DELIVERY_DELAY_FLAG'].value_counts()"
   ]
  },
  {
   "cell_type": "code",
   "execution_count": 171,
   "id": "a6841f58-06d6-4802-aac0-5e92ee4d3ca7",
   "metadata": {},
   "outputs": [
    {
     "name": "stdout",
     "output_type": "stream",
     "text": [
      "['ORDERID', 'ORDERITEMID', 'PRODUCTID', 'PRODUCTNAME', 'ORDERQUANTITY', 'UNITPRICE', 'ORDERVALUE', 'CUSTOMERID', 'CUSTOMERNAME', 'PRODUCTCATEGORY', 'ORDERDATE', 'ORDERSTATUS', 'ORDERAMOUNT', 'ORDERCOUNT', 'SHIPMENTID', 'SHIPMENTDATE', 'DELIVERYDATE', 'DELIVEREDON', 'CARRIER', 'SHIPMENTSTATUS', 'INVOICEID', 'INVOICEDATE', 'INVOICEDUEDATE', 'PAYMENTDATE', 'INVOICESTATUS', 'PAYMENTMETHOD', 'PRODUCTTYPE', 'QUANTITY', 'COMPANYTYPE', 'CONTACTDETAILS', 'EMAILDETAILS', 'ADDRESSDETAILS', 'ADMINDETAILS', 'CREDITLIMIT', 'CUSTOMERSINCE', 'PAYMENTTERMS', 'CREDITLIMITTYPE', 'CUSTOMERTYPE', 'SUPPLIERNAME', 'SUPPLIERID', 'CC_CUSTOMER_LIFETIME_VALUE', 'CC_ORDER_FREQUENCY', 'CC_AVERAGE_ORDER_VALUE', 'CC_RECENCY', 'CC_PREFERRED_PAYMENT_METHOD', 'CC_PREFERRED_PRODUCT_CATEGORY', 'CC_PREFERRED_PRODUCT_TYPE', 'CC_AVG_ORDER_PROCESSING_TIME', 'CC_AVG_INVOICE_PROCESSING_TIME', 'CC_AVG_DELIVERY_DELAY', 'CC_AVG_PAYMENT_DELAY', 'CC_TOTAL_ORDERS', 'CC_TOTAL_DELAYS', 'CC_ORDER_CONSISTENCY', 'CC_INVOICE_CONSISTENCY', 'CC_DELIVERY_CONSISTENCY', 'CC_PAYMENT_CONSISTENCY', 'PR_TOTAL_SALES_VOLUME', 'PR_TOTAL_SALES_VALUE', 'PR_AVG_ORDER_QUANTITY', 'PR_AVG_UNIT_PRICE', 'PR_NUMBER_OF_ORDERS', 'PR_AVG_DELIVERY_TIME', 'PR_AVG_INVOICE_TIME', 'CAT_TOTAL_SALES_VOLUME', 'CAT_TOTAL_SALES_VALUE', 'CAT_AVG_ORDER_QUANTITY', 'CAT_AVG_UNIT_PRICE', 'CAT_NUMBER_OF_ORDERS', 'CAT_AVG_DELIVERY_TIME', 'CAT_AVG_INVOICE_TIME', 'SP_CUSTOMER_LIFETIME_VALUE', 'SP_ORDER_FREQUENCY', 'SP_AVERAGE_ORDER_VALUE', 'SP_AVG_ORDER_PROCESSING_TIME', 'SP_AVG_DELIVERY_DELAY', 'SP_TOTAL_ORDERS', 'SP_ORDER_CONSISTENCY', 'SP_DELIVERY_CONSISTENCY', 'MONTH', 'YEAR', 'WEEK', 'WEEKEND', 'DAY_OF_THE_MONTH', 'DELIVERY_DELAY', 'PAYMENT_DELAY', 'PAYMENT_DELAY_FLAG', 'DELIVERY_DELAY_FLAG']\n"
     ]
    }
   ],
   "source": [
    "print(list(df.columns))"
   ]
  },
  {
   "cell_type": "code",
   "execution_count": 172,
   "id": "01deb023-3237-4ca7-9487-95f28b31994d",
   "metadata": {},
   "outputs": [],
   "source": [
    "cols = ['ORDERAMOUNT','ORDERCOUNT',\n",
    "'CC_CUSTOMER_LIFETIME_VALUE', 'CC_ORDER_FREQUENCY', 'CC_AVERAGE_ORDER_VALUE', 'CC_RECENCY', 'CC_AVG_ORDER_PROCESSING_TIME', 'CC_AVG_INVOICE_PROCESSING_TIME', \n",
    "'CC_AVG_DELIVERY_DELAY', 'CC_AVG_PAYMENT_DELAY', 'CC_TOTAL_ORDERS', 'CC_TOTAL_DELAYS', 'CC_ORDER_CONSISTENCY', 'CC_INVOICE_CONSISTENCY', \n",
    "'CC_DELIVERY_CONSISTENCY', 'CC_PAYMENT_CONSISTENCY', 'CAT_TOTAL_SALES_VOLUME', 'CAT_TOTAL_SALES_VALUE', \n",
    "'CAT_AVG_ORDER_QUANTITY', 'CAT_AVG_UNIT_PRICE', 'CAT_NUMBER_OF_ORDERS', 'CAT_AVG_DELIVERY_TIME', 'CAT_AVG_INVOICE_TIME', \n",
    "'SP_CUSTOMER_LIFETIME_VALUE', 'SP_ORDER_FREQUENCY', 'SP_AVERAGE_ORDER_VALUE', 'SP_AVG_ORDER_PROCESSING_TIME', 'SP_AVG_DELIVERY_DELAY', \n",
    "'SP_TOTAL_ORDERS', 'SP_ORDER_CONSISTENCY', 'SP_DELIVERY_CONSISTENCY', 'MONTH', 'YEAR', 'WEEK', 'WEEKEND', 'DAY_OF_THE_MONTH', 'PAYMENT_DELAY_FLAG']"
   ]
  },
  {
   "cell_type": "code",
   "execution_count": 173,
   "id": "7dc38239-78a3-43ca-a706-479e88b41907",
   "metadata": {},
   "outputs": [],
   "source": [
    "df_payments = df[cols]"
   ]
  },
  {
   "cell_type": "code",
   "execution_count": 174,
   "id": "4cdade4a-403a-400c-865f-5beb93762b42",
   "metadata": {},
   "outputs": [
    {
     "data": {
      "text/html": [
       "<div>\n",
       "<style scoped>\n",
       "    .dataframe tbody tr th:only-of-type {\n",
       "        vertical-align: middle;\n",
       "    }\n",
       "\n",
       "    .dataframe tbody tr th {\n",
       "        vertical-align: top;\n",
       "    }\n",
       "\n",
       "    .dataframe thead th {\n",
       "        text-align: right;\n",
       "    }\n",
       "</style>\n",
       "<table border=\"1\" class=\"dataframe\">\n",
       "  <thead>\n",
       "    <tr style=\"text-align: right;\">\n",
       "      <th></th>\n",
       "      <th>ORDERAMOUNT</th>\n",
       "      <th>ORDERCOUNT</th>\n",
       "      <th>CC_CUSTOMER_LIFETIME_VALUE</th>\n",
       "      <th>CC_ORDER_FREQUENCY</th>\n",
       "      <th>CC_AVERAGE_ORDER_VALUE</th>\n",
       "      <th>CC_RECENCY</th>\n",
       "      <th>CC_AVG_ORDER_PROCESSING_TIME</th>\n",
       "      <th>CC_AVG_INVOICE_PROCESSING_TIME</th>\n",
       "      <th>CC_AVG_DELIVERY_DELAY</th>\n",
       "      <th>CC_AVG_PAYMENT_DELAY</th>\n",
       "      <th>...</th>\n",
       "      <th>SP_AVG_DELIVERY_DELAY</th>\n",
       "      <th>SP_TOTAL_ORDERS</th>\n",
       "      <th>SP_ORDER_CONSISTENCY</th>\n",
       "      <th>SP_DELIVERY_CONSISTENCY</th>\n",
       "      <th>MONTH</th>\n",
       "      <th>YEAR</th>\n",
       "      <th>WEEK</th>\n",
       "      <th>WEEKEND</th>\n",
       "      <th>DAY_OF_THE_MONTH</th>\n",
       "      <th>PAYMENT_DELAY_FLAG</th>\n",
       "    </tr>\n",
       "  </thead>\n",
       "  <tbody>\n",
       "    <tr>\n",
       "      <th>0</th>\n",
       "      <td>1410000</td>\n",
       "      <td>1</td>\n",
       "      <td>1140591720</td>\n",
       "      <td>582</td>\n",
       "      <td>946549.145228</td>\n",
       "      <td>-91</td>\n",
       "      <td>15.033195</td>\n",
       "      <td>36.940249</td>\n",
       "      <td>3.034025</td>\n",
       "      <td>12.499585</td>\n",
       "      <td>...</td>\n",
       "      <td>3.018392</td>\n",
       "      <td>32025</td>\n",
       "      <td>1.718133</td>\n",
       "      <td>1.415584</td>\n",
       "      <td>8</td>\n",
       "      <td>2022</td>\n",
       "      <td>32</td>\n",
       "      <td>False</td>\n",
       "      <td>10</td>\n",
       "      <td>1</td>\n",
       "    </tr>\n",
       "    <tr>\n",
       "      <th>1</th>\n",
       "      <td>37255</td>\n",
       "      <td>1</td>\n",
       "      <td>14395460</td>\n",
       "      <td>568</td>\n",
       "      <td>12672.059859</td>\n",
       "      <td>-71</td>\n",
       "      <td>4.529049</td>\n",
       "      <td>17.872359</td>\n",
       "      <td>1.490317</td>\n",
       "      <td>-6.616197</td>\n",
       "      <td>...</td>\n",
       "      <td>1.494201</td>\n",
       "      <td>75789</td>\n",
       "      <td>0.818478</td>\n",
       "      <td>0.499970</td>\n",
       "      <td>8</td>\n",
       "      <td>2022</td>\n",
       "      <td>33</td>\n",
       "      <td>False</td>\n",
       "      <td>15</td>\n",
       "      <td>0</td>\n",
       "    </tr>\n",
       "    <tr>\n",
       "      <th>2</th>\n",
       "      <td>23085</td>\n",
       "      <td>2</td>\n",
       "      <td>15289447</td>\n",
       "      <td>601</td>\n",
       "      <td>13079.082121</td>\n",
       "      <td>-91</td>\n",
       "      <td>4.523524</td>\n",
       "      <td>18.497861</td>\n",
       "      <td>1.495295</td>\n",
       "      <td>-6.050470</td>\n",
       "      <td>...</td>\n",
       "      <td>1.494201</td>\n",
       "      <td>75789</td>\n",
       "      <td>0.818478</td>\n",
       "      <td>0.499970</td>\n",
       "      <td>5</td>\n",
       "      <td>2022</td>\n",
       "      <td>19</td>\n",
       "      <td>False</td>\n",
       "      <td>9</td>\n",
       "      <td>0</td>\n",
       "    </tr>\n",
       "    <tr>\n",
       "      <th>3</th>\n",
       "      <td>23085</td>\n",
       "      <td>2</td>\n",
       "      <td>15289447</td>\n",
       "      <td>601</td>\n",
       "      <td>13079.082121</td>\n",
       "      <td>-91</td>\n",
       "      <td>4.523524</td>\n",
       "      <td>18.497861</td>\n",
       "      <td>1.495295</td>\n",
       "      <td>-6.050470</td>\n",
       "      <td>...</td>\n",
       "      <td>1.494201</td>\n",
       "      <td>75789</td>\n",
       "      <td>0.818478</td>\n",
       "      <td>0.499970</td>\n",
       "      <td>5</td>\n",
       "      <td>2022</td>\n",
       "      <td>19</td>\n",
       "      <td>False</td>\n",
       "      <td>9</td>\n",
       "      <td>0</td>\n",
       "    </tr>\n",
       "    <tr>\n",
       "      <th>4</th>\n",
       "      <td>140075</td>\n",
       "      <td>1</td>\n",
       "      <td>41857229</td>\n",
       "      <td>590</td>\n",
       "      <td>35056.305695</td>\n",
       "      <td>-80</td>\n",
       "      <td>4.520101</td>\n",
       "      <td>29.511725</td>\n",
       "      <td>1.446399</td>\n",
       "      <td>0.010888</td>\n",
       "      <td>...</td>\n",
       "      <td>1.494201</td>\n",
       "      <td>75789</td>\n",
       "      <td>0.818478</td>\n",
       "      <td>0.499970</td>\n",
       "      <td>2</td>\n",
       "      <td>2024</td>\n",
       "      <td>6</td>\n",
       "      <td>False</td>\n",
       "      <td>7</td>\n",
       "      <td>1</td>\n",
       "    </tr>\n",
       "  </tbody>\n",
       "</table>\n",
       "<p>5 rows × 37 columns</p>\n",
       "</div>"
      ],
      "text/plain": [
       "   ORDERAMOUNT  ORDERCOUNT  CC_CUSTOMER_LIFETIME_VALUE  CC_ORDER_FREQUENCY  \\\n",
       "0      1410000           1                  1140591720                 582   \n",
       "1        37255           1                    14395460                 568   \n",
       "2        23085           2                    15289447                 601   \n",
       "3        23085           2                    15289447                 601   \n",
       "4       140075           1                    41857229                 590   \n",
       "\n",
       "   CC_AVERAGE_ORDER_VALUE  CC_RECENCY  CC_AVG_ORDER_PROCESSING_TIME  \\\n",
       "0           946549.145228         -91                     15.033195   \n",
       "1            12672.059859         -71                      4.529049   \n",
       "2            13079.082121         -91                      4.523524   \n",
       "3            13079.082121         -91                      4.523524   \n",
       "4            35056.305695         -80                      4.520101   \n",
       "\n",
       "   CC_AVG_INVOICE_PROCESSING_TIME  CC_AVG_DELIVERY_DELAY  \\\n",
       "0                       36.940249               3.034025   \n",
       "1                       17.872359               1.490317   \n",
       "2                       18.497861               1.495295   \n",
       "3                       18.497861               1.495295   \n",
       "4                       29.511725               1.446399   \n",
       "\n",
       "   CC_AVG_PAYMENT_DELAY  ...  SP_AVG_DELIVERY_DELAY  SP_TOTAL_ORDERS  \\\n",
       "0             12.499585  ...               3.018392            32025   \n",
       "1             -6.616197  ...               1.494201            75789   \n",
       "2             -6.050470  ...               1.494201            75789   \n",
       "3             -6.050470  ...               1.494201            75789   \n",
       "4              0.010888  ...               1.494201            75789   \n",
       "\n",
       "   SP_ORDER_CONSISTENCY  SP_DELIVERY_CONSISTENCY  MONTH  YEAR  WEEK  WEEKEND  \\\n",
       "0              1.718133                 1.415584      8  2022    32    False   \n",
       "1              0.818478                 0.499970      8  2022    33    False   \n",
       "2              0.818478                 0.499970      5  2022    19    False   \n",
       "3              0.818478                 0.499970      5  2022    19    False   \n",
       "4              0.818478                 0.499970      2  2024     6    False   \n",
       "\n",
       "   DAY_OF_THE_MONTH  PAYMENT_DELAY_FLAG  \n",
       "0                10                   1  \n",
       "1                15                   0  \n",
       "2                 9                   0  \n",
       "3                 9                   0  \n",
       "4                 7                   1  \n",
       "\n",
       "[5 rows x 37 columns]"
      ]
     },
     "execution_count": 174,
     "metadata": {},
     "output_type": "execute_result"
    }
   ],
   "source": [
    "df_payments.head()"
   ]
  },
  {
   "cell_type": "code",
   "execution_count": 175,
   "id": "367e9c84-ed59-4e1c-b796-e6c1ea2aad15",
   "metadata": {},
   "outputs": [
    {
     "data": {
      "text/plain": [
       "(170445, 37)"
      ]
     },
     "execution_count": 175,
     "metadata": {},
     "output_type": "execute_result"
    }
   ],
   "source": [
    "df_payments.shape"
   ]
  },
  {
   "cell_type": "code",
   "execution_count": 176,
   "id": "4af02e1e-310f-4a87-8fbc-bae81eb54fcf",
   "metadata": {},
   "outputs": [],
   "source": [
    "df_payments = df_payments.drop_duplicates()"
   ]
  },
  {
   "cell_type": "code",
   "execution_count": 177,
   "id": "effb5c0f-0daf-4b1e-8a4b-8cdd3566624f",
   "metadata": {},
   "outputs": [
    {
     "data": {
      "text/plain": [
       "(84999, 37)"
      ]
     },
     "execution_count": 177,
     "metadata": {},
     "output_type": "execute_result"
    }
   ],
   "source": [
    "df_payments.shape"
   ]
  },
  {
   "cell_type": "code",
   "execution_count": 178,
   "id": "40ccef89-0ac9-4beb-91bd-cdf99178f09e",
   "metadata": {},
   "outputs": [
    {
     "data": {
      "text/plain": [
       "PAYMENT_DELAY_FLAG\n",
       "0    45954\n",
       "1    39045\n",
       "Name: count, dtype: int64"
      ]
     },
     "execution_count": 178,
     "metadata": {},
     "output_type": "execute_result"
    }
   ],
   "source": [
    "df_payments['PAYMENT_DELAY_FLAG'].value_counts()"
   ]
  },
  {
   "cell_type": "code",
   "execution_count": 179,
   "id": "796b9b84-9562-42b6-9e92-816de22f5e70",
   "metadata": {},
   "outputs": [],
   "source": [
    "# Separate features and target variable\n",
    "X = df_payments.drop(columns=['PAYMENT_DELAY_FLAG'])\n",
    "y = df_payments['PAYMENT_DELAY_FLAG']"
   ]
  },
  {
   "cell_type": "code",
   "execution_count": 180,
   "id": "29ab0660-f762-4d3f-a1e2-ee96984ef02c",
   "metadata": {},
   "outputs": [
    {
     "data": {
      "text/plain": [
       "(84999, 36)"
      ]
     },
     "execution_count": 180,
     "metadata": {},
     "output_type": "execute_result"
    }
   ],
   "source": [
    "X.shape"
   ]
  },
  {
   "cell_type": "markdown",
   "id": "e0777805-91af-42db-afd4-f0feb325c31f",
   "metadata": {},
   "source": [
    "# Standard Scaling of Input"
   ]
  },
  {
   "cell_type": "code",
   "execution_count": 181,
   "id": "e809c2bf-7ead-4f53-97fe-e9a0718ee5dc",
   "metadata": {},
   "outputs": [],
   "source": [
    "from sklearn.preprocessing import StandardScaler\n",
    "\n",
    "# Standardize the predictor variables\n",
    "scaler = StandardScaler()\n",
    "\n",
    "X_scaled = scaler.fit_transform(X)\n",
    "\n",
    "df_scaled = pd.DataFrame(X_scaled, columns=X.columns)"
   ]
  },
  {
   "cell_type": "code",
   "execution_count": 182,
   "id": "655fa414-8a9c-479b-9c9a-7a27286173e8",
   "metadata": {},
   "outputs": [
    {
     "data": {
      "text/plain": [
       "(84999, 36)"
      ]
     },
     "execution_count": 182,
     "metadata": {},
     "output_type": "execute_result"
    }
   ],
   "source": [
    "df_scaled.shape"
   ]
  },
  {
   "cell_type": "code",
   "execution_count": 183,
   "id": "5ff1dff1-1b45-47c8-b452-6ed20762e7aa",
   "metadata": {},
   "outputs": [],
   "source": [
    "df_scaled['PAYMENT_DELAY_FLAG'] = y.values"
   ]
  },
  {
   "cell_type": "code",
   "execution_count": 184,
   "id": "28976a31-f441-401f-a802-c881f4ffa88e",
   "metadata": {},
   "outputs": [
    {
     "data": {
      "text/plain": [
       "PAYMENT_DELAY_FLAG\n",
       "0    45954\n",
       "1    39045\n",
       "Name: count, dtype: int64"
      ]
     },
     "execution_count": 184,
     "metadata": {},
     "output_type": "execute_result"
    }
   ],
   "source": [
    "df_scaled['PAYMENT_DELAY_FLAG'].value_counts()"
   ]
  },
  {
   "cell_type": "markdown",
   "id": "ad414830-13c6-413b-bd28-889a7aac3c47",
   "metadata": {},
   "source": [
    "# Model Training for Payment Delay Prediction"
   ]
  },
  {
   "cell_type": "code",
   "execution_count": 192,
   "id": "e6d85d5b-0741-45bd-b01d-79e7a6a0fdd7",
   "metadata": {},
   "outputs": [],
   "source": [
    "# Separate features and target variable\n",
    "X = df_scaled.drop(columns=['PAYMENT_DELAY_FLAG'])\n",
    "y = df_scaled['PAYMENT_DELAY_FLAG']"
   ]
  },
  {
   "cell_type": "code",
   "execution_count": 193,
   "id": "690b5a06-4f6b-4a57-9a66-3758fe728eb6",
   "metadata": {},
   "outputs": [],
   "source": [
    "# Split the data into training and testing sets\n",
    "X_train, X_test, y_train, y_test = train_test_split(X, y, test_size=0.25, random_state=42)"
   ]
  },
  {
   "cell_type": "markdown",
   "id": "78ea6513-94a1-48fc-9dca-adc40cdc98d1",
   "metadata": {},
   "source": [
    "# Decision Tree Classifier"
   ]
  },
  {
   "cell_type": "code",
   "execution_count": 194,
   "id": "34072aa7-ed82-4a4b-a985-3667fa6de8bf",
   "metadata": {},
   "outputs": [
    {
     "data": {
      "text/html": [
       "<style>#sk-container-id-5 {color: black;}#sk-container-id-5 pre{padding: 0;}#sk-container-id-5 div.sk-toggleable {background-color: white;}#sk-container-id-5 label.sk-toggleable__label {cursor: pointer;display: block;width: 100%;margin-bottom: 0;padding: 0.3em;box-sizing: border-box;text-align: center;}#sk-container-id-5 label.sk-toggleable__label-arrow:before {content: \"▸\";float: left;margin-right: 0.25em;color: #696969;}#sk-container-id-5 label.sk-toggleable__label-arrow:hover:before {color: black;}#sk-container-id-5 div.sk-estimator:hover label.sk-toggleable__label-arrow:before {color: black;}#sk-container-id-5 div.sk-toggleable__content {max-height: 0;max-width: 0;overflow: hidden;text-align: left;background-color: #f0f8ff;}#sk-container-id-5 div.sk-toggleable__content pre {margin: 0.2em;color: black;border-radius: 0.25em;background-color: #f0f8ff;}#sk-container-id-5 input.sk-toggleable__control:checked~div.sk-toggleable__content {max-height: 200px;max-width: 100%;overflow: auto;}#sk-container-id-5 input.sk-toggleable__control:checked~label.sk-toggleable__label-arrow:before {content: \"▾\";}#sk-container-id-5 div.sk-estimator input.sk-toggleable__control:checked~label.sk-toggleable__label {background-color: #d4ebff;}#sk-container-id-5 div.sk-label input.sk-toggleable__control:checked~label.sk-toggleable__label {background-color: #d4ebff;}#sk-container-id-5 input.sk-hidden--visually {border: 0;clip: rect(1px 1px 1px 1px);clip: rect(1px, 1px, 1px, 1px);height: 1px;margin: -1px;overflow: hidden;padding: 0;position: absolute;width: 1px;}#sk-container-id-5 div.sk-estimator {font-family: monospace;background-color: #f0f8ff;border: 1px dotted black;border-radius: 0.25em;box-sizing: border-box;margin-bottom: 0.5em;}#sk-container-id-5 div.sk-estimator:hover {background-color: #d4ebff;}#sk-container-id-5 div.sk-parallel-item::after {content: \"\";width: 100%;border-bottom: 1px solid gray;flex-grow: 1;}#sk-container-id-5 div.sk-label:hover label.sk-toggleable__label {background-color: #d4ebff;}#sk-container-id-5 div.sk-serial::before {content: \"\";position: absolute;border-left: 1px solid gray;box-sizing: border-box;top: 0;bottom: 0;left: 50%;z-index: 0;}#sk-container-id-5 div.sk-serial {display: flex;flex-direction: column;align-items: center;background-color: white;padding-right: 0.2em;padding-left: 0.2em;position: relative;}#sk-container-id-5 div.sk-item {position: relative;z-index: 1;}#sk-container-id-5 div.sk-parallel {display: flex;align-items: stretch;justify-content: center;background-color: white;position: relative;}#sk-container-id-5 div.sk-item::before, #sk-container-id-5 div.sk-parallel-item::before {content: \"\";position: absolute;border-left: 1px solid gray;box-sizing: border-box;top: 0;bottom: 0;left: 50%;z-index: -1;}#sk-container-id-5 div.sk-parallel-item {display: flex;flex-direction: column;z-index: 1;position: relative;background-color: white;}#sk-container-id-5 div.sk-parallel-item:first-child::after {align-self: flex-end;width: 50%;}#sk-container-id-5 div.sk-parallel-item:last-child::after {align-self: flex-start;width: 50%;}#sk-container-id-5 div.sk-parallel-item:only-child::after {width: 0;}#sk-container-id-5 div.sk-dashed-wrapped {border: 1px dashed gray;margin: 0 0.4em 0.5em 0.4em;box-sizing: border-box;padding-bottom: 0.4em;background-color: white;}#sk-container-id-5 div.sk-label label {font-family: monospace;font-weight: bold;display: inline-block;line-height: 1.2em;}#sk-container-id-5 div.sk-label-container {text-align: center;}#sk-container-id-5 div.sk-container {/* jupyter's `normalize.less` sets `[hidden] { display: none; }` but bootstrap.min.css set `[hidden] { display: none !important; }` so we also need the `!important` here to be able to override the default hidden behavior on the sphinx rendered scikit-learn.org. See: https://github.com/scikit-learn/scikit-learn/issues/21755 */display: inline-block !important;position: relative;}#sk-container-id-5 div.sk-text-repr-fallback {display: none;}</style><div id=\"sk-container-id-5\" class=\"sk-top-container\"><div class=\"sk-text-repr-fallback\"><pre>DecisionTreeClassifier()</pre><b>In a Jupyter environment, please rerun this cell to show the HTML representation or trust the notebook. <br />On GitHub, the HTML representation is unable to render, please try loading this page with nbviewer.org.</b></div><div class=\"sk-container\" hidden><div class=\"sk-item\"><div class=\"sk-estimator sk-toggleable\"><input class=\"sk-toggleable__control sk-hidden--visually\" id=\"sk-estimator-id-5\" type=\"checkbox\" checked><label for=\"sk-estimator-id-5\" class=\"sk-toggleable__label sk-toggleable__label-arrow\">DecisionTreeClassifier</label><div class=\"sk-toggleable__content\"><pre>DecisionTreeClassifier()</pre></div></div></div></div></div>"
      ],
      "text/plain": [
       "DecisionTreeClassifier()"
      ]
     },
     "execution_count": 194,
     "metadata": {},
     "output_type": "execute_result"
    }
   ],
   "source": [
    "#from sklearn.tree import DecisionTreeClassifier\n",
    "dtc = DecisionTreeClassifier()\n",
    "dtc.fit(X_train, y_train)"
   ]
  },
  {
   "cell_type": "code",
   "execution_count": 195,
   "id": "919e40ad-1a67-47c8-a66a-530162b6e4f2",
   "metadata": {},
   "outputs": [],
   "source": [
    "y_pred = dtc.predict(X_test)"
   ]
  },
  {
   "cell_type": "code",
   "execution_count": 196,
   "id": "39e4c0a6-cc17-4cb2-a8d5-1b1bb70bc915",
   "metadata": {},
   "outputs": [
    {
     "name": "stdout",
     "output_type": "stream",
     "text": [
      "Training accuracy of Decision Tree is : 1.0\n",
      "Test accuracy of Decision Tree is : 0.9679529411764706\n",
      "[[11102   379]\n",
      " [  302  9467]]\n",
      "              precision    recall  f1-score   support\n",
      "\n",
      "           0       0.97      0.97      0.97     11481\n",
      "           1       0.96      0.97      0.97      9769\n",
      "\n",
      "    accuracy                           0.97     21250\n",
      "   macro avg       0.97      0.97      0.97     21250\n",
      "weighted avg       0.97      0.97      0.97     21250\n",
      "\n"
     ]
    }
   ],
   "source": [
    "dtc_train_acc = accuracy_score(y_train, dtc.predict(X_train))\n",
    "dtc_test_acc = accuracy_score(y_test, y_pred)\n",
    "\n",
    "print(f\"Training accuracy of Decision Tree is : {dtc_train_acc}\")\n",
    "print(f\"Test accuracy of Decision Tree is : {dtc_test_acc}\")\n",
    "\n",
    "print(confusion_matrix(y_test, y_pred))\n",
    "print(classification_report(y_test, y_pred))"
   ]
  },
  {
   "cell_type": "markdown",
   "id": "74c0d5b1-8981-4864-8109-4be3bca859e2",
   "metadata": {},
   "source": [
    "# Random Forest Classifier"
   ]
  },
  {
   "cell_type": "code",
   "execution_count": 197,
   "id": "7b0de76b-2966-456e-ad74-63bdbb943e2e",
   "metadata": {},
   "outputs": [
    {
     "data": {
      "text/html": [
       "<style>#sk-container-id-6 {color: black;}#sk-container-id-6 pre{padding: 0;}#sk-container-id-6 div.sk-toggleable {background-color: white;}#sk-container-id-6 label.sk-toggleable__label {cursor: pointer;display: block;width: 100%;margin-bottom: 0;padding: 0.3em;box-sizing: border-box;text-align: center;}#sk-container-id-6 label.sk-toggleable__label-arrow:before {content: \"▸\";float: left;margin-right: 0.25em;color: #696969;}#sk-container-id-6 label.sk-toggleable__label-arrow:hover:before {color: black;}#sk-container-id-6 div.sk-estimator:hover label.sk-toggleable__label-arrow:before {color: black;}#sk-container-id-6 div.sk-toggleable__content {max-height: 0;max-width: 0;overflow: hidden;text-align: left;background-color: #f0f8ff;}#sk-container-id-6 div.sk-toggleable__content pre {margin: 0.2em;color: black;border-radius: 0.25em;background-color: #f0f8ff;}#sk-container-id-6 input.sk-toggleable__control:checked~div.sk-toggleable__content {max-height: 200px;max-width: 100%;overflow: auto;}#sk-container-id-6 input.sk-toggleable__control:checked~label.sk-toggleable__label-arrow:before {content: \"▾\";}#sk-container-id-6 div.sk-estimator input.sk-toggleable__control:checked~label.sk-toggleable__label {background-color: #d4ebff;}#sk-container-id-6 div.sk-label input.sk-toggleable__control:checked~label.sk-toggleable__label {background-color: #d4ebff;}#sk-container-id-6 input.sk-hidden--visually {border: 0;clip: rect(1px 1px 1px 1px);clip: rect(1px, 1px, 1px, 1px);height: 1px;margin: -1px;overflow: hidden;padding: 0;position: absolute;width: 1px;}#sk-container-id-6 div.sk-estimator {font-family: monospace;background-color: #f0f8ff;border: 1px dotted black;border-radius: 0.25em;box-sizing: border-box;margin-bottom: 0.5em;}#sk-container-id-6 div.sk-estimator:hover {background-color: #d4ebff;}#sk-container-id-6 div.sk-parallel-item::after {content: \"\";width: 100%;border-bottom: 1px solid gray;flex-grow: 1;}#sk-container-id-6 div.sk-label:hover label.sk-toggleable__label {background-color: #d4ebff;}#sk-container-id-6 div.sk-serial::before {content: \"\";position: absolute;border-left: 1px solid gray;box-sizing: border-box;top: 0;bottom: 0;left: 50%;z-index: 0;}#sk-container-id-6 div.sk-serial {display: flex;flex-direction: column;align-items: center;background-color: white;padding-right: 0.2em;padding-left: 0.2em;position: relative;}#sk-container-id-6 div.sk-item {position: relative;z-index: 1;}#sk-container-id-6 div.sk-parallel {display: flex;align-items: stretch;justify-content: center;background-color: white;position: relative;}#sk-container-id-6 div.sk-item::before, #sk-container-id-6 div.sk-parallel-item::before {content: \"\";position: absolute;border-left: 1px solid gray;box-sizing: border-box;top: 0;bottom: 0;left: 50%;z-index: -1;}#sk-container-id-6 div.sk-parallel-item {display: flex;flex-direction: column;z-index: 1;position: relative;background-color: white;}#sk-container-id-6 div.sk-parallel-item:first-child::after {align-self: flex-end;width: 50%;}#sk-container-id-6 div.sk-parallel-item:last-child::after {align-self: flex-start;width: 50%;}#sk-container-id-6 div.sk-parallel-item:only-child::after {width: 0;}#sk-container-id-6 div.sk-dashed-wrapped {border: 1px dashed gray;margin: 0 0.4em 0.5em 0.4em;box-sizing: border-box;padding-bottom: 0.4em;background-color: white;}#sk-container-id-6 div.sk-label label {font-family: monospace;font-weight: bold;display: inline-block;line-height: 1.2em;}#sk-container-id-6 div.sk-label-container {text-align: center;}#sk-container-id-6 div.sk-container {/* jupyter's `normalize.less` sets `[hidden] { display: none; }` but bootstrap.min.css set `[hidden] { display: none !important; }` so we also need the `!important` here to be able to override the default hidden behavior on the sphinx rendered scikit-learn.org. See: https://github.com/scikit-learn/scikit-learn/issues/21755 */display: inline-block !important;position: relative;}#sk-container-id-6 div.sk-text-repr-fallback {display: none;}</style><div id=\"sk-container-id-6\" class=\"sk-top-container\"><div class=\"sk-text-repr-fallback\"><pre>RandomForestClassifier()</pre><b>In a Jupyter environment, please rerun this cell to show the HTML representation or trust the notebook. <br />On GitHub, the HTML representation is unable to render, please try loading this page with nbviewer.org.</b></div><div class=\"sk-container\" hidden><div class=\"sk-item\"><div class=\"sk-estimator sk-toggleable\"><input class=\"sk-toggleable__control sk-hidden--visually\" id=\"sk-estimator-id-6\" type=\"checkbox\" checked><label for=\"sk-estimator-id-6\" class=\"sk-toggleable__label sk-toggleable__label-arrow\">RandomForestClassifier</label><div class=\"sk-toggleable__content\"><pre>RandomForestClassifier()</pre></div></div></div></div></div>"
      ],
      "text/plain": [
       "RandomForestClassifier()"
      ]
     },
     "execution_count": 197,
     "metadata": {},
     "output_type": "execute_result"
    }
   ],
   "source": [
    "#from sklearn.tree import DecisionTreeClassifier\n",
    "rfc = RandomForestClassifier()\n",
    "rfc.fit(X_train, y_train)"
   ]
  },
  {
   "cell_type": "code",
   "execution_count": 198,
   "id": "ce64e235-a5bf-4d97-a936-21175e1d3288",
   "metadata": {},
   "outputs": [],
   "source": [
    "y_pred = rfc.predict(X_test)"
   ]
  },
  {
   "cell_type": "code",
   "execution_count": 199,
   "id": "e6cb0314-43f5-4522-b22b-4ffd7be952ff",
   "metadata": {},
   "outputs": [
    {
     "name": "stdout",
     "output_type": "stream",
     "text": [
      "Training accuracy of RandomForest is : 0.9999686269588542\n",
      "Test accuracy of RandomForest is : 0.9833411764705883\n",
      "[[11443    38]\n",
      " [  316  9453]]\n",
      "              precision    recall  f1-score   support\n",
      "\n",
      "           0       0.97      1.00      0.98     11481\n",
      "           1       1.00      0.97      0.98      9769\n",
      "\n",
      "    accuracy                           0.98     21250\n",
      "   macro avg       0.98      0.98      0.98     21250\n",
      "weighted avg       0.98      0.98      0.98     21250\n",
      "\n"
     ]
    }
   ],
   "source": [
    "rfc_train_acc = accuracy_score(y_train, rfc.predict(X_train))\n",
    "rfc_test_acc = accuracy_score(y_test, y_pred)\n",
    "\n",
    "print(f\"Training accuracy of RandomForest is : {rfc_train_acc}\")\n",
    "print(f\"Test accuracy of RandomForest is : {rfc_test_acc}\")\n",
    "\n",
    "print(confusion_matrix(y_test, y_pred))\n",
    "print(classification_report(y_test, y_pred))"
   ]
  },
  {
   "cell_type": "code",
   "execution_count": 200,
   "id": "54eb9167-881b-4677-884c-fb23a5284785",
   "metadata": {},
   "outputs": [],
   "source": [
    "from fosforml import register_model"
   ]
  },
  {
   "cell_type": "code",
   "execution_count": 201,
   "id": "0a0ad52e-1ad7-4827-bc66-c59e69b684d7",
   "metadata": {},
   "outputs": [
    {
     "data": {
      "text/plain": [
       "(pandas.core.frame.DataFrame,\n",
       " pandas.core.frame.DataFrame,\n",
       " pandas.core.series.Series,\n",
       " pandas.core.series.Series,\n",
       " numpy.ndarray)"
      ]
     },
     "execution_count": 201,
     "metadata": {},
     "output_type": "execute_result"
    }
   ],
   "source": [
    "type(X_train), type(X_test),type(y_train),type(y_test), type(y_pred)"
   ]
  },
  {
   "cell_type": "code",
   "execution_count": 202,
   "id": "274383aa-f604-4907-bcb5-06041e2f3a7b",
   "metadata": {},
   "outputs": [],
   "source": [
    "y_train_df = pd.DataFrame(y_train)\n",
    "y_test_df = pd.DataFrame(y_test)"
   ]
  },
  {
   "cell_type": "code",
   "execution_count": 203,
   "id": "44ffdf19-90b3-446e-9944-471f99871adb",
   "metadata": {},
   "outputs": [],
   "source": [
    "y_pred_df = pd.DataFrame(y_pred, columns=['PREDICTED_PAYMENT_DELAY'])"
   ]
  },
  {
   "cell_type": "code",
   "execution_count": 204,
   "id": "443d4baa-dbc5-4632-88d6-6d04d7d28552",
   "metadata": {
    "scrolled": true
   },
   "outputs": [
    {
     "data": {
      "text/plain": [
       "(pandas.core.frame.DataFrame,\n",
       " pandas.core.frame.DataFrame,\n",
       " pandas.core.frame.DataFrame,\n",
       " pandas.core.frame.DataFrame,\n",
       " pandas.core.frame.DataFrame)"
      ]
     },
     "execution_count": 204,
     "metadata": {},
     "output_type": "execute_result"
    }
   ],
   "source": [
    "type(X_train), type(X_test),type(y_train_df),type(y_test_df), type(y_pred_df)"
   ]
  },
  {
   "cell_type": "markdown",
   "id": "2e74851f-500d-49a1-b190-572cff7323e6",
   "metadata": {},
   "source": [
    "# Model Registration"
   ]
  },
  {
   "cell_type": "code",
   "execution_count": null,
   "id": "d97b8213-dd6a-4c8a-bdf5-861e79704461",
   "metadata": {},
   "outputs": [],
   "source": [
    "## registering the model in Fosfor Insight Designer.\n",
    "register_model(\n",
    "    model_obj=rfc, \n",
    "    session=my_session,\n",
    "    x_train=X_train,\n",
    "    y_train=y_train_df,\n",
    "    x_test=X_test,\n",
    "    y_test=y_test_df,\n",
    "    y_pred=y_pred_df,\n",
    "    source=\"Notebook\",\n",
    "    dataset_name=\"ORDER_TO_CASH_ENRICHED\",\n",
    "    dataset_source=\"Snowflake\",\n",
    "    #dataset_source=\"InMemory\",\n",
    "    name=\"RandomForest_Payment_Delay_Classifier\",\n",
    "    description=\"RandomForest model trained via Notebook to identify delay order payment\",\n",
    "    flavour=\"sklearn\",\n",
    "    model_type=\"classification\",\n",
    "    conda_dependencies=[\"scikit-learn==1.3.2\"]\n",
    ")"
   ]
  },
  {
   "cell_type": "code",
   "execution_count": null,
   "id": "8dfdc32f-621e-4038-9e82-1232586df96e",
   "metadata": {},
   "outputs": [],
   "source": []
  },
  {
   "cell_type": "code",
   "execution_count": null,
   "id": "0c30391b-cfa6-4d22-8f5c-393af75ce262",
   "metadata": {},
   "outputs": [],
   "source": []
  },
  {
   "cell_type": "code",
   "execution_count": null,
   "id": "bfb576bd-a178-4c36-ba21-c272dc160c2f",
   "metadata": {},
   "outputs": [],
   "source": []
  },
  {
   "cell_type": "code",
   "execution_count": null,
   "id": "21520e51-ec06-480a-9b30-ab1fbbe4d5a3",
   "metadata": {},
   "outputs": [],
   "source": []
  }
 ],
 "metadata": {
  "kernelspec": {
   "display_name": "Python 3 (ipykernel)",
   "language": "python",
   "name": "python3"
  },
  "language_info": {
   "codemirror_mode": {
    "name": "ipython",
    "version": 3
   },
   "file_extension": ".py",
   "mimetype": "text/x-python",
   "name": "python",
   "nbconvert_exporter": "python",
   "pygments_lexer": "ipython3",
   "version": "3.9.19"
  }
 },
 "nbformat": 4,
 "nbformat_minor": 5
}
