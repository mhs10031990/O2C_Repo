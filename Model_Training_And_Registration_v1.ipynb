{
 "cells": [
  {
   "cell_type": "markdown",
   "id": "0bcad55b-31a7-4ec6-99d1-5c1adce88d6e",
   "metadata": {},
   "source": [
    "# Use O2C_Template Customized Notebook Template"
   ]
  },
  {
   "cell_type": "code",
   "execution_count": 63,
   "id": "4545a18a-ac99-4a61-87eb-685a9fc1d216",
   "metadata": {},
   "outputs": [],
   "source": [
    "import pandas as pd\n",
    "import numpy as np\n",
    "\n",
    "from sklearn.model_selection import train_test_split, cross_val_score\n",
    "from sklearn.pipeline import Pipeline\n",
    "from sklearn.preprocessing import StandardScaler,MinMaxScaler\n",
    "from sklearn.svm import SVC\n",
    "from sklearn.neighbors import KNeighborsClassifier\n",
    "from sklearn.tree import DecisionTreeClassifier\n",
    "from sklearn.model_selection import GridSearchCV\n",
    "from sklearn.ensemble import RandomForestClassifier\n",
    "from sklearn.ensemble import AdaBoostClassifier\n",
    "from sklearn.ensemble import GradientBoostingClassifier\n",
    "from sklearn.ensemble import ExtraTreesClassifier\n",
    "from sklearn.ensemble import VotingClassifier\n",
    "from sklearn.metrics import classification_report, f1_score, r2_score, roc_auc_score, confusion_matrix, accuracy_score"
   ]
  },
  {
   "cell_type": "code",
   "execution_count": 64,
   "id": "fe2d2323-ae3c-4027-b777-5c40e16db890",
   "metadata": {},
   "outputs": [],
   "source": [
    "from fosforml.model_manager.snowflakesession import get_session\n",
    "my_session = get_session()"
   ]
  },
  {
   "cell_type": "code",
   "execution_count": 65,
   "id": "b5958b79-ef81-46ec-8591-926b906584dd",
   "metadata": {},
   "outputs": [],
   "source": [
    "table_name = 'ORDER_TO_CASH_ENRICHED'\n",
    "\n",
    "sf_df = my_session.sql(\"select * from {}\".format(table_name))\n",
    "df = sf_df.to_pandas()"
   ]
  },
  {
   "cell_type": "code",
   "execution_count": 66,
   "id": "1b452a02-6961-49fb-b2cd-ad499a0d21d2",
   "metadata": {},
   "outputs": [],
   "source": [
    "df_train = df[df['INVOICESTATUS'].isin(['LATE_PAYMENT','ONTIME_PAYMENT'])]\n",
    "df_test = df[~df['INVOICESTATUS'].isin(['LATE_PAYMENT','ONTIME_PAYMENT'])]"
   ]
  },
  {
   "cell_type": "code",
   "execution_count": 67,
   "id": "48250bbd-0aab-4c5b-9f78-2bb14e4cee79",
   "metadata": {},
   "outputs": [
    {
     "data": {
      "text/plain": [
       "((170445, 79), (2992, 79))"
      ]
     },
     "execution_count": 67,
     "metadata": {},
     "output_type": "execute_result"
    }
   ],
   "source": [
    "df_train.shape, df_test.shape"
   ]
  },
  {
   "cell_type": "code",
   "execution_count": 68,
   "id": "3045e22d-d3aa-4c69-9ab6-01451a4d4e98",
   "metadata": {},
   "outputs": [],
   "source": [
    "df_final = df.copy()\n",
    "df = df_train.copy()"
   ]
  },
  {
   "cell_type": "code",
   "execution_count": 69,
   "id": "8d791806-6230-4d4b-a679-eb62b6954951",
   "metadata": {},
   "outputs": [
    {
     "data": {
      "text/plain": [
       "((173437, 79), (170445, 79))"
      ]
     },
     "execution_count": 69,
     "metadata": {},
     "output_type": "execute_result"
    }
   ],
   "source": [
    "df_final.shape, df.shape"
   ]
  },
  {
   "cell_type": "code",
   "execution_count": 70,
   "id": "cb32c411-0adf-4d39-9c8a-22613b925acc",
   "metadata": {},
   "outputs": [],
   "source": [
    "# Assuming df is your dataframe\n",
    "df['ORDERDATE'] = pd.to_datetime(df['ORDERDATE'], errors='coerce')\n",
    "df['DELIVERYDATE'] = pd.to_datetime(df['DELIVERYDATE'], errors='coerce')\n",
    "df['INVOICEDATE'] = pd.to_datetime(df['INVOICEDATE'], errors='coerce')\n",
    "df['PAYMENTDATE'] = pd.to_datetime(df['PAYMENTDATE'], errors='coerce')\n",
    "df['INVOICEDUEDATE'] = pd.to_datetime(df['INVOICEDUEDATE'], errors='coerce')\n",
    "df['DELIVEREDON'] = pd.to_datetime(df['DELIVEREDON'], errors='coerce')"
   ]
  },
  {
   "cell_type": "code",
   "execution_count": 71,
   "id": "f1346ae1-b074-4cec-a8da-40c036bef86b",
   "metadata": {},
   "outputs": [],
   "source": [
    "df['MONTH'] = pd.to_datetime(df['ORDERDATE']).dt.month\n",
    "df['YEAR'] = pd.to_datetime(df['ORDERDATE']).dt.year\n",
    "df['WEEK'] = pd.to_datetime(df['ORDERDATE']).dt.isocalendar().week\n",
    "df['WEEKEND'] = pd.to_datetime(df['ORDERDATE']).dt.weekday >= 5  # True if the day is Saturday or Sunday\n",
    "df['DAY_OF_THE_MONTH'] = pd.to_datetime(df['ORDERDATE']).dt.day"
   ]
  },
  {
   "cell_type": "code",
   "execution_count": 72,
   "id": "4549a1ae-6e05-4dfd-a071-c8f9d6eea89d",
   "metadata": {},
   "outputs": [],
   "source": [
    "# Delivery Delay\n",
    "df['DELIVERY_DELAY'] = (df['DELIVEREDON'] - df['DELIVERYDATE']).dt.days\n",
    "\n",
    "# Payment Delay\n",
    "df['PAYMENT_DELAY'] = (df['PAYMENTDATE'] - df['INVOICEDUEDATE']).dt.days"
   ]
  },
  {
   "cell_type": "code",
   "execution_count": 73,
   "id": "ae57ced7-0cca-4e4a-bf1c-43b72e60676f",
   "metadata": {},
   "outputs": [
    {
     "data": {
      "text/html": [
       "<div>\n",
       "<style scoped>\n",
       "    .dataframe tbody tr th:only-of-type {\n",
       "        vertical-align: middle;\n",
       "    }\n",
       "\n",
       "    .dataframe tbody tr th {\n",
       "        vertical-align: top;\n",
       "    }\n",
       "\n",
       "    .dataframe thead th {\n",
       "        text-align: right;\n",
       "    }\n",
       "</style>\n",
       "<table border=\"1\" class=\"dataframe\">\n",
       "  <thead>\n",
       "    <tr style=\"text-align: right;\">\n",
       "      <th></th>\n",
       "      <th>PAYMENTDATE</th>\n",
       "      <th>INVOICEDUEDATE</th>\n",
       "      <th>PAYMENT_DELAY</th>\n",
       "      <th>DELIVEREDON</th>\n",
       "      <th>DELIVERYDATE</th>\n",
       "      <th>DELIVERY_DELAY</th>\n",
       "    </tr>\n",
       "  </thead>\n",
       "  <tbody>\n",
       "    <tr>\n",
       "      <th>0</th>\n",
       "      <td>2022-10-11</td>\n",
       "      <td>2022-09-28</td>\n",
       "      <td>13</td>\n",
       "      <td>2022-09-02</td>\n",
       "      <td>2022-08-28</td>\n",
       "      <td>5</td>\n",
       "    </tr>\n",
       "    <tr>\n",
       "      <th>1</th>\n",
       "      <td>2022-09-07</td>\n",
       "      <td>2022-09-16</td>\n",
       "      <td>-9</td>\n",
       "      <td>2022-08-22</td>\n",
       "      <td>2022-08-20</td>\n",
       "      <td>2</td>\n",
       "    </tr>\n",
       "    <tr>\n",
       "      <th>2</th>\n",
       "      <td>2022-06-09</td>\n",
       "      <td>2022-06-09</td>\n",
       "      <td>0</td>\n",
       "      <td>2022-05-16</td>\n",
       "      <td>2022-05-14</td>\n",
       "      <td>2</td>\n",
       "    </tr>\n",
       "    <tr>\n",
       "      <th>3</th>\n",
       "      <td>2022-06-09</td>\n",
       "      <td>2022-06-09</td>\n",
       "      <td>0</td>\n",
       "      <td>2022-05-16</td>\n",
       "      <td>2022-05-14</td>\n",
       "      <td>2</td>\n",
       "    </tr>\n",
       "    <tr>\n",
       "      <th>4</th>\n",
       "      <td>2024-03-25</td>\n",
       "      <td>2024-03-13</td>\n",
       "      <td>12</td>\n",
       "      <td>2024-02-12</td>\n",
       "      <td>2024-02-10</td>\n",
       "      <td>2</td>\n",
       "    </tr>\n",
       "  </tbody>\n",
       "</table>\n",
       "</div>"
      ],
      "text/plain": [
       "  PAYMENTDATE INVOICEDUEDATE  PAYMENT_DELAY DELIVEREDON DELIVERYDATE  \\\n",
       "0  2022-10-11     2022-09-28             13  2022-09-02   2022-08-28   \n",
       "1  2022-09-07     2022-09-16             -9  2022-08-22   2022-08-20   \n",
       "2  2022-06-09     2022-06-09              0  2022-05-16   2022-05-14   \n",
       "3  2022-06-09     2022-06-09              0  2022-05-16   2022-05-14   \n",
       "4  2024-03-25     2024-03-13             12  2024-02-12   2024-02-10   \n",
       "\n",
       "   DELIVERY_DELAY  \n",
       "0               5  \n",
       "1               2  \n",
       "2               2  \n",
       "3               2  \n",
       "4               2  "
      ]
     },
     "execution_count": 73,
     "metadata": {},
     "output_type": "execute_result"
    }
   ],
   "source": [
    "df[['PAYMENTDATE','INVOICEDUEDATE','PAYMENT_DELAY','DELIVEREDON','DELIVERYDATE','DELIVERY_DELAY']].head()"
   ]
  },
  {
   "cell_type": "code",
   "execution_count": 74,
   "id": "d3552370-97c4-41f7-a058-3175af7a429f",
   "metadata": {},
   "outputs": [],
   "source": [
    "def set_flag(delay):\n",
    "    return 'Y' if delay >= 1 else 'N'"
   ]
  },
  {
   "cell_type": "code",
   "execution_count": 75,
   "id": "4274acc5-c5d6-4bcf-8df4-22f36c6308d2",
   "metadata": {},
   "outputs": [],
   "source": [
    "df['PAYMENT_DELAY_FLAG'] = df['PAYMENT_DELAY'].apply(set_flag)\n",
    "df['DELIVERY_DELAY_FLAG'] = df['DELIVERY_DELAY'].apply(set_flag)"
   ]
  },
  {
   "cell_type": "code",
   "execution_count": 76,
   "id": "9faa633f-c95f-4cf0-9918-9a2958906468",
   "metadata": {},
   "outputs": [
    {
     "data": {
      "text/plain": [
       "PAYMENT_DELAY_FLAG\n",
       "Y    89412\n",
       "N    81033\n",
       "Name: count, dtype: int64"
      ]
     },
     "execution_count": 76,
     "metadata": {},
     "output_type": "execute_result"
    }
   ],
   "source": [
    "df['PAYMENT_DELAY_FLAG'].value_counts()"
   ]
  },
  {
   "cell_type": "code",
   "execution_count": 77,
   "id": "9f997737-bfec-4f9a-bb69-9a83eff3b2ae",
   "metadata": {},
   "outputs": [
    {
     "data": {
      "text/plain": [
       "DELIVERY_DELAY_FLAG\n",
       "Y    170445\n",
       "Name: count, dtype: int64"
      ]
     },
     "execution_count": 77,
     "metadata": {},
     "output_type": "execute_result"
    }
   ],
   "source": [
    "df['DELIVERY_DELAY_FLAG'].value_counts()"
   ]
  },
  {
   "cell_type": "code",
   "execution_count": 78,
   "id": "a6841f58-06d6-4802-aac0-5e92ee4d3ca7",
   "metadata": {},
   "outputs": [
    {
     "name": "stdout",
     "output_type": "stream",
     "text": [
      "['ORDERID', 'ORDERITEMID', 'PRODUCTID', 'PRODUCTNAME', 'ORDERQUANTITY', 'UNITPRICE', 'ORDERVALUE', 'CUSTOMERID', 'CUSTOMERNAME', 'PRODUCTCATEGORY', 'ORDERDATE', 'ORDERSTATUS', 'ORDERAMOUNT', 'ORDERCOUNT', 'SHIPMENTID', 'SHIPMENTDATE', 'DELIVERYDATE', 'DELIVEREDON', 'CARRIER', 'SHIPMENTSTATUS', 'INVOICEID', 'INVOICEDATE', 'INVOICEDUEDATE', 'PAYMENTDATE', 'INVOICESTATUS', 'PAYMENTMETHOD', 'PRODUCTTYPE', 'QUANTITY', 'COMPANYTYPE', 'CONTACTDETAILS', 'EMAILDETAILS', 'ADDRESSDETAILS', 'ADMINDETAILS', 'CREDITLIMIT', 'CUSTOMERSINCE', 'PAYMENTTERMS', 'CREDITLIMITTYPE', 'CUSTOMERTYPE', 'SUPPLIERNAME', 'SUPPLIERID', 'CC_CUSTOMER_LIFETIME_VALUE', 'CC_ORDER_FREQUENCY', 'CC_AVERAGE_ORDER_VALUE', 'CC_RECENCY', 'CC_PREFERRED_PAYMENT_METHOD', 'CC_PREFERRED_PRODUCT_CATEGORY', 'CC_PREFERRED_PRODUCT_TYPE', 'CC_AVG_ORDER_PROCESSING_TIME', 'CC_AVG_INVOICE_PROCESSING_TIME', 'CC_AVG_DELIVERY_DELAY', 'CC_AVG_PAYMENT_DELAY', 'CC_TOTAL_ORDERS', 'CC_TOTAL_DELAYS', 'CC_ORDER_CONSISTENCY', 'CC_INVOICE_CONSISTENCY', 'CC_DELIVERY_CONSISTENCY', 'CC_PAYMENT_CONSISTENCY', 'PR_TOTAL_SALES_VOLUME', 'PR_TOTAL_SALES_VALUE', 'PR_AVG_ORDER_QUANTITY', 'PR_AVG_UNIT_PRICE', 'PR_NUMBER_OF_ORDERS', 'PR_AVG_DELIVERY_TIME', 'PR_AVG_INVOICE_TIME', 'CAT_TOTAL_SALES_VOLUME', 'CAT_TOTAL_SALES_VALUE', 'CAT_AVG_ORDER_QUANTITY', 'CAT_AVG_UNIT_PRICE', 'CAT_NUMBER_OF_ORDERS', 'CAT_AVG_DELIVERY_TIME', 'CAT_AVG_INVOICE_TIME', 'SP_CUSTOMER_LIFETIME_VALUE', 'SP_ORDER_FREQUENCY', 'SP_AVERAGE_ORDER_VALUE', 'SP_AVG_ORDER_PROCESSING_TIME', 'SP_AVG_DELIVERY_DELAY', 'SP_TOTAL_ORDERS', 'SP_ORDER_CONSISTENCY', 'SP_DELIVERY_CONSISTENCY', 'MONTH', 'YEAR', 'WEEK', 'WEEKEND', 'DAY_OF_THE_MONTH', 'DELIVERY_DELAY', 'PAYMENT_DELAY', 'PAYMENT_DELAY_FLAG', 'DELIVERY_DELAY_FLAG']\n"
     ]
    }
   ],
   "source": [
    "print(list(df.columns))"
   ]
  },
  {
   "cell_type": "code",
   "execution_count": 96,
   "id": "01deb023-3237-4ca7-9487-95f28b31994d",
   "metadata": {},
   "outputs": [],
   "source": [
    "cols = ['ORDERQUANTITY','ORDERAMOUNT','ORDERCOUNT',\n",
    "'CC_CUSTOMER_LIFETIME_VALUE', 'CC_ORDER_FREQUENCY', 'CC_AVERAGE_ORDER_VALUE', 'CC_RECENCY', 'CC_AVG_ORDER_PROCESSING_TIME', 'CC_AVG_INVOICE_PROCESSING_TIME', \n",
    "'CC_AVG_DELIVERY_DELAY', 'CC_AVG_PAYMENT_DELAY', 'CC_TOTAL_ORDERS', 'CC_TOTAL_DELAYS', 'CC_ORDER_CONSISTENCY', 'CC_INVOICE_CONSISTENCY', \n",
    "'CC_DELIVERY_CONSISTENCY', 'CC_PAYMENT_CONSISTENCY', 'CAT_TOTAL_SALES_VOLUME', 'CAT_TOTAL_SALES_VALUE', \n",
    "'CAT_AVG_ORDER_QUANTITY', 'CAT_AVG_UNIT_PRICE', 'CAT_NUMBER_OF_ORDERS', 'CAT_AVG_DELIVERY_TIME', 'CAT_AVG_INVOICE_TIME', \n",
    "'SP_CUSTOMER_LIFETIME_VALUE', 'SP_ORDER_FREQUENCY', 'SP_AVERAGE_ORDER_VALUE', 'SP_AVG_ORDER_PROCESSING_TIME', 'SP_AVG_DELIVERY_DELAY', \n",
    "'SP_TOTAL_ORDERS', 'SP_ORDER_CONSISTENCY', 'SP_DELIVERY_CONSISTENCY', 'MONTH', 'YEAR', 'WEEK', 'WEEKEND', 'DAY_OF_THE_MONTH', 'PAYMENT_DELAY_FLAG']"
   ]
  },
  {
   "cell_type": "code",
   "execution_count": 79,
   "id": "0a6184bc-3ac2-4a26-a5af-9e3f87b8c2fd",
   "metadata": {},
   "outputs": [],
   "source": [
    "cols = ['ORDERQUANTITY','ORDERAMOUNT','ORDERCOUNT',\n",
    "'CC_CUSTOMER_LIFETIME_VALUE', 'CC_ORDER_FREQUENCY', 'CC_AVERAGE_ORDER_VALUE', 'CC_RECENCY', 'CC_AVG_ORDER_PROCESSING_TIME', 'CC_AVG_INVOICE_PROCESSING_TIME', \n",
    "'CC_AVG_DELIVERY_DELAY', 'CC_AVG_PAYMENT_DELAY', 'CC_TOTAL_ORDERS', 'CC_TOTAL_DELAYS', 'CC_ORDER_CONSISTENCY', 'CC_INVOICE_CONSISTENCY', \n",
    "'CC_DELIVERY_CONSISTENCY', 'CC_PAYMENT_CONSISTENCY', 'PR_TOTAL_SALES_VOLUME', 'PR_TOTAL_SALES_VALUE', 'PR_AVG_ORDER_QUANTITY', \n",
    "'PR_AVG_UNIT_PRICE', 'PR_NUMBER_OF_ORDERS', 'PR_AVG_DELIVERY_TIME', 'PR_AVG_INVOICE_TIME', 'CAT_TOTAL_SALES_VOLUME', 'CAT_TOTAL_SALES_VALUE', \n",
    "'CAT_AVG_ORDER_QUANTITY', 'CAT_AVG_UNIT_PRICE', 'CAT_NUMBER_OF_ORDERS', 'CAT_AVG_DELIVERY_TIME', 'CAT_AVG_INVOICE_TIME', \n",
    "'SP_CUSTOMER_LIFETIME_VALUE', 'SP_ORDER_FREQUENCY', 'SP_AVERAGE_ORDER_VALUE', 'SP_AVG_ORDER_PROCESSING_TIME', 'SP_AVG_DELIVERY_DELAY', \n",
    "'SP_TOTAL_ORDERS', 'SP_ORDER_CONSISTENCY', 'SP_DELIVERY_CONSISTENCY', 'MONTH', 'YEAR', 'WEEK', 'WEEKEND', 'DAY_OF_THE_MONTH', 'PAYMENT_DELAY_FLAG']"
   ]
  },
  {
   "cell_type": "code",
   "execution_count": 95,
   "id": "30d0922c-033b-413c-bec3-3b07e9b0c455",
   "metadata": {},
   "outputs": [
    {
     "data": {
      "text/html": [
       "<div>\n",
       "<style scoped>\n",
       "    .dataframe tbody tr th:only-of-type {\n",
       "        vertical-align: middle;\n",
       "    }\n",
       "\n",
       "    .dataframe tbody tr th {\n",
       "        vertical-align: top;\n",
       "    }\n",
       "\n",
       "    .dataframe thead th {\n",
       "        text-align: right;\n",
       "    }\n",
       "</style>\n",
       "<table border=\"1\" class=\"dataframe\">\n",
       "  <thead>\n",
       "    <tr style=\"text-align: right;\">\n",
       "      <th></th>\n",
       "      <th>ORDERID</th>\n",
       "      <th>ORDERITEMID</th>\n",
       "      <th>PRODUCTID</th>\n",
       "      <th>PRODUCTNAME</th>\n",
       "      <th>ORDERQUANTITY</th>\n",
       "      <th>UNITPRICE</th>\n",
       "      <th>ORDERVALUE</th>\n",
       "      <th>CUSTOMERID</th>\n",
       "      <th>CUSTOMERNAME</th>\n",
       "      <th>PRODUCTCATEGORY</th>\n",
       "      <th>...</th>\n",
       "      <th>SP_DELIVERY_CONSISTENCY</th>\n",
       "      <th>MONTH</th>\n",
       "      <th>YEAR</th>\n",
       "      <th>WEEK</th>\n",
       "      <th>WEEKEND</th>\n",
       "      <th>DAY_OF_THE_MONTH</th>\n",
       "      <th>DELIVERY_DELAY</th>\n",
       "      <th>PAYMENT_DELAY</th>\n",
       "      <th>PAYMENT_DELAY_FLAG</th>\n",
       "      <th>DELIVERY_DELAY_FLAG</th>\n",
       "    </tr>\n",
       "  </thead>\n",
       "  <tbody>\n",
       "    <tr>\n",
       "      <th>0</th>\n",
       "      <td>OR-49f307a7-e4ba-4701-a46c-c0904a6b31a8</td>\n",
       "      <td>OI-fd3d2163-475a-4bb5-b1a1-f6125950a069</td>\n",
       "      <td>PID-46bc21c7-2e4a-49bb-b0ac-cd1d2e8c0cb8</td>\n",
       "      <td>Industrial Robot</td>\n",
       "      <td>47</td>\n",
       "      <td>30000</td>\n",
       "      <td>1410000</td>\n",
       "      <td>CID-5382e460-8bd9-428a-a1bf-e0f039c3612a</td>\n",
       "      <td>Taylor Ltd</td>\n",
       "      <td>Industrial Equipment</td>\n",
       "      <td>...</td>\n",
       "      <td>1.415584</td>\n",
       "      <td>8</td>\n",
       "      <td>2022</td>\n",
       "      <td>32</td>\n",
       "      <td>False</td>\n",
       "      <td>10</td>\n",
       "      <td>5</td>\n",
       "      <td>13</td>\n",
       "      <td>Y</td>\n",
       "      <td>Y</td>\n",
       "    </tr>\n",
       "    <tr>\n",
       "      <th>1</th>\n",
       "      <td>OR-a136395d-b459-4bb3-8a91-5a55d08bb0f7</td>\n",
       "      <td>OI-86200f6b-74b3-42bb-a140-1917c12fa781</td>\n",
       "      <td>PID-df71fb0e-604f-4ded-8a16-850f47932a2a</td>\n",
       "      <td>Bottled Water</td>\n",
       "      <td>7451</td>\n",
       "      <td>5</td>\n",
       "      <td>37255</td>\n",
       "      <td>CID-7247edbb-6148-4095-973c-5afb2409a37b</td>\n",
       "      <td>Sutura</td>\n",
       "      <td>Food Beverages</td>\n",
       "      <td>...</td>\n",
       "      <td>0.499970</td>\n",
       "      <td>8</td>\n",
       "      <td>2022</td>\n",
       "      <td>33</td>\n",
       "      <td>False</td>\n",
       "      <td>15</td>\n",
       "      <td>2</td>\n",
       "      <td>-9</td>\n",
       "      <td>N</td>\n",
       "      <td>Y</td>\n",
       "    </tr>\n",
       "    <tr>\n",
       "      <th>2</th>\n",
       "      <td>OR-aaf33297-ee46-4f2b-8348-5dd2fdcb7e54</td>\n",
       "      <td>OI-2a9c9bea-05cd-45f9-8a5c-9ee28df7167b</td>\n",
       "      <td>PID-22bab63a-1cf7-49cb-9257-dfd144a9bb86</td>\n",
       "      <td>Herbal Tea</td>\n",
       "      <td>100</td>\n",
       "      <td>2</td>\n",
       "      <td>200</td>\n",
       "      <td>CID-c2f0a78d-6978-492f-9f80-7a45887f5ba9</td>\n",
       "      <td>OTTAVA</td>\n",
       "      <td>Food Beverages</td>\n",
       "      <td>...</td>\n",
       "      <td>0.499970</td>\n",
       "      <td>5</td>\n",
       "      <td>2022</td>\n",
       "      <td>19</td>\n",
       "      <td>False</td>\n",
       "      <td>9</td>\n",
       "      <td>2</td>\n",
       "      <td>0</td>\n",
       "      <td>N</td>\n",
       "      <td>Y</td>\n",
       "    </tr>\n",
       "    <tr>\n",
       "      <th>3</th>\n",
       "      <td>OR-aaf33297-ee46-4f2b-8348-5dd2fdcb7e54</td>\n",
       "      <td>OI-484c6db6-f7cd-43a0-abfd-c47b9cd76d58</td>\n",
       "      <td>PID-ccb448de-74e0-4989-b8e6-e3a427c63dba</td>\n",
       "      <td>Protein Bars</td>\n",
       "      <td>4577</td>\n",
       "      <td>5</td>\n",
       "      <td>22885</td>\n",
       "      <td>CID-c2f0a78d-6978-492f-9f80-7a45887f5ba9</td>\n",
       "      <td>OTTAVA</td>\n",
       "      <td>Food Beverages</td>\n",
       "      <td>...</td>\n",
       "      <td>0.499970</td>\n",
       "      <td>5</td>\n",
       "      <td>2022</td>\n",
       "      <td>19</td>\n",
       "      <td>False</td>\n",
       "      <td>9</td>\n",
       "      <td>2</td>\n",
       "      <td>0</td>\n",
       "      <td>N</td>\n",
       "      <td>Y</td>\n",
       "    </tr>\n",
       "    <tr>\n",
       "      <th>4</th>\n",
       "      <td>OR-60912ae9-44aa-490c-94f3-3770af5c0bee</td>\n",
       "      <td>OI-719744d8-f014-4e34-a74c-62b994d0ee23</td>\n",
       "      <td>PID-f9b3d46a-f6a9-4ed4-b206-10656a6cb9f0</td>\n",
       "      <td>Microwave Oven</td>\n",
       "      <td>431</td>\n",
       "      <td>325</td>\n",
       "      <td>140075</td>\n",
       "      <td>CID-19d2d36a-1d5c-4504-9f12-fb1a62ee772c</td>\n",
       "      <td>Vertex Ventures</td>\n",
       "      <td>Consumer Goods</td>\n",
       "      <td>...</td>\n",
       "      <td>0.499970</td>\n",
       "      <td>2</td>\n",
       "      <td>2024</td>\n",
       "      <td>6</td>\n",
       "      <td>False</td>\n",
       "      <td>7</td>\n",
       "      <td>2</td>\n",
       "      <td>12</td>\n",
       "      <td>Y</td>\n",
       "      <td>Y</td>\n",
       "    </tr>\n",
       "  </tbody>\n",
       "</table>\n",
       "<p>5 rows × 88 columns</p>\n",
       "</div>"
      ],
      "text/plain": [
       "                                   ORDERID  \\\n",
       "0  OR-49f307a7-e4ba-4701-a46c-c0904a6b31a8   \n",
       "1  OR-a136395d-b459-4bb3-8a91-5a55d08bb0f7   \n",
       "2  OR-aaf33297-ee46-4f2b-8348-5dd2fdcb7e54   \n",
       "3  OR-aaf33297-ee46-4f2b-8348-5dd2fdcb7e54   \n",
       "4  OR-60912ae9-44aa-490c-94f3-3770af5c0bee   \n",
       "\n",
       "                               ORDERITEMID  \\\n",
       "0  OI-fd3d2163-475a-4bb5-b1a1-f6125950a069   \n",
       "1  OI-86200f6b-74b3-42bb-a140-1917c12fa781   \n",
       "2  OI-2a9c9bea-05cd-45f9-8a5c-9ee28df7167b   \n",
       "3  OI-484c6db6-f7cd-43a0-abfd-c47b9cd76d58   \n",
       "4  OI-719744d8-f014-4e34-a74c-62b994d0ee23   \n",
       "\n",
       "                                  PRODUCTID       PRODUCTNAME  ORDERQUANTITY  \\\n",
       "0  PID-46bc21c7-2e4a-49bb-b0ac-cd1d2e8c0cb8  Industrial Robot             47   \n",
       "1  PID-df71fb0e-604f-4ded-8a16-850f47932a2a     Bottled Water           7451   \n",
       "2  PID-22bab63a-1cf7-49cb-9257-dfd144a9bb86        Herbal Tea            100   \n",
       "3  PID-ccb448de-74e0-4989-b8e6-e3a427c63dba      Protein Bars           4577   \n",
       "4  PID-f9b3d46a-f6a9-4ed4-b206-10656a6cb9f0    Microwave Oven            431   \n",
       "\n",
       "   UNITPRICE  ORDERVALUE                                CUSTOMERID  \\\n",
       "0      30000     1410000  CID-5382e460-8bd9-428a-a1bf-e0f039c3612a   \n",
       "1          5       37255  CID-7247edbb-6148-4095-973c-5afb2409a37b   \n",
       "2          2         200  CID-c2f0a78d-6978-492f-9f80-7a45887f5ba9   \n",
       "3          5       22885  CID-c2f0a78d-6978-492f-9f80-7a45887f5ba9   \n",
       "4        325      140075  CID-19d2d36a-1d5c-4504-9f12-fb1a62ee772c   \n",
       "\n",
       "      CUSTOMERNAME       PRODUCTCATEGORY  ... SP_DELIVERY_CONSISTENCY MONTH  \\\n",
       "0       Taylor Ltd  Industrial Equipment  ...                1.415584     8   \n",
       "1           Sutura        Food Beverages  ...                0.499970     8   \n",
       "2           OTTAVA        Food Beverages  ...                0.499970     5   \n",
       "3           OTTAVA        Food Beverages  ...                0.499970     5   \n",
       "4  Vertex Ventures        Consumer Goods  ...                0.499970     2   \n",
       "\n",
       "   YEAR  WEEK WEEKEND DAY_OF_THE_MONTH DELIVERY_DELAY PAYMENT_DELAY  \\\n",
       "0  2022    32   False               10              5            13   \n",
       "1  2022    33   False               15              2            -9   \n",
       "2  2022    19   False                9              2             0   \n",
       "3  2022    19   False                9              2             0   \n",
       "4  2024     6   False                7              2            12   \n",
       "\n",
       "  PAYMENT_DELAY_FLAG DELIVERY_DELAY_FLAG  \n",
       "0                  Y                   Y  \n",
       "1                  N                   Y  \n",
       "2                  N                   Y  \n",
       "3                  N                   Y  \n",
       "4                  Y                   Y  \n",
       "\n",
       "[5 rows x 88 columns]"
      ]
     },
     "execution_count": 95,
     "metadata": {},
     "output_type": "execute_result"
    }
   ],
   "source": [
    "df.head()"
   ]
  },
  {
   "cell_type": "code",
   "execution_count": 97,
   "id": "7dc38239-78a3-43ca-a706-479e88b41907",
   "metadata": {},
   "outputs": [],
   "source": [
    "df_payments = df[cols]"
   ]
  },
  {
   "cell_type": "code",
   "execution_count": 99,
   "id": "4cdade4a-403a-400c-865f-5beb93762b42",
   "metadata": {},
   "outputs": [
    {
     "name": "stdout",
     "output_type": "stream",
     "text": [
      "<class 'pandas.core.frame.DataFrame'>\n",
      "Index: 170445 entries, 0 to 173436\n",
      "Data columns (total 38 columns):\n",
      " #   Column                          Non-Null Count   Dtype  \n",
      "---  ------                          --------------   -----  \n",
      " 0   ORDERQUANTITY                   170445 non-null  int16  \n",
      " 1   ORDERAMOUNT                     170445 non-null  int32  \n",
      " 2   ORDERCOUNT                      170445 non-null  int8   \n",
      " 3   CC_CUSTOMER_LIFETIME_VALUE      170445 non-null  int32  \n",
      " 4   CC_ORDER_FREQUENCY              170445 non-null  int16  \n",
      " 5   CC_AVERAGE_ORDER_VALUE          170445 non-null  float64\n",
      " 6   CC_RECENCY                      170445 non-null  int8   \n",
      " 7   CC_AVG_ORDER_PROCESSING_TIME    170445 non-null  float64\n",
      " 8   CC_AVG_INVOICE_PROCESSING_TIME  170445 non-null  float64\n",
      " 9   CC_AVG_DELIVERY_DELAY           170445 non-null  float64\n",
      " 10  CC_AVG_PAYMENT_DELAY            170445 non-null  float64\n",
      " 11  CC_TOTAL_ORDERS                 170445 non-null  int16  \n",
      " 12  CC_TOTAL_DELAYS                 170445 non-null  int16  \n",
      " 13  CC_ORDER_CONSISTENCY            170445 non-null  float64\n",
      " 14  CC_INVOICE_CONSISTENCY          170445 non-null  float64\n",
      " 15  CC_DELIVERY_CONSISTENCY         170445 non-null  float64\n",
      " 16  CC_PAYMENT_CONSISTENCY          170445 non-null  float64\n",
      " 17  CAT_TOTAL_SALES_VOLUME          170445 non-null  int32  \n",
      " 18  CAT_TOTAL_SALES_VALUE           170445 non-null  int64  \n",
      " 19  CAT_AVG_ORDER_QUANTITY          170445 non-null  float64\n",
      " 20  CAT_AVG_UNIT_PRICE              170445 non-null  float64\n",
      " 21  CAT_NUMBER_OF_ORDERS            170445 non-null  int16  \n",
      " 22  CAT_AVG_DELIVERY_TIME           170445 non-null  float64\n",
      " 23  CAT_AVG_INVOICE_TIME            170445 non-null  float64\n",
      " 24  SP_CUSTOMER_LIFETIME_VALUE      170445 non-null  int64  \n",
      " 25  SP_ORDER_FREQUENCY              170445 non-null  int32  \n",
      " 26  SP_AVERAGE_ORDER_VALUE          170445 non-null  float64\n",
      " 27  SP_AVG_ORDER_PROCESSING_TIME    170445 non-null  float64\n",
      " 28  SP_AVG_DELIVERY_DELAY           170445 non-null  float64\n",
      " 29  SP_TOTAL_ORDERS                 170445 non-null  int32  \n",
      " 30  SP_ORDER_CONSISTENCY            170445 non-null  float64\n",
      " 31  SP_DELIVERY_CONSISTENCY         170445 non-null  float64\n",
      " 32  MONTH                           170445 non-null  int32  \n",
      " 33  YEAR                            170445 non-null  int32  \n",
      " 34  WEEK                            170445 non-null  UInt32 \n",
      " 35  WEEKEND                         170445 non-null  bool   \n",
      " 36  DAY_OF_THE_MONTH                170445 non-null  int32  \n",
      " 37  PAYMENT_DELAY_FLAG              170445 non-null  object \n",
      "dtypes: UInt32(1), bool(1), float64(18), int16(5), int32(8), int64(2), int8(2), object(1)\n",
      "memory usage: 40.8+ MB\n"
     ]
    }
   ],
   "source": [
    "df_payments.info()"
   ]
  },
  {
   "cell_type": "code",
   "execution_count": 100,
   "id": "3f027c2b-0943-4ed8-a7b7-c716703b4423",
   "metadata": {
    "scrolled": true
   },
   "outputs": [
    {
     "data": {
      "text/html": [
       "<div>\n",
       "<style scoped>\n",
       "    .dataframe tbody tr th:only-of-type {\n",
       "        vertical-align: middle;\n",
       "    }\n",
       "\n",
       "    .dataframe tbody tr th {\n",
       "        vertical-align: top;\n",
       "    }\n",
       "\n",
       "    .dataframe thead th {\n",
       "        text-align: right;\n",
       "    }\n",
       "</style>\n",
       "<table border=\"1\" class=\"dataframe\">\n",
       "  <thead>\n",
       "    <tr style=\"text-align: right;\">\n",
       "      <th></th>\n",
       "      <th>ORDERQUANTITY</th>\n",
       "      <th>ORDERAMOUNT</th>\n",
       "      <th>ORDERCOUNT</th>\n",
       "      <th>CC_CUSTOMER_LIFETIME_VALUE</th>\n",
       "      <th>CC_ORDER_FREQUENCY</th>\n",
       "      <th>CC_AVERAGE_ORDER_VALUE</th>\n",
       "      <th>CC_RECENCY</th>\n",
       "      <th>CC_AVG_ORDER_PROCESSING_TIME</th>\n",
       "      <th>CC_AVG_INVOICE_PROCESSING_TIME</th>\n",
       "      <th>CC_AVG_DELIVERY_DELAY</th>\n",
       "      <th>...</th>\n",
       "      <th>SP_AVG_DELIVERY_DELAY</th>\n",
       "      <th>SP_TOTAL_ORDERS</th>\n",
       "      <th>SP_ORDER_CONSISTENCY</th>\n",
       "      <th>SP_DELIVERY_CONSISTENCY</th>\n",
       "      <th>MONTH</th>\n",
       "      <th>YEAR</th>\n",
       "      <th>WEEK</th>\n",
       "      <th>WEEKEND</th>\n",
       "      <th>DAY_OF_THE_MONTH</th>\n",
       "      <th>PAYMENT_DELAY_FLAG</th>\n",
       "    </tr>\n",
       "  </thead>\n",
       "  <tbody>\n",
       "    <tr>\n",
       "      <th>173432</th>\n",
       "      <td>88</td>\n",
       "      <td>6776</td>\n",
       "      <td>1</td>\n",
       "      <td>64033712</td>\n",
       "      <td>538</td>\n",
       "      <td>59180.879852</td>\n",
       "      <td>-80</td>\n",
       "      <td>10.062847</td>\n",
       "      <td>28.409427</td>\n",
       "      <td>3.050832</td>\n",
       "      <td>...</td>\n",
       "      <td>2.998765</td>\n",
       "      <td>29950</td>\n",
       "      <td>1.706115</td>\n",
       "      <td>1.417880</td>\n",
       "      <td>11</td>\n",
       "      <td>2022</td>\n",
       "      <td>47</td>\n",
       "      <td>False</td>\n",
       "      <td>21</td>\n",
       "      <td>N</td>\n",
       "    </tr>\n",
       "    <tr>\n",
       "      <th>173433</th>\n",
       "      <td>4012</td>\n",
       "      <td>37084</td>\n",
       "      <td>2</td>\n",
       "      <td>82160478</td>\n",
       "      <td>564</td>\n",
       "      <td>71073.077855</td>\n",
       "      <td>-89</td>\n",
       "      <td>14.938581</td>\n",
       "      <td>26.097751</td>\n",
       "      <td>3.037197</td>\n",
       "      <td>...</td>\n",
       "      <td>3.018392</td>\n",
       "      <td>32025</td>\n",
       "      <td>1.718133</td>\n",
       "      <td>1.415584</td>\n",
       "      <td>2</td>\n",
       "      <td>2022</td>\n",
       "      <td>8</td>\n",
       "      <td>False</td>\n",
       "      <td>23</td>\n",
       "      <td>N</td>\n",
       "    </tr>\n",
       "    <tr>\n",
       "      <th>173434</th>\n",
       "      <td>90</td>\n",
       "      <td>37084</td>\n",
       "      <td>2</td>\n",
       "      <td>82160478</td>\n",
       "      <td>564</td>\n",
       "      <td>71073.077855</td>\n",
       "      <td>-89</td>\n",
       "      <td>14.938581</td>\n",
       "      <td>26.097751</td>\n",
       "      <td>3.037197</td>\n",
       "      <td>...</td>\n",
       "      <td>3.018392</td>\n",
       "      <td>32025</td>\n",
       "      <td>1.718133</td>\n",
       "      <td>1.415584</td>\n",
       "      <td>2</td>\n",
       "      <td>2022</td>\n",
       "      <td>8</td>\n",
       "      <td>False</td>\n",
       "      <td>23</td>\n",
       "      <td>N</td>\n",
       "    </tr>\n",
       "    <tr>\n",
       "      <th>173435</th>\n",
       "      <td>279</td>\n",
       "      <td>3892</td>\n",
       "      <td>3</td>\n",
       "      <td>15562685</td>\n",
       "      <td>594</td>\n",
       "      <td>12958.105745</td>\n",
       "      <td>-79</td>\n",
       "      <td>4.513739</td>\n",
       "      <td>14.835137</td>\n",
       "      <td>1.502082</td>\n",
       "      <td>...</td>\n",
       "      <td>1.494201</td>\n",
       "      <td>75789</td>\n",
       "      <td>0.818478</td>\n",
       "      <td>0.499970</td>\n",
       "      <td>7</td>\n",
       "      <td>2022</td>\n",
       "      <td>29</td>\n",
       "      <td>False</td>\n",
       "      <td>19</td>\n",
       "      <td>N</td>\n",
       "    </tr>\n",
       "    <tr>\n",
       "      <th>173436</th>\n",
       "      <td>299</td>\n",
       "      <td>3892</td>\n",
       "      <td>3</td>\n",
       "      <td>15562685</td>\n",
       "      <td>594</td>\n",
       "      <td>12958.105745</td>\n",
       "      <td>-79</td>\n",
       "      <td>4.513739</td>\n",
       "      <td>14.835137</td>\n",
       "      <td>1.502082</td>\n",
       "      <td>...</td>\n",
       "      <td>1.494201</td>\n",
       "      <td>75789</td>\n",
       "      <td>0.818478</td>\n",
       "      <td>0.499970</td>\n",
       "      <td>7</td>\n",
       "      <td>2022</td>\n",
       "      <td>29</td>\n",
       "      <td>False</td>\n",
       "      <td>19</td>\n",
       "      <td>N</td>\n",
       "    </tr>\n",
       "  </tbody>\n",
       "</table>\n",
       "<p>5 rows × 38 columns</p>\n",
       "</div>"
      ],
      "text/plain": [
       "        ORDERQUANTITY  ORDERAMOUNT  ORDERCOUNT  CC_CUSTOMER_LIFETIME_VALUE  \\\n",
       "173432             88         6776           1                    64033712   \n",
       "173433           4012        37084           2                    82160478   \n",
       "173434             90        37084           2                    82160478   \n",
       "173435            279         3892           3                    15562685   \n",
       "173436            299         3892           3                    15562685   \n",
       "\n",
       "        CC_ORDER_FREQUENCY  CC_AVERAGE_ORDER_VALUE  CC_RECENCY  \\\n",
       "173432                 538            59180.879852         -80   \n",
       "173433                 564            71073.077855         -89   \n",
       "173434                 564            71073.077855         -89   \n",
       "173435                 594            12958.105745         -79   \n",
       "173436                 594            12958.105745         -79   \n",
       "\n",
       "        CC_AVG_ORDER_PROCESSING_TIME  CC_AVG_INVOICE_PROCESSING_TIME  \\\n",
       "173432                     10.062847                       28.409427   \n",
       "173433                     14.938581                       26.097751   \n",
       "173434                     14.938581                       26.097751   \n",
       "173435                      4.513739                       14.835137   \n",
       "173436                      4.513739                       14.835137   \n",
       "\n",
       "        CC_AVG_DELIVERY_DELAY  ...  SP_AVG_DELIVERY_DELAY  SP_TOTAL_ORDERS  \\\n",
       "173432               3.050832  ...               2.998765            29950   \n",
       "173433               3.037197  ...               3.018392            32025   \n",
       "173434               3.037197  ...               3.018392            32025   \n",
       "173435               1.502082  ...               1.494201            75789   \n",
       "173436               1.502082  ...               1.494201            75789   \n",
       "\n",
       "        SP_ORDER_CONSISTENCY  SP_DELIVERY_CONSISTENCY  MONTH  YEAR  WEEK  \\\n",
       "173432              1.706115                 1.417880     11  2022    47   \n",
       "173433              1.718133                 1.415584      2  2022     8   \n",
       "173434              1.718133                 1.415584      2  2022     8   \n",
       "173435              0.818478                 0.499970      7  2022    29   \n",
       "173436              0.818478                 0.499970      7  2022    29   \n",
       "\n",
       "        WEEKEND  DAY_OF_THE_MONTH  PAYMENT_DELAY_FLAG  \n",
       "173432    False                21                   N  \n",
       "173433    False                23                   N  \n",
       "173434    False                23                   N  \n",
       "173435    False                19                   N  \n",
       "173436    False                19                   N  \n",
       "\n",
       "[5 rows x 38 columns]"
      ]
     },
     "execution_count": 100,
     "metadata": {},
     "output_type": "execute_result"
    }
   ],
   "source": [
    "df_payments.tail()"
   ]
  },
  {
   "cell_type": "code",
   "execution_count": 101,
   "id": "367e9c84-ed59-4e1c-b796-e6c1ea2aad15",
   "metadata": {},
   "outputs": [
    {
     "data": {
      "text/plain": [
       "(170445, 38)"
      ]
     },
     "execution_count": 101,
     "metadata": {},
     "output_type": "execute_result"
    }
   ],
   "source": [
    "df_payments.shape"
   ]
  },
  {
   "cell_type": "code",
   "execution_count": 102,
   "id": "4af02e1e-310f-4a87-8fbc-bae81eb54fcf",
   "metadata": {},
   "outputs": [],
   "source": [
    "df_payments = df_payments.drop_duplicates()"
   ]
  },
  {
   "cell_type": "code",
   "execution_count": 103,
   "id": "effb5c0f-0daf-4b1e-8a4b-8cdd3566624f",
   "metadata": {},
   "outputs": [
    {
     "data": {
      "text/plain": [
       "(170272, 38)"
      ]
     },
     "execution_count": 103,
     "metadata": {},
     "output_type": "execute_result"
    }
   ],
   "source": [
    "df_payments.shape"
   ]
  },
  {
   "cell_type": "code",
   "execution_count": 87,
   "id": "e809c2bf-7ead-4f53-97fe-e9a0718ee5dc",
   "metadata": {},
   "outputs": [],
   "source": [
    "from sklearn.preprocessing import StandardScaler\n",
    "\n",
    "# Standardize the predictor variables\n",
    "scaler = StandardScaler()\n",
    "\n",
    "X_scaled = scaler.fit_transform(df_payments.drop(columns=['PAYMENT_DELAY_FLAG']))\n",
    "\n",
    "df_scaled = pd.DataFrame(X_scaled, columns=df_payments.drop(columns=['PAYMENT_DELAY_FLAG']).columns)"
   ]
  },
  {
   "cell_type": "code",
   "execution_count": 88,
   "id": "655fa414-8a9c-479b-9c9a-7a27286173e8",
   "metadata": {},
   "outputs": [
    {
     "data": {
      "text/plain": [
       "(170445, 44)"
      ]
     },
     "execution_count": 88,
     "metadata": {},
     "output_type": "execute_result"
    }
   ],
   "source": [
    "df_scaled.shape"
   ]
  },
  {
   "cell_type": "code",
   "execution_count": 89,
   "id": "5ff1dff1-1b45-47c8-b452-6ed20762e7aa",
   "metadata": {},
   "outputs": [],
   "source": [
    "df_scaled['PAYMENT_DELAY_FLAG'] = df_payments['PAYMENT_DELAY_FLAG']"
   ]
  },
  {
   "cell_type": "code",
   "execution_count": 90,
   "id": "c829e30f-5a72-4f1f-b61f-598a8c5452e2",
   "metadata": {},
   "outputs": [
    {
     "data": {
      "text/html": [
       "<div>\n",
       "<style scoped>\n",
       "    .dataframe tbody tr th:only-of-type {\n",
       "        vertical-align: middle;\n",
       "    }\n",
       "\n",
       "    .dataframe tbody tr th {\n",
       "        vertical-align: top;\n",
       "    }\n",
       "\n",
       "    .dataframe thead th {\n",
       "        text-align: right;\n",
       "    }\n",
       "</style>\n",
       "<table border=\"1\" class=\"dataframe\">\n",
       "  <thead>\n",
       "    <tr style=\"text-align: right;\">\n",
       "      <th></th>\n",
       "      <th>ORDERQUANTITY</th>\n",
       "      <th>ORDERAMOUNT</th>\n",
       "      <th>ORDERCOUNT</th>\n",
       "      <th>CC_CUSTOMER_LIFETIME_VALUE</th>\n",
       "      <th>CC_ORDER_FREQUENCY</th>\n",
       "      <th>CC_AVERAGE_ORDER_VALUE</th>\n",
       "      <th>CC_RECENCY</th>\n",
       "      <th>CC_AVG_ORDER_PROCESSING_TIME</th>\n",
       "      <th>CC_AVG_INVOICE_PROCESSING_TIME</th>\n",
       "      <th>CC_AVG_DELIVERY_DELAY</th>\n",
       "      <th>...</th>\n",
       "      <th>SP_AVG_ORDER_PROCESSING_TIME</th>\n",
       "      <th>SP_AVG_DELIVERY_DELAY</th>\n",
       "      <th>SP_TOTAL_ORDERS</th>\n",
       "      <th>SP_ORDER_CONSISTENCY</th>\n",
       "      <th>SP_DELIVERY_CONSISTENCY</th>\n",
       "      <th>MONTH</th>\n",
       "      <th>YEAR</th>\n",
       "      <th>WEEK</th>\n",
       "      <th>WEEKEND</th>\n",
       "      <th>DAY_OF_THE_MONTH</th>\n",
       "    </tr>\n",
       "  </thead>\n",
       "  <tbody>\n",
       "    <tr>\n",
       "      <th>count</th>\n",
       "      <td>1.704450e+05</td>\n",
       "      <td>1.704450e+05</td>\n",
       "      <td>1.704450e+05</td>\n",
       "      <td>1.704450e+05</td>\n",
       "      <td>1.704450e+05</td>\n",
       "      <td>1.704450e+05</td>\n",
       "      <td>1.704450e+05</td>\n",
       "      <td>1.704450e+05</td>\n",
       "      <td>1.704450e+05</td>\n",
       "      <td>1.704450e+05</td>\n",
       "      <td>...</td>\n",
       "      <td>1.704450e+05</td>\n",
       "      <td>1.704450e+05</td>\n",
       "      <td>1.704450e+05</td>\n",
       "      <td>1.704450e+05</td>\n",
       "      <td>1.704450e+05</td>\n",
       "      <td>1.704450e+05</td>\n",
       "      <td>1.704450e+05</td>\n",
       "      <td>1.704450e+05</td>\n",
       "      <td>1.704450e+05</td>\n",
       "      <td>1.704450e+05</td>\n",
       "    </tr>\n",
       "    <tr>\n",
       "      <th>mean</th>\n",
       "      <td>6.169751e-18</td>\n",
       "      <td>2.876438e-17</td>\n",
       "      <td>3.075704e-16</td>\n",
       "      <td>2.772219e-17</td>\n",
       "      <td>2.235618e-15</td>\n",
       "      <td>-7.445389e-17</td>\n",
       "      <td>-2.562948e-16</td>\n",
       "      <td>7.964815e-16</td>\n",
       "      <td>7.753877e-17</td>\n",
       "      <td>1.332333e-16</td>\n",
       "      <td>...</td>\n",
       "      <td>3.665999e-16</td>\n",
       "      <td>-4.834709e-16</td>\n",
       "      <td>7.653827e-17</td>\n",
       "      <td>-1.284809e-16</td>\n",
       "      <td>4.861389e-16</td>\n",
       "      <td>-4.460563e-17</td>\n",
       "      <td>3.062189e-14</td>\n",
       "      <td>1.300650e-17</td>\n",
       "      <td>1.407370e-16</td>\n",
       "      <td>5.110889e-17</td>\n",
       "    </tr>\n",
       "    <tr>\n",
       "      <th>std</th>\n",
       "      <td>1.000003e+00</td>\n",
       "      <td>1.000003e+00</td>\n",
       "      <td>1.000003e+00</td>\n",
       "      <td>1.000003e+00</td>\n",
       "      <td>1.000003e+00</td>\n",
       "      <td>1.000003e+00</td>\n",
       "      <td>1.000003e+00</td>\n",
       "      <td>1.000003e+00</td>\n",
       "      <td>1.000003e+00</td>\n",
       "      <td>1.000003e+00</td>\n",
       "      <td>...</td>\n",
       "      <td>1.000003e+00</td>\n",
       "      <td>1.000003e+00</td>\n",
       "      <td>1.000003e+00</td>\n",
       "      <td>1.000003e+00</td>\n",
       "      <td>1.000003e+00</td>\n",
       "      <td>1.000003e+00</td>\n",
       "      <td>1.000003e+00</td>\n",
       "      <td>1.000003e+00</td>\n",
       "      <td>1.000003e+00</td>\n",
       "      <td>1.000003e+00</td>\n",
       "    </tr>\n",
       "    <tr>\n",
       "      <th>min</th>\n",
       "      <td>-6.376814e-01</td>\n",
       "      <td>-3.535632e-01</td>\n",
       "      <td>-1.797003e+00</td>\n",
       "      <td>-3.964425e-01</td>\n",
       "      <td>-2.450812e+00</td>\n",
       "      <td>-3.958847e-01</td>\n",
       "      <td>-1.063359e+00</td>\n",
       "      <td>-9.895909e-01</td>\n",
       "      <td>-1.659418e+00</td>\n",
       "      <td>-9.781006e-01</td>\n",
       "      <td>...</td>\n",
       "      <td>-9.636251e-01</td>\n",
       "      <td>-9.160209e-01</td>\n",
       "      <td>-1.277401e+00</td>\n",
       "      <td>-8.763645e-01</td>\n",
       "      <td>-9.159700e-01</td>\n",
       "      <td>-1.560888e+00</td>\n",
       "      <td>-3.725941e-01</td>\n",
       "      <td>-1.664405e+00</td>\n",
       "      <td>-6.339870e-01</td>\n",
       "      <td>-1.676586e+00</td>\n",
       "    </tr>\n",
       "    <tr>\n",
       "      <th>25%</th>\n",
       "      <td>-5.593317e-01</td>\n",
       "      <td>-3.211155e-01</td>\n",
       "      <td>-4.548965e-01</td>\n",
       "      <td>-3.476796e-01</td>\n",
       "      <td>-7.134550e-01</td>\n",
       "      <td>-3.460621e-01</td>\n",
       "      <td>-8.224153e-01</td>\n",
       "      <td>-9.604887e-01</td>\n",
       "      <td>-6.690918e-01</td>\n",
       "      <td>-9.169970e-01</td>\n",
       "      <td>...</td>\n",
       "      <td>-9.636251e-01</td>\n",
       "      <td>-9.160209e-01</td>\n",
       "      <td>-7.177712e-01</td>\n",
       "      <td>-8.763645e-01</td>\n",
       "      <td>-9.159700e-01</td>\n",
       "      <td>-9.503370e-01</td>\n",
       "      <td>-3.725941e-01</td>\n",
       "      <td>-8.967045e-01</td>\n",
       "      <td>-6.339870e-01</td>\n",
       "      <td>-8.807546e-01</td>\n",
       "    </tr>\n",
       "    <tr>\n",
       "      <th>50%</th>\n",
       "      <td>-4.008101e-01</td>\n",
       "      <td>-2.764749e-01</td>\n",
       "      <td>8.872100e-01</td>\n",
       "      <td>-3.097376e-01</td>\n",
       "      <td>-1.851207e-02</td>\n",
       "      <td>-3.084769e-01</td>\n",
       "      <td>-3.405279e-01</td>\n",
       "      <td>-2.287718e-01</td>\n",
       "      <td>-9.016030e-02</td>\n",
       "      <td>-8.815147e-01</td>\n",
       "      <td>...</td>\n",
       "      <td>-2.333724e-01</td>\n",
       "      <td>-9.152748e-01</td>\n",
       "      <td>-6.357864e-01</td>\n",
       "      <td>-5.029582e-03</td>\n",
       "      <td>-9.159313e-01</td>\n",
       "      <td>-3.450997e-02</td>\n",
       "      <td>-3.725941e-01</td>\n",
       "      <td>1.057807e-02</td>\n",
       "      <td>-6.339870e-01</td>\n",
       "      <td>2.876724e-02</td>\n",
       "    </tr>\n",
       "    <tr>\n",
       "      <th>75%</th>\n",
       "      <td>-4.550301e-02</td>\n",
       "      <td>-1.830724e-01</td>\n",
       "      <td>8.872100e-01</td>\n",
       "      <td>-1.974615e-01</td>\n",
       "      <td>6.267921e-01</td>\n",
       "      <td>-1.999869e-01</td>\n",
       "      <td>6.232468e-01</td>\n",
       "      <td>9.418524e-01</td>\n",
       "      <td>4.420396e-01</td>\n",
       "      <td>1.077911e+00</td>\n",
       "      <td>...</td>\n",
       "      <td>9.657561e-01</td>\n",
       "      <td>1.086037e+00</td>\n",
       "      <td>1.093361e+00</td>\n",
       "      <td>4.378922e-01</td>\n",
       "      <td>1.093798e+00</td>\n",
       "      <td>8.813170e-01</td>\n",
       "      <td>-3.725941e-01</td>\n",
       "      <td>8.480697e-01</td>\n",
       "      <td>1.577319e+00</td>\n",
       "      <td>8.245988e-01</td>\n",
       "    </tr>\n",
       "    <tr>\n",
       "      <th>max</th>\n",
       "      <td>5.434121e+00</td>\n",
       "      <td>1.160366e+01</td>\n",
       "      <td>8.872100e-01</td>\n",
       "      <td>3.583095e+00</td>\n",
       "      <td>2.364149e+00</td>\n",
       "      <td>3.526215e+00</td>\n",
       "      <td>3.032684e+00</td>\n",
       "      <td>1.615001e+00</td>\n",
       "      <td>4.218940e+00</td>\n",
       "      <td>1.282693e+00</td>\n",
       "      <td>...</td>\n",
       "      <td>1.584408e+00</td>\n",
       "      <td>1.112154e+00</td>\n",
       "      <td>1.093361e+00</td>\n",
       "      <td>2.527000e+00</td>\n",
       "      <td>1.093878e+00</td>\n",
       "      <td>1.797144e+00</td>\n",
       "      <td>3.293657e+00</td>\n",
       "      <td>1.894934e+00</td>\n",
       "      <td>1.577319e+00</td>\n",
       "      <td>1.734121e+00</td>\n",
       "    </tr>\n",
       "  </tbody>\n",
       "</table>\n",
       "<p>8 rows × 44 columns</p>\n",
       "</div>"
      ],
      "text/plain": [
       "       ORDERQUANTITY   ORDERAMOUNT    ORDERCOUNT  CC_CUSTOMER_LIFETIME_VALUE  \\\n",
       "count   1.704450e+05  1.704450e+05  1.704450e+05                1.704450e+05   \n",
       "mean    6.169751e-18  2.876438e-17  3.075704e-16                2.772219e-17   \n",
       "std     1.000003e+00  1.000003e+00  1.000003e+00                1.000003e+00   \n",
       "min    -6.376814e-01 -3.535632e-01 -1.797003e+00               -3.964425e-01   \n",
       "25%    -5.593317e-01 -3.211155e-01 -4.548965e-01               -3.476796e-01   \n",
       "50%    -4.008101e-01 -2.764749e-01  8.872100e-01               -3.097376e-01   \n",
       "75%    -4.550301e-02 -1.830724e-01  8.872100e-01               -1.974615e-01   \n",
       "max     5.434121e+00  1.160366e+01  8.872100e-01                3.583095e+00   \n",
       "\n",
       "       CC_ORDER_FREQUENCY  CC_AVERAGE_ORDER_VALUE    CC_RECENCY  \\\n",
       "count        1.704450e+05            1.704450e+05  1.704450e+05   \n",
       "mean         2.235618e-15           -7.445389e-17 -2.562948e-16   \n",
       "std          1.000003e+00            1.000003e+00  1.000003e+00   \n",
       "min         -2.450812e+00           -3.958847e-01 -1.063359e+00   \n",
       "25%         -7.134550e-01           -3.460621e-01 -8.224153e-01   \n",
       "50%         -1.851207e-02           -3.084769e-01 -3.405279e-01   \n",
       "75%          6.267921e-01           -1.999869e-01  6.232468e-01   \n",
       "max          2.364149e+00            3.526215e+00  3.032684e+00   \n",
       "\n",
       "       CC_AVG_ORDER_PROCESSING_TIME  CC_AVG_INVOICE_PROCESSING_TIME  \\\n",
       "count                  1.704450e+05                    1.704450e+05   \n",
       "mean                   7.964815e-16                    7.753877e-17   \n",
       "std                    1.000003e+00                    1.000003e+00   \n",
       "min                   -9.895909e-01                   -1.659418e+00   \n",
       "25%                   -9.604887e-01                   -6.690918e-01   \n",
       "50%                   -2.287718e-01                   -9.016030e-02   \n",
       "75%                    9.418524e-01                    4.420396e-01   \n",
       "max                    1.615001e+00                    4.218940e+00   \n",
       "\n",
       "       CC_AVG_DELIVERY_DELAY  ...  SP_AVG_ORDER_PROCESSING_TIME  \\\n",
       "count           1.704450e+05  ...                  1.704450e+05   \n",
       "mean            1.332333e-16  ...                  3.665999e-16   \n",
       "std             1.000003e+00  ...                  1.000003e+00   \n",
       "min            -9.781006e-01  ...                 -9.636251e-01   \n",
       "25%            -9.169970e-01  ...                 -9.636251e-01   \n",
       "50%            -8.815147e-01  ...                 -2.333724e-01   \n",
       "75%             1.077911e+00  ...                  9.657561e-01   \n",
       "max             1.282693e+00  ...                  1.584408e+00   \n",
       "\n",
       "       SP_AVG_DELIVERY_DELAY  SP_TOTAL_ORDERS  SP_ORDER_CONSISTENCY  \\\n",
       "count           1.704450e+05     1.704450e+05          1.704450e+05   \n",
       "mean           -4.834709e-16     7.653827e-17         -1.284809e-16   \n",
       "std             1.000003e+00     1.000003e+00          1.000003e+00   \n",
       "min            -9.160209e-01    -1.277401e+00         -8.763645e-01   \n",
       "25%            -9.160209e-01    -7.177712e-01         -8.763645e-01   \n",
       "50%            -9.152748e-01    -6.357864e-01         -5.029582e-03   \n",
       "75%             1.086037e+00     1.093361e+00          4.378922e-01   \n",
       "max             1.112154e+00     1.093361e+00          2.527000e+00   \n",
       "\n",
       "       SP_DELIVERY_CONSISTENCY         MONTH          YEAR          WEEK  \\\n",
       "count             1.704450e+05  1.704450e+05  1.704450e+05  1.704450e+05   \n",
       "mean              4.861389e-16 -4.460563e-17  3.062189e-14  1.300650e-17   \n",
       "std               1.000003e+00  1.000003e+00  1.000003e+00  1.000003e+00   \n",
       "min              -9.159700e-01 -1.560888e+00 -3.725941e-01 -1.664405e+00   \n",
       "25%              -9.159700e-01 -9.503370e-01 -3.725941e-01 -8.967045e-01   \n",
       "50%              -9.159313e-01 -3.450997e-02 -3.725941e-01  1.057807e-02   \n",
       "75%               1.093798e+00  8.813170e-01 -3.725941e-01  8.480697e-01   \n",
       "max               1.093878e+00  1.797144e+00  3.293657e+00  1.894934e+00   \n",
       "\n",
       "            WEEKEND  DAY_OF_THE_MONTH  \n",
       "count  1.704450e+05      1.704450e+05  \n",
       "mean   1.407370e-16      5.110889e-17  \n",
       "std    1.000003e+00      1.000003e+00  \n",
       "min   -6.339870e-01     -1.676586e+00  \n",
       "25%   -6.339870e-01     -8.807546e-01  \n",
       "50%   -6.339870e-01      2.876724e-02  \n",
       "75%    1.577319e+00      8.245988e-01  \n",
       "max    1.577319e+00      1.734121e+00  \n",
       "\n",
       "[8 rows x 44 columns]"
      ]
     },
     "execution_count": 90,
     "metadata": {},
     "output_type": "execute_result"
    }
   ],
   "source": [
    "df_scaled.describe()"
   ]
  },
  {
   "cell_type": "code",
   "execution_count": 85,
   "id": "6699d926-777b-4b56-a36e-d598d4087009",
   "metadata": {
    "scrolled": true
   },
   "outputs": [
    {
     "data": {
      "text/plain": [
       "2992"
      ]
     },
     "execution_count": 85,
     "metadata": {},
     "output_type": "execute_result"
    }
   ],
   "source": [
    "df_scaled['PAYMENT_DELAY_FLAG'].isna().sum()"
   ]
  },
  {
   "cell_type": "markdown",
   "id": "ad414830-13c6-413b-bd28-889a7aac3c47",
   "metadata": {},
   "source": [
    "# Model Training for Payment Delay Prediction"
   ]
  },
  {
   "cell_type": "code",
   "execution_count": 47,
   "id": "e6d85d5b-0741-45bd-b01d-79e7a6a0fdd7",
   "metadata": {},
   "outputs": [],
   "source": [
    "# Separate features and target variable\n",
    "X = df_scaled.drop(columns=['PAYMENT_DELAY_FLAG'])\n",
    "y = df_scaled['PAYMENT_DELAY_FLAG']"
   ]
  },
  {
   "cell_type": "code",
   "execution_count": 48,
   "id": "690b5a06-4f6b-4a57-9a66-3758fe728eb6",
   "metadata": {},
   "outputs": [],
   "source": [
    "# Split the data into training and testing sets\n",
    "X_train, X_test, y_train, y_test = train_test_split(X, y, test_size=0.25, random_state=42)"
   ]
  },
  {
   "cell_type": "code",
   "execution_count": 55,
   "id": "fccde28e-d189-4be8-b1b7-b00ae9ed045c",
   "metadata": {},
   "outputs": [
    {
     "data": {
      "text/plain": [
       "106441      N\n",
       "141237      Y\n",
       "67668       Y\n",
       "97177       Y\n",
       "93093       N\n",
       "         ... \n",
       "119879      Y\n",
       "103694      Y\n",
       "131932    NaN\n",
       "146867      Y\n",
       "121958      N\n",
       "Name: PAYMENT_DELAY_FLAG, Length: 127833, dtype: object"
      ]
     },
     "execution_count": 55,
     "metadata": {},
     "output_type": "execute_result"
    }
   ],
   "source": [
    "y_train"
   ]
  },
  {
   "cell_type": "code",
   "execution_count": 52,
   "id": "34072aa7-ed82-4a4b-a985-3667fa6de8bf",
   "metadata": {},
   "outputs": [
    {
     "ename": "ValueError",
     "evalue": "Input contains NaN",
     "output_type": "error",
     "traceback": [
      "\u001b[0;31m---------------------------------------------------------------------------\u001b[0m",
      "\u001b[0;31mValueError\u001b[0m                                Traceback (most recent call last)",
      "Cell \u001b[0;32mIn[52], line 3\u001b[0m\n\u001b[1;32m      1\u001b[0m \u001b[38;5;66;03m#from sklearn.tree import DecisionTreeClassifier\u001b[39;00m\n\u001b[1;32m      2\u001b[0m dtc \u001b[38;5;241m=\u001b[39m DecisionTreeClassifier()\n\u001b[0;32m----> 3\u001b[0m \u001b[43mdtc\u001b[49m\u001b[38;5;241;43m.\u001b[39;49m\u001b[43mfit\u001b[49m\u001b[43m(\u001b[49m\u001b[43mX_train\u001b[49m\u001b[43m,\u001b[49m\u001b[43m \u001b[49m\u001b[43my_train\u001b[49m\u001b[43m)\u001b[49m\n",
      "File \u001b[0;32m/opt/conda/lib/python3.9/site-packages/sklearn/base.py:1152\u001b[0m, in \u001b[0;36m_fit_context.<locals>.decorator.<locals>.wrapper\u001b[0;34m(estimator, *args, **kwargs)\u001b[0m\n\u001b[1;32m   1145\u001b[0m     estimator\u001b[38;5;241m.\u001b[39m_validate_params()\n\u001b[1;32m   1147\u001b[0m \u001b[38;5;28;01mwith\u001b[39;00m config_context(\n\u001b[1;32m   1148\u001b[0m     skip_parameter_validation\u001b[38;5;241m=\u001b[39m(\n\u001b[1;32m   1149\u001b[0m         prefer_skip_nested_validation \u001b[38;5;129;01mor\u001b[39;00m global_skip_validation\n\u001b[1;32m   1150\u001b[0m     )\n\u001b[1;32m   1151\u001b[0m ):\n\u001b[0;32m-> 1152\u001b[0m     \u001b[38;5;28;01mreturn\u001b[39;00m \u001b[43mfit_method\u001b[49m\u001b[43m(\u001b[49m\u001b[43mestimator\u001b[49m\u001b[43m,\u001b[49m\u001b[43m \u001b[49m\u001b[38;5;241;43m*\u001b[39;49m\u001b[43margs\u001b[49m\u001b[43m,\u001b[49m\u001b[43m \u001b[49m\u001b[38;5;241;43m*\u001b[39;49m\u001b[38;5;241;43m*\u001b[39;49m\u001b[43mkwargs\u001b[49m\u001b[43m)\u001b[49m\n",
      "File \u001b[0;32m/opt/conda/lib/python3.9/site-packages/sklearn/tree/_classes.py:959\u001b[0m, in \u001b[0;36mDecisionTreeClassifier.fit\u001b[0;34m(self, X, y, sample_weight, check_input)\u001b[0m\n\u001b[1;32m    928\u001b[0m \u001b[38;5;129m@_fit_context\u001b[39m(prefer_skip_nested_validation\u001b[38;5;241m=\u001b[39m\u001b[38;5;28;01mTrue\u001b[39;00m)\n\u001b[1;32m    929\u001b[0m \u001b[38;5;28;01mdef\u001b[39;00m \u001b[38;5;21mfit\u001b[39m(\u001b[38;5;28mself\u001b[39m, X, y, sample_weight\u001b[38;5;241m=\u001b[39m\u001b[38;5;28;01mNone\u001b[39;00m, check_input\u001b[38;5;241m=\u001b[39m\u001b[38;5;28;01mTrue\u001b[39;00m):\n\u001b[1;32m    930\u001b[0m \u001b[38;5;250m    \u001b[39m\u001b[38;5;124;03m\"\"\"Build a decision tree classifier from the training set (X, y).\u001b[39;00m\n\u001b[1;32m    931\u001b[0m \n\u001b[1;32m    932\u001b[0m \u001b[38;5;124;03m    Parameters\u001b[39;00m\n\u001b[0;32m   (...)\u001b[0m\n\u001b[1;32m    956\u001b[0m \u001b[38;5;124;03m        Fitted estimator.\u001b[39;00m\n\u001b[1;32m    957\u001b[0m \u001b[38;5;124;03m    \"\"\"\u001b[39;00m\n\u001b[0;32m--> 959\u001b[0m     \u001b[38;5;28;43msuper\u001b[39;49m\u001b[43m(\u001b[49m\u001b[43m)\u001b[49m\u001b[38;5;241;43m.\u001b[39;49m\u001b[43m_fit\u001b[49m\u001b[43m(\u001b[49m\n\u001b[1;32m    960\u001b[0m \u001b[43m        \u001b[49m\u001b[43mX\u001b[49m\u001b[43m,\u001b[49m\n\u001b[1;32m    961\u001b[0m \u001b[43m        \u001b[49m\u001b[43my\u001b[49m\u001b[43m,\u001b[49m\n\u001b[1;32m    962\u001b[0m \u001b[43m        \u001b[49m\u001b[43msample_weight\u001b[49m\u001b[38;5;241;43m=\u001b[39;49m\u001b[43msample_weight\u001b[49m\u001b[43m,\u001b[49m\n\u001b[1;32m    963\u001b[0m \u001b[43m        \u001b[49m\u001b[43mcheck_input\u001b[49m\u001b[38;5;241;43m=\u001b[39;49m\u001b[43mcheck_input\u001b[49m\u001b[43m,\u001b[49m\n\u001b[1;32m    964\u001b[0m \u001b[43m    \u001b[49m\u001b[43m)\u001b[49m\n\u001b[1;32m    965\u001b[0m     \u001b[38;5;28;01mreturn\u001b[39;00m \u001b[38;5;28mself\u001b[39m\n",
      "File \u001b[0;32m/opt/conda/lib/python3.9/site-packages/sklearn/tree/_classes.py:242\u001b[0m, in \u001b[0;36mBaseDecisionTree._fit\u001b[0;34m(self, X, y, sample_weight, check_input, missing_values_in_feature_mask)\u001b[0m\n\u001b[1;32m    238\u001b[0m check_X_params \u001b[38;5;241m=\u001b[39m \u001b[38;5;28mdict\u001b[39m(\n\u001b[1;32m    239\u001b[0m     dtype\u001b[38;5;241m=\u001b[39mDTYPE, accept_sparse\u001b[38;5;241m=\u001b[39m\u001b[38;5;124m\"\u001b[39m\u001b[38;5;124mcsc\u001b[39m\u001b[38;5;124m\"\u001b[39m, force_all_finite\u001b[38;5;241m=\u001b[39m\u001b[38;5;28;01mFalse\u001b[39;00m\n\u001b[1;32m    240\u001b[0m )\n\u001b[1;32m    241\u001b[0m check_y_params \u001b[38;5;241m=\u001b[39m \u001b[38;5;28mdict\u001b[39m(ensure_2d\u001b[38;5;241m=\u001b[39m\u001b[38;5;28;01mFalse\u001b[39;00m, dtype\u001b[38;5;241m=\u001b[39m\u001b[38;5;28;01mNone\u001b[39;00m)\n\u001b[0;32m--> 242\u001b[0m X, y \u001b[38;5;241m=\u001b[39m \u001b[38;5;28;43mself\u001b[39;49m\u001b[38;5;241;43m.\u001b[39;49m\u001b[43m_validate_data\u001b[49m\u001b[43m(\u001b[49m\n\u001b[1;32m    243\u001b[0m \u001b[43m    \u001b[49m\u001b[43mX\u001b[49m\u001b[43m,\u001b[49m\u001b[43m \u001b[49m\u001b[43my\u001b[49m\u001b[43m,\u001b[49m\u001b[43m \u001b[49m\u001b[43mvalidate_separately\u001b[49m\u001b[38;5;241;43m=\u001b[39;49m\u001b[43m(\u001b[49m\u001b[43mcheck_X_params\u001b[49m\u001b[43m,\u001b[49m\u001b[43m \u001b[49m\u001b[43mcheck_y_params\u001b[49m\u001b[43m)\u001b[49m\n\u001b[1;32m    244\u001b[0m \u001b[43m\u001b[49m\u001b[43m)\u001b[49m\n\u001b[1;32m    246\u001b[0m missing_values_in_feature_mask \u001b[38;5;241m=\u001b[39m (\n\u001b[1;32m    247\u001b[0m     \u001b[38;5;28mself\u001b[39m\u001b[38;5;241m.\u001b[39m_compute_missing_values_in_feature_mask(X)\n\u001b[1;32m    248\u001b[0m )\n\u001b[1;32m    249\u001b[0m \u001b[38;5;28;01mif\u001b[39;00m issparse(X):\n",
      "File \u001b[0;32m/opt/conda/lib/python3.9/site-packages/sklearn/base.py:620\u001b[0m, in \u001b[0;36mBaseEstimator._validate_data\u001b[0;34m(self, X, y, reset, validate_separately, cast_to_ndarray, **check_params)\u001b[0m\n\u001b[1;32m    618\u001b[0m     \u001b[38;5;28;01mif\u001b[39;00m \u001b[38;5;124m\"\u001b[39m\u001b[38;5;124mestimator\u001b[39m\u001b[38;5;124m\"\u001b[39m \u001b[38;5;129;01mnot\u001b[39;00m \u001b[38;5;129;01min\u001b[39;00m check_y_params:\n\u001b[1;32m    619\u001b[0m         check_y_params \u001b[38;5;241m=\u001b[39m {\u001b[38;5;241m*\u001b[39m\u001b[38;5;241m*\u001b[39mdefault_check_params, \u001b[38;5;241m*\u001b[39m\u001b[38;5;241m*\u001b[39mcheck_y_params}\n\u001b[0;32m--> 620\u001b[0m     y \u001b[38;5;241m=\u001b[39m \u001b[43mcheck_array\u001b[49m\u001b[43m(\u001b[49m\u001b[43my\u001b[49m\u001b[43m,\u001b[49m\u001b[43m \u001b[49m\u001b[43minput_name\u001b[49m\u001b[38;5;241;43m=\u001b[39;49m\u001b[38;5;124;43m\"\u001b[39;49m\u001b[38;5;124;43my\u001b[39;49m\u001b[38;5;124;43m\"\u001b[39;49m\u001b[43m,\u001b[49m\u001b[43m \u001b[49m\u001b[38;5;241;43m*\u001b[39;49m\u001b[38;5;241;43m*\u001b[39;49m\u001b[43mcheck_y_params\u001b[49m\u001b[43m)\u001b[49m\n\u001b[1;32m    621\u001b[0m \u001b[38;5;28;01melse\u001b[39;00m:\n\u001b[1;32m    622\u001b[0m     X, y \u001b[38;5;241m=\u001b[39m check_X_y(X, y, \u001b[38;5;241m*\u001b[39m\u001b[38;5;241m*\u001b[39mcheck_params)\n",
      "File \u001b[0;32m/opt/conda/lib/python3.9/site-packages/sklearn/utils/validation.py:957\u001b[0m, in \u001b[0;36mcheck_array\u001b[0;34m(array, accept_sparse, accept_large_sparse, dtype, order, copy, force_all_finite, ensure_2d, allow_nd, ensure_min_samples, ensure_min_features, estimator, input_name)\u001b[0m\n\u001b[1;32m    951\u001b[0m         \u001b[38;5;28;01mraise\u001b[39;00m \u001b[38;5;167;01mValueError\u001b[39;00m(\n\u001b[1;32m    952\u001b[0m             \u001b[38;5;124m\"\u001b[39m\u001b[38;5;124mFound array with dim \u001b[39m\u001b[38;5;132;01m%d\u001b[39;00m\u001b[38;5;124m. \u001b[39m\u001b[38;5;132;01m%s\u001b[39;00m\u001b[38;5;124m expected <= 2.\u001b[39m\u001b[38;5;124m\"\u001b[39m\n\u001b[1;32m    953\u001b[0m             \u001b[38;5;241m%\u001b[39m (array\u001b[38;5;241m.\u001b[39mndim, estimator_name)\n\u001b[1;32m    954\u001b[0m         )\n\u001b[1;32m    956\u001b[0m     \u001b[38;5;28;01mif\u001b[39;00m force_all_finite:\n\u001b[0;32m--> 957\u001b[0m         \u001b[43m_assert_all_finite\u001b[49m\u001b[43m(\u001b[49m\n\u001b[1;32m    958\u001b[0m \u001b[43m            \u001b[49m\u001b[43marray\u001b[49m\u001b[43m,\u001b[49m\n\u001b[1;32m    959\u001b[0m \u001b[43m            \u001b[49m\u001b[43minput_name\u001b[49m\u001b[38;5;241;43m=\u001b[39;49m\u001b[43minput_name\u001b[49m\u001b[43m,\u001b[49m\n\u001b[1;32m    960\u001b[0m \u001b[43m            \u001b[49m\u001b[43mestimator_name\u001b[49m\u001b[38;5;241;43m=\u001b[39;49m\u001b[43mestimator_name\u001b[49m\u001b[43m,\u001b[49m\n\u001b[1;32m    961\u001b[0m \u001b[43m            \u001b[49m\u001b[43mallow_nan\u001b[49m\u001b[38;5;241;43m=\u001b[39;49m\u001b[43mforce_all_finite\u001b[49m\u001b[43m \u001b[49m\u001b[38;5;241;43m==\u001b[39;49m\u001b[43m \u001b[49m\u001b[38;5;124;43m\"\u001b[39;49m\u001b[38;5;124;43mallow-nan\u001b[39;49m\u001b[38;5;124;43m\"\u001b[39;49m\u001b[43m,\u001b[49m\n\u001b[1;32m    962\u001b[0m \u001b[43m        \u001b[49m\u001b[43m)\u001b[49m\n\u001b[1;32m    964\u001b[0m \u001b[38;5;28;01mif\u001b[39;00m ensure_min_samples \u001b[38;5;241m>\u001b[39m \u001b[38;5;241m0\u001b[39m:\n\u001b[1;32m    965\u001b[0m     n_samples \u001b[38;5;241m=\u001b[39m _num_samples(array)\n",
      "File \u001b[0;32m/opt/conda/lib/python3.9/site-packages/sklearn/utils/validation.py:107\u001b[0m, in \u001b[0;36m_assert_all_finite\u001b[0;34m(X, allow_nan, msg_dtype, estimator_name, input_name)\u001b[0m\n\u001b[1;32m    105\u001b[0m \u001b[38;5;28;01mif\u001b[39;00m X\u001b[38;5;241m.\u001b[39mdtype \u001b[38;5;241m==\u001b[39m np\u001b[38;5;241m.\u001b[39mdtype(\u001b[38;5;124m\"\u001b[39m\u001b[38;5;124mobject\u001b[39m\u001b[38;5;124m\"\u001b[39m) \u001b[38;5;129;01mand\u001b[39;00m \u001b[38;5;129;01mnot\u001b[39;00m allow_nan:\n\u001b[1;32m    106\u001b[0m     \u001b[38;5;28;01mif\u001b[39;00m _object_dtype_isnan(X)\u001b[38;5;241m.\u001b[39many():\n\u001b[0;32m--> 107\u001b[0m         \u001b[38;5;28;01mraise\u001b[39;00m \u001b[38;5;167;01mValueError\u001b[39;00m(\u001b[38;5;124m\"\u001b[39m\u001b[38;5;124mInput contains NaN\u001b[39m\u001b[38;5;124m\"\u001b[39m)\n\u001b[1;32m    109\u001b[0m \u001b[38;5;66;03m# We need only consider float arrays, hence can early return for all else.\u001b[39;00m\n\u001b[1;32m    110\u001b[0m \u001b[38;5;28;01mif\u001b[39;00m \u001b[38;5;129;01mnot\u001b[39;00m xp\u001b[38;5;241m.\u001b[39misdtype(X\u001b[38;5;241m.\u001b[39mdtype, (\u001b[38;5;124m\"\u001b[39m\u001b[38;5;124mreal floating\u001b[39m\u001b[38;5;124m\"\u001b[39m, \u001b[38;5;124m\"\u001b[39m\u001b[38;5;124mcomplex floating\u001b[39m\u001b[38;5;124m\"\u001b[39m)):\n",
      "\u001b[0;31mValueError\u001b[0m: Input contains NaN"
     ]
    }
   ],
   "source": [
    "#from sklearn.tree import DecisionTreeClassifier\n",
    "dtc = DecisionTreeClassifier()\n",
    "dtc.fit(X_train, y_train)"
   ]
  },
  {
   "cell_type": "code",
   "execution_count": 138,
   "id": "bfc8de87-9892-4191-9039-0396bdd2bca8",
   "metadata": {},
   "outputs": [
    {
     "data": {
      "text/html": [
       "<style>#sk-container-id-4 {color: black;}#sk-container-id-4 pre{padding: 0;}#sk-container-id-4 div.sk-toggleable {background-color: white;}#sk-container-id-4 label.sk-toggleable__label {cursor: pointer;display: block;width: 100%;margin-bottom: 0;padding: 0.3em;box-sizing: border-box;text-align: center;}#sk-container-id-4 label.sk-toggleable__label-arrow:before {content: \"▸\";float: left;margin-right: 0.25em;color: #696969;}#sk-container-id-4 label.sk-toggleable__label-arrow:hover:before {color: black;}#sk-container-id-4 div.sk-estimator:hover label.sk-toggleable__label-arrow:before {color: black;}#sk-container-id-4 div.sk-toggleable__content {max-height: 0;max-width: 0;overflow: hidden;text-align: left;background-color: #f0f8ff;}#sk-container-id-4 div.sk-toggleable__content pre {margin: 0.2em;color: black;border-radius: 0.25em;background-color: #f0f8ff;}#sk-container-id-4 input.sk-toggleable__control:checked~div.sk-toggleable__content {max-height: 200px;max-width: 100%;overflow: auto;}#sk-container-id-4 input.sk-toggleable__control:checked~label.sk-toggleable__label-arrow:before {content: \"▾\";}#sk-container-id-4 div.sk-estimator input.sk-toggleable__control:checked~label.sk-toggleable__label {background-color: #d4ebff;}#sk-container-id-4 div.sk-label input.sk-toggleable__control:checked~label.sk-toggleable__label {background-color: #d4ebff;}#sk-container-id-4 input.sk-hidden--visually {border: 0;clip: rect(1px 1px 1px 1px);clip: rect(1px, 1px, 1px, 1px);height: 1px;margin: -1px;overflow: hidden;padding: 0;position: absolute;width: 1px;}#sk-container-id-4 div.sk-estimator {font-family: monospace;background-color: #f0f8ff;border: 1px dotted black;border-radius: 0.25em;box-sizing: border-box;margin-bottom: 0.5em;}#sk-container-id-4 div.sk-estimator:hover {background-color: #d4ebff;}#sk-container-id-4 div.sk-parallel-item::after {content: \"\";width: 100%;border-bottom: 1px solid gray;flex-grow: 1;}#sk-container-id-4 div.sk-label:hover label.sk-toggleable__label {background-color: #d4ebff;}#sk-container-id-4 div.sk-serial::before {content: \"\";position: absolute;border-left: 1px solid gray;box-sizing: border-box;top: 0;bottom: 0;left: 50%;z-index: 0;}#sk-container-id-4 div.sk-serial {display: flex;flex-direction: column;align-items: center;background-color: white;padding-right: 0.2em;padding-left: 0.2em;position: relative;}#sk-container-id-4 div.sk-item {position: relative;z-index: 1;}#sk-container-id-4 div.sk-parallel {display: flex;align-items: stretch;justify-content: center;background-color: white;position: relative;}#sk-container-id-4 div.sk-item::before, #sk-container-id-4 div.sk-parallel-item::before {content: \"\";position: absolute;border-left: 1px solid gray;box-sizing: border-box;top: 0;bottom: 0;left: 50%;z-index: -1;}#sk-container-id-4 div.sk-parallel-item {display: flex;flex-direction: column;z-index: 1;position: relative;background-color: white;}#sk-container-id-4 div.sk-parallel-item:first-child::after {align-self: flex-end;width: 50%;}#sk-container-id-4 div.sk-parallel-item:last-child::after {align-self: flex-start;width: 50%;}#sk-container-id-4 div.sk-parallel-item:only-child::after {width: 0;}#sk-container-id-4 div.sk-dashed-wrapped {border: 1px dashed gray;margin: 0 0.4em 0.5em 0.4em;box-sizing: border-box;padding-bottom: 0.4em;background-color: white;}#sk-container-id-4 div.sk-label label {font-family: monospace;font-weight: bold;display: inline-block;line-height: 1.2em;}#sk-container-id-4 div.sk-label-container {text-align: center;}#sk-container-id-4 div.sk-container {/* jupyter's `normalize.less` sets `[hidden] { display: none; }` but bootstrap.min.css set `[hidden] { display: none !important; }` so we also need the `!important` here to be able to override the default hidden behavior on the sphinx rendered scikit-learn.org. See: https://github.com/scikit-learn/scikit-learn/issues/21755 */display: inline-block !important;position: relative;}#sk-container-id-4 div.sk-text-repr-fallback {display: none;}</style><div id=\"sk-container-id-4\" class=\"sk-top-container\"><div class=\"sk-text-repr-fallback\"><pre>RFE(estimator=LinearRegression(), n_features_to_select=10)</pre><b>In a Jupyter environment, please rerun this cell to show the HTML representation or trust the notebook. <br />On GitHub, the HTML representation is unable to render, please try loading this page with nbviewer.org.</b></div><div class=\"sk-container\" hidden><div class=\"sk-item sk-dashed-wrapped\"><div class=\"sk-label-container\"><div class=\"sk-label sk-toggleable\"><input class=\"sk-toggleable__control sk-hidden--visually\" id=\"sk-estimator-id-8\" type=\"checkbox\" ><label for=\"sk-estimator-id-8\" class=\"sk-toggleable__label sk-toggleable__label-arrow\">RFE</label><div class=\"sk-toggleable__content\"><pre>RFE(estimator=LinearRegression(), n_features_to_select=10)</pre></div></div></div><div class=\"sk-parallel\"><div class=\"sk-parallel-item\"><div class=\"sk-item\"><div class=\"sk-label-container\"><div class=\"sk-label sk-toggleable\"><input class=\"sk-toggleable__control sk-hidden--visually\" id=\"sk-estimator-id-9\" type=\"checkbox\" ><label for=\"sk-estimator-id-9\" class=\"sk-toggleable__label sk-toggleable__label-arrow\">estimator: LinearRegression</label><div class=\"sk-toggleable__content\"><pre>LinearRegression()</pre></div></div></div><div class=\"sk-serial\"><div class=\"sk-item\"><div class=\"sk-estimator sk-toggleable\"><input class=\"sk-toggleable__control sk-hidden--visually\" id=\"sk-estimator-id-10\" type=\"checkbox\" ><label for=\"sk-estimator-id-10\" class=\"sk-toggleable__label sk-toggleable__label-arrow\">LinearRegression</label><div class=\"sk-toggleable__content\"><pre>LinearRegression()</pre></div></div></div></div></div></div></div></div></div></div>"
      ],
      "text/plain": [
       "RFE(estimator=LinearRegression(), n_features_to_select=10)"
      ]
     },
     "execution_count": 138,
     "metadata": {},
     "output_type": "execute_result"
    }
   ],
   "source": [
    "# Feature Selection using Recursive Feature Elimination (RFE)\n",
    "model = LinearRegression()\n",
    "rfe = RFE(model, n_features_to_select=10)  # Adjust the number of features to select\n",
    "rfe.fit(X_train, y_train)"
   ]
  },
  {
   "cell_type": "code",
   "execution_count": 139,
   "id": "e8f1c9d2-706a-49f8-9950-cce17e7a8d30",
   "metadata": {},
   "outputs": [
    {
     "name": "stdout",
     "output_type": "stream",
     "text": [
      "Selected features by RFE: Index(['UNITPRICE', 'PR_AVG_UNIT_PRICE', 'PR_NUMBER_OF_ORDERS',\n",
      "       'CAT_TOTAL_SALES_VOLUME', 'CAT_TOTAL_SALES_VALUE',\n",
      "       'CAT_AVG_ORDER_QUANTITY', 'CAT_AVG_UNIT_PRICE', 'CAT_NUMBER_OF_ORDERS',\n",
      "       'CAT_AVG_DELIVERY_TIME', 'CAT_AVG_INVOICE_TIME'],\n",
      "      dtype='object')\n"
     ]
    }
   ],
   "source": [
    "# Get the selected features\n",
    "selected_features_rfe = X.columns[rfe.support_]\n",
    "print(f'Selected features by RFE: {selected_features_rfe}')"
   ]
  },
  {
   "cell_type": "code",
   "execution_count": 140,
   "id": "d1e1ace5-cc2e-4114-aec2-8a348204b26d",
   "metadata": {},
   "outputs": [
    {
     "data": {
      "text/html": [
       "<style>#sk-container-id-5 {color: black;}#sk-container-id-5 pre{padding: 0;}#sk-container-id-5 div.sk-toggleable {background-color: white;}#sk-container-id-5 label.sk-toggleable__label {cursor: pointer;display: block;width: 100%;margin-bottom: 0;padding: 0.3em;box-sizing: border-box;text-align: center;}#sk-container-id-5 label.sk-toggleable__label-arrow:before {content: \"▸\";float: left;margin-right: 0.25em;color: #696969;}#sk-container-id-5 label.sk-toggleable__label-arrow:hover:before {color: black;}#sk-container-id-5 div.sk-estimator:hover label.sk-toggleable__label-arrow:before {color: black;}#sk-container-id-5 div.sk-toggleable__content {max-height: 0;max-width: 0;overflow: hidden;text-align: left;background-color: #f0f8ff;}#sk-container-id-5 div.sk-toggleable__content pre {margin: 0.2em;color: black;border-radius: 0.25em;background-color: #f0f8ff;}#sk-container-id-5 input.sk-toggleable__control:checked~div.sk-toggleable__content {max-height: 200px;max-width: 100%;overflow: auto;}#sk-container-id-5 input.sk-toggleable__control:checked~label.sk-toggleable__label-arrow:before {content: \"▾\";}#sk-container-id-5 div.sk-estimator input.sk-toggleable__control:checked~label.sk-toggleable__label {background-color: #d4ebff;}#sk-container-id-5 div.sk-label input.sk-toggleable__control:checked~label.sk-toggleable__label {background-color: #d4ebff;}#sk-container-id-5 input.sk-hidden--visually {border: 0;clip: rect(1px 1px 1px 1px);clip: rect(1px, 1px, 1px, 1px);height: 1px;margin: -1px;overflow: hidden;padding: 0;position: absolute;width: 1px;}#sk-container-id-5 div.sk-estimator {font-family: monospace;background-color: #f0f8ff;border: 1px dotted black;border-radius: 0.25em;box-sizing: border-box;margin-bottom: 0.5em;}#sk-container-id-5 div.sk-estimator:hover {background-color: #d4ebff;}#sk-container-id-5 div.sk-parallel-item::after {content: \"\";width: 100%;border-bottom: 1px solid gray;flex-grow: 1;}#sk-container-id-5 div.sk-label:hover label.sk-toggleable__label {background-color: #d4ebff;}#sk-container-id-5 div.sk-serial::before {content: \"\";position: absolute;border-left: 1px solid gray;box-sizing: border-box;top: 0;bottom: 0;left: 50%;z-index: 0;}#sk-container-id-5 div.sk-serial {display: flex;flex-direction: column;align-items: center;background-color: white;padding-right: 0.2em;padding-left: 0.2em;position: relative;}#sk-container-id-5 div.sk-item {position: relative;z-index: 1;}#sk-container-id-5 div.sk-parallel {display: flex;align-items: stretch;justify-content: center;background-color: white;position: relative;}#sk-container-id-5 div.sk-item::before, #sk-container-id-5 div.sk-parallel-item::before {content: \"\";position: absolute;border-left: 1px solid gray;box-sizing: border-box;top: 0;bottom: 0;left: 50%;z-index: -1;}#sk-container-id-5 div.sk-parallel-item {display: flex;flex-direction: column;z-index: 1;position: relative;background-color: white;}#sk-container-id-5 div.sk-parallel-item:first-child::after {align-self: flex-end;width: 50%;}#sk-container-id-5 div.sk-parallel-item:last-child::after {align-self: flex-start;width: 50%;}#sk-container-id-5 div.sk-parallel-item:only-child::after {width: 0;}#sk-container-id-5 div.sk-dashed-wrapped {border: 1px dashed gray;margin: 0 0.4em 0.5em 0.4em;box-sizing: border-box;padding-bottom: 0.4em;background-color: white;}#sk-container-id-5 div.sk-label label {font-family: monospace;font-weight: bold;display: inline-block;line-height: 1.2em;}#sk-container-id-5 div.sk-label-container {text-align: center;}#sk-container-id-5 div.sk-container {/* jupyter's `normalize.less` sets `[hidden] { display: none; }` but bootstrap.min.css set `[hidden] { display: none !important; }` so we also need the `!important` here to be able to override the default hidden behavior on the sphinx rendered scikit-learn.org. See: https://github.com/scikit-learn/scikit-learn/issues/21755 */display: inline-block !important;position: relative;}#sk-container-id-5 div.sk-text-repr-fallback {display: none;}</style><div id=\"sk-container-id-5\" class=\"sk-top-container\"><div class=\"sk-text-repr-fallback\"><pre>RandomForestRegressor(random_state=42)</pre><b>In a Jupyter environment, please rerun this cell to show the HTML representation or trust the notebook. <br />On GitHub, the HTML representation is unable to render, please try loading this page with nbviewer.org.</b></div><div class=\"sk-container\" hidden><div class=\"sk-item\"><div class=\"sk-estimator sk-toggleable\"><input class=\"sk-toggleable__control sk-hidden--visually\" id=\"sk-estimator-id-11\" type=\"checkbox\" checked><label for=\"sk-estimator-id-11\" class=\"sk-toggleable__label sk-toggleable__label-arrow\">RandomForestRegressor</label><div class=\"sk-toggleable__content\"><pre>RandomForestRegressor(random_state=42)</pre></div></div></div></div></div>"
      ],
      "text/plain": [
       "RandomForestRegressor(random_state=42)"
      ]
     },
     "execution_count": 140,
     "metadata": {},
     "output_type": "execute_result"
    }
   ],
   "source": [
    "# Feature Selection using Random Forest feature importance\n",
    "model_rf = RandomForestRegressor(n_estimators=100, random_state=42)\n",
    "model_rf.fit(X_train, y_train)"
   ]
  },
  {
   "cell_type": "code",
   "execution_count": 141,
   "id": "c6d380c0-fe67-4dbb-ae0f-38c568a8462f",
   "metadata": {},
   "outputs": [
    {
     "name": "stdout",
     "output_type": "stream",
     "text": [
      "Selected features by Random Forest: Index(['WEEKEND', 'PR_AVG_INVOICE_TIME', 'PR_AVG_DELIVERY_TIME', 'YEAR',\n",
      "       'MONTH', 'DELIVERY_DELAY', 'WEEK', 'DAY_OF_THE_MONTH', 'ORDERQUANTITY',\n",
      "       'ORDERVALUE'],\n",
      "      dtype='object')\n"
     ]
    }
   ],
   "source": [
    "# Get feature importances\n",
    "importances = model_rf.feature_importances_\n",
    "indices = np.argsort(importances)[-10:]  # Select top 10 features\n",
    "selected_features_rf = X.columns[indices]\n",
    "print(f'Selected features by Random Forest: {selected_features_rf}')"
   ]
  },
  {
   "cell_type": "code",
   "execution_count": 142,
   "id": "55ec3497-7f66-42ba-bfac-12ddabfd38fe",
   "metadata": {},
   "outputs": [
    {
     "name": "stdout",
     "output_type": "stream",
     "text": [
      "Combined selected features: ['ORDERVALUE', 'UNITPRICE', 'CAT_AVG_INVOICE_TIME', 'PR_AVG_DELIVERY_TIME', 'WEEKEND', 'PR_NUMBER_OF_ORDERS', 'CAT_AVG_ORDER_QUANTITY', 'MONTH', 'WEEK', 'CAT_AVG_UNIT_PRICE', 'DELIVERY_DELAY', 'YEAR', 'CAT_TOTAL_SALES_VOLUME', 'DAY_OF_THE_MONTH', 'CAT_NUMBER_OF_ORDERS', 'PR_AVG_INVOICE_TIME', 'CAT_AVG_DELIVERY_TIME', 'PR_AVG_UNIT_PRICE', 'ORDERQUANTITY', 'CAT_TOTAL_SALES_VALUE']\n"
     ]
    }
   ],
   "source": [
    "# Combine selected features from both methods (optional)\n",
    "selected_features = list(set(selected_features_rfe) | set(selected_features_rf))\n",
    "print(f'Combined selected features: {selected_features}')"
   ]
  },
  {
   "cell_type": "code",
   "execution_count": 143,
   "id": "765a9b51-75db-4773-8fba-71cf55a4fa31",
   "metadata": {},
   "outputs": [],
   "source": [
    "# Reduce the dataframe to selected features\n",
    "X_train_selected = X_train[selected_features]\n",
    "X_test_selected = X_test[selected_features]"
   ]
  },
  {
   "cell_type": "code",
   "execution_count": 144,
   "id": "4ef05843-173c-48e0-b862-8e1ef3816ac9",
   "metadata": {},
   "outputs": [],
   "source": [
    "# Define a list of regression models to train\n",
    "models = [\n",
    "    ('Linear Regression', LinearRegression()),\n",
    "    ('Random Forest', RandomForestRegressor(n_estimators=100, random_state=42)),\n",
    "    ('Support Vector Regressor', SVR())\n",
    "]"
   ]
  },
  {
   "cell_type": "code",
   "execution_count": null,
   "id": "8d402431-6cb9-4145-888f-ee6c0bf31ae6",
   "metadata": {},
   "outputs": [
    {
     "name": "stdout",
     "output_type": "stream",
     "text": [
      "Linear Regression - Mean Squared Error: 0.07496596300002328\n",
      "Linear Regression - Mean Absolute Error: 0.234970147449601\n",
      "Linear Regression - MAPE : 50505571160638.22\n",
      "Linear Regression - R2 Score : 0.0003977951881123376\n",
      "Random Forest - Mean Squared Error: 0.08010892032955419\n",
      "Random Forest - Mean Absolute Error: 0.2408518982954685\n",
      "Random Forest - MAPE : 50410238487456.03\n",
      "Random Forest - R2 Score : -0.06817881318348884\n"
     ]
    }
   ],
   "source": [
    "for name, model in models:\n",
    "    pipeline = Pipeline([\n",
    "        ('regressor', model)\n",
    "    ])\n",
    "    \n",
    "    # Train the model\n",
    "    pipeline.fit(X_train_selected, y_train)\n",
    "    \n",
    "    # Predict on the test set\n",
    "    y_pred = pipeline.predict(X_test_selected)\n",
    "    \n",
    "    # Evaluate the model\n",
    "    mse = mean_squared_error(y_test, y_pred)\n",
    "    mae = mean_absolute_error(y_test, y_pred)\n",
    "    mape = mean_absolute_percentage_error(y_test, y_pred)\n",
    "    r2 = r2_score(y_test, y_pred)\n",
    "    print(f'{name} - Mean Squared Error: {mse}')\n",
    "    print(f'{name} - Mean Absolute Error: {mae}')\n",
    "    print(f'{name} - MAPE : {mape}')\n",
    "    print(f'{name} - R2 Score : {r2}')\n",
    "    \n",
    "    # Cross-validation score\n",
    "    #cv_scores = cross_val_score(pipeline, X, y, cv=5, scoring='neg_mean_squared_error')\n",
    "    #print(f'{name} - Cross-Validation MSE: {-cv_scores.mean()}')"
   ]
  },
  {
   "cell_type": "code",
   "execution_count": null,
   "id": "7b0de76b-2966-456e-ad74-63bdbb943e2e",
   "metadata": {},
   "outputs": [],
   "source": []
  },
  {
   "cell_type": "code",
   "execution_count": null,
   "id": "ce64e235-a5bf-4d97-a936-21175e1d3288",
   "metadata": {},
   "outputs": [],
   "source": []
  },
  {
   "cell_type": "code",
   "execution_count": null,
   "id": "e6cb0314-43f5-4522-b22b-4ffd7be952ff",
   "metadata": {},
   "outputs": [],
   "source": []
  },
  {
   "cell_type": "code",
   "execution_count": null,
   "id": "54eb9167-881b-4677-884c-fb23a5284785",
   "metadata": {},
   "outputs": [],
   "source": []
  },
  {
   "cell_type": "code",
   "execution_count": null,
   "id": "0a0ad52e-1ad7-4827-bc66-c59e69b684d7",
   "metadata": {},
   "outputs": [],
   "source": []
  }
 ],
 "metadata": {
  "kernelspec": {
   "display_name": "Python 3 (ipykernel)",
   "language": "python",
   "name": "python3"
  },
  "language_info": {
   "codemirror_mode": {
    "name": "ipython",
    "version": 3
   },
   "file_extension": ".py",
   "mimetype": "text/x-python",
   "name": "python",
   "nbconvert_exporter": "python",
   "pygments_lexer": "ipython3",
   "version": "3.9.19"
  }
 },
 "nbformat": 4,
 "nbformat_minor": 5
}
