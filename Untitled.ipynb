{
 "cells": [
  {
   "cell_type": "code",
   "execution_count": 1,
   "id": "2beea587-4333-4656-bfee-093ba7f23584",
   "metadata": {},
   "outputs": [],
   "source": [
    "import random\n",
    "from faker import Faker\n",
    "import pandas as pd"
   ]
  },
  {
   "cell_type": "code",
   "execution_count": 2,
   "id": "1f98c5d3-707d-401b-affc-84f3e461cc76",
   "metadata": {},
   "outputs": [],
   "source": [
    "fake = Faker()"
   ]
  },
  {
   "cell_type": "code",
   "execution_count": null,
   "id": "09d3c775-bf8e-4cc2-966f-bdc3216e3014",
   "metadata": {},
   "outputs": [],
   "source": [
    "# Generate Customers\n",
    "def generate_customers(num_customers=100):\n",
    "    customers = []\n",
    "    for _ in range(num_customers):\n",
    "        customer = {\n",
    "            'CustomerID': fake.uuid4(),\n",
    "            'Name': fake.name(),\n",
    "            'ContactDetails': fake.phone_number(),\n",
    "            'CreditLimit': random.randint(10000, 100000),\n",
    "            'CreditRating': random.choice(['A', 'B', 'C', 'D'])\n",
    "        }\n",
    "        customers.append(customer)\n",
    "    return customers\n"
   ]
  },
  {
   "cell_type": "code",
   "execution_count": null,
   "id": "a9fd2f86-cee0-4ce4-9264-cc6992e987a7",
   "metadata": {},
   "outputs": [],
   "source": [
    "# Generate Products\n",
    "def generate_products(num_products=30):\n",
    "    products = []\n",
    "    for _ in range(num_products):\n",
    "        product = {\n",
    "            'ProductID': fake.uuid4(),\n",
    "            'Name': fake.word(),\n",
    "            'Description': fake.sentence(),\n",
    "            'Price': round(random.uniform(10, 1000), 2),\n",
    "            'StockQuantity': random.randint(100, 1000)\n",
    "        }\n",
    "        products.append(product)\n",
    "    return products"
   ]
  },
  {
   "cell_type": "code",
   "execution_count": null,
   "id": "991f5aab-5473-4229-bc98-fc2dbc5128f4",
   "metadata": {},
   "outputs": [],
   "source": [
    "# Generate Orders and Order Items\n",
    "def generate_orders_and_items(customers, products, num_orders=100000):\n",
    "    orders = []\n",
    "    order_items = []\n",
    "    shipments = []\n",
    "    invoices = []\n",
    "    payments = []\n",
    "    statuses = ['Fulfilled', 'Delayed Fulfillment', 'Pending Payment']\n",
    "\n",
    "\n",
    "   for _ in range(num_orders):\n",
    "        customer = random.choice(customers)\n",
    "        order_status = random.choice(statuses)\n",
    "        order_id = fake.uuid4()\n",
    "        order_date = fake.date_this_year()\n",
    "        total_amount = 0\n",
    "\n",
    "        order = {\n",
    "            'OrderID': order_id,\n",
    "            'CustomerID': customer['CustomerID'],\n",
    "            'OrderDate': order_date,\n",
    "            'OrderStatus': order_status,\n",
    "            'TotalAmount': total_amount  # Will be updated later\n",
    "        }\n",
    "       orders.append(order)\n",
    "\n",
    "       "
   ]
  },
  {
   "cell_type": "code",
   "execution_count": null,
   "id": "162b05a1-3614-4002-a373-b0ff9e713b21",
   "metadata": {},
   "outputs": [],
   "source": []
  },
  {
   "cell_type": "code",
   "execution_count": null,
   "id": "672355d9-3344-428e-94b5-63257d97840c",
   "metadata": {},
   "outputs": [],
   "source": []
  },
  {
   "cell_type": "code",
   "execution_count": null,
   "id": "87f701c7-bfc0-405a-811a-a561257923cc",
   "metadata": {},
   "outputs": [],
   "source": []
  },
  {
   "cell_type": "code",
   "execution_count": null,
   "id": "bd5fec1c-fe99-48da-a21b-b97f2642db96",
   "metadata": {},
   "outputs": [],
   "source": []
  },
  {
   "cell_type": "code",
   "execution_count": null,
   "id": "04ce9cfb-c637-4d0f-8fdb-5dfbbc0fdf40",
   "metadata": {},
   "outputs": [],
   "source": []
  },
  {
   "cell_type": "code",
   "execution_count": null,
   "id": "077cf502-6fb2-42ff-8294-59ddbbf48218",
   "metadata": {},
   "outputs": [],
   "source": []
  },
  {
   "cell_type": "code",
   "execution_count": null,
   "id": "34e6a192-5c7e-4257-a72d-17d0090d2374",
   "metadata": {},
   "outputs": [],
   "source": []
  },
  {
   "cell_type": "code",
   "execution_count": null,
   "id": "5e7f0b24-ae47-4fb5-aeba-d20fb5877e51",
   "metadata": {},
   "outputs": [],
   "source": []
  },
  {
   "cell_type": "code",
   "execution_count": null,
   "id": "bb4c77cc-8b0b-4dca-8783-91c264f794a5",
   "metadata": {},
   "outputs": [],
   "source": []
  },
  {
   "cell_type": "code",
   "execution_count": null,
   "id": "5b55dda6-3103-47b1-907c-ec3b836d2c0d",
   "metadata": {},
   "outputs": [],
   "source": []
  },
  {
   "cell_type": "code",
   "execution_count": null,
   "id": "150eea50-f9bf-456b-9a54-0e59f911cbba",
   "metadata": {},
   "outputs": [],
   "source": []
  },
  {
   "cell_type": "code",
   "execution_count": null,
   "id": "fae9ee56-953b-4068-b008-bb8ced8c8f44",
   "metadata": {},
   "outputs": [],
   "source": []
  },
  {
   "cell_type": "code",
   "execution_count": null,
   "id": "011936d8-60d4-4125-adc1-9369bfac4d4c",
   "metadata": {},
   "outputs": [],
   "source": []
  },
  {
   "cell_type": "code",
   "execution_count": null,
   "id": "f3ba6283-f7b6-4c3c-8056-9ea3223c5458",
   "metadata": {},
   "outputs": [],
   "source": []
  },
  {
   "cell_type": "code",
   "execution_count": null,
   "id": "047ef9f5-b52f-423e-9b72-43ebec2fb3d4",
   "metadata": {},
   "outputs": [],
   "source": []
  },
  {
   "cell_type": "code",
   "execution_count": null,
   "id": "8271ca1d-c983-476b-b8a5-c0b364a62741",
   "metadata": {},
   "outputs": [],
   "source": []
  }
 ],
 "metadata": {
  "kernelspec": {
   "display_name": "Python 3 (ipykernel)",
   "language": "python",
   "name": "python3"
  },
  "language_info": {
   "codemirror_mode": {
    "name": "ipython",
    "version": 3
   },
   "file_extension": ".py",
   "mimetype": "text/x-python",
   "name": "python",
   "nbconvert_exporter": "python",
   "pygments_lexer": "ipython3",
   "version": "3.9.19"
  }
 },
 "nbformat": 4,
 "nbformat_minor": 5
}
