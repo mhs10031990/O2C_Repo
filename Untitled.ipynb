{
 "cells": [
  {
   "cell_type": "code",
   "execution_count": 1,
   "id": "ed8dcaf9-7bd3-4e70-aeb6-80c46f023ce6",
   "metadata": {},
   "outputs": [],
   "source": [
    "import random\n",
    "from faker import Faker\n",
    "import pandas as pd"
   ]
  },
  {
   "cell_type": "code",
   "execution_count": 2,
   "id": "10df9d2f-76b5-4eea-b515-8e29c243053b",
   "metadata": {},
   "outputs": [],
   "source": [
    "fake = Faker('en_US')"
   ]
  },
  {
   "cell_type": "code",
   "execution_count": 3,
   "id": "7c9205e4-36eb-4bec-a1d9-6000fb531197",
   "metadata": {},
   "outputs": [
    {
     "data": {
      "text/plain": [
       "'LLC'"
      ]
     },
     "execution_count": 3,
     "metadata": {},
     "output_type": "execute_result"
    }
   ],
   "source": [
    "fake.company_suffix()"
   ]
  },
  {
   "cell_type": "code",
   "execution_count": 4,
   "id": "51ed4b6a-76a0-46f2-9fe6-57a49e8d51b5",
   "metadata": {},
   "outputs": [],
   "source": [
    "# Generate Customers\n",
    "def generate_customers(num_customers=100):\n",
    "    customers = []\n",
    "    for _ in range(num_customers):\n",
    "        customer = {\n",
    "            'CustomerID': fake.uuid4(),\n",
    "            'Name': fake.company(),\n",
    "            'CompanyType':fake.company_suffix(),\n",
    "            'ContactDetails': fake.phone_number(),\n",
    "            'EmailDetails': fake.company_email(),\n",
    "            'AddressDetails':fake.address(),\n",
    "            'AdminDetails':fake.administrative_unit(),\n",
    "            'CreditLimit': random.randint(10000, 100000),\n",
    "            'CreditRating': random.choice(['very poor', 'fair', 'good', 'very good','exceptional'])\n",
    "        }\n",
    "        customers.append(customer)\n",
    "    return customers"
   ]
  },
  {
   "cell_type": "code",
   "execution_count": 5,
   "id": "879271a8-de76-453b-b370-005b5c7aa490",
   "metadata": {},
   "outputs": [],
   "source": [
    "# Generate Data\n",
    "customers = generate_customers()"
   ]
  },
  {
   "cell_type": "code",
   "execution_count": 6,
   "id": "0a659c31-a03e-4a46-b6e2-f982caa6ae5c",
   "metadata": {},
   "outputs": [],
   "source": [
    "df_customers = pd.DataFrame(customers)"
   ]
  },
  {
   "cell_type": "code",
   "execution_count": null,
   "id": "024ce24b-fb95-409b-bccd-a92d598e4db7",
   "metadata": {},
   "outputs": [],
   "source": []
  }
 ],
 "metadata": {
  "kernelspec": {
   "display_name": "Python 3 (ipykernel)",
   "language": "python",
   "name": "python3"
  },
  "language_info": {
   "codemirror_mode": {
    "name": "ipython",
    "version": 3
   },
   "file_extension": ".py",
   "mimetype": "text/x-python",
   "name": "python",
   "nbconvert_exporter": "python",
   "pygments_lexer": "ipython3",
   "version": "3.9.19"
  }
 },
 "nbformat": 4,
 "nbformat_minor": 5
}
