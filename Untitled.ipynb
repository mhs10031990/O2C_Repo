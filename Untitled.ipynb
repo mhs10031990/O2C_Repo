{
 "cells": [
  {
   "cell_type": "code",
   "execution_count": null,
   "id": "2beea587-4333-4656-bfee-093ba7f23584",
   "metadata": {},
   "outputs": [],
   "source": []
  }
 ],
 "metadata": {
  "kernelspec": {
   "display_name": "",
   "name": ""
  },
  "language_info": {
   "name": ""
  }
 },
 "nbformat": 4,
 "nbformat_minor": 5
}
