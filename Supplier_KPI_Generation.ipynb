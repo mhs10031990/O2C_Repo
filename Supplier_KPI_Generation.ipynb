{
 "cells": [
  {
   "cell_type": "markdown",
   "id": "0bcad55b-31a7-4ec6-99d1-5c1adce88d6e",
   "metadata": {},
   "source": [
    "# Use O2C_Template Customized Notebook Template"
   ]
  },
  {
   "cell_type": "code",
   "execution_count": 2,
   "id": "4545a18a-ac99-4a61-87eb-685a9fc1d216",
   "metadata": {},
   "outputs": [],
   "source": [
    "import pandas as pd\n",
    "import numpy as np"
   ]
  },
  {
   "cell_type": "code",
   "execution_count": 3,
   "id": "fe2d2323-ae3c-4027-b777-5c40e16db890",
   "metadata": {},
   "outputs": [],
   "source": [
    "from fosforml.model_manager.snowflakesession import get_session\n",
    "my_session = get_session()"
   ]
  },
  {
   "cell_type": "code",
   "execution_count": 4,
   "id": "b5958b79-ef81-46ec-8591-926b906584dd",
   "metadata": {},
   "outputs": [],
   "source": [
    "#table_name = 'ORDER_TO_CASH_ENRICHED'\n",
    "table_name = 'ORDER_TO_CASH_MASTER'\n",
    "\n",
    "sf_df = my_session.sql(\"select * from {}\".format(table_name))\n",
    "df = sf_df.to_pandas()"
   ]
  },
  {
   "cell_type": "code",
   "execution_count": 5,
   "id": "1b452a02-6961-49fb-b2cd-ad499a0d21d2",
   "metadata": {},
   "outputs": [],
   "source": [
    "df_train = df[df['INVOICESTATUS'].isin(['LATE_PAYMENT','ONTIME_PAYMENT'])]\n",
    "df_test = df[~df['INVOICESTATUS'].isin(['LATE_PAYMENT','ONTIME_PAYMENT'])]"
   ]
  },
  {
   "cell_type": "code",
   "execution_count": 6,
   "id": "48250bbd-0aab-4c5b-9f78-2bb14e4cee79",
   "metadata": {},
   "outputs": [
    {
     "data": {
      "text/plain": [
       "((170445, 40), (2992, 40))"
      ]
     },
     "execution_count": 6,
     "metadata": {},
     "output_type": "execute_result"
    }
   ],
   "source": [
    "df_train.shape, df_test.shape"
   ]
  },
  {
   "cell_type": "code",
   "execution_count": 7,
   "id": "cb32c411-0adf-4d39-9c8a-22613b925acc",
   "metadata": {},
   "outputs": [],
   "source": [
    "# Assuming df is your dataframe\n",
    "df_train['ORDERDATE'] = pd.to_datetime(df_train['ORDERDATE'])\n",
    "df_train['DELIVERYDATE'] = pd.to_datetime(df_train['DELIVERYDATE'])\n",
    "df_train['INVOICEDATE'] = pd.to_datetime(df_train['INVOICEDATE'])\n",
    "df_train['PAYMENTDATE'] = pd.to_datetime(df_train['PAYMENTDATE'])\n",
    "df_train['INVOICEDUEDATE'] = pd.to_datetime(df_train['INVOICEDUEDATE'])"
   ]
  },
  {
   "cell_type": "code",
   "execution_count": 8,
   "id": "983ba561-f1b5-40e7-9405-20ff02923632",
   "metadata": {},
   "outputs": [],
   "source": [
    "df_train['DELIVEREDON'] = pd.to_datetime(df_train['DELIVEREDON'])"
   ]
  },
  {
   "cell_type": "code",
   "execution_count": 9,
   "id": "9248d603-23c0-404b-86b0-7c9d4058f139",
   "metadata": {},
   "outputs": [],
   "source": [
    "df_train['SHIPMENTDATE'] = pd.to_datetime(df_train['SHIPMENTDATE'])"
   ]
  },
  {
   "cell_type": "code",
   "execution_count": 10,
   "id": "4f24101f-c430-4861-a5ac-71a752d9baad",
   "metadata": {},
   "outputs": [],
   "source": [
    "# Order Processing Time\n",
    "df_train['SP_ORDER_PROCESSING_TIME'] = (df_train['SHIPMENTDATE'] - df_train['ORDERDATE']).dt.days\n",
    "\n",
    "# Order Value per Unit\n",
    "df_train['SP_ORDER_VALUE_PER_UNIT'] = df_train['ORDERVALUE'] / df_train['ORDERQUANTITY']\n",
    "\n",
    "# Delivery Delay\n",
    "df_train['SP_DELIVERY_DELAY'] = (df_train['DELIVEREDON'] - df_train['DELIVERYDATE']).dt.days"
   ]
  },
  {
   "cell_type": "code",
   "execution_count": 11,
   "id": "163e876c-ec4c-4a71-b316-b9a6db1f5ba7",
   "metadata": {},
   "outputs": [],
   "source": [
    "# Supplier Lifetime Value (CLV)\n",
    "clv = df_train.groupby('SUPPLIERID')['ORDERVALUE'].sum().reset_index()\n",
    "clv.columns = ['SUPPLIERID', 'SP_CUSTOMER_LIFETIME_VALUE']\n",
    "df_train = df_train.merge(clv, on='SUPPLIERID', how='left')"
   ]
  },
  {
   "cell_type": "code",
   "execution_count": 12,
   "id": "6d0685f0-9346-461f-8a16-34be731448bb",
   "metadata": {},
   "outputs": [],
   "source": [
    "# Order Frequency\n",
    "order_freq = df_train.groupby('SUPPLIERID')['ORDERID'].nunique().reset_index()\n",
    "order_freq.columns = ['SUPPLIERID', 'SP_ORDER_FREQUENCY']\n",
    "df_train = df_train.merge(order_freq, on='SUPPLIERID', how='left')"
   ]
  },
  {
   "cell_type": "code",
   "execution_count": 13,
   "id": "223f3d85-715b-4555-a803-3797dded95b2",
   "metadata": {},
   "outputs": [],
   "source": [
    "# Average Order Value\n",
    "avg_order_value = df_train.groupby('SUPPLIERID')['ORDERVALUE'].mean().reset_index()\n",
    "avg_order_value.columns = ['SUPPLIERID', 'SP_AVERAGE_ORDER_VALUE']\n",
    "df_train = df_train.merge(avg_order_value, on='SUPPLIERID', how='left')"
   ]
  },
  {
   "cell_type": "code",
   "execution_count": 14,
   "id": "a48fd59c-16e8-4ced-ba7a-2967e2e10ca3",
   "metadata": {},
   "outputs": [
    {
     "data": {
      "text/plain": [
       "Index(['ORDERID', 'ORDERITEMID', 'PRODUCTID', 'PRODUCTNAME', 'ORDERQUANTITY',\n",
       "       'UNITPRICE', 'ORDERVALUE', 'CUSTOMERID', 'CUSTOMERNAME',\n",
       "       'PRODUCTCATEGORY', 'ORDERDATE', 'ORDERSTATUS', 'ORDERAMOUNT',\n",
       "       'ORDERCOUNT', 'SHIPMENTID', 'SHIPMENTDATE', 'DELIVERYDATE',\n",
       "       'DELIVEREDON', 'CARRIER', 'SHIPMENTSTATUS', 'INVOICEID', 'INVOICEDATE',\n",
       "       'INVOICEDUEDATE', 'PAYMENTDATE', 'INVOICESTATUS', 'PAYMENTMETHOD',\n",
       "       'PRODUCTTYPE', 'QUANTITY', 'COMPANYTYPE', 'CONTACTDETAILS',\n",
       "       'EMAILDETAILS', 'ADDRESSDETAILS', 'ADMINDETAILS', 'CREDITLIMIT',\n",
       "       'CUSTOMERSINCE', 'PAYMENTTERMS', 'CREDITLIMITTYPE', 'CUSTOMERTYPE',\n",
       "       'SUPPLIERNAME', 'SUPPLIERID', 'SP_ORDER_PROCESSING_TIME',\n",
       "       'SP_ORDER_VALUE_PER_UNIT', 'SP_DELIVERY_DELAY',\n",
       "       'SP_CUSTOMER_LIFETIME_VALUE', 'SP_ORDER_FREQUENCY',\n",
       "       'SP_AVERAGE_ORDER_VALUE'],\n",
       "      dtype='object')"
      ]
     },
     "execution_count": 14,
     "metadata": {},
     "output_type": "execute_result"
    }
   ],
   "source": [
    "df_train.columns"
   ]
  },
  {
   "cell_type": "code",
   "execution_count": 15,
   "id": "e48e1c08-1667-4d3e-af80-cd1749552945",
   "metadata": {},
   "outputs": [],
   "source": [
    "# Average Order Processing Time\n",
    "avg_order_processing_time = df_train.groupby('SUPPLIERID')['SP_ORDER_PROCESSING_TIME'].mean().reset_index()\n",
    "avg_order_processing_time.columns = ['SUPPLIERID', 'SP_AVG_ORDER_PROCESSING_TIME']"
   ]
  },
  {
   "cell_type": "code",
   "execution_count": 16,
   "id": "40b06a82-58ba-4ec0-b4b3-4c090baff7bd",
   "metadata": {},
   "outputs": [],
   "source": [
    "# Average Delivery Delay\n",
    "avg_delivery_delay = df_train.groupby('SUPPLIERID')['SP_DELIVERY_DELAY'].mean().reset_index()\n",
    "avg_delivery_delay.columns = ['SUPPLIERID', 'SP_AVG_DELIVERY_DELAY']"
   ]
  },
  {
   "cell_type": "code",
   "execution_count": 17,
   "id": "4ff872da-87b1-40fe-aa4e-4e5ae8dcea23",
   "metadata": {},
   "outputs": [],
   "source": [
    "# Total Orders\n",
    "total_orders = df_train.groupby('SUPPLIERID')['SP_ORDER_PROCESSING_TIME'].count().reset_index()\n",
    "total_orders.columns = ['SUPPLIERID', 'SP_TOTAL_ORDERS']"
   ]
  },
  {
   "cell_type": "code",
   "execution_count": 18,
   "id": "48acbf36-677c-43ac-b2bb-11e0dcb53bf8",
   "metadata": {},
   "outputs": [],
   "source": [
    "# Order Consistency\n",
    "order_consistency = df_train.groupby('SUPPLIERID')['SP_ORDER_PROCESSING_TIME'].std().reset_index()\n",
    "order_consistency.columns = ['SUPPLIERID', 'SP_ORDER_CONSISTENCY']"
   ]
  },
  {
   "cell_type": "code",
   "execution_count": 19,
   "id": "374e431c-0dee-4495-b5af-d00be943e416",
   "metadata": {},
   "outputs": [],
   "source": [
    "# Delivery Consistency\n",
    "delivery_consistency = df_train.groupby('SUPPLIERID')['SP_DELIVERY_DELAY'].std().reset_index()\n",
    "delivery_consistency.columns = ['SUPPLIERID', 'SP_DELIVERY_CONSISTENCY']"
   ]
  },
  {
   "cell_type": "code",
   "execution_count": 20,
   "id": "e31e3b8d-e754-46f3-bddb-42c7a11f30bc",
   "metadata": {},
   "outputs": [],
   "source": [
    "# Merging all features into a single dataframe\n",
    "features = [avg_order_processing_time, avg_delivery_delay, total_orders, order_consistency, delivery_consistency]\n",
    "customer_features = df[['SUPPLIERID']].drop_duplicates().reset_index(drop=True)"
   ]
  },
  {
   "cell_type": "code",
   "execution_count": 21,
   "id": "eab430fa-ca41-446e-94c1-2b2183c0e584",
   "metadata": {},
   "outputs": [],
   "source": [
    "for feature in features:\n",
    "    customer_features = customer_features.merge(feature, on='SUPPLIERID', how='left')"
   ]
  },
  {
   "cell_type": "code",
   "execution_count": 22,
   "id": "b142e483-a1ad-4940-ae10-325b97e21751",
   "metadata": {},
   "outputs": [],
   "source": [
    "# Merge the new features back into the original dataframe\n",
    "df_train = df_train.merge(customer_features, on='SUPPLIERID', how='left')"
   ]
  },
  {
   "cell_type": "code",
   "execution_count": 23,
   "id": "9e87e0f9-6f7f-49d4-98b9-0d21008f0d20",
   "metadata": {},
   "outputs": [
    {
     "data": {
      "text/plain": [
       "Index(['ORDERID', 'ORDERITEMID', 'PRODUCTID', 'PRODUCTNAME', 'ORDERQUANTITY',\n",
       "       'UNITPRICE', 'ORDERVALUE', 'CUSTOMERID', 'CUSTOMERNAME',\n",
       "       'PRODUCTCATEGORY', 'ORDERDATE', 'ORDERSTATUS', 'ORDERAMOUNT',\n",
       "       'ORDERCOUNT', 'SHIPMENTID', 'SHIPMENTDATE', 'DELIVERYDATE',\n",
       "       'DELIVEREDON', 'CARRIER', 'SHIPMENTSTATUS', 'INVOICEID', 'INVOICEDATE',\n",
       "       'INVOICEDUEDATE', 'PAYMENTDATE', 'INVOICESTATUS', 'PAYMENTMETHOD',\n",
       "       'PRODUCTTYPE', 'QUANTITY', 'COMPANYTYPE', 'CONTACTDETAILS',\n",
       "       'EMAILDETAILS', 'ADDRESSDETAILS', 'ADMINDETAILS', 'CREDITLIMIT',\n",
       "       'CUSTOMERSINCE', 'PAYMENTTERMS', 'CREDITLIMITTYPE', 'CUSTOMERTYPE',\n",
       "       'SUPPLIERNAME', 'SUPPLIERID', 'SP_ORDER_PROCESSING_TIME',\n",
       "       'SP_ORDER_VALUE_PER_UNIT', 'SP_DELIVERY_DELAY',\n",
       "       'SP_CUSTOMER_LIFETIME_VALUE', 'SP_ORDER_FREQUENCY',\n",
       "       'SP_AVERAGE_ORDER_VALUE', 'SP_AVG_ORDER_PROCESSING_TIME',\n",
       "       'SP_AVG_DELIVERY_DELAY', 'SP_TOTAL_ORDERS', 'SP_ORDER_CONSISTENCY',\n",
       "       'SP_DELIVERY_CONSISTENCY'],\n",
       "      dtype='object')"
      ]
     },
     "execution_count": 23,
     "metadata": {},
     "output_type": "execute_result"
    }
   ],
   "source": [
    "df_train.columns"
   ]
  },
  {
   "cell_type": "code",
   "execution_count": 29,
   "id": "53b0ff9a-5bf2-4fd5-8ef1-005d7be46254",
   "metadata": {},
   "outputs": [],
   "source": [
    "df = df_train[['SUPPLIERNAME', 'SUPPLIERID', \n",
    "       'SP_CUSTOMER_LIFETIME_VALUE', 'SP_ORDER_FREQUENCY','SP_AVERAGE_ORDER_VALUE', 'SP_AVG_ORDER_PROCESSING_TIME',\n",
    "       'SP_AVG_DELIVERY_DELAY', 'SP_TOTAL_ORDERS', 'SP_ORDER_CONSISTENCY','SP_DELIVERY_CONSISTENCY']]"
   ]
  },
  {
   "cell_type": "code",
   "execution_count": 30,
   "id": "7fd6bb37-979c-45b9-a59a-0e5beb5d50a6",
   "metadata": {},
   "outputs": [
    {
     "data": {
      "text/plain": [
       "(170445, 10)"
      ]
     },
     "execution_count": 30,
     "metadata": {},
     "output_type": "execute_result"
    }
   ],
   "source": [
    "df.shape"
   ]
  },
  {
   "cell_type": "code",
   "execution_count": 31,
   "id": "afc8b9ed-57ae-49e3-8285-deb5459aabd3",
   "metadata": {},
   "outputs": [],
   "source": [
    "df = df.drop_duplicates()"
   ]
  },
  {
   "cell_type": "code",
   "execution_count": 32,
   "id": "adbc11c7-ed92-435b-b983-6463119f4f6f",
   "metadata": {},
   "outputs": [
    {
     "data": {
      "text/plain": [
       "(5, 10)"
      ]
     },
     "execution_count": 32,
     "metadata": {},
     "output_type": "execute_result"
    }
   ],
   "source": [
    "df.shape"
   ]
  },
  {
   "cell_type": "code",
   "execution_count": 33,
   "id": "9621831e-a462-405a-938d-efcc4bffd455",
   "metadata": {},
   "outputs": [
    {
     "data": {
      "text/html": [
       "<div>\n",
       "<style scoped>\n",
       "    .dataframe tbody tr th:only-of-type {\n",
       "        vertical-align: middle;\n",
       "    }\n",
       "\n",
       "    .dataframe tbody tr th {\n",
       "        vertical-align: top;\n",
       "    }\n",
       "\n",
       "    .dataframe thead th {\n",
       "        text-align: right;\n",
       "    }\n",
       "</style>\n",
       "<table border=\"1\" class=\"dataframe\">\n",
       "  <thead>\n",
       "    <tr style=\"text-align: right;\">\n",
       "      <th></th>\n",
       "      <th>SUPPLIERNAME</th>\n",
       "      <th>SUPPLIERID</th>\n",
       "      <th>SP_CUSTOMER_LIFETIME_VALUE</th>\n",
       "      <th>SP_ORDER_FREQUENCY</th>\n",
       "      <th>SP_AVERAGE_ORDER_VALUE</th>\n",
       "      <th>SP_AVG_ORDER_PROCESSING_TIME</th>\n",
       "      <th>SP_AVG_DELIVERY_DELAY</th>\n",
       "      <th>SP_TOTAL_ORDERS</th>\n",
       "      <th>SP_ORDER_CONSISTENCY</th>\n",
       "      <th>SP_DELIVERY_CONSISTENCY</th>\n",
       "    </tr>\n",
       "  </thead>\n",
       "  <tbody>\n",
       "    <tr>\n",
       "      <th>0</th>\n",
       "      <td>Wholesale Wizards</td>\n",
       "      <td>SUP--8f625c7b-d43b-4436-80ad-4cbba77c820q</td>\n",
       "      <td>1741200929</td>\n",
       "      <td>37809</td>\n",
       "      <td>22974.322514</td>\n",
       "      <td>2.003800</td>\n",
       "      <td>1.494201</td>\n",
       "      <td>75789</td>\n",
       "      <td>0.818478</td>\n",
       "      <td>0.499970</td>\n",
       "    </tr>\n",
       "    <tr>\n",
       "      <th>3</th>\n",
       "      <td>Supply Solutions</td>\n",
       "      <td>SUP--8f625c7b-d43b-4436-80ad-4cbba77c420y</td>\n",
       "      <td>442837278</td>\n",
       "      <td>7881</td>\n",
       "      <td>28052.532497</td>\n",
       "      <td>9.951413</td>\n",
       "      <td>2.979729</td>\n",
       "      <td>15786</td>\n",
       "      <td>3.148200</td>\n",
       "      <td>1.417916</td>\n",
       "    </tr>\n",
       "    <tr>\n",
       "      <th>10</th>\n",
       "      <td>Sure Source</td>\n",
       "      <td>SUP--8f625c7b-d43b-4436-80ad-4cbba77c779e</td>\n",
       "      <td>1790952920</td>\n",
       "      <td>14891</td>\n",
       "      <td>59798.094157</td>\n",
       "      <td>7.484608</td>\n",
       "      <td>2.998765</td>\n",
       "      <td>29950</td>\n",
       "      <td>1.706115</td>\n",
       "      <td>1.417880</td>\n",
       "    </tr>\n",
       "    <tr>\n",
       "      <th>14</th>\n",
       "      <td>Procure Plus</td>\n",
       "      <td>SUP--8f625c7b-d43b-4436-80ad-4cbba99c420p</td>\n",
       "      <td>14340525792</td>\n",
       "      <td>15941</td>\n",
       "      <td>447791.593817</td>\n",
       "      <td>12.499797</td>\n",
       "      <td>3.018392</td>\n",
       "      <td>32025</td>\n",
       "      <td>1.718133</td>\n",
       "      <td>1.415584</td>\n",
       "    </tr>\n",
       "    <tr>\n",
       "      <th>24</th>\n",
       "      <td>Prime Partners</td>\n",
       "      <td>SUP--8f625c7b-d43b-4436-80ad-4cbba77c770f</td>\n",
       "      <td>414761779</td>\n",
       "      <td>8478</td>\n",
       "      <td>24549.380231</td>\n",
       "      <td>5.011897</td>\n",
       "      <td>1.494762</td>\n",
       "      <td>16895</td>\n",
       "      <td>1.414938</td>\n",
       "      <td>0.499987</td>\n",
       "    </tr>\n",
       "  </tbody>\n",
       "</table>\n",
       "</div>"
      ],
      "text/plain": [
       "         SUPPLIERNAME                                 SUPPLIERID  \\\n",
       "0   Wholesale Wizards  SUP--8f625c7b-d43b-4436-80ad-4cbba77c820q   \n",
       "3    Supply Solutions  SUP--8f625c7b-d43b-4436-80ad-4cbba77c420y   \n",
       "10        Sure Source  SUP--8f625c7b-d43b-4436-80ad-4cbba77c779e   \n",
       "14       Procure Plus  SUP--8f625c7b-d43b-4436-80ad-4cbba99c420p   \n",
       "24     Prime Partners  SUP--8f625c7b-d43b-4436-80ad-4cbba77c770f   \n",
       "\n",
       "    SP_CUSTOMER_LIFETIME_VALUE  SP_ORDER_FREQUENCY  SP_AVERAGE_ORDER_VALUE  \\\n",
       "0                   1741200929               37809            22974.322514   \n",
       "3                    442837278                7881            28052.532497   \n",
       "10                  1790952920               14891            59798.094157   \n",
       "14                 14340525792               15941           447791.593817   \n",
       "24                   414761779                8478            24549.380231   \n",
       "\n",
       "    SP_AVG_ORDER_PROCESSING_TIME  SP_AVG_DELIVERY_DELAY  SP_TOTAL_ORDERS  \\\n",
       "0                       2.003800               1.494201            75789   \n",
       "3                       9.951413               2.979729            15786   \n",
       "10                      7.484608               2.998765            29950   \n",
       "14                     12.499797               3.018392            32025   \n",
       "24                      5.011897               1.494762            16895   \n",
       "\n",
       "    SP_ORDER_CONSISTENCY  SP_DELIVERY_CONSISTENCY  \n",
       "0               0.818478                 0.499970  \n",
       "3               3.148200                 1.417916  \n",
       "10              1.706115                 1.417880  \n",
       "14              1.718133                 1.415584  \n",
       "24              1.414938                 0.499987  "
      ]
     },
     "execution_count": 33,
     "metadata": {},
     "output_type": "execute_result"
    }
   ],
   "source": [
    "df.head(7)"
   ]
  },
  {
   "cell_type": "code",
   "execution_count": 34,
   "id": "62acedb8-b6d6-4246-9466-c9766e2c4f03",
   "metadata": {},
   "outputs": [],
   "source": [
    "df_train_sf=my_session.createDataFrame(\n",
    "        df.values.tolist(),\n",
    "        schema=df.columns.tolist())\n",
    "df_train_sf.write.mode(\"overwrite\").save_as_table(\"FDC_HORIZONTAL.O2C_GOLD.ORDER_TO_CASH_SUPPLIER_KPI\")"
   ]
  }
 ],
 "metadata": {
  "kernelspec": {
   "display_name": "Python 3 (ipykernel)",
   "language": "python",
   "name": "python3"
  },
  "language_info": {
   "codemirror_mode": {
    "name": "ipython",
    "version": 3
   },
   "file_extension": ".py",
   "mimetype": "text/x-python",
   "name": "python",
   "nbconvert_exporter": "python",
   "pygments_lexer": "ipython3",
   "version": "3.9.19"
  }
 },
 "nbformat": 4,
 "nbformat_minor": 5
}
