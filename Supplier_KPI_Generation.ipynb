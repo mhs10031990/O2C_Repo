{
 "cells": [
  {
   "cell_type": "markdown",
   "id": "0bcad55b-31a7-4ec6-99d1-5c1adce88d6e",
   "metadata": {},
   "source": [
    "# Use O2C_Template Customized Notebook Template"
   ]
  },
  {
   "cell_type": "code",
   "execution_count": 1,
   "id": "4545a18a-ac99-4a61-87eb-685a9fc1d216",
   "metadata": {},
   "outputs": [],
   "source": [
    "import pandas as pd\n",
    "import numpy as np"
   ]
  },
  {
   "cell_type": "code",
   "execution_count": 2,
   "id": "fe2d2323-ae3c-4027-b777-5c40e16db890",
   "metadata": {},
   "outputs": [],
   "source": [
    "from fosforml.model_manager.snowflakesession import get_session\n",
    "my_session = get_session()"
   ]
  },
  {
   "cell_type": "code",
   "execution_count": 3,
   "id": "b5958b79-ef81-46ec-8591-926b906584dd",
   "metadata": {},
   "outputs": [],
   "source": [
    "#table_name = 'ORDER_TO_CASH_ENRICHED'\n",
    "table_name = 'ORDER_TO_CASH_MASTER'\n",
    "\n",
    "sf_df = my_session.sql(\"select * from {}\".format(table_name))\n",
    "df = sf_df.to_pandas()"
   ]
  },
  {
   "cell_type": "code",
   "execution_count": 4,
   "id": "1b452a02-6961-49fb-b2cd-ad499a0d21d2",
   "metadata": {},
   "outputs": [],
   "source": [
    "df_train = df[df['INVOICESTATUS'].isin(['LATE_PAYMENT','ONTIME_PAYMENT'])]\n",
    "df_test = df[~df['INVOICESTATUS'].isin(['LATE_PAYMENT','ONTIME_PAYMENT'])]"
   ]
  },
  {
   "cell_type": "code",
   "execution_count": 5,
   "id": "48250bbd-0aab-4c5b-9f78-2bb14e4cee79",
   "metadata": {},
   "outputs": [
    {
     "data": {
      "text/plain": [
       "((170161, 40), (693, 40))"
      ]
     },
     "execution_count": 5,
     "metadata": {},
     "output_type": "execute_result"
    }
   ],
   "source": [
    "df_train.shape, df_test.shape"
   ]
  },
  {
   "cell_type": "code",
   "execution_count": 6,
   "id": "cb32c411-0adf-4d39-9c8a-22613b925acc",
   "metadata": {},
   "outputs": [],
   "source": [
    "# Assuming df is your dataframe\n",
    "df_train['ORDERDATE'] = pd.to_datetime(df_train['ORDERDATE'])\n",
    "df_train['DELIVERYDATE'] = pd.to_datetime(df_train['DELIVERYDATE'])\n",
    "df_train['INVOICEDATE'] = pd.to_datetime(df_train['INVOICEDATE'])\n",
    "df_train['PAYMENTDATE'] = pd.to_datetime(df_train['PAYMENTDATE'])\n",
    "df_train['INVOICEDUEDATE'] = pd.to_datetime(df_train['INVOICEDUEDATE'])"
   ]
  },
  {
   "cell_type": "code",
   "execution_count": 7,
   "id": "983ba561-f1b5-40e7-9405-20ff02923632",
   "metadata": {},
   "outputs": [],
   "source": [
    "df_train['DELIVEREDON'] = pd.to_datetime(df_train['DELIVEREDON'])"
   ]
  },
  {
   "cell_type": "code",
   "execution_count": 8,
   "id": "9248d603-23c0-404b-86b0-7c9d4058f139",
   "metadata": {},
   "outputs": [],
   "source": [
    "df_train['SHIPMENTDATE'] = pd.to_datetime(df_train['SHIPMENTDATE'])"
   ]
  },
  {
   "cell_type": "code",
   "execution_count": 9,
   "id": "4f24101f-c430-4861-a5ac-71a752d9baad",
   "metadata": {},
   "outputs": [],
   "source": [
    "# Order Processing Time\n",
    "df_train['SP_ORDER_PROCESSING_TIME'] = (df_train['SHIPMENTDATE'] - df_train['ORDERDATE']).dt.days\n",
    "\n",
    "# Order Value per Unit\n",
    "df_train['SP_ORDER_VALUE_PER_UNIT'] = df_train['ORDERVALUE'] / df_train['ORDERQUANTITY']\n",
    "\n",
    "# Delivery Delay\n",
    "df_train['SP_DELIVERY_DELAY'] = (df_train['DELIVEREDON'] - df_train['DELIVERYDATE']).dt.days"
   ]
  },
  {
   "cell_type": "code",
   "execution_count": 10,
   "id": "163e876c-ec4c-4a71-b316-b9a6db1f5ba7",
   "metadata": {},
   "outputs": [],
   "source": [
    "# Supplier Lifetime Value (CLV)\n",
    "clv = df_train.groupby('SUPPLIERID')['ORDERVALUE'].sum().reset_index()\n",
    "clv.columns = ['SUPPLIERID', 'SP_CUSTOMER_LIFETIME_VALUE']\n",
    "df_train = df_train.merge(clv, on='SUPPLIERID', how='left')"
   ]
  },
  {
   "cell_type": "code",
   "execution_count": 11,
   "id": "6d0685f0-9346-461f-8a16-34be731448bb",
   "metadata": {},
   "outputs": [],
   "source": [
    "# Order Frequency\n",
    "order_freq = df_train.groupby('SUPPLIERID')['ORDERID'].nunique().reset_index()\n",
    "order_freq.columns = ['SUPPLIERID', 'SP_ORDER_FREQUENCY']\n",
    "df_train = df_train.merge(order_freq, on='SUPPLIERID', how='left')"
   ]
  },
  {
   "cell_type": "code",
   "execution_count": 12,
   "id": "223f3d85-715b-4555-a803-3797dded95b2",
   "metadata": {},
   "outputs": [],
   "source": [
    "# Average Order Value\n",
    "avg_order_value = df_train.groupby('SUPPLIERID')['ORDERVALUE'].mean().reset_index()\n",
    "avg_order_value.columns = ['SUPPLIERID', 'SP_AVERAGE_ORDER_VALUE']\n",
    "df_train = df_train.merge(avg_order_value, on='SUPPLIERID', how='left')"
   ]
  },
  {
   "cell_type": "code",
   "execution_count": 13,
   "id": "a48fd59c-16e8-4ced-ba7a-2967e2e10ca3",
   "metadata": {},
   "outputs": [
    {
     "data": {
      "text/plain": [
       "Index(['ORDERID', 'ORDERITEMID', 'PRODUCTID', 'PRODUCTNAME', 'ORDERQUANTITY',\n",
       "       'UNITPRICE', 'ORDERVALUE', 'CUSTOMERID', 'CUSTOMERNAME',\n",
       "       'PRODUCTCATEGORY', 'ORDERDATE', 'ORDERSTATUS', 'ORDERAMOUNT',\n",
       "       'ORDERCOUNT', 'SHIPMENTID', 'SHIPMENTDATE', 'DELIVERYDATE',\n",
       "       'DELIVEREDON', 'CARRIER', 'SHIPMENTSTATUS', 'INVOICEID', 'INVOICEDATE',\n",
       "       'INVOICEDUEDATE', 'PAYMENTDATE', 'INVOICESTATUS', 'PAYMENTMETHOD',\n",
       "       'PRODUCTTYPE', 'QUANTITY', 'COMPANYTYPE', 'CONTACTDETAILS',\n",
       "       'EMAILDETAILS', 'ADDRESSDETAILS', 'ADMINDETAILS', 'CREDITLIMIT',\n",
       "       'CUSTOMERSINCE', 'PAYMENTTERMS', 'CREDITLIMITTYPE', 'CUSTOMERTYPE',\n",
       "       'SUPPLIERNAME', 'SUPPLIERID', 'SP_ORDER_PROCESSING_TIME',\n",
       "       'SP_ORDER_VALUE_PER_UNIT', 'SP_DELIVERY_DELAY',\n",
       "       'SP_CUSTOMER_LIFETIME_VALUE', 'SP_ORDER_FREQUENCY',\n",
       "       'SP_AVERAGE_ORDER_VALUE'],\n",
       "      dtype='object')"
      ]
     },
     "execution_count": 13,
     "metadata": {},
     "output_type": "execute_result"
    }
   ],
   "source": [
    "df_train.columns"
   ]
  },
  {
   "cell_type": "code",
   "execution_count": 14,
   "id": "e48e1c08-1667-4d3e-af80-cd1749552945",
   "metadata": {},
   "outputs": [],
   "source": [
    "# Average Order Processing Time\n",
    "avg_order_processing_time = df_train.groupby('SUPPLIERID')['SP_ORDER_PROCESSING_TIME'].mean().reset_index()\n",
    "avg_order_processing_time.columns = ['SUPPLIERID', 'SP_AVG_ORDER_PROCESSING_TIME']"
   ]
  },
  {
   "cell_type": "code",
   "execution_count": 15,
   "id": "40b06a82-58ba-4ec0-b4b3-4c090baff7bd",
   "metadata": {},
   "outputs": [],
   "source": [
    "# Average Delivery Delay\n",
    "avg_delivery_delay = df_train.groupby('SUPPLIERID')['SP_DELIVERY_DELAY'].mean().reset_index()\n",
    "avg_delivery_delay.columns = ['SUPPLIERID', 'SP_AVG_DELIVERY_DELAY']"
   ]
  },
  {
   "cell_type": "code",
   "execution_count": 16,
   "id": "4ff872da-87b1-40fe-aa4e-4e5ae8dcea23",
   "metadata": {},
   "outputs": [],
   "source": [
    "# Total Orders\n",
    "total_orders = df_train.groupby('SUPPLIERID')['SP_ORDER_PROCESSING_TIME'].count().reset_index()\n",
    "total_orders.columns = ['SUPPLIERID', 'SP_TOTAL_ORDERS']"
   ]
  },
  {
   "cell_type": "code",
   "execution_count": 17,
   "id": "48acbf36-677c-43ac-b2bb-11e0dcb53bf8",
   "metadata": {},
   "outputs": [],
   "source": [
    "# Order Consistency\n",
    "order_consistency = df_train.groupby('SUPPLIERID')['SP_ORDER_PROCESSING_TIME'].std().reset_index()\n",
    "order_consistency.columns = ['SUPPLIERID', 'SP_ORDER_CONSISTENCY']"
   ]
  },
  {
   "cell_type": "code",
   "execution_count": 18,
   "id": "374e431c-0dee-4495-b5af-d00be943e416",
   "metadata": {},
   "outputs": [],
   "source": [
    "# Delivery Consistency\n",
    "delivery_consistency = df_train.groupby('SUPPLIERID')['SP_DELIVERY_DELAY'].std().reset_index()\n",
    "delivery_consistency.columns = ['SUPPLIERID', 'SP_DELIVERY_CONSISTENCY']"
   ]
  },
  {
   "cell_type": "code",
   "execution_count": 19,
   "id": "e31e3b8d-e754-46f3-bddb-42c7a11f30bc",
   "metadata": {},
   "outputs": [],
   "source": [
    "# Merging all features into a single dataframe\n",
    "features = [avg_order_processing_time, avg_delivery_delay, total_orders, order_consistency, delivery_consistency]\n",
    "customer_features = df[['SUPPLIERID']].drop_duplicates().reset_index(drop=True)"
   ]
  },
  {
   "cell_type": "code",
   "execution_count": 20,
   "id": "eab430fa-ca41-446e-94c1-2b2183c0e584",
   "metadata": {},
   "outputs": [],
   "source": [
    "for feature in features:\n",
    "    customer_features = customer_features.merge(feature, on='SUPPLIERID', how='left')"
   ]
  },
  {
   "cell_type": "code",
   "execution_count": 21,
   "id": "b142e483-a1ad-4940-ae10-325b97e21751",
   "metadata": {},
   "outputs": [],
   "source": [
    "# Merge the new features back into the original dataframe\n",
    "df_train = df_train.merge(customer_features, on='SUPPLIERID', how='left')"
   ]
  },
  {
   "cell_type": "code",
   "execution_count": 22,
   "id": "9e87e0f9-6f7f-49d4-98b9-0d21008f0d20",
   "metadata": {},
   "outputs": [
    {
     "data": {
      "text/plain": [
       "Index(['ORDERID', 'ORDERITEMID', 'PRODUCTID', 'PRODUCTNAME', 'ORDERQUANTITY',\n",
       "       'UNITPRICE', 'ORDERVALUE', 'CUSTOMERID', 'CUSTOMERNAME',\n",
       "       'PRODUCTCATEGORY', 'ORDERDATE', 'ORDERSTATUS', 'ORDERAMOUNT',\n",
       "       'ORDERCOUNT', 'SHIPMENTID', 'SHIPMENTDATE', 'DELIVERYDATE',\n",
       "       'DELIVEREDON', 'CARRIER', 'SHIPMENTSTATUS', 'INVOICEID', 'INVOICEDATE',\n",
       "       'INVOICEDUEDATE', 'PAYMENTDATE', 'INVOICESTATUS', 'PAYMENTMETHOD',\n",
       "       'PRODUCTTYPE', 'QUANTITY', 'COMPANYTYPE', 'CONTACTDETAILS',\n",
       "       'EMAILDETAILS', 'ADDRESSDETAILS', 'ADMINDETAILS', 'CREDITLIMIT',\n",
       "       'CUSTOMERSINCE', 'PAYMENTTERMS', 'CREDITLIMITTYPE', 'CUSTOMERTYPE',\n",
       "       'SUPPLIERNAME', 'SUPPLIERID', 'SP_ORDER_PROCESSING_TIME',\n",
       "       'SP_ORDER_VALUE_PER_UNIT', 'SP_DELIVERY_DELAY',\n",
       "       'SP_CUSTOMER_LIFETIME_VALUE', 'SP_ORDER_FREQUENCY',\n",
       "       'SP_AVERAGE_ORDER_VALUE', 'SP_AVG_ORDER_PROCESSING_TIME',\n",
       "       'SP_AVG_DELIVERY_DELAY', 'SP_TOTAL_ORDERS', 'SP_ORDER_CONSISTENCY',\n",
       "       'SP_DELIVERY_CONSISTENCY'],\n",
       "      dtype='object')"
      ]
     },
     "execution_count": 22,
     "metadata": {},
     "output_type": "execute_result"
    }
   ],
   "source": [
    "df_train.columns"
   ]
  },
  {
   "cell_type": "code",
   "execution_count": 23,
   "id": "53b0ff9a-5bf2-4fd5-8ef1-005d7be46254",
   "metadata": {},
   "outputs": [],
   "source": [
    "df = df_train[['SUPPLIERNAME', 'SUPPLIERID', \n",
    "       'SP_CUSTOMER_LIFETIME_VALUE', 'SP_ORDER_FREQUENCY','SP_AVERAGE_ORDER_VALUE', 'SP_AVG_ORDER_PROCESSING_TIME',\n",
    "       'SP_AVG_DELIVERY_DELAY', 'SP_TOTAL_ORDERS', 'SP_ORDER_CONSISTENCY','SP_DELIVERY_CONSISTENCY']]"
   ]
  },
  {
   "cell_type": "code",
   "execution_count": 24,
   "id": "7fd6bb37-979c-45b9-a59a-0e5beb5d50a6",
   "metadata": {},
   "outputs": [
    {
     "data": {
      "text/plain": [
       "(170161, 10)"
      ]
     },
     "execution_count": 24,
     "metadata": {},
     "output_type": "execute_result"
    }
   ],
   "source": [
    "df.shape"
   ]
  },
  {
   "cell_type": "code",
   "execution_count": 25,
   "id": "afc8b9ed-57ae-49e3-8285-deb5459aabd3",
   "metadata": {},
   "outputs": [],
   "source": [
    "df = df.drop_duplicates()"
   ]
  },
  {
   "cell_type": "code",
   "execution_count": 26,
   "id": "adbc11c7-ed92-435b-b983-6463119f4f6f",
   "metadata": {},
   "outputs": [
    {
     "data": {
      "text/plain": [
       "(5, 10)"
      ]
     },
     "execution_count": 26,
     "metadata": {},
     "output_type": "execute_result"
    }
   ],
   "source": [
    "df.shape"
   ]
  },
  {
   "cell_type": "code",
   "execution_count": 27,
   "id": "9621831e-a462-405a-938d-efcc4bffd455",
   "metadata": {},
   "outputs": [
    {
     "data": {
      "text/html": [
       "<div>\n",
       "<style scoped>\n",
       "    .dataframe tbody tr th:only-of-type {\n",
       "        vertical-align: middle;\n",
       "    }\n",
       "\n",
       "    .dataframe tbody tr th {\n",
       "        vertical-align: top;\n",
       "    }\n",
       "\n",
       "    .dataframe thead th {\n",
       "        text-align: right;\n",
       "    }\n",
       "</style>\n",
       "<table border=\"1\" class=\"dataframe\">\n",
       "  <thead>\n",
       "    <tr style=\"text-align: right;\">\n",
       "      <th></th>\n",
       "      <th>SUPPLIERNAME</th>\n",
       "      <th>SUPPLIERID</th>\n",
       "      <th>SP_CUSTOMER_LIFETIME_VALUE</th>\n",
       "      <th>SP_ORDER_FREQUENCY</th>\n",
       "      <th>SP_AVERAGE_ORDER_VALUE</th>\n",
       "      <th>SP_AVG_ORDER_PROCESSING_TIME</th>\n",
       "      <th>SP_AVG_DELIVERY_DELAY</th>\n",
       "      <th>SP_TOTAL_ORDERS</th>\n",
       "      <th>SP_ORDER_CONSISTENCY</th>\n",
       "      <th>SP_DELIVERY_CONSISTENCY</th>\n",
       "    </tr>\n",
       "  </thead>\n",
       "  <tbody>\n",
       "    <tr>\n",
       "      <th>0</th>\n",
       "      <td>Procure Plus</td>\n",
       "      <td>SUP--8f625c7b-d43b-4436-80ad-4cbba99c420p</td>\n",
       "      <td>14070911837</td>\n",
       "      <td>15941</td>\n",
       "      <td>440073.554669</td>\n",
       "      <td>12.504942</td>\n",
       "      <td>3.002158</td>\n",
       "      <td>31974</td>\n",
       "      <td>1.709657</td>\n",
       "      <td>1.408239</td>\n",
       "    </tr>\n",
       "    <tr>\n",
       "      <th>5</th>\n",
       "      <td>Sure Source</td>\n",
       "      <td>SUP--8f625c7b-d43b-4436-80ad-4cbba77c779e</td>\n",
       "      <td>1752937837</td>\n",
       "      <td>14626</td>\n",
       "      <td>59739.557544</td>\n",
       "      <td>7.500733</td>\n",
       "      <td>2.999012</td>\n",
       "      <td>29343</td>\n",
       "      <td>1.708891</td>\n",
       "      <td>1.413743</td>\n",
       "    </tr>\n",
       "    <tr>\n",
       "      <th>7</th>\n",
       "      <td>Prime Partners</td>\n",
       "      <td>SUP--8f625c7b-d43b-4436-80ad-4cbba77c770f</td>\n",
       "      <td>420747225</td>\n",
       "      <td>8556</td>\n",
       "      <td>24574.921149</td>\n",
       "      <td>5.011915</td>\n",
       "      <td>1.498160</td>\n",
       "      <td>17121</td>\n",
       "      <td>1.413585</td>\n",
       "      <td>0.500011</td>\n",
       "    </tr>\n",
       "    <tr>\n",
       "      <th>9</th>\n",
       "      <td>Wholesale Wizards</td>\n",
       "      <td>SUP--8f625c7b-d43b-4436-80ad-4cbba77c820q</td>\n",
       "      <td>1743863445</td>\n",
       "      <td>37831</td>\n",
       "      <td>23077.660888</td>\n",
       "      <td>2.008033</td>\n",
       "      <td>1.496910</td>\n",
       "      <td>75565</td>\n",
       "      <td>0.815395</td>\n",
       "      <td>0.499994</td>\n",
       "    </tr>\n",
       "    <tr>\n",
       "      <th>18</th>\n",
       "      <td>Supply Solutions</td>\n",
       "      <td>SUP--8f625c7b-d43b-4436-80ad-4cbba77c420y</td>\n",
       "      <td>443409125</td>\n",
       "      <td>8046</td>\n",
       "      <td>27442.079775</td>\n",
       "      <td>9.970231</td>\n",
       "      <td>3.001176</td>\n",
       "      <td>16158</td>\n",
       "      <td>3.179500</td>\n",
       "      <td>1.412790</td>\n",
       "    </tr>\n",
       "  </tbody>\n",
       "</table>\n",
       "</div>"
      ],
      "text/plain": [
       "         SUPPLIERNAME                                 SUPPLIERID  \\\n",
       "0        Procure Plus  SUP--8f625c7b-d43b-4436-80ad-4cbba99c420p   \n",
       "5         Sure Source  SUP--8f625c7b-d43b-4436-80ad-4cbba77c779e   \n",
       "7      Prime Partners  SUP--8f625c7b-d43b-4436-80ad-4cbba77c770f   \n",
       "9   Wholesale Wizards  SUP--8f625c7b-d43b-4436-80ad-4cbba77c820q   \n",
       "18   Supply Solutions  SUP--8f625c7b-d43b-4436-80ad-4cbba77c420y   \n",
       "\n",
       "    SP_CUSTOMER_LIFETIME_VALUE  SP_ORDER_FREQUENCY  SP_AVERAGE_ORDER_VALUE  \\\n",
       "0                  14070911837               15941           440073.554669   \n",
       "5                   1752937837               14626            59739.557544   \n",
       "7                    420747225                8556            24574.921149   \n",
       "9                   1743863445               37831            23077.660888   \n",
       "18                   443409125                8046            27442.079775   \n",
       "\n",
       "    SP_AVG_ORDER_PROCESSING_TIME  SP_AVG_DELIVERY_DELAY  SP_TOTAL_ORDERS  \\\n",
       "0                      12.504942               3.002158            31974   \n",
       "5                       7.500733               2.999012            29343   \n",
       "7                       5.011915               1.498160            17121   \n",
       "9                       2.008033               1.496910            75565   \n",
       "18                      9.970231               3.001176            16158   \n",
       "\n",
       "    SP_ORDER_CONSISTENCY  SP_DELIVERY_CONSISTENCY  \n",
       "0               1.709657                 1.408239  \n",
       "5               1.708891                 1.413743  \n",
       "7               1.413585                 0.500011  \n",
       "9               0.815395                 0.499994  \n",
       "18              3.179500                 1.412790  "
      ]
     },
     "execution_count": 27,
     "metadata": {},
     "output_type": "execute_result"
    }
   ],
   "source": [
    "df.head(7)"
   ]
  },
  {
   "cell_type": "code",
   "execution_count": 28,
   "id": "62acedb8-b6d6-4246-9466-c9766e2c4f03",
   "metadata": {},
   "outputs": [],
   "source": [
    "df_train_sf=my_session.createDataFrame(\n",
    "        df.values.tolist(),\n",
    "        schema=df.columns.tolist())\n",
    "df_train_sf.write.mode(\"overwrite\").save_as_table(\"FDC_HORIZONTAL.O2C_GOLD.ORDER_TO_CASH_SUPPLIER_KPI\")"
   ]
  }
 ],
 "metadata": {
  "kernelspec": {
   "display_name": "Python 3 (ipykernel)",
   "language": "python",
   "name": "python3"
  },
  "language_info": {
   "codemirror_mode": {
    "name": "ipython",
    "version": 3
   },
   "file_extension": ".py",
   "mimetype": "text/x-python",
   "name": "python",
   "nbconvert_exporter": "python",
   "pygments_lexer": "ipython3",
   "version": "3.9.19"
  }
 },
 "nbformat": 4,
 "nbformat_minor": 5
}
