{
 "cells": [
  {
   "cell_type": "markdown",
   "id": "0bcad55b-31a7-4ec6-99d1-5c1adce88d6e",
   "metadata": {},
   "source": [
    "# Use O2C_Template Customized Notebook Template"
   ]
  },
  {
   "cell_type": "code",
   "execution_count": 2,
   "id": "4545a18a-ac99-4a61-87eb-685a9fc1d216",
   "metadata": {},
   "outputs": [],
   "source": [
    "import pandas as pd\n",
    "import numpy as np"
   ]
  },
  {
   "cell_type": "code",
   "execution_count": 3,
   "id": "fe2d2323-ae3c-4027-b777-5c40e16db890",
   "metadata": {},
   "outputs": [],
   "source": [
    "from fosforml.model_manager.snowflakesession import get_session\n",
    "my_session = get_session()"
   ]
  },
  {
   "cell_type": "code",
   "execution_count": 4,
   "id": "b5958b79-ef81-46ec-8591-926b906584dd",
   "metadata": {},
   "outputs": [],
   "source": [
    "#table_name = 'ORDER_TO_CASH_ENRICHED'\n",
    "table_name = 'ORDER_TO_CASH_MASTER'\n",
    "\n",
    "sf_df = my_session.sql(\"select * from {}\".format(table_name))\n",
    "df = sf_df.to_pandas()"
   ]
  },
  {
   "cell_type": "code",
   "execution_count": 5,
   "id": "1b452a02-6961-49fb-b2cd-ad499a0d21d2",
   "metadata": {},
   "outputs": [],
   "source": [
    "df_train = df[df['INVOICESTATUS'].isin(['LATE_PAYMENT','ONTIME_PAYMENT'])]\n",
    "df_test = df[~df['INVOICESTATUS'].isin(['LATE_PAYMENT','ONTIME_PAYMENT'])]"
   ]
  },
  {
   "cell_type": "code",
   "execution_count": 6,
   "id": "48250bbd-0aab-4c5b-9f78-2bb14e4cee79",
   "metadata": {},
   "outputs": [
    {
     "data": {
      "text/plain": [
       "((170445, 40), (2992, 40))"
      ]
     },
     "execution_count": 6,
     "metadata": {},
     "output_type": "execute_result"
    }
   ],
   "source": [
    "df_train.shape, df_test.shape"
   ]
  },
  {
   "cell_type": "code",
   "execution_count": 7,
   "id": "cb32c411-0adf-4d39-9c8a-22613b925acc",
   "metadata": {},
   "outputs": [],
   "source": [
    "# Assuming df is your dataframe\n",
    "df_train['ORDERDATE'] = pd.to_datetime(df_train['ORDERDATE'])\n",
    "df_train['DELIVERYDATE'] = pd.to_datetime(df_train['DELIVERYDATE'])\n",
    "df_train['INVOICEDATE'] = pd.to_datetime(df_train['INVOICEDATE'])\n",
    "df_train['PAYMENTDATE'] = pd.to_datetime(df_train['PAYMENTDATE'])\n",
    "df_train['INVOICEDUEDATE'] = pd.to_datetime(df_train['INVOICEDUEDATE'])"
   ]
  },
  {
   "cell_type": "code",
   "execution_count": 8,
   "id": "983ba561-f1b5-40e7-9405-20ff02923632",
   "metadata": {},
   "outputs": [],
   "source": [
    "df_train['DELIVEREDON'] = pd.to_datetime(df_train['DELIVEREDON'])"
   ]
  },
  {
   "cell_type": "code",
   "execution_count": 9,
   "id": "9248d603-23c0-404b-86b0-7c9d4058f139",
   "metadata": {},
   "outputs": [],
   "source": [
    "df_train['SHIPMENTDATE'] = pd.to_datetime(df_train['SHIPMENTDATE'])"
   ]
  },
  {
   "cell_type": "code",
   "execution_count": 49,
   "id": "4f24101f-c430-4861-a5ac-71a752d9baad",
   "metadata": {},
   "outputs": [],
   "source": [
    "# Order Processing Time\n",
    "df_train['SP_ORDER_PROCESSING_TIME'] = (df_train['SHIPMENTDATE'] - df_train['ORDERDATE']).dt.days\n",
    "\n",
    "# Order Value per Unit\n",
    "df_train['SP_ORDER_VALUE_PER_UNIT'] = df_train['ORDERVALUE'] / df_train['ORDERQUANTITY']\n",
    "\n",
    "# Delivery Delay\n",
    "df_train['SP_DELIVERY_DELAY'] = (df_train['DELIVEREDON'] - df_train['DELIVERYDATE']).dt.days"
   ]
  },
  {
   "cell_type": "code",
   "execution_count": 52,
   "id": "163e876c-ec4c-4a71-b316-b9a6db1f5ba7",
   "metadata": {},
   "outputs": [],
   "source": [
    "# Supplier Lifetime Value (CLV)\n",
    "clv = df_train.groupby('SUPPLIERID')['ORDERVALUE'].sum().reset_index()\n",
    "clv.columns = ['SUPPLIERID', 'SP_CUSTOMER_LIFETIME_VALUE']\n",
    "df_train = df_train.merge(clv, on='SUPPLIERID', how='left')"
   ]
  },
  {
   "cell_type": "code",
   "execution_count": 53,
   "id": "6d0685f0-9346-461f-8a16-34be731448bb",
   "metadata": {},
   "outputs": [],
   "source": [
    "# Order Frequency\n",
    "order_freq = df_train.groupby('SUPPLIERID')['ORDERID'].nunique().reset_index()\n",
    "order_freq.columns = ['SUPPLIERID', 'SP_ORDER_FREQUENCY']\n",
    "df_train = df_train.merge(order_freq, on='SUPPLIERID', how='left')"
   ]
  },
  {
   "cell_type": "code",
   "execution_count": 54,
   "id": "223f3d85-715b-4555-a803-3797dded95b2",
   "metadata": {},
   "outputs": [],
   "source": [
    "# Average Order Value\n",
    "avg_order_value = df_train.groupby('SUPPLIERID')['ORDERVALUE'].mean().reset_index()\n",
    "avg_order_value.columns = ['SUPPLIERID', 'SP_AVERAGE_ORDER_VALUE']\n",
    "df_train = df_train.merge(avg_order_value, on='SUPPLIERID', how='left')"
   ]
  },
  {
   "cell_type": "code",
   "execution_count": 55,
   "id": "4099bd9f-a0ec-420c-80d4-d990d70446d8",
   "metadata": {},
   "outputs": [],
   "source": [
    "# Recency\n",
    "latest_order_date = df_train.groupby('SUPPLIERID')['ORDERDATE'].max().reset_index()\n",
    "latest_order_date.columns = ['SUPPLIERID', 'SP_LAST_ORDER_DATE']\n",
    "latest_order_date['SP_RECENCY'] = (pd.to_datetime('today') - latest_order_date['S_LAST_ORDER_DATE']).dt.days\n",
    "df_train = df_train.merge(latest_order_date[['CUSTOMERID', 'SP_RECENCY']], on='CUSTOMERID', how='left')"
   ]
  },
  {
   "cell_type": "code",
   "execution_count": 56,
   "id": "1196d370-693c-4cb0-a403-f4bec6ccd399",
   "metadata": {},
   "outputs": [],
   "source": [
    "# Preferred Payment Method\n",
    "preferred_payment_method = df_train.groupby('CUSTOMERID')['PAYMENTMETHOD'].agg(lambda x: x.value_counts().index[0]).reset_index()\n",
    "preferred_payment_method.columns = ['CUSTOMERID', 'CC_PREFERRED_PAYMENT_METHOD']\n",
    "df_train = df_train.merge(preferred_payment_method, on='CUSTOMERID', how='left')"
   ]
  },
  {
   "cell_type": "code",
   "execution_count": 57,
   "id": "74939fe8-91d1-4474-8c9b-d541ed677c9b",
   "metadata": {},
   "outputs": [],
   "source": [
    "# Preferred Product Category\n",
    "preferred_product_category = df_train.groupby('CUSTOMERID')['PRODUCTCATEGORY'].agg(lambda x: x.value_counts().index[0]).reset_index()\n",
    "preferred_product_category.columns = ['CUSTOMERID', 'CC_PREFERRED_PRODUCT_CATEGORY']\n",
    "df_train = df_train.merge(preferred_product_category, on='CUSTOMERID', how='left')"
   ]
  },
  {
   "cell_type": "code",
   "execution_count": 58,
   "id": "df5cd292-37a3-42f7-8015-931f065a5f32",
   "metadata": {},
   "outputs": [],
   "source": [
    "# Preferred Product Category\n",
    "preferred_product_type = df_train.groupby('CUSTOMERID')['PRODUCTTYPE'].agg(lambda x: x.value_counts().index[0]).reset_index()\n",
    "preferred_product_type.columns = ['CUSTOMERID', 'CC_PREFERRED_PRODUCT_TYPE']\n",
    "df_train = df_train.merge(preferred_product_type, on='CUSTOMERID', how='left')"
   ]
  },
  {
   "cell_type": "code",
   "execution_count": 59,
   "id": "a48fd59c-16e8-4ced-ba7a-2967e2e10ca3",
   "metadata": {},
   "outputs": [
    {
     "data": {
      "text/plain": [
       "Index(['ORDERID', 'ORDERITEMID', 'PRODUCTID', 'PRODUCTNAME', 'ORDERQUANTITY',\n",
       "       'UNITPRICE', 'ORDERVALUE', 'CUSTOMERID', 'CUSTOMERNAME',\n",
       "       'PRODUCTCATEGORY', 'ORDERDATE', 'ORDERSTATUS', 'ORDERAMOUNT',\n",
       "       'ORDERCOUNT', 'SHIPMENTID', 'SHIPMENTDATE', 'DELIVERYDATE',\n",
       "       'DELIVEREDON', 'CARRIER', 'SHIPMENTSTATUS', 'INVOICEID', 'INVOICEDATE',\n",
       "       'INVOICEDUEDATE', 'PAYMENTDATE', 'INVOICESTATUS', 'PAYMENTMETHOD',\n",
       "       'PRODUCTTYPE', 'QUANTITY', 'COMPANYTYPE', 'CONTACTDETAILS',\n",
       "       'EMAILDETAILS', 'ADDRESSDETAILS', 'ADMINDETAILS', 'CREDITLIMIT',\n",
       "       'CUSTOMERSINCE', 'PAYMENTTERMS', 'CREDITLIMITTYPE', 'CUSTOMERTYPE',\n",
       "       'SUPPLIERNAME', 'SUPPLIERID', 'OR_ORDER_PROCESSING_TIME',\n",
       "       'OR_INVOICE_PROCESSING_TIME', 'OR_ORDER_VALUE_PER_UNIT',\n",
       "       'OR_DELIVERY_DELAY', 'OR_PAYMENT_DELAY', 'CC_CUSTOMER_LIFETIME_VALUE',\n",
       "       'CC_ORDER_FREQUENCY', 'CC_AVERAGE_ORDER_VALUE', 'CC_RECENCY',\n",
       "       'CC_PREFERRED_PAYMENT_METHOD', 'CC_PREFERRED_PRODUCT_CATEGORY',\n",
       "       'CC_PREFERRED_PRODUCT_TYPE'],\n",
       "      dtype='object')"
      ]
     },
     "execution_count": 59,
     "metadata": {},
     "output_type": "execute_result"
    }
   ],
   "source": [
    "df_train.columns"
   ]
  },
  {
   "cell_type": "code",
   "execution_count": 60,
   "id": "3f027c2b-0943-4ed8-a7b7-c716703b4423",
   "metadata": {},
   "outputs": [
    {
     "data": {
      "text/html": [
       "<div>\n",
       "<style scoped>\n",
       "    .dataframe tbody tr th:only-of-type {\n",
       "        vertical-align: middle;\n",
       "    }\n",
       "\n",
       "    .dataframe tbody tr th {\n",
       "        vertical-align: top;\n",
       "    }\n",
       "\n",
       "    .dataframe thead th {\n",
       "        text-align: right;\n",
       "    }\n",
       "</style>\n",
       "<table border=\"1\" class=\"dataframe\">\n",
       "  <thead>\n",
       "    <tr style=\"text-align: right;\">\n",
       "      <th></th>\n",
       "      <th>ORDERID</th>\n",
       "      <th>ORDERITEMID</th>\n",
       "      <th>PRODUCTID</th>\n",
       "      <th>PRODUCTNAME</th>\n",
       "      <th>ORDERQUANTITY</th>\n",
       "      <th>UNITPRICE</th>\n",
       "      <th>ORDERVALUE</th>\n",
       "      <th>CUSTOMERID</th>\n",
       "      <th>CUSTOMERNAME</th>\n",
       "      <th>PRODUCTCATEGORY</th>\n",
       "      <th>...</th>\n",
       "      <th>OR_ORDER_VALUE_PER_UNIT</th>\n",
       "      <th>OR_DELIVERY_DELAY</th>\n",
       "      <th>OR_PAYMENT_DELAY</th>\n",
       "      <th>CC_CUSTOMER_LIFETIME_VALUE</th>\n",
       "      <th>CC_ORDER_FREQUENCY</th>\n",
       "      <th>CC_AVERAGE_ORDER_VALUE</th>\n",
       "      <th>CC_RECENCY</th>\n",
       "      <th>CC_PREFERRED_PAYMENT_METHOD</th>\n",
       "      <th>CC_PREFERRED_PRODUCT_CATEGORY</th>\n",
       "      <th>CC_PREFERRED_PRODUCT_TYPE</th>\n",
       "    </tr>\n",
       "  </thead>\n",
       "  <tbody>\n",
       "    <tr>\n",
       "      <th>170443</th>\n",
       "      <td>OR-9f993754-37ea-4bb4-80db-4690c5a718fd</td>\n",
       "      <td>OI-339dfd1a-3443-48d2-91d7-cd738e47cc3b</td>\n",
       "      <td>PID-ed53f81f-632c-4276-a84f-3eadf889e9c2</td>\n",
       "      <td>Transmission Fluid</td>\n",
       "      <td>1603</td>\n",
       "      <td>8</td>\n",
       "      <td>12824</td>\n",
       "      <td>CID-395c2591-bd5a-4a89-a15c-f8f299c6ac78</td>\n",
       "      <td>Visionary</td>\n",
       "      <td>Automotive</td>\n",
       "      <td>...</td>\n",
       "      <td>8.0</td>\n",
       "      <td>1</td>\n",
       "      <td>-2</td>\n",
       "      <td>30421475</td>\n",
       "      <td>554</td>\n",
       "      <td>27456.204874</td>\n",
       "      <td>-93</td>\n",
       "      <td>Checks</td>\n",
       "      <td>Automotive</td>\n",
       "      <td>Radiator Coolant</td>\n",
       "    </tr>\n",
       "    <tr>\n",
       "      <th>170444</th>\n",
       "      <td>OR-9f993754-37ea-4bb4-80db-4690c5a718fd</td>\n",
       "      <td>OI-3b8215d7-f58d-4b5a-b6eb-d651127f88c0</td>\n",
       "      <td>PID-afb78ac2-facb-44d7-8b49-7abb2bc92639</td>\n",
       "      <td>Jumper Cables</td>\n",
       "      <td>815</td>\n",
       "      <td>13</td>\n",
       "      <td>10595</td>\n",
       "      <td>CID-395c2591-bd5a-4a89-a15c-f8f299c6ac78</td>\n",
       "      <td>Visionary</td>\n",
       "      <td>Automotive</td>\n",
       "      <td>...</td>\n",
       "      <td>13.0</td>\n",
       "      <td>1</td>\n",
       "      <td>-2</td>\n",
       "      <td>30421475</td>\n",
       "      <td>554</td>\n",
       "      <td>27456.204874</td>\n",
       "      <td>-93</td>\n",
       "      <td>Checks</td>\n",
       "      <td>Automotive</td>\n",
       "      <td>Radiator Coolant</td>\n",
       "    </tr>\n",
       "  </tbody>\n",
       "</table>\n",
       "<p>2 rows × 52 columns</p>\n",
       "</div>"
      ],
      "text/plain": [
       "                                        ORDERID  \\\n",
       "170443  OR-9f993754-37ea-4bb4-80db-4690c5a718fd   \n",
       "170444  OR-9f993754-37ea-4bb4-80db-4690c5a718fd   \n",
       "\n",
       "                                    ORDERITEMID  \\\n",
       "170443  OI-339dfd1a-3443-48d2-91d7-cd738e47cc3b   \n",
       "170444  OI-3b8215d7-f58d-4b5a-b6eb-d651127f88c0   \n",
       "\n",
       "                                       PRODUCTID         PRODUCTNAME  \\\n",
       "170443  PID-ed53f81f-632c-4276-a84f-3eadf889e9c2  Transmission Fluid   \n",
       "170444  PID-afb78ac2-facb-44d7-8b49-7abb2bc92639       Jumper Cables   \n",
       "\n",
       "        ORDERQUANTITY  UNITPRICE  ORDERVALUE  \\\n",
       "170443           1603          8       12824   \n",
       "170444            815         13       10595   \n",
       "\n",
       "                                      CUSTOMERID CUSTOMERNAME PRODUCTCATEGORY  \\\n",
       "170443  CID-395c2591-bd5a-4a89-a15c-f8f299c6ac78    Visionary      Automotive   \n",
       "170444  CID-395c2591-bd5a-4a89-a15c-f8f299c6ac78    Visionary      Automotive   \n",
       "\n",
       "        ... OR_ORDER_VALUE_PER_UNIT OR_DELIVERY_DELAY  OR_PAYMENT_DELAY  \\\n",
       "170443  ...                     8.0                 1                -2   \n",
       "170444  ...                    13.0                 1                -2   \n",
       "\n",
       "        CC_CUSTOMER_LIFETIME_VALUE CC_ORDER_FREQUENCY CC_AVERAGE_ORDER_VALUE  \\\n",
       "170443                    30421475                554           27456.204874   \n",
       "170444                    30421475                554           27456.204874   \n",
       "\n",
       "       CC_RECENCY CC_PREFERRED_PAYMENT_METHOD CC_PREFERRED_PRODUCT_CATEGORY  \\\n",
       "170443        -93                      Checks                    Automotive   \n",
       "170444        -93                      Checks                    Automotive   \n",
       "\n",
       "       CC_PREFERRED_PRODUCT_TYPE  \n",
       "170443          Radiator Coolant  \n",
       "170444          Radiator Coolant  \n",
       "\n",
       "[2 rows x 52 columns]"
      ]
     },
     "execution_count": 60,
     "metadata": {},
     "output_type": "execute_result"
    }
   ],
   "source": [
    "df_train.tail(2)"
   ]
  },
  {
   "cell_type": "code",
   "execution_count": 61,
   "id": "e48e1c08-1667-4d3e-af80-cd1749552945",
   "metadata": {},
   "outputs": [],
   "source": [
    "# Average Order Processing Time\n",
    "avg_order_processing_time = df_train.groupby('CUSTOMERID')['OR_ORDER_PROCESSING_TIME'].mean().reset_index()\n",
    "avg_order_processing_time.columns = ['CUSTOMERID', 'CC_AVG_ORDER_PROCESSING_TIME']"
   ]
  },
  {
   "cell_type": "code",
   "execution_count": 62,
   "id": "1d8e512f-fb4d-490c-a4d6-1fa59c9a7164",
   "metadata": {},
   "outputs": [],
   "source": [
    "# Average Invoice Processing Time\n",
    "avg_invoice_processing_time = df_train.groupby('CUSTOMERID')['OR_INVOICE_PROCESSING_TIME'].mean().reset_index()\n",
    "avg_invoice_processing_time.columns = ['CUSTOMERID', 'CC_AVG_INVOICE_PROCESSING_TIME']"
   ]
  },
  {
   "cell_type": "code",
   "execution_count": 63,
   "id": "40b06a82-58ba-4ec0-b4b3-4c090baff7bd",
   "metadata": {},
   "outputs": [],
   "source": [
    "# Average Delivery Delay\n",
    "avg_delivery_delay = df_train.groupby('CUSTOMERID')['OR_DELIVERY_DELAY'].mean().reset_index()\n",
    "avg_delivery_delay.columns = ['CUSTOMERID', 'CC_AVG_DELIVERY_DELAY']"
   ]
  },
  {
   "cell_type": "code",
   "execution_count": 64,
   "id": "59efd32f-7e69-4fd9-b888-5220c9a2cf5d",
   "metadata": {},
   "outputs": [],
   "source": [
    "# Average Payment Delay\n",
    "avg_payment_delay = df_train.groupby('CUSTOMERID')['OR_PAYMENT_DELAY'].mean().reset_index()\n",
    "avg_payment_delay.columns = ['CUSTOMERID', 'CC_AVG_PAYMENT_DELAY']"
   ]
  },
  {
   "cell_type": "code",
   "execution_count": 65,
   "id": "486df7e3-c941-4f37-bbf8-aa1925321c55",
   "metadata": {},
   "outputs": [
    {
     "data": {
      "text/plain": [
       "Index(['ORDERID', 'ORDERITEMID', 'PRODUCTID', 'PRODUCTNAME', 'ORDERQUANTITY',\n",
       "       'UNITPRICE', 'ORDERVALUE', 'CUSTOMERID', 'CUSTOMERNAME',\n",
       "       'PRODUCTCATEGORY', 'ORDERDATE', 'ORDERSTATUS', 'ORDERAMOUNT',\n",
       "       'ORDERCOUNT', 'SHIPMENTID', 'SHIPMENTDATE', 'DELIVERYDATE',\n",
       "       'DELIVEREDON', 'CARRIER', 'SHIPMENTSTATUS', 'INVOICEID', 'INVOICEDATE',\n",
       "       'INVOICEDUEDATE', 'PAYMENTDATE', 'INVOICESTATUS', 'PAYMENTMETHOD',\n",
       "       'PRODUCTTYPE', 'QUANTITY', 'COMPANYTYPE', 'CONTACTDETAILS',\n",
       "       'EMAILDETAILS', 'ADDRESSDETAILS', 'ADMINDETAILS', 'CREDITLIMIT',\n",
       "       'CUSTOMERSINCE', 'PAYMENTTERMS', 'CREDITLIMITTYPE', 'CUSTOMERTYPE',\n",
       "       'SUPPLIERNAME', 'SUPPLIERID'],\n",
       "      dtype='object')"
      ]
     },
     "execution_count": 65,
     "metadata": {},
     "output_type": "execute_result"
    }
   ],
   "source": [
    "df.columns"
   ]
  },
  {
   "cell_type": "code",
   "execution_count": 66,
   "id": "4ff872da-87b1-40fe-aa4e-4e5ae8dcea23",
   "metadata": {},
   "outputs": [],
   "source": [
    "# Total Orders\n",
    "total_orders = df_train.groupby('CUSTOMERID')['OR_ORDER_PROCESSING_TIME'].count().reset_index()\n",
    "total_orders.columns = ['CUSTOMERID', 'CC_TOTAL_ORDERS']"
   ]
  },
  {
   "cell_type": "code",
   "execution_count": 67,
   "id": "6c3b80bb-3f9f-4d8e-8bd3-971f63a9d751",
   "metadata": {},
   "outputs": [],
   "source": [
    "# Total Delays\n",
    "total_delays = df_train.groupby('CUSTOMERID')[['OR_DELIVERY_DELAY', 'OR_PAYMENT_DELAY']].sum().reset_index()\n",
    "total_delays['CC_TOTAL_DELAYS'] = total_delays['OR_DELIVERY_DELAY'] + total_delays['OR_PAYMENT_DELAY']\n",
    "total_delays = total_delays[['CUSTOMERID', 'CC_TOTAL_DELAYS']]"
   ]
  },
  {
   "cell_type": "code",
   "execution_count": 68,
   "id": "48acbf36-677c-43ac-b2bb-11e0dcb53bf8",
   "metadata": {},
   "outputs": [],
   "source": [
    "# Order Consistency\n",
    "order_consistency = df_train.groupby('CUSTOMERID')['OR_ORDER_PROCESSING_TIME'].std().reset_index()\n",
    "order_consistency.columns = ['CUSTOMERID', 'CC_ORDER_CONSISTENCY']"
   ]
  },
  {
   "cell_type": "code",
   "execution_count": 69,
   "id": "ac45a973-303d-40b9-87a5-afe5dd82c798",
   "metadata": {},
   "outputs": [],
   "source": [
    "# Invoice Consistency\n",
    "invoice_consistency = df_train.groupby('CUSTOMERID')['OR_INVOICE_PROCESSING_TIME'].std().reset_index()\n",
    "invoice_consistency.columns = ['CUSTOMERID', 'CC_INVOICE_CONSISTENCY']"
   ]
  },
  {
   "cell_type": "code",
   "execution_count": 70,
   "id": "374e431c-0dee-4495-b5af-d00be943e416",
   "metadata": {},
   "outputs": [],
   "source": [
    "# Delivery Consistency\n",
    "delivery_consistency = df_train.groupby('CUSTOMERID')['OR_DELIVERY_DELAY'].std().reset_index()\n",
    "delivery_consistency.columns = ['CUSTOMERID', 'CC_DELIVERY_CONSISTENCY']"
   ]
  },
  {
   "cell_type": "code",
   "execution_count": 71,
   "id": "ac17f35a-abcb-4ab0-b26b-d56446cc0446",
   "metadata": {},
   "outputs": [],
   "source": [
    "# Payment Consistency\n",
    "payment_consistency = df_train.groupby('CUSTOMERID')['OR_PAYMENT_DELAY'].std().reset_index()\n",
    "payment_consistency.columns = ['CUSTOMERID', 'CC_PAYMENT_CONSISTENCY']"
   ]
  },
  {
   "cell_type": "code",
   "execution_count": 72,
   "id": "e31e3b8d-e754-46f3-bddb-42c7a11f30bc",
   "metadata": {},
   "outputs": [],
   "source": [
    "# Merging all features into a single dataframe\n",
    "features = [avg_order_processing_time, avg_invoice_processing_time, avg_delivery_delay, avg_payment_delay, total_orders,total_delays, order_consistency, invoice_consistency, delivery_consistency, payment_consistency]\n",
    "customer_features = df[['CUSTOMERID']].drop_duplicates().reset_index(drop=True)"
   ]
  },
  {
   "cell_type": "code",
   "execution_count": 73,
   "id": "eab430fa-ca41-446e-94c1-2b2183c0e584",
   "metadata": {},
   "outputs": [],
   "source": [
    "for feature in features:\n",
    "    customer_features = customer_features.merge(feature, on='CUSTOMERID', how='left')"
   ]
  },
  {
   "cell_type": "code",
   "execution_count": 74,
   "id": "b142e483-a1ad-4940-ae10-325b97e21751",
   "metadata": {},
   "outputs": [],
   "source": [
    "# Merge the new features back into the original dataframe\n",
    "df_train = df_train.merge(customer_features, on='CUSTOMERID', how='left')"
   ]
  },
  {
   "cell_type": "code",
   "execution_count": 75,
   "id": "9e87e0f9-6f7f-49d4-98b9-0d21008f0d20",
   "metadata": {},
   "outputs": [
    {
     "data": {
      "text/plain": [
       "Index(['ORDERID', 'ORDERITEMID', 'PRODUCTID', 'PRODUCTNAME', 'ORDERQUANTITY',\n",
       "       'UNITPRICE', 'ORDERVALUE', 'CUSTOMERID', 'CUSTOMERNAME',\n",
       "       'PRODUCTCATEGORY', 'ORDERDATE', 'ORDERSTATUS', 'ORDERAMOUNT',\n",
       "       'ORDERCOUNT', 'SHIPMENTID', 'SHIPMENTDATE', 'DELIVERYDATE',\n",
       "       'DELIVEREDON', 'CARRIER', 'SHIPMENTSTATUS', 'INVOICEID', 'INVOICEDATE',\n",
       "       'INVOICEDUEDATE', 'PAYMENTDATE', 'INVOICESTATUS', 'PAYMENTMETHOD',\n",
       "       'PRODUCTTYPE', 'QUANTITY', 'COMPANYTYPE', 'CONTACTDETAILS',\n",
       "       'EMAILDETAILS', 'ADDRESSDETAILS', 'ADMINDETAILS', 'CREDITLIMIT',\n",
       "       'CUSTOMERSINCE', 'PAYMENTTERMS', 'CREDITLIMITTYPE', 'CUSTOMERTYPE',\n",
       "       'SUPPLIERNAME', 'SUPPLIERID', 'OR_ORDER_PROCESSING_TIME',\n",
       "       'OR_INVOICE_PROCESSING_TIME', 'OR_ORDER_VALUE_PER_UNIT',\n",
       "       'OR_DELIVERY_DELAY', 'OR_PAYMENT_DELAY', 'CC_CUSTOMER_LIFETIME_VALUE',\n",
       "       'CC_ORDER_FREQUENCY', 'CC_AVERAGE_ORDER_VALUE', 'CC_RECENCY',\n",
       "       'CC_PREFERRED_PAYMENT_METHOD', 'CC_PREFERRED_PRODUCT_CATEGORY',\n",
       "       'CC_PREFERRED_PRODUCT_TYPE', 'CC_AVG_ORDER_PROCESSING_TIME',\n",
       "       'CC_AVG_INVOICE_PROCESSING_TIME', 'CC_AVG_DELIVERY_DELAY',\n",
       "       'CC_AVG_PAYMENT_DELAY', 'CC_TOTAL_ORDERS', 'CC_TOTAL_DELAYS',\n",
       "       'CC_ORDER_CONSISTENCY', 'CC_INVOICE_CONSISTENCY',\n",
       "       'CC_DELIVERY_CONSISTENCY', 'CC_PAYMENT_CONSISTENCY'],\n",
       "      dtype='object')"
      ]
     },
     "execution_count": 75,
     "metadata": {},
     "output_type": "execute_result"
    }
   ],
   "source": [
    "df_train.columns"
   ]
  },
  {
   "cell_type": "code",
   "execution_count": 76,
   "id": "53b0ff9a-5bf2-4fd5-8ef1-005d7be46254",
   "metadata": {},
   "outputs": [],
   "source": [
    "df = df_train[['CUSTOMERID', 'CUSTOMERNAME', 'CUSTOMERTYPE','COMPANYTYPE',\n",
    "               'CUSTOMERSINCE', 'PAYMENTTERMS', 'CREDITLIMITTYPE',\n",
    "               'CONTACTDETAILS','EMAILDETAILS','ADDRESSDETAILS','ADMINDETAILS','CREDITLIMIT', \n",
    "               'CC_CUSTOMER_LIFETIME_VALUE','CC_ORDER_FREQUENCY', 'CC_AVERAGE_ORDER_VALUE', 'CC_RECENCY',\n",
    "               'CC_PREFERRED_PAYMENT_METHOD', 'CC_PREFERRED_PRODUCT_CATEGORY',\n",
    "               'CC_PREFERRED_PRODUCT_TYPE', 'CC_AVG_ORDER_PROCESSING_TIME',\n",
    "               'CC_AVG_INVOICE_PROCESSING_TIME', 'CC_AVG_DELIVERY_DELAY',\n",
    "               'CC_AVG_PAYMENT_DELAY', 'CC_TOTAL_ORDERS', 'CC_TOTAL_DELAYS',\n",
    "               'CC_ORDER_CONSISTENCY', 'CC_INVOICE_CONSISTENCY',\n",
    "               'CC_DELIVERY_CONSISTENCY', 'CC_PAYMENT_CONSISTENCY']]"
   ]
  },
  {
   "cell_type": "code",
   "execution_count": 77,
   "id": "7fd6bb37-979c-45b9-a59a-0e5beb5d50a6",
   "metadata": {},
   "outputs": [
    {
     "data": {
      "text/plain": [
       "(170445, 29)"
      ]
     },
     "execution_count": 77,
     "metadata": {},
     "output_type": "execute_result"
    }
   ],
   "source": [
    "df.shape"
   ]
  },
  {
   "cell_type": "code",
   "execution_count": 78,
   "id": "afc8b9ed-57ae-49e3-8285-deb5459aabd3",
   "metadata": {},
   "outputs": [],
   "source": [
    "df = df.drop_duplicates()"
   ]
  },
  {
   "cell_type": "code",
   "execution_count": 79,
   "id": "adbc11c7-ed92-435b-b983-6463119f4f6f",
   "metadata": {},
   "outputs": [
    {
     "data": {
      "text/plain": [
       "(150, 29)"
      ]
     },
     "execution_count": 79,
     "metadata": {},
     "output_type": "execute_result"
    }
   ],
   "source": [
    "df.shape"
   ]
  },
  {
   "cell_type": "code",
   "execution_count": 80,
   "id": "9621831e-a462-405a-938d-efcc4bffd455",
   "metadata": {},
   "outputs": [
    {
     "data": {
      "text/html": [
       "<div>\n",
       "<style scoped>\n",
       "    .dataframe tbody tr th:only-of-type {\n",
       "        vertical-align: middle;\n",
       "    }\n",
       "\n",
       "    .dataframe tbody tr th {\n",
       "        vertical-align: top;\n",
       "    }\n",
       "\n",
       "    .dataframe thead th {\n",
       "        text-align: right;\n",
       "    }\n",
       "</style>\n",
       "<table border=\"1\" class=\"dataframe\">\n",
       "  <thead>\n",
       "    <tr style=\"text-align: right;\">\n",
       "      <th></th>\n",
       "      <th>CUSTOMERID</th>\n",
       "      <th>CUSTOMERNAME</th>\n",
       "      <th>CUSTOMERTYPE</th>\n",
       "      <th>COMPANYTYPE</th>\n",
       "      <th>CUSTOMERSINCE</th>\n",
       "      <th>PAYMENTTERMS</th>\n",
       "      <th>CREDITLIMITTYPE</th>\n",
       "      <th>CONTACTDETAILS</th>\n",
       "      <th>EMAILDETAILS</th>\n",
       "      <th>ADDRESSDETAILS</th>\n",
       "      <th>...</th>\n",
       "      <th>CC_AVG_ORDER_PROCESSING_TIME</th>\n",
       "      <th>CC_AVG_INVOICE_PROCESSING_TIME</th>\n",
       "      <th>CC_AVG_DELIVERY_DELAY</th>\n",
       "      <th>CC_AVG_PAYMENT_DELAY</th>\n",
       "      <th>CC_TOTAL_ORDERS</th>\n",
       "      <th>CC_TOTAL_DELAYS</th>\n",
       "      <th>CC_ORDER_CONSISTENCY</th>\n",
       "      <th>CC_INVOICE_CONSISTENCY</th>\n",
       "      <th>CC_DELIVERY_CONSISTENCY</th>\n",
       "      <th>CC_PAYMENT_CONSISTENCY</th>\n",
       "    </tr>\n",
       "  </thead>\n",
       "  <tbody>\n",
       "    <tr>\n",
       "      <th>0</th>\n",
       "      <td>CID-c2f0a78d-6978-492f-9f80-7a45887f5ba9</td>\n",
       "      <td>OTTAVA</td>\n",
       "      <td>Food Beverages</td>\n",
       "      <td>Inc</td>\n",
       "      <td>YR-2019</td>\n",
       "      <td>Net 30 days</td>\n",
       "      <td>Low</td>\n",
       "      <td>(307)111-4194</td>\n",
       "      <td>alexandria96@ellis.com</td>\n",
       "      <td>PSC 2299, Box 5692\\nAPO AP 10704</td>\n",
       "      <td>...</td>\n",
       "      <td>4.523524</td>\n",
       "      <td>18.497861</td>\n",
       "      <td>1.495295</td>\n",
       "      <td>-6.050470</td>\n",
       "      <td>1169</td>\n",
       "      <td>-5325</td>\n",
       "      <td>0.910180</td>\n",
       "      <td>11.889411</td>\n",
       "      <td>0.500192</td>\n",
       "      <td>11.885441</td>\n",
       "    </tr>\n",
       "    <tr>\n",
       "      <th>3</th>\n",
       "      <td>CID-e5a83adb-53ac-497f-987a-5577cbd65db5</td>\n",
       "      <td>MetroLink</td>\n",
       "      <td>Automotive</td>\n",
       "      <td>LLC</td>\n",
       "      <td>YR-2019</td>\n",
       "      <td>Net 30 days</td>\n",
       "      <td>High</td>\n",
       "      <td>640.785.2288x68059</td>\n",
       "      <td>masonandre@roberson.biz</td>\n",
       "      <td>1803 Rodriguez Via Suite 729\\nSouth Lindsey, G...</td>\n",
       "      <td>...</td>\n",
       "      <td>12.298561</td>\n",
       "      <td>22.085432</td>\n",
       "      <td>2.985612</td>\n",
       "      <td>-2.426259</td>\n",
       "      <td>1112</td>\n",
       "      <td>622</td>\n",
       "      <td>3.311176</td>\n",
       "      <td>12.977405</td>\n",
       "      <td>1.434991</td>\n",
       "      <td>13.028942</td>\n",
       "    </tr>\n",
       "    <tr>\n",
       "      <th>6</th>\n",
       "      <td>CID-eac5dad7-7206-4c7e-bcd9-28a1de2f468a</td>\n",
       "      <td>Lion Mark</td>\n",
       "      <td>Food Beverages</td>\n",
       "      <td>Ltd</td>\n",
       "      <td>YR-2019</td>\n",
       "      <td>Net 60 days</td>\n",
       "      <td>Very High</td>\n",
       "      <td>034.637.2385</td>\n",
       "      <td>parkjeffrey@weaver.org</td>\n",
       "      <td>6162 Bryant Plains Suite 585\\nWest Jill, ID 95338</td>\n",
       "      <td>...</td>\n",
       "      <td>4.394022</td>\n",
       "      <td>26.237319</td>\n",
       "      <td>1.488225</td>\n",
       "      <td>-18.261775</td>\n",
       "      <td>1104</td>\n",
       "      <td>-18518</td>\n",
       "      <td>0.980129</td>\n",
       "      <td>15.496434</td>\n",
       "      <td>0.500088</td>\n",
       "      <td>15.524185</td>\n",
       "    </tr>\n",
       "    <tr>\n",
       "      <th>7</th>\n",
       "      <td>CID-a070e2ee-afbc-4bee-97e1-468c4676a501</td>\n",
       "      <td>BlueSky Enterprises</td>\n",
       "      <td>Food Beverages</td>\n",
       "      <td>and Sons</td>\n",
       "      <td>YR-2017</td>\n",
       "      <td>Net 60 days</td>\n",
       "      <td>Very High</td>\n",
       "      <td>(452)911-9615</td>\n",
       "      <td>reidjohnathan@wilkerson.net</td>\n",
       "      <td>PSC 4022, Box 4888\\nAPO AA 52929</td>\n",
       "      <td>...</td>\n",
       "      <td>4.536804</td>\n",
       "      <td>24.405745</td>\n",
       "      <td>1.475763</td>\n",
       "      <td>-20.114901</td>\n",
       "      <td>1114</td>\n",
       "      <td>-20764</td>\n",
       "      <td>0.979113</td>\n",
       "      <td>15.826741</td>\n",
       "      <td>0.499637</td>\n",
       "      <td>15.837543</td>\n",
       "    </tr>\n",
       "    <tr>\n",
       "      <th>10</th>\n",
       "      <td>CID-f45ead0a-0861-42ed-98a8-0d0d74efece8</td>\n",
       "      <td>NextGen Solutions</td>\n",
       "      <td>Office Supplies</td>\n",
       "      <td>Inc</td>\n",
       "      <td>YR-2022</td>\n",
       "      <td>Net 60 days</td>\n",
       "      <td>Very High</td>\n",
       "      <td>598-905-4143x873</td>\n",
       "      <td>thomas08@martin.com</td>\n",
       "      <td>5516 Smith Mews\\nLawrencefort, IA 70261</td>\n",
       "      <td>...</td>\n",
       "      <td>10.016627</td>\n",
       "      <td>42.057007</td>\n",
       "      <td>3.148060</td>\n",
       "      <td>-2.456849</td>\n",
       "      <td>1263</td>\n",
       "      <td>873</td>\n",
       "      <td>1.806980</td>\n",
       "      <td>18.799001</td>\n",
       "      <td>1.451627</td>\n",
       "      <td>18.765155</td>\n",
       "    </tr>\n",
       "    <tr>\n",
       "      <th>11</th>\n",
       "      <td>CID-cd90a15c-1a99-4b4e-944c-70ae0ba47012</td>\n",
       "      <td>NexGen</td>\n",
       "      <td>Consumer Goods</td>\n",
       "      <td>Group</td>\n",
       "      <td>YR-2018</td>\n",
       "      <td>Net 15 days</td>\n",
       "      <td>Very Low</td>\n",
       "      <td>+1-321-456-6762</td>\n",
       "      <td>znguyen@jones.org</td>\n",
       "      <td>Unit 7844 Box 5894\\nDPO AA 59911</td>\n",
       "      <td>...</td>\n",
       "      <td>4.523973</td>\n",
       "      <td>23.887842</td>\n",
       "      <td>1.493151</td>\n",
       "      <td>9.370719</td>\n",
       "      <td>1168</td>\n",
       "      <td>12689</td>\n",
       "      <td>0.947340</td>\n",
       "      <td>7.841746</td>\n",
       "      <td>0.500167</td>\n",
       "      <td>7.863035</td>\n",
       "    </tr>\n",
       "    <tr>\n",
       "      <th>14</th>\n",
       "      <td>CID-2e368d39-4d12-41c1-bf69-a535ec888a92</td>\n",
       "      <td>Wire works</td>\n",
       "      <td>Construction Materials</td>\n",
       "      <td>LLC</td>\n",
       "      <td>YR-2018</td>\n",
       "      <td>Net 15 days</td>\n",
       "      <td>Low</td>\n",
       "      <td>418.931.4865</td>\n",
       "      <td>cynthia60@dunn-johnson.org</td>\n",
       "      <td>USNS Miller\\nFPO AP 04341</td>\n",
       "      <td>...</td>\n",
       "      <td>15.001757</td>\n",
       "      <td>21.133568</td>\n",
       "      <td>3.034271</td>\n",
       "      <td>6.619508</td>\n",
       "      <td>1138</td>\n",
       "      <td>10986</td>\n",
       "      <td>1.776916</td>\n",
       "      <td>9.314107</td>\n",
       "      <td>1.438160</td>\n",
       "      <td>9.305725</td>\n",
       "    </tr>\n",
       "  </tbody>\n",
       "</table>\n",
       "<p>7 rows × 29 columns</p>\n",
       "</div>"
      ],
      "text/plain": [
       "                                  CUSTOMERID         CUSTOMERNAME  \\\n",
       "0   CID-c2f0a78d-6978-492f-9f80-7a45887f5ba9               OTTAVA   \n",
       "3   CID-e5a83adb-53ac-497f-987a-5577cbd65db5            MetroLink   \n",
       "6   CID-eac5dad7-7206-4c7e-bcd9-28a1de2f468a            Lion Mark   \n",
       "7   CID-a070e2ee-afbc-4bee-97e1-468c4676a501  BlueSky Enterprises   \n",
       "10  CID-f45ead0a-0861-42ed-98a8-0d0d74efece8    NextGen Solutions   \n",
       "11  CID-cd90a15c-1a99-4b4e-944c-70ae0ba47012               NexGen   \n",
       "14  CID-2e368d39-4d12-41c1-bf69-a535ec888a92           Wire works   \n",
       "\n",
       "              CUSTOMERTYPE COMPANYTYPE CUSTOMERSINCE PAYMENTTERMS  \\\n",
       "0           Food Beverages         Inc       YR-2019  Net 30 days   \n",
       "3               Automotive         LLC       YR-2019  Net 30 days   \n",
       "6           Food Beverages         Ltd       YR-2019  Net 60 days   \n",
       "7           Food Beverages    and Sons       YR-2017  Net 60 days   \n",
       "10         Office Supplies         Inc       YR-2022  Net 60 days   \n",
       "11          Consumer Goods       Group       YR-2018  Net 15 days   \n",
       "14  Construction Materials         LLC       YR-2018  Net 15 days   \n",
       "\n",
       "   CREDITLIMITTYPE      CONTACTDETAILS                 EMAILDETAILS  \\\n",
       "0              Low       (307)111-4194       alexandria96@ellis.com   \n",
       "3             High  640.785.2288x68059      masonandre@roberson.biz   \n",
       "6        Very High        034.637.2385       parkjeffrey@weaver.org   \n",
       "7        Very High       (452)911-9615  reidjohnathan@wilkerson.net   \n",
       "10       Very High    598-905-4143x873          thomas08@martin.com   \n",
       "11        Very Low     +1-321-456-6762            znguyen@jones.org   \n",
       "14             Low        418.931.4865   cynthia60@dunn-johnson.org   \n",
       "\n",
       "                                       ADDRESSDETAILS  ...  \\\n",
       "0                    PSC 2299, Box 5692\\nAPO AP 10704  ...   \n",
       "3   1803 Rodriguez Via Suite 729\\nSouth Lindsey, G...  ...   \n",
       "6   6162 Bryant Plains Suite 585\\nWest Jill, ID 95338  ...   \n",
       "7                    PSC 4022, Box 4888\\nAPO AA 52929  ...   \n",
       "10            5516 Smith Mews\\nLawrencefort, IA 70261  ...   \n",
       "11                   Unit 7844 Box 5894\\nDPO AA 59911  ...   \n",
       "14                          USNS Miller\\nFPO AP 04341  ...   \n",
       "\n",
       "   CC_AVG_ORDER_PROCESSING_TIME  CC_AVG_INVOICE_PROCESSING_TIME  \\\n",
       "0                      4.523524                       18.497861   \n",
       "3                     12.298561                       22.085432   \n",
       "6                      4.394022                       26.237319   \n",
       "7                      4.536804                       24.405745   \n",
       "10                    10.016627                       42.057007   \n",
       "11                     4.523973                       23.887842   \n",
       "14                    15.001757                       21.133568   \n",
       "\n",
       "    CC_AVG_DELIVERY_DELAY  CC_AVG_PAYMENT_DELAY  CC_TOTAL_ORDERS  \\\n",
       "0                1.495295             -6.050470             1169   \n",
       "3                2.985612             -2.426259             1112   \n",
       "6                1.488225            -18.261775             1104   \n",
       "7                1.475763            -20.114901             1114   \n",
       "10               3.148060             -2.456849             1263   \n",
       "11               1.493151              9.370719             1168   \n",
       "14               3.034271              6.619508             1138   \n",
       "\n",
       "    CC_TOTAL_DELAYS CC_ORDER_CONSISTENCY CC_INVOICE_CONSISTENCY  \\\n",
       "0             -5325             0.910180              11.889411   \n",
       "3               622             3.311176              12.977405   \n",
       "6            -18518             0.980129              15.496434   \n",
       "7            -20764             0.979113              15.826741   \n",
       "10              873             1.806980              18.799001   \n",
       "11            12689             0.947340               7.841746   \n",
       "14            10986             1.776916               9.314107   \n",
       "\n",
       "   CC_DELIVERY_CONSISTENCY  CC_PAYMENT_CONSISTENCY  \n",
       "0                 0.500192               11.885441  \n",
       "3                 1.434991               13.028942  \n",
       "6                 0.500088               15.524185  \n",
       "7                 0.499637               15.837543  \n",
       "10                1.451627               18.765155  \n",
       "11                0.500167                7.863035  \n",
       "14                1.438160                9.305725  \n",
       "\n",
       "[7 rows x 29 columns]"
      ]
     },
     "execution_count": 80,
     "metadata": {},
     "output_type": "execute_result"
    }
   ],
   "source": [
    "df.head(7)"
   ]
  },
  {
   "cell_type": "code",
   "execution_count": 81,
   "id": "62acedb8-b6d6-4246-9466-c9766e2c4f03",
   "metadata": {},
   "outputs": [],
   "source": [
    "df_train_sf=my_session.createDataFrame(\n",
    "        df.values.tolist(),\n",
    "        schema=df.columns.tolist())\n",
    "df_train_sf.write.mode(\"overwrite\").save_as_table(\"FDC_HORIZONTAL.O2C_GOLD.ORDER_TO_CASH_CUSTOMER_KPI\")"
   ]
  }
 ],
 "metadata": {
  "kernelspec": {
   "display_name": "Python 3 (ipykernel)",
   "language": "python",
   "name": "python3"
  },
  "language_info": {
   "codemirror_mode": {
    "name": "ipython",
    "version": 3
   },
   "file_extension": ".py",
   "mimetype": "text/x-python",
   "name": "python",
   "nbconvert_exporter": "python",
   "pygments_lexer": "ipython3",
   "version": "3.9.19"
  }
 },
 "nbformat": 4,
 "nbformat_minor": 5
}
