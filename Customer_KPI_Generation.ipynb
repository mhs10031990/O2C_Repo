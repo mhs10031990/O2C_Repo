{
 "cells": [
  {
   "cell_type": "markdown",
   "id": "0bcad55b-31a7-4ec6-99d1-5c1adce88d6e",
   "metadata": {},
   "source": [
    "# Use O2C_Template Customized Notebook Template"
   ]
  },
  {
   "cell_type": "code",
   "execution_count": 1,
   "id": "4545a18a-ac99-4a61-87eb-685a9fc1d216",
   "metadata": {},
   "outputs": [],
   "source": [
    "import pandas as pd\n",
    "import numpy as np"
   ]
  },
  {
   "cell_type": "code",
   "execution_count": 2,
   "id": "fe2d2323-ae3c-4027-b777-5c40e16db890",
   "metadata": {},
   "outputs": [],
   "source": [
    "from fosforml.model_manager.snowflakesession import get_session\n",
    "my_session = get_session()"
   ]
  },
  {
   "cell_type": "code",
   "execution_count": 3,
   "id": "b5958b79-ef81-46ec-8591-926b906584dd",
   "metadata": {},
   "outputs": [],
   "source": [
    "#table_name = 'ORDER_TO_CASH_ENRICHED'\n",
    "table_name = 'ORDER_TO_CASH_MASTER'\n",
    "\n",
    "sf_df = my_session.sql(\"select * from {}\".format(table_name))\n",
    "df = sf_df.to_pandas()"
   ]
  },
  {
   "cell_type": "code",
   "execution_count": 4,
   "id": "1b452a02-6961-49fb-b2cd-ad499a0d21d2",
   "metadata": {},
   "outputs": [],
   "source": [
    "df_train = df[df['INVOICESTATUS'].isin(['LATE_PAYMENT','ONTIME_PAYMENT'])]\n",
    "df_test = df[~df['INVOICESTATUS'].isin(['LATE_PAYMENT','ONTIME_PAYMENT'])]"
   ]
  },
  {
   "cell_type": "code",
   "execution_count": 5,
   "id": "48250bbd-0aab-4c5b-9f78-2bb14e4cee79",
   "metadata": {},
   "outputs": [
    {
     "data": {
      "text/plain": [
       "((170161, 40), (693, 40))"
      ]
     },
     "execution_count": 5,
     "metadata": {},
     "output_type": "execute_result"
    }
   ],
   "source": [
    "df_train.shape, df_test.shape"
   ]
  },
  {
   "cell_type": "code",
   "execution_count": 6,
   "id": "cb32c411-0adf-4d39-9c8a-22613b925acc",
   "metadata": {},
   "outputs": [],
   "source": [
    "# Assuming df is your dataframe\n",
    "df_train['ORDERDATE'] = pd.to_datetime(df_train['ORDERDATE'])\n",
    "df_train['DELIVERYDATE'] = pd.to_datetime(df_train['DELIVERYDATE'])\n",
    "df_train['INVOICEDATE'] = pd.to_datetime(df_train['INVOICEDATE'])\n",
    "df_train['PAYMENTDATE'] = pd.to_datetime(df_train['PAYMENTDATE'])\n",
    "df_train['INVOICEDUEDATE'] = pd.to_datetime(df_train['INVOICEDUEDATE'])"
   ]
  },
  {
   "cell_type": "code",
   "execution_count": 7,
   "id": "983ba561-f1b5-40e7-9405-20ff02923632",
   "metadata": {},
   "outputs": [],
   "source": [
    "df_train['DELIVEREDON'] = pd.to_datetime(df_train['DELIVEREDON'])"
   ]
  },
  {
   "cell_type": "code",
   "execution_count": 8,
   "id": "4f24101f-c430-4861-a5ac-71a752d9baad",
   "metadata": {},
   "outputs": [],
   "source": [
    "# Order Processing Time\n",
    "df_train['OR_ORDER_PROCESSING_TIME'] = (df_train['DELIVERYDATE'] - df_train['ORDERDATE']).dt.days\n",
    "\n",
    "# Invoice Processing Time\n",
    "df_train['OR_INVOICE_PROCESSING_TIME'] = (df_train['PAYMENTDATE'] - df_train['INVOICEDATE']).dt.days\n",
    "\n",
    "# Order Value per Unit\n",
    "df_train['OR_ORDER_VALUE_PER_UNIT'] = df_train['ORDERVALUE'] / df_train['ORDERQUANTITY']"
   ]
  },
  {
   "cell_type": "code",
   "execution_count": 9,
   "id": "f30d55d4-b699-4340-a5da-655c87de0bf5",
   "metadata": {},
   "outputs": [],
   "source": [
    "# Delivery Delay\n",
    "df_train['OR_DELIVERY_DELAY'] = (df_train['DELIVEREDON'] - df_train['DELIVERYDATE']).dt.days"
   ]
  },
  {
   "cell_type": "code",
   "execution_count": 10,
   "id": "027adde3-e175-49c1-8a52-c526f57b11cb",
   "metadata": {},
   "outputs": [],
   "source": [
    "# Payment Delay\n",
    "df_train['OR_PAYMENT_DELAY'] = (df_train['PAYMENTDATE'] - df_train['INVOICEDUEDATE']).dt.days"
   ]
  },
  {
   "cell_type": "code",
   "execution_count": 11,
   "id": "163e876c-ec4c-4a71-b316-b9a6db1f5ba7",
   "metadata": {},
   "outputs": [],
   "source": [
    "# Customer Lifetime Value (CLV)\n",
    "clv = df_train.groupby('CUSTOMERID')['ORDERVALUE'].sum().reset_index()\n",
    "clv.columns = ['CUSTOMERID', 'CC_CUSTOMER_LIFETIME_VALUE']\n",
    "df_train = df_train.merge(clv, on='CUSTOMERID', how='left')"
   ]
  },
  {
   "cell_type": "code",
   "execution_count": 12,
   "id": "6d0685f0-9346-461f-8a16-34be731448bb",
   "metadata": {},
   "outputs": [],
   "source": [
    "# Order Frequency\n",
    "order_freq = df_train.groupby('CUSTOMERID')['ORDERID'].nunique().reset_index()\n",
    "order_freq.columns = ['CUSTOMERID', 'CC_ORDER_FREQUENCY']\n",
    "df_train = df_train.merge(order_freq, on='CUSTOMERID', how='left')"
   ]
  },
  {
   "cell_type": "code",
   "execution_count": 13,
   "id": "223f3d85-715b-4555-a803-3797dded95b2",
   "metadata": {},
   "outputs": [],
   "source": [
    "# Average Order Value\n",
    "avg_order_value = df_train.groupby('CUSTOMERID')['ORDERVALUE'].mean().reset_index()\n",
    "avg_order_value.columns = ['CUSTOMERID', 'CC_AVERAGE_ORDER_VALUE']\n",
    "df_train = df_train.merge(avg_order_value, on='CUSTOMERID', how='left')"
   ]
  },
  {
   "cell_type": "code",
   "execution_count": 14,
   "id": "4099bd9f-a0ec-420c-80d4-d990d70446d8",
   "metadata": {},
   "outputs": [],
   "source": [
    "# Recency\n",
    "latest_order_date = df_train.groupby('CUSTOMERID')['ORDERDATE'].max().reset_index()\n",
    "latest_order_date.columns = ['CUSTOMERID', 'CC_LAST_ORDER_DATE']\n",
    "latest_order_date['CC_RECENCY'] = (pd.to_datetime('today') - latest_order_date['CC_LAST_ORDER_DATE']).dt.days\n",
    "df_train = df_train.merge(latest_order_date[['CUSTOMERID', 'CC_RECENCY']], on='CUSTOMERID', how='left')"
   ]
  },
  {
   "cell_type": "code",
   "execution_count": 15,
   "id": "1196d370-693c-4cb0-a403-f4bec6ccd399",
   "metadata": {},
   "outputs": [],
   "source": [
    "# Preferred Payment Method\n",
    "preferred_payment_method = df_train.groupby('CUSTOMERID')['PAYMENTMETHOD'].agg(lambda x: x.value_counts().index[0]).reset_index()\n",
    "preferred_payment_method.columns = ['CUSTOMERID', 'CC_PREFERRED_PAYMENT_METHOD']\n",
    "df_train = df_train.merge(preferred_payment_method, on='CUSTOMERID', how='left')"
   ]
  },
  {
   "cell_type": "code",
   "execution_count": 16,
   "id": "74939fe8-91d1-4474-8c9b-d541ed677c9b",
   "metadata": {},
   "outputs": [],
   "source": [
    "# Preferred Product Category\n",
    "preferred_product_category = df_train.groupby('CUSTOMERID')['PRODUCTCATEGORY'].agg(lambda x: x.value_counts().index[0]).reset_index()\n",
    "preferred_product_category.columns = ['CUSTOMERID', 'CC_PREFERRED_PRODUCT_CATEGORY']\n",
    "df_train = df_train.merge(preferred_product_category, on='CUSTOMERID', how='left')"
   ]
  },
  {
   "cell_type": "code",
   "execution_count": 17,
   "id": "df5cd292-37a3-42f7-8015-931f065a5f32",
   "metadata": {},
   "outputs": [],
   "source": [
    "# Preferred Product Category\n",
    "preferred_product_type = df_train.groupby('CUSTOMERID')['PRODUCTTYPE'].agg(lambda x: x.value_counts().index[0]).reset_index()\n",
    "preferred_product_type.columns = ['CUSTOMERID', 'CC_PREFERRED_PRODUCT_TYPE']\n",
    "df_train = df_train.merge(preferred_product_type, on='CUSTOMERID', how='left')"
   ]
  },
  {
   "cell_type": "code",
   "execution_count": 18,
   "id": "a48fd59c-16e8-4ced-ba7a-2967e2e10ca3",
   "metadata": {},
   "outputs": [
    {
     "data": {
      "text/plain": [
       "Index(['ORDERID', 'ORDERITEMID', 'PRODUCTID', 'PRODUCTNAME', 'ORDERQUANTITY',\n",
       "       'UNITPRICE', 'ORDERVALUE', 'CUSTOMERID', 'CUSTOMERNAME',\n",
       "       'PRODUCTCATEGORY', 'ORDERDATE', 'ORDERSTATUS', 'ORDERAMOUNT',\n",
       "       'ORDERCOUNT', 'SHIPMENTID', 'SHIPMENTDATE', 'DELIVERYDATE',\n",
       "       'DELIVEREDON', 'CARRIER', 'SHIPMENTSTATUS', 'INVOICEID', 'INVOICEDATE',\n",
       "       'INVOICEDUEDATE', 'PAYMENTDATE', 'INVOICESTATUS', 'PAYMENTMETHOD',\n",
       "       'PRODUCTTYPE', 'QUANTITY', 'COMPANYTYPE', 'CONTACTDETAILS',\n",
       "       'EMAILDETAILS', 'ADDRESSDETAILS', 'ADMINDETAILS', 'CREDITLIMIT',\n",
       "       'CUSTOMERSINCE', 'PAYMENTTERMS', 'CREDITLIMITTYPE', 'CUSTOMERTYPE',\n",
       "       'SUPPLIERNAME', 'SUPPLIERID', 'OR_ORDER_PROCESSING_TIME',\n",
       "       'OR_INVOICE_PROCESSING_TIME', 'OR_ORDER_VALUE_PER_UNIT',\n",
       "       'OR_DELIVERY_DELAY', 'OR_PAYMENT_DELAY', 'CC_CUSTOMER_LIFETIME_VALUE',\n",
       "       'CC_ORDER_FREQUENCY', 'CC_AVERAGE_ORDER_VALUE', 'CC_RECENCY',\n",
       "       'CC_PREFERRED_PAYMENT_METHOD', 'CC_PREFERRED_PRODUCT_CATEGORY',\n",
       "       'CC_PREFERRED_PRODUCT_TYPE'],\n",
       "      dtype='object')"
      ]
     },
     "execution_count": 18,
     "metadata": {},
     "output_type": "execute_result"
    }
   ],
   "source": [
    "df_train.columns"
   ]
  },
  {
   "cell_type": "code",
   "execution_count": 19,
   "id": "3f027c2b-0943-4ed8-a7b7-c716703b4423",
   "metadata": {},
   "outputs": [
    {
     "data": {
      "text/html": [
       "<div>\n",
       "<style scoped>\n",
       "    .dataframe tbody tr th:only-of-type {\n",
       "        vertical-align: middle;\n",
       "    }\n",
       "\n",
       "    .dataframe tbody tr th {\n",
       "        vertical-align: top;\n",
       "    }\n",
       "\n",
       "    .dataframe thead th {\n",
       "        text-align: right;\n",
       "    }\n",
       "</style>\n",
       "<table border=\"1\" class=\"dataframe\">\n",
       "  <thead>\n",
       "    <tr style=\"text-align: right;\">\n",
       "      <th></th>\n",
       "      <th>ORDERID</th>\n",
       "      <th>ORDERITEMID</th>\n",
       "      <th>PRODUCTID</th>\n",
       "      <th>PRODUCTNAME</th>\n",
       "      <th>ORDERQUANTITY</th>\n",
       "      <th>UNITPRICE</th>\n",
       "      <th>ORDERVALUE</th>\n",
       "      <th>CUSTOMERID</th>\n",
       "      <th>CUSTOMERNAME</th>\n",
       "      <th>PRODUCTCATEGORY</th>\n",
       "      <th>...</th>\n",
       "      <th>OR_ORDER_VALUE_PER_UNIT</th>\n",
       "      <th>OR_DELIVERY_DELAY</th>\n",
       "      <th>OR_PAYMENT_DELAY</th>\n",
       "      <th>CC_CUSTOMER_LIFETIME_VALUE</th>\n",
       "      <th>CC_ORDER_FREQUENCY</th>\n",
       "      <th>CC_AVERAGE_ORDER_VALUE</th>\n",
       "      <th>CC_RECENCY</th>\n",
       "      <th>CC_PREFERRED_PAYMENT_METHOD</th>\n",
       "      <th>CC_PREFERRED_PRODUCT_CATEGORY</th>\n",
       "      <th>CC_PREFERRED_PRODUCT_TYPE</th>\n",
       "    </tr>\n",
       "  </thead>\n",
       "  <tbody>\n",
       "    <tr>\n",
       "      <th>170159</th>\n",
       "      <td>OR-749b44b5-42f0-4986-acb9-e593396396ca</td>\n",
       "      <td>OI-eee93794-fc3a-422e-85db-ad0613b4ba90</td>\n",
       "      <td>PID-5ebfa52f-0f4f-4d31-af38-e8c9c75a1593</td>\n",
       "      <td>Granola</td>\n",
       "      <td>7</td>\n",
       "      <td>3</td>\n",
       "      <td>21</td>\n",
       "      <td>CID-7247edbb-6148-4095-973c-5afb2409a37b</td>\n",
       "      <td>Sutura</td>\n",
       "      <td>Food Beverages</td>\n",
       "      <td>...</td>\n",
       "      <td>3.0</td>\n",
       "      <td>2</td>\n",
       "      <td>-18</td>\n",
       "      <td>13149901</td>\n",
       "      <td>530</td>\n",
       "      <td>12488.035138</td>\n",
       "      <td>1</td>\n",
       "      <td>Mobile Payments</td>\n",
       "      <td>Food Beverages</td>\n",
       "      <td>Energy Drink</td>\n",
       "    </tr>\n",
       "    <tr>\n",
       "      <th>170160</th>\n",
       "      <td>OR-749b44b5-42f0-4986-acb9-e593396396ca</td>\n",
       "      <td>OI-6efa3812-cd85-4a3d-a22c-6e9898e1b4e9</td>\n",
       "      <td>PID-3c84d073-9164-4016-9392-f12bf7e339d4</td>\n",
       "      <td>Greek Yogurt</td>\n",
       "      <td>287</td>\n",
       "      <td>3</td>\n",
       "      <td>861</td>\n",
       "      <td>CID-7247edbb-6148-4095-973c-5afb2409a37b</td>\n",
       "      <td>Sutura</td>\n",
       "      <td>Food Beverages</td>\n",
       "      <td>...</td>\n",
       "      <td>3.0</td>\n",
       "      <td>2</td>\n",
       "      <td>-18</td>\n",
       "      <td>13149901</td>\n",
       "      <td>530</td>\n",
       "      <td>12488.035138</td>\n",
       "      <td>1</td>\n",
       "      <td>Mobile Payments</td>\n",
       "      <td>Food Beverages</td>\n",
       "      <td>Energy Drink</td>\n",
       "    </tr>\n",
       "  </tbody>\n",
       "</table>\n",
       "<p>2 rows × 52 columns</p>\n",
       "</div>"
      ],
      "text/plain": [
       "                                        ORDERID  \\\n",
       "170159  OR-749b44b5-42f0-4986-acb9-e593396396ca   \n",
       "170160  OR-749b44b5-42f0-4986-acb9-e593396396ca   \n",
       "\n",
       "                                    ORDERITEMID  \\\n",
       "170159  OI-eee93794-fc3a-422e-85db-ad0613b4ba90   \n",
       "170160  OI-6efa3812-cd85-4a3d-a22c-6e9898e1b4e9   \n",
       "\n",
       "                                       PRODUCTID   PRODUCTNAME  ORDERQUANTITY  \\\n",
       "170159  PID-5ebfa52f-0f4f-4d31-af38-e8c9c75a1593       Granola              7   \n",
       "170160  PID-3c84d073-9164-4016-9392-f12bf7e339d4  Greek Yogurt            287   \n",
       "\n",
       "        UNITPRICE  ORDERVALUE                                CUSTOMERID  \\\n",
       "170159          3          21  CID-7247edbb-6148-4095-973c-5afb2409a37b   \n",
       "170160          3         861  CID-7247edbb-6148-4095-973c-5afb2409a37b   \n",
       "\n",
       "       CUSTOMERNAME PRODUCTCATEGORY  ... OR_ORDER_VALUE_PER_UNIT  \\\n",
       "170159       Sutura  Food Beverages  ...                     3.0   \n",
       "170160       Sutura  Food Beverages  ...                     3.0   \n",
       "\n",
       "       OR_DELIVERY_DELAY  OR_PAYMENT_DELAY  CC_CUSTOMER_LIFETIME_VALUE  \\\n",
       "170159                 2               -18                    13149901   \n",
       "170160                 2               -18                    13149901   \n",
       "\n",
       "       CC_ORDER_FREQUENCY CC_AVERAGE_ORDER_VALUE CC_RECENCY  \\\n",
       "170159                530           12488.035138          1   \n",
       "170160                530           12488.035138          1   \n",
       "\n",
       "       CC_PREFERRED_PAYMENT_METHOD CC_PREFERRED_PRODUCT_CATEGORY  \\\n",
       "170159             Mobile Payments                Food Beverages   \n",
       "170160             Mobile Payments                Food Beverages   \n",
       "\n",
       "       CC_PREFERRED_PRODUCT_TYPE  \n",
       "170159              Energy Drink  \n",
       "170160              Energy Drink  \n",
       "\n",
       "[2 rows x 52 columns]"
      ]
     },
     "execution_count": 19,
     "metadata": {},
     "output_type": "execute_result"
    }
   ],
   "source": [
    "df_train.tail(2)"
   ]
  },
  {
   "cell_type": "code",
   "execution_count": 20,
   "id": "e48e1c08-1667-4d3e-af80-cd1749552945",
   "metadata": {},
   "outputs": [],
   "source": [
    "# Average Order Processing Time\n",
    "avg_order_processing_time = df_train.groupby('CUSTOMERID')['OR_ORDER_PROCESSING_TIME'].mean().reset_index()\n",
    "avg_order_processing_time.columns = ['CUSTOMERID', 'CC_AVG_ORDER_PROCESSING_TIME']"
   ]
  },
  {
   "cell_type": "code",
   "execution_count": 21,
   "id": "1d8e512f-fb4d-490c-a4d6-1fa59c9a7164",
   "metadata": {},
   "outputs": [],
   "source": [
    "# Average Invoice Processing Time\n",
    "avg_invoice_processing_time = df_train.groupby('CUSTOMERID')['OR_INVOICE_PROCESSING_TIME'].mean().reset_index()\n",
    "avg_invoice_processing_time.columns = ['CUSTOMERID', 'CC_AVG_INVOICE_PROCESSING_TIME']"
   ]
  },
  {
   "cell_type": "code",
   "execution_count": 22,
   "id": "40b06a82-58ba-4ec0-b4b3-4c090baff7bd",
   "metadata": {},
   "outputs": [],
   "source": [
    "# Average Delivery Delay\n",
    "avg_delivery_delay = df_train.groupby('CUSTOMERID')['OR_DELIVERY_DELAY'].mean().reset_index()\n",
    "avg_delivery_delay.columns = ['CUSTOMERID', 'CC_AVG_DELIVERY_DELAY']"
   ]
  },
  {
   "cell_type": "code",
   "execution_count": 23,
   "id": "59efd32f-7e69-4fd9-b888-5220c9a2cf5d",
   "metadata": {},
   "outputs": [],
   "source": [
    "# Average Payment Delay\n",
    "avg_payment_delay = df_train.groupby('CUSTOMERID')['OR_PAYMENT_DELAY'].mean().reset_index()\n",
    "avg_payment_delay.columns = ['CUSTOMERID', 'CC_AVG_PAYMENT_DELAY']"
   ]
  },
  {
   "cell_type": "code",
   "execution_count": 24,
   "id": "486df7e3-c941-4f37-bbf8-aa1925321c55",
   "metadata": {},
   "outputs": [
    {
     "data": {
      "text/plain": [
       "Index(['ORDERID', 'ORDERITEMID', 'PRODUCTID', 'PRODUCTNAME', 'ORDERQUANTITY',\n",
       "       'UNITPRICE', 'ORDERVALUE', 'CUSTOMERID', 'CUSTOMERNAME',\n",
       "       'PRODUCTCATEGORY', 'ORDERDATE', 'ORDERSTATUS', 'ORDERAMOUNT',\n",
       "       'ORDERCOUNT', 'SHIPMENTID', 'SHIPMENTDATE', 'DELIVERYDATE',\n",
       "       'DELIVEREDON', 'CARRIER', 'SHIPMENTSTATUS', 'INVOICEID', 'INVOICEDATE',\n",
       "       'INVOICEDUEDATE', 'PAYMENTDATE', 'INVOICESTATUS', 'PAYMENTMETHOD',\n",
       "       'PRODUCTTYPE', 'QUANTITY', 'COMPANYTYPE', 'CONTACTDETAILS',\n",
       "       'EMAILDETAILS', 'ADDRESSDETAILS', 'ADMINDETAILS', 'CREDITLIMIT',\n",
       "       'CUSTOMERSINCE', 'PAYMENTTERMS', 'CREDITLIMITTYPE', 'CUSTOMERTYPE',\n",
       "       'SUPPLIERNAME', 'SUPPLIERID'],\n",
       "      dtype='object')"
      ]
     },
     "execution_count": 24,
     "metadata": {},
     "output_type": "execute_result"
    }
   ],
   "source": [
    "df.columns"
   ]
  },
  {
   "cell_type": "code",
   "execution_count": 25,
   "id": "4ff872da-87b1-40fe-aa4e-4e5ae8dcea23",
   "metadata": {},
   "outputs": [],
   "source": [
    "# Total Orders\n",
    "total_orders = df_train.groupby('CUSTOMERID')['OR_ORDER_PROCESSING_TIME'].count().reset_index()\n",
    "total_orders.columns = ['CUSTOMERID', 'CC_TOTAL_ORDERS']"
   ]
  },
  {
   "cell_type": "code",
   "execution_count": 26,
   "id": "6c3b80bb-3f9f-4d8e-8bd3-971f63a9d751",
   "metadata": {},
   "outputs": [],
   "source": [
    "# Total Delays\n",
    "total_delays = df_train.groupby('CUSTOMERID')[['OR_DELIVERY_DELAY', 'OR_PAYMENT_DELAY']].sum().reset_index()\n",
    "total_delays['CC_TOTAL_DELAYS'] = total_delays['OR_DELIVERY_DELAY'] + total_delays['OR_PAYMENT_DELAY']\n",
    "total_delays = total_delays[['CUSTOMERID', 'CC_TOTAL_DELAYS']]"
   ]
  },
  {
   "cell_type": "code",
   "execution_count": 27,
   "id": "48acbf36-677c-43ac-b2bb-11e0dcb53bf8",
   "metadata": {},
   "outputs": [],
   "source": [
    "# Order Consistency\n",
    "order_consistency = df_train.groupby('CUSTOMERID')['OR_ORDER_PROCESSING_TIME'].std().reset_index()\n",
    "order_consistency.columns = ['CUSTOMERID', 'CC_ORDER_CONSISTENCY']"
   ]
  },
  {
   "cell_type": "code",
   "execution_count": 28,
   "id": "ac45a973-303d-40b9-87a5-afe5dd82c798",
   "metadata": {},
   "outputs": [],
   "source": [
    "# Invoice Consistency\n",
    "invoice_consistency = df_train.groupby('CUSTOMERID')['OR_INVOICE_PROCESSING_TIME'].std().reset_index()\n",
    "invoice_consistency.columns = ['CUSTOMERID', 'CC_INVOICE_CONSISTENCY']"
   ]
  },
  {
   "cell_type": "code",
   "execution_count": 29,
   "id": "374e431c-0dee-4495-b5af-d00be943e416",
   "metadata": {},
   "outputs": [],
   "source": [
    "# Delivery Consistency\n",
    "delivery_consistency = df_train.groupby('CUSTOMERID')['OR_DELIVERY_DELAY'].std().reset_index()\n",
    "delivery_consistency.columns = ['CUSTOMERID', 'CC_DELIVERY_CONSISTENCY']"
   ]
  },
  {
   "cell_type": "code",
   "execution_count": 30,
   "id": "ac17f35a-abcb-4ab0-b26b-d56446cc0446",
   "metadata": {},
   "outputs": [],
   "source": [
    "# Payment Consistency\n",
    "payment_consistency = df_train.groupby('CUSTOMERID')['OR_PAYMENT_DELAY'].std().reset_index()\n",
    "payment_consistency.columns = ['CUSTOMERID', 'CC_PAYMENT_CONSISTENCY']"
   ]
  },
  {
   "cell_type": "code",
   "execution_count": 31,
   "id": "e31e3b8d-e754-46f3-bddb-42c7a11f30bc",
   "metadata": {},
   "outputs": [],
   "source": [
    "# Merging all features into a single dataframe\n",
    "features = [avg_order_processing_time, avg_invoice_processing_time, avg_delivery_delay, avg_payment_delay, total_orders,total_delays, order_consistency, invoice_consistency, delivery_consistency, payment_consistency]\n",
    "customer_features = df[['CUSTOMERID']].drop_duplicates().reset_index(drop=True)"
   ]
  },
  {
   "cell_type": "code",
   "execution_count": 32,
   "id": "eab430fa-ca41-446e-94c1-2b2183c0e584",
   "metadata": {},
   "outputs": [],
   "source": [
    "for feature in features:\n",
    "    customer_features = customer_features.merge(feature, on='CUSTOMERID', how='left')"
   ]
  },
  {
   "cell_type": "code",
   "execution_count": 33,
   "id": "b142e483-a1ad-4940-ae10-325b97e21751",
   "metadata": {},
   "outputs": [],
   "source": [
    "# Merge the new features back into the original dataframe\n",
    "df_train = df_train.merge(customer_features, on='CUSTOMERID', how='left')"
   ]
  },
  {
   "cell_type": "code",
   "execution_count": 34,
   "id": "9e87e0f9-6f7f-49d4-98b9-0d21008f0d20",
   "metadata": {},
   "outputs": [
    {
     "data": {
      "text/plain": [
       "Index(['ORDERID', 'ORDERITEMID', 'PRODUCTID', 'PRODUCTNAME', 'ORDERQUANTITY',\n",
       "       'UNITPRICE', 'ORDERVALUE', 'CUSTOMERID', 'CUSTOMERNAME',\n",
       "       'PRODUCTCATEGORY', 'ORDERDATE', 'ORDERSTATUS', 'ORDERAMOUNT',\n",
       "       'ORDERCOUNT', 'SHIPMENTID', 'SHIPMENTDATE', 'DELIVERYDATE',\n",
       "       'DELIVEREDON', 'CARRIER', 'SHIPMENTSTATUS', 'INVOICEID', 'INVOICEDATE',\n",
       "       'INVOICEDUEDATE', 'PAYMENTDATE', 'INVOICESTATUS', 'PAYMENTMETHOD',\n",
       "       'PRODUCTTYPE', 'QUANTITY', 'COMPANYTYPE', 'CONTACTDETAILS',\n",
       "       'EMAILDETAILS', 'ADDRESSDETAILS', 'ADMINDETAILS', 'CREDITLIMIT',\n",
       "       'CUSTOMERSINCE', 'PAYMENTTERMS', 'CREDITLIMITTYPE', 'CUSTOMERTYPE',\n",
       "       'SUPPLIERNAME', 'SUPPLIERID', 'OR_ORDER_PROCESSING_TIME',\n",
       "       'OR_INVOICE_PROCESSING_TIME', 'OR_ORDER_VALUE_PER_UNIT',\n",
       "       'OR_DELIVERY_DELAY', 'OR_PAYMENT_DELAY', 'CC_CUSTOMER_LIFETIME_VALUE',\n",
       "       'CC_ORDER_FREQUENCY', 'CC_AVERAGE_ORDER_VALUE', 'CC_RECENCY',\n",
       "       'CC_PREFERRED_PAYMENT_METHOD', 'CC_PREFERRED_PRODUCT_CATEGORY',\n",
       "       'CC_PREFERRED_PRODUCT_TYPE', 'CC_AVG_ORDER_PROCESSING_TIME',\n",
       "       'CC_AVG_INVOICE_PROCESSING_TIME', 'CC_AVG_DELIVERY_DELAY',\n",
       "       'CC_AVG_PAYMENT_DELAY', 'CC_TOTAL_ORDERS', 'CC_TOTAL_DELAYS',\n",
       "       'CC_ORDER_CONSISTENCY', 'CC_INVOICE_CONSISTENCY',\n",
       "       'CC_DELIVERY_CONSISTENCY', 'CC_PAYMENT_CONSISTENCY'],\n",
       "      dtype='object')"
      ]
     },
     "execution_count": 34,
     "metadata": {},
     "output_type": "execute_result"
    }
   ],
   "source": [
    "df_train.columns"
   ]
  },
  {
   "cell_type": "code",
   "execution_count": 35,
   "id": "53b0ff9a-5bf2-4fd5-8ef1-005d7be46254",
   "metadata": {},
   "outputs": [],
   "source": [
    "df = df_train[['CUSTOMERID', 'CUSTOMERNAME', 'CUSTOMERTYPE','COMPANYTYPE',\n",
    "               'CUSTOMERSINCE', 'PAYMENTTERMS', 'CREDITLIMITTYPE',\n",
    "               'CONTACTDETAILS','EMAILDETAILS','ADDRESSDETAILS','ADMINDETAILS','CREDITLIMIT', \n",
    "               'CC_CUSTOMER_LIFETIME_VALUE','CC_ORDER_FREQUENCY', 'CC_AVERAGE_ORDER_VALUE', 'CC_RECENCY',\n",
    "               'CC_PREFERRED_PAYMENT_METHOD', 'CC_PREFERRED_PRODUCT_CATEGORY',\n",
    "               'CC_PREFERRED_PRODUCT_TYPE', 'CC_AVG_ORDER_PROCESSING_TIME',\n",
    "               'CC_AVG_INVOICE_PROCESSING_TIME', 'CC_AVG_DELIVERY_DELAY',\n",
    "               'CC_AVG_PAYMENT_DELAY', 'CC_TOTAL_ORDERS', 'CC_TOTAL_DELAYS',\n",
    "               'CC_ORDER_CONSISTENCY', 'CC_INVOICE_CONSISTENCY',\n",
    "               'CC_DELIVERY_CONSISTENCY', 'CC_PAYMENT_CONSISTENCY']]"
   ]
  },
  {
   "cell_type": "code",
   "execution_count": 36,
   "id": "7fd6bb37-979c-45b9-a59a-0e5beb5d50a6",
   "metadata": {},
   "outputs": [
    {
     "data": {
      "text/plain": [
       "(170161, 29)"
      ]
     },
     "execution_count": 36,
     "metadata": {},
     "output_type": "execute_result"
    }
   ],
   "source": [
    "df.shape"
   ]
  },
  {
   "cell_type": "code",
   "execution_count": 37,
   "id": "afc8b9ed-57ae-49e3-8285-deb5459aabd3",
   "metadata": {},
   "outputs": [],
   "source": [
    "df = df.drop_duplicates()"
   ]
  },
  {
   "cell_type": "code",
   "execution_count": 38,
   "id": "adbc11c7-ed92-435b-b983-6463119f4f6f",
   "metadata": {},
   "outputs": [
    {
     "data": {
      "text/plain": [
       "(150, 29)"
      ]
     },
     "execution_count": 38,
     "metadata": {},
     "output_type": "execute_result"
    }
   ],
   "source": [
    "df.shape"
   ]
  },
  {
   "cell_type": "code",
   "execution_count": 40,
   "id": "7641d0b4-62fa-469f-aefa-78aea9de489e",
   "metadata": {},
   "outputs": [
    {
     "data": {
      "text/html": [
       "<div>\n",
       "<style scoped>\n",
       "    .dataframe tbody tr th:only-of-type {\n",
       "        vertical-align: middle;\n",
       "    }\n",
       "\n",
       "    .dataframe tbody tr th {\n",
       "        vertical-align: top;\n",
       "    }\n",
       "\n",
       "    .dataframe thead th {\n",
       "        text-align: right;\n",
       "    }\n",
       "</style>\n",
       "<table border=\"1\" class=\"dataframe\">\n",
       "  <thead>\n",
       "    <tr style=\"text-align: right;\">\n",
       "      <th></th>\n",
       "      <th>CUSTOMERID</th>\n",
       "      <th>CUSTOMERNAME</th>\n",
       "      <th>CUSTOMERTYPE</th>\n",
       "      <th>COMPANYTYPE</th>\n",
       "      <th>CUSTOMERSINCE</th>\n",
       "      <th>PAYMENTTERMS</th>\n",
       "      <th>CREDITLIMITTYPE</th>\n",
       "      <th>CONTACTDETAILS</th>\n",
       "      <th>EMAILDETAILS</th>\n",
       "      <th>ADDRESSDETAILS</th>\n",
       "      <th>...</th>\n",
       "      <th>CC_AVG_ORDER_PROCESSING_TIME</th>\n",
       "      <th>CC_AVG_INVOICE_PROCESSING_TIME</th>\n",
       "      <th>CC_AVG_DELIVERY_DELAY</th>\n",
       "      <th>CC_AVG_PAYMENT_DELAY</th>\n",
       "      <th>CC_TOTAL_ORDERS</th>\n",
       "      <th>CC_TOTAL_DELAYS</th>\n",
       "      <th>CC_ORDER_CONSISTENCY</th>\n",
       "      <th>CC_INVOICE_CONSISTENCY</th>\n",
       "      <th>CC_DELIVERY_CONSISTENCY</th>\n",
       "      <th>CC_PAYMENT_CONSISTENCY</th>\n",
       "    </tr>\n",
       "  </thead>\n",
       "  <tbody>\n",
       "    <tr>\n",
       "      <th>0</th>\n",
       "      <td>CID-a39aa76a-afba-4e60-baad-608d8de86db5</td>\n",
       "      <td>Hammers and Nails</td>\n",
       "      <td>Construction Materials</td>\n",
       "      <td>Ltd</td>\n",
       "      <td>YR-2020</td>\n",
       "      <td>Net 30 days</td>\n",
       "      <td>Low</td>\n",
       "      <td>001-210-646-5688x47857</td>\n",
       "      <td>josephscott@hansen.com</td>\n",
       "      <td>066 Hughes Island Suite 558\\nNorth Ryanborough...</td>\n",
       "      <td>...</td>\n",
       "      <td>14.952668</td>\n",
       "      <td>27.262478</td>\n",
       "      <td>3.107573</td>\n",
       "      <td>2.716867</td>\n",
       "      <td>1162</td>\n",
       "      <td>6768</td>\n",
       "      <td>1.831958</td>\n",
       "      <td>12.911110</td>\n",
       "      <td>1.434638</td>\n",
       "      <td>12.928207</td>\n",
       "    </tr>\n",
       "    <tr>\n",
       "      <th>3</th>\n",
       "      <td>CID-2decf55f-b43b-42ab-a3a1-1d1b6c3d40a4</td>\n",
       "      <td>PreScott Works</td>\n",
       "      <td>Construction Materials</td>\n",
       "      <td>Ltd</td>\n",
       "      <td>YR-2016</td>\n",
       "      <td>Net 60 days</td>\n",
       "      <td>Very High</td>\n",
       "      <td>001-824-063-1538x302</td>\n",
       "      <td>griffithsuzanne@anderson.com</td>\n",
       "      <td>49148 Mclaughlin Groves Suite 661\\nJoannemouth...</td>\n",
       "      <td>...</td>\n",
       "      <td>15.017588</td>\n",
       "      <td>38.266332</td>\n",
       "      <td>2.985762</td>\n",
       "      <td>-6.252094</td>\n",
       "      <td>1194</td>\n",
       "      <td>-3900</td>\n",
       "      <td>1.782995</td>\n",
       "      <td>19.590213</td>\n",
       "      <td>1.380246</td>\n",
       "      <td>19.556849</td>\n",
       "    </tr>\n",
       "  </tbody>\n",
       "</table>\n",
       "<p>2 rows × 29 columns</p>\n",
       "</div>"
      ],
      "text/plain": [
       "                                 CUSTOMERID       CUSTOMERNAME  \\\n",
       "0  CID-a39aa76a-afba-4e60-baad-608d8de86db5  Hammers and Nails   \n",
       "3  CID-2decf55f-b43b-42ab-a3a1-1d1b6c3d40a4     PreScott Works   \n",
       "\n",
       "             CUSTOMERTYPE COMPANYTYPE CUSTOMERSINCE PAYMENTTERMS  \\\n",
       "0  Construction Materials         Ltd       YR-2020  Net 30 days   \n",
       "3  Construction Materials         Ltd       YR-2016  Net 60 days   \n",
       "\n",
       "  CREDITLIMITTYPE          CONTACTDETAILS                  EMAILDETAILS  \\\n",
       "0             Low  001-210-646-5688x47857        josephscott@hansen.com   \n",
       "3       Very High    001-824-063-1538x302  griffithsuzanne@anderson.com   \n",
       "\n",
       "                                      ADDRESSDETAILS  ...  \\\n",
       "0  066 Hughes Island Suite 558\\nNorth Ryanborough...  ...   \n",
       "3  49148 Mclaughlin Groves Suite 661\\nJoannemouth...  ...   \n",
       "\n",
       "  CC_AVG_ORDER_PROCESSING_TIME  CC_AVG_INVOICE_PROCESSING_TIME  \\\n",
       "0                    14.952668                       27.262478   \n",
       "3                    15.017588                       38.266332   \n",
       "\n",
       "   CC_AVG_DELIVERY_DELAY  CC_AVG_PAYMENT_DELAY  CC_TOTAL_ORDERS  \\\n",
       "0               3.107573              2.716867             1162   \n",
       "3               2.985762             -6.252094             1194   \n",
       "\n",
       "   CC_TOTAL_DELAYS CC_ORDER_CONSISTENCY CC_INVOICE_CONSISTENCY  \\\n",
       "0             6768             1.831958              12.911110   \n",
       "3            -3900             1.782995              19.590213   \n",
       "\n",
       "  CC_DELIVERY_CONSISTENCY  CC_PAYMENT_CONSISTENCY  \n",
       "0                1.434638               12.928207  \n",
       "3                1.380246               19.556849  \n",
       "\n",
       "[2 rows x 29 columns]"
      ]
     },
     "execution_count": 40,
     "metadata": {},
     "output_type": "execute_result"
    }
   ],
   "source": [
    "df.head(2)"
   ]
  },
  {
   "cell_type": "code",
   "execution_count": null,
   "id": "62acedb8-b6d6-4246-9466-c9766e2c4f03",
   "metadata": {},
   "outputs": [],
   "source": [
    "df_train_sf=my_session.createDataFrame(\n",
    "        df.values.tolist(),\n",
    "        schema=df.columns.tolist())\n",
    "df_train_sf.write.mode(\"overwrite\").save_as_table(\"FDC_HORIZONTAL.O2C_GOLD.ORDER_TO_CASH_CUSTOMER_KPI\")"
   ]
  }
 ],
 "metadata": {
  "kernelspec": {
   "display_name": "Python 3 (ipykernel)",
   "language": "python",
   "name": "python3"
  },
  "language_info": {
   "codemirror_mode": {
    "name": "ipython",
    "version": 3
   },
   "file_extension": ".py",
   "mimetype": "text/x-python",
   "name": "python",
   "nbconvert_exporter": "python",
   "pygments_lexer": "ipython3",
   "version": "3.9.19"
  }
 },
 "nbformat": 4,
 "nbformat_minor": 5
}
